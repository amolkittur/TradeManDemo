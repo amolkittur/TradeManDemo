{
 "cells": [
  {
   "cell_type": "code",
   "execution_count": null,
   "metadata": {},
   "outputs": [],
   "source": [
    "from arcticdb import Arctic\n",
    "import pandas as pd\n",
    "import pyspark\n",
    "ac =Arctic(\"lmdb://./database/\")"
   ]
  },
  {
   "cell_type": "code",
   "execution_count": null,
   "metadata": {},
   "outputs": [],
   "source": [
    "# ac.create_library('historical_data')\n",
    "ac.list_libraries()\n",
    "library = ac['historical_data']"
   ]
  },
  {
   "cell_type": "code",
   "execution_count": null,
   "metadata": {},
   "outputs": [],
   "source": [
    "df = pd.read_csv(r\"C:\\Users\\user\\Downloads\\Omkar Hegde_NFO\\GFDLNFO_BACKADJUSTED_02052023.csv\")\n",
    "df['Datetime'] = pd.to_datetime(df['Date'] + ' ' + df['Time'])\n",
    "\n",
    "# Set the combined datetime column as the index\n",
    "df.set_index('Datetime', inplace=True)\n",
    "\n",
    "# Drop the 'Date' and 'Time' columns if needed\n",
    "df.drop(['Date', 'Time'], axis=1, inplace=True)\n",
    "\n",
    "# Print the resulting DataFrame\n",
    "print(df)\n",
    "# data = pd.read_csv(r\"C:\\Users\\user\\Downloads\\Omkar Hegde_NFO\\GFDLNFO_BACKADJUSTED_02052023.csv\", parse_dates=['date'], index_col='date')\n",
    "\n",
    "# Write data into arctic\n",
    "library.write('symbol_name', df)\n"
   ]
  },
  {
   "cell_type": "code",
   "execution_count": null,
   "metadata": {},
   "outputs": [],
   "source": [
    "import pandas as pd\n",
    "from arcticdb import Arctic\n"
   ]
  },
  {
   "cell_type": "code",
   "execution_count": null,
   "metadata": {},
   "outputs": [],
   "source": [
    "\n",
    "# Connect to MongoDB\n",
    "store = Arctic(\"lmdb://./database/\")\n",
    "\n",
    "# Create the library - defaults to VersionStore\n",
    "# store.initialize_library('my_library')\n",
    "\n",
    "# Access the library\n",
    "# library = store['my_library']\n",
    "\n",
    "# Read data from csv\n",
    "\n"
   ]
  }
 ],
 "metadata": {
  "kernelspec": {
   "display_name": "Python 3",
   "language": "python",
   "name": "python3"
  },
  "language_info": {
   "codemirror_mode": {
    "name": "ipython",
    "version": 3
   },
   "file_extension": ".py",
   "mimetype": "text/x-python",
   "name": "python",
   "nbconvert_exporter": "python",
   "pygments_lexer": "ipython3",
   "version": "3.10.9"
  },
  "orig_nbformat": 4
 },
 "nbformat": 4,
 "nbformat_minor": 2
}
