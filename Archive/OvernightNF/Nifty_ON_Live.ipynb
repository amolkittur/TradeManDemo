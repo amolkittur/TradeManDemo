{
 "cells": [
  {
   "cell_type": "code",
   "execution_count": 1,
   "metadata": {},
   "outputs": [
    {
     "name": "stdout",
     "output_type": "stream",
     "text": [
      "dFS0buOe4dBTbK3AdfV2i1mG5C2uRBcc\n"
     ]
    }
   ],
   "source": [
    "import pandas as pd\n",
    "import logging\n",
    "import numpy as np\n",
    "from datetime import datetime, timedelta\n",
    "from kiteconnect import KiteConnect\n",
    "\n",
    "#import apikey.py from Brokers folder\n",
    "\n",
    "\n",
    "# Initialise Kite\n",
    "acctkn_file = r'C:\\Users\\user\\Desktop\\GroundUp_Trading\\NiftyStrategy\\Brokers\\acc_token.txt'\n",
    "reqtkn_file = r'C:\\Users\\user\\Desktop\\GroundUp_Trading\\NiftyStrategy\\Brokers\\req_token.txt'\n",
    "kite_access_token = open(acctkn_file,'r').read()\n",
    "kite_request_token = open(reqtkn_file,'r').read()\n",
    "print(kite_access_token)\n",
    "\n",
    "# Load the data\n",
    "df = pd.read_csv(r'C:\\Users\\user\\Desktop\\GroundUp_Trading\\NiftyStrategy\\nf_backtest_consolidated.csv')\n",
    "df['DateTime'] = pd.to_datetime(df['DateTime'], format='%m/%d/%Y %H:%M')\n",
    "\n",
    "df.set_index('DateTime', inplace=True)\n"
   ]
  },
  {
   "cell_type": "code",
   "execution_count": 2,
   "metadata": {},
   "outputs": [],
   "source": [
    "expiry_date = '2023-05-25'\n",
    "tokens = [256265]\n",
    "trading_symbols = []\n",
    "\n",
    "from_date = datetime.today().date()\n",
    "to_date = datetime.today().date()\n",
    "interval = 'minute'\n",
    "qty = 50\n",
    "\n"
   ]
  },
  {
   "cell_type": "code",
   "execution_count": 3,
   "metadata": {},
   "outputs": [],
   "source": [
    "def get_tokens(strike_prc,trend):\n",
    "    global tokens,trading_symbols,expiry_date\n",
    "    instruments_df = pd.read_csv(r'C:\\Users\\user\\Desktop\\GroundUp_Trading\\NiftyStrategy\\Brokers\\instruments.csv')\n",
    "    instruments_df = instruments_df[\n",
    "    [\"instrument_token\", \"tradingsymbol\", \"name\", \"exchange\", \"lot_size\",\"instrument_type\",\"expiry\",\"strike\"]\n",
    "    ]\n",
    "    \n",
    "    if trend == \"Long\":\n",
    "        option_type = \"PE\"\n",
    "    elif trend == \"Short\":\n",
    "        option_type = \"CE\"\n",
    "\n",
    "    # from instruments dataframe, get all instruments for 'NFO' exchange, name =='NIFTY',expiry date is 4thMay2023, strike value between 17000 to 19000\n",
    "    nfo_ins_df = instruments_df[\n",
    "        (instruments_df[\"exchange\"] == \"NFO\")\n",
    "        & (instruments_df[\"name\"] == \"NIFTY\")\n",
    "        & (instruments_df[\"expiry\"] == expiry_date)\n",
    "        & (instruments_df[\"strike\"] == strike_prc)\n",
    "        &(instruments_df[\"instrument_type\"] == option_type)\n",
    "    ]\n",
    "    \n",
    "    tokens.append(nfo_ins_df['instrument_token'].values[0])\n",
    "    trading_symbols.append(nfo_ins_df['tradingsymbol'].values[0])\n",
    "      \n",
    "    token = nfo_ins_df['tradingsymbol'].values[0]\n",
    "    #get the third character from last to eighth character from last from the token\n",
    "    digits = token[-7:-2]\n",
    "    print(digits)\n",
    "  \n",
    "    option_type = token[-2:]\n",
    "    print(option_type)\n",
    "    \n",
    "    if option_type == 'CE':\n",
    "        new_numeric_part = int(digits) + 500\n",
    "    elif option_type == 'PE':\n",
    "        new_numeric_part = int(digits) - 500\n",
    "    else:\n",
    "        print('Error in option type')\n",
    "        \n",
    "    hedge_symbol = token.replace(str(digits), str(new_numeric_part))\n",
    "    trading_symbols.append(hedge_symbol)\n",
    "    \n",
    "    return trading_symbols"
   ]
  },
  {
   "cell_type": "code",
   "execution_count": 4,
   "metadata": {},
   "outputs": [],
   "source": [
    "kite = KiteConnect('6b0dp5ussukmo67h')\n",
    "kite.set_access_token(kite_access_token)"
   ]
  },
  {
   "cell_type": "code",
   "execution_count": 5,
   "metadata": {},
   "outputs": [],
   "source": [
    "nf_hist_data = kite.historical_data(tokens[0], from_date, to_date, interval)\n",
    "\n",
    "# Convert historical_data to pandas dataframe\n",
    "df = pd.DataFrame(nf_hist_data)\n",
    "df = df.set_index('date')\n",
    "\n"
   ]
  },
  {
   "cell_type": "code",
   "execution_count": 20,
   "metadata": {},
   "outputs": [],
   "source": [
    "def place_order(trading_symbol,trade_type):\n",
    "    global qty\n",
    "    kite = KiteConnect('6b0dp5ussukmo67h')\n",
    "    kite.set_access_token(kite_access_token)\n",
    "    if trade_type == 'BUY':\n",
    "        order_type = kite.TRANSACTION_TYPE_BUY\n",
    "    elif trade_type == 'SELL':\n",
    "        order_type = kite.TRANSACTION_TYPE_SELL\n",
    "    else:\n",
    "        logging.info(\"Invalid trade type.\")\n",
    "    print(order_type)\n",
    "    try:\n",
    "        print(\"Placing order...\")\n",
    "        print(trading_symbol,order_type,qty )        \n",
    "              \n",
    "        \n",
    "        order_id = kite.place_order(\n",
    "            variety=kite.VARIETY_REGULAR,\n",
    "            exchange=kite.EXCHANGE_NFO,\n",
    "            tradingsymbol=trading_symbol,\n",
    "            transaction_type=kite.TRANSACTION_TYPE_BUY,\n",
    "            quantity=qty,\n",
    "            product=kite.PRODUCT_NRML,\n",
    "            order_type=kite.ORDER_TYPE_MARKET\n",
    "    )\n",
    "  \n",
    "        logging.info(\"Order placed. ID is: {}\".format(order_id))\n",
    "    except Exception as e:\n",
    "        logging.info(\"Order placement failed: {}\".format(e))\n",
    "    "
   ]
  },
  {
   "cell_type": "code",
   "execution_count": 24,
   "metadata": {},
   "outputs": [
    {
     "name": "stdout",
     "output_type": "stream",
     "text": [
      "Weighted average for previous day: 18280.20582793709\n",
      "Trend: Long\n",
      "18300\n",
      "PE\n",
      "['NIFTY23MAY18300PE', 'NIFTY23MAY17800PE', 'NIFTY23MAY18300PE', 'NIFTY23MAY17800PE', 'NIFTY23MAY18300PE', 'NIFTY23MAY17800PE', 'NIFTY23MAY18300PE', 'NIFTY23MAY17800PE', 'NIFTY23MAY18300PE', 'NIFTY23MAY17800PE', 'NIFTY23MAY18300PE', 'NIFTY23MAY17800PE', 'NIFTY23MAY18300PE', 'NIFTY23MAY17800PE']\n"
     ]
    },
    {
     "ename": "InputException",
     "evalue": "Markets are closed right now. Use GTT for placing long standing orders instead. [Read more.](https://support.zerodha.com/category/trading-and-markets/gtt/articles/what-is-the-good-till-triggered-gtt-feature)",
     "output_type": "error",
     "traceback": [
      "\u001b[1;31m---------------------------------------------------------------------------\u001b[0m",
      "\u001b[1;31mInputException\u001b[0m                            Traceback (most recent call last)",
      "Cell \u001b[1;32mIn[24], line 17\u001b[0m\n\u001b[0;32m     14\u001b[0m symbols \u001b[39m=\u001b[39m get_tokens(strike_prc,trend)\n\u001b[0;32m     15\u001b[0m \u001b[39mprint\u001b[39m(symbols)\n\u001b[1;32m---> 17\u001b[0m kite\u001b[39m.\u001b[39;49mplace_order(\n\u001b[0;32m     18\u001b[0m             variety\u001b[39m=\u001b[39;49mkite\u001b[39m.\u001b[39;49mVARIETY_REGULAR,\n\u001b[0;32m     19\u001b[0m             exchange\u001b[39m=\u001b[39;49mkite\u001b[39m.\u001b[39;49mEXCHANGE_NFO,\n\u001b[0;32m     20\u001b[0m             tradingsymbol\u001b[39m=\u001b[39;49m\u001b[39m'\u001b[39;49m\u001b[39mNIFTY23MAY18300PE\u001b[39;49m\u001b[39m'\u001b[39;49m,\n\u001b[0;32m     21\u001b[0m             transaction_type\u001b[39m=\u001b[39;49mkite\u001b[39m.\u001b[39;49mTRANSACTION_TYPE_BUY,\n\u001b[0;32m     22\u001b[0m             quantity\u001b[39m=\u001b[39;49m\u001b[39m50\u001b[39;49m,\n\u001b[0;32m     23\u001b[0m             product\u001b[39m=\u001b[39;49mkite\u001b[39m.\u001b[39;49mPRODUCT_NRML,\n\u001b[0;32m     24\u001b[0m             order_type\u001b[39m=\u001b[39;49mkite\u001b[39m.\u001b[39;49mORDER_TYPE_MARKET\n\u001b[0;32m     25\u001b[0m     )\n",
      "File \u001b[1;32mc:\\Users\\user\\AppData\\Local\\Programs\\Python\\Python311\\Lib\\site-packages\\kiteconnect\\connect.py:360\u001b[0m, in \u001b[0;36mKiteConnect.place_order\u001b[1;34m(self, variety, exchange, tradingsymbol, transaction_type, quantity, product, order_type, price, validity, validity_ttl, disclosed_quantity, trigger_price, iceberg_legs, iceberg_quantity, auction_number, tag)\u001b[0m\n\u001b[0;32m    357\u001b[0m     \u001b[39mif\u001b[39;00m params[k] \u001b[39mis\u001b[39;00m \u001b[39mNone\u001b[39;00m:\n\u001b[0;32m    358\u001b[0m         \u001b[39mdel\u001b[39;00m (params[k])\n\u001b[1;32m--> 360\u001b[0m \u001b[39mreturn\u001b[39;00m \u001b[39mself\u001b[39;49m\u001b[39m.\u001b[39;49m_post(\u001b[39m\"\u001b[39;49m\u001b[39morder.place\u001b[39;49m\u001b[39m\"\u001b[39;49m,\n\u001b[0;32m    361\u001b[0m                   url_args\u001b[39m=\u001b[39;49m{\u001b[39m\"\u001b[39;49m\u001b[39mvariety\u001b[39;49m\u001b[39m\"\u001b[39;49m: variety},\n\u001b[0;32m    362\u001b[0m                   params\u001b[39m=\u001b[39;49mparams)[\u001b[39m\"\u001b[39m\u001b[39morder_id\u001b[39m\u001b[39m\"\u001b[39m]\n",
      "File \u001b[1;32mc:\\Users\\user\\AppData\\Local\\Programs\\Python\\Python311\\Lib\\site-packages\\kiteconnect\\connect.py:855\u001b[0m, in \u001b[0;36mKiteConnect._post\u001b[1;34m(self, route, url_args, params, is_json, query_params)\u001b[0m\n\u001b[0;32m    853\u001b[0m \u001b[39mdef\u001b[39;00m \u001b[39m_post\u001b[39m(\u001b[39mself\u001b[39m, route, url_args\u001b[39m=\u001b[39m\u001b[39mNone\u001b[39;00m, params\u001b[39m=\u001b[39m\u001b[39mNone\u001b[39;00m, is_json\u001b[39m=\u001b[39m\u001b[39mFalse\u001b[39;00m, query_params\u001b[39m=\u001b[39m\u001b[39mNone\u001b[39;00m):\n\u001b[0;32m    854\u001b[0m \u001b[39m    \u001b[39m\u001b[39m\"\"\"Alias for sending a POST request.\"\"\"\u001b[39;00m\n\u001b[1;32m--> 855\u001b[0m     \u001b[39mreturn\u001b[39;00m \u001b[39mself\u001b[39;49m\u001b[39m.\u001b[39;49m_request(route, \u001b[39m\"\u001b[39;49m\u001b[39mPOST\u001b[39;49m\u001b[39m\"\u001b[39;49m, url_args\u001b[39m=\u001b[39;49murl_args, params\u001b[39m=\u001b[39;49mparams, is_json\u001b[39m=\u001b[39;49mis_json, query_params\u001b[39m=\u001b[39;49mquery_params)\n",
      "File \u001b[1;32mc:\\Users\\user\\AppData\\Local\\Programs\\Python\\Python311\\Lib\\site-packages\\kiteconnect\\connect.py:927\u001b[0m, in \u001b[0;36mKiteConnect._request\u001b[1;34m(self, route, method, url_args, params, is_json, query_params)\u001b[0m\n\u001b[0;32m    925\u001b[0m         \u001b[39m# native Kite errors\u001b[39;00m\n\u001b[0;32m    926\u001b[0m         exp \u001b[39m=\u001b[39m \u001b[39mgetattr\u001b[39m(ex, data\u001b[39m.\u001b[39mget(\u001b[39m\"\u001b[39m\u001b[39merror_type\u001b[39m\u001b[39m\"\u001b[39m), ex\u001b[39m.\u001b[39mGeneralException)\n\u001b[1;32m--> 927\u001b[0m         \u001b[39mraise\u001b[39;00m exp(data[\u001b[39m\"\u001b[39m\u001b[39mmessage\u001b[39m\u001b[39m\"\u001b[39m], code\u001b[39m=\u001b[39mr\u001b[39m.\u001b[39mstatus_code)\n\u001b[0;32m    929\u001b[0m     \u001b[39mreturn\u001b[39;00m data[\u001b[39m\"\u001b[39m\u001b[39mdata\u001b[39m\u001b[39m\"\u001b[39m]\n\u001b[0;32m    930\u001b[0m \u001b[39melif\u001b[39;00m \u001b[39m\"\u001b[39m\u001b[39mcsv\u001b[39m\u001b[39m\"\u001b[39m \u001b[39min\u001b[39;00m r\u001b[39m.\u001b[39mheaders[\u001b[39m\"\u001b[39m\u001b[39mcontent-type\u001b[39m\u001b[39m\"\u001b[39m]:\n",
      "\u001b[1;31mInputException\u001b[0m: Markets are closed right now. Use GTT for placing long standing orders instead. [Read more.](https://support.zerodha.com/category/trading-and-markets/gtt/articles/what-is-the-good-till-triggered-gtt-feature)"
     ]
    }
   ],
   "source": [
    "nf_df = df.copy()\n",
    "\n",
    "spot_prc = nf_df['close'].iloc[-1]\n",
    "strike_prc = int(round(spot_prc/100,0)*100)\n",
    "\n",
    "# Calculate the 15 min weighted average and the trend\n",
    "previous_day_weighted_average = np.average(nf_df.between_time('14:30', '15:15')['close'], \n",
    "                                            weights=range(1, len(nf_df.between_time('14:30', '15:15')) + 1))\n",
    "print(f\"Weighted average for previous day: {previous_day_weighted_average}\")\n",
    "\n",
    "trend = 'Long' if nf_df.at_time('15:15')['close'].values[0] - previous_day_weighted_average > 0 else 'Short'\n",
    "print(f\"Trend: {trend}\")\n",
    "\n",
    "symbols = get_tokens(strike_prc,trend)\n",
    "print(symbols)\n"
   ]
  },
  {
   "cell_type": "code",
   "execution_count": 22,
   "metadata": {},
   "outputs": [
    {
     "name": "stdout",
     "output_type": "stream",
     "text": [
      "BUY\n",
      "Placing order...\n",
      "NIFTY23MAY18300PE BUY 50\n",
      "SELL\n",
      "Placing order...\n",
      "NIFTY23MAY17800PE SELL 50\n"
     ]
    }
   ],
   "source": [
    "# Place orders\n",
    "if trend == 'Long':\n",
    "    place_order(symbols[0],'BUY')\n",
    "    place_order(symbols[1],'SELL')\n",
    "elif trend == 'Short':\n",
    "    place_order(symbols[0],'SELL')\n",
    "    place_order(symbols[1],'BUY')"
   ]
  },
  {
   "cell_type": "code",
   "execution_count": null,
   "metadata": {},
   "outputs": [],
   "source": []
  }
 ],
 "metadata": {
  "kernelspec": {
   "display_name": "Python 3",
   "language": "python",
   "name": "python3"
  },
  "language_info": {
   "codemirror_mode": {
    "name": "ipython",
    "version": 3
   },
   "file_extension": ".py",
   "mimetype": "text/x-python",
   "name": "python",
   "nbconvert_exporter": "python",
   "pygments_lexer": "ipython3",
   "version": "3.11.2"
  },
  "orig_nbformat": 4
 },
 "nbformat": 4,
 "nbformat_minor": 2
}
