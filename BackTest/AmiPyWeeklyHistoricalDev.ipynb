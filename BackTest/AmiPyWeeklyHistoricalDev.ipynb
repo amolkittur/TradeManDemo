{
 "cells": [
  {
   "cell_type": "code",
   "execution_count": 1,
   "metadata": {},
   "outputs": [],
   "source": [
    "import pandas as pd\n",
    "import numpy as np\n",
    "import plotly.graph_objs as go\n",
    "import plotly.offline as pyo\n",
    "from dateutil import parser\n",
    "from Strategies import AmipyNF\n",
    "from kiteconnect import KiteConnect\n",
    "from Brokers import apikey\n",
    "\n",
    "import pandas as pd\n",
    "from kiteconnect import KiteConnect\n",
    "import undetected_chromedriver as uc\n",
    "from selenium.webdriver.support.ui import WebDriverWait\n",
    "from selenium.webdriver.common.by import By\n",
    "from datetime import datetime\n",
    "import time, pyotp\n",
    "\n",
    "import logging\n",
    "from kiteconnect import KiteTicker\n",
    "from kiteconnect import KiteConnect\n",
    "from Brokers import apikey\n",
    "from datetime import datetime\n",
    "import time"
   ]
  },
  {
   "cell_type": "code",
   "execution_count": 2,
   "metadata": {},
   "outputs": [
    {
     "name": "stdout",
     "output_type": "stream",
     "text": [
      "OgsugX2hN7497sGgE1Kf26RqAQojS8JU\n"
     ]
    }
   ],
   "source": [
    "acctkn_file = r'Brokers\\acc_token.txt'\n",
    "reqtkn_file = r'Brokers\\req_token.txt'\n",
    "kite_access_token = open(acctkn_file,'r').read()\n",
    "kite_request_token = open(reqtkn_file,'r').read()\n",
    "print(kite_access_token)"
   ]
  },
  {
   "cell_type": "code",
   "execution_count": 3,
   "metadata": {},
   "outputs": [],
   "source": [
    "expiry_date = '2023-05-25'\n",
    "tokens = [256265]\n",
    "strike_prc = 18200\n",
    "\n",
    "from_date = '2023-05-17'\n",
    "to_date = '2023-05-19'\n",
    "interval = 'minute'"
   ]
  },
  {
   "cell_type": "code",
   "execution_count": 4,
   "metadata": {},
   "outputs": [
    {
     "data": {
      "text/plain": [
       "[256265, 18845442, 18845698]"
      ]
     },
     "execution_count": 4,
     "metadata": {},
     "output_type": "execute_result"
    }
   ],
   "source": [
    "# for given strike price and option type, get instrument token from instruments.csv\n",
    "\n",
    "instruments_df = pd.read_csv(r'Brokers\\instruments.csv')\n",
    "\n",
    "instruments_df = instruments_df[\n",
    "    [\"instrument_token\", \"tradingsymbol\", \"name\", \"exchange\", \"lot_size\",\"instrument_type\",\"expiry\",\"strike\"]\n",
    "]\n",
    "\n",
    "# from instruments dataframe, get all instruments for 'NFO' exchange, name =='NIFTY',expiry date is 4thMay2023, strike value between 17000 to 19000\n",
    "nfo_ins_df = instruments_df[\n",
    "    (instruments_df[\"exchange\"] == \"NFO\")\n",
    "    & (instruments_df[\"name\"] == \"NIFTY\")\n",
    "    & (instruments_df[\"expiry\"] == expiry_date)\n",
    "    & (instruments_df[\"strike\"] == strike_prc)\n",
    "]    \n",
    "tokens.append(nfo_ins_df['instrument_token'].values[0])\n",
    "tokens.append(nfo_ins_df['instrument_token'].values[1])\n",
    "tokens"
   ]
  },
  {
   "cell_type": "code",
   "execution_count": 5,
   "metadata": {},
   "outputs": [],
   "source": [
    "kite = KiteConnect(apikey.kite_api_key)\n",
    "kite.set_access_token(kite_access_token)"
   ]
  },
  {
   "cell_type": "code",
   "execution_count": 6,
   "metadata": {},
   "outputs": [],
   "source": [
    "holidays = ['2023-05-01', '2023-06-16']  # Add all trading holidays here\n",
    "\n",
    "# Remove the holidays from the resampled dataframe\n",
    "def remove_holiday_data(df, holidays):\n",
    "    \n",
    "    print(\"Before\",len(df))\n",
    "    \n",
    "    # Convert the holidays list into a set for faster lookup\n",
    "    holidays_set = set(pd.to_datetime(holiday).date() for holiday in holidays)\n",
    "\n",
    "    # Create a boolean mask to identify rows with dates not in the holidays set\n",
    "    mask = [date not in holidays_set for date in df.index.date]\n",
    "\n",
    "    # Apply the mask to the DataFrame to remove rows with dates in the holidays set\n",
    "    df = df[mask]\n",
    "    \n",
    "    print(\"After\",len(df))\n",
    "    \n",
    "    return df"
   ]
  },
  {
   "cell_type": "code",
   "execution_count": 7,
   "metadata": {},
   "outputs": [],
   "source": [
    "# Supertrend params\n",
    "Heikin_Ashi_MA_period = 13\n",
    "Supertrend_period = 7\n",
    "Supertrend_multiplier = 18\n",
    "EMA_period = 324"
   ]
  },
  {
   "cell_type": "code",
   "execution_count": 8,
   "metadata": {},
   "outputs": [],
   "source": [
    "def moving_average(df, HA_MA_period):\n",
    "    MA_open = pd.Series(df['open'].rolling(HA_MA_period, min_periods=HA_MA_period).mean(), name='MA_open')\n",
    "    MA_high = pd.Series(df['high'].rolling(HA_MA_period, min_periods=HA_MA_period).mean(), name='MA_high')\n",
    "    MA_low = pd.Series(df['low'].rolling(HA_MA_period, min_periods=HA_MA_period).mean(), name='MA_low')\n",
    "    MA_close = pd.Series(df['close'].rolling(HA_MA_period, min_periods=HA_MA_period).mean(), name='MA_close')\n",
    "    \n",
    "    df = df.join(MA_open).join(MA_close).join(MA_high).join(MA_low)\n",
    "    return df"
   ]
  },
  {
   "cell_type": "code",
   "execution_count": 9,
   "metadata": {},
   "outputs": [],
   "source": [
    "def HeikinAshi(ma_df):\n",
    "    ha_df = pd.DataFrame(index=ma_df.index)\n",
    "\n",
    "    ha_df['ha_close'] = (ma_df['MA_open'] + ma_df['MA_high'] + ma_df['MA_high'] + ma_df['MA_close']) / 4\n",
    "\n",
    "    ha_df['ha_open'] = ha_df['ha_close'].shift(1).ewm(alpha=0.5, adjust=False).mean()\n",
    "\n",
    "    ha_df['ha_high'] = ma_df['MA_high'].combine(ha_df['ha_close'], max).combine(ha_df['ha_open'], max)\n",
    "\n",
    "    ha_df['ha_low'] = ma_df['MA_close'].combine(ha_df['ha_close'], min).combine(ha_df['ha_open'], min)\n",
    "\n",
    "    ma_df = pd.concat([ma_df, ha_df], axis=1)\n",
    "    "
   ]
  },
  {
   "cell_type": "code",
   "execution_count": 10,
   "metadata": {},
   "outputs": [],
   "source": [
    "def atr(df, period):\n",
    "    true_range = pd.Series(index=df.index)\n",
    "    for i in range(1, len(df)):\n",
    "        high_low = df['high'][i] - df['low'][i]\n",
    "        high_prev_close = abs(df['high'][i] - df['close'][i - 1])\n",
    "        low_prev_close = abs(df['low'][i] - df['close'][i - 1])\n",
    "        true_range[i] = max(high_low, high_prev_close, low_prev_close)\n",
    "    return true_range.ewm(span=period, adjust=False).mean()"
   ]
  },
  {
   "cell_type": "code",
   "execution_count": 20,
   "metadata": {},
   "outputs": [],
   "source": [
    "def supertrend(ma_df):\n",
    "    # Supertrend params\n",
    "    global Heikin_Ashi_MA_period\n",
    "    global Supertrend_period\n",
    "    global Supertrend_multiplier\n",
    "    global EMA_period\n",
    "    # Calculate Average True Range (ATR)\n",
    "    average_true_range = atr(ma_df, Supertrend_period)\n",
    "    ma_df['ATR'] = average_true_range\n",
    "\n",
    "    # Calculate Heikin-Ashi values\n",
    "    ha_close = (ma_df['open'] + ma_df['high'] + ma_df['low'] + ma_df['close']) / 4\n",
    "    ha_open = (ma_df['open'].shift(1) + ma_df['close'].shift(1)) / 2\n",
    "    ha_high = ma_df[['high', 'open', 'close']].max(axis=1)\n",
    "    ha_low = ma_df[['low', 'open', 'close']].min(axis=1)\n",
    "\n",
    "    # Calculate Up and Dn lines\n",
    "    up = (ha_high + ha_low) / 2 + Supertrend_multiplier * average_true_range\n",
    "    dn = (ha_high + ha_low) / 2 - Supertrend_multiplier * average_true_range\n",
    "\n",
    "    # Initialize variables\n",
    "    trend = np.zeros(len(ma_df))\n",
    "    trend[0] = 1\n",
    "    trend_up = pd.Series(index=ma_df.index)\n",
    "    trend_down = pd.Series(index=ma_df.index)\n",
    "\n",
    "    change_of_trend = 0\n",
    "    flag = flagh = 0\n",
    "\n",
    "    # calulating change of trend\n",
    "    for i in range(1, len(ma_df)):\n",
    "        change_of_trend = 0\n",
    "        \n",
    "        if ha_close[i] > up[i - 1]:\n",
    "            trend[i] = 1\n",
    "            if trend[i-1] == -1:\n",
    "                change_of_trend = 1\n",
    "        elif ha_close[i] < dn[i - 1]:\n",
    "            trend[i] = -1\n",
    "            if trend[i-1] == 1:\n",
    "                change_of_trend = 1\n",
    "        else:\n",
    "            trend[i] = trend[i - 1]\n",
    "\n",
    "        if trend[i] < 0 and trend[i-1] > 0:\n",
    "            flag = 1\n",
    "        else:\n",
    "            flag = 0\n",
    "\n",
    "        if trend[i] > 0 and trend[i-1] < 0:\n",
    "            flagh = 1\n",
    "        else:\n",
    "            flagh = 0\n",
    "\n",
    "        if trend[i] > 0 and dn[i] < dn[i - 1]:\n",
    "            dn[i] = dn[i - 1]\n",
    "\n",
    "        if trend[i] < 0 and up[i] > up[i - 1]:\n",
    "            up[i] = up[i - 1]\n",
    "\n",
    "        if flag == 1:\n",
    "            up[i] = (ha_high[i] + ha_low[i]) / 2 + Supertrend_multiplier * average_true_range[i]\n",
    "\n",
    "        if flagh == 1:\n",
    "            dn[i] = (ha_high[i] + ha_low[i]) / 2 - Supertrend_multiplier * average_true_range[i]\n",
    "\n",
    "        trend_up[i] = dn[i] if trend[i] > 0 else np.nan\n",
    "        trend_down[i] = up[i] if trend[i] < 0 else np.nan\n",
    "\n",
    "        if change_of_trend == 1:\n",
    "            if trend[i] == 1:\n",
    "                trend_up[i - 1] = trend_down[i - 1]\n",
    "            elif trend[i] == -1:\n",
    "                trend_down[i - 1] = trend_up[i - 1]\n",
    "\n",
    "    # Create a new DataFrame with calculated values\n",
    "    result = ma_df.copy()\n",
    "\n",
    "    # result['strike_prc'] = ma_df[]    \n",
    "    result['ATR'] = average_true_range\n",
    "    result[\"EMA\"] = result[\"close\"].ewm(span=EMA_period, adjust=False).mean()\n",
    "    result['Up'] = up\n",
    "    result['Dn'] = dn\n",
    "    result['Trend'] = trend\n",
    "    result['TrendUp'] = trend_up\n",
    "    result['TrendDown'] = trend_down\n",
    "    result['TrendSL'] = np.where(result['Trend'] == 1, result['TrendUp'], result['TrendDown'])\n",
    "    #result.set_index('date', inplace=True)\n",
    "    columns_order = ['close', 'MA_open', 'MA_close', 'MA_high', 'MA_low','ATR','Up', 'Dn', 'Trend', 'TrendUp',\n",
    "                    'TrendDown', 'TrendSL','EMA','open', 'high', 'low']\n",
    "\n",
    "    result = result[columns_order]\n",
    "    result.to_csv(f'amipy_result_dev.csv', index=True)\n",
    "    return result"
   ]
  },
  {
   "cell_type": "code",
   "execution_count": 12,
   "metadata": {},
   "outputs": [],
   "source": [
    "def genSignals(resultdf):\n",
    "    # Time params\n",
    "    entry_time = pd.Timestamp(\"09:21:00\").time()\n",
    "    last_buy_time = pd.Timestamp(\"14:50:00\").time()\n",
    "    sqroff_time = pd.Timestamp(\"14:58:00\").time()     \n",
    "    counter = 0\n",
    "    signals = []\n",
    "    trade_no = 1\n",
    "    current_position = None\n",
    "    global last_signal_minute, tokens,trade_state_df\n",
    "    trade_state = {'in_trade': False, 'trade_points': 0, 'TrendSL': 0, 'close': 0, 'TradeEntryPrice': 0, 'SL_points': 0}\n",
    "\n",
    "    long_indices = []\n",
    "    longcover_indices = []\n",
    "    short_indices = []\n",
    "    shortcover_indices = []\n",
    "    \n",
    "\n",
    "    def long(df, i):\n",
    "        return (df.loc[df.index[i], \"Trend\"] == 1) & (df.loc[df.index[i], \"close\"] > df.loc[df.index[i], \"EMA\"]) & (df.index[i].time() > entry_time) & (df.index[i].time() < sqroff_time) & (df.index[i].time() < last_buy_time)\n",
    "\n",
    "    def longcover(df, i):\n",
    "        return (df.loc[df.index[i], \"Trend\"] == -1) | (df.index[i].time() > sqroff_time)\n",
    "\n",
    "    def short(df, i):\n",
    "        return (df.loc[df.index[i], \"Trend\"] == -1) & (df.loc[df.index[i], \"close\"] < df.loc[df.index[i], \"EMA\"]) & (df.index[i].time() > entry_time) & (df.index[i].time() < sqroff_time) & (df.index[i].time() < last_buy_time)\n",
    "\n",
    "    def shortcover(df, i):\n",
    "        return (df.loc[df.index[i], \"Trend\"] == 1) | (df.index[i].time() > sqroff_time)\n",
    "\n",
    "    \n",
    "    for i in range(1, len(resultdf)):\n",
    "        current_time = resultdf.index[i]\n",
    "        current_minute = current_time.floor('T')\n",
    "        current_close = resultdf.loc[current_time, 'close']\n",
    "        trend_sl = resultdf.loc[current_time, 'TrendSL']\n",
    "\n",
    "        if current_position is None:\n",
    "            if long(resultdf, i):\n",
    "                counter += 1\n",
    "                current_position = 'Long'\n",
    "                long_indices.append(resultdf.index[i])\n",
    "                \n",
    "                signal = {\n",
    "                    # 'Strike_Price': resultdf.index[i]['strike_prce_ce'],\n",
    "                    'Trade_No': trade_no,\n",
    "                    'Trade_Type': current_position,\n",
    "                    'Date': current_time.date(),\n",
    "                    'TradeEntryTime': current_time.time(),\n",
    "                    'TradeEntryPrice': current_close,\n",
    "                }\n",
    "                signals.append(signal)\n",
    "                trade_state['in_trade'] = True\n",
    "                trade_state['TradeEntryPrice'] = current_close\n",
    "                trade_state['TrendSL'] = trend_sl\n",
    "                trade_state['SL_points'] = current_close - trend_sl\n",
    "                signals_df = pd.DataFrame(signals)\n",
    "                signals_df.to_csv('amiNF_trd_sig_liv.csv', index=True)\n",
    "                        \n",
    "\n",
    "            elif short(resultdf, i):\n",
    "                current_position = 'Short'\n",
    "                short_indices.append(resultdf.index[i])\n",
    "\n",
    "                signal = {\n",
    "                    # 'Strike_Price': resultdf.index[i]['strike_prce_ce'],\n",
    "                    'Trade_No': trade_no,\n",
    "                    'Trade_Type': current_position,\n",
    "                    'Date': current_time.date(),\n",
    "                    'TradeEntryTime': current_time.time(),\n",
    "                    'TradeEntryPrice': current_close,\n",
    "                }\n",
    "                signals.append(signal)\n",
    "                trade_state['in_trade'] = True\n",
    "                trade_state['TradeEntryPrice'] = current_close\n",
    "                trade_state['TrendSL'] = trend_sl\n",
    "                trade_state['SL_points'] = trend_sl - current_close\n",
    "                signals_df = pd.DataFrame(signals)\n",
    "                signals_df.to_csv('amiNF_trd_sig_liv.csv', index=True)\n",
    "        else:\n",
    "            if current_position == 'Long' and longcover(resultdf, i):\n",
    "                longcover_indices.append(resultdf.index[i])\n",
    "\n",
    "                last_signal = signals[-1]\n",
    "                last_signal.update({\n",
    "                    'TradeExitTime': current_time.time(),\n",
    "                    'TradeExitPrice': current_close,\n",
    "                })\n",
    "                last_signal['NetTradePoints'] = last_signal['TradeExitPrice'] - last_signal['TradeEntryPrice']\n",
    "                trade_no += 1\n",
    "                trade_state['in_trade'] = False\n",
    "                trade_state['trade_points'] = current_close - trade_state['TradeEntryPrice']\n",
    "                trade_state['TrendSL'] = 0\n",
    "                trade_state['SL_points'] = 0\n",
    "                signals_df = pd.DataFrame(signals)\n",
    "                signals_df.to_csv('amiNF_trd_sig_liv.csv', index=True)\n",
    "                current_position = None\n",
    "                \n",
    "\n",
    "            elif current_position == 'Short' and shortcover(resultdf, i):\n",
    "                shortcover_indices.append(resultdf.index[i])\n",
    "                \n",
    "                last_signal = signals[-1]\n",
    "                last_signal.update({\n",
    "                    'TradeExitTime': current_time.time(),\n",
    "                    'TradeExitPrice': current_close,\n",
    "                })\n",
    "                last_signal['NetTradePoints'] = last_signal['TradeEntryPrice'] - last_signal['TradeExitPrice']\n",
    "                trade_no += 1\n",
    "                trade_state['in_trade'] = False\n",
    "                trade_state['trade_points'] = trade_state['TradeEntryPrice'] - current_close\n",
    "                trade_state['TrendSL'] = 0\n",
    "                trade_state['SL_points'] = 0\n",
    "                signals_df = pd.DataFrame(signals)\n",
    "                signals_df.to_csv('amiNF_trd_sig_liv.csv', index=True)\n",
    "                current_position = None                   \n",
    "        \n",
    "        trade_state_df = pd.DataFrame([trade_state])  # convert dictionary to DataFrame\n",
    "        trade_state_df.to_csv('trade_state.csv', index=False)  # write DataFrame to CSV\n",
    "        \n",
    "        resultdf['LongSignal'] = 0\n",
    "        resultdf['ShortSignal'] = 0\n",
    "        resultdf['LongCoverSignal'] = 0\n",
    "        resultdf['ShortCoverSignal'] = 0\n",
    "\n",
    "        resultdf.loc[long_indices, 'LongSignal'] = 1\n",
    "        resultdf.loc[short_indices, 'ShortSignal'] = 1\n",
    "        resultdf.loc[longcover_indices, 'LongCoverSignal'] = 1\n",
    "        resultdf.loc[shortcover_indices, 'ShortCoverSignal'] = 1\n",
    "        resultdf.to_csv(f'amipy_genSignals.csv', index=True)\n",
    "\n",
    "    return signals_df,resultdf"
   ]
  },
  {
   "cell_type": "code",
   "execution_count": 13,
   "metadata": {},
   "outputs": [
    {
     "name": "stdout",
     "output_type": "stream",
     "text": [
      "Before 1127\n",
      "After 1127\n"
     ]
    }
   ],
   "source": [
    "nf_hist_data = kite.historical_data(tokens[0], from_date, to_date, interval)\n",
    "call_hist_data = kite.historical_data(tokens[1], from_date, to_date, interval)\n",
    "put_hist_data = kite.historical_data(tokens[2], from_date, to_date, interval)\n",
    "\n",
    "# Convert historical_data to pandas dataframe\n",
    "nf_df = pd.DataFrame(nf_hist_data)\n",
    "nf_df = nf_df.set_index('date')\n",
    "\n",
    "# add instrument token variable as column to nf_df\n",
    "nf_df['instrument_token'] = tokens[0]\n",
    "\n",
    "nf_call_df = pd.DataFrame(call_hist_data)\n",
    "nf_call_df = nf_call_df.set_index('date')\n",
    "nf_call_df['instrument_token'] = tokens[1]\n",
    "\n",
    "nf_put_df = pd.DataFrame(put_hist_data)\n",
    "nf_put_df = nf_put_df.set_index('date')\n",
    "nf_put_df['instrument_token'] = tokens[2]\n",
    "\n",
    "trans_df = nf_call_df.add(nf_put_df, fill_value=0)\n",
    "\n",
    "# combine combined_df and nf_df renaming columns of nf_df to 'nf_' + column name\n",
    "trans_df = pd.concat([trans_df, nf_df.add_prefix('nf_')], axis=1)\n",
    "\n",
    "# Resample the DataFrame at 1-minute intervals\n",
    "resampled_df = trans_df.resample(\"1T\").asfreq()\n",
    "resampled_df = resampled_df.interpolate(method=\"time\")\n",
    "\n",
    "# Drop all rows from resampled_df when date is saturday or sunday\n",
    "resampled_df = resampled_df[resampled_df.index.dayofweek < 5]\n",
    "\n",
    "# Drop all rows from resampled_df when time is before 9:15 or after 15:30\n",
    "resampled_df = resampled_df.between_time(\"09:15\", \"15:30\")\n",
    "\n",
    "resampled_df = remove_holiday_data(resampled_df,holidays)\n",
    "\n",
    "resampled_df = resampled_df.drop(['volume','nf_volume','nf_instrument_token','nf_high','nf_low','nf_open'], axis=1)\n",
    "\n",
    "\n",
    "resampled_df.to_csv(f'ce_{tokens[1]}_df.csv', index=True)\n"
   ]
  },
  {
   "cell_type": "code",
   "execution_count": 17,
   "metadata": {},
   "outputs": [],
   "source": [
    "ma_df = moving_average(resampled_df, Heikin_Ashi_MA_period)\n",
    "# print(ma_df)\n",
    "merged_df2 = supertrend(ma_df)\n",
    "results = genSignals(merged_df2)\n",
    "signalsdf = results[0]\n",
    "merged_df2 = results[1]\n",
    "merged_df2.to_csv(f'amipy_merged_df2.csv', index=True)\n"
   ]
  },
  {
   "cell_type": "code",
   "execution_count": 18,
   "metadata": {},
   "outputs": [],
   "source": [
    "def plotly_plot(merged_df2):\n",
    "    #global trade_state_df\n",
    "    # Define the custom shapes (background color) for each day\n",
    "    shapes = []\n",
    "    colors = [\"white\", \"#C23B22\", \"#5F9EA0\", \"#F5DEB3\", \"black\"]\n",
    "    holidayz = [datetime.strptime(date_str, '%Y-%m-%d').date() for date_str in ['2023-05-01', '2023-06-16']]\n",
    "\n",
    "    # print datatypes of resultdf columns including index\n",
    "    for i, date in enumerate(merged_df2.index):\n",
    "        if date.hour == 9 and date.minute == 15:\n",
    "            weekday = date.weekday()\n",
    "            if weekday < 5:  # Only for Monday to Friday\n",
    "                if date.date() not in holidayz:  # Check if the date is not a holiday\n",
    "                    shape = {\n",
    "                        \"type\": \"rect\",\n",
    "                        \"xref\": \"x\",\n",
    "                        \"yref\": \"paper\",\n",
    "                        \"x0\": date,\n",
    "                        \"x1\": date + pd.Timedelta(hours=6, minutes=15),\n",
    "                        \"y0\": 0,\n",
    "                        \"y1\": 1,\n",
    "                        \"fillcolor\": colors[weekday],\n",
    "                        \"opacity\": 0.3,\n",
    "                        \"line\": {\"width\": 0},\n",
    "                        \"layer\": \"below\",\n",
    "                    }\n",
    "                    shapes.append(shape)\n",
    "                    \n",
    "    holiday_rangebreaks = [{\"bounds\": [holiday.strftime('%Y-%m-%d'), (holiday + pd.Timedelta(days=1)).strftime('%Y-%m-%d')], \"pattern\": ''} for holiday in holidayz]\n",
    "\n",
    "    # Create a layout with custom styling, including background colors and shapes\n",
    "    layout = go.Layout(\n",
    "        title=\"AmiPy_NF\",\n",
    "        plot_bgcolor=\"black\",\n",
    "        height=800,\n",
    "        xaxis=dict(\n",
    "            gridcolor=\"rgba(128, 128, 128, 0.1)\",\n",
    "            showgrid=True,\n",
    "            tickformat=\"%Y-%m-%d %H:%M\",\n",
    "            dtick=\"60 * 60 * 1000\",  # 1 hour in milliseconds\n",
    "            rangebreaks=[\n",
    "                dict(bounds=[\"sat\", \"mon\"]),\n",
    "                dict(bounds=[0, 9.25], pattern=\"hour\"),\n",
    "                dict(bounds=[15.5, 24], pattern=\"hour\"),\n",
    "            ],\n",
    "        ),\n",
    "        yaxis=dict(\n",
    "            gridcolor=\"rgba(128, 128, 128, 0.1)\",\n",
    "            showgrid=True,\n",
    "            automargin=True,\n",
    "            autorange=True,\n",
    "        ),\n",
    "        # Add the custom shapes to the layout\n",
    "        shapes=shapes,\n",
    "    )\n",
    "\n",
    "    fig = go.Figure()\n",
    "\n",
    "    fig.add_trace(go.Scatter(x=merged_df2.index, y=merged_df2['close'],\n",
    "                            mode='lines', name='Closing Price', line=dict(color='skyblue', dash='dot')))\n",
    "    \n",
    "        # Filter the data for uptrends and downtrends\n",
    "    uptrend_df = merged_df2[merged_df2['Trend'] == 1]\n",
    "    downtrend_df = merged_df2[merged_df2['Trend'] == -1]\n",
    "\n",
    "    # Plot the uptrend data with a green line\n",
    "    for i in range(len(uptrend_df) - 1):\n",
    "        if uptrend_df.index[i+1] - uptrend_df.index[i] == pd.Timedelta(minutes=1):\n",
    "            fig.add_trace(go.Scatter(x=[uptrend_df.index[i], uptrend_df.index[i+1]], y=[uptrend_df.iloc[i]['TrendSL'], uptrend_df.iloc[i+1]['TrendSL']],\n",
    "                                    mode='lines', name='SuperTrend Uptrend', line=dict(color='green'), showlegend=False if i != 0 else True))\n",
    "\n",
    "    # Plot the downtrend data with a red line\n",
    "    for i in range(len(downtrend_df) - 1):\n",
    "        if downtrend_df.index[i+1] - downtrend_df.index[i] == pd.Timedelta(minutes=1):\n",
    "            fig.add_trace(go.Scatter(x=[downtrend_df.index[i], downtrend_df.index[i+1]], y=[downtrend_df.iloc[i]['TrendSL'], downtrend_df.iloc[i+1]['TrendSL']],\n",
    "                                    mode='lines', name='SuperTrend Downtrend', line=dict(color='red'), showlegend=False if i != 0 else True))\n",
    "\n",
    "    # Add the custom shapes to the layout\n",
    "    layout.shapes = shapes\n",
    "\n",
    "    # Update x-axis tick format\n",
    "    layout.xaxis.tickformat = \"%Y-%m-%d %H:%M\"\n",
    "    layout.xaxis.hoverformat = \"%Y-%m-%d %H:%M\"\n",
    "\n",
    "    fig.add_trace(go.Scatter(x=merged_df2[merged_df2['LongSignal'] == 1].index, y=merged_df2[merged_df2['LongSignal'] == 1]['close'], mode='markers', name='Long', marker=dict(color='green', symbol='triangle-up', size=15)))\n",
    "    fig.add_trace(go.Scatter(x=merged_df2[merged_df2['LongCoverSignal'] == 1].index, y=merged_df2[merged_df2['LongCoverSignal'] == 1]['close'], mode='markers', name='Long Cover', marker=dict(color='green', symbol='star', size=15)))\n",
    "    fig.add_trace(go.Scatter(x=merged_df2[merged_df2['ShortSignal'] == 1].index, y=merged_df2[merged_df2['ShortSignal'] == 1]['close'], mode='markers', name='Short Signal', marker=dict(color='red', symbol='triangle-down', size=15)))\n",
    "    fig.add_trace(go.Scatter(x=merged_df2[merged_df2['ShortCoverSignal'] == 1].index, y=merged_df2[merged_df2['ShortCoverSignal'] == 1]['close'], mode='markers', name='Short Cover Signal', marker=dict(color='red', symbol='star', size=15)))\n",
    "\n",
    "    fig.update_layout(layout)\n",
    "    \n",
    "    pyo.plot(fig)   \n",
    "  \n",
    "    return fig"
   ]
  },
  {
   "cell_type": "code",
   "execution_count": 19,
   "metadata": {},
   "outputs": [
    {
     "data": {
      "application/vnd.plotly.v1+json": {
       "config": {
        "plotlyServerURL": "https://plot.ly"
       },
       "data": [
        {
         "line": {
          "color": "skyblue",
          "dash": "dot"
         },
         "mode": "lines",
         "name": "Closing Price",
         "type": "scatter",
         "x": [
          "2023-05-17T09:15:00+05:30",
          "2023-05-17T09:16:00+05:30",
          "2023-05-17T09:17:00+05:30",
          "2023-05-17T09:18:00+05:30",
          "2023-05-17T09:19:00+05:30",
          "2023-05-17T09:20:00+05:30",
          "2023-05-17T09:21:00+05:30",
          "2023-05-17T09:22:00+05:30",
          "2023-05-17T09:23:00+05:30",
          "2023-05-17T09:24:00+05:30",
          "2023-05-17T09:25:00+05:30",
          "2023-05-17T09:26:00+05:30",
          "2023-05-17T09:27:00+05:30",
          "2023-05-17T09:28:00+05:30",
          "2023-05-17T09:29:00+05:30",
          "2023-05-17T09:30:00+05:30",
          "2023-05-17T09:31:00+05:30",
          "2023-05-17T09:32:00+05:30",
          "2023-05-17T09:33:00+05:30",
          "2023-05-17T09:34:00+05:30",
          "2023-05-17T09:35:00+05:30",
          "2023-05-17T09:36:00+05:30",
          "2023-05-17T09:37:00+05:30",
          "2023-05-17T09:38:00+05:30",
          "2023-05-17T09:39:00+05:30",
          "2023-05-17T09:40:00+05:30",
          "2023-05-17T09:41:00+05:30",
          "2023-05-17T09:42:00+05:30",
          "2023-05-17T09:43:00+05:30",
          "2023-05-17T09:44:00+05:30",
          "2023-05-17T09:45:00+05:30",
          "2023-05-17T09:46:00+05:30",
          "2023-05-17T09:47:00+05:30",
          "2023-05-17T09:48:00+05:30",
          "2023-05-17T09:49:00+05:30",
          "2023-05-17T09:50:00+05:30",
          "2023-05-17T09:51:00+05:30",
          "2023-05-17T09:52:00+05:30",
          "2023-05-17T09:53:00+05:30",
          "2023-05-17T09:54:00+05:30",
          "2023-05-17T09:55:00+05:30",
          "2023-05-17T09:56:00+05:30",
          "2023-05-17T09:57:00+05:30",
          "2023-05-17T09:58:00+05:30",
          "2023-05-17T09:59:00+05:30",
          "2023-05-17T10:00:00+05:30",
          "2023-05-17T10:01:00+05:30",
          "2023-05-17T10:02:00+05:30",
          "2023-05-17T10:03:00+05:30",
          "2023-05-17T10:04:00+05:30",
          "2023-05-17T10:05:00+05:30",
          "2023-05-17T10:06:00+05:30",
          "2023-05-17T10:07:00+05:30",
          "2023-05-17T10:08:00+05:30",
          "2023-05-17T10:09:00+05:30",
          "2023-05-17T10:10:00+05:30",
          "2023-05-17T10:11:00+05:30",
          "2023-05-17T10:12:00+05:30",
          "2023-05-17T10:13:00+05:30",
          "2023-05-17T10:14:00+05:30",
          "2023-05-17T10:15:00+05:30",
          "2023-05-17T10:16:00+05:30",
          "2023-05-17T10:17:00+05:30",
          "2023-05-17T10:18:00+05:30",
          "2023-05-17T10:19:00+05:30",
          "2023-05-17T10:20:00+05:30",
          "2023-05-17T10:21:00+05:30",
          "2023-05-17T10:22:00+05:30",
          "2023-05-17T10:23:00+05:30",
          "2023-05-17T10:24:00+05:30",
          "2023-05-17T10:25:00+05:30",
          "2023-05-17T10:26:00+05:30",
          "2023-05-17T10:27:00+05:30",
          "2023-05-17T10:28:00+05:30",
          "2023-05-17T10:29:00+05:30",
          "2023-05-17T10:30:00+05:30",
          "2023-05-17T10:31:00+05:30",
          "2023-05-17T10:32:00+05:30",
          "2023-05-17T10:33:00+05:30",
          "2023-05-17T10:34:00+05:30",
          "2023-05-17T10:35:00+05:30",
          "2023-05-17T10:36:00+05:30",
          "2023-05-17T10:37:00+05:30",
          "2023-05-17T10:38:00+05:30",
          "2023-05-17T10:39:00+05:30",
          "2023-05-17T10:40:00+05:30",
          "2023-05-17T10:41:00+05:30",
          "2023-05-17T10:42:00+05:30",
          "2023-05-17T10:43:00+05:30",
          "2023-05-17T10:44:00+05:30",
          "2023-05-17T10:45:00+05:30",
          "2023-05-17T10:46:00+05:30",
          "2023-05-17T10:47:00+05:30",
          "2023-05-17T10:48:00+05:30",
          "2023-05-17T10:49:00+05:30",
          "2023-05-17T10:50:00+05:30",
          "2023-05-17T10:51:00+05:30",
          "2023-05-17T10:52:00+05:30",
          "2023-05-17T10:53:00+05:30",
          "2023-05-17T10:54:00+05:30",
          "2023-05-17T10:55:00+05:30",
          "2023-05-17T10:56:00+05:30",
          "2023-05-17T10:57:00+05:30",
          "2023-05-17T10:58:00+05:30",
          "2023-05-17T10:59:00+05:30",
          "2023-05-17T11:00:00+05:30",
          "2023-05-17T11:01:00+05:30",
          "2023-05-17T11:02:00+05:30",
          "2023-05-17T11:03:00+05:30",
          "2023-05-17T11:04:00+05:30",
          "2023-05-17T11:05:00+05:30",
          "2023-05-17T11:06:00+05:30",
          "2023-05-17T11:07:00+05:30",
          "2023-05-17T11:08:00+05:30",
          "2023-05-17T11:09:00+05:30",
          "2023-05-17T11:10:00+05:30",
          "2023-05-17T11:11:00+05:30",
          "2023-05-17T11:12:00+05:30",
          "2023-05-17T11:13:00+05:30",
          "2023-05-17T11:14:00+05:30",
          "2023-05-17T11:15:00+05:30",
          "2023-05-17T11:16:00+05:30",
          "2023-05-17T11:17:00+05:30",
          "2023-05-17T11:18:00+05:30",
          "2023-05-17T11:19:00+05:30",
          "2023-05-17T11:20:00+05:30",
          "2023-05-17T11:21:00+05:30",
          "2023-05-17T11:22:00+05:30",
          "2023-05-17T11:23:00+05:30",
          "2023-05-17T11:24:00+05:30",
          "2023-05-17T11:25:00+05:30",
          "2023-05-17T11:26:00+05:30",
          "2023-05-17T11:27:00+05:30",
          "2023-05-17T11:28:00+05:30",
          "2023-05-17T11:29:00+05:30",
          "2023-05-17T11:30:00+05:30",
          "2023-05-17T11:31:00+05:30",
          "2023-05-17T11:32:00+05:30",
          "2023-05-17T11:33:00+05:30",
          "2023-05-17T11:34:00+05:30",
          "2023-05-17T11:35:00+05:30",
          "2023-05-17T11:36:00+05:30",
          "2023-05-17T11:37:00+05:30",
          "2023-05-17T11:38:00+05:30",
          "2023-05-17T11:39:00+05:30",
          "2023-05-17T11:40:00+05:30",
          "2023-05-17T11:41:00+05:30",
          "2023-05-17T11:42:00+05:30",
          "2023-05-17T11:43:00+05:30",
          "2023-05-17T11:44:00+05:30",
          "2023-05-17T11:45:00+05:30",
          "2023-05-17T11:46:00+05:30",
          "2023-05-17T11:47:00+05:30",
          "2023-05-17T11:48:00+05:30",
          "2023-05-17T11:49:00+05:30",
          "2023-05-17T11:50:00+05:30",
          "2023-05-17T11:51:00+05:30",
          "2023-05-17T11:52:00+05:30",
          "2023-05-17T11:53:00+05:30",
          "2023-05-17T11:54:00+05:30",
          "2023-05-17T11:55:00+05:30",
          "2023-05-17T11:56:00+05:30",
          "2023-05-17T11:57:00+05:30",
          "2023-05-17T11:58:00+05:30",
          "2023-05-17T11:59:00+05:30",
          "2023-05-17T12:00:00+05:30",
          "2023-05-17T12:01:00+05:30",
          "2023-05-17T12:02:00+05:30",
          "2023-05-17T12:03:00+05:30",
          "2023-05-17T12:04:00+05:30",
          "2023-05-17T12:05:00+05:30",
          "2023-05-17T12:06:00+05:30",
          "2023-05-17T12:07:00+05:30",
          "2023-05-17T12:08:00+05:30",
          "2023-05-17T12:09:00+05:30",
          "2023-05-17T12:10:00+05:30",
          "2023-05-17T12:11:00+05:30",
          "2023-05-17T12:12:00+05:30",
          "2023-05-17T12:13:00+05:30",
          "2023-05-17T12:14:00+05:30",
          "2023-05-17T12:15:00+05:30",
          "2023-05-17T12:16:00+05:30",
          "2023-05-17T12:17:00+05:30",
          "2023-05-17T12:18:00+05:30",
          "2023-05-17T12:19:00+05:30",
          "2023-05-17T12:20:00+05:30",
          "2023-05-17T12:21:00+05:30",
          "2023-05-17T12:22:00+05:30",
          "2023-05-17T12:23:00+05:30",
          "2023-05-17T12:24:00+05:30",
          "2023-05-17T12:25:00+05:30",
          "2023-05-17T12:26:00+05:30",
          "2023-05-17T12:27:00+05:30",
          "2023-05-17T12:28:00+05:30",
          "2023-05-17T12:29:00+05:30",
          "2023-05-17T12:30:00+05:30",
          "2023-05-17T12:31:00+05:30",
          "2023-05-17T12:32:00+05:30",
          "2023-05-17T12:33:00+05:30",
          "2023-05-17T12:34:00+05:30",
          "2023-05-17T12:35:00+05:30",
          "2023-05-17T12:36:00+05:30",
          "2023-05-17T12:37:00+05:30",
          "2023-05-17T12:38:00+05:30",
          "2023-05-17T12:39:00+05:30",
          "2023-05-17T12:40:00+05:30",
          "2023-05-17T12:41:00+05:30",
          "2023-05-17T12:42:00+05:30",
          "2023-05-17T12:43:00+05:30",
          "2023-05-17T12:44:00+05:30",
          "2023-05-17T12:45:00+05:30",
          "2023-05-17T12:46:00+05:30",
          "2023-05-17T12:47:00+05:30",
          "2023-05-17T12:48:00+05:30",
          "2023-05-17T12:49:00+05:30",
          "2023-05-17T12:50:00+05:30",
          "2023-05-17T12:51:00+05:30",
          "2023-05-17T12:52:00+05:30",
          "2023-05-17T12:53:00+05:30",
          "2023-05-17T12:54:00+05:30",
          "2023-05-17T12:55:00+05:30",
          "2023-05-17T12:56:00+05:30",
          "2023-05-17T12:57:00+05:30",
          "2023-05-17T12:58:00+05:30",
          "2023-05-17T12:59:00+05:30",
          "2023-05-17T13:00:00+05:30",
          "2023-05-17T13:01:00+05:30",
          "2023-05-17T13:02:00+05:30",
          "2023-05-17T13:03:00+05:30",
          "2023-05-17T13:04:00+05:30",
          "2023-05-17T13:05:00+05:30",
          "2023-05-17T13:06:00+05:30",
          "2023-05-17T13:07:00+05:30",
          "2023-05-17T13:08:00+05:30",
          "2023-05-17T13:09:00+05:30",
          "2023-05-17T13:10:00+05:30",
          "2023-05-17T13:11:00+05:30",
          "2023-05-17T13:12:00+05:30",
          "2023-05-17T13:13:00+05:30",
          "2023-05-17T13:14:00+05:30",
          "2023-05-17T13:15:00+05:30",
          "2023-05-17T13:16:00+05:30",
          "2023-05-17T13:17:00+05:30",
          "2023-05-17T13:18:00+05:30",
          "2023-05-17T13:19:00+05:30",
          "2023-05-17T13:20:00+05:30",
          "2023-05-17T13:21:00+05:30",
          "2023-05-17T13:22:00+05:30",
          "2023-05-17T13:23:00+05:30",
          "2023-05-17T13:24:00+05:30",
          "2023-05-17T13:25:00+05:30",
          "2023-05-17T13:26:00+05:30",
          "2023-05-17T13:27:00+05:30",
          "2023-05-17T13:28:00+05:30",
          "2023-05-17T13:29:00+05:30",
          "2023-05-17T13:30:00+05:30",
          "2023-05-17T13:31:00+05:30",
          "2023-05-17T13:32:00+05:30",
          "2023-05-17T13:33:00+05:30",
          "2023-05-17T13:34:00+05:30",
          "2023-05-17T13:35:00+05:30",
          "2023-05-17T13:36:00+05:30",
          "2023-05-17T13:37:00+05:30",
          "2023-05-17T13:38:00+05:30",
          "2023-05-17T13:39:00+05:30",
          "2023-05-17T13:40:00+05:30",
          "2023-05-17T13:41:00+05:30",
          "2023-05-17T13:42:00+05:30",
          "2023-05-17T13:43:00+05:30",
          "2023-05-17T13:44:00+05:30",
          "2023-05-17T13:45:00+05:30",
          "2023-05-17T13:46:00+05:30",
          "2023-05-17T13:47:00+05:30",
          "2023-05-17T13:48:00+05:30",
          "2023-05-17T13:49:00+05:30",
          "2023-05-17T13:50:00+05:30",
          "2023-05-17T13:51:00+05:30",
          "2023-05-17T13:52:00+05:30",
          "2023-05-17T13:53:00+05:30",
          "2023-05-17T13:54:00+05:30",
          "2023-05-17T13:55:00+05:30",
          "2023-05-17T13:56:00+05:30",
          "2023-05-17T13:57:00+05:30",
          "2023-05-17T13:58:00+05:30",
          "2023-05-17T13:59:00+05:30",
          "2023-05-17T14:00:00+05:30",
          "2023-05-17T14:01:00+05:30",
          "2023-05-17T14:02:00+05:30",
          "2023-05-17T14:03:00+05:30",
          "2023-05-17T14:04:00+05:30",
          "2023-05-17T14:05:00+05:30",
          "2023-05-17T14:06:00+05:30",
          "2023-05-17T14:07:00+05:30",
          "2023-05-17T14:08:00+05:30",
          "2023-05-17T14:09:00+05:30",
          "2023-05-17T14:10:00+05:30",
          "2023-05-17T14:11:00+05:30",
          "2023-05-17T14:12:00+05:30",
          "2023-05-17T14:13:00+05:30",
          "2023-05-17T14:14:00+05:30",
          "2023-05-17T14:15:00+05:30",
          "2023-05-17T14:16:00+05:30",
          "2023-05-17T14:17:00+05:30",
          "2023-05-17T14:18:00+05:30",
          "2023-05-17T14:19:00+05:30",
          "2023-05-17T14:20:00+05:30",
          "2023-05-17T14:21:00+05:30",
          "2023-05-17T14:22:00+05:30",
          "2023-05-17T14:23:00+05:30",
          "2023-05-17T14:24:00+05:30",
          "2023-05-17T14:25:00+05:30",
          "2023-05-17T14:26:00+05:30",
          "2023-05-17T14:27:00+05:30",
          "2023-05-17T14:28:00+05:30",
          "2023-05-17T14:29:00+05:30",
          "2023-05-17T14:30:00+05:30",
          "2023-05-17T14:31:00+05:30",
          "2023-05-17T14:32:00+05:30",
          "2023-05-17T14:33:00+05:30",
          "2023-05-17T14:34:00+05:30",
          "2023-05-17T14:35:00+05:30",
          "2023-05-17T14:36:00+05:30",
          "2023-05-17T14:37:00+05:30",
          "2023-05-17T14:38:00+05:30",
          "2023-05-17T14:39:00+05:30",
          "2023-05-17T14:40:00+05:30",
          "2023-05-17T14:41:00+05:30",
          "2023-05-17T14:42:00+05:30",
          "2023-05-17T14:43:00+05:30",
          "2023-05-17T14:44:00+05:30",
          "2023-05-17T14:45:00+05:30",
          "2023-05-17T14:46:00+05:30",
          "2023-05-17T14:47:00+05:30",
          "2023-05-17T14:48:00+05:30",
          "2023-05-17T14:49:00+05:30",
          "2023-05-17T14:50:00+05:30",
          "2023-05-17T14:51:00+05:30",
          "2023-05-17T14:52:00+05:30",
          "2023-05-17T14:53:00+05:30",
          "2023-05-17T14:54:00+05:30",
          "2023-05-17T14:55:00+05:30",
          "2023-05-17T14:56:00+05:30",
          "2023-05-17T14:57:00+05:30",
          "2023-05-17T14:58:00+05:30",
          "2023-05-17T14:59:00+05:30",
          "2023-05-17T15:00:00+05:30",
          "2023-05-17T15:01:00+05:30",
          "2023-05-17T15:02:00+05:30",
          "2023-05-17T15:03:00+05:30",
          "2023-05-17T15:04:00+05:30",
          "2023-05-17T15:05:00+05:30",
          "2023-05-17T15:06:00+05:30",
          "2023-05-17T15:07:00+05:30",
          "2023-05-17T15:08:00+05:30",
          "2023-05-17T15:09:00+05:30",
          "2023-05-17T15:10:00+05:30",
          "2023-05-17T15:11:00+05:30",
          "2023-05-17T15:12:00+05:30",
          "2023-05-17T15:13:00+05:30",
          "2023-05-17T15:14:00+05:30",
          "2023-05-17T15:15:00+05:30",
          "2023-05-17T15:16:00+05:30",
          "2023-05-17T15:17:00+05:30",
          "2023-05-17T15:18:00+05:30",
          "2023-05-17T15:19:00+05:30",
          "2023-05-17T15:20:00+05:30",
          "2023-05-17T15:21:00+05:30",
          "2023-05-17T15:22:00+05:30",
          "2023-05-17T15:23:00+05:30",
          "2023-05-17T15:24:00+05:30",
          "2023-05-17T15:25:00+05:30",
          "2023-05-17T15:26:00+05:30",
          "2023-05-17T15:27:00+05:30",
          "2023-05-17T15:28:00+05:30",
          "2023-05-17T15:29:00+05:30",
          "2023-05-17T15:30:00+05:30",
          "2023-05-18T09:15:00+05:30",
          "2023-05-18T09:16:00+05:30",
          "2023-05-18T09:17:00+05:30",
          "2023-05-18T09:18:00+05:30",
          "2023-05-18T09:19:00+05:30",
          "2023-05-18T09:20:00+05:30",
          "2023-05-18T09:21:00+05:30",
          "2023-05-18T09:22:00+05:30",
          "2023-05-18T09:23:00+05:30",
          "2023-05-18T09:24:00+05:30",
          "2023-05-18T09:25:00+05:30",
          "2023-05-18T09:26:00+05:30",
          "2023-05-18T09:27:00+05:30",
          "2023-05-18T09:28:00+05:30",
          "2023-05-18T09:29:00+05:30",
          "2023-05-18T09:30:00+05:30",
          "2023-05-18T09:31:00+05:30",
          "2023-05-18T09:32:00+05:30",
          "2023-05-18T09:33:00+05:30",
          "2023-05-18T09:34:00+05:30",
          "2023-05-18T09:35:00+05:30",
          "2023-05-18T09:36:00+05:30",
          "2023-05-18T09:37:00+05:30",
          "2023-05-18T09:38:00+05:30",
          "2023-05-18T09:39:00+05:30",
          "2023-05-18T09:40:00+05:30",
          "2023-05-18T09:41:00+05:30",
          "2023-05-18T09:42:00+05:30",
          "2023-05-18T09:43:00+05:30",
          "2023-05-18T09:44:00+05:30",
          "2023-05-18T09:45:00+05:30",
          "2023-05-18T09:46:00+05:30",
          "2023-05-18T09:47:00+05:30",
          "2023-05-18T09:48:00+05:30",
          "2023-05-18T09:49:00+05:30",
          "2023-05-18T09:50:00+05:30",
          "2023-05-18T09:51:00+05:30",
          "2023-05-18T09:52:00+05:30",
          "2023-05-18T09:53:00+05:30",
          "2023-05-18T09:54:00+05:30",
          "2023-05-18T09:55:00+05:30",
          "2023-05-18T09:56:00+05:30",
          "2023-05-18T09:57:00+05:30",
          "2023-05-18T09:58:00+05:30",
          "2023-05-18T09:59:00+05:30",
          "2023-05-18T10:00:00+05:30",
          "2023-05-18T10:01:00+05:30",
          "2023-05-18T10:02:00+05:30",
          "2023-05-18T10:03:00+05:30",
          "2023-05-18T10:04:00+05:30",
          "2023-05-18T10:05:00+05:30",
          "2023-05-18T10:06:00+05:30",
          "2023-05-18T10:07:00+05:30",
          "2023-05-18T10:08:00+05:30",
          "2023-05-18T10:09:00+05:30",
          "2023-05-18T10:10:00+05:30",
          "2023-05-18T10:11:00+05:30",
          "2023-05-18T10:12:00+05:30",
          "2023-05-18T10:13:00+05:30",
          "2023-05-18T10:14:00+05:30",
          "2023-05-18T10:15:00+05:30",
          "2023-05-18T10:16:00+05:30",
          "2023-05-18T10:17:00+05:30",
          "2023-05-18T10:18:00+05:30",
          "2023-05-18T10:19:00+05:30",
          "2023-05-18T10:20:00+05:30",
          "2023-05-18T10:21:00+05:30",
          "2023-05-18T10:22:00+05:30",
          "2023-05-18T10:23:00+05:30",
          "2023-05-18T10:24:00+05:30",
          "2023-05-18T10:25:00+05:30",
          "2023-05-18T10:26:00+05:30",
          "2023-05-18T10:27:00+05:30",
          "2023-05-18T10:28:00+05:30",
          "2023-05-18T10:29:00+05:30",
          "2023-05-18T10:30:00+05:30",
          "2023-05-18T10:31:00+05:30",
          "2023-05-18T10:32:00+05:30",
          "2023-05-18T10:33:00+05:30",
          "2023-05-18T10:34:00+05:30",
          "2023-05-18T10:35:00+05:30",
          "2023-05-18T10:36:00+05:30",
          "2023-05-18T10:37:00+05:30",
          "2023-05-18T10:38:00+05:30",
          "2023-05-18T10:39:00+05:30",
          "2023-05-18T10:40:00+05:30",
          "2023-05-18T10:41:00+05:30",
          "2023-05-18T10:42:00+05:30",
          "2023-05-18T10:43:00+05:30",
          "2023-05-18T10:44:00+05:30",
          "2023-05-18T10:45:00+05:30",
          "2023-05-18T10:46:00+05:30",
          "2023-05-18T10:47:00+05:30",
          "2023-05-18T10:48:00+05:30",
          "2023-05-18T10:49:00+05:30",
          "2023-05-18T10:50:00+05:30",
          "2023-05-18T10:51:00+05:30",
          "2023-05-18T10:52:00+05:30",
          "2023-05-18T10:53:00+05:30",
          "2023-05-18T10:54:00+05:30",
          "2023-05-18T10:55:00+05:30",
          "2023-05-18T10:56:00+05:30",
          "2023-05-18T10:57:00+05:30",
          "2023-05-18T10:58:00+05:30",
          "2023-05-18T10:59:00+05:30",
          "2023-05-18T11:00:00+05:30",
          "2023-05-18T11:01:00+05:30",
          "2023-05-18T11:02:00+05:30",
          "2023-05-18T11:03:00+05:30",
          "2023-05-18T11:04:00+05:30",
          "2023-05-18T11:05:00+05:30",
          "2023-05-18T11:06:00+05:30",
          "2023-05-18T11:07:00+05:30",
          "2023-05-18T11:08:00+05:30",
          "2023-05-18T11:09:00+05:30",
          "2023-05-18T11:10:00+05:30",
          "2023-05-18T11:11:00+05:30",
          "2023-05-18T11:12:00+05:30",
          "2023-05-18T11:13:00+05:30",
          "2023-05-18T11:14:00+05:30",
          "2023-05-18T11:15:00+05:30",
          "2023-05-18T11:16:00+05:30",
          "2023-05-18T11:17:00+05:30",
          "2023-05-18T11:18:00+05:30",
          "2023-05-18T11:19:00+05:30",
          "2023-05-18T11:20:00+05:30",
          "2023-05-18T11:21:00+05:30",
          "2023-05-18T11:22:00+05:30",
          "2023-05-18T11:23:00+05:30",
          "2023-05-18T11:24:00+05:30",
          "2023-05-18T11:25:00+05:30",
          "2023-05-18T11:26:00+05:30",
          "2023-05-18T11:27:00+05:30",
          "2023-05-18T11:28:00+05:30",
          "2023-05-18T11:29:00+05:30",
          "2023-05-18T11:30:00+05:30",
          "2023-05-18T11:31:00+05:30",
          "2023-05-18T11:32:00+05:30",
          "2023-05-18T11:33:00+05:30",
          "2023-05-18T11:34:00+05:30",
          "2023-05-18T11:35:00+05:30",
          "2023-05-18T11:36:00+05:30",
          "2023-05-18T11:37:00+05:30",
          "2023-05-18T11:38:00+05:30",
          "2023-05-18T11:39:00+05:30",
          "2023-05-18T11:40:00+05:30",
          "2023-05-18T11:41:00+05:30",
          "2023-05-18T11:42:00+05:30",
          "2023-05-18T11:43:00+05:30",
          "2023-05-18T11:44:00+05:30",
          "2023-05-18T11:45:00+05:30",
          "2023-05-18T11:46:00+05:30",
          "2023-05-18T11:47:00+05:30",
          "2023-05-18T11:48:00+05:30",
          "2023-05-18T11:49:00+05:30",
          "2023-05-18T11:50:00+05:30",
          "2023-05-18T11:51:00+05:30",
          "2023-05-18T11:52:00+05:30",
          "2023-05-18T11:53:00+05:30",
          "2023-05-18T11:54:00+05:30",
          "2023-05-18T11:55:00+05:30",
          "2023-05-18T11:56:00+05:30",
          "2023-05-18T11:57:00+05:30",
          "2023-05-18T11:58:00+05:30",
          "2023-05-18T11:59:00+05:30",
          "2023-05-18T12:00:00+05:30",
          "2023-05-18T12:01:00+05:30",
          "2023-05-18T12:02:00+05:30",
          "2023-05-18T12:03:00+05:30",
          "2023-05-18T12:04:00+05:30",
          "2023-05-18T12:05:00+05:30",
          "2023-05-18T12:06:00+05:30",
          "2023-05-18T12:07:00+05:30",
          "2023-05-18T12:08:00+05:30",
          "2023-05-18T12:09:00+05:30",
          "2023-05-18T12:10:00+05:30",
          "2023-05-18T12:11:00+05:30",
          "2023-05-18T12:12:00+05:30",
          "2023-05-18T12:13:00+05:30",
          "2023-05-18T12:14:00+05:30",
          "2023-05-18T12:15:00+05:30",
          "2023-05-18T12:16:00+05:30",
          "2023-05-18T12:17:00+05:30",
          "2023-05-18T12:18:00+05:30",
          "2023-05-18T12:19:00+05:30",
          "2023-05-18T12:20:00+05:30",
          "2023-05-18T12:21:00+05:30",
          "2023-05-18T12:22:00+05:30",
          "2023-05-18T12:23:00+05:30",
          "2023-05-18T12:24:00+05:30",
          "2023-05-18T12:25:00+05:30",
          "2023-05-18T12:26:00+05:30",
          "2023-05-18T12:27:00+05:30",
          "2023-05-18T12:28:00+05:30",
          "2023-05-18T12:29:00+05:30",
          "2023-05-18T12:30:00+05:30",
          "2023-05-18T12:31:00+05:30",
          "2023-05-18T12:32:00+05:30",
          "2023-05-18T12:33:00+05:30",
          "2023-05-18T12:34:00+05:30",
          "2023-05-18T12:35:00+05:30",
          "2023-05-18T12:36:00+05:30",
          "2023-05-18T12:37:00+05:30",
          "2023-05-18T12:38:00+05:30",
          "2023-05-18T12:39:00+05:30",
          "2023-05-18T12:40:00+05:30",
          "2023-05-18T12:41:00+05:30",
          "2023-05-18T12:42:00+05:30",
          "2023-05-18T12:43:00+05:30",
          "2023-05-18T12:44:00+05:30",
          "2023-05-18T12:45:00+05:30",
          "2023-05-18T12:46:00+05:30",
          "2023-05-18T12:47:00+05:30",
          "2023-05-18T12:48:00+05:30",
          "2023-05-18T12:49:00+05:30",
          "2023-05-18T12:50:00+05:30",
          "2023-05-18T12:51:00+05:30",
          "2023-05-18T12:52:00+05:30",
          "2023-05-18T12:53:00+05:30",
          "2023-05-18T12:54:00+05:30",
          "2023-05-18T12:55:00+05:30",
          "2023-05-18T12:56:00+05:30",
          "2023-05-18T12:57:00+05:30",
          "2023-05-18T12:58:00+05:30",
          "2023-05-18T12:59:00+05:30",
          "2023-05-18T13:00:00+05:30",
          "2023-05-18T13:01:00+05:30",
          "2023-05-18T13:02:00+05:30",
          "2023-05-18T13:03:00+05:30",
          "2023-05-18T13:04:00+05:30",
          "2023-05-18T13:05:00+05:30",
          "2023-05-18T13:06:00+05:30",
          "2023-05-18T13:07:00+05:30",
          "2023-05-18T13:08:00+05:30",
          "2023-05-18T13:09:00+05:30",
          "2023-05-18T13:10:00+05:30",
          "2023-05-18T13:11:00+05:30",
          "2023-05-18T13:12:00+05:30",
          "2023-05-18T13:13:00+05:30",
          "2023-05-18T13:14:00+05:30",
          "2023-05-18T13:15:00+05:30",
          "2023-05-18T13:16:00+05:30",
          "2023-05-18T13:17:00+05:30",
          "2023-05-18T13:18:00+05:30",
          "2023-05-18T13:19:00+05:30",
          "2023-05-18T13:20:00+05:30",
          "2023-05-18T13:21:00+05:30",
          "2023-05-18T13:22:00+05:30",
          "2023-05-18T13:23:00+05:30",
          "2023-05-18T13:24:00+05:30",
          "2023-05-18T13:25:00+05:30",
          "2023-05-18T13:26:00+05:30",
          "2023-05-18T13:27:00+05:30",
          "2023-05-18T13:28:00+05:30",
          "2023-05-18T13:29:00+05:30",
          "2023-05-18T13:30:00+05:30",
          "2023-05-18T13:31:00+05:30",
          "2023-05-18T13:32:00+05:30",
          "2023-05-18T13:33:00+05:30",
          "2023-05-18T13:34:00+05:30",
          "2023-05-18T13:35:00+05:30",
          "2023-05-18T13:36:00+05:30",
          "2023-05-18T13:37:00+05:30",
          "2023-05-18T13:38:00+05:30",
          "2023-05-18T13:39:00+05:30",
          "2023-05-18T13:40:00+05:30",
          "2023-05-18T13:41:00+05:30",
          "2023-05-18T13:42:00+05:30",
          "2023-05-18T13:43:00+05:30",
          "2023-05-18T13:44:00+05:30",
          "2023-05-18T13:45:00+05:30",
          "2023-05-18T13:46:00+05:30",
          "2023-05-18T13:47:00+05:30",
          "2023-05-18T13:48:00+05:30",
          "2023-05-18T13:49:00+05:30",
          "2023-05-18T13:50:00+05:30",
          "2023-05-18T13:51:00+05:30",
          "2023-05-18T13:52:00+05:30",
          "2023-05-18T13:53:00+05:30",
          "2023-05-18T13:54:00+05:30",
          "2023-05-18T13:55:00+05:30",
          "2023-05-18T13:56:00+05:30",
          "2023-05-18T13:57:00+05:30",
          "2023-05-18T13:58:00+05:30",
          "2023-05-18T13:59:00+05:30",
          "2023-05-18T14:00:00+05:30",
          "2023-05-18T14:01:00+05:30",
          "2023-05-18T14:02:00+05:30",
          "2023-05-18T14:03:00+05:30",
          "2023-05-18T14:04:00+05:30",
          "2023-05-18T14:05:00+05:30",
          "2023-05-18T14:06:00+05:30",
          "2023-05-18T14:07:00+05:30",
          "2023-05-18T14:08:00+05:30",
          "2023-05-18T14:09:00+05:30",
          "2023-05-18T14:10:00+05:30",
          "2023-05-18T14:11:00+05:30",
          "2023-05-18T14:12:00+05:30",
          "2023-05-18T14:13:00+05:30",
          "2023-05-18T14:14:00+05:30",
          "2023-05-18T14:15:00+05:30",
          "2023-05-18T14:16:00+05:30",
          "2023-05-18T14:17:00+05:30",
          "2023-05-18T14:18:00+05:30",
          "2023-05-18T14:19:00+05:30",
          "2023-05-18T14:20:00+05:30",
          "2023-05-18T14:21:00+05:30",
          "2023-05-18T14:22:00+05:30",
          "2023-05-18T14:23:00+05:30",
          "2023-05-18T14:24:00+05:30",
          "2023-05-18T14:25:00+05:30",
          "2023-05-18T14:26:00+05:30",
          "2023-05-18T14:27:00+05:30",
          "2023-05-18T14:28:00+05:30",
          "2023-05-18T14:29:00+05:30",
          "2023-05-18T14:30:00+05:30",
          "2023-05-18T14:31:00+05:30",
          "2023-05-18T14:32:00+05:30",
          "2023-05-18T14:33:00+05:30",
          "2023-05-18T14:34:00+05:30",
          "2023-05-18T14:35:00+05:30",
          "2023-05-18T14:36:00+05:30",
          "2023-05-18T14:37:00+05:30",
          "2023-05-18T14:38:00+05:30",
          "2023-05-18T14:39:00+05:30",
          "2023-05-18T14:40:00+05:30",
          "2023-05-18T14:41:00+05:30",
          "2023-05-18T14:42:00+05:30",
          "2023-05-18T14:43:00+05:30",
          "2023-05-18T14:44:00+05:30",
          "2023-05-18T14:45:00+05:30",
          "2023-05-18T14:46:00+05:30",
          "2023-05-18T14:47:00+05:30",
          "2023-05-18T14:48:00+05:30",
          "2023-05-18T14:49:00+05:30",
          "2023-05-18T14:50:00+05:30",
          "2023-05-18T14:51:00+05:30",
          "2023-05-18T14:52:00+05:30",
          "2023-05-18T14:53:00+05:30",
          "2023-05-18T14:54:00+05:30",
          "2023-05-18T14:55:00+05:30",
          "2023-05-18T14:56:00+05:30",
          "2023-05-18T14:57:00+05:30",
          "2023-05-18T14:58:00+05:30",
          "2023-05-18T14:59:00+05:30",
          "2023-05-18T15:00:00+05:30",
          "2023-05-18T15:01:00+05:30",
          "2023-05-18T15:02:00+05:30",
          "2023-05-18T15:03:00+05:30",
          "2023-05-18T15:04:00+05:30",
          "2023-05-18T15:05:00+05:30",
          "2023-05-18T15:06:00+05:30",
          "2023-05-18T15:07:00+05:30",
          "2023-05-18T15:08:00+05:30",
          "2023-05-18T15:09:00+05:30",
          "2023-05-18T15:10:00+05:30",
          "2023-05-18T15:11:00+05:30",
          "2023-05-18T15:12:00+05:30",
          "2023-05-18T15:13:00+05:30",
          "2023-05-18T15:14:00+05:30",
          "2023-05-18T15:15:00+05:30",
          "2023-05-18T15:16:00+05:30",
          "2023-05-18T15:17:00+05:30",
          "2023-05-18T15:18:00+05:30",
          "2023-05-18T15:19:00+05:30",
          "2023-05-18T15:20:00+05:30",
          "2023-05-18T15:21:00+05:30",
          "2023-05-18T15:22:00+05:30",
          "2023-05-18T15:23:00+05:30",
          "2023-05-18T15:24:00+05:30",
          "2023-05-18T15:25:00+05:30",
          "2023-05-18T15:26:00+05:30",
          "2023-05-18T15:27:00+05:30",
          "2023-05-18T15:28:00+05:30",
          "2023-05-18T15:29:00+05:30",
          "2023-05-18T15:30:00+05:30",
          "2023-05-19T09:15:00+05:30",
          "2023-05-19T09:16:00+05:30",
          "2023-05-19T09:17:00+05:30",
          "2023-05-19T09:18:00+05:30",
          "2023-05-19T09:19:00+05:30",
          "2023-05-19T09:20:00+05:30",
          "2023-05-19T09:21:00+05:30",
          "2023-05-19T09:22:00+05:30",
          "2023-05-19T09:23:00+05:30",
          "2023-05-19T09:24:00+05:30",
          "2023-05-19T09:25:00+05:30",
          "2023-05-19T09:26:00+05:30",
          "2023-05-19T09:27:00+05:30",
          "2023-05-19T09:28:00+05:30",
          "2023-05-19T09:29:00+05:30",
          "2023-05-19T09:30:00+05:30",
          "2023-05-19T09:31:00+05:30",
          "2023-05-19T09:32:00+05:30",
          "2023-05-19T09:33:00+05:30",
          "2023-05-19T09:34:00+05:30",
          "2023-05-19T09:35:00+05:30",
          "2023-05-19T09:36:00+05:30",
          "2023-05-19T09:37:00+05:30",
          "2023-05-19T09:38:00+05:30",
          "2023-05-19T09:39:00+05:30",
          "2023-05-19T09:40:00+05:30",
          "2023-05-19T09:41:00+05:30",
          "2023-05-19T09:42:00+05:30",
          "2023-05-19T09:43:00+05:30",
          "2023-05-19T09:44:00+05:30",
          "2023-05-19T09:45:00+05:30",
          "2023-05-19T09:46:00+05:30",
          "2023-05-19T09:47:00+05:30",
          "2023-05-19T09:48:00+05:30",
          "2023-05-19T09:49:00+05:30",
          "2023-05-19T09:50:00+05:30",
          "2023-05-19T09:51:00+05:30",
          "2023-05-19T09:52:00+05:30",
          "2023-05-19T09:53:00+05:30",
          "2023-05-19T09:54:00+05:30",
          "2023-05-19T09:55:00+05:30",
          "2023-05-19T09:56:00+05:30",
          "2023-05-19T09:57:00+05:30",
          "2023-05-19T09:58:00+05:30",
          "2023-05-19T09:59:00+05:30",
          "2023-05-19T10:00:00+05:30",
          "2023-05-19T10:01:00+05:30",
          "2023-05-19T10:02:00+05:30",
          "2023-05-19T10:03:00+05:30",
          "2023-05-19T10:04:00+05:30",
          "2023-05-19T10:05:00+05:30",
          "2023-05-19T10:06:00+05:30",
          "2023-05-19T10:07:00+05:30",
          "2023-05-19T10:08:00+05:30",
          "2023-05-19T10:09:00+05:30",
          "2023-05-19T10:10:00+05:30",
          "2023-05-19T10:11:00+05:30",
          "2023-05-19T10:12:00+05:30",
          "2023-05-19T10:13:00+05:30",
          "2023-05-19T10:14:00+05:30",
          "2023-05-19T10:15:00+05:30",
          "2023-05-19T10:16:00+05:30",
          "2023-05-19T10:17:00+05:30",
          "2023-05-19T10:18:00+05:30",
          "2023-05-19T10:19:00+05:30",
          "2023-05-19T10:20:00+05:30",
          "2023-05-19T10:21:00+05:30",
          "2023-05-19T10:22:00+05:30",
          "2023-05-19T10:23:00+05:30",
          "2023-05-19T10:24:00+05:30",
          "2023-05-19T10:25:00+05:30",
          "2023-05-19T10:26:00+05:30",
          "2023-05-19T10:27:00+05:30",
          "2023-05-19T10:28:00+05:30",
          "2023-05-19T10:29:00+05:30",
          "2023-05-19T10:30:00+05:30",
          "2023-05-19T10:31:00+05:30",
          "2023-05-19T10:32:00+05:30",
          "2023-05-19T10:33:00+05:30",
          "2023-05-19T10:34:00+05:30",
          "2023-05-19T10:35:00+05:30",
          "2023-05-19T10:36:00+05:30",
          "2023-05-19T10:37:00+05:30",
          "2023-05-19T10:38:00+05:30",
          "2023-05-19T10:39:00+05:30",
          "2023-05-19T10:40:00+05:30",
          "2023-05-19T10:41:00+05:30",
          "2023-05-19T10:42:00+05:30",
          "2023-05-19T10:43:00+05:30",
          "2023-05-19T10:44:00+05:30",
          "2023-05-19T10:45:00+05:30",
          "2023-05-19T10:46:00+05:30",
          "2023-05-19T10:47:00+05:30",
          "2023-05-19T10:48:00+05:30",
          "2023-05-19T10:49:00+05:30",
          "2023-05-19T10:50:00+05:30",
          "2023-05-19T10:51:00+05:30",
          "2023-05-19T10:52:00+05:30",
          "2023-05-19T10:53:00+05:30",
          "2023-05-19T10:54:00+05:30",
          "2023-05-19T10:55:00+05:30",
          "2023-05-19T10:56:00+05:30",
          "2023-05-19T10:57:00+05:30",
          "2023-05-19T10:58:00+05:30",
          "2023-05-19T10:59:00+05:30",
          "2023-05-19T11:00:00+05:30",
          "2023-05-19T11:01:00+05:30",
          "2023-05-19T11:02:00+05:30",
          "2023-05-19T11:03:00+05:30",
          "2023-05-19T11:04:00+05:30",
          "2023-05-19T11:05:00+05:30",
          "2023-05-19T11:06:00+05:30",
          "2023-05-19T11:07:00+05:30",
          "2023-05-19T11:08:00+05:30",
          "2023-05-19T11:09:00+05:30",
          "2023-05-19T11:10:00+05:30",
          "2023-05-19T11:11:00+05:30",
          "2023-05-19T11:12:00+05:30",
          "2023-05-19T11:13:00+05:30",
          "2023-05-19T11:14:00+05:30",
          "2023-05-19T11:15:00+05:30",
          "2023-05-19T11:16:00+05:30",
          "2023-05-19T11:17:00+05:30",
          "2023-05-19T11:18:00+05:30",
          "2023-05-19T11:19:00+05:30",
          "2023-05-19T11:20:00+05:30",
          "2023-05-19T11:21:00+05:30",
          "2023-05-19T11:22:00+05:30",
          "2023-05-19T11:23:00+05:30",
          "2023-05-19T11:24:00+05:30",
          "2023-05-19T11:25:00+05:30",
          "2023-05-19T11:26:00+05:30",
          "2023-05-19T11:27:00+05:30",
          "2023-05-19T11:28:00+05:30",
          "2023-05-19T11:29:00+05:30",
          "2023-05-19T11:30:00+05:30",
          "2023-05-19T11:31:00+05:30",
          "2023-05-19T11:32:00+05:30",
          "2023-05-19T11:33:00+05:30",
          "2023-05-19T11:34:00+05:30",
          "2023-05-19T11:35:00+05:30",
          "2023-05-19T11:36:00+05:30",
          "2023-05-19T11:37:00+05:30",
          "2023-05-19T11:38:00+05:30",
          "2023-05-19T11:39:00+05:30",
          "2023-05-19T11:40:00+05:30",
          "2023-05-19T11:41:00+05:30",
          "2023-05-19T11:42:00+05:30",
          "2023-05-19T11:43:00+05:30",
          "2023-05-19T11:44:00+05:30",
          "2023-05-19T11:45:00+05:30",
          "2023-05-19T11:46:00+05:30",
          "2023-05-19T11:47:00+05:30",
          "2023-05-19T11:48:00+05:30",
          "2023-05-19T11:49:00+05:30",
          "2023-05-19T11:50:00+05:30",
          "2023-05-19T11:51:00+05:30",
          "2023-05-19T11:52:00+05:30",
          "2023-05-19T11:53:00+05:30",
          "2023-05-19T11:54:00+05:30",
          "2023-05-19T11:55:00+05:30",
          "2023-05-19T11:56:00+05:30",
          "2023-05-19T11:57:00+05:30",
          "2023-05-19T11:58:00+05:30",
          "2023-05-19T11:59:00+05:30",
          "2023-05-19T12:00:00+05:30",
          "2023-05-19T12:01:00+05:30",
          "2023-05-19T12:02:00+05:30",
          "2023-05-19T12:03:00+05:30",
          "2023-05-19T12:04:00+05:30",
          "2023-05-19T12:05:00+05:30",
          "2023-05-19T12:06:00+05:30",
          "2023-05-19T12:07:00+05:30",
          "2023-05-19T12:08:00+05:30",
          "2023-05-19T12:09:00+05:30",
          "2023-05-19T12:10:00+05:30",
          "2023-05-19T12:11:00+05:30",
          "2023-05-19T12:12:00+05:30",
          "2023-05-19T12:13:00+05:30",
          "2023-05-19T12:14:00+05:30",
          "2023-05-19T12:15:00+05:30",
          "2023-05-19T12:16:00+05:30",
          "2023-05-19T12:17:00+05:30",
          "2023-05-19T12:18:00+05:30",
          "2023-05-19T12:19:00+05:30",
          "2023-05-19T12:20:00+05:30",
          "2023-05-19T12:21:00+05:30",
          "2023-05-19T12:22:00+05:30",
          "2023-05-19T12:23:00+05:30",
          "2023-05-19T12:24:00+05:30",
          "2023-05-19T12:25:00+05:30",
          "2023-05-19T12:26:00+05:30",
          "2023-05-19T12:27:00+05:30",
          "2023-05-19T12:28:00+05:30",
          "2023-05-19T12:29:00+05:30",
          "2023-05-19T12:30:00+05:30",
          "2023-05-19T12:31:00+05:30",
          "2023-05-19T12:32:00+05:30",
          "2023-05-19T12:33:00+05:30",
          "2023-05-19T12:34:00+05:30",
          "2023-05-19T12:35:00+05:30",
          "2023-05-19T12:36:00+05:30",
          "2023-05-19T12:37:00+05:30",
          "2023-05-19T12:38:00+05:30",
          "2023-05-19T12:39:00+05:30",
          "2023-05-19T12:40:00+05:30",
          "2023-05-19T12:41:00+05:30",
          "2023-05-19T12:42:00+05:30",
          "2023-05-19T12:43:00+05:30",
          "2023-05-19T12:44:00+05:30",
          "2023-05-19T12:45:00+05:30",
          "2023-05-19T12:46:00+05:30",
          "2023-05-19T12:47:00+05:30",
          "2023-05-19T12:48:00+05:30",
          "2023-05-19T12:49:00+05:30",
          "2023-05-19T12:50:00+05:30",
          "2023-05-19T12:51:00+05:30",
          "2023-05-19T12:52:00+05:30",
          "2023-05-19T12:53:00+05:30",
          "2023-05-19T12:54:00+05:30",
          "2023-05-19T12:55:00+05:30",
          "2023-05-19T12:56:00+05:30",
          "2023-05-19T12:57:00+05:30",
          "2023-05-19T12:58:00+05:30",
          "2023-05-19T12:59:00+05:30",
          "2023-05-19T13:00:00+05:30",
          "2023-05-19T13:01:00+05:30",
          "2023-05-19T13:02:00+05:30",
          "2023-05-19T13:03:00+05:30",
          "2023-05-19T13:04:00+05:30",
          "2023-05-19T13:05:00+05:30",
          "2023-05-19T13:06:00+05:30",
          "2023-05-19T13:07:00+05:30",
          "2023-05-19T13:08:00+05:30",
          "2023-05-19T13:09:00+05:30",
          "2023-05-19T13:10:00+05:30",
          "2023-05-19T13:11:00+05:30",
          "2023-05-19T13:12:00+05:30",
          "2023-05-19T13:13:00+05:30",
          "2023-05-19T13:14:00+05:30",
          "2023-05-19T13:15:00+05:30",
          "2023-05-19T13:16:00+05:30",
          "2023-05-19T13:17:00+05:30",
          "2023-05-19T13:18:00+05:30",
          "2023-05-19T13:19:00+05:30",
          "2023-05-19T13:20:00+05:30",
          "2023-05-19T13:21:00+05:30",
          "2023-05-19T13:22:00+05:30",
          "2023-05-19T13:23:00+05:30",
          "2023-05-19T13:24:00+05:30",
          "2023-05-19T13:25:00+05:30",
          "2023-05-19T13:26:00+05:30",
          "2023-05-19T13:27:00+05:30",
          "2023-05-19T13:28:00+05:30",
          "2023-05-19T13:29:00+05:30",
          "2023-05-19T13:30:00+05:30",
          "2023-05-19T13:31:00+05:30",
          "2023-05-19T13:32:00+05:30",
          "2023-05-19T13:33:00+05:30",
          "2023-05-19T13:34:00+05:30",
          "2023-05-19T13:35:00+05:30",
          "2023-05-19T13:36:00+05:30",
          "2023-05-19T13:37:00+05:30",
          "2023-05-19T13:38:00+05:30",
          "2023-05-19T13:39:00+05:30",
          "2023-05-19T13:40:00+05:30",
          "2023-05-19T13:41:00+05:30",
          "2023-05-19T13:42:00+05:30",
          "2023-05-19T13:43:00+05:30",
          "2023-05-19T13:44:00+05:30",
          "2023-05-19T13:45:00+05:30",
          "2023-05-19T13:46:00+05:30",
          "2023-05-19T13:47:00+05:30",
          "2023-05-19T13:48:00+05:30",
          "2023-05-19T13:49:00+05:30",
          "2023-05-19T13:50:00+05:30",
          "2023-05-19T13:51:00+05:30",
          "2023-05-19T13:52:00+05:30",
          "2023-05-19T13:53:00+05:30",
          "2023-05-19T13:54:00+05:30",
          "2023-05-19T13:55:00+05:30",
          "2023-05-19T13:56:00+05:30",
          "2023-05-19T13:57:00+05:30",
          "2023-05-19T13:58:00+05:30",
          "2023-05-19T13:59:00+05:30",
          "2023-05-19T14:00:00+05:30",
          "2023-05-19T14:01:00+05:30",
          "2023-05-19T14:02:00+05:30",
          "2023-05-19T14:03:00+05:30",
          "2023-05-19T14:04:00+05:30",
          "2023-05-19T14:05:00+05:30",
          "2023-05-19T14:06:00+05:30",
          "2023-05-19T14:07:00+05:30",
          "2023-05-19T14:08:00+05:30",
          "2023-05-19T14:09:00+05:30",
          "2023-05-19T14:10:00+05:30",
          "2023-05-19T14:11:00+05:30",
          "2023-05-19T14:12:00+05:30",
          "2023-05-19T14:13:00+05:30",
          "2023-05-19T14:14:00+05:30",
          "2023-05-19T14:15:00+05:30",
          "2023-05-19T14:16:00+05:30",
          "2023-05-19T14:17:00+05:30",
          "2023-05-19T14:18:00+05:30",
          "2023-05-19T14:19:00+05:30",
          "2023-05-19T14:20:00+05:30",
          "2023-05-19T14:21:00+05:30",
          "2023-05-19T14:22:00+05:30",
          "2023-05-19T14:23:00+05:30",
          "2023-05-19T14:24:00+05:30",
          "2023-05-19T14:25:00+05:30",
          "2023-05-19T14:26:00+05:30",
          "2023-05-19T14:27:00+05:30",
          "2023-05-19T14:28:00+05:30",
          "2023-05-19T14:29:00+05:30",
          "2023-05-19T14:30:00+05:30",
          "2023-05-19T14:31:00+05:30",
          "2023-05-19T14:32:00+05:30",
          "2023-05-19T14:33:00+05:30",
          "2023-05-19T14:34:00+05:30",
          "2023-05-19T14:35:00+05:30",
          "2023-05-19T14:36:00+05:30",
          "2023-05-19T14:37:00+05:30",
          "2023-05-19T14:38:00+05:30",
          "2023-05-19T14:39:00+05:30",
          "2023-05-19T14:40:00+05:30",
          "2023-05-19T14:41:00+05:30",
          "2023-05-19T14:42:00+05:30",
          "2023-05-19T14:43:00+05:30",
          "2023-05-19T14:44:00+05:30",
          "2023-05-19T14:45:00+05:30",
          "2023-05-19T14:46:00+05:30",
          "2023-05-19T14:47:00+05:30",
          "2023-05-19T14:48:00+05:30",
          "2023-05-19T14:49:00+05:30",
          "2023-05-19T14:50:00+05:30",
          "2023-05-19T14:51:00+05:30",
          "2023-05-19T14:52:00+05:30",
          "2023-05-19T14:53:00+05:30",
          "2023-05-19T14:54:00+05:30",
          "2023-05-19T14:55:00+05:30",
          "2023-05-19T14:56:00+05:30",
          "2023-05-19T14:57:00+05:30",
          "2023-05-19T14:58:00+05:30",
          "2023-05-19T14:59:00+05:30",
          "2023-05-19T15:00:00+05:30",
          "2023-05-19T15:01:00+05:30",
          "2023-05-19T15:02:00+05:30",
          "2023-05-19T15:03:00+05:30",
          "2023-05-19T15:04:00+05:30",
          "2023-05-19T15:05:00+05:30",
          "2023-05-19T15:06:00+05:30",
          "2023-05-19T15:07:00+05:30",
          "2023-05-19T15:08:00+05:30",
          "2023-05-19T15:09:00+05:30",
          "2023-05-19T15:10:00+05:30",
          "2023-05-19T15:11:00+05:30",
          "2023-05-19T15:12:00+05:30",
          "2023-05-19T15:13:00+05:30",
          "2023-05-19T15:14:00+05:30",
          "2023-05-19T15:15:00+05:30",
          "2023-05-19T15:16:00+05:30",
          "2023-05-19T15:17:00+05:30",
          "2023-05-19T15:18:00+05:30",
          "2023-05-19T15:19:00+05:30",
          "2023-05-19T15:20:00+05:30",
          "2023-05-19T15:21:00+05:30",
          "2023-05-19T15:22:00+05:30",
          "2023-05-19T15:23:00+05:30",
          "2023-05-19T15:24:00+05:30",
          "2023-05-19T15:25:00+05:30",
          "2023-05-19T15:26:00+05:30",
          "2023-05-19T15:27:00+05:30",
          "2023-05-19T15:28:00+05:30",
          "2023-05-19T15:29:00+05:30"
         ],
         "y": [
          256.79999999999995,
          263.20000000000005,
          260.65,
          257.95000000000005,
          258.05,
          255.35000000000002,
          254.39999999999998,
          254.5,
          255.4,
          254.7,
          255.8,
          259.1,
          258.5,
          254.55,
          253.05,
          254.14999999999998,
          252.9,
          253.8,
          255.75,
          251.95,
          253.35000000000002,
          252.5,
          253.05,
          253.6,
          251.64999999999998,
          250.75,
          250.45,
          252,
          252.5,
          252.20000000000002,
          252.25,
          251.8,
          252.35,
          253.15,
          253.89999999999998,
          251.8,
          255,
          255.95,
          256.20000000000005,
          256.2,
          254.4,
          249.5,
          250.75,
          251.55,
          252.25,
          253.60000000000002,
          254.9,
          254.7,
          253.20000000000002,
          253.25,
          254.7,
          253.15,
          252.65,
          253.35,
          253.35,
          254.89999999999998,
          254.8,
          254.7,
          255.05,
          254.25,
          252.25,
          253.35,
          252.9,
          252,
          251.89999999999998,
          251.55,
          249.3,
          248.75,
          247.64999999999998,
          246.05,
          246,
          245.7,
          245.39999999999998,
          245.70000000000002,
          245.5,
          245.35,
          245.45,
          244.85,
          245.10000000000002,
          244.4,
          244.4,
          245.1,
          243.8,
          242.95,
          242.9,
          242,
          241.6,
          240.3,
          240.95000000000002,
          240,
          239.6,
          238.60000000000002,
          238.65,
          238.25,
          238.35,
          238.2,
          238.3,
          237.79999999999998,
          237.89999999999998,
          236.35000000000002,
          238.75,
          238.6,
          239.35,
          238.60000000000002,
          238.85,
          238,
          238.65,
          238.95000000000002,
          239.85000000000002,
          239,
          240.7,
          241.29999999999998,
          240.9,
          240.9,
          239.64999999999998,
          239.14999999999998,
          239.6,
          240.10000000000002,
          240.75,
          240.64999999999998,
          240.3,
          240.05,
          239.9,
          241.5,
          242.05,
          241.95,
          242.1,
          241.85,
          240.5,
          241.25,
          241.3,
          240.95000000000002,
          240.39999999999998,
          240.45,
          241.35000000000002,
          240.15,
          239.8,
          239.3,
          238.65,
          238,
          237.6,
          238.05,
          237.4,
          237.2,
          238.45,
          238.95,
          239.5,
          239.7,
          241.85,
          240.5,
          240.39999999999998,
          240.35,
          240.64999999999998,
          241.3,
          241.55,
          241.95,
          241.5,
          241.25,
          240.35,
          240.3,
          241.25,
          240.85000000000002,
          239.9,
          240.55,
          241.45,
          242.89999999999998,
          243.15,
          242.3,
          241.39999999999998,
          241.10000000000002,
          242.25,
          241.60000000000002,
          241.65,
          237.55,
          237.85,
          236.39999999999998,
          236.7,
          236.95,
          238.5,
          239,
          239.75,
          239.6,
          239.9,
          240.95,
          240.7,
          239.65,
          239,
          239.85000000000002,
          239.45,
          238.45,
          238.9,
          239.5,
          239.35000000000002,
          239.2,
          239.05,
          239.85,
          238.8,
          238.8,
          238.5,
          237.1,
          237.2,
          236.65,
          236.5,
          236.7,
          235.55,
          235.45,
          235.25,
          234.9,
          235.35,
          236.45,
          235.9,
          236.6,
          236.7,
          236.6,
          236.2,
          237.55,
          237.3,
          237.95,
          238.75,
          237.8,
          238.79999999999998,
          239.95,
          238.7,
          238.7,
          238.60000000000002,
          239.5,
          240.7,
          240.15,
          239.1,
          239.35000000000002,
          238.45,
          237.65,
          235.55,
          236.2,
          236.65,
          237.35,
          238.9,
          239.10000000000002,
          240.14999999999998,
          241.1,
          241.25,
          240,
          239.45000000000002,
          238.20000000000002,
          236.1,
          236.3,
          236.85000000000002,
          239.4,
          239.14999999999998,
          240.4,
          240.75,
          240.6,
          241,
          241.75,
          240.2,
          241.75,
          240.95,
          241.1,
          241.55,
          242.05,
          241.4,
          242.10000000000002,
          242.65,
          242.75,
          240.8,
          238.70000000000002,
          238.7,
          239,
          238.25,
          236.65,
          237.45,
          236.55,
          235.85,
          234.95,
          232.3,
          233.8,
          234.45,
          233.85,
          234.5,
          234.60000000000002,
          234.95,
          234.10000000000002,
          234.14999999999998,
          234.4,
          235.05,
          235.35,
          233.89999999999998,
          234.2,
          234,
          234.55,
          236.2,
          236.25,
          237.4,
          236.75,
          237.6,
          237.05,
          236.85000000000002,
          234.55,
          235.2,
          235.7,
          235.45,
          234.64999999999998,
          234.5,
          234.5,
          234.4,
          234.6,
          234.15,
          235.15,
          235.65,
          235.2,
          235.5,
          235,
          235.65,
          235.75,
          235.79999999999998,
          234.7,
          233.65,
          232.2,
          232.6,
          232.25,
          232.6,
          233.1,
          232.89999999999998,
          232.95,
          233.65,
          234.10000000000002,
          233.3,
          231.89999999999998,
          229.05,
          228.55,
          229.55,
          229.4,
          230.05,
          230.45,
          229.85,
          230.45,
          230.1,
          230.05,
          230.05,
          230.10000000000002,
          230.55,
          232,
          231.6,
          232.25,
          231.8,
          230.75,
          230.5,
          229.85,
          229.45,
          229.55,
          229.64999999999998,
          229.7,
          228.25,
          227.4,
          226.55,
          226.8,
          226.55,
          226.65,
          225.8,
          226.25,
          225.95,
          225.8,
          225.4,
          224.9,
          225.25,
          225.85,
          225.05,
          223.6,
          223.8,
          224.9,
          223.25,
          221.2,
          222.4,
          221.8,
          222,
          221.99962476547842,
          221.6,
          221.5,
          222.5,
          224.5,
          225.25,
          224.3,
          223.75,
          224.7,
          227.6,
          227.95,
          229.3,
          225.7,
          227.25,
          226.55,
          223.4,
          224.54999999999998,
          224.65,
          224.8,
          222.25,
          222.3,
          218.65,
          218.54999999999998,
          219.1,
          219.2,
          219.10000000000002,
          219.35,
          219.6,
          218.54999999999998,
          219.5,
          220.25,
          220.25,
          220.3,
          220.85,
          221.1,
          219.85000000000002,
          220.2,
          220.05,
          219.85000000000002,
          220.55,
          219.5,
          219.5,
          219.1,
          218.45,
          218.7,
          218.45,
          218.89999999999998,
          218.8,
          217.14999999999998,
          217.3,
          215.60000000000002,
          216.1,
          217.45000000000002,
          218,
          218.1,
          217.3,
          217.15,
          217.7,
          217.8,
          218,
          218.3,
          216.85000000000002,
          217.05,
          217.3,
          217.45,
          216.45,
          216.2,
          216.5,
          216.8,
          216.15,
          216,
          216.8,
          216.85000000000002,
          216.4,
          216.25,
          216.75,
          216.4,
          215.55,
          214.95,
          214.6,
          213.7,
          213.8,
          213.45,
          215,
          214.45000000000002,
          214.1,
          213.8,
          213.7,
          213.60000000000002,
          213.79999999999998,
          214.45,
          213.35,
          213.3,
          213,
          214.85,
          214.4,
          213.3,
          213.6,
          214.2,
          214.05,
          213.95,
          214.4,
          214.64999999999998,
          214.85,
          214.75,
          215.60000000000002,
          215.1,
          214.95000000000002,
          215.35000000000002,
          214.85000000000002,
          214.65,
          215.4,
          215.05,
          215,
          215.10000000000002,
          214.85,
          215.8,
          215.3,
          215.15,
          214.2,
          215.05,
          215.05,
          215.2,
          215.04999999999998,
          215.85,
          215.89999999999998,
          215.5,
          214.05,
          214.85,
          215.3,
          215.14999999999998,
          215.1,
          214.89999999999998,
          214,
          214.25,
          212.85,
          211.54999999999998,
          211.6,
          212.6,
          212.7,
          212.05,
          211.9,
          213.14999999999998,
          213.25,
          213.85000000000002,
          213.60000000000002,
          213.64999999999998,
          214.05,
          213.4,
          212.85000000000002,
          212.75,
          212.7,
          212.54999999999998,
          212.2,
          212.45,
          212.5,
          212.8,
          212.2,
          213.10000000000002,
          212.45000000000002,
          212.85,
          213,
          213.10000000000002,
          212.79999999999998,
          212.70000000000002,
          211.3,
          211.45,
          210.85000000000002,
          211.3,
          210.7,
          210.60000000000002,
          211.05,
          210.70000000000002,
          210.2,
          209.95,
          210.05,
          208.20000000000002,
          209.45,
          209.25,
          209.75,
          209.85,
          208.55,
          208.60000000000002,
          207.3,
          207.35,
          207.2,
          207.95,
          208.3,
          208,
          208.55,
          208.9,
          208.1,
          209.45,
          207.95,
          208.7,
          208.65,
          207.3,
          206.75,
          207.9,
          207.8,
          208.8,
          208.64999999999998,
          209.2,
          209.2,
          209.4,
          209.85,
          209.15,
          209.7,
          210.25,
          209.75,
          209.5,
          208.75,
          208.65,
          207.95,
          208.35,
          208.5,
          207.4,
          207.05,
          207.3,
          206.7,
          206.95,
          207.35000000000002,
          207,
          205.3,
          207.10000000000002,
          207.85000000000002,
          207.4,
          207.6,
          206.25,
          205.2,
          205.85000000000002,
          207.5,
          208.3,
          207.8,
          207.8,
          207.35,
          207.5,
          208.05,
          207.7,
          207.4,
          206.8,
          207.5,
          207.35,
          207.60000000000002,
          207.35000000000002,
          207.2,
          205.75,
          205.35,
          204.65,
          205.4,
          205.1,
          206.65,
          206.55,
          206.85,
          207.25,
          206.3,
          207.1,
          206,
          206.65,
          206.8,
          207.3,
          207.5,
          206.89999999999998,
          206.85,
          207.25,
          206.9,
          206.2,
          206.8,
          206.45,
          206.25,
          204.89999999999998,
          205.10000000000002,
          206.55,
          202.8,
          203.85,
          204.45,
          205.45,
          205.95,
          205.39999999999998,
          203.7,
          204.3,
          204.85000000000002,
          204.4,
          204.25,
          203.85000000000002,
          204.05,
          204.2,
          204.15,
          203.4,
          203.10000000000002,
          204.15,
          203.8,
          203.8,
          203.85,
          204.7,
          203,
          203,
          202.95,
          202.8,
          202.55,
          204.3,
          204.5,
          203.85,
          204.15,
          203.65,
          204.5,
          204,
          203.05,
          201.60000000000002,
          199.2,
          197.8,
          197.1,
          197.75,
          197.8,
          198.6,
          198.95,
          199.9,
          200.85000000000002,
          200.7,
          199.95,
          198.64999999999998,
          199.85,
          200.2,
          199.64999999999998,
          200,
          199.8,
          201.10000000000002,
          199.15,
          197.6,
          198.10000000000002,
          197.8,
          196.7,
          196.55,
          195.5,
          197,
          196.35,
          196.3,
          195.05,
          196.4,
          194.10000000000002,
          195,
          195.15,
          195.25,
          194.45,
          194.25,
          194.85000000000002,
          195.1,
          195.35000000000002,
          193.25,
          195.3,
          195.35000000000002,
          195.65,
          197.6,
          198.55,
          197.8,
          199.35000000000002,
          192.85000000000002,
          194,
          190.5,
          191.64999999999998,
          194.35000000000002,
          196.95,
          197.65,
          195.75,
          196.5,
          195.05,
          195.3,
          196.55,
          194.95,
          195.1,
          194.7,
          195.15,
          195.85,
          196.3,
          196.2,
          197.6,
          197.59108818011256,
          188.1,
          185.9,
          188.7,
          187.85,
          187.7,
          189.05,
          191.3,
          190.45,
          190.85,
          187.9,
          187.75,
          189.89999999999998,
          187.9,
          188.8,
          189.60000000000002,
          190.14999999999998,
          191.3,
          191.75,
          192.45,
          194.14999999999998,
          193.05,
          191.7,
          191.2,
          191.85,
          192.35,
          191.7,
          193.5,
          191.60000000000002,
          192.85,
          193.95,
          192.7,
          188.75,
          195.55,
          194.15,
          195.75,
          199.8,
          200.45,
          198.04999999999998,
          197.14999999999998,
          199.79999999999998,
          201.95,
          199.9,
          198.64999999999998,
          199,
          199.25,
          199.7,
          203.15,
          201,
          202.85,
          205.05,
          202.60000000000002,
          203.25,
          203.3,
          205.3,
          205.7,
          205.39999999999998,
          199.1,
          203.20000000000002,
          202.7,
          202.55,
          201.55,
          200.89999999999998,
          197,
          197.95000000000002,
          200.8,
          201.3,
          202.2,
          204.55,
          206.35,
          203.29999999999998,
          206,
          203.95000000000002,
          204.65,
          204.3,
          198.95,
          200.70000000000002,
          196.55,
          195.60000000000002,
          198.1,
          196.64999999999998,
          197.89999999999998,
          198.5,
          201.5,
          202.35,
          207,
          207.60000000000002,
          206.25,
          209.05,
          203.7,
          204.95,
          202.7,
          202.8,
          201.95000000000002,
          199.9,
          198.85000000000002,
          198.60000000000002,
          197.35000000000002,
          197.55,
          199.35000000000002,
          200.5,
          200.10000000000002,
          199.35000000000002,
          196.35,
          196.75,
          194.25,
          193.64999999999998,
          191.60000000000002,
          194.65,
          194.7,
          192.85,
          193,
          194.04999999999998,
          194.25,
          194.4,
          194.15,
          190.4,
          189.95,
          188.2,
          185.75,
          183.95,
          185.05,
          181.9,
          183.4,
          181.2,
          182.89999999999998,
          183.55,
          182.95,
          182.2,
          183.6,
          181.45,
          181.35,
          181.75,
          182.75,
          183.35,
          183.35,
          182.60000000000002,
          183.55,
          187.05,
          184.7,
          185.85,
          184.7,
          186.5,
          186.5,
          185.35,
          184.60000000000002,
          184.25,
          182,
          182.89999999999998,
          183.45,
          181.7,
          181.95,
          182.7,
          182.8,
          183.05,
          183.15,
          182.05,
          182.2,
          182.2,
          181.25,
          181.2,
          180.7,
          180.45,
          180.7,
          180.95,
          180.5,
          179.95,
          180.55,
          181.60000000000002,
          181.45,
          181.05,
          182,
          181.35,
          182.2,
          183,
          182.55,
          182.39999999999998,
          183.25,
          182.35,
          182.3,
          182.55,
          182.64999999999998,
          182.25,
          182,
          182.1,
          181.95,
          179.25,
          180.45,
          184.45,
          181.64999999999998,
          180.9,
          180.95,
          182,
          181.45,
          182.3,
          181.1,
          182.7,
          184.7,
          185.60000000000002,
          186.35,
          188.4,
          186.3,
          185.55,
          186.3,
          187.9,
          192.45,
          189.54999999999998,
          187.55,
          186.85,
          186.65,
          185.95,
          188.8,
          187.5,
          185.35000000000002,
          183.3,
          184.95,
          185,
          186.95,
          187.4,
          186.2,
          186.8,
          186.2,
          187.4,
          187.35,
          188.45,
          187.85000000000002,
          186.05,
          186,
          184.85,
          180.5,
          181.7,
          179.25,
          180.8,
          182.55,
          183.45,
          182.60000000000002,
          184.4,
          184.6,
          185.15,
          184,
          183.3,
          181.05,
          181.35,
          181.45,
          181.6,
          181.7,
          181.39999999999998,
          180.9,
          181,
          179.5,
          181,
          181.85,
          181.35000000000002,
          180.39999999999998,
          181.39999999999998,
          180.5,
          181.2,
          180.45,
          180,
          180.75,
          180.39999999999998,
          180.2,
          180.39999999999998,
          181.25,
          183.14999999999998,
          181.8,
          181.7,
          181.05,
          181,
          180.1,
          180.4,
          179.64999999999998,
          181.05,
          180.9,
          182.95,
          182.25,
          182.39999999999998,
          179.95,
          177.64999999999998,
          178.45,
          177.7,
          176.95,
          175.75,
          176.4,
          176.95,
          177.25,
          175,
          176.8,
          176.05,
          175.5,
          174.7,
          173.35000000000002,
          172.75,
          174.05,
          174.05,
          174.05,
          174.35,
          174.7,
          174.95,
          174.14999999999998,
          172.64999999999998,
          173.1,
          173.25,
          173.5,
          173.45,
          172.55,
          172.45,
          171.9,
          171.45,
          171.1,
          171.2,
          171.2,
          170.85,
          171.15,
          171.85,
          171.64999999999998,
          171.9,
          172.35,
          171.95,
          172.05,
          171.95,
          171,
          170.75,
          170.2,
          171,
          170.4,
          168.05,
          168.45,
          169.05,
          169.10000000000002,
          169.45,
          168.9,
          167.45,
          167.2,
          168.95,
          167.95,
          168.4,
          167.6,
          167.35000000000002,
          167.9,
          169.15,
          168.2,
          167.8,
          168.1,
          168,
          168.45,
          168.85000000000002,
          166.7,
          166.8,
          166.64999999999998,
          166.65,
          166.45,
          166.7,
          166.15,
          164.3,
          164.45,
          165.3,
          165.05,
          164.4,
          164.7,
          164.5,
          166.55,
          165.85000000000002,
          164.85,
          164.35,
          163.6,
          164.60000000000002,
          163.60000000000002,
          163.5,
          163.2,
          164.25,
          165.10000000000002,
          165.75,
          166.05,
          163.95,
          163.1
         ]
        },
        {
         "line": {
          "color": "green"
         },
         "mode": "lines",
         "name": "SuperTrend Uptrend",
         "showlegend": true,
         "type": "scatter",
         "x": [
          "2023-05-17T09:15:00+05:30",
          "2023-05-17T09:16:00+05:30"
         ],
         "y": [
          null,
          -87.57499999999999
         ]
        },
        {
         "line": {
          "color": "green"
         },
         "mode": "lines",
         "name": "SuperTrend Uptrend",
         "showlegend": false,
         "type": "scatter",
         "x": [
          "2023-05-17T09:16:00+05:30",
          "2023-05-17T09:17:00+05:30"
         ],
         "y": [
          -87.57499999999999,
          -39.224999999999795
         ]
        },
        {
         "line": {
          "color": "green"
         },
         "mode": "lines",
         "name": "SuperTrend Uptrend",
         "showlegend": false,
         "type": "scatter",
         "x": [
          "2023-05-17T09:17:00+05:30",
          "2023-05-17T09:18:00+05:30"
         ],
         "y": [
          -39.224999999999795,
          -6.168749999999875
         ]
        },
        {
         "line": {
          "color": "green"
         },
         "mode": "lines",
         "name": "SuperTrend Uptrend",
         "showlegend": false,
         "type": "scatter",
         "x": [
          "2023-05-17T09:18:00+05:30",
          "2023-05-17T09:19:00+05:30"
         ],
         "y": [
          -6.168749999999875,
          27.504687500000102
         ]
        },
        {
         "line": {
          "color": "green"
         },
         "mode": "lines",
         "name": "SuperTrend Uptrend",
         "showlegend": false,
         "type": "scatter",
         "x": [
          "2023-05-17T09:19:00+05:30",
          "2023-05-17T09:20:00+05:30"
         ],
         "y": [
          27.504687500000102,
          32.27226562500013
         ]
        },
        {
         "line": {
          "color": "green"
         },
         "mode": "lines",
         "name": "SuperTrend Uptrend",
         "showlegend": false,
         "type": "scatter",
         "x": [
          "2023-05-17T09:20:00+05:30",
          "2023-05-17T09:21:00+05:30"
         ],
         "y": [
          32.27226562500013,
          46.022949218750114
         ]
        },
        {
         "line": {
          "color": "green"
         },
         "mode": "lines",
         "name": "SuperTrend Uptrend",
         "showlegend": false,
         "type": "scatter",
         "x": [
          "2023-05-17T09:21:00+05:30",
          "2023-05-17T09:22:00+05:30"
         ],
         "y": [
          46.022949218750114,
          52.24221191406258
         ]
        },
        {
         "line": {
          "color": "green"
         },
         "mode": "lines",
         "name": "SuperTrend Uptrend",
         "showlegend": false,
         "type": "scatter",
         "x": [
          "2023-05-17T09:22:00+05:30",
          "2023-05-17T09:23:00+05:30"
         ],
         "y": [
          52.24221191406258,
          81.8566589355469
         ]
        },
        {
         "line": {
          "color": "green"
         },
         "mode": "lines",
         "name": "SuperTrend Uptrend",
         "showlegend": false,
         "type": "scatter",
         "x": [
          "2023-05-17T09:23:00+05:30",
          "2023-05-17T09:24:00+05:30"
         ],
         "y": [
          81.8566589355469,
          100.71749420166006
         ]
        },
        {
         "line": {
          "color": "green"
         },
         "mode": "lines",
         "name": "SuperTrend Uptrend",
         "showlegend": false,
         "type": "scatter",
         "x": [
          "2023-05-17T09:24:00+05:30",
          "2023-05-17T09:25:00+05:30"
         ],
         "y": [
          100.71749420166006,
          100.71749420166006
         ]
        },
        {
         "line": {
          "color": "green"
         },
         "mode": "lines",
         "name": "SuperTrend Uptrend",
         "showlegend": false,
         "type": "scatter",
         "x": [
          "2023-05-17T09:25:00+05:30",
          "2023-05-17T09:26:00+05:30"
         ],
         "y": [
          100.71749420166006,
          100.71749420166006
         ]
        },
        {
         "line": {
          "color": "green"
         },
         "mode": "lines",
         "name": "SuperTrend Uptrend",
         "showlegend": false,
         "type": "scatter",
         "x": [
          "2023-05-17T09:26:00+05:30",
          "2023-05-17T09:27:00+05:30"
         ],
         "y": [
          100.71749420166006,
          100.71749420166006
         ]
        },
        {
         "line": {
          "color": "green"
         },
         "mode": "lines",
         "name": "SuperTrend Uptrend",
         "showlegend": false,
         "type": "scatter",
         "x": [
          "2023-05-17T09:27:00+05:30",
          "2023-05-17T09:28:00+05:30"
         ],
         "y": [
          100.71749420166006,
          100.71749420166006
         ]
        },
        {
         "line": {
          "color": "green"
         },
         "mode": "lines",
         "name": "SuperTrend Uptrend",
         "showlegend": false,
         "type": "scatter",
         "x": [
          "2023-05-17T09:28:00+05:30",
          "2023-05-17T09:29:00+05:30"
         ],
         "y": [
          100.71749420166006,
          100.71749420166006
         ]
        },
        {
         "line": {
          "color": "green"
         },
         "mode": "lines",
         "name": "SuperTrend Uptrend",
         "showlegend": false,
         "type": "scatter",
         "x": [
          "2023-05-17T09:29:00+05:30",
          "2023-05-17T09:30:00+05:30"
         ],
         "y": [
          100.71749420166006,
          100.71749420166006
         ]
        },
        {
         "line": {
          "color": "green"
         },
         "mode": "lines",
         "name": "SuperTrend Uptrend",
         "showlegend": false,
         "type": "scatter",
         "x": [
          "2023-05-17T09:30:00+05:30",
          "2023-05-17T09:31:00+05:30"
         ],
         "y": [
          100.71749420166006,
          100.71749420166006
         ]
        },
        {
         "line": {
          "color": "green"
         },
         "mode": "lines",
         "name": "SuperTrend Uptrend",
         "showlegend": false,
         "type": "scatter",
         "x": [
          "2023-05-17T09:31:00+05:30",
          "2023-05-17T09:32:00+05:30"
         ],
         "y": [
          100.71749420166006,
          100.71749420166006
         ]
        },
        {
         "line": {
          "color": "green"
         },
         "mode": "lines",
         "name": "SuperTrend Uptrend",
         "showlegend": false,
         "type": "scatter",
         "x": [
          "2023-05-17T09:32:00+05:30",
          "2023-05-17T09:33:00+05:30"
         ],
         "y": [
          100.71749420166006,
          100.71749420166006
         ]
        },
        {
         "line": {
          "color": "green"
         },
         "mode": "lines",
         "name": "SuperTrend Uptrend",
         "showlegend": false,
         "type": "scatter",
         "x": [
          "2023-05-17T09:33:00+05:30",
          "2023-05-17T09:34:00+05:30"
         ],
         "y": [
          100.71749420166006,
          100.71749420166006
         ]
        },
        {
         "line": {
          "color": "green"
         },
         "mode": "lines",
         "name": "SuperTrend Uptrend",
         "showlegend": false,
         "type": "scatter",
         "x": [
          "2023-05-17T09:34:00+05:30",
          "2023-05-17T09:35:00+05:30"
         ],
         "y": [
          100.71749420166006,
          100.71749420166006
         ]
        },
        {
         "line": {
          "color": "green"
         },
         "mode": "lines",
         "name": "SuperTrend Uptrend",
         "showlegend": false,
         "type": "scatter",
         "x": [
          "2023-05-17T09:35:00+05:30",
          "2023-05-17T09:36:00+05:30"
         ],
         "y": [
          100.71749420166006,
          100.71749420166006
         ]
        },
        {
         "line": {
          "color": "green"
         },
         "mode": "lines",
         "name": "SuperTrend Uptrend",
         "showlegend": false,
         "type": "scatter",
         "x": [
          "2023-05-17T09:36:00+05:30",
          "2023-05-17T09:37:00+05:30"
         ],
         "y": [
          100.71749420166006,
          100.71749420166006
         ]
        },
        {
         "line": {
          "color": "green"
         },
         "mode": "lines",
         "name": "SuperTrend Uptrend",
         "showlegend": false,
         "type": "scatter",
         "x": [
          "2023-05-17T09:37:00+05:30",
          "2023-05-17T09:38:00+05:30"
         ],
         "y": [
          100.71749420166006,
          115.4022290472843
         ]
        },
        {
         "line": {
          "color": "green"
         },
         "mode": "lines",
         "name": "SuperTrend Uptrend",
         "showlegend": false,
         "type": "scatter",
         "x": [
          "2023-05-17T09:38:00+05:30",
          "2023-05-17T09:39:00+05:30"
         ],
         "y": [
          115.4022290472843,
          115.4022290472843
         ]
        },
        {
         "line": {
          "color": "green"
         },
         "mode": "lines",
         "name": "SuperTrend Uptrend",
         "showlegend": false,
         "type": "scatter",
         "x": [
          "2023-05-17T09:39:00+05:30",
          "2023-05-17T09:40:00+05:30"
         ],
         "y": [
          115.4022290472843,
          120.3996913390973
         ]
        },
        {
         "line": {
          "color": "green"
         },
         "mode": "lines",
         "name": "SuperTrend Uptrend",
         "showlegend": false,
         "type": "scatter",
         "x": [
          "2023-05-17T09:40:00+05:30",
          "2023-05-17T09:41:00+05:30"
         ],
         "y": [
          120.3996913390973,
          128.34351850432313
         ]
        },
        {
         "line": {
          "color": "green"
         },
         "mode": "lines",
         "name": "SuperTrend Uptrend",
         "showlegend": false,
         "type": "scatter",
         "x": [
          "2023-05-17T09:41:00+05:30",
          "2023-05-17T09:42:00+05:30"
         ],
         "y": [
          128.34351850432313,
          133.1013888782423
         ]
        },
        {
         "line": {
          "color": "green"
         },
         "mode": "lines",
         "name": "SuperTrend Uptrend",
         "showlegend": false,
         "type": "scatter",
         "x": [
          "2023-05-17T09:42:00+05:30",
          "2023-05-17T09:43:00+05:30"
         ],
         "y": [
          133.1013888782423,
          139.88229165868182
         ]
        },
        {
         "line": {
          "color": "green"
         },
         "mode": "lines",
         "name": "SuperTrend Uptrend",
         "showlegend": false,
         "type": "scatter",
         "x": [
          "2023-05-17T09:43:00+05:30",
          "2023-05-17T09:44:00+05:30"
         ],
         "y": [
          139.88229165868182,
          147.21796874401122
         ]
        },
        {
         "line": {
          "color": "green"
         },
         "mode": "lines",
         "name": "SuperTrend Uptrend",
         "showlegend": false,
         "type": "scatter",
         "x": [
          "2023-05-17T09:44:00+05:30",
          "2023-05-17T09:45:00+05:30"
         ],
         "y": [
          147.21796874401122,
          147.21796874401122
         ]
        },
        {
         "line": {
          "color": "green"
         },
         "mode": "lines",
         "name": "SuperTrend Uptrend",
         "showlegend": false,
         "type": "scatter",
         "x": [
          "2023-05-17T09:45:00+05:30",
          "2023-05-17T09:46:00+05:30"
         ],
         "y": [
          147.21796874401122,
          148.68354491850647
         ]
        },
        {
         "line": {
          "color": "green"
         },
         "mode": "lines",
         "name": "SuperTrend Uptrend",
         "showlegend": false,
         "type": "scatter",
         "x": [
          "2023-05-17T09:46:00+05:30",
          "2023-05-17T09:47:00+05:30"
         ],
         "y": [
          148.68354491850647,
          151.79390868887984
         ]
        },
        {
         "line": {
          "color": "green"
         },
         "mode": "lines",
         "name": "SuperTrend Uptrend",
         "showlegend": false,
         "type": "scatter",
         "x": [
          "2023-05-17T09:47:00+05:30",
          "2023-05-17T09:48:00+05:30"
         ],
         "y": [
          151.79390868887984,
          151.79390868887984
         ]
        },
        {
         "line": {
          "color": "green"
         },
         "mode": "lines",
         "name": "SuperTrend Uptrend",
         "showlegend": false,
         "type": "scatter",
         "x": [
          "2023-05-17T09:48:00+05:30",
          "2023-05-17T09:49:00+05:30"
         ],
         "y": [
          151.79390868887984,
          158.61688613749493
         ]
        },
        {
         "line": {
          "color": "green"
         },
         "mode": "lines",
         "name": "SuperTrend Uptrend",
         "showlegend": false,
         "type": "scatter",
         "x": [
          "2023-05-17T09:49:00+05:30",
          "2023-05-17T09:50:00+05:30"
         ],
         "y": [
          158.61688613749493,
          158.61688613749493
         ]
        },
        {
         "line": {
          "color": "green"
         },
         "mode": "lines",
         "name": "SuperTrend Uptrend",
         "showlegend": false,
         "type": "scatter",
         "x": [
          "2023-05-17T09:50:00+05:30",
          "2023-05-17T09:51:00+05:30"
         ],
         "y": [
          158.61688613749493,
          158.61688613749493
         ]
        },
        {
         "line": {
          "color": "green"
         },
         "mode": "lines",
         "name": "SuperTrend Uptrend",
         "showlegend": false,
         "type": "scatter",
         "x": [
          "2023-05-17T09:51:00+05:30",
          "2023-05-17T09:52:00+05:30"
         ],
         "y": [
          158.61688613749493,
          158.61688613749493
         ]
        },
        {
         "line": {
          "color": "green"
         },
         "mode": "lines",
         "name": "SuperTrend Uptrend",
         "showlegend": false,
         "type": "scatter",
         "x": [
          "2023-05-17T09:52:00+05:30",
          "2023-05-17T09:53:00+05:30"
         ],
         "y": [
          158.61688613749493,
          158.61688613749493
         ]
        },
        {
         "line": {
          "color": "green"
         },
         "mode": "lines",
         "name": "SuperTrend Uptrend",
         "showlegend": false,
         "type": "scatter",
         "x": [
          "2023-05-17T09:53:00+05:30",
          "2023-05-17T09:54:00+05:30"
         ],
         "y": [
          158.61688613749493,
          158.61688613749493
         ]
        },
        {
         "line": {
          "color": "green"
         },
         "mode": "lines",
         "name": "SuperTrend Uptrend",
         "showlegend": false,
         "type": "scatter",
         "x": [
          "2023-05-17T09:54:00+05:30",
          "2023-05-17T09:55:00+05:30"
         ],
         "y": [
          158.61688613749493,
          158.61688613749493
         ]
        },
        {
         "line": {
          "color": "green"
         },
         "mode": "lines",
         "name": "SuperTrend Uptrend",
         "showlegend": false,
         "type": "scatter",
         "x": [
          "2023-05-17T09:55:00+05:30",
          "2023-05-17T09:56:00+05:30"
         ],
         "y": [
          158.61688613749493,
          158.61688613749493
         ]
        },
        {
         "line": {
          "color": "green"
         },
         "mode": "lines",
         "name": "SuperTrend Uptrend",
         "showlegend": false,
         "type": "scatter",
         "x": [
          "2023-05-17T09:56:00+05:30",
          "2023-05-17T09:57:00+05:30"
         ],
         "y": [
          158.61688613749493,
          158.61688613749493
         ]
        },
        {
         "line": {
          "color": "green"
         },
         "mode": "lines",
         "name": "SuperTrend Uptrend",
         "showlegend": false,
         "type": "scatter",
         "x": [
          "2023-05-17T09:57:00+05:30",
          "2023-05-17T09:58:00+05:30"
         ],
         "y": [
          158.61688613749493,
          158.61688613749493
         ]
        },
        {
         "line": {
          "color": "green"
         },
         "mode": "lines",
         "name": "SuperTrend Uptrend",
         "showlegend": false,
         "type": "scatter",
         "x": [
          "2023-05-17T09:58:00+05:30",
          "2023-05-17T09:59:00+05:30"
         ],
         "y": [
          158.61688613749493,
          158.61688613749493
         ]
        },
        {
         "line": {
          "color": "green"
         },
         "mode": "lines",
         "name": "SuperTrend Uptrend",
         "showlegend": false,
         "type": "scatter",
         "x": [
          "2023-05-17T09:59:00+05:30",
          "2023-05-17T10:00:00+05:30"
         ],
         "y": [
          158.61688613749493,
          158.61688613749493
         ]
        },
        {
         "line": {
          "color": "green"
         },
         "mode": "lines",
         "name": "SuperTrend Uptrend",
         "showlegend": false,
         "type": "scatter",
         "x": [
          "2023-05-17T10:00:00+05:30",
          "2023-05-17T10:01:00+05:30"
         ],
         "y": [
          158.61688613749493,
          158.61688613749493
         ]
        },
        {
         "line": {
          "color": "green"
         },
         "mode": "lines",
         "name": "SuperTrend Uptrend",
         "showlegend": false,
         "type": "scatter",
         "x": [
          "2023-05-17T10:01:00+05:30",
          "2023-05-17T10:02:00+05:30"
         ],
         "y": [
          158.61688613749493,
          158.61688613749493
         ]
        },
        {
         "line": {
          "color": "green"
         },
         "mode": "lines",
         "name": "SuperTrend Uptrend",
         "showlegend": false,
         "type": "scatter",
         "x": [
          "2023-05-17T10:02:00+05:30",
          "2023-05-17T10:03:00+05:30"
         ],
         "y": [
          158.61688613749493,
          158.61688613749493
         ]
        },
        {
         "line": {
          "color": "green"
         },
         "mode": "lines",
         "name": "SuperTrend Uptrend",
         "showlegend": false,
         "type": "scatter",
         "x": [
          "2023-05-17T10:03:00+05:30",
          "2023-05-17T10:04:00+05:30"
         ],
         "y": [
          158.61688613749493,
          158.61688613749493
         ]
        },
        {
         "line": {
          "color": "green"
         },
         "mode": "lines",
         "name": "SuperTrend Uptrend",
         "showlegend": false,
         "type": "scatter",
         "x": [
          "2023-05-17T10:04:00+05:30",
          "2023-05-17T10:05:00+05:30"
         ],
         "y": [
          158.61688613749493,
          158.61688613749493
         ]
        },
        {
         "line": {
          "color": "green"
         },
         "mode": "lines",
         "name": "SuperTrend Uptrend",
         "showlegend": false,
         "type": "scatter",
         "x": [
          "2023-05-17T10:05:00+05:30",
          "2023-05-17T10:06:00+05:30"
         ],
         "y": [
          158.61688613749493,
          158.61688613749493
         ]
        },
        {
         "line": {
          "color": "green"
         },
         "mode": "lines",
         "name": "SuperTrend Uptrend",
         "showlegend": false,
         "type": "scatter",
         "x": [
          "2023-05-17T10:06:00+05:30",
          "2023-05-17T10:07:00+05:30"
         ],
         "y": [
          158.61688613749493,
          158.61688613749493
         ]
        },
        {
         "line": {
          "color": "green"
         },
         "mode": "lines",
         "name": "SuperTrend Uptrend",
         "showlegend": false,
         "type": "scatter",
         "x": [
          "2023-05-17T10:07:00+05:30",
          "2023-05-17T10:08:00+05:30"
         ],
         "y": [
          158.61688613749493,
          158.61688613749493
         ]
        },
        {
         "line": {
          "color": "green"
         },
         "mode": "lines",
         "name": "SuperTrend Uptrend",
         "showlegend": false,
         "type": "scatter",
         "x": [
          "2023-05-17T10:08:00+05:30",
          "2023-05-17T10:09:00+05:30"
         ],
         "y": [
          158.61688613749493,
          158.61688613749493
         ]
        },
        {
         "line": {
          "color": "green"
         },
         "mode": "lines",
         "name": "SuperTrend Uptrend",
         "showlegend": false,
         "type": "scatter",
         "x": [
          "2023-05-17T10:09:00+05:30",
          "2023-05-17T10:10:00+05:30"
         ],
         "y": [
          158.61688613749493,
          158.61688613749493
         ]
        },
        {
         "line": {
          "color": "green"
         },
         "mode": "lines",
         "name": "SuperTrend Uptrend",
         "showlegend": false,
         "type": "scatter",
         "x": [
          "2023-05-17T10:10:00+05:30",
          "2023-05-17T10:11:00+05:30"
         ],
         "y": [
          158.61688613749493,
          160.8436221297224
         ]
        },
        {
         "line": {
          "color": "green"
         },
         "mode": "lines",
         "name": "SuperTrend Uptrend",
         "showlegend": false,
         "type": "scatter",
         "x": [
          "2023-05-17T10:11:00+05:30",
          "2023-05-17T10:12:00+05:30"
         ],
         "y": [
          160.8436221297224,
          170.17021659729184
         ]
        },
        {
         "line": {
          "color": "green"
         },
         "mode": "lines",
         "name": "SuperTrend Uptrend",
         "showlegend": false,
         "type": "scatter",
         "x": [
          "2023-05-17T10:12:00+05:30",
          "2023-05-17T10:13:00+05:30"
         ],
         "y": [
          170.17021659729184,
          183.04016244796878
         ]
        },
        {
         "line": {
          "color": "green"
         },
         "mode": "lines",
         "name": "SuperTrend Uptrend",
         "showlegend": false,
         "type": "scatter",
         "x": [
          "2023-05-17T10:13:00+05:30",
          "2023-05-17T10:14:00+05:30"
         ],
         "y": [
          183.04016244796878,
          183.04016244796878
         ]
        },
        {
         "line": {
          "color": "green"
         },
         "mode": "lines",
         "name": "SuperTrend Uptrend",
         "showlegend": false,
         "type": "scatter",
         "x": [
          "2023-05-17T10:14:00+05:30",
          "2023-05-17T10:15:00+05:30"
         ],
         "y": [
          183.04016244796878,
          183.04016244796878
         ]
        },
        {
         "line": {
          "color": "green"
         },
         "mode": "lines",
         "name": "SuperTrend Uptrend",
         "showlegend": false,
         "type": "scatter",
         "x": [
          "2023-05-17T10:15:00+05:30",
          "2023-05-17T10:16:00+05:30"
         ],
         "y": [
          183.04016244796878,
          183.04016244796878
         ]
        },
        {
         "line": {
          "color": "green"
         },
         "mode": "lines",
         "name": "SuperTrend Uptrend",
         "showlegend": false,
         "type": "scatter",
         "x": [
          "2023-05-17T10:16:00+05:30",
          "2023-05-17T10:17:00+05:30"
         ],
         "y": [
          183.04016244796878,
          183.04016244796878
         ]
        },
        {
         "line": {
          "color": "green"
         },
         "mode": "lines",
         "name": "SuperTrend Uptrend",
         "showlegend": false,
         "type": "scatter",
         "x": [
          "2023-05-17T10:17:00+05:30",
          "2023-05-17T10:18:00+05:30"
         ],
         "y": [
          183.04016244796878,
          183.04016244796878
         ]
        },
        {
         "line": {
          "color": "green"
         },
         "mode": "lines",
         "name": "SuperTrend Uptrend",
         "showlegend": false,
         "type": "scatter",
         "x": [
          "2023-05-17T10:18:00+05:30",
          "2023-05-17T10:19:00+05:30"
         ],
         "y": [
          183.04016244796878,
          183.04016244796878
         ]
        },
        {
         "line": {
          "color": "green"
         },
         "mode": "lines",
         "name": "SuperTrend Uptrend",
         "showlegend": false,
         "type": "scatter",
         "x": [
          "2023-05-17T10:19:00+05:30",
          "2023-05-17T10:20:00+05:30"
         ],
         "y": [
          183.04016244796878,
          183.04016244796878
         ]
        },
        {
         "line": {
          "color": "green"
         },
         "mode": "lines",
         "name": "SuperTrend Uptrend",
         "showlegend": false,
         "type": "scatter",
         "x": [
          "2023-05-17T10:20:00+05:30",
          "2023-05-17T10:21:00+05:30"
         ],
         "y": [
          183.04016244796878,
          183.04016244796878
         ]
        },
        {
         "line": {
          "color": "green"
         },
         "mode": "lines",
         "name": "SuperTrend Uptrend",
         "showlegend": false,
         "type": "scatter",
         "x": [
          "2023-05-17T10:21:00+05:30",
          "2023-05-17T10:22:00+05:30"
         ],
         "y": [
          183.04016244796878,
          183.04016244796878
         ]
        },
        {
         "line": {
          "color": "green"
         },
         "mode": "lines",
         "name": "SuperTrend Uptrend",
         "showlegend": false,
         "type": "scatter",
         "x": [
          "2023-05-17T10:22:00+05:30",
          "2023-05-17T10:23:00+05:30"
         ],
         "y": [
          183.04016244796878,
          183.04016244796878
         ]
        },
        {
         "line": {
          "color": "green"
         },
         "mode": "lines",
         "name": "SuperTrend Uptrend",
         "showlegend": false,
         "type": "scatter",
         "x": [
          "2023-05-17T10:23:00+05:30",
          "2023-05-17T10:24:00+05:30"
         ],
         "y": [
          183.04016244796878,
          183.04016244796878
         ]
        },
        {
         "line": {
          "color": "green"
         },
         "mode": "lines",
         "name": "SuperTrend Uptrend",
         "showlegend": false,
         "type": "scatter",
         "x": [
          "2023-05-17T10:24:00+05:30",
          "2023-05-17T10:25:00+05:30"
         ],
         "y": [
          183.04016244796878,
          183.04016244796878
         ]
        },
        {
         "line": {
          "color": "green"
         },
         "mode": "lines",
         "name": "SuperTrend Uptrend",
         "showlegend": false,
         "type": "scatter",
         "x": [
          "2023-05-17T10:25:00+05:30",
          "2023-05-17T10:26:00+05:30"
         ],
         "y": [
          183.04016244796878,
          183.04016244796878
         ]
        },
        {
         "line": {
          "color": "green"
         },
         "mode": "lines",
         "name": "SuperTrend Uptrend",
         "showlegend": false,
         "type": "scatter",
         "x": [
          "2023-05-17T10:26:00+05:30",
          "2023-05-17T10:27:00+05:30"
         ],
         "y": [
          183.04016244796878,
          183.04016244796878
         ]
        },
        {
         "line": {
          "color": "green"
         },
         "mode": "lines",
         "name": "SuperTrend Uptrend",
         "showlegend": false,
         "type": "scatter",
         "x": [
          "2023-05-17T10:27:00+05:30",
          "2023-05-17T10:28:00+05:30"
         ],
         "y": [
          183.04016244796878,
          183.04016244796878
         ]
        },
        {
         "line": {
          "color": "green"
         },
         "mode": "lines",
         "name": "SuperTrend Uptrend",
         "showlegend": false,
         "type": "scatter",
         "x": [
          "2023-05-17T10:28:00+05:30",
          "2023-05-17T10:29:00+05:30"
         ],
         "y": [
          183.04016244796878,
          183.04016244796878
         ]
        },
        {
         "line": {
          "color": "green"
         },
         "mode": "lines",
         "name": "SuperTrend Uptrend",
         "showlegend": false,
         "type": "scatter",
         "x": [
          "2023-05-17T10:29:00+05:30",
          "2023-05-17T10:30:00+05:30"
         ],
         "y": [
          183.04016244796878,
          183.04016244796878
         ]
        },
        {
         "line": {
          "color": "green"
         },
         "mode": "lines",
         "name": "SuperTrend Uptrend",
         "showlegend": false,
         "type": "scatter",
         "x": [
          "2023-05-17T10:30:00+05:30",
          "2023-05-17T10:31:00+05:30"
         ],
         "y": [
          183.04016244796878,
          183.04016244796878
         ]
        },
        {
         "line": {
          "color": "green"
         },
         "mode": "lines",
         "name": "SuperTrend Uptrend",
         "showlegend": false,
         "type": "scatter",
         "x": [
          "2023-05-17T10:31:00+05:30",
          "2023-05-17T10:32:00+05:30"
         ],
         "y": [
          183.04016244796878,
          183.04016244796878
         ]
        },
        {
         "line": {
          "color": "green"
         },
         "mode": "lines",
         "name": "SuperTrend Uptrend",
         "showlegend": false,
         "type": "scatter",
         "x": [
          "2023-05-17T10:32:00+05:30",
          "2023-05-17T10:33:00+05:30"
         ],
         "y": [
          183.04016244796878,
          183.04016244796878
         ]
        },
        {
         "line": {
          "color": "green"
         },
         "mode": "lines",
         "name": "SuperTrend Uptrend",
         "showlegend": false,
         "type": "scatter",
         "x": [
          "2023-05-17T10:33:00+05:30",
          "2023-05-17T10:34:00+05:30"
         ],
         "y": [
          183.04016244796878,
          183.04016244796878
         ]
        },
        {
         "line": {
          "color": "green"
         },
         "mode": "lines",
         "name": "SuperTrend Uptrend",
         "showlegend": false,
         "type": "scatter",
         "x": [
          "2023-05-17T10:34:00+05:30",
          "2023-05-17T10:35:00+05:30"
         ],
         "y": [
          183.04016244796878,
          183.04016244796878
         ]
        },
        {
         "line": {
          "color": "green"
         },
         "mode": "lines",
         "name": "SuperTrend Uptrend",
         "showlegend": false,
         "type": "scatter",
         "x": [
          "2023-05-17T10:35:00+05:30",
          "2023-05-17T10:36:00+05:30"
         ],
         "y": [
          183.04016244796878,
          183.04016244796878
         ]
        },
        {
         "line": {
          "color": "green"
         },
         "mode": "lines",
         "name": "SuperTrend Uptrend",
         "showlegend": false,
         "type": "scatter",
         "x": [
          "2023-05-17T10:36:00+05:30",
          "2023-05-17T10:37:00+05:30"
         ],
         "y": [
          183.04016244796878,
          183.04016244796878
         ]
        },
        {
         "line": {
          "color": "green"
         },
         "mode": "lines",
         "name": "SuperTrend Uptrend",
         "showlegend": false,
         "type": "scatter",
         "x": [
          "2023-05-17T10:37:00+05:30",
          "2023-05-17T10:38:00+05:30"
         ],
         "y": [
          183.04016244796878,
          183.04016244796878
         ]
        },
        {
         "line": {
          "color": "green"
         },
         "mode": "lines",
         "name": "SuperTrend Uptrend",
         "showlegend": false,
         "type": "scatter",
         "x": [
          "2023-05-17T10:38:00+05:30",
          "2023-05-17T10:39:00+05:30"
         ],
         "y": [
          183.04016244796878,
          183.04016244796878
         ]
        },
        {
         "line": {
          "color": "green"
         },
         "mode": "lines",
         "name": "SuperTrend Uptrend",
         "showlegend": false,
         "type": "scatter",
         "x": [
          "2023-05-17T10:39:00+05:30",
          "2023-05-17T10:40:00+05:30"
         ],
         "y": [
          183.04016244796878,
          183.04016244796878
         ]
        },
        {
         "line": {
          "color": "green"
         },
         "mode": "lines",
         "name": "SuperTrend Uptrend",
         "showlegend": false,
         "type": "scatter",
         "x": [
          "2023-05-17T10:40:00+05:30",
          "2023-05-17T10:41:00+05:30"
         ],
         "y": [
          183.04016244796878,
          183.04016244796878
         ]
        },
        {
         "line": {
          "color": "green"
         },
         "mode": "lines",
         "name": "SuperTrend Uptrend",
         "showlegend": false,
         "type": "scatter",
         "x": [
          "2023-05-17T10:41:00+05:30",
          "2023-05-17T10:42:00+05:30"
         ],
         "y": [
          183.04016244796878,
          183.04016244796878
         ]
        },
        {
         "line": {
          "color": "green"
         },
         "mode": "lines",
         "name": "SuperTrend Uptrend",
         "showlegend": false,
         "type": "scatter",
         "x": [
          "2023-05-17T10:42:00+05:30",
          "2023-05-17T10:43:00+05:30"
         ],
         "y": [
          183.04016244796878,
          183.04016244796878
         ]
        },
        {
         "line": {
          "color": "green"
         },
         "mode": "lines",
         "name": "SuperTrend Uptrend",
         "showlegend": false,
         "type": "scatter",
         "x": [
          "2023-05-17T10:43:00+05:30",
          "2023-05-17T10:44:00+05:30"
         ],
         "y": [
          183.04016244796878,
          183.04016244796878
         ]
        },
        {
         "line": {
          "color": "green"
         },
         "mode": "lines",
         "name": "SuperTrend Uptrend",
         "showlegend": false,
         "type": "scatter",
         "x": [
          "2023-05-17T10:44:00+05:30",
          "2023-05-17T10:45:00+05:30"
         ],
         "y": [
          183.04016244796878,
          183.04016244796878
         ]
        },
        {
         "line": {
          "color": "green"
         },
         "mode": "lines",
         "name": "SuperTrend Uptrend",
         "showlegend": false,
         "type": "scatter",
         "x": [
          "2023-05-17T10:45:00+05:30",
          "2023-05-17T10:46:00+05:30"
         ],
         "y": [
          183.04016244796878,
          183.04016244796878
         ]
        },
        {
         "line": {
          "color": "green"
         },
         "mode": "lines",
         "name": "SuperTrend Uptrend",
         "showlegend": false,
         "type": "scatter",
         "x": [
          "2023-05-17T10:46:00+05:30",
          "2023-05-17T10:47:00+05:30"
         ],
         "y": [
          183.04016244796878,
          183.04016244796878
         ]
        },
        {
         "line": {
          "color": "green"
         },
         "mode": "lines",
         "name": "SuperTrend Uptrend",
         "showlegend": false,
         "type": "scatter",
         "x": [
          "2023-05-17T10:47:00+05:30",
          "2023-05-17T10:48:00+05:30"
         ],
         "y": [
          183.04016244796878,
          183.04016244796878
         ]
        },
        {
         "line": {
          "color": "green"
         },
         "mode": "lines",
         "name": "SuperTrend Uptrend",
         "showlegend": false,
         "type": "scatter",
         "x": [
          "2023-05-17T10:48:00+05:30",
          "2023-05-17T10:49:00+05:30"
         ],
         "y": [
          183.04016244796878,
          183.04016244796878
         ]
        },
        {
         "line": {
          "color": "green"
         },
         "mode": "lines",
         "name": "SuperTrend Uptrend",
         "showlegend": false,
         "type": "scatter",
         "x": [
          "2023-05-17T10:49:00+05:30",
          "2023-05-17T10:50:00+05:30"
         ],
         "y": [
          183.04016244796878,
          183.04016244796878
         ]
        },
        {
         "line": {
          "color": "green"
         },
         "mode": "lines",
         "name": "SuperTrend Uptrend",
         "showlegend": false,
         "type": "scatter",
         "x": [
          "2023-05-17T10:50:00+05:30",
          "2023-05-17T10:51:00+05:30"
         ],
         "y": [
          183.04016244796878,
          183.04016244796878
         ]
        },
        {
         "line": {
          "color": "green"
         },
         "mode": "lines",
         "name": "SuperTrend Uptrend",
         "showlegend": false,
         "type": "scatter",
         "x": [
          "2023-05-17T10:51:00+05:30",
          "2023-05-17T10:52:00+05:30"
         ],
         "y": [
          183.04016244796878,
          183.04016244796878
         ]
        },
        {
         "line": {
          "color": "green"
         },
         "mode": "lines",
         "name": "SuperTrend Uptrend",
         "showlegend": false,
         "type": "scatter",
         "x": [
          "2023-05-17T10:52:00+05:30",
          "2023-05-17T10:53:00+05:30"
         ],
         "y": [
          183.04016244796878,
          183.04016244796878
         ]
        },
        {
         "line": {
          "color": "green"
         },
         "mode": "lines",
         "name": "SuperTrend Uptrend",
         "showlegend": false,
         "type": "scatter",
         "x": [
          "2023-05-17T10:53:00+05:30",
          "2023-05-17T10:54:00+05:30"
         ],
         "y": [
          183.04016244796878,
          183.04016244796878
         ]
        },
        {
         "line": {
          "color": "green"
         },
         "mode": "lines",
         "name": "SuperTrend Uptrend",
         "showlegend": false,
         "type": "scatter",
         "x": [
          "2023-05-17T10:54:00+05:30",
          "2023-05-17T10:55:00+05:30"
         ],
         "y": [
          183.04016244796878,
          183.04016244796878
         ]
        },
        {
         "line": {
          "color": "green"
         },
         "mode": "lines",
         "name": "SuperTrend Uptrend",
         "showlegend": false,
         "type": "scatter",
         "x": [
          "2023-05-17T10:55:00+05:30",
          "2023-05-17T10:56:00+05:30"
         ],
         "y": [
          183.04016244796878,
          183.04016244796878
         ]
        },
        {
         "line": {
          "color": "green"
         },
         "mode": "lines",
         "name": "SuperTrend Uptrend",
         "showlegend": false,
         "type": "scatter",
         "x": [
          "2023-05-17T10:56:00+05:30",
          "2023-05-17T10:57:00+05:30"
         ],
         "y": [
          183.04016244796878,
          183.04016244796878
         ]
        },
        {
         "line": {
          "color": "green"
         },
         "mode": "lines",
         "name": "SuperTrend Uptrend",
         "showlegend": false,
         "type": "scatter",
         "x": [
          "2023-05-17T10:57:00+05:30",
          "2023-05-17T10:58:00+05:30"
         ],
         "y": [
          183.04016244796878,
          183.04016244796878
         ]
        },
        {
         "line": {
          "color": "green"
         },
         "mode": "lines",
         "name": "SuperTrend Uptrend",
         "showlegend": false,
         "type": "scatter",
         "x": [
          "2023-05-17T10:58:00+05:30",
          "2023-05-17T10:59:00+05:30"
         ],
         "y": [
          183.04016244796878,
          183.04016244796878
         ]
        },
        {
         "line": {
          "color": "green"
         },
         "mode": "lines",
         "name": "SuperTrend Uptrend",
         "showlegend": false,
         "type": "scatter",
         "x": [
          "2023-05-17T10:59:00+05:30",
          "2023-05-17T11:00:00+05:30"
         ],
         "y": [
          183.04016244796878,
          183.04016244796878
         ]
        },
        {
         "line": {
          "color": "green"
         },
         "mode": "lines",
         "name": "SuperTrend Uptrend",
         "showlegend": false,
         "type": "scatter",
         "x": [
          "2023-05-17T11:00:00+05:30",
          "2023-05-17T11:01:00+05:30"
         ],
         "y": [
          183.04016244796878,
          183.04016244796878
         ]
        },
        {
         "line": {
          "color": "green"
         },
         "mode": "lines",
         "name": "SuperTrend Uptrend",
         "showlegend": false,
         "type": "scatter",
         "x": [
          "2023-05-17T11:01:00+05:30",
          "2023-05-17T11:02:00+05:30"
         ],
         "y": [
          183.04016244796878,
          183.04016244796878
         ]
        },
        {
         "line": {
          "color": "green"
         },
         "mode": "lines",
         "name": "SuperTrend Uptrend",
         "showlegend": false,
         "type": "scatter",
         "x": [
          "2023-05-17T11:02:00+05:30",
          "2023-05-17T11:03:00+05:30"
         ],
         "y": [
          183.04016244796878,
          183.04016244796878
         ]
        },
        {
         "line": {
          "color": "green"
         },
         "mode": "lines",
         "name": "SuperTrend Uptrend",
         "showlegend": false,
         "type": "scatter",
         "x": [
          "2023-05-17T11:03:00+05:30",
          "2023-05-17T11:04:00+05:30"
         ],
         "y": [
          183.04016244796878,
          183.04016244796878
         ]
        },
        {
         "line": {
          "color": "green"
         },
         "mode": "lines",
         "name": "SuperTrend Uptrend",
         "showlegend": false,
         "type": "scatter",
         "x": [
          "2023-05-17T11:04:00+05:30",
          "2023-05-17T11:05:00+05:30"
         ],
         "y": [
          183.04016244796878,
          183.04016244796878
         ]
        },
        {
         "line": {
          "color": "green"
         },
         "mode": "lines",
         "name": "SuperTrend Uptrend",
         "showlegend": false,
         "type": "scatter",
         "x": [
          "2023-05-17T11:05:00+05:30",
          "2023-05-17T11:06:00+05:30"
         ],
         "y": [
          183.04016244796878,
          183.04016244796878
         ]
        },
        {
         "line": {
          "color": "green"
         },
         "mode": "lines",
         "name": "SuperTrend Uptrend",
         "showlegend": false,
         "type": "scatter",
         "x": [
          "2023-05-17T11:06:00+05:30",
          "2023-05-17T11:07:00+05:30"
         ],
         "y": [
          183.04016244796878,
          183.04016244796878
         ]
        },
        {
         "line": {
          "color": "green"
         },
         "mode": "lines",
         "name": "SuperTrend Uptrend",
         "showlegend": false,
         "type": "scatter",
         "x": [
          "2023-05-17T11:07:00+05:30",
          "2023-05-17T11:08:00+05:30"
         ],
         "y": [
          183.04016244796878,
          183.04016244796878
         ]
        },
        {
         "line": {
          "color": "green"
         },
         "mode": "lines",
         "name": "SuperTrend Uptrend",
         "showlegend": false,
         "type": "scatter",
         "x": [
          "2023-05-17T11:08:00+05:30",
          "2023-05-17T11:09:00+05:30"
         ],
         "y": [
          183.04016244796878,
          183.04016244796878
         ]
        },
        {
         "line": {
          "color": "green"
         },
         "mode": "lines",
         "name": "SuperTrend Uptrend",
         "showlegend": false,
         "type": "scatter",
         "x": [
          "2023-05-17T11:09:00+05:30",
          "2023-05-17T11:10:00+05:30"
         ],
         "y": [
          183.04016244796878,
          183.04016244796878
         ]
        },
        {
         "line": {
          "color": "green"
         },
         "mode": "lines",
         "name": "SuperTrend Uptrend",
         "showlegend": false,
         "type": "scatter",
         "x": [
          "2023-05-17T11:10:00+05:30",
          "2023-05-17T11:11:00+05:30"
         ],
         "y": [
          183.04016244796878,
          183.04016244796878
         ]
        },
        {
         "line": {
          "color": "green"
         },
         "mode": "lines",
         "name": "SuperTrend Uptrend",
         "showlegend": false,
         "type": "scatter",
         "x": [
          "2023-05-17T11:11:00+05:30",
          "2023-05-17T11:12:00+05:30"
         ],
         "y": [
          183.04016244796878,
          183.04016244796878
         ]
        },
        {
         "line": {
          "color": "green"
         },
         "mode": "lines",
         "name": "SuperTrend Uptrend",
         "showlegend": false,
         "type": "scatter",
         "x": [
          "2023-05-17T11:12:00+05:30",
          "2023-05-17T11:13:00+05:30"
         ],
         "y": [
          183.04016244796878,
          183.04016244796878
         ]
        },
        {
         "line": {
          "color": "green"
         },
         "mode": "lines",
         "name": "SuperTrend Uptrend",
         "showlegend": false,
         "type": "scatter",
         "x": [
          "2023-05-17T11:13:00+05:30",
          "2023-05-17T11:14:00+05:30"
         ],
         "y": [
          183.04016244796878,
          183.04016244796878
         ]
        },
        {
         "line": {
          "color": "green"
         },
         "mode": "lines",
         "name": "SuperTrend Uptrend",
         "showlegend": false,
         "type": "scatter",
         "x": [
          "2023-05-17T11:14:00+05:30",
          "2023-05-17T11:15:00+05:30"
         ],
         "y": [
          183.04016244796878,
          183.04016244796878
         ]
        },
        {
         "line": {
          "color": "green"
         },
         "mode": "lines",
         "name": "SuperTrend Uptrend",
         "showlegend": false,
         "type": "scatter",
         "x": [
          "2023-05-17T11:15:00+05:30",
          "2023-05-17T11:16:00+05:30"
         ],
         "y": [
          183.04016244796878,
          183.04016244796878
         ]
        },
        {
         "line": {
          "color": "green"
         },
         "mode": "lines",
         "name": "SuperTrend Uptrend",
         "showlegend": false,
         "type": "scatter",
         "x": [
          "2023-05-17T11:16:00+05:30",
          "2023-05-17T11:17:00+05:30"
         ],
         "y": [
          183.04016244796878,
          183.04016244796878
         ]
        },
        {
         "line": {
          "color": "green"
         },
         "mode": "lines",
         "name": "SuperTrend Uptrend",
         "showlegend": false,
         "type": "scatter",
         "x": [
          "2023-05-17T11:17:00+05:30",
          "2023-05-17T11:18:00+05:30"
         ],
         "y": [
          183.04016244796878,
          183.04016244796878
         ]
        },
        {
         "line": {
          "color": "green"
         },
         "mode": "lines",
         "name": "SuperTrend Uptrend",
         "showlegend": false,
         "type": "scatter",
         "x": [
          "2023-05-17T11:18:00+05:30",
          "2023-05-17T11:19:00+05:30"
         ],
         "y": [
          183.04016244796878,
          183.04016244796878
         ]
        },
        {
         "line": {
          "color": "green"
         },
         "mode": "lines",
         "name": "SuperTrend Uptrend",
         "showlegend": false,
         "type": "scatter",
         "x": [
          "2023-05-17T11:19:00+05:30",
          "2023-05-17T11:20:00+05:30"
         ],
         "y": [
          183.04016244796878,
          183.04016244796878
         ]
        },
        {
         "line": {
          "color": "green"
         },
         "mode": "lines",
         "name": "SuperTrend Uptrend",
         "showlegend": false,
         "type": "scatter",
         "x": [
          "2023-05-17T11:20:00+05:30",
          "2023-05-17T11:21:00+05:30"
         ],
         "y": [
          183.04016244796878,
          183.04016244796878
         ]
        },
        {
         "line": {
          "color": "green"
         },
         "mode": "lines",
         "name": "SuperTrend Uptrend",
         "showlegend": false,
         "type": "scatter",
         "x": [
          "2023-05-17T11:21:00+05:30",
          "2023-05-17T11:22:00+05:30"
         ],
         "y": [
          183.04016244796878,
          183.04016244796878
         ]
        },
        {
         "line": {
          "color": "green"
         },
         "mode": "lines",
         "name": "SuperTrend Uptrend",
         "showlegend": false,
         "type": "scatter",
         "x": [
          "2023-05-17T11:22:00+05:30",
          "2023-05-17T11:23:00+05:30"
         ],
         "y": [
          183.04016244796878,
          183.04016244796878
         ]
        },
        {
         "line": {
          "color": "green"
         },
         "mode": "lines",
         "name": "SuperTrend Uptrend",
         "showlegend": false,
         "type": "scatter",
         "x": [
          "2023-05-17T11:23:00+05:30",
          "2023-05-17T11:24:00+05:30"
         ],
         "y": [
          183.04016244796878,
          183.04016244796878
         ]
        },
        {
         "line": {
          "color": "green"
         },
         "mode": "lines",
         "name": "SuperTrend Uptrend",
         "showlegend": false,
         "type": "scatter",
         "x": [
          "2023-05-17T11:24:00+05:30",
          "2023-05-17T11:25:00+05:30"
         ],
         "y": [
          183.04016244796878,
          183.04016244796878
         ]
        },
        {
         "line": {
          "color": "green"
         },
         "mode": "lines",
         "name": "SuperTrend Uptrend",
         "showlegend": false,
         "type": "scatter",
         "x": [
          "2023-05-17T11:25:00+05:30",
          "2023-05-17T11:26:00+05:30"
         ],
         "y": [
          183.04016244796878,
          183.04016244796878
         ]
        },
        {
         "line": {
          "color": "green"
         },
         "mode": "lines",
         "name": "SuperTrend Uptrend",
         "showlegend": false,
         "type": "scatter",
         "x": [
          "2023-05-17T11:26:00+05:30",
          "2023-05-17T11:27:00+05:30"
         ],
         "y": [
          183.04016244796878,
          183.04016244796878
         ]
        },
        {
         "line": {
          "color": "green"
         },
         "mode": "lines",
         "name": "SuperTrend Uptrend",
         "showlegend": false,
         "type": "scatter",
         "x": [
          "2023-05-17T11:27:00+05:30",
          "2023-05-17T11:28:00+05:30"
         ],
         "y": [
          183.04016244796878,
          183.04016244796878
         ]
        },
        {
         "line": {
          "color": "green"
         },
         "mode": "lines",
         "name": "SuperTrend Uptrend",
         "showlegend": false,
         "type": "scatter",
         "x": [
          "2023-05-17T11:28:00+05:30",
          "2023-05-17T11:29:00+05:30"
         ],
         "y": [
          183.04016244796878,
          183.04016244796878
         ]
        },
        {
         "line": {
          "color": "green"
         },
         "mode": "lines",
         "name": "SuperTrend Uptrend",
         "showlegend": false,
         "type": "scatter",
         "x": [
          "2023-05-17T11:29:00+05:30",
          "2023-05-17T11:30:00+05:30"
         ],
         "y": [
          183.04016244796878,
          183.04016244796878
         ]
        },
        {
         "line": {
          "color": "green"
         },
         "mode": "lines",
         "name": "SuperTrend Uptrend",
         "showlegend": false,
         "type": "scatter",
         "x": [
          "2023-05-17T11:30:00+05:30",
          "2023-05-17T11:31:00+05:30"
         ],
         "y": [
          183.04016244796878,
          183.04016244796878
         ]
        },
        {
         "line": {
          "color": "green"
         },
         "mode": "lines",
         "name": "SuperTrend Uptrend",
         "showlegend": false,
         "type": "scatter",
         "x": [
          "2023-05-17T11:31:00+05:30",
          "2023-05-17T11:32:00+05:30"
         ],
         "y": [
          183.04016244796878,
          183.04016244796878
         ]
        },
        {
         "line": {
          "color": "green"
         },
         "mode": "lines",
         "name": "SuperTrend Uptrend",
         "showlegend": false,
         "type": "scatter",
         "x": [
          "2023-05-17T11:32:00+05:30",
          "2023-05-17T11:33:00+05:30"
         ],
         "y": [
          183.04016244796878,
          183.04016244796878
         ]
        },
        {
         "line": {
          "color": "green"
         },
         "mode": "lines",
         "name": "SuperTrend Uptrend",
         "showlegend": false,
         "type": "scatter",
         "x": [
          "2023-05-17T11:33:00+05:30",
          "2023-05-17T11:34:00+05:30"
         ],
         "y": [
          183.04016244796878,
          183.04016244796878
         ]
        },
        {
         "line": {
          "color": "green"
         },
         "mode": "lines",
         "name": "SuperTrend Uptrend",
         "showlegend": false,
         "type": "scatter",
         "x": [
          "2023-05-17T11:34:00+05:30",
          "2023-05-17T11:35:00+05:30"
         ],
         "y": [
          183.04016244796878,
          183.04016244796878
         ]
        },
        {
         "line": {
          "color": "green"
         },
         "mode": "lines",
         "name": "SuperTrend Uptrend",
         "showlegend": false,
         "type": "scatter",
         "x": [
          "2023-05-17T11:35:00+05:30",
          "2023-05-17T11:36:00+05:30"
         ],
         "y": [
          183.04016244796878,
          183.04016244796878
         ]
        },
        {
         "line": {
          "color": "green"
         },
         "mode": "lines",
         "name": "SuperTrend Uptrend",
         "showlegend": false,
         "type": "scatter",
         "x": [
          "2023-05-17T11:36:00+05:30",
          "2023-05-17T11:37:00+05:30"
         ],
         "y": [
          183.04016244796878,
          183.04016244796878
         ]
        },
        {
         "line": {
          "color": "green"
         },
         "mode": "lines",
         "name": "SuperTrend Uptrend",
         "showlegend": false,
         "type": "scatter",
         "x": [
          "2023-05-17T11:37:00+05:30",
          "2023-05-17T11:38:00+05:30"
         ],
         "y": [
          183.04016244796878,
          183.04016244796878
         ]
        },
        {
         "line": {
          "color": "green"
         },
         "mode": "lines",
         "name": "SuperTrend Uptrend",
         "showlegend": false,
         "type": "scatter",
         "x": [
          "2023-05-17T11:38:00+05:30",
          "2023-05-17T11:39:00+05:30"
         ],
         "y": [
          183.04016244796878,
          183.04016244796878
         ]
        },
        {
         "line": {
          "color": "green"
         },
         "mode": "lines",
         "name": "SuperTrend Uptrend",
         "showlegend": false,
         "type": "scatter",
         "x": [
          "2023-05-17T11:39:00+05:30",
          "2023-05-17T11:40:00+05:30"
         ],
         "y": [
          183.04016244796878,
          183.04016244796878
         ]
        },
        {
         "line": {
          "color": "green"
         },
         "mode": "lines",
         "name": "SuperTrend Uptrend",
         "showlegend": false,
         "type": "scatter",
         "x": [
          "2023-05-17T11:40:00+05:30",
          "2023-05-17T11:41:00+05:30"
         ],
         "y": [
          183.04016244796878,
          183.04016244796878
         ]
        },
        {
         "line": {
          "color": "green"
         },
         "mode": "lines",
         "name": "SuperTrend Uptrend",
         "showlegend": false,
         "type": "scatter",
         "x": [
          "2023-05-17T11:41:00+05:30",
          "2023-05-17T11:42:00+05:30"
         ],
         "y": [
          183.04016244796878,
          183.04016244796878
         ]
        },
        {
         "line": {
          "color": "green"
         },
         "mode": "lines",
         "name": "SuperTrend Uptrend",
         "showlegend": false,
         "type": "scatter",
         "x": [
          "2023-05-17T11:42:00+05:30",
          "2023-05-17T11:43:00+05:30"
         ],
         "y": [
          183.04016244796878,
          183.04016244796878
         ]
        },
        {
         "line": {
          "color": "green"
         },
         "mode": "lines",
         "name": "SuperTrend Uptrend",
         "showlegend": false,
         "type": "scatter",
         "x": [
          "2023-05-17T11:43:00+05:30",
          "2023-05-17T11:44:00+05:30"
         ],
         "y": [
          183.04016244796878,
          183.04016244796878
         ]
        },
        {
         "line": {
          "color": "green"
         },
         "mode": "lines",
         "name": "SuperTrend Uptrend",
         "showlegend": false,
         "type": "scatter",
         "x": [
          "2023-05-17T11:44:00+05:30",
          "2023-05-17T11:45:00+05:30"
         ],
         "y": [
          183.04016244796878,
          183.04016244796878
         ]
        },
        {
         "line": {
          "color": "green"
         },
         "mode": "lines",
         "name": "SuperTrend Uptrend",
         "showlegend": false,
         "type": "scatter",
         "x": [
          "2023-05-17T11:45:00+05:30",
          "2023-05-17T11:46:00+05:30"
         ],
         "y": [
          183.04016244796878,
          183.04016244796878
         ]
        },
        {
         "line": {
          "color": "green"
         },
         "mode": "lines",
         "name": "SuperTrend Uptrend",
         "showlegend": false,
         "type": "scatter",
         "x": [
          "2023-05-17T11:46:00+05:30",
          "2023-05-17T11:47:00+05:30"
         ],
         "y": [
          183.04016244796878,
          183.04016244796878
         ]
        },
        {
         "line": {
          "color": "green"
         },
         "mode": "lines",
         "name": "SuperTrend Uptrend",
         "showlegend": false,
         "type": "scatter",
         "x": [
          "2023-05-17T11:47:00+05:30",
          "2023-05-17T11:48:00+05:30"
         ],
         "y": [
          183.04016244796878,
          183.04016244796878
         ]
        },
        {
         "line": {
          "color": "green"
         },
         "mode": "lines",
         "name": "SuperTrend Uptrend",
         "showlegend": false,
         "type": "scatter",
         "x": [
          "2023-05-17T11:48:00+05:30",
          "2023-05-17T11:49:00+05:30"
         ],
         "y": [
          183.04016244796878,
          183.04016244796878
         ]
        },
        {
         "line": {
          "color": "green"
         },
         "mode": "lines",
         "name": "SuperTrend Uptrend",
         "showlegend": false,
         "type": "scatter",
         "x": [
          "2023-05-17T11:49:00+05:30",
          "2023-05-17T11:50:00+05:30"
         ],
         "y": [
          183.04016244796878,
          183.04016244796878
         ]
        },
        {
         "line": {
          "color": "green"
         },
         "mode": "lines",
         "name": "SuperTrend Uptrend",
         "showlegend": false,
         "type": "scatter",
         "x": [
          "2023-05-17T11:50:00+05:30",
          "2023-05-17T11:51:00+05:30"
         ],
         "y": [
          183.04016244796878,
          183.04016244796878
         ]
        },
        {
         "line": {
          "color": "green"
         },
         "mode": "lines",
         "name": "SuperTrend Uptrend",
         "showlegend": false,
         "type": "scatter",
         "x": [
          "2023-05-17T11:51:00+05:30",
          "2023-05-17T11:52:00+05:30"
         ],
         "y": [
          183.04016244796878,
          183.04016244796878
         ]
        },
        {
         "line": {
          "color": "green"
         },
         "mode": "lines",
         "name": "SuperTrend Uptrend",
         "showlegend": false,
         "type": "scatter",
         "x": [
          "2023-05-17T11:52:00+05:30",
          "2023-05-17T11:53:00+05:30"
         ],
         "y": [
          183.04016244796878,
          183.04016244796878
         ]
        },
        {
         "line": {
          "color": "green"
         },
         "mode": "lines",
         "name": "SuperTrend Uptrend",
         "showlegend": false,
         "type": "scatter",
         "x": [
          "2023-05-17T11:53:00+05:30",
          "2023-05-17T11:54:00+05:30"
         ],
         "y": [
          183.04016244796878,
          183.04016244796878
         ]
        },
        {
         "line": {
          "color": "green"
         },
         "mode": "lines",
         "name": "SuperTrend Uptrend",
         "showlegend": false,
         "type": "scatter",
         "x": [
          "2023-05-17T11:54:00+05:30",
          "2023-05-17T11:55:00+05:30"
         ],
         "y": [
          183.04016244796878,
          183.04016244796878
         ]
        },
        {
         "line": {
          "color": "green"
         },
         "mode": "lines",
         "name": "SuperTrend Uptrend",
         "showlegend": false,
         "type": "scatter",
         "x": [
          "2023-05-17T11:55:00+05:30",
          "2023-05-17T11:56:00+05:30"
         ],
         "y": [
          183.04016244796878,
          183.04016244796878
         ]
        },
        {
         "line": {
          "color": "green"
         },
         "mode": "lines",
         "name": "SuperTrend Uptrend",
         "showlegend": false,
         "type": "scatter",
         "x": [
          "2023-05-17T11:56:00+05:30",
          "2023-05-17T11:57:00+05:30"
         ],
         "y": [
          183.04016244796878,
          183.04016244796878
         ]
        },
        {
         "line": {
          "color": "green"
         },
         "mode": "lines",
         "name": "SuperTrend Uptrend",
         "showlegend": false,
         "type": "scatter",
         "x": [
          "2023-05-17T11:57:00+05:30",
          "2023-05-17T11:58:00+05:30"
         ],
         "y": [
          183.04016244796878,
          183.04016244796878
         ]
        },
        {
         "line": {
          "color": "green"
         },
         "mode": "lines",
         "name": "SuperTrend Uptrend",
         "showlegend": false,
         "type": "scatter",
         "x": [
          "2023-05-17T11:58:00+05:30",
          "2023-05-17T11:59:00+05:30"
         ],
         "y": [
          183.04016244796878,
          183.04016244796878
         ]
        },
        {
         "line": {
          "color": "green"
         },
         "mode": "lines",
         "name": "SuperTrend Uptrend",
         "showlegend": false,
         "type": "scatter",
         "x": [
          "2023-05-17T11:59:00+05:30",
          "2023-05-17T12:00:00+05:30"
         ],
         "y": [
          183.04016244796878,
          183.04016244796878
         ]
        },
        {
         "line": {
          "color": "green"
         },
         "mode": "lines",
         "name": "SuperTrend Uptrend",
         "showlegend": false,
         "type": "scatter",
         "x": [
          "2023-05-17T12:00:00+05:30",
          "2023-05-17T12:01:00+05:30"
         ],
         "y": [
          183.04016244796878,
          183.04016244796878
         ]
        },
        {
         "line": {
          "color": "green"
         },
         "mode": "lines",
         "name": "SuperTrend Uptrend",
         "showlegend": false,
         "type": "scatter",
         "x": [
          "2023-05-17T12:01:00+05:30",
          "2023-05-17T12:02:00+05:30"
         ],
         "y": [
          183.04016244796878,
          183.04016244796878
         ]
        },
        {
         "line": {
          "color": "green"
         },
         "mode": "lines",
         "name": "SuperTrend Uptrend",
         "showlegend": false,
         "type": "scatter",
         "x": [
          "2023-05-17T12:02:00+05:30",
          "2023-05-17T12:03:00+05:30"
         ],
         "y": [
          183.04016244796878,
          183.04016244796878
         ]
        },
        {
         "line": {
          "color": "green"
         },
         "mode": "lines",
         "name": "SuperTrend Uptrend",
         "showlegend": false,
         "type": "scatter",
         "x": [
          "2023-05-17T12:03:00+05:30",
          "2023-05-17T12:04:00+05:30"
         ],
         "y": [
          183.04016244796878,
          183.04016244796878
         ]
        },
        {
         "line": {
          "color": "green"
         },
         "mode": "lines",
         "name": "SuperTrend Uptrend",
         "showlegend": false,
         "type": "scatter",
         "x": [
          "2023-05-17T12:04:00+05:30",
          "2023-05-17T12:05:00+05:30"
         ],
         "y": [
          183.04016244796878,
          183.04016244796878
         ]
        },
        {
         "line": {
          "color": "green"
         },
         "mode": "lines",
         "name": "SuperTrend Uptrend",
         "showlegend": false,
         "type": "scatter",
         "x": [
          "2023-05-17T12:05:00+05:30",
          "2023-05-17T12:06:00+05:30"
         ],
         "y": [
          183.04016244796878,
          183.04016244796878
         ]
        },
        {
         "line": {
          "color": "green"
         },
         "mode": "lines",
         "name": "SuperTrend Uptrend",
         "showlegend": false,
         "type": "scatter",
         "x": [
          "2023-05-17T12:06:00+05:30",
          "2023-05-17T12:07:00+05:30"
         ],
         "y": [
          183.04016244796878,
          183.04016244796878
         ]
        },
        {
         "line": {
          "color": "green"
         },
         "mode": "lines",
         "name": "SuperTrend Uptrend",
         "showlegend": false,
         "type": "scatter",
         "x": [
          "2023-05-17T12:07:00+05:30",
          "2023-05-17T12:08:00+05:30"
         ],
         "y": [
          183.04016244796878,
          183.04016244796878
         ]
        },
        {
         "line": {
          "color": "green"
         },
         "mode": "lines",
         "name": "SuperTrend Uptrend",
         "showlegend": false,
         "type": "scatter",
         "x": [
          "2023-05-17T12:08:00+05:30",
          "2023-05-17T12:09:00+05:30"
         ],
         "y": [
          183.04016244796878,
          183.04016244796878
         ]
        },
        {
         "line": {
          "color": "green"
         },
         "mode": "lines",
         "name": "SuperTrend Uptrend",
         "showlegend": false,
         "type": "scatter",
         "x": [
          "2023-05-17T12:09:00+05:30",
          "2023-05-17T12:10:00+05:30"
         ],
         "y": [
          183.04016244796878,
          183.04016244796878
         ]
        },
        {
         "line": {
          "color": "green"
         },
         "mode": "lines",
         "name": "SuperTrend Uptrend",
         "showlegend": false,
         "type": "scatter",
         "x": [
          "2023-05-17T12:10:00+05:30",
          "2023-05-17T12:11:00+05:30"
         ],
         "y": [
          183.04016244796878,
          183.04016244796878
         ]
        },
        {
         "line": {
          "color": "green"
         },
         "mode": "lines",
         "name": "SuperTrend Uptrend",
         "showlegend": false,
         "type": "scatter",
         "x": [
          "2023-05-17T12:11:00+05:30",
          "2023-05-17T12:12:00+05:30"
         ],
         "y": [
          183.04016244796878,
          183.04016244796878
         ]
        },
        {
         "line": {
          "color": "green"
         },
         "mode": "lines",
         "name": "SuperTrend Uptrend",
         "showlegend": false,
         "type": "scatter",
         "x": [
          "2023-05-17T12:12:00+05:30",
          "2023-05-17T12:13:00+05:30"
         ],
         "y": [
          183.04016244796878,
          183.04016244796878
         ]
        },
        {
         "line": {
          "color": "green"
         },
         "mode": "lines",
         "name": "SuperTrend Uptrend",
         "showlegend": false,
         "type": "scatter",
         "x": [
          "2023-05-17T12:13:00+05:30",
          "2023-05-17T12:14:00+05:30"
         ],
         "y": [
          183.04016244796878,
          183.04016244796878
         ]
        },
        {
         "line": {
          "color": "green"
         },
         "mode": "lines",
         "name": "SuperTrend Uptrend",
         "showlegend": false,
         "type": "scatter",
         "x": [
          "2023-05-17T12:14:00+05:30",
          "2023-05-17T12:15:00+05:30"
         ],
         "y": [
          183.04016244796878,
          183.04016244796878
         ]
        },
        {
         "line": {
          "color": "green"
         },
         "mode": "lines",
         "name": "SuperTrend Uptrend",
         "showlegend": false,
         "type": "scatter",
         "x": [
          "2023-05-17T12:15:00+05:30",
          "2023-05-17T12:16:00+05:30"
         ],
         "y": [
          183.04016244796878,
          183.04016244796878
         ]
        },
        {
         "line": {
          "color": "green"
         },
         "mode": "lines",
         "name": "SuperTrend Uptrend",
         "showlegend": false,
         "type": "scatter",
         "x": [
          "2023-05-17T12:16:00+05:30",
          "2023-05-17T12:17:00+05:30"
         ],
         "y": [
          183.04016244796878,
          183.04016244796878
         ]
        },
        {
         "line": {
          "color": "green"
         },
         "mode": "lines",
         "name": "SuperTrend Uptrend",
         "showlegend": false,
         "type": "scatter",
         "x": [
          "2023-05-17T12:17:00+05:30",
          "2023-05-17T12:18:00+05:30"
         ],
         "y": [
          183.04016244796878,
          183.04016244796878
         ]
        },
        {
         "line": {
          "color": "green"
         },
         "mode": "lines",
         "name": "SuperTrend Uptrend",
         "showlegend": false,
         "type": "scatter",
         "x": [
          "2023-05-17T12:18:00+05:30",
          "2023-05-17T12:19:00+05:30"
         ],
         "y": [
          183.04016244796878,
          183.04016244796878
         ]
        },
        {
         "line": {
          "color": "green"
         },
         "mode": "lines",
         "name": "SuperTrend Uptrend",
         "showlegend": false,
         "type": "scatter",
         "x": [
          "2023-05-17T12:19:00+05:30",
          "2023-05-17T12:20:00+05:30"
         ],
         "y": [
          183.04016244796878,
          183.04016244796878
         ]
        },
        {
         "line": {
          "color": "green"
         },
         "mode": "lines",
         "name": "SuperTrend Uptrend",
         "showlegend": false,
         "type": "scatter",
         "x": [
          "2023-05-17T12:20:00+05:30",
          "2023-05-17T12:21:00+05:30"
         ],
         "y": [
          183.04016244796878,
          183.04016244796878
         ]
        },
        {
         "line": {
          "color": "green"
         },
         "mode": "lines",
         "name": "SuperTrend Uptrend",
         "showlegend": false,
         "type": "scatter",
         "x": [
          "2023-05-17T12:21:00+05:30",
          "2023-05-17T12:22:00+05:30"
         ],
         "y": [
          183.04016244796878,
          183.04016244796878
         ]
        },
        {
         "line": {
          "color": "green"
         },
         "mode": "lines",
         "name": "SuperTrend Uptrend",
         "showlegend": false,
         "type": "scatter",
         "x": [
          "2023-05-17T12:22:00+05:30",
          "2023-05-17T12:23:00+05:30"
         ],
         "y": [
          183.04016244796878,
          183.04016244796878
         ]
        },
        {
         "line": {
          "color": "green"
         },
         "mode": "lines",
         "name": "SuperTrend Uptrend",
         "showlegend": false,
         "type": "scatter",
         "x": [
          "2023-05-17T12:23:00+05:30",
          "2023-05-17T12:24:00+05:30"
         ],
         "y": [
          183.04016244796878,
          183.04016244796878
         ]
        },
        {
         "line": {
          "color": "green"
         },
         "mode": "lines",
         "name": "SuperTrend Uptrend",
         "showlegend": false,
         "type": "scatter",
         "x": [
          "2023-05-17T12:24:00+05:30",
          "2023-05-17T12:25:00+05:30"
         ],
         "y": [
          183.04016244796878,
          183.04016244796878
         ]
        },
        {
         "line": {
          "color": "green"
         },
         "mode": "lines",
         "name": "SuperTrend Uptrend",
         "showlegend": false,
         "type": "scatter",
         "x": [
          "2023-05-17T12:25:00+05:30",
          "2023-05-17T12:26:00+05:30"
         ],
         "y": [
          183.04016244796878,
          183.04016244796878
         ]
        },
        {
         "line": {
          "color": "green"
         },
         "mode": "lines",
         "name": "SuperTrend Uptrend",
         "showlegend": false,
         "type": "scatter",
         "x": [
          "2023-05-17T12:26:00+05:30",
          "2023-05-17T12:27:00+05:30"
         ],
         "y": [
          183.04016244796878,
          183.04016244796878
         ]
        },
        {
         "line": {
          "color": "green"
         },
         "mode": "lines",
         "name": "SuperTrend Uptrend",
         "showlegend": false,
         "type": "scatter",
         "x": [
          "2023-05-17T12:27:00+05:30",
          "2023-05-17T12:28:00+05:30"
         ],
         "y": [
          183.04016244796878,
          183.04016244796878
         ]
        },
        {
         "line": {
          "color": "green"
         },
         "mode": "lines",
         "name": "SuperTrend Uptrend",
         "showlegend": false,
         "type": "scatter",
         "x": [
          "2023-05-17T12:28:00+05:30",
          "2023-05-17T12:29:00+05:30"
         ],
         "y": [
          183.04016244796878,
          183.04016244796878
         ]
        },
        {
         "line": {
          "color": "green"
         },
         "mode": "lines",
         "name": "SuperTrend Uptrend",
         "showlegend": false,
         "type": "scatter",
         "x": [
          "2023-05-17T12:29:00+05:30",
          "2023-05-17T12:30:00+05:30"
         ],
         "y": [
          183.04016244796878,
          183.04016244796878
         ]
        },
        {
         "line": {
          "color": "green"
         },
         "mode": "lines",
         "name": "SuperTrend Uptrend",
         "showlegend": false,
         "type": "scatter",
         "x": [
          "2023-05-17T12:30:00+05:30",
          "2023-05-17T12:31:00+05:30"
         ],
         "y": [
          183.04016244796878,
          183.04016244796878
         ]
        },
        {
         "line": {
          "color": "green"
         },
         "mode": "lines",
         "name": "SuperTrend Uptrend",
         "showlegend": false,
         "type": "scatter",
         "x": [
          "2023-05-17T12:31:00+05:30",
          "2023-05-17T12:32:00+05:30"
         ],
         "y": [
          183.04016244796878,
          183.04016244796878
         ]
        },
        {
         "line": {
          "color": "green"
         },
         "mode": "lines",
         "name": "SuperTrend Uptrend",
         "showlegend": false,
         "type": "scatter",
         "x": [
          "2023-05-17T12:32:00+05:30",
          "2023-05-17T12:33:00+05:30"
         ],
         "y": [
          183.04016244796878,
          183.04016244796878
         ]
        },
        {
         "line": {
          "color": "green"
         },
         "mode": "lines",
         "name": "SuperTrend Uptrend",
         "showlegend": false,
         "type": "scatter",
         "x": [
          "2023-05-17T12:33:00+05:30",
          "2023-05-17T12:34:00+05:30"
         ],
         "y": [
          183.04016244796878,
          183.04016244796878
         ]
        },
        {
         "line": {
          "color": "green"
         },
         "mode": "lines",
         "name": "SuperTrend Uptrend",
         "showlegend": false,
         "type": "scatter",
         "x": [
          "2023-05-17T12:34:00+05:30",
          "2023-05-17T12:35:00+05:30"
         ],
         "y": [
          183.04016244796878,
          183.04016244796878
         ]
        },
        {
         "line": {
          "color": "green"
         },
         "mode": "lines",
         "name": "SuperTrend Uptrend",
         "showlegend": false,
         "type": "scatter",
         "x": [
          "2023-05-17T12:35:00+05:30",
          "2023-05-17T12:36:00+05:30"
         ],
         "y": [
          183.04016244796878,
          183.04016244796878
         ]
        },
        {
         "line": {
          "color": "green"
         },
         "mode": "lines",
         "name": "SuperTrend Uptrend",
         "showlegend": false,
         "type": "scatter",
         "x": [
          "2023-05-17T12:36:00+05:30",
          "2023-05-17T12:37:00+05:30"
         ],
         "y": [
          183.04016244796878,
          183.04016244796878
         ]
        },
        {
         "line": {
          "color": "green"
         },
         "mode": "lines",
         "name": "SuperTrend Uptrend",
         "showlegend": false,
         "type": "scatter",
         "x": [
          "2023-05-17T12:37:00+05:30",
          "2023-05-17T12:38:00+05:30"
         ],
         "y": [
          183.04016244796878,
          183.04016244796878
         ]
        },
        {
         "line": {
          "color": "green"
         },
         "mode": "lines",
         "name": "SuperTrend Uptrend",
         "showlegend": false,
         "type": "scatter",
         "x": [
          "2023-05-17T12:38:00+05:30",
          "2023-05-17T12:39:00+05:30"
         ],
         "y": [
          183.04016244796878,
          183.04016244796878
         ]
        },
        {
         "line": {
          "color": "green"
         },
         "mode": "lines",
         "name": "SuperTrend Uptrend",
         "showlegend": false,
         "type": "scatter",
         "x": [
          "2023-05-17T12:39:00+05:30",
          "2023-05-17T12:40:00+05:30"
         ],
         "y": [
          183.04016244796878,
          183.04016244796878
         ]
        },
        {
         "line": {
          "color": "green"
         },
         "mode": "lines",
         "name": "SuperTrend Uptrend",
         "showlegend": false,
         "type": "scatter",
         "x": [
          "2023-05-17T12:40:00+05:30",
          "2023-05-17T12:41:00+05:30"
         ],
         "y": [
          183.04016244796878,
          183.04016244796878
         ]
        },
        {
         "line": {
          "color": "green"
         },
         "mode": "lines",
         "name": "SuperTrend Uptrend",
         "showlegend": false,
         "type": "scatter",
         "x": [
          "2023-05-17T12:41:00+05:30",
          "2023-05-17T12:42:00+05:30"
         ],
         "y": [
          183.04016244796878,
          183.04016244796878
         ]
        },
        {
         "line": {
          "color": "green"
         },
         "mode": "lines",
         "name": "SuperTrend Uptrend",
         "showlegend": false,
         "type": "scatter",
         "x": [
          "2023-05-17T12:42:00+05:30",
          "2023-05-17T12:43:00+05:30"
         ],
         "y": [
          183.04016244796878,
          183.04016244796878
         ]
        },
        {
         "line": {
          "color": "green"
         },
         "mode": "lines",
         "name": "SuperTrend Uptrend",
         "showlegend": false,
         "type": "scatter",
         "x": [
          "2023-05-17T12:43:00+05:30",
          "2023-05-17T12:44:00+05:30"
         ],
         "y": [
          183.04016244796878,
          183.04016244796878
         ]
        },
        {
         "line": {
          "color": "green"
         },
         "mode": "lines",
         "name": "SuperTrend Uptrend",
         "showlegend": false,
         "type": "scatter",
         "x": [
          "2023-05-17T12:44:00+05:30",
          "2023-05-17T12:45:00+05:30"
         ],
         "y": [
          183.04016244796878,
          183.04016244796878
         ]
        },
        {
         "line": {
          "color": "green"
         },
         "mode": "lines",
         "name": "SuperTrend Uptrend",
         "showlegend": false,
         "type": "scatter",
         "x": [
          "2023-05-17T12:45:00+05:30",
          "2023-05-17T12:46:00+05:30"
         ],
         "y": [
          183.04016244796878,
          183.04016244796878
         ]
        },
        {
         "line": {
          "color": "green"
         },
         "mode": "lines",
         "name": "SuperTrend Uptrend",
         "showlegend": false,
         "type": "scatter",
         "x": [
          "2023-05-17T12:46:00+05:30",
          "2023-05-17T12:47:00+05:30"
         ],
         "y": [
          183.04016244796878,
          183.04016244796878
         ]
        },
        {
         "line": {
          "color": "green"
         },
         "mode": "lines",
         "name": "SuperTrend Uptrend",
         "showlegend": false,
         "type": "scatter",
         "x": [
          "2023-05-17T12:47:00+05:30",
          "2023-05-17T12:48:00+05:30"
         ],
         "y": [
          183.04016244796878,
          183.04016244796878
         ]
        },
        {
         "line": {
          "color": "green"
         },
         "mode": "lines",
         "name": "SuperTrend Uptrend",
         "showlegend": false,
         "type": "scatter",
         "x": [
          "2023-05-17T12:48:00+05:30",
          "2023-05-17T12:49:00+05:30"
         ],
         "y": [
          183.04016244796878,
          183.04016244796878
         ]
        },
        {
         "line": {
          "color": "green"
         },
         "mode": "lines",
         "name": "SuperTrend Uptrend",
         "showlegend": false,
         "type": "scatter",
         "x": [
          "2023-05-17T12:49:00+05:30",
          "2023-05-17T12:50:00+05:30"
         ],
         "y": [
          183.04016244796878,
          183.04016244796878
         ]
        },
        {
         "line": {
          "color": "green"
         },
         "mode": "lines",
         "name": "SuperTrend Uptrend",
         "showlegend": false,
         "type": "scatter",
         "x": [
          "2023-05-17T12:50:00+05:30",
          "2023-05-17T12:51:00+05:30"
         ],
         "y": [
          183.04016244796878,
          183.04016244796878
         ]
        },
        {
         "line": {
          "color": "green"
         },
         "mode": "lines",
         "name": "SuperTrend Uptrend",
         "showlegend": false,
         "type": "scatter",
         "x": [
          "2023-05-17T12:51:00+05:30",
          "2023-05-17T12:52:00+05:30"
         ],
         "y": [
          183.04016244796878,
          183.04016244796878
         ]
        },
        {
         "line": {
          "color": "green"
         },
         "mode": "lines",
         "name": "SuperTrend Uptrend",
         "showlegend": false,
         "type": "scatter",
         "x": [
          "2023-05-17T12:52:00+05:30",
          "2023-05-17T12:53:00+05:30"
         ],
         "y": [
          183.04016244796878,
          183.04016244796878
         ]
        },
        {
         "line": {
          "color": "green"
         },
         "mode": "lines",
         "name": "SuperTrend Uptrend",
         "showlegend": false,
         "type": "scatter",
         "x": [
          "2023-05-17T12:53:00+05:30",
          "2023-05-17T12:54:00+05:30"
         ],
         "y": [
          183.04016244796878,
          183.04016244796878
         ]
        },
        {
         "line": {
          "color": "green"
         },
         "mode": "lines",
         "name": "SuperTrend Uptrend",
         "showlegend": false,
         "type": "scatter",
         "x": [
          "2023-05-17T12:54:00+05:30",
          "2023-05-17T12:55:00+05:30"
         ],
         "y": [
          183.04016244796878,
          183.04016244796878
         ]
        },
        {
         "line": {
          "color": "green"
         },
         "mode": "lines",
         "name": "SuperTrend Uptrend",
         "showlegend": false,
         "type": "scatter",
         "x": [
          "2023-05-17T12:55:00+05:30",
          "2023-05-17T12:56:00+05:30"
         ],
         "y": [
          183.04016244796878,
          183.04016244796878
         ]
        },
        {
         "line": {
          "color": "green"
         },
         "mode": "lines",
         "name": "SuperTrend Uptrend",
         "showlegend": false,
         "type": "scatter",
         "x": [
          "2023-05-17T12:56:00+05:30",
          "2023-05-17T12:57:00+05:30"
         ],
         "y": [
          183.04016244796878,
          183.04016244796878
         ]
        },
        {
         "line": {
          "color": "green"
         },
         "mode": "lines",
         "name": "SuperTrend Uptrend",
         "showlegend": false,
         "type": "scatter",
         "x": [
          "2023-05-17T12:57:00+05:30",
          "2023-05-17T12:58:00+05:30"
         ],
         "y": [
          183.04016244796878,
          183.04016244796878
         ]
        },
        {
         "line": {
          "color": "green"
         },
         "mode": "lines",
         "name": "SuperTrend Uptrend",
         "showlegend": false,
         "type": "scatter",
         "x": [
          "2023-05-17T12:58:00+05:30",
          "2023-05-17T12:59:00+05:30"
         ],
         "y": [
          183.04016244796878,
          183.04016244796878
         ]
        },
        {
         "line": {
          "color": "green"
         },
         "mode": "lines",
         "name": "SuperTrend Uptrend",
         "showlegend": false,
         "type": "scatter",
         "x": [
          "2023-05-17T12:59:00+05:30",
          "2023-05-17T13:00:00+05:30"
         ],
         "y": [
          183.04016244796878,
          183.04016244796878
         ]
        },
        {
         "line": {
          "color": "green"
         },
         "mode": "lines",
         "name": "SuperTrend Uptrend",
         "showlegend": false,
         "type": "scatter",
         "x": [
          "2023-05-17T13:00:00+05:30",
          "2023-05-17T13:01:00+05:30"
         ],
         "y": [
          183.04016244796878,
          183.04016244796878
         ]
        },
        {
         "line": {
          "color": "green"
         },
         "mode": "lines",
         "name": "SuperTrend Uptrend",
         "showlegend": false,
         "type": "scatter",
         "x": [
          "2023-05-17T13:01:00+05:30",
          "2023-05-17T13:02:00+05:30"
         ],
         "y": [
          183.04016244796878,
          183.04016244796878
         ]
        },
        {
         "line": {
          "color": "green"
         },
         "mode": "lines",
         "name": "SuperTrend Uptrend",
         "showlegend": false,
         "type": "scatter",
         "x": [
          "2023-05-17T13:02:00+05:30",
          "2023-05-17T13:03:00+05:30"
         ],
         "y": [
          183.04016244796878,
          183.04016244796878
         ]
        },
        {
         "line": {
          "color": "green"
         },
         "mode": "lines",
         "name": "SuperTrend Uptrend",
         "showlegend": false,
         "type": "scatter",
         "x": [
          "2023-05-17T13:03:00+05:30",
          "2023-05-17T13:04:00+05:30"
         ],
         "y": [
          183.04016244796878,
          183.04016244796878
         ]
        },
        {
         "line": {
          "color": "green"
         },
         "mode": "lines",
         "name": "SuperTrend Uptrend",
         "showlegend": false,
         "type": "scatter",
         "x": [
          "2023-05-17T13:04:00+05:30",
          "2023-05-17T13:05:00+05:30"
         ],
         "y": [
          183.04016244796878,
          183.04016244796878
         ]
        },
        {
         "line": {
          "color": "green"
         },
         "mode": "lines",
         "name": "SuperTrend Uptrend",
         "showlegend": false,
         "type": "scatter",
         "x": [
          "2023-05-17T13:05:00+05:30",
          "2023-05-17T13:06:00+05:30"
         ],
         "y": [
          183.04016244796878,
          183.04016244796878
         ]
        },
        {
         "line": {
          "color": "green"
         },
         "mode": "lines",
         "name": "SuperTrend Uptrend",
         "showlegend": false,
         "type": "scatter",
         "x": [
          "2023-05-17T13:06:00+05:30",
          "2023-05-17T13:07:00+05:30"
         ],
         "y": [
          183.04016244796878,
          183.04016244796878
         ]
        },
        {
         "line": {
          "color": "green"
         },
         "mode": "lines",
         "name": "SuperTrend Uptrend",
         "showlegend": false,
         "type": "scatter",
         "x": [
          "2023-05-17T13:07:00+05:30",
          "2023-05-17T13:08:00+05:30"
         ],
         "y": [
          183.04016244796878,
          183.04016244796878
         ]
        },
        {
         "line": {
          "color": "green"
         },
         "mode": "lines",
         "name": "SuperTrend Uptrend",
         "showlegend": false,
         "type": "scatter",
         "x": [
          "2023-05-17T13:08:00+05:30",
          "2023-05-17T13:09:00+05:30"
         ],
         "y": [
          183.04016244796878,
          183.04016244796878
         ]
        },
        {
         "line": {
          "color": "green"
         },
         "mode": "lines",
         "name": "SuperTrend Uptrend",
         "showlegend": false,
         "type": "scatter",
         "x": [
          "2023-05-17T13:09:00+05:30",
          "2023-05-17T13:10:00+05:30"
         ],
         "y": [
          183.04016244796878,
          183.04016244796878
         ]
        },
        {
         "line": {
          "color": "green"
         },
         "mode": "lines",
         "name": "SuperTrend Uptrend",
         "showlegend": false,
         "type": "scatter",
         "x": [
          "2023-05-17T13:10:00+05:30",
          "2023-05-17T13:11:00+05:30"
         ],
         "y": [
          183.04016244796878,
          183.04016244796878
         ]
        },
        {
         "line": {
          "color": "green"
         },
         "mode": "lines",
         "name": "SuperTrend Uptrend",
         "showlegend": false,
         "type": "scatter",
         "x": [
          "2023-05-17T13:11:00+05:30",
          "2023-05-17T13:12:00+05:30"
         ],
         "y": [
          183.04016244796878,
          183.04016244796878
         ]
        },
        {
         "line": {
          "color": "green"
         },
         "mode": "lines",
         "name": "SuperTrend Uptrend",
         "showlegend": false,
         "type": "scatter",
         "x": [
          "2023-05-17T13:12:00+05:30",
          "2023-05-17T13:13:00+05:30"
         ],
         "y": [
          183.04016244796878,
          183.04016244796878
         ]
        },
        {
         "line": {
          "color": "green"
         },
         "mode": "lines",
         "name": "SuperTrend Uptrend",
         "showlegend": false,
         "type": "scatter",
         "x": [
          "2023-05-17T13:13:00+05:30",
          "2023-05-17T13:14:00+05:30"
         ],
         "y": [
          183.04016244796878,
          183.04016244796878
         ]
        },
        {
         "line": {
          "color": "green"
         },
         "mode": "lines",
         "name": "SuperTrend Uptrend",
         "showlegend": false,
         "type": "scatter",
         "x": [
          "2023-05-17T13:14:00+05:30",
          "2023-05-17T13:15:00+05:30"
         ],
         "y": [
          183.04016244796878,
          183.04016244796878
         ]
        },
        {
         "line": {
          "color": "green"
         },
         "mode": "lines",
         "name": "SuperTrend Uptrend",
         "showlegend": false,
         "type": "scatter",
         "x": [
          "2023-05-17T13:15:00+05:30",
          "2023-05-17T13:16:00+05:30"
         ],
         "y": [
          183.04016244796878,
          183.04016244796878
         ]
        },
        {
         "line": {
          "color": "green"
         },
         "mode": "lines",
         "name": "SuperTrend Uptrend",
         "showlegend": false,
         "type": "scatter",
         "x": [
          "2023-05-17T13:16:00+05:30",
          "2023-05-17T13:17:00+05:30"
         ],
         "y": [
          183.04016244796878,
          183.04016244796878
         ]
        },
        {
         "line": {
          "color": "green"
         },
         "mode": "lines",
         "name": "SuperTrend Uptrend",
         "showlegend": false,
         "type": "scatter",
         "x": [
          "2023-05-17T13:17:00+05:30",
          "2023-05-17T13:18:00+05:30"
         ],
         "y": [
          183.04016244796878,
          183.04016244796878
         ]
        },
        {
         "line": {
          "color": "green"
         },
         "mode": "lines",
         "name": "SuperTrend Uptrend",
         "showlegend": false,
         "type": "scatter",
         "x": [
          "2023-05-17T13:18:00+05:30",
          "2023-05-17T13:19:00+05:30"
         ],
         "y": [
          183.04016244796878,
          183.04016244796878
         ]
        },
        {
         "line": {
          "color": "green"
         },
         "mode": "lines",
         "name": "SuperTrend Uptrend",
         "showlegend": false,
         "type": "scatter",
         "x": [
          "2023-05-17T13:19:00+05:30",
          "2023-05-17T13:20:00+05:30"
         ],
         "y": [
          183.04016244796878,
          183.04016244796878
         ]
        },
        {
         "line": {
          "color": "green"
         },
         "mode": "lines",
         "name": "SuperTrend Uptrend",
         "showlegend": false,
         "type": "scatter",
         "x": [
          "2023-05-17T13:20:00+05:30",
          "2023-05-17T13:21:00+05:30"
         ],
         "y": [
          183.04016244796878,
          183.04016244796878
         ]
        },
        {
         "line": {
          "color": "green"
         },
         "mode": "lines",
         "name": "SuperTrend Uptrend",
         "showlegend": false,
         "type": "scatter",
         "x": [
          "2023-05-17T13:21:00+05:30",
          "2023-05-17T13:22:00+05:30"
         ],
         "y": [
          183.04016244796878,
          183.04016244796878
         ]
        },
        {
         "line": {
          "color": "green"
         },
         "mode": "lines",
         "name": "SuperTrend Uptrend",
         "showlegend": false,
         "type": "scatter",
         "x": [
          "2023-05-17T13:22:00+05:30",
          "2023-05-17T13:23:00+05:30"
         ],
         "y": [
          183.04016244796878,
          183.04016244796878
         ]
        },
        {
         "line": {
          "color": "green"
         },
         "mode": "lines",
         "name": "SuperTrend Uptrend",
         "showlegend": false,
         "type": "scatter",
         "x": [
          "2023-05-17T13:23:00+05:30",
          "2023-05-17T13:24:00+05:30"
         ],
         "y": [
          183.04016244796878,
          183.04016244796878
         ]
        },
        {
         "line": {
          "color": "green"
         },
         "mode": "lines",
         "name": "SuperTrend Uptrend",
         "showlegend": false,
         "type": "scatter",
         "x": [
          "2023-05-17T13:24:00+05:30",
          "2023-05-17T13:25:00+05:30"
         ],
         "y": [
          183.04016244796878,
          183.04016244796878
         ]
        },
        {
         "line": {
          "color": "green"
         },
         "mode": "lines",
         "name": "SuperTrend Uptrend",
         "showlegend": false,
         "type": "scatter",
         "x": [
          "2023-05-17T13:25:00+05:30",
          "2023-05-17T13:26:00+05:30"
         ],
         "y": [
          183.04016244796878,
          183.04016244796878
         ]
        },
        {
         "line": {
          "color": "green"
         },
         "mode": "lines",
         "name": "SuperTrend Uptrend",
         "showlegend": false,
         "type": "scatter",
         "x": [
          "2023-05-17T13:26:00+05:30",
          "2023-05-17T13:27:00+05:30"
         ],
         "y": [
          183.04016244796878,
          183.04016244796878
         ]
        },
        {
         "line": {
          "color": "green"
         },
         "mode": "lines",
         "name": "SuperTrend Uptrend",
         "showlegend": false,
         "type": "scatter",
         "x": [
          "2023-05-17T13:27:00+05:30",
          "2023-05-17T13:28:00+05:30"
         ],
         "y": [
          183.04016244796878,
          183.04016244796878
         ]
        },
        {
         "line": {
          "color": "green"
         },
         "mode": "lines",
         "name": "SuperTrend Uptrend",
         "showlegend": false,
         "type": "scatter",
         "x": [
          "2023-05-17T13:28:00+05:30",
          "2023-05-17T13:29:00+05:30"
         ],
         "y": [
          183.04016244796878,
          183.04016244796878
         ]
        },
        {
         "line": {
          "color": "green"
         },
         "mode": "lines",
         "name": "SuperTrend Uptrend",
         "showlegend": false,
         "type": "scatter",
         "x": [
          "2023-05-17T13:29:00+05:30",
          "2023-05-17T13:30:00+05:30"
         ],
         "y": [
          183.04016244796878,
          183.04016244796878
         ]
        },
        {
         "line": {
          "color": "green"
         },
         "mode": "lines",
         "name": "SuperTrend Uptrend",
         "showlegend": false,
         "type": "scatter",
         "x": [
          "2023-05-17T13:30:00+05:30",
          "2023-05-17T13:31:00+05:30"
         ],
         "y": [
          183.04016244796878,
          183.04016244796878
         ]
        },
        {
         "line": {
          "color": "green"
         },
         "mode": "lines",
         "name": "SuperTrend Uptrend",
         "showlegend": false,
         "type": "scatter",
         "x": [
          "2023-05-17T13:31:00+05:30",
          "2023-05-17T13:32:00+05:30"
         ],
         "y": [
          183.04016244796878,
          183.04016244796878
         ]
        },
        {
         "line": {
          "color": "green"
         },
         "mode": "lines",
         "name": "SuperTrend Uptrend",
         "showlegend": false,
         "type": "scatter",
         "x": [
          "2023-05-17T13:32:00+05:30",
          "2023-05-17T13:33:00+05:30"
         ],
         "y": [
          183.04016244796878,
          183.04016244796878
         ]
        },
        {
         "line": {
          "color": "green"
         },
         "mode": "lines",
         "name": "SuperTrend Uptrend",
         "showlegend": false,
         "type": "scatter",
         "x": [
          "2023-05-17T13:33:00+05:30",
          "2023-05-17T13:34:00+05:30"
         ],
         "y": [
          183.04016244796878,
          183.04016244796878
         ]
        },
        {
         "line": {
          "color": "green"
         },
         "mode": "lines",
         "name": "SuperTrend Uptrend",
         "showlegend": false,
         "type": "scatter",
         "x": [
          "2023-05-17T13:34:00+05:30",
          "2023-05-17T13:35:00+05:30"
         ],
         "y": [
          183.04016244796878,
          183.04016244796878
         ]
        },
        {
         "line": {
          "color": "green"
         },
         "mode": "lines",
         "name": "SuperTrend Uptrend",
         "showlegend": false,
         "type": "scatter",
         "x": [
          "2023-05-17T13:35:00+05:30",
          "2023-05-17T13:36:00+05:30"
         ],
         "y": [
          183.04016244796878,
          183.04016244796878
         ]
        },
        {
         "line": {
          "color": "green"
         },
         "mode": "lines",
         "name": "SuperTrend Uptrend",
         "showlegend": false,
         "type": "scatter",
         "x": [
          "2023-05-17T13:36:00+05:30",
          "2023-05-17T13:37:00+05:30"
         ],
         "y": [
          183.04016244796878,
          183.04016244796878
         ]
        },
        {
         "line": {
          "color": "green"
         },
         "mode": "lines",
         "name": "SuperTrend Uptrend",
         "showlegend": false,
         "type": "scatter",
         "x": [
          "2023-05-17T13:37:00+05:30",
          "2023-05-17T13:38:00+05:30"
         ],
         "y": [
          183.04016244796878,
          183.04016244796878
         ]
        },
        {
         "line": {
          "color": "green"
         },
         "mode": "lines",
         "name": "SuperTrend Uptrend",
         "showlegend": false,
         "type": "scatter",
         "x": [
          "2023-05-17T13:38:00+05:30",
          "2023-05-17T13:39:00+05:30"
         ],
         "y": [
          183.04016244796878,
          183.04016244796878
         ]
        },
        {
         "line": {
          "color": "green"
         },
         "mode": "lines",
         "name": "SuperTrend Uptrend",
         "showlegend": false,
         "type": "scatter",
         "x": [
          "2023-05-17T13:39:00+05:30",
          "2023-05-17T13:40:00+05:30"
         ],
         "y": [
          183.04016244796878,
          183.04016244796878
         ]
        },
        {
         "line": {
          "color": "green"
         },
         "mode": "lines",
         "name": "SuperTrend Uptrend",
         "showlegend": false,
         "type": "scatter",
         "x": [
          "2023-05-17T13:40:00+05:30",
          "2023-05-17T13:41:00+05:30"
         ],
         "y": [
          183.04016244796878,
          183.04016244796878
         ]
        },
        {
         "line": {
          "color": "green"
         },
         "mode": "lines",
         "name": "SuperTrend Uptrend",
         "showlegend": false,
         "type": "scatter",
         "x": [
          "2023-05-17T13:41:00+05:30",
          "2023-05-17T13:42:00+05:30"
         ],
         "y": [
          183.04016244796878,
          183.04016244796878
         ]
        },
        {
         "line": {
          "color": "green"
         },
         "mode": "lines",
         "name": "SuperTrend Uptrend",
         "showlegend": false,
         "type": "scatter",
         "x": [
          "2023-05-17T13:42:00+05:30",
          "2023-05-17T13:43:00+05:30"
         ],
         "y": [
          183.04016244796878,
          183.04016244796878
         ]
        },
        {
         "line": {
          "color": "green"
         },
         "mode": "lines",
         "name": "SuperTrend Uptrend",
         "showlegend": false,
         "type": "scatter",
         "x": [
          "2023-05-17T13:43:00+05:30",
          "2023-05-17T13:44:00+05:30"
         ],
         "y": [
          183.04016244796878,
          183.04016244796878
         ]
        },
        {
         "line": {
          "color": "green"
         },
         "mode": "lines",
         "name": "SuperTrend Uptrend",
         "showlegend": false,
         "type": "scatter",
         "x": [
          "2023-05-17T13:44:00+05:30",
          "2023-05-17T13:45:00+05:30"
         ],
         "y": [
          183.04016244796878,
          183.04016244796878
         ]
        },
        {
         "line": {
          "color": "green"
         },
         "mode": "lines",
         "name": "SuperTrend Uptrend",
         "showlegend": false,
         "type": "scatter",
         "x": [
          "2023-05-17T13:45:00+05:30",
          "2023-05-17T13:46:00+05:30"
         ],
         "y": [
          183.04016244796878,
          183.04016244796878
         ]
        },
        {
         "line": {
          "color": "green"
         },
         "mode": "lines",
         "name": "SuperTrend Uptrend",
         "showlegend": false,
         "type": "scatter",
         "x": [
          "2023-05-17T13:46:00+05:30",
          "2023-05-17T13:47:00+05:30"
         ],
         "y": [
          183.04016244796878,
          183.04016244796878
         ]
        },
        {
         "line": {
          "color": "green"
         },
         "mode": "lines",
         "name": "SuperTrend Uptrend",
         "showlegend": false,
         "type": "scatter",
         "x": [
          "2023-05-17T13:47:00+05:30",
          "2023-05-17T13:48:00+05:30"
         ],
         "y": [
          183.04016244796878,
          183.04016244796878
         ]
        },
        {
         "line": {
          "color": "green"
         },
         "mode": "lines",
         "name": "SuperTrend Uptrend",
         "showlegend": false,
         "type": "scatter",
         "x": [
          "2023-05-17T13:48:00+05:30",
          "2023-05-17T13:49:00+05:30"
         ],
         "y": [
          183.04016244796878,
          183.04016244796878
         ]
        },
        {
         "line": {
          "color": "green"
         },
         "mode": "lines",
         "name": "SuperTrend Uptrend",
         "showlegend": false,
         "type": "scatter",
         "x": [
          "2023-05-17T13:49:00+05:30",
          "2023-05-17T13:50:00+05:30"
         ],
         "y": [
          183.04016244796878,
          183.04016244796878
         ]
        },
        {
         "line": {
          "color": "green"
         },
         "mode": "lines",
         "name": "SuperTrend Uptrend",
         "showlegend": false,
         "type": "scatter",
         "x": [
          "2023-05-17T13:50:00+05:30",
          "2023-05-17T13:51:00+05:30"
         ],
         "y": [
          183.04016244796878,
          183.04016244796878
         ]
        },
        {
         "line": {
          "color": "green"
         },
         "mode": "lines",
         "name": "SuperTrend Uptrend",
         "showlegend": false,
         "type": "scatter",
         "x": [
          "2023-05-17T13:51:00+05:30",
          "2023-05-17T13:52:00+05:30"
         ],
         "y": [
          183.04016244796878,
          183.04016244796878
         ]
        },
        {
         "line": {
          "color": "green"
         },
         "mode": "lines",
         "name": "SuperTrend Uptrend",
         "showlegend": false,
         "type": "scatter",
         "x": [
          "2023-05-17T13:52:00+05:30",
          "2023-05-17T13:53:00+05:30"
         ],
         "y": [
          183.04016244796878,
          183.04016244796878
         ]
        },
        {
         "line": {
          "color": "green"
         },
         "mode": "lines",
         "name": "SuperTrend Uptrend",
         "showlegend": false,
         "type": "scatter",
         "x": [
          "2023-05-17T13:53:00+05:30",
          "2023-05-17T13:54:00+05:30"
         ],
         "y": [
          183.04016244796878,
          183.04016244796878
         ]
        },
        {
         "line": {
          "color": "green"
         },
         "mode": "lines",
         "name": "SuperTrend Uptrend",
         "showlegend": false,
         "type": "scatter",
         "x": [
          "2023-05-17T13:54:00+05:30",
          "2023-05-17T13:55:00+05:30"
         ],
         "y": [
          183.04016244796878,
          183.04016244796878
         ]
        },
        {
         "line": {
          "color": "green"
         },
         "mode": "lines",
         "name": "SuperTrend Uptrend",
         "showlegend": false,
         "type": "scatter",
         "x": [
          "2023-05-17T13:55:00+05:30",
          "2023-05-17T13:56:00+05:30"
         ],
         "y": [
          183.04016244796878,
          183.04016244796878
         ]
        },
        {
         "line": {
          "color": "green"
         },
         "mode": "lines",
         "name": "SuperTrend Uptrend",
         "showlegend": false,
         "type": "scatter",
         "x": [
          "2023-05-17T13:56:00+05:30",
          "2023-05-17T13:57:00+05:30"
         ],
         "y": [
          183.04016244796878,
          183.04016244796878
         ]
        },
        {
         "line": {
          "color": "green"
         },
         "mode": "lines",
         "name": "SuperTrend Uptrend",
         "showlegend": false,
         "type": "scatter",
         "x": [
          "2023-05-17T13:57:00+05:30",
          "2023-05-17T13:58:00+05:30"
         ],
         "y": [
          183.04016244796878,
          183.04016244796878
         ]
        },
        {
         "line": {
          "color": "green"
         },
         "mode": "lines",
         "name": "SuperTrend Uptrend",
         "showlegend": false,
         "type": "scatter",
         "x": [
          "2023-05-17T13:58:00+05:30",
          "2023-05-17T13:59:00+05:30"
         ],
         "y": [
          183.04016244796878,
          183.04016244796878
         ]
        },
        {
         "line": {
          "color": "green"
         },
         "mode": "lines",
         "name": "SuperTrend Uptrend",
         "showlegend": false,
         "type": "scatter",
         "x": [
          "2023-05-17T13:59:00+05:30",
          "2023-05-17T14:00:00+05:30"
         ],
         "y": [
          183.04016244796878,
          183.04016244796878
         ]
        },
        {
         "line": {
          "color": "green"
         },
         "mode": "lines",
         "name": "SuperTrend Uptrend",
         "showlegend": false,
         "type": "scatter",
         "x": [
          "2023-05-17T14:00:00+05:30",
          "2023-05-17T14:01:00+05:30"
         ],
         "y": [
          183.04016244796878,
          183.04016244796878
         ]
        },
        {
         "line": {
          "color": "green"
         },
         "mode": "lines",
         "name": "SuperTrend Uptrend",
         "showlegend": false,
         "type": "scatter",
         "x": [
          "2023-05-17T14:01:00+05:30",
          "2023-05-17T14:02:00+05:30"
         ],
         "y": [
          183.04016244796878,
          183.04016244796878
         ]
        },
        {
         "line": {
          "color": "green"
         },
         "mode": "lines",
         "name": "SuperTrend Uptrend",
         "showlegend": false,
         "type": "scatter",
         "x": [
          "2023-05-17T14:02:00+05:30",
          "2023-05-17T14:03:00+05:30"
         ],
         "y": [
          183.04016244796878,
          183.04016244796878
         ]
        },
        {
         "line": {
          "color": "green"
         },
         "mode": "lines",
         "name": "SuperTrend Uptrend",
         "showlegend": false,
         "type": "scatter",
         "x": [
          "2023-05-17T14:03:00+05:30",
          "2023-05-17T14:04:00+05:30"
         ],
         "y": [
          183.04016244796878,
          183.04016244796878
         ]
        },
        {
         "line": {
          "color": "green"
         },
         "mode": "lines",
         "name": "SuperTrend Uptrend",
         "showlegend": false,
         "type": "scatter",
         "x": [
          "2023-05-17T14:04:00+05:30",
          "2023-05-17T14:05:00+05:30"
         ],
         "y": [
          183.04016244796878,
          183.04016244796878
         ]
        },
        {
         "line": {
          "color": "green"
         },
         "mode": "lines",
         "name": "SuperTrend Uptrend",
         "showlegend": false,
         "type": "scatter",
         "x": [
          "2023-05-17T14:05:00+05:30",
          "2023-05-17T14:06:00+05:30"
         ],
         "y": [
          183.04016244796878,
          183.04016244796878
         ]
        },
        {
         "line": {
          "color": "green"
         },
         "mode": "lines",
         "name": "SuperTrend Uptrend",
         "showlegend": false,
         "type": "scatter",
         "x": [
          "2023-05-17T14:06:00+05:30",
          "2023-05-17T14:07:00+05:30"
         ],
         "y": [
          183.04016244796878,
          183.04016244796878
         ]
        },
        {
         "line": {
          "color": "green"
         },
         "mode": "lines",
         "name": "SuperTrend Uptrend",
         "showlegend": false,
         "type": "scatter",
         "x": [
          "2023-05-17T14:07:00+05:30",
          "2023-05-17T14:08:00+05:30"
         ],
         "y": [
          183.04016244796878,
          183.04016244796878
         ]
        },
        {
         "line": {
          "color": "green"
         },
         "mode": "lines",
         "name": "SuperTrend Uptrend",
         "showlegend": false,
         "type": "scatter",
         "x": [
          "2023-05-17T14:08:00+05:30",
          "2023-05-17T14:09:00+05:30"
         ],
         "y": [
          183.04016244796878,
          183.04016244796878
         ]
        },
        {
         "line": {
          "color": "green"
         },
         "mode": "lines",
         "name": "SuperTrend Uptrend",
         "showlegend": false,
         "type": "scatter",
         "x": [
          "2023-05-17T14:09:00+05:30",
          "2023-05-17T14:10:00+05:30"
         ],
         "y": [
          183.04016244796878,
          183.04016244796878
         ]
        },
        {
         "line": {
          "color": "green"
         },
         "mode": "lines",
         "name": "SuperTrend Uptrend",
         "showlegend": false,
         "type": "scatter",
         "x": [
          "2023-05-17T14:10:00+05:30",
          "2023-05-17T14:11:00+05:30"
         ],
         "y": [
          183.04016244796878,
          183.04016244796878
         ]
        },
        {
         "line": {
          "color": "green"
         },
         "mode": "lines",
         "name": "SuperTrend Uptrend",
         "showlegend": false,
         "type": "scatter",
         "x": [
          "2023-05-17T14:11:00+05:30",
          "2023-05-17T14:12:00+05:30"
         ],
         "y": [
          183.04016244796878,
          183.04016244796878
         ]
        },
        {
         "line": {
          "color": "green"
         },
         "mode": "lines",
         "name": "SuperTrend Uptrend",
         "showlegend": false,
         "type": "scatter",
         "x": [
          "2023-05-17T14:12:00+05:30",
          "2023-05-17T14:13:00+05:30"
         ],
         "y": [
          183.04016244796878,
          183.04016244796878
         ]
        },
        {
         "line": {
          "color": "green"
         },
         "mode": "lines",
         "name": "SuperTrend Uptrend",
         "showlegend": false,
         "type": "scatter",
         "x": [
          "2023-05-17T14:13:00+05:30",
          "2023-05-17T14:14:00+05:30"
         ],
         "y": [
          183.04016244796878,
          183.04016244796878
         ]
        },
        {
         "line": {
          "color": "green"
         },
         "mode": "lines",
         "name": "SuperTrend Uptrend",
         "showlegend": false,
         "type": "scatter",
         "x": [
          "2023-05-17T14:14:00+05:30",
          "2023-05-17T14:15:00+05:30"
         ],
         "y": [
          183.04016244796878,
          183.04016244796878
         ]
        },
        {
         "line": {
          "color": "green"
         },
         "mode": "lines",
         "name": "SuperTrend Uptrend",
         "showlegend": false,
         "type": "scatter",
         "x": [
          "2023-05-17T14:15:00+05:30",
          "2023-05-17T14:16:00+05:30"
         ],
         "y": [
          183.04016244796878,
          183.04016244796878
         ]
        },
        {
         "line": {
          "color": "green"
         },
         "mode": "lines",
         "name": "SuperTrend Uptrend",
         "showlegend": false,
         "type": "scatter",
         "x": [
          "2023-05-17T14:16:00+05:30",
          "2023-05-17T14:17:00+05:30"
         ],
         "y": [
          183.04016244796878,
          183.04016244796878
         ]
        },
        {
         "line": {
          "color": "green"
         },
         "mode": "lines",
         "name": "SuperTrend Uptrend",
         "showlegend": false,
         "type": "scatter",
         "x": [
          "2023-05-17T14:17:00+05:30",
          "2023-05-17T14:18:00+05:30"
         ],
         "y": [
          183.04016244796878,
          183.04016244796878
         ]
        },
        {
         "line": {
          "color": "green"
         },
         "mode": "lines",
         "name": "SuperTrend Uptrend",
         "showlegend": false,
         "type": "scatter",
         "x": [
          "2023-05-17T14:18:00+05:30",
          "2023-05-17T14:19:00+05:30"
         ],
         "y": [
          183.04016244796878,
          183.04016244796878
         ]
        },
        {
         "line": {
          "color": "green"
         },
         "mode": "lines",
         "name": "SuperTrend Uptrend",
         "showlegend": false,
         "type": "scatter",
         "x": [
          "2023-05-17T14:19:00+05:30",
          "2023-05-17T14:20:00+05:30"
         ],
         "y": [
          183.04016244796878,
          183.04016244796878
         ]
        },
        {
         "line": {
          "color": "green"
         },
         "mode": "lines",
         "name": "SuperTrend Uptrend",
         "showlegend": false,
         "type": "scatter",
         "x": [
          "2023-05-17T14:20:00+05:30",
          "2023-05-17T14:21:00+05:30"
         ],
         "y": [
          183.04016244796878,
          183.04016244796878
         ]
        },
        {
         "line": {
          "color": "green"
         },
         "mode": "lines",
         "name": "SuperTrend Uptrend",
         "showlegend": false,
         "type": "scatter",
         "x": [
          "2023-05-17T14:21:00+05:30",
          "2023-05-17T14:22:00+05:30"
         ],
         "y": [
          183.04016244796878,
          183.04016244796878
         ]
        },
        {
         "line": {
          "color": "green"
         },
         "mode": "lines",
         "name": "SuperTrend Uptrend",
         "showlegend": false,
         "type": "scatter",
         "x": [
          "2023-05-17T14:22:00+05:30",
          "2023-05-17T14:23:00+05:30"
         ],
         "y": [
          183.04016244796878,
          183.04016244796878
         ]
        },
        {
         "line": {
          "color": "green"
         },
         "mode": "lines",
         "name": "SuperTrend Uptrend",
         "showlegend": false,
         "type": "scatter",
         "x": [
          "2023-05-17T14:23:00+05:30",
          "2023-05-17T14:24:00+05:30"
         ],
         "y": [
          183.04016244796878,
          183.04016244796878
         ]
        },
        {
         "line": {
          "color": "green"
         },
         "mode": "lines",
         "name": "SuperTrend Uptrend",
         "showlegend": false,
         "type": "scatter",
         "x": [
          "2023-05-17T14:24:00+05:30",
          "2023-05-17T14:25:00+05:30"
         ],
         "y": [
          183.04016244796878,
          183.04016244796878
         ]
        },
        {
         "line": {
          "color": "green"
         },
         "mode": "lines",
         "name": "SuperTrend Uptrend",
         "showlegend": false,
         "type": "scatter",
         "x": [
          "2023-05-17T14:25:00+05:30",
          "2023-05-17T14:26:00+05:30"
         ],
         "y": [
          183.04016244796878,
          183.04016244796878
         ]
        },
        {
         "line": {
          "color": "green"
         },
         "mode": "lines",
         "name": "SuperTrend Uptrend",
         "showlegend": false,
         "type": "scatter",
         "x": [
          "2023-05-17T14:26:00+05:30",
          "2023-05-17T14:27:00+05:30"
         ],
         "y": [
          183.04016244796878,
          183.04016244796878
         ]
        },
        {
         "line": {
          "color": "green"
         },
         "mode": "lines",
         "name": "SuperTrend Uptrend",
         "showlegend": false,
         "type": "scatter",
         "x": [
          "2023-05-17T14:27:00+05:30",
          "2023-05-17T14:28:00+05:30"
         ],
         "y": [
          183.04016244796878,
          183.04016244796878
         ]
        },
        {
         "line": {
          "color": "green"
         },
         "mode": "lines",
         "name": "SuperTrend Uptrend",
         "showlegend": false,
         "type": "scatter",
         "x": [
          "2023-05-17T14:28:00+05:30",
          "2023-05-17T14:29:00+05:30"
         ],
         "y": [
          183.04016244796878,
          183.04016244796878
         ]
        },
        {
         "line": {
          "color": "green"
         },
         "mode": "lines",
         "name": "SuperTrend Uptrend",
         "showlegend": false,
         "type": "scatter",
         "x": [
          "2023-05-17T14:29:00+05:30",
          "2023-05-17T14:30:00+05:30"
         ],
         "y": [
          183.04016244796878,
          183.04016244796878
         ]
        },
        {
         "line": {
          "color": "green"
         },
         "mode": "lines",
         "name": "SuperTrend Uptrend",
         "showlegend": false,
         "type": "scatter",
         "x": [
          "2023-05-17T14:30:00+05:30",
          "2023-05-17T14:31:00+05:30"
         ],
         "y": [
          183.04016244796878,
          183.04016244796878
         ]
        },
        {
         "line": {
          "color": "green"
         },
         "mode": "lines",
         "name": "SuperTrend Uptrend",
         "showlegend": false,
         "type": "scatter",
         "x": [
          "2023-05-17T14:31:00+05:30",
          "2023-05-17T14:32:00+05:30"
         ],
         "y": [
          183.04016244796878,
          183.04016244796878
         ]
        },
        {
         "line": {
          "color": "green"
         },
         "mode": "lines",
         "name": "SuperTrend Uptrend",
         "showlegend": false,
         "type": "scatter",
         "x": [
          "2023-05-17T14:32:00+05:30",
          "2023-05-17T14:33:00+05:30"
         ],
         "y": [
          183.04016244796878,
          183.04016244796878
         ]
        },
        {
         "line": {
          "color": "green"
         },
         "mode": "lines",
         "name": "SuperTrend Uptrend",
         "showlegend": false,
         "type": "scatter",
         "x": [
          "2023-05-17T14:33:00+05:30",
          "2023-05-17T14:34:00+05:30"
         ],
         "y": [
          183.04016244796878,
          183.04016244796878
         ]
        },
        {
         "line": {
          "color": "green"
         },
         "mode": "lines",
         "name": "SuperTrend Uptrend",
         "showlegend": false,
         "type": "scatter",
         "x": [
          "2023-05-17T14:34:00+05:30",
          "2023-05-17T14:35:00+05:30"
         ],
         "y": [
          183.04016244796878,
          183.04016244796878
         ]
        },
        {
         "line": {
          "color": "green"
         },
         "mode": "lines",
         "name": "SuperTrend Uptrend",
         "showlegend": false,
         "type": "scatter",
         "x": [
          "2023-05-17T14:35:00+05:30",
          "2023-05-17T14:36:00+05:30"
         ],
         "y": [
          183.04016244796878,
          183.04016244796878
         ]
        },
        {
         "line": {
          "color": "green"
         },
         "mode": "lines",
         "name": "SuperTrend Uptrend",
         "showlegend": false,
         "type": "scatter",
         "x": [
          "2023-05-17T14:36:00+05:30",
          "2023-05-17T14:37:00+05:30"
         ],
         "y": [
          183.04016244796878,
          183.04016244796878
         ]
        },
        {
         "line": {
          "color": "green"
         },
         "mode": "lines",
         "name": "SuperTrend Uptrend",
         "showlegend": false,
         "type": "scatter",
         "x": [
          "2023-05-17T14:37:00+05:30",
          "2023-05-17T14:38:00+05:30"
         ],
         "y": [
          183.04016244796878,
          183.04016244796878
         ]
        },
        {
         "line": {
          "color": "green"
         },
         "mode": "lines",
         "name": "SuperTrend Uptrend",
         "showlegend": false,
         "type": "scatter",
         "x": [
          "2023-05-17T14:38:00+05:30",
          "2023-05-17T14:39:00+05:30"
         ],
         "y": [
          183.04016244796878,
          183.04016244796878
         ]
        },
        {
         "line": {
          "color": "green"
         },
         "mode": "lines",
         "name": "SuperTrend Uptrend",
         "showlegend": false,
         "type": "scatter",
         "x": [
          "2023-05-17T14:39:00+05:30",
          "2023-05-17T14:40:00+05:30"
         ],
         "y": [
          183.04016244796878,
          183.04016244796878
         ]
        },
        {
         "line": {
          "color": "green"
         },
         "mode": "lines",
         "name": "SuperTrend Uptrend",
         "showlegend": false,
         "type": "scatter",
         "x": [
          "2023-05-17T14:40:00+05:30",
          "2023-05-17T14:41:00+05:30"
         ],
         "y": [
          183.04016244796878,
          183.04016244796878
         ]
        },
        {
         "line": {
          "color": "green"
         },
         "mode": "lines",
         "name": "SuperTrend Uptrend",
         "showlegend": false,
         "type": "scatter",
         "x": [
          "2023-05-17T14:41:00+05:30",
          "2023-05-17T14:42:00+05:30"
         ],
         "y": [
          183.04016244796878,
          183.04016244796878
         ]
        },
        {
         "line": {
          "color": "green"
         },
         "mode": "lines",
         "name": "SuperTrend Uptrend",
         "showlegend": false,
         "type": "scatter",
         "x": [
          "2023-05-17T14:42:00+05:30",
          "2023-05-17T14:43:00+05:30"
         ],
         "y": [
          183.04016244796878,
          183.04016244796878
         ]
        },
        {
         "line": {
          "color": "green"
         },
         "mode": "lines",
         "name": "SuperTrend Uptrend",
         "showlegend": false,
         "type": "scatter",
         "x": [
          "2023-05-17T14:43:00+05:30",
          "2023-05-17T14:44:00+05:30"
         ],
         "y": [
          183.04016244796878,
          183.04016244796878
         ]
        },
        {
         "line": {
          "color": "green"
         },
         "mode": "lines",
         "name": "SuperTrend Uptrend",
         "showlegend": false,
         "type": "scatter",
         "x": [
          "2023-05-17T14:44:00+05:30",
          "2023-05-17T14:45:00+05:30"
         ],
         "y": [
          183.04016244796878,
          183.04016244796878
         ]
        },
        {
         "line": {
          "color": "green"
         },
         "mode": "lines",
         "name": "SuperTrend Uptrend",
         "showlegend": false,
         "type": "scatter",
         "x": [
          "2023-05-17T14:45:00+05:30",
          "2023-05-17T14:46:00+05:30"
         ],
         "y": [
          183.04016244796878,
          183.04016244796878
         ]
        },
        {
         "line": {
          "color": "green"
         },
         "mode": "lines",
         "name": "SuperTrend Uptrend",
         "showlegend": false,
         "type": "scatter",
         "x": [
          "2023-05-17T14:46:00+05:30",
          "2023-05-17T14:47:00+05:30"
         ],
         "y": [
          183.04016244796878,
          183.04016244796878
         ]
        },
        {
         "line": {
          "color": "green"
         },
         "mode": "lines",
         "name": "SuperTrend Uptrend",
         "showlegend": false,
         "type": "scatter",
         "x": [
          "2023-05-17T14:47:00+05:30",
          "2023-05-17T14:48:00+05:30"
         ],
         "y": [
          183.04016244796878,
          183.04016244796878
         ]
        },
        {
         "line": {
          "color": "green"
         },
         "mode": "lines",
         "name": "SuperTrend Uptrend",
         "showlegend": false,
         "type": "scatter",
         "x": [
          "2023-05-17T14:48:00+05:30",
          "2023-05-17T14:49:00+05:30"
         ],
         "y": [
          183.04016244796878,
          183.04016244796878
         ]
        },
        {
         "line": {
          "color": "green"
         },
         "mode": "lines",
         "name": "SuperTrend Uptrend",
         "showlegend": false,
         "type": "scatter",
         "x": [
          "2023-05-17T14:49:00+05:30",
          "2023-05-17T14:50:00+05:30"
         ],
         "y": [
          183.04016244796878,
          183.04016244796878
         ]
        },
        {
         "line": {
          "color": "green"
         },
         "mode": "lines",
         "name": "SuperTrend Uptrend",
         "showlegend": false,
         "type": "scatter",
         "x": [
          "2023-05-17T14:50:00+05:30",
          "2023-05-17T14:51:00+05:30"
         ],
         "y": [
          183.04016244796878,
          183.04016244796878
         ]
        },
        {
         "line": {
          "color": "green"
         },
         "mode": "lines",
         "name": "SuperTrend Uptrend",
         "showlegend": false,
         "type": "scatter",
         "x": [
          "2023-05-17T14:51:00+05:30",
          "2023-05-17T14:52:00+05:30"
         ],
         "y": [
          183.04016244796878,
          183.04016244796878
         ]
        },
        {
         "line": {
          "color": "green"
         },
         "mode": "lines",
         "name": "SuperTrend Uptrend",
         "showlegend": false,
         "type": "scatter",
         "x": [
          "2023-05-17T14:52:00+05:30",
          "2023-05-17T14:53:00+05:30"
         ],
         "y": [
          183.04016244796878,
          183.04016244796878
         ]
        },
        {
         "line": {
          "color": "green"
         },
         "mode": "lines",
         "name": "SuperTrend Uptrend",
         "showlegend": false,
         "type": "scatter",
         "x": [
          "2023-05-17T14:53:00+05:30",
          "2023-05-17T14:54:00+05:30"
         ],
         "y": [
          183.04016244796878,
          183.04016244796878
         ]
        },
        {
         "line": {
          "color": "green"
         },
         "mode": "lines",
         "name": "SuperTrend Uptrend",
         "showlegend": false,
         "type": "scatter",
         "x": [
          "2023-05-17T14:54:00+05:30",
          "2023-05-17T14:55:00+05:30"
         ],
         "y": [
          183.04016244796878,
          183.04016244796878
         ]
        },
        {
         "line": {
          "color": "green"
         },
         "mode": "lines",
         "name": "SuperTrend Uptrend",
         "showlegend": false,
         "type": "scatter",
         "x": [
          "2023-05-17T14:55:00+05:30",
          "2023-05-17T14:56:00+05:30"
         ],
         "y": [
          183.04016244796878,
          183.04016244796878
         ]
        },
        {
         "line": {
          "color": "green"
         },
         "mode": "lines",
         "name": "SuperTrend Uptrend",
         "showlegend": false,
         "type": "scatter",
         "x": [
          "2023-05-17T14:56:00+05:30",
          "2023-05-17T14:57:00+05:30"
         ],
         "y": [
          183.04016244796878,
          183.04016244796878
         ]
        },
        {
         "line": {
          "color": "green"
         },
         "mode": "lines",
         "name": "SuperTrend Uptrend",
         "showlegend": false,
         "type": "scatter",
         "x": [
          "2023-05-17T14:57:00+05:30",
          "2023-05-17T14:58:00+05:30"
         ],
         "y": [
          183.04016244796878,
          183.04016244796878
         ]
        },
        {
         "line": {
          "color": "green"
         },
         "mode": "lines",
         "name": "SuperTrend Uptrend",
         "showlegend": false,
         "type": "scatter",
         "x": [
          "2023-05-17T14:58:00+05:30",
          "2023-05-17T14:59:00+05:30"
         ],
         "y": [
          183.04016244796878,
          183.04016244796878
         ]
        },
        {
         "line": {
          "color": "green"
         },
         "mode": "lines",
         "name": "SuperTrend Uptrend",
         "showlegend": false,
         "type": "scatter",
         "x": [
          "2023-05-17T14:59:00+05:30",
          "2023-05-17T15:00:00+05:30"
         ],
         "y": [
          183.04016244796878,
          183.04016244796878
         ]
        },
        {
         "line": {
          "color": "green"
         },
         "mode": "lines",
         "name": "SuperTrend Uptrend",
         "showlegend": false,
         "type": "scatter",
         "x": [
          "2023-05-17T15:00:00+05:30",
          "2023-05-17T15:01:00+05:30"
         ],
         "y": [
          183.04016244796878,
          183.04016244796878
         ]
        },
        {
         "line": {
          "color": "green"
         },
         "mode": "lines",
         "name": "SuperTrend Uptrend",
         "showlegend": false,
         "type": "scatter",
         "x": [
          "2023-05-17T15:01:00+05:30",
          "2023-05-17T15:02:00+05:30"
         ],
         "y": [
          183.04016244796878,
          183.04016244796878
         ]
        },
        {
         "line": {
          "color": "green"
         },
         "mode": "lines",
         "name": "SuperTrend Uptrend",
         "showlegend": false,
         "type": "scatter",
         "x": [
          "2023-05-17T15:02:00+05:30",
          "2023-05-17T15:03:00+05:30"
         ],
         "y": [
          183.04016244796878,
          183.04016244796878
         ]
        },
        {
         "line": {
          "color": "green"
         },
         "mode": "lines",
         "name": "SuperTrend Uptrend",
         "showlegend": false,
         "type": "scatter",
         "x": [
          "2023-05-17T15:03:00+05:30",
          "2023-05-17T15:04:00+05:30"
         ],
         "y": [
          183.04016244796878,
          183.04016244796878
         ]
        },
        {
         "line": {
          "color": "green"
         },
         "mode": "lines",
         "name": "SuperTrend Uptrend",
         "showlegend": false,
         "type": "scatter",
         "x": [
          "2023-05-17T15:04:00+05:30",
          "2023-05-17T15:05:00+05:30"
         ],
         "y": [
          183.04016244796878,
          183.04016244796878
         ]
        },
        {
         "line": {
          "color": "green"
         },
         "mode": "lines",
         "name": "SuperTrend Uptrend",
         "showlegend": false,
         "type": "scatter",
         "x": [
          "2023-05-17T15:05:00+05:30",
          "2023-05-17T15:06:00+05:30"
         ],
         "y": [
          183.04016244796878,
          183.04016244796878
         ]
        },
        {
         "line": {
          "color": "green"
         },
         "mode": "lines",
         "name": "SuperTrend Uptrend",
         "showlegend": false,
         "type": "scatter",
         "x": [
          "2023-05-17T15:06:00+05:30",
          "2023-05-17T15:07:00+05:30"
         ],
         "y": [
          183.04016244796878,
          183.04016244796878
         ]
        },
        {
         "line": {
          "color": "green"
         },
         "mode": "lines",
         "name": "SuperTrend Uptrend",
         "showlegend": false,
         "type": "scatter",
         "x": [
          "2023-05-17T15:07:00+05:30",
          "2023-05-17T15:08:00+05:30"
         ],
         "y": [
          183.04016244796878,
          183.04016244796878
         ]
        },
        {
         "line": {
          "color": "green"
         },
         "mode": "lines",
         "name": "SuperTrend Uptrend",
         "showlegend": false,
         "type": "scatter",
         "x": [
          "2023-05-17T15:08:00+05:30",
          "2023-05-17T15:09:00+05:30"
         ],
         "y": [
          183.04016244796878,
          183.04016244796878
         ]
        },
        {
         "line": {
          "color": "green"
         },
         "mode": "lines",
         "name": "SuperTrend Uptrend",
         "showlegend": false,
         "type": "scatter",
         "x": [
          "2023-05-17T15:09:00+05:30",
          "2023-05-17T15:10:00+05:30"
         ],
         "y": [
          183.04016244796878,
          183.04016244796878
         ]
        },
        {
         "line": {
          "color": "green"
         },
         "mode": "lines",
         "name": "SuperTrend Uptrend",
         "showlegend": false,
         "type": "scatter",
         "x": [
          "2023-05-17T15:10:00+05:30",
          "2023-05-17T15:11:00+05:30"
         ],
         "y": [
          183.04016244796878,
          183.04016244796878
         ]
        },
        {
         "line": {
          "color": "green"
         },
         "mode": "lines",
         "name": "SuperTrend Uptrend",
         "showlegend": false,
         "type": "scatter",
         "x": [
          "2023-05-17T15:11:00+05:30",
          "2023-05-17T15:12:00+05:30"
         ],
         "y": [
          183.04016244796878,
          183.04016244796878
         ]
        },
        {
         "line": {
          "color": "green"
         },
         "mode": "lines",
         "name": "SuperTrend Uptrend",
         "showlegend": false,
         "type": "scatter",
         "x": [
          "2023-05-17T15:12:00+05:30",
          "2023-05-17T15:13:00+05:30"
         ],
         "y": [
          183.04016244796878,
          183.04016244796878
         ]
        },
        {
         "line": {
          "color": "green"
         },
         "mode": "lines",
         "name": "SuperTrend Uptrend",
         "showlegend": false,
         "type": "scatter",
         "x": [
          "2023-05-17T15:13:00+05:30",
          "2023-05-17T15:14:00+05:30"
         ],
         "y": [
          183.04016244796878,
          183.04016244796878
         ]
        },
        {
         "line": {
          "color": "green"
         },
         "mode": "lines",
         "name": "SuperTrend Uptrend",
         "showlegend": false,
         "type": "scatter",
         "x": [
          "2023-05-17T15:14:00+05:30",
          "2023-05-17T15:15:00+05:30"
         ],
         "y": [
          183.04016244796878,
          183.04016244796878
         ]
        },
        {
         "line": {
          "color": "green"
         },
         "mode": "lines",
         "name": "SuperTrend Uptrend",
         "showlegend": false,
         "type": "scatter",
         "x": [
          "2023-05-17T15:15:00+05:30",
          "2023-05-17T15:16:00+05:30"
         ],
         "y": [
          183.04016244796878,
          183.04016244796878
         ]
        },
        {
         "line": {
          "color": "green"
         },
         "mode": "lines",
         "name": "SuperTrend Uptrend",
         "showlegend": false,
         "type": "scatter",
         "x": [
          "2023-05-17T15:16:00+05:30",
          "2023-05-17T15:17:00+05:30"
         ],
         "y": [
          183.04016244796878,
          183.04016244796878
         ]
        },
        {
         "line": {
          "color": "green"
         },
         "mode": "lines",
         "name": "SuperTrend Uptrend",
         "showlegend": false,
         "type": "scatter",
         "x": [
          "2023-05-17T15:17:00+05:30",
          "2023-05-17T15:18:00+05:30"
         ],
         "y": [
          183.04016244796878,
          183.04016244796878
         ]
        },
        {
         "line": {
          "color": "green"
         },
         "mode": "lines",
         "name": "SuperTrend Uptrend",
         "showlegend": false,
         "type": "scatter",
         "x": [
          "2023-05-17T15:18:00+05:30",
          "2023-05-17T15:19:00+05:30"
         ],
         "y": [
          183.04016244796878,
          183.04016244796878
         ]
        },
        {
         "line": {
          "color": "green"
         },
         "mode": "lines",
         "name": "SuperTrend Uptrend",
         "showlegend": false,
         "type": "scatter",
         "x": [
          "2023-05-17T15:19:00+05:30",
          "2023-05-17T15:20:00+05:30"
         ],
         "y": [
          183.04016244796878,
          183.04016244796878
         ]
        },
        {
         "line": {
          "color": "green"
         },
         "mode": "lines",
         "name": "SuperTrend Uptrend",
         "showlegend": false,
         "type": "scatter",
         "x": [
          "2023-05-17T15:20:00+05:30",
          "2023-05-17T15:21:00+05:30"
         ],
         "y": [
          183.04016244796878,
          183.04016244796878
         ]
        },
        {
         "line": {
          "color": "green"
         },
         "mode": "lines",
         "name": "SuperTrend Uptrend",
         "showlegend": false,
         "type": "scatter",
         "x": [
          "2023-05-17T15:21:00+05:30",
          "2023-05-17T15:22:00+05:30"
         ],
         "y": [
          183.04016244796878,
          183.04016244796878
         ]
        },
        {
         "line": {
          "color": "green"
         },
         "mode": "lines",
         "name": "SuperTrend Uptrend",
         "showlegend": false,
         "type": "scatter",
         "x": [
          "2023-05-17T15:22:00+05:30",
          "2023-05-17T15:23:00+05:30"
         ],
         "y": [
          183.04016244796878,
          183.04016244796878
         ]
        },
        {
         "line": {
          "color": "green"
         },
         "mode": "lines",
         "name": "SuperTrend Uptrend",
         "showlegend": false,
         "type": "scatter",
         "x": [
          "2023-05-17T15:23:00+05:30",
          "2023-05-17T15:24:00+05:30"
         ],
         "y": [
          183.04016244796878,
          183.04016244796878
         ]
        },
        {
         "line": {
          "color": "green"
         },
         "mode": "lines",
         "name": "SuperTrend Uptrend",
         "showlegend": false,
         "type": "scatter",
         "x": [
          "2023-05-17T15:24:00+05:30",
          "2023-05-17T15:25:00+05:30"
         ],
         "y": [
          183.04016244796878,
          183.04016244796878
         ]
        },
        {
         "line": {
          "color": "green"
         },
         "mode": "lines",
         "name": "SuperTrend Uptrend",
         "showlegend": false,
         "type": "scatter",
         "x": [
          "2023-05-17T15:25:00+05:30",
          "2023-05-17T15:26:00+05:30"
         ],
         "y": [
          183.04016244796878,
          183.04016244796878
         ]
        },
        {
         "line": {
          "color": "green"
         },
         "mode": "lines",
         "name": "SuperTrend Uptrend",
         "showlegend": false,
         "type": "scatter",
         "x": [
          "2023-05-17T15:26:00+05:30",
          "2023-05-17T15:27:00+05:30"
         ],
         "y": [
          183.04016244796878,
          183.04016244796878
         ]
        },
        {
         "line": {
          "color": "green"
         },
         "mode": "lines",
         "name": "SuperTrend Uptrend",
         "showlegend": false,
         "type": "scatter",
         "x": [
          "2023-05-17T15:27:00+05:30",
          "2023-05-17T15:28:00+05:30"
         ],
         "y": [
          183.04016244796878,
          183.04016244796878
         ]
        },
        {
         "line": {
          "color": "green"
         },
         "mode": "lines",
         "name": "SuperTrend Uptrend",
         "showlegend": false,
         "type": "scatter",
         "x": [
          "2023-05-17T15:28:00+05:30",
          "2023-05-17T15:29:00+05:30"
         ],
         "y": [
          183.04016244796878,
          183.04016244796878
         ]
        },
        {
         "line": {
          "color": "green"
         },
         "mode": "lines",
         "name": "SuperTrend Uptrend",
         "showlegend": false,
         "type": "scatter",
         "x": [
          "2023-05-17T15:29:00+05:30",
          "2023-05-17T15:30:00+05:30"
         ],
         "y": [
          183.04016244796878,
          183.04016244796878
         ]
        },
        {
         "line": {
          "color": "green"
         },
         "mode": "lines",
         "name": "SuperTrend Uptrend",
         "showlegend": false,
         "type": "scatter",
         "x": [
          "2023-05-18T09:15:00+05:30",
          "2023-05-18T09:16:00+05:30"
         ],
         "y": [
          183.04016244796878,
          183.04016244796878
         ]
        },
        {
         "line": {
          "color": "green"
         },
         "mode": "lines",
         "name": "SuperTrend Uptrend",
         "showlegend": false,
         "type": "scatter",
         "x": [
          "2023-05-18T09:16:00+05:30",
          "2023-05-18T09:17:00+05:30"
         ],
         "y": [
          183.04016244796878,
          183.04016244796878
         ]
        },
        {
         "line": {
          "color": "green"
         },
         "mode": "lines",
         "name": "SuperTrend Uptrend",
         "showlegend": false,
         "type": "scatter",
         "x": [
          "2023-05-18T09:17:00+05:30",
          "2023-05-18T09:18:00+05:30"
         ],
         "y": [
          183.04016244796878,
          183.04016244796878
         ]
        },
        {
         "line": {
          "color": "green"
         },
         "mode": "lines",
         "name": "SuperTrend Uptrend",
         "showlegend": false,
         "type": "scatter",
         "x": [
          "2023-05-18T09:18:00+05:30",
          "2023-05-18T09:19:00+05:30"
         ],
         "y": [
          183.04016244796878,
          183.04016244796878
         ]
        },
        {
         "line": {
          "color": "green"
         },
         "mode": "lines",
         "name": "SuperTrend Uptrend",
         "showlegend": false,
         "type": "scatter",
         "x": [
          "2023-05-18T09:19:00+05:30",
          "2023-05-18T09:20:00+05:30"
         ],
         "y": [
          183.04016244796878,
          183.04016244796878
         ]
        },
        {
         "line": {
          "color": "green"
         },
         "mode": "lines",
         "name": "SuperTrend Uptrend",
         "showlegend": false,
         "type": "scatter",
         "x": [
          "2023-05-18T09:20:00+05:30",
          "2023-05-18T09:21:00+05:30"
         ],
         "y": [
          183.04016244796878,
          183.04016244796878
         ]
        },
        {
         "line": {
          "color": "green"
         },
         "mode": "lines",
         "name": "SuperTrend Uptrend",
         "showlegend": false,
         "type": "scatter",
         "x": [
          "2023-05-18T09:21:00+05:30",
          "2023-05-18T09:22:00+05:30"
         ],
         "y": [
          183.04016244796878,
          183.04016244796878
         ]
        },
        {
         "line": {
          "color": "green"
         },
         "mode": "lines",
         "name": "SuperTrend Uptrend",
         "showlegend": false,
         "type": "scatter",
         "x": [
          "2023-05-18T09:22:00+05:30",
          "2023-05-18T09:23:00+05:30"
         ],
         "y": [
          183.04016244796878,
          183.04016244796878
         ]
        },
        {
         "line": {
          "color": "green"
         },
         "mode": "lines",
         "name": "SuperTrend Uptrend",
         "showlegend": false,
         "type": "scatter",
         "x": [
          "2023-05-18T09:23:00+05:30",
          "2023-05-18T09:24:00+05:30"
         ],
         "y": [
          183.04016244796878,
          183.04016244796878
         ]
        },
        {
         "line": {
          "color": "green"
         },
         "mode": "lines",
         "name": "SuperTrend Uptrend",
         "showlegend": false,
         "type": "scatter",
         "x": [
          "2023-05-18T09:24:00+05:30",
          "2023-05-18T09:25:00+05:30"
         ],
         "y": [
          183.04016244796878,
          183.04016244796878
         ]
        },
        {
         "line": {
          "color": "green"
         },
         "mode": "lines",
         "name": "SuperTrend Uptrend",
         "showlegend": false,
         "type": "scatter",
         "x": [
          "2023-05-18T09:25:00+05:30",
          "2023-05-18T09:26:00+05:30"
         ],
         "y": [
          183.04016244796878,
          183.04016244796878
         ]
        },
        {
         "line": {
          "color": "green"
         },
         "mode": "lines",
         "name": "SuperTrend Uptrend",
         "showlegend": false,
         "type": "scatter",
         "x": [
          "2023-05-18T09:26:00+05:30",
          "2023-05-18T09:27:00+05:30"
         ],
         "y": [
          183.04016244796878,
          183.04016244796878
         ]
        },
        {
         "line": {
          "color": "green"
         },
         "mode": "lines",
         "name": "SuperTrend Uptrend",
         "showlegend": false,
         "type": "scatter",
         "x": [
          "2023-05-18T09:27:00+05:30",
          "2023-05-18T09:28:00+05:30"
         ],
         "y": [
          183.04016244796878,
          183.04016244796878
         ]
        },
        {
         "line": {
          "color": "green"
         },
         "mode": "lines",
         "name": "SuperTrend Uptrend",
         "showlegend": false,
         "type": "scatter",
         "x": [
          "2023-05-18T09:28:00+05:30",
          "2023-05-18T09:29:00+05:30"
         ],
         "y": [
          183.04016244796878,
          183.04016244796878
         ]
        },
        {
         "line": {
          "color": "green"
         },
         "mode": "lines",
         "name": "SuperTrend Uptrend",
         "showlegend": false,
         "type": "scatter",
         "x": [
          "2023-05-18T09:29:00+05:30",
          "2023-05-18T09:30:00+05:30"
         ],
         "y": [
          183.04016244796878,
          183.04016244796878
         ]
        },
        {
         "line": {
          "color": "green"
         },
         "mode": "lines",
         "name": "SuperTrend Uptrend",
         "showlegend": false,
         "type": "scatter",
         "x": [
          "2023-05-18T09:30:00+05:30",
          "2023-05-18T09:31:00+05:30"
         ],
         "y": [
          183.04016244796878,
          183.04016244796878
         ]
        },
        {
         "line": {
          "color": "green"
         },
         "mode": "lines",
         "name": "SuperTrend Uptrend",
         "showlegend": false,
         "type": "scatter",
         "x": [
          "2023-05-18T09:31:00+05:30",
          "2023-05-18T09:32:00+05:30"
         ],
         "y": [
          183.04016244796878,
          183.04016244796878
         ]
        },
        {
         "line": {
          "color": "green"
         },
         "mode": "lines",
         "name": "SuperTrend Uptrend",
         "showlegend": false,
         "type": "scatter",
         "x": [
          "2023-05-18T09:32:00+05:30",
          "2023-05-18T09:33:00+05:30"
         ],
         "y": [
          183.04016244796878,
          183.04016244796878
         ]
        },
        {
         "line": {
          "color": "green"
         },
         "mode": "lines",
         "name": "SuperTrend Uptrend",
         "showlegend": false,
         "type": "scatter",
         "x": [
          "2023-05-18T09:33:00+05:30",
          "2023-05-18T09:34:00+05:30"
         ],
         "y": [
          183.04016244796878,
          183.04016244796878
         ]
        },
        {
         "line": {
          "color": "green"
         },
         "mode": "lines",
         "name": "SuperTrend Uptrend",
         "showlegend": false,
         "type": "scatter",
         "x": [
          "2023-05-18T09:34:00+05:30",
          "2023-05-18T09:35:00+05:30"
         ],
         "y": [
          183.04016244796878,
          183.04016244796878
         ]
        },
        {
         "line": {
          "color": "green"
         },
         "mode": "lines",
         "name": "SuperTrend Uptrend",
         "showlegend": false,
         "type": "scatter",
         "x": [
          "2023-05-18T09:35:00+05:30",
          "2023-05-18T09:36:00+05:30"
         ],
         "y": [
          183.04016244796878,
          183.04016244796878
         ]
        },
        {
         "line": {
          "color": "green"
         },
         "mode": "lines",
         "name": "SuperTrend Uptrend",
         "showlegend": false,
         "type": "scatter",
         "x": [
          "2023-05-18T09:36:00+05:30",
          "2023-05-18T09:37:00+05:30"
         ],
         "y": [
          183.04016244796878,
          183.04016244796878
         ]
        },
        {
         "line": {
          "color": "green"
         },
         "mode": "lines",
         "name": "SuperTrend Uptrend",
         "showlegend": false,
         "type": "scatter",
         "x": [
          "2023-05-18T09:37:00+05:30",
          "2023-05-18T09:38:00+05:30"
         ],
         "y": [
          183.04016244796878,
          183.04016244796878
         ]
        },
        {
         "line": {
          "color": "green"
         },
         "mode": "lines",
         "name": "SuperTrend Uptrend",
         "showlegend": false,
         "type": "scatter",
         "x": [
          "2023-05-18T09:38:00+05:30",
          "2023-05-18T09:39:00+05:30"
         ],
         "y": [
          183.04016244796878,
          183.04016244796878
         ]
        },
        {
         "line": {
          "color": "green"
         },
         "mode": "lines",
         "name": "SuperTrend Uptrend",
         "showlegend": false,
         "type": "scatter",
         "x": [
          "2023-05-18T09:39:00+05:30",
          "2023-05-18T09:40:00+05:30"
         ],
         "y": [
          183.04016244796878,
          183.04016244796878
         ]
        },
        {
         "line": {
          "color": "green"
         },
         "mode": "lines",
         "name": "SuperTrend Uptrend",
         "showlegend": false,
         "type": "scatter",
         "x": [
          "2023-05-18T09:40:00+05:30",
          "2023-05-18T09:41:00+05:30"
         ],
         "y": [
          183.04016244796878,
          183.04016244796878
         ]
        },
        {
         "line": {
          "color": "green"
         },
         "mode": "lines",
         "name": "SuperTrend Uptrend",
         "showlegend": false,
         "type": "scatter",
         "x": [
          "2023-05-18T09:41:00+05:30",
          "2023-05-18T09:42:00+05:30"
         ],
         "y": [
          183.04016244796878,
          183.04016244796878
         ]
        },
        {
         "line": {
          "color": "green"
         },
         "mode": "lines",
         "name": "SuperTrend Uptrend",
         "showlegend": false,
         "type": "scatter",
         "x": [
          "2023-05-18T09:42:00+05:30",
          "2023-05-18T09:43:00+05:30"
         ],
         "y": [
          183.04016244796878,
          183.04016244796878
         ]
        },
        {
         "line": {
          "color": "green"
         },
         "mode": "lines",
         "name": "SuperTrend Uptrend",
         "showlegend": false,
         "type": "scatter",
         "x": [
          "2023-05-18T09:43:00+05:30",
          "2023-05-18T09:44:00+05:30"
         ],
         "y": [
          183.04016244796878,
          183.04016244796878
         ]
        },
        {
         "line": {
          "color": "green"
         },
         "mode": "lines",
         "name": "SuperTrend Uptrend",
         "showlegend": false,
         "type": "scatter",
         "x": [
          "2023-05-18T09:44:00+05:30",
          "2023-05-18T09:45:00+05:30"
         ],
         "y": [
          183.04016244796878,
          183.04016244796878
         ]
        },
        {
         "line": {
          "color": "green"
         },
         "mode": "lines",
         "name": "SuperTrend Uptrend",
         "showlegend": false,
         "type": "scatter",
         "x": [
          "2023-05-18T09:45:00+05:30",
          "2023-05-18T09:46:00+05:30"
         ],
         "y": [
          183.04016244796878,
          183.04016244796878
         ]
        },
        {
         "line": {
          "color": "green"
         },
         "mode": "lines",
         "name": "SuperTrend Uptrend",
         "showlegend": false,
         "type": "scatter",
         "x": [
          "2023-05-18T09:46:00+05:30",
          "2023-05-18T09:47:00+05:30"
         ],
         "y": [
          183.04016244796878,
          183.04016244796878
         ]
        },
        {
         "line": {
          "color": "green"
         },
         "mode": "lines",
         "name": "SuperTrend Uptrend",
         "showlegend": false,
         "type": "scatter",
         "x": [
          "2023-05-18T09:47:00+05:30",
          "2023-05-18T09:48:00+05:30"
         ],
         "y": [
          183.04016244796878,
          183.04016244796878
         ]
        },
        {
         "line": {
          "color": "green"
         },
         "mode": "lines",
         "name": "SuperTrend Uptrend",
         "showlegend": false,
         "type": "scatter",
         "x": [
          "2023-05-18T09:48:00+05:30",
          "2023-05-18T09:49:00+05:30"
         ],
         "y": [
          183.04016244796878,
          183.04016244796878
         ]
        },
        {
         "line": {
          "color": "green"
         },
         "mode": "lines",
         "name": "SuperTrend Uptrend",
         "showlegend": false,
         "type": "scatter",
         "x": [
          "2023-05-18T09:49:00+05:30",
          "2023-05-18T09:50:00+05:30"
         ],
         "y": [
          183.04016244796878,
          183.04016244796878
         ]
        },
        {
         "line": {
          "color": "green"
         },
         "mode": "lines",
         "name": "SuperTrend Uptrend",
         "showlegend": false,
         "type": "scatter",
         "x": [
          "2023-05-18T09:50:00+05:30",
          "2023-05-18T09:51:00+05:30"
         ],
         "y": [
          183.04016244796878,
          183.04016244796878
         ]
        },
        {
         "line": {
          "color": "green"
         },
         "mode": "lines",
         "name": "SuperTrend Uptrend",
         "showlegend": false,
         "type": "scatter",
         "x": [
          "2023-05-18T09:51:00+05:30",
          "2023-05-18T09:52:00+05:30"
         ],
         "y": [
          183.04016244796878,
          183.04016244796878
         ]
        },
        {
         "line": {
          "color": "green"
         },
         "mode": "lines",
         "name": "SuperTrend Uptrend",
         "showlegend": false,
         "type": "scatter",
         "x": [
          "2023-05-18T09:52:00+05:30",
          "2023-05-18T09:53:00+05:30"
         ],
         "y": [
          183.04016244796878,
          183.04016244796878
         ]
        },
        {
         "line": {
          "color": "green"
         },
         "mode": "lines",
         "name": "SuperTrend Uptrend",
         "showlegend": false,
         "type": "scatter",
         "x": [
          "2023-05-18T09:53:00+05:30",
          "2023-05-18T09:54:00+05:30"
         ],
         "y": [
          183.04016244796878,
          183.04016244796878
         ]
        },
        {
         "line": {
          "color": "green"
         },
         "mode": "lines",
         "name": "SuperTrend Uptrend",
         "showlegend": false,
         "type": "scatter",
         "x": [
          "2023-05-18T09:54:00+05:30",
          "2023-05-18T09:55:00+05:30"
         ],
         "y": [
          183.04016244796878,
          183.04016244796878
         ]
        },
        {
         "line": {
          "color": "green"
         },
         "mode": "lines",
         "name": "SuperTrend Uptrend",
         "showlegend": false,
         "type": "scatter",
         "x": [
          "2023-05-18T09:55:00+05:30",
          "2023-05-18T09:56:00+05:30"
         ],
         "y": [
          183.04016244796878,
          183.04016244796878
         ]
        },
        {
         "line": {
          "color": "green"
         },
         "mode": "lines",
         "name": "SuperTrend Uptrend",
         "showlegend": false,
         "type": "scatter",
         "x": [
          "2023-05-18T09:56:00+05:30",
          "2023-05-18T09:57:00+05:30"
         ],
         "y": [
          183.04016244796878,
          183.04016244796878
         ]
        },
        {
         "line": {
          "color": "green"
         },
         "mode": "lines",
         "name": "SuperTrend Uptrend",
         "showlegend": false,
         "type": "scatter",
         "x": [
          "2023-05-18T09:57:00+05:30",
          "2023-05-18T09:58:00+05:30"
         ],
         "y": [
          183.04016244796878,
          183.04016244796878
         ]
        },
        {
         "line": {
          "color": "green"
         },
         "mode": "lines",
         "name": "SuperTrend Uptrend",
         "showlegend": false,
         "type": "scatter",
         "x": [
          "2023-05-18T09:58:00+05:30",
          "2023-05-18T09:59:00+05:30"
         ],
         "y": [
          183.04016244796878,
          183.04016244796878
         ]
        },
        {
         "line": {
          "color": "green"
         },
         "mode": "lines",
         "name": "SuperTrend Uptrend",
         "showlegend": false,
         "type": "scatter",
         "x": [
          "2023-05-18T09:59:00+05:30",
          "2023-05-18T10:00:00+05:30"
         ],
         "y": [
          183.04016244796878,
          183.04016244796878
         ]
        },
        {
         "line": {
          "color": "green"
         },
         "mode": "lines",
         "name": "SuperTrend Uptrend",
         "showlegend": false,
         "type": "scatter",
         "x": [
          "2023-05-18T10:00:00+05:30",
          "2023-05-18T10:01:00+05:30"
         ],
         "y": [
          183.04016244796878,
          183.04016244796878
         ]
        },
        {
         "line": {
          "color": "green"
         },
         "mode": "lines",
         "name": "SuperTrend Uptrend",
         "showlegend": false,
         "type": "scatter",
         "x": [
          "2023-05-18T10:01:00+05:30",
          "2023-05-18T10:02:00+05:30"
         ],
         "y": [
          183.04016244796878,
          183.04016244796878
         ]
        },
        {
         "line": {
          "color": "green"
         },
         "mode": "lines",
         "name": "SuperTrend Uptrend",
         "showlegend": false,
         "type": "scatter",
         "x": [
          "2023-05-18T10:02:00+05:30",
          "2023-05-18T10:03:00+05:30"
         ],
         "y": [
          183.04016244796878,
          183.04016244796878
         ]
        },
        {
         "line": {
          "color": "green"
         },
         "mode": "lines",
         "name": "SuperTrend Uptrend",
         "showlegend": false,
         "type": "scatter",
         "x": [
          "2023-05-18T10:03:00+05:30",
          "2023-05-18T10:04:00+05:30"
         ],
         "y": [
          183.04016244796878,
          183.04016244796878
         ]
        },
        {
         "line": {
          "color": "green"
         },
         "mode": "lines",
         "name": "SuperTrend Uptrend",
         "showlegend": false,
         "type": "scatter",
         "x": [
          "2023-05-18T10:04:00+05:30",
          "2023-05-18T10:05:00+05:30"
         ],
         "y": [
          183.04016244796878,
          183.04016244796878
         ]
        },
        {
         "line": {
          "color": "green"
         },
         "mode": "lines",
         "name": "SuperTrend Uptrend",
         "showlegend": false,
         "type": "scatter",
         "x": [
          "2023-05-18T10:05:00+05:30",
          "2023-05-18T10:06:00+05:30"
         ],
         "y": [
          183.04016244796878,
          183.04016244796878
         ]
        },
        {
         "line": {
          "color": "green"
         },
         "mode": "lines",
         "name": "SuperTrend Uptrend",
         "showlegend": false,
         "type": "scatter",
         "x": [
          "2023-05-18T10:06:00+05:30",
          "2023-05-18T10:07:00+05:30"
         ],
         "y": [
          183.04016244796878,
          183.04016244796878
         ]
        },
        {
         "line": {
          "color": "green"
         },
         "mode": "lines",
         "name": "SuperTrend Uptrend",
         "showlegend": false,
         "type": "scatter",
         "x": [
          "2023-05-18T10:07:00+05:30",
          "2023-05-18T10:08:00+05:30"
         ],
         "y": [
          183.04016244796878,
          183.04016244796878
         ]
        },
        {
         "line": {
          "color": "green"
         },
         "mode": "lines",
         "name": "SuperTrend Uptrend",
         "showlegend": false,
         "type": "scatter",
         "x": [
          "2023-05-18T10:08:00+05:30",
          "2023-05-18T10:09:00+05:30"
         ],
         "y": [
          183.04016244796878,
          183.04016244796878
         ]
        },
        {
         "line": {
          "color": "green"
         },
         "mode": "lines",
         "name": "SuperTrend Uptrend",
         "showlegend": false,
         "type": "scatter",
         "x": [
          "2023-05-18T10:09:00+05:30",
          "2023-05-18T10:10:00+05:30"
         ],
         "y": [
          183.04016244796878,
          183.04016244796878
         ]
        },
        {
         "line": {
          "color": "green"
         },
         "mode": "lines",
         "name": "SuperTrend Uptrend",
         "showlegend": false,
         "type": "scatter",
         "x": [
          "2023-05-18T10:10:00+05:30",
          "2023-05-18T10:11:00+05:30"
         ],
         "y": [
          183.04016244796878,
          183.04016244796878
         ]
        },
        {
         "line": {
          "color": "green"
         },
         "mode": "lines",
         "name": "SuperTrend Uptrend",
         "showlegend": false,
         "type": "scatter",
         "x": [
          "2023-05-18T10:11:00+05:30",
          "2023-05-18T10:12:00+05:30"
         ],
         "y": [
          183.04016244796878,
          183.04016244796878
         ]
        },
        {
         "line": {
          "color": "green"
         },
         "mode": "lines",
         "name": "SuperTrend Uptrend",
         "showlegend": false,
         "type": "scatter",
         "x": [
          "2023-05-18T10:12:00+05:30",
          "2023-05-18T10:13:00+05:30"
         ],
         "y": [
          183.04016244796878,
          183.04016244796878
         ]
        },
        {
         "line": {
          "color": "green"
         },
         "mode": "lines",
         "name": "SuperTrend Uptrend",
         "showlegend": false,
         "type": "scatter",
         "x": [
          "2023-05-18T10:13:00+05:30",
          "2023-05-18T10:14:00+05:30"
         ],
         "y": [
          183.04016244796878,
          183.04016244796878
         ]
        },
        {
         "line": {
          "color": "green"
         },
         "mode": "lines",
         "name": "SuperTrend Uptrend",
         "showlegend": false,
         "type": "scatter",
         "x": [
          "2023-05-18T10:14:00+05:30",
          "2023-05-18T10:15:00+05:30"
         ],
         "y": [
          183.04016244796878,
          183.04016244796878
         ]
        },
        {
         "line": {
          "color": "green"
         },
         "mode": "lines",
         "name": "SuperTrend Uptrend",
         "showlegend": false,
         "type": "scatter",
         "x": [
          "2023-05-18T10:15:00+05:30",
          "2023-05-18T10:16:00+05:30"
         ],
         "y": [
          183.04016244796878,
          183.04016244796878
         ]
        },
        {
         "line": {
          "color": "green"
         },
         "mode": "lines",
         "name": "SuperTrend Uptrend",
         "showlegend": false,
         "type": "scatter",
         "x": [
          "2023-05-18T10:16:00+05:30",
          "2023-05-18T10:17:00+05:30"
         ],
         "y": [
          183.04016244796878,
          183.04016244796878
         ]
        },
        {
         "line": {
          "color": "green"
         },
         "mode": "lines",
         "name": "SuperTrend Uptrend",
         "showlegend": false,
         "type": "scatter",
         "x": [
          "2023-05-18T10:17:00+05:30",
          "2023-05-18T10:18:00+05:30"
         ],
         "y": [
          183.04016244796878,
          183.04016244796878
         ]
        },
        {
         "line": {
          "color": "green"
         },
         "mode": "lines",
         "name": "SuperTrend Uptrend",
         "showlegend": false,
         "type": "scatter",
         "x": [
          "2023-05-18T10:18:00+05:30",
          "2023-05-18T10:19:00+05:30"
         ],
         "y": [
          183.04016244796878,
          183.04016244796878
         ]
        },
        {
         "line": {
          "color": "green"
         },
         "mode": "lines",
         "name": "SuperTrend Uptrend",
         "showlegend": false,
         "type": "scatter",
         "x": [
          "2023-05-18T10:19:00+05:30",
          "2023-05-18T10:20:00+05:30"
         ],
         "y": [
          183.04016244796878,
          183.04016244796878
         ]
        },
        {
         "line": {
          "color": "green"
         },
         "mode": "lines",
         "name": "SuperTrend Uptrend",
         "showlegend": false,
         "type": "scatter",
         "x": [
          "2023-05-18T10:20:00+05:30",
          "2023-05-18T10:21:00+05:30"
         ],
         "y": [
          183.04016244796878,
          183.04016244796878
         ]
        },
        {
         "line": {
          "color": "green"
         },
         "mode": "lines",
         "name": "SuperTrend Uptrend",
         "showlegend": false,
         "type": "scatter",
         "x": [
          "2023-05-18T10:21:00+05:30",
          "2023-05-18T10:22:00+05:30"
         ],
         "y": [
          183.04016244796878,
          183.04016244796878
         ]
        },
        {
         "line": {
          "color": "green"
         },
         "mode": "lines",
         "name": "SuperTrend Uptrend",
         "showlegend": false,
         "type": "scatter",
         "x": [
          "2023-05-18T10:22:00+05:30",
          "2023-05-18T10:23:00+05:30"
         ],
         "y": [
          183.04016244796878,
          183.04016244796878
         ]
        },
        {
         "line": {
          "color": "green"
         },
         "mode": "lines",
         "name": "SuperTrend Uptrend",
         "showlegend": false,
         "type": "scatter",
         "x": [
          "2023-05-18T10:23:00+05:30",
          "2023-05-18T10:24:00+05:30"
         ],
         "y": [
          183.04016244796878,
          183.04016244796878
         ]
        },
        {
         "line": {
          "color": "green"
         },
         "mode": "lines",
         "name": "SuperTrend Uptrend",
         "showlegend": false,
         "type": "scatter",
         "x": [
          "2023-05-18T10:24:00+05:30",
          "2023-05-18T10:25:00+05:30"
         ],
         "y": [
          183.04016244796878,
          183.04016244796878
         ]
        },
        {
         "line": {
          "color": "green"
         },
         "mode": "lines",
         "name": "SuperTrend Uptrend",
         "showlegend": false,
         "type": "scatter",
         "x": [
          "2023-05-18T10:25:00+05:30",
          "2023-05-18T10:26:00+05:30"
         ],
         "y": [
          183.04016244796878,
          183.04016244796878
         ]
        },
        {
         "line": {
          "color": "green"
         },
         "mode": "lines",
         "name": "SuperTrend Uptrend",
         "showlegend": false,
         "type": "scatter",
         "x": [
          "2023-05-18T10:26:00+05:30",
          "2023-05-18T10:27:00+05:30"
         ],
         "y": [
          183.04016244796878,
          183.04016244796878
         ]
        },
        {
         "line": {
          "color": "green"
         },
         "mode": "lines",
         "name": "SuperTrend Uptrend",
         "showlegend": false,
         "type": "scatter",
         "x": [
          "2023-05-18T10:27:00+05:30",
          "2023-05-18T10:28:00+05:30"
         ],
         "y": [
          183.04016244796878,
          183.04016244796878
         ]
        },
        {
         "line": {
          "color": "green"
         },
         "mode": "lines",
         "name": "SuperTrend Uptrend",
         "showlegend": false,
         "type": "scatter",
         "x": [
          "2023-05-18T10:28:00+05:30",
          "2023-05-18T10:29:00+05:30"
         ],
         "y": [
          183.04016244796878,
          183.04016244796878
         ]
        },
        {
         "line": {
          "color": "green"
         },
         "mode": "lines",
         "name": "SuperTrend Uptrend",
         "showlegend": false,
         "type": "scatter",
         "x": [
          "2023-05-18T10:29:00+05:30",
          "2023-05-18T10:30:00+05:30"
         ],
         "y": [
          183.04016244796878,
          183.04016244796878
         ]
        },
        {
         "line": {
          "color": "green"
         },
         "mode": "lines",
         "name": "SuperTrend Uptrend",
         "showlegend": false,
         "type": "scatter",
         "x": [
          "2023-05-18T10:30:00+05:30",
          "2023-05-18T10:31:00+05:30"
         ],
         "y": [
          183.04016244796878,
          183.04016244796878
         ]
        },
        {
         "line": {
          "color": "green"
         },
         "mode": "lines",
         "name": "SuperTrend Uptrend",
         "showlegend": false,
         "type": "scatter",
         "x": [
          "2023-05-18T10:31:00+05:30",
          "2023-05-18T10:32:00+05:30"
         ],
         "y": [
          183.04016244796878,
          183.04016244796878
         ]
        },
        {
         "line": {
          "color": "green"
         },
         "mode": "lines",
         "name": "SuperTrend Uptrend",
         "showlegend": false,
         "type": "scatter",
         "x": [
          "2023-05-18T10:32:00+05:30",
          "2023-05-18T10:33:00+05:30"
         ],
         "y": [
          183.04016244796878,
          183.04016244796878
         ]
        },
        {
         "line": {
          "color": "green"
         },
         "mode": "lines",
         "name": "SuperTrend Uptrend",
         "showlegend": false,
         "type": "scatter",
         "x": [
          "2023-05-18T10:33:00+05:30",
          "2023-05-18T10:34:00+05:30"
         ],
         "y": [
          183.04016244796878,
          183.04016244796878
         ]
        },
        {
         "line": {
          "color": "green"
         },
         "mode": "lines",
         "name": "SuperTrend Uptrend",
         "showlegend": false,
         "type": "scatter",
         "x": [
          "2023-05-18T10:34:00+05:30",
          "2023-05-18T10:35:00+05:30"
         ],
         "y": [
          183.04016244796878,
          183.04016244796878
         ]
        },
        {
         "line": {
          "color": "green"
         },
         "mode": "lines",
         "name": "SuperTrend Uptrend",
         "showlegend": false,
         "type": "scatter",
         "x": [
          "2023-05-18T10:35:00+05:30",
          "2023-05-18T10:36:00+05:30"
         ],
         "y": [
          183.04016244796878,
          183.04016244796878
         ]
        },
        {
         "line": {
          "color": "green"
         },
         "mode": "lines",
         "name": "SuperTrend Uptrend",
         "showlegend": false,
         "type": "scatter",
         "x": [
          "2023-05-18T10:36:00+05:30",
          "2023-05-18T10:37:00+05:30"
         ],
         "y": [
          183.04016244796878,
          183.04016244796878
         ]
        },
        {
         "line": {
          "color": "green"
         },
         "mode": "lines",
         "name": "SuperTrend Uptrend",
         "showlegend": false,
         "type": "scatter",
         "x": [
          "2023-05-18T10:37:00+05:30",
          "2023-05-18T10:38:00+05:30"
         ],
         "y": [
          183.04016244796878,
          183.04016244796878
         ]
        },
        {
         "line": {
          "color": "green"
         },
         "mode": "lines",
         "name": "SuperTrend Uptrend",
         "showlegend": false,
         "type": "scatter",
         "x": [
          "2023-05-18T10:38:00+05:30",
          "2023-05-18T10:39:00+05:30"
         ],
         "y": [
          183.04016244796878,
          183.04016244796878
         ]
        },
        {
         "line": {
          "color": "green"
         },
         "mode": "lines",
         "name": "SuperTrend Uptrend",
         "showlegend": false,
         "type": "scatter",
         "x": [
          "2023-05-18T10:39:00+05:30",
          "2023-05-18T10:40:00+05:30"
         ],
         "y": [
          183.04016244796878,
          183.04016244796878
         ]
        },
        {
         "line": {
          "color": "green"
         },
         "mode": "lines",
         "name": "SuperTrend Uptrend",
         "showlegend": false,
         "type": "scatter",
         "x": [
          "2023-05-18T10:40:00+05:30",
          "2023-05-18T10:41:00+05:30"
         ],
         "y": [
          183.04016244796878,
          183.04016244796878
         ]
        },
        {
         "line": {
          "color": "green"
         },
         "mode": "lines",
         "name": "SuperTrend Uptrend",
         "showlegend": false,
         "type": "scatter",
         "x": [
          "2023-05-18T10:41:00+05:30",
          "2023-05-18T10:42:00+05:30"
         ],
         "y": [
          183.04016244796878,
          183.04016244796878
         ]
        },
        {
         "line": {
          "color": "green"
         },
         "mode": "lines",
         "name": "SuperTrend Uptrend",
         "showlegend": false,
         "type": "scatter",
         "x": [
          "2023-05-18T10:42:00+05:30",
          "2023-05-18T10:43:00+05:30"
         ],
         "y": [
          183.04016244796878,
          183.04016244796878
         ]
        },
        {
         "line": {
          "color": "green"
         },
         "mode": "lines",
         "name": "SuperTrend Uptrend",
         "showlegend": false,
         "type": "scatter",
         "x": [
          "2023-05-18T10:43:00+05:30",
          "2023-05-18T10:44:00+05:30"
         ],
         "y": [
          183.04016244796878,
          183.04016244796878
         ]
        },
        {
         "line": {
          "color": "green"
         },
         "mode": "lines",
         "name": "SuperTrend Uptrend",
         "showlegend": false,
         "type": "scatter",
         "x": [
          "2023-05-18T10:44:00+05:30",
          "2023-05-18T10:45:00+05:30"
         ],
         "y": [
          183.04016244796878,
          183.04016244796878
         ]
        },
        {
         "line": {
          "color": "green"
         },
         "mode": "lines",
         "name": "SuperTrend Uptrend",
         "showlegend": false,
         "type": "scatter",
         "x": [
          "2023-05-18T10:45:00+05:30",
          "2023-05-18T10:46:00+05:30"
         ],
         "y": [
          183.04016244796878,
          183.04016244796878
         ]
        },
        {
         "line": {
          "color": "green"
         },
         "mode": "lines",
         "name": "SuperTrend Uptrend",
         "showlegend": false,
         "type": "scatter",
         "x": [
          "2023-05-18T10:46:00+05:30",
          "2023-05-18T10:47:00+05:30"
         ],
         "y": [
          183.04016244796878,
          183.04016244796878
         ]
        },
        {
         "line": {
          "color": "green"
         },
         "mode": "lines",
         "name": "SuperTrend Uptrend",
         "showlegend": false,
         "type": "scatter",
         "x": [
          "2023-05-18T10:47:00+05:30",
          "2023-05-18T10:48:00+05:30"
         ],
         "y": [
          183.04016244796878,
          183.04016244796878
         ]
        },
        {
         "line": {
          "color": "green"
         },
         "mode": "lines",
         "name": "SuperTrend Uptrend",
         "showlegend": false,
         "type": "scatter",
         "x": [
          "2023-05-18T10:48:00+05:30",
          "2023-05-18T10:49:00+05:30"
         ],
         "y": [
          183.04016244796878,
          183.04016244796878
         ]
        },
        {
         "line": {
          "color": "green"
         },
         "mode": "lines",
         "name": "SuperTrend Uptrend",
         "showlegend": false,
         "type": "scatter",
         "x": [
          "2023-05-18T10:49:00+05:30",
          "2023-05-18T10:50:00+05:30"
         ],
         "y": [
          183.04016244796878,
          183.04016244796878
         ]
        },
        {
         "line": {
          "color": "green"
         },
         "mode": "lines",
         "name": "SuperTrend Uptrend",
         "showlegend": false,
         "type": "scatter",
         "x": [
          "2023-05-18T10:50:00+05:30",
          "2023-05-18T10:51:00+05:30"
         ],
         "y": [
          183.04016244796878,
          183.04016244796878
         ]
        },
        {
         "line": {
          "color": "green"
         },
         "mode": "lines",
         "name": "SuperTrend Uptrend",
         "showlegend": false,
         "type": "scatter",
         "x": [
          "2023-05-18T10:51:00+05:30",
          "2023-05-18T10:52:00+05:30"
         ],
         "y": [
          183.04016244796878,
          183.04016244796878
         ]
        },
        {
         "line": {
          "color": "green"
         },
         "mode": "lines",
         "name": "SuperTrend Uptrend",
         "showlegend": false,
         "type": "scatter",
         "x": [
          "2023-05-18T10:52:00+05:30",
          "2023-05-18T10:53:00+05:30"
         ],
         "y": [
          183.04016244796878,
          183.04016244796878
         ]
        },
        {
         "line": {
          "color": "green"
         },
         "mode": "lines",
         "name": "SuperTrend Uptrend",
         "showlegend": false,
         "type": "scatter",
         "x": [
          "2023-05-18T10:53:00+05:30",
          "2023-05-18T10:54:00+05:30"
         ],
         "y": [
          183.04016244796878,
          183.04016244796878
         ]
        },
        {
         "line": {
          "color": "green"
         },
         "mode": "lines",
         "name": "SuperTrend Uptrend",
         "showlegend": false,
         "type": "scatter",
         "x": [
          "2023-05-18T10:54:00+05:30",
          "2023-05-18T10:55:00+05:30"
         ],
         "y": [
          183.04016244796878,
          183.04016244796878
         ]
        },
        {
         "line": {
          "color": "green"
         },
         "mode": "lines",
         "name": "SuperTrend Uptrend",
         "showlegend": false,
         "type": "scatter",
         "x": [
          "2023-05-18T10:55:00+05:30",
          "2023-05-18T10:56:00+05:30"
         ],
         "y": [
          183.04016244796878,
          183.04016244796878
         ]
        },
        {
         "line": {
          "color": "green"
         },
         "mode": "lines",
         "name": "SuperTrend Uptrend",
         "showlegend": false,
         "type": "scatter",
         "x": [
          "2023-05-18T10:56:00+05:30",
          "2023-05-18T10:57:00+05:30"
         ],
         "y": [
          183.04016244796878,
          183.04016244796878
         ]
        },
        {
         "line": {
          "color": "green"
         },
         "mode": "lines",
         "name": "SuperTrend Uptrend",
         "showlegend": false,
         "type": "scatter",
         "x": [
          "2023-05-18T10:57:00+05:30",
          "2023-05-18T10:58:00+05:30"
         ],
         "y": [
          183.04016244796878,
          183.04016244796878
         ]
        },
        {
         "line": {
          "color": "green"
         },
         "mode": "lines",
         "name": "SuperTrend Uptrend",
         "showlegend": false,
         "type": "scatter",
         "x": [
          "2023-05-18T10:58:00+05:30",
          "2023-05-18T10:59:00+05:30"
         ],
         "y": [
          183.04016244796878,
          183.04016244796878
         ]
        },
        {
         "line": {
          "color": "green"
         },
         "mode": "lines",
         "name": "SuperTrend Uptrend",
         "showlegend": false,
         "type": "scatter",
         "x": [
          "2023-05-18T10:59:00+05:30",
          "2023-05-18T11:00:00+05:30"
         ],
         "y": [
          183.04016244796878,
          183.04016244796878
         ]
        },
        {
         "line": {
          "color": "green"
         },
         "mode": "lines",
         "name": "SuperTrend Uptrend",
         "showlegend": false,
         "type": "scatter",
         "x": [
          "2023-05-18T11:00:00+05:30",
          "2023-05-18T11:01:00+05:30"
         ],
         "y": [
          183.04016244796878,
          183.04016244796878
         ]
        },
        {
         "line": {
          "color": "green"
         },
         "mode": "lines",
         "name": "SuperTrend Uptrend",
         "showlegend": false,
         "type": "scatter",
         "x": [
          "2023-05-18T11:01:00+05:30",
          "2023-05-18T11:02:00+05:30"
         ],
         "y": [
          183.04016244796878,
          183.04016244796878
         ]
        },
        {
         "line": {
          "color": "green"
         },
         "mode": "lines",
         "name": "SuperTrend Uptrend",
         "showlegend": false,
         "type": "scatter",
         "x": [
          "2023-05-18T11:02:00+05:30",
          "2023-05-18T11:03:00+05:30"
         ],
         "y": [
          183.04016244796878,
          183.04016244796878
         ]
        },
        {
         "line": {
          "color": "green"
         },
         "mode": "lines",
         "name": "SuperTrend Uptrend",
         "showlegend": false,
         "type": "scatter",
         "x": [
          "2023-05-18T11:03:00+05:30",
          "2023-05-18T11:04:00+05:30"
         ],
         "y": [
          183.04016244796878,
          183.04016244796878
         ]
        },
        {
         "line": {
          "color": "green"
         },
         "mode": "lines",
         "name": "SuperTrend Uptrend",
         "showlegend": false,
         "type": "scatter",
         "x": [
          "2023-05-18T11:04:00+05:30",
          "2023-05-18T11:05:00+05:30"
         ],
         "y": [
          183.04016244796878,
          183.04016244796878
         ]
        },
        {
         "line": {
          "color": "green"
         },
         "mode": "lines",
         "name": "SuperTrend Uptrend",
         "showlegend": false,
         "type": "scatter",
         "x": [
          "2023-05-18T11:05:00+05:30",
          "2023-05-18T11:06:00+05:30"
         ],
         "y": [
          183.04016244796878,
          183.04016244796878
         ]
        },
        {
         "line": {
          "color": "green"
         },
         "mode": "lines",
         "name": "SuperTrend Uptrend",
         "showlegend": false,
         "type": "scatter",
         "x": [
          "2023-05-18T11:06:00+05:30",
          "2023-05-18T11:07:00+05:30"
         ],
         "y": [
          183.04016244796878,
          183.04016244796878
         ]
        },
        {
         "line": {
          "color": "green"
         },
         "mode": "lines",
         "name": "SuperTrend Uptrend",
         "showlegend": false,
         "type": "scatter",
         "x": [
          "2023-05-18T11:07:00+05:30",
          "2023-05-18T11:08:00+05:30"
         ],
         "y": [
          183.04016244796878,
          183.04016244796878
         ]
        },
        {
         "line": {
          "color": "green"
         },
         "mode": "lines",
         "name": "SuperTrend Uptrend",
         "showlegend": false,
         "type": "scatter",
         "x": [
          "2023-05-18T11:08:00+05:30",
          "2023-05-18T11:09:00+05:30"
         ],
         "y": [
          183.04016244796878,
          183.04016244796878
         ]
        },
        {
         "line": {
          "color": "green"
         },
         "mode": "lines",
         "name": "SuperTrend Uptrend",
         "showlegend": false,
         "type": "scatter",
         "x": [
          "2023-05-18T11:09:00+05:30",
          "2023-05-18T11:10:00+05:30"
         ],
         "y": [
          183.04016244796878,
          183.04016244796878
         ]
        },
        {
         "line": {
          "color": "green"
         },
         "mode": "lines",
         "name": "SuperTrend Uptrend",
         "showlegend": false,
         "type": "scatter",
         "x": [
          "2023-05-18T11:10:00+05:30",
          "2023-05-18T11:11:00+05:30"
         ],
         "y": [
          183.04016244796878,
          183.04016244796878
         ]
        },
        {
         "line": {
          "color": "green"
         },
         "mode": "lines",
         "name": "SuperTrend Uptrend",
         "showlegend": false,
         "type": "scatter",
         "x": [
          "2023-05-18T11:11:00+05:30",
          "2023-05-18T11:12:00+05:30"
         ],
         "y": [
          183.04016244796878,
          183.04016244796878
         ]
        },
        {
         "line": {
          "color": "green"
         },
         "mode": "lines",
         "name": "SuperTrend Uptrend",
         "showlegend": false,
         "type": "scatter",
         "x": [
          "2023-05-18T11:12:00+05:30",
          "2023-05-18T11:13:00+05:30"
         ],
         "y": [
          183.04016244796878,
          183.04016244796878
         ]
        },
        {
         "line": {
          "color": "green"
         },
         "mode": "lines",
         "name": "SuperTrend Uptrend",
         "showlegend": false,
         "type": "scatter",
         "x": [
          "2023-05-18T11:13:00+05:30",
          "2023-05-18T11:14:00+05:30"
         ],
         "y": [
          183.04016244796878,
          183.04016244796878
         ]
        },
        {
         "line": {
          "color": "green"
         },
         "mode": "lines",
         "name": "SuperTrend Uptrend",
         "showlegend": false,
         "type": "scatter",
         "x": [
          "2023-05-18T11:14:00+05:30",
          "2023-05-18T11:15:00+05:30"
         ],
         "y": [
          183.04016244796878,
          183.04016244796878
         ]
        },
        {
         "line": {
          "color": "green"
         },
         "mode": "lines",
         "name": "SuperTrend Uptrend",
         "showlegend": false,
         "type": "scatter",
         "x": [
          "2023-05-18T11:15:00+05:30",
          "2023-05-18T11:16:00+05:30"
         ],
         "y": [
          183.04016244796878,
          183.04016244796878
         ]
        },
        {
         "line": {
          "color": "green"
         },
         "mode": "lines",
         "name": "SuperTrend Uptrend",
         "showlegend": false,
         "type": "scatter",
         "x": [
          "2023-05-18T11:16:00+05:30",
          "2023-05-18T11:17:00+05:30"
         ],
         "y": [
          183.04016244796878,
          183.04016244796878
         ]
        },
        {
         "line": {
          "color": "green"
         },
         "mode": "lines",
         "name": "SuperTrend Uptrend",
         "showlegend": false,
         "type": "scatter",
         "x": [
          "2023-05-18T11:17:00+05:30",
          "2023-05-18T11:18:00+05:30"
         ],
         "y": [
          183.04016244796878,
          183.04016244796878
         ]
        },
        {
         "line": {
          "color": "green"
         },
         "mode": "lines",
         "name": "SuperTrend Uptrend",
         "showlegend": false,
         "type": "scatter",
         "x": [
          "2023-05-18T11:18:00+05:30",
          "2023-05-18T11:19:00+05:30"
         ],
         "y": [
          183.04016244796878,
          183.04016244796878
         ]
        },
        {
         "line": {
          "color": "green"
         },
         "mode": "lines",
         "name": "SuperTrend Uptrend",
         "showlegend": false,
         "type": "scatter",
         "x": [
          "2023-05-18T11:19:00+05:30",
          "2023-05-18T11:20:00+05:30"
         ],
         "y": [
          183.04016244796878,
          183.04016244796878
         ]
        },
        {
         "line": {
          "color": "green"
         },
         "mode": "lines",
         "name": "SuperTrend Uptrend",
         "showlegend": false,
         "type": "scatter",
         "x": [
          "2023-05-18T11:20:00+05:30",
          "2023-05-18T11:21:00+05:30"
         ],
         "y": [
          183.04016244796878,
          183.04016244796878
         ]
        },
        {
         "line": {
          "color": "green"
         },
         "mode": "lines",
         "name": "SuperTrend Uptrend",
         "showlegend": false,
         "type": "scatter",
         "x": [
          "2023-05-18T11:21:00+05:30",
          "2023-05-18T11:22:00+05:30"
         ],
         "y": [
          183.04016244796878,
          183.04016244796878
         ]
        },
        {
         "line": {
          "color": "green"
         },
         "mode": "lines",
         "name": "SuperTrend Uptrend",
         "showlegend": false,
         "type": "scatter",
         "x": [
          "2023-05-18T11:22:00+05:30",
          "2023-05-18T11:23:00+05:30"
         ],
         "y": [
          183.04016244796878,
          183.04016244796878
         ]
        },
        {
         "line": {
          "color": "green"
         },
         "mode": "lines",
         "name": "SuperTrend Uptrend",
         "showlegend": false,
         "type": "scatter",
         "x": [
          "2023-05-18T11:23:00+05:30",
          "2023-05-18T11:24:00+05:30"
         ],
         "y": [
          183.04016244796878,
          183.04016244796878
         ]
        },
        {
         "line": {
          "color": "green"
         },
         "mode": "lines",
         "name": "SuperTrend Uptrend",
         "showlegend": false,
         "type": "scatter",
         "x": [
          "2023-05-18T11:24:00+05:30",
          "2023-05-18T11:25:00+05:30"
         ],
         "y": [
          183.04016244796878,
          183.04016244796878
         ]
        },
        {
         "line": {
          "color": "green"
         },
         "mode": "lines",
         "name": "SuperTrend Uptrend",
         "showlegend": false,
         "type": "scatter",
         "x": [
          "2023-05-18T11:25:00+05:30",
          "2023-05-18T11:26:00+05:30"
         ],
         "y": [
          183.04016244796878,
          183.04016244796878
         ]
        },
        {
         "line": {
          "color": "green"
         },
         "mode": "lines",
         "name": "SuperTrend Uptrend",
         "showlegend": false,
         "type": "scatter",
         "x": [
          "2023-05-18T11:26:00+05:30",
          "2023-05-18T11:27:00+05:30"
         ],
         "y": [
          183.04016244796878,
          183.04016244796878
         ]
        },
        {
         "line": {
          "color": "green"
         },
         "mode": "lines",
         "name": "SuperTrend Uptrend",
         "showlegend": false,
         "type": "scatter",
         "x": [
          "2023-05-18T11:27:00+05:30",
          "2023-05-18T11:28:00+05:30"
         ],
         "y": [
          183.04016244796878,
          183.04016244796878
         ]
        },
        {
         "line": {
          "color": "green"
         },
         "mode": "lines",
         "name": "SuperTrend Uptrend",
         "showlegend": false,
         "type": "scatter",
         "x": [
          "2023-05-18T11:28:00+05:30",
          "2023-05-18T11:29:00+05:30"
         ],
         "y": [
          183.04016244796878,
          183.04016244796878
         ]
        },
        {
         "line": {
          "color": "green"
         },
         "mode": "lines",
         "name": "SuperTrend Uptrend",
         "showlegend": false,
         "type": "scatter",
         "x": [
          "2023-05-18T11:29:00+05:30",
          "2023-05-18T11:30:00+05:30"
         ],
         "y": [
          183.04016244796878,
          183.04016244796878
         ]
        },
        {
         "line": {
          "color": "green"
         },
         "mode": "lines",
         "name": "SuperTrend Uptrend",
         "showlegend": false,
         "type": "scatter",
         "x": [
          "2023-05-18T11:30:00+05:30",
          "2023-05-18T11:31:00+05:30"
         ],
         "y": [
          183.04016244796878,
          183.04016244796878
         ]
        },
        {
         "line": {
          "color": "green"
         },
         "mode": "lines",
         "name": "SuperTrend Uptrend",
         "showlegend": false,
         "type": "scatter",
         "x": [
          "2023-05-18T11:31:00+05:30",
          "2023-05-18T11:32:00+05:30"
         ],
         "y": [
          183.04016244796878,
          183.04016244796878
         ]
        },
        {
         "line": {
          "color": "green"
         },
         "mode": "lines",
         "name": "SuperTrend Uptrend",
         "showlegend": false,
         "type": "scatter",
         "x": [
          "2023-05-18T11:32:00+05:30",
          "2023-05-18T11:33:00+05:30"
         ],
         "y": [
          183.04016244796878,
          183.04016244796878
         ]
        },
        {
         "line": {
          "color": "green"
         },
         "mode": "lines",
         "name": "SuperTrend Uptrend",
         "showlegend": false,
         "type": "scatter",
         "x": [
          "2023-05-18T11:33:00+05:30",
          "2023-05-18T11:34:00+05:30"
         ],
         "y": [
          183.04016244796878,
          183.04016244796878
         ]
        },
        {
         "line": {
          "color": "green"
         },
         "mode": "lines",
         "name": "SuperTrend Uptrend",
         "showlegend": false,
         "type": "scatter",
         "x": [
          "2023-05-18T11:34:00+05:30",
          "2023-05-18T11:35:00+05:30"
         ],
         "y": [
          183.04016244796878,
          183.04016244796878
         ]
        },
        {
         "line": {
          "color": "green"
         },
         "mode": "lines",
         "name": "SuperTrend Uptrend",
         "showlegend": false,
         "type": "scatter",
         "x": [
          "2023-05-18T11:35:00+05:30",
          "2023-05-18T11:36:00+05:30"
         ],
         "y": [
          183.04016244796878,
          183.04016244796878
         ]
        },
        {
         "line": {
          "color": "green"
         },
         "mode": "lines",
         "name": "SuperTrend Uptrend",
         "showlegend": false,
         "type": "scatter",
         "x": [
          "2023-05-18T11:36:00+05:30",
          "2023-05-18T11:37:00+05:30"
         ],
         "y": [
          183.04016244796878,
          183.04016244796878
         ]
        },
        {
         "line": {
          "color": "green"
         },
         "mode": "lines",
         "name": "SuperTrend Uptrend",
         "showlegend": false,
         "type": "scatter",
         "x": [
          "2023-05-18T11:37:00+05:30",
          "2023-05-18T11:38:00+05:30"
         ],
         "y": [
          183.04016244796878,
          183.04016244796878
         ]
        },
        {
         "line": {
          "color": "green"
         },
         "mode": "lines",
         "name": "SuperTrend Uptrend",
         "showlegend": false,
         "type": "scatter",
         "x": [
          "2023-05-18T11:38:00+05:30",
          "2023-05-18T11:39:00+05:30"
         ],
         "y": [
          183.04016244796878,
          183.04016244796878
         ]
        },
        {
         "line": {
          "color": "green"
         },
         "mode": "lines",
         "name": "SuperTrend Uptrend",
         "showlegend": false,
         "type": "scatter",
         "x": [
          "2023-05-18T11:39:00+05:30",
          "2023-05-18T11:40:00+05:30"
         ],
         "y": [
          183.04016244796878,
          183.04016244796878
         ]
        },
        {
         "line": {
          "color": "green"
         },
         "mode": "lines",
         "name": "SuperTrend Uptrend",
         "showlegend": false,
         "type": "scatter",
         "x": [
          "2023-05-18T11:40:00+05:30",
          "2023-05-18T11:41:00+05:30"
         ],
         "y": [
          183.04016244796878,
          183.04016244796878
         ]
        },
        {
         "line": {
          "color": "green"
         },
         "mode": "lines",
         "name": "SuperTrend Uptrend",
         "showlegend": false,
         "type": "scatter",
         "x": [
          "2023-05-18T11:41:00+05:30",
          "2023-05-18T11:42:00+05:30"
         ],
         "y": [
          183.04016244796878,
          183.04016244796878
         ]
        },
        {
         "line": {
          "color": "green"
         },
         "mode": "lines",
         "name": "SuperTrend Uptrend",
         "showlegend": false,
         "type": "scatter",
         "x": [
          "2023-05-18T11:42:00+05:30",
          "2023-05-18T11:43:00+05:30"
         ],
         "y": [
          183.04016244796878,
          183.04016244796878
         ]
        },
        {
         "line": {
          "color": "green"
         },
         "mode": "lines",
         "name": "SuperTrend Uptrend",
         "showlegend": false,
         "type": "scatter",
         "x": [
          "2023-05-18T11:43:00+05:30",
          "2023-05-18T11:44:00+05:30"
         ],
         "y": [
          183.04016244796878,
          183.04016244796878
         ]
        },
        {
         "line": {
          "color": "green"
         },
         "mode": "lines",
         "name": "SuperTrend Uptrend",
         "showlegend": false,
         "type": "scatter",
         "x": [
          "2023-05-18T11:44:00+05:30",
          "2023-05-18T11:45:00+05:30"
         ],
         "y": [
          183.04016244796878,
          183.04016244796878
         ]
        },
        {
         "line": {
          "color": "green"
         },
         "mode": "lines",
         "name": "SuperTrend Uptrend",
         "showlegend": false,
         "type": "scatter",
         "x": [
          "2023-05-18T11:45:00+05:30",
          "2023-05-18T11:46:00+05:30"
         ],
         "y": [
          183.04016244796878,
          183.04016244796878
         ]
        },
        {
         "line": {
          "color": "green"
         },
         "mode": "lines",
         "name": "SuperTrend Uptrend",
         "showlegend": false,
         "type": "scatter",
         "x": [
          "2023-05-18T11:46:00+05:30",
          "2023-05-18T11:47:00+05:30"
         ],
         "y": [
          183.04016244796878,
          183.04016244796878
         ]
        },
        {
         "line": {
          "color": "green"
         },
         "mode": "lines",
         "name": "SuperTrend Uptrend",
         "showlegend": false,
         "type": "scatter",
         "x": [
          "2023-05-18T11:47:00+05:30",
          "2023-05-18T11:48:00+05:30"
         ],
         "y": [
          183.04016244796878,
          183.04016244796878
         ]
        },
        {
         "line": {
          "color": "green"
         },
         "mode": "lines",
         "name": "SuperTrend Uptrend",
         "showlegend": false,
         "type": "scatter",
         "x": [
          "2023-05-18T11:48:00+05:30",
          "2023-05-18T11:49:00+05:30"
         ],
         "y": [
          183.04016244796878,
          183.04016244796878
         ]
        },
        {
         "line": {
          "color": "green"
         },
         "mode": "lines",
         "name": "SuperTrend Uptrend",
         "showlegend": false,
         "type": "scatter",
         "x": [
          "2023-05-18T11:49:00+05:30",
          "2023-05-18T11:50:00+05:30"
         ],
         "y": [
          183.04016244796878,
          183.04016244796878
         ]
        },
        {
         "line": {
          "color": "green"
         },
         "mode": "lines",
         "name": "SuperTrend Uptrend",
         "showlegend": false,
         "type": "scatter",
         "x": [
          "2023-05-18T11:50:00+05:30",
          "2023-05-18T11:51:00+05:30"
         ],
         "y": [
          183.04016244796878,
          183.04016244796878
         ]
        },
        {
         "line": {
          "color": "green"
         },
         "mode": "lines",
         "name": "SuperTrend Uptrend",
         "showlegend": false,
         "type": "scatter",
         "x": [
          "2023-05-18T11:51:00+05:30",
          "2023-05-18T11:52:00+05:30"
         ],
         "y": [
          183.04016244796878,
          183.04016244796878
         ]
        },
        {
         "line": {
          "color": "green"
         },
         "mode": "lines",
         "name": "SuperTrend Uptrend",
         "showlegend": false,
         "type": "scatter",
         "x": [
          "2023-05-18T11:52:00+05:30",
          "2023-05-18T11:53:00+05:30"
         ],
         "y": [
          183.04016244796878,
          183.04016244796878
         ]
        },
        {
         "line": {
          "color": "green"
         },
         "mode": "lines",
         "name": "SuperTrend Uptrend",
         "showlegend": false,
         "type": "scatter",
         "x": [
          "2023-05-18T11:53:00+05:30",
          "2023-05-18T11:54:00+05:30"
         ],
         "y": [
          183.04016244796878,
          183.04016244796878
         ]
        },
        {
         "line": {
          "color": "green"
         },
         "mode": "lines",
         "name": "SuperTrend Uptrend",
         "showlegend": false,
         "type": "scatter",
         "x": [
          "2023-05-18T11:54:00+05:30",
          "2023-05-18T11:55:00+05:30"
         ],
         "y": [
          183.04016244796878,
          183.04016244796878
         ]
        },
        {
         "line": {
          "color": "green"
         },
         "mode": "lines",
         "name": "SuperTrend Uptrend",
         "showlegend": false,
         "type": "scatter",
         "x": [
          "2023-05-18T11:55:00+05:30",
          "2023-05-18T11:56:00+05:30"
         ],
         "y": [
          183.04016244796878,
          183.04016244796878
         ]
        },
        {
         "line": {
          "color": "green"
         },
         "mode": "lines",
         "name": "SuperTrend Uptrend",
         "showlegend": false,
         "type": "scatter",
         "x": [
          "2023-05-18T11:56:00+05:30",
          "2023-05-18T11:57:00+05:30"
         ],
         "y": [
          183.04016244796878,
          183.04016244796878
         ]
        },
        {
         "line": {
          "color": "green"
         },
         "mode": "lines",
         "name": "SuperTrend Uptrend",
         "showlegend": false,
         "type": "scatter",
         "x": [
          "2023-05-18T11:57:00+05:30",
          "2023-05-18T11:58:00+05:30"
         ],
         "y": [
          183.04016244796878,
          183.04016244796878
         ]
        },
        {
         "line": {
          "color": "green"
         },
         "mode": "lines",
         "name": "SuperTrend Uptrend",
         "showlegend": false,
         "type": "scatter",
         "x": [
          "2023-05-18T11:58:00+05:30",
          "2023-05-18T11:59:00+05:30"
         ],
         "y": [
          183.04016244796878,
          183.04016244796878
         ]
        },
        {
         "line": {
          "color": "green"
         },
         "mode": "lines",
         "name": "SuperTrend Uptrend",
         "showlegend": false,
         "type": "scatter",
         "x": [
          "2023-05-18T11:59:00+05:30",
          "2023-05-18T12:00:00+05:30"
         ],
         "y": [
          183.04016244796878,
          183.04016244796878
         ]
        },
        {
         "line": {
          "color": "green"
         },
         "mode": "lines",
         "name": "SuperTrend Uptrend",
         "showlegend": false,
         "type": "scatter",
         "x": [
          "2023-05-18T12:00:00+05:30",
          "2023-05-18T12:01:00+05:30"
         ],
         "y": [
          183.04016244796878,
          183.04016244796878
         ]
        },
        {
         "line": {
          "color": "green"
         },
         "mode": "lines",
         "name": "SuperTrend Uptrend",
         "showlegend": false,
         "type": "scatter",
         "x": [
          "2023-05-18T12:01:00+05:30",
          "2023-05-18T12:02:00+05:30"
         ],
         "y": [
          183.04016244796878,
          183.04016244796878
         ]
        },
        {
         "line": {
          "color": "green"
         },
         "mode": "lines",
         "name": "SuperTrend Uptrend",
         "showlegend": false,
         "type": "scatter",
         "x": [
          "2023-05-18T12:02:00+05:30",
          "2023-05-18T12:03:00+05:30"
         ],
         "y": [
          183.04016244796878,
          183.04016244796878
         ]
        },
        {
         "line": {
          "color": "green"
         },
         "mode": "lines",
         "name": "SuperTrend Uptrend",
         "showlegend": false,
         "type": "scatter",
         "x": [
          "2023-05-18T12:03:00+05:30",
          "2023-05-18T12:04:00+05:30"
         ],
         "y": [
          183.04016244796878,
          183.04016244796878
         ]
        },
        {
         "line": {
          "color": "green"
         },
         "mode": "lines",
         "name": "SuperTrend Uptrend",
         "showlegend": false,
         "type": "scatter",
         "x": [
          "2023-05-18T12:04:00+05:30",
          "2023-05-18T12:05:00+05:30"
         ],
         "y": [
          183.04016244796878,
          183.04016244796878
         ]
        },
        {
         "line": {
          "color": "green"
         },
         "mode": "lines",
         "name": "SuperTrend Uptrend",
         "showlegend": false,
         "type": "scatter",
         "x": [
          "2023-05-18T12:05:00+05:30",
          "2023-05-18T12:06:00+05:30"
         ],
         "y": [
          183.04016244796878,
          183.04016244796878
         ]
        },
        {
         "line": {
          "color": "green"
         },
         "mode": "lines",
         "name": "SuperTrend Uptrend",
         "showlegend": false,
         "type": "scatter",
         "x": [
          "2023-05-18T12:06:00+05:30",
          "2023-05-18T12:07:00+05:30"
         ],
         "y": [
          183.04016244796878,
          183.04016244796878
         ]
        },
        {
         "line": {
          "color": "green"
         },
         "mode": "lines",
         "name": "SuperTrend Uptrend",
         "showlegend": false,
         "type": "scatter",
         "x": [
          "2023-05-18T12:07:00+05:30",
          "2023-05-18T12:08:00+05:30"
         ],
         "y": [
          183.04016244796878,
          183.04016244796878
         ]
        },
        {
         "line": {
          "color": "green"
         },
         "mode": "lines",
         "name": "SuperTrend Uptrend",
         "showlegend": false,
         "type": "scatter",
         "x": [
          "2023-05-18T12:08:00+05:30",
          "2023-05-18T12:09:00+05:30"
         ],
         "y": [
          183.04016244796878,
          183.04016244796878
         ]
        },
        {
         "line": {
          "color": "green"
         },
         "mode": "lines",
         "name": "SuperTrend Uptrend",
         "showlegend": false,
         "type": "scatter",
         "x": [
          "2023-05-18T12:09:00+05:30",
          "2023-05-18T12:10:00+05:30"
         ],
         "y": [
          183.04016244796878,
          183.04016244796878
         ]
        },
        {
         "line": {
          "color": "green"
         },
         "mode": "lines",
         "name": "SuperTrend Uptrend",
         "showlegend": false,
         "type": "scatter",
         "x": [
          "2023-05-18T12:10:00+05:30",
          "2023-05-18T12:11:00+05:30"
         ],
         "y": [
          183.04016244796878,
          183.04016244796878
         ]
        },
        {
         "line": {
          "color": "green"
         },
         "mode": "lines",
         "name": "SuperTrend Uptrend",
         "showlegend": false,
         "type": "scatter",
         "x": [
          "2023-05-18T12:11:00+05:30",
          "2023-05-18T12:12:00+05:30"
         ],
         "y": [
          183.04016244796878,
          183.04016244796878
         ]
        },
        {
         "line": {
          "color": "green"
         },
         "mode": "lines",
         "name": "SuperTrend Uptrend",
         "showlegend": false,
         "type": "scatter",
         "x": [
          "2023-05-18T12:12:00+05:30",
          "2023-05-18T12:13:00+05:30"
         ],
         "y": [
          183.04016244796878,
          183.04016244796878
         ]
        },
        {
         "line": {
          "color": "green"
         },
         "mode": "lines",
         "name": "SuperTrend Uptrend",
         "showlegend": false,
         "type": "scatter",
         "x": [
          "2023-05-18T12:13:00+05:30",
          "2023-05-18T12:14:00+05:30"
         ],
         "y": [
          183.04016244796878,
          183.04016244796878
         ]
        },
        {
         "line": {
          "color": "green"
         },
         "mode": "lines",
         "name": "SuperTrend Uptrend",
         "showlegend": false,
         "type": "scatter",
         "x": [
          "2023-05-18T12:14:00+05:30",
          "2023-05-18T12:15:00+05:30"
         ],
         "y": [
          183.04016244796878,
          183.04016244796878
         ]
        },
        {
         "line": {
          "color": "green"
         },
         "mode": "lines",
         "name": "SuperTrend Uptrend",
         "showlegend": false,
         "type": "scatter",
         "x": [
          "2023-05-18T12:15:00+05:30",
          "2023-05-18T12:16:00+05:30"
         ],
         "y": [
          183.04016244796878,
          183.04016244796878
         ]
        },
        {
         "line": {
          "color": "green"
         },
         "mode": "lines",
         "name": "SuperTrend Uptrend",
         "showlegend": false,
         "type": "scatter",
         "x": [
          "2023-05-18T12:16:00+05:30",
          "2023-05-18T12:17:00+05:30"
         ],
         "y": [
          183.04016244796878,
          183.04016244796878
         ]
        },
        {
         "line": {
          "color": "green"
         },
         "mode": "lines",
         "name": "SuperTrend Uptrend",
         "showlegend": false,
         "type": "scatter",
         "x": [
          "2023-05-18T12:17:00+05:30",
          "2023-05-18T12:18:00+05:30"
         ],
         "y": [
          183.04016244796878,
          183.04016244796878
         ]
        },
        {
         "line": {
          "color": "green"
         },
         "mode": "lines",
         "name": "SuperTrend Uptrend",
         "showlegend": false,
         "type": "scatter",
         "x": [
          "2023-05-18T12:18:00+05:30",
          "2023-05-18T12:19:00+05:30"
         ],
         "y": [
          183.04016244796878,
          183.04016244796878
         ]
        },
        {
         "line": {
          "color": "green"
         },
         "mode": "lines",
         "name": "SuperTrend Uptrend",
         "showlegend": false,
         "type": "scatter",
         "x": [
          "2023-05-18T12:19:00+05:30",
          "2023-05-18T12:20:00+05:30"
         ],
         "y": [
          183.04016244796878,
          183.04016244796878
         ]
        },
        {
         "line": {
          "color": "green"
         },
         "mode": "lines",
         "name": "SuperTrend Uptrend",
         "showlegend": false,
         "type": "scatter",
         "x": [
          "2023-05-18T12:20:00+05:30",
          "2023-05-18T12:21:00+05:30"
         ],
         "y": [
          183.04016244796878,
          183.04016244796878
         ]
        },
        {
         "line": {
          "color": "green"
         },
         "mode": "lines",
         "name": "SuperTrend Uptrend",
         "showlegend": false,
         "type": "scatter",
         "x": [
          "2023-05-18T12:21:00+05:30",
          "2023-05-18T12:22:00+05:30"
         ],
         "y": [
          183.04016244796878,
          183.04016244796878
         ]
        },
        {
         "line": {
          "color": "green"
         },
         "mode": "lines",
         "name": "SuperTrend Uptrend",
         "showlegend": false,
         "type": "scatter",
         "x": [
          "2023-05-18T12:22:00+05:30",
          "2023-05-18T12:23:00+05:30"
         ],
         "y": [
          183.04016244796878,
          183.04016244796878
         ]
        },
        {
         "line": {
          "color": "green"
         },
         "mode": "lines",
         "name": "SuperTrend Uptrend",
         "showlegend": false,
         "type": "scatter",
         "x": [
          "2023-05-18T12:23:00+05:30",
          "2023-05-18T12:24:00+05:30"
         ],
         "y": [
          183.04016244796878,
          183.04016244796878
         ]
        },
        {
         "line": {
          "color": "green"
         },
         "mode": "lines",
         "name": "SuperTrend Uptrend",
         "showlegend": false,
         "type": "scatter",
         "x": [
          "2023-05-18T12:24:00+05:30",
          "2023-05-18T12:25:00+05:30"
         ],
         "y": [
          183.04016244796878,
          183.04016244796878
         ]
        },
        {
         "line": {
          "color": "green"
         },
         "mode": "lines",
         "name": "SuperTrend Uptrend",
         "showlegend": false,
         "type": "scatter",
         "x": [
          "2023-05-18T12:25:00+05:30",
          "2023-05-18T12:26:00+05:30"
         ],
         "y": [
          183.04016244796878,
          183.04016244796878
         ]
        },
        {
         "line": {
          "color": "green"
         },
         "mode": "lines",
         "name": "SuperTrend Uptrend",
         "showlegend": false,
         "type": "scatter",
         "x": [
          "2023-05-18T12:26:00+05:30",
          "2023-05-18T12:27:00+05:30"
         ],
         "y": [
          183.04016244796878,
          183.04016244796878
         ]
        },
        {
         "line": {
          "color": "green"
         },
         "mode": "lines",
         "name": "SuperTrend Uptrend",
         "showlegend": false,
         "type": "scatter",
         "x": [
          "2023-05-18T12:27:00+05:30",
          "2023-05-18T12:28:00+05:30"
         ],
         "y": [
          183.04016244796878,
          183.04016244796878
         ]
        },
        {
         "line": {
          "color": "green"
         },
         "mode": "lines",
         "name": "SuperTrend Uptrend",
         "showlegend": false,
         "type": "scatter",
         "x": [
          "2023-05-18T12:28:00+05:30",
          "2023-05-18T12:29:00+05:30"
         ],
         "y": [
          183.04016244796878,
          183.04016244796878
         ]
        },
        {
         "line": {
          "color": "green"
         },
         "mode": "lines",
         "name": "SuperTrend Uptrend",
         "showlegend": false,
         "type": "scatter",
         "x": [
          "2023-05-18T12:29:00+05:30",
          "2023-05-18T12:30:00+05:30"
         ],
         "y": [
          183.04016244796878,
          183.04016244796878
         ]
        },
        {
         "line": {
          "color": "green"
         },
         "mode": "lines",
         "name": "SuperTrend Uptrend",
         "showlegend": false,
         "type": "scatter",
         "x": [
          "2023-05-18T12:30:00+05:30",
          "2023-05-18T12:31:00+05:30"
         ],
         "y": [
          183.04016244796878,
          183.04016244796878
         ]
        },
        {
         "line": {
          "color": "green"
         },
         "mode": "lines",
         "name": "SuperTrend Uptrend",
         "showlegend": false,
         "type": "scatter",
         "x": [
          "2023-05-18T12:31:00+05:30",
          "2023-05-18T12:32:00+05:30"
         ],
         "y": [
          183.04016244796878,
          183.04016244796878
         ]
        },
        {
         "line": {
          "color": "green"
         },
         "mode": "lines",
         "name": "SuperTrend Uptrend",
         "showlegend": false,
         "type": "scatter",
         "x": [
          "2023-05-18T12:32:00+05:30",
          "2023-05-18T12:33:00+05:30"
         ],
         "y": [
          183.04016244796878,
          183.04016244796878
         ]
        },
        {
         "line": {
          "color": "green"
         },
         "mode": "lines",
         "name": "SuperTrend Uptrend",
         "showlegend": false,
         "type": "scatter",
         "x": [
          "2023-05-18T12:33:00+05:30",
          "2023-05-18T12:34:00+05:30"
         ],
         "y": [
          183.04016244796878,
          183.04016244796878
         ]
        },
        {
         "line": {
          "color": "green"
         },
         "mode": "lines",
         "name": "SuperTrend Uptrend",
         "showlegend": false,
         "type": "scatter",
         "x": [
          "2023-05-18T12:34:00+05:30",
          "2023-05-18T12:35:00+05:30"
         ],
         "y": [
          183.04016244796878,
          183.04016244796878
         ]
        },
        {
         "line": {
          "color": "green"
         },
         "mode": "lines",
         "name": "SuperTrend Uptrend",
         "showlegend": false,
         "type": "scatter",
         "x": [
          "2023-05-18T12:35:00+05:30",
          "2023-05-18T12:36:00+05:30"
         ],
         "y": [
          183.04016244796878,
          183.04016244796878
         ]
        },
        {
         "line": {
          "color": "green"
         },
         "mode": "lines",
         "name": "SuperTrend Uptrend",
         "showlegend": false,
         "type": "scatter",
         "x": [
          "2023-05-18T12:36:00+05:30",
          "2023-05-18T12:37:00+05:30"
         ],
         "y": [
          183.04016244796878,
          183.04016244796878
         ]
        },
        {
         "line": {
          "color": "green"
         },
         "mode": "lines",
         "name": "SuperTrend Uptrend",
         "showlegend": false,
         "type": "scatter",
         "x": [
          "2023-05-18T12:37:00+05:30",
          "2023-05-18T12:38:00+05:30"
         ],
         "y": [
          183.04016244796878,
          183.04016244796878
         ]
        },
        {
         "line": {
          "color": "green"
         },
         "mode": "lines",
         "name": "SuperTrend Uptrend",
         "showlegend": false,
         "type": "scatter",
         "x": [
          "2023-05-18T12:38:00+05:30",
          "2023-05-18T12:39:00+05:30"
         ],
         "y": [
          183.04016244796878,
          183.04016244796878
         ]
        },
        {
         "line": {
          "color": "green"
         },
         "mode": "lines",
         "name": "SuperTrend Uptrend",
         "showlegend": false,
         "type": "scatter",
         "x": [
          "2023-05-18T12:39:00+05:30",
          "2023-05-18T12:40:00+05:30"
         ],
         "y": [
          183.04016244796878,
          183.04016244796878
         ]
        },
        {
         "line": {
          "color": "green"
         },
         "mode": "lines",
         "name": "SuperTrend Uptrend",
         "showlegend": false,
         "type": "scatter",
         "x": [
          "2023-05-18T12:40:00+05:30",
          "2023-05-18T12:41:00+05:30"
         ],
         "y": [
          183.04016244796878,
          183.04016244796878
         ]
        },
        {
         "line": {
          "color": "green"
         },
         "mode": "lines",
         "name": "SuperTrend Uptrend",
         "showlegend": false,
         "type": "scatter",
         "x": [
          "2023-05-18T12:41:00+05:30",
          "2023-05-18T12:42:00+05:30"
         ],
         "y": [
          183.04016244796878,
          183.04016244796878
         ]
        },
        {
         "line": {
          "color": "green"
         },
         "mode": "lines",
         "name": "SuperTrend Uptrend",
         "showlegend": false,
         "type": "scatter",
         "x": [
          "2023-05-18T12:42:00+05:30",
          "2023-05-18T12:43:00+05:30"
         ],
         "y": [
          183.04016244796878,
          183.04016244796878
         ]
        },
        {
         "line": {
          "color": "green"
         },
         "mode": "lines",
         "name": "SuperTrend Uptrend",
         "showlegend": false,
         "type": "scatter",
         "x": [
          "2023-05-18T12:43:00+05:30",
          "2023-05-18T12:44:00+05:30"
         ],
         "y": [
          183.04016244796878,
          183.04016244796878
         ]
        },
        {
         "line": {
          "color": "green"
         },
         "mode": "lines",
         "name": "SuperTrend Uptrend",
         "showlegend": false,
         "type": "scatter",
         "x": [
          "2023-05-18T12:44:00+05:30",
          "2023-05-18T12:45:00+05:30"
         ],
         "y": [
          183.04016244796878,
          183.04016244796878
         ]
        },
        {
         "line": {
          "color": "green"
         },
         "mode": "lines",
         "name": "SuperTrend Uptrend",
         "showlegend": false,
         "type": "scatter",
         "x": [
          "2023-05-18T12:45:00+05:30",
          "2023-05-18T12:46:00+05:30"
         ],
         "y": [
          183.04016244796878,
          183.04016244796878
         ]
        },
        {
         "line": {
          "color": "green"
         },
         "mode": "lines",
         "name": "SuperTrend Uptrend",
         "showlegend": false,
         "type": "scatter",
         "x": [
          "2023-05-18T12:46:00+05:30",
          "2023-05-18T12:47:00+05:30"
         ],
         "y": [
          183.04016244796878,
          183.04016244796878
         ]
        },
        {
         "line": {
          "color": "green"
         },
         "mode": "lines",
         "name": "SuperTrend Uptrend",
         "showlegend": false,
         "type": "scatter",
         "x": [
          "2023-05-18T12:47:00+05:30",
          "2023-05-18T12:48:00+05:30"
         ],
         "y": [
          183.04016244796878,
          183.04016244796878
         ]
        },
        {
         "line": {
          "color": "green"
         },
         "mode": "lines",
         "name": "SuperTrend Uptrend",
         "showlegend": false,
         "type": "scatter",
         "x": [
          "2023-05-18T12:48:00+05:30",
          "2023-05-18T12:49:00+05:30"
         ],
         "y": [
          183.04016244796878,
          183.04016244796878
         ]
        },
        {
         "line": {
          "color": "green"
         },
         "mode": "lines",
         "name": "SuperTrend Uptrend",
         "showlegend": false,
         "type": "scatter",
         "x": [
          "2023-05-18T12:49:00+05:30",
          "2023-05-18T12:50:00+05:30"
         ],
         "y": [
          183.04016244796878,
          183.04016244796878
         ]
        },
        {
         "line": {
          "color": "green"
         },
         "mode": "lines",
         "name": "SuperTrend Uptrend",
         "showlegend": false,
         "type": "scatter",
         "x": [
          "2023-05-18T12:50:00+05:30",
          "2023-05-18T12:51:00+05:30"
         ],
         "y": [
          183.04016244796878,
          183.04016244796878
         ]
        },
        {
         "line": {
          "color": "green"
         },
         "mode": "lines",
         "name": "SuperTrend Uptrend",
         "showlegend": false,
         "type": "scatter",
         "x": [
          "2023-05-18T12:51:00+05:30",
          "2023-05-18T12:52:00+05:30"
         ],
         "y": [
          183.04016244796878,
          183.04016244796878
         ]
        },
        {
         "line": {
          "color": "green"
         },
         "mode": "lines",
         "name": "SuperTrend Uptrend",
         "showlegend": false,
         "type": "scatter",
         "x": [
          "2023-05-18T12:52:00+05:30",
          "2023-05-18T12:53:00+05:30"
         ],
         "y": [
          183.04016244796878,
          183.04016244796878
         ]
        },
        {
         "line": {
          "color": "green"
         },
         "mode": "lines",
         "name": "SuperTrend Uptrend",
         "showlegend": false,
         "type": "scatter",
         "x": [
          "2023-05-18T12:53:00+05:30",
          "2023-05-18T12:54:00+05:30"
         ],
         "y": [
          183.04016244796878,
          183.04016244796878
         ]
        },
        {
         "line": {
          "color": "green"
         },
         "mode": "lines",
         "name": "SuperTrend Uptrend",
         "showlegend": false,
         "type": "scatter",
         "x": [
          "2023-05-18T12:54:00+05:30",
          "2023-05-18T12:55:00+05:30"
         ],
         "y": [
          183.04016244796878,
          183.04016244796878
         ]
        },
        {
         "line": {
          "color": "green"
         },
         "mode": "lines",
         "name": "SuperTrend Uptrend",
         "showlegend": false,
         "type": "scatter",
         "x": [
          "2023-05-18T12:55:00+05:30",
          "2023-05-18T12:56:00+05:30"
         ],
         "y": [
          183.04016244796878,
          183.04016244796878
         ]
        },
        {
         "line": {
          "color": "green"
         },
         "mode": "lines",
         "name": "SuperTrend Uptrend",
         "showlegend": false,
         "type": "scatter",
         "x": [
          "2023-05-18T12:56:00+05:30",
          "2023-05-18T12:57:00+05:30"
         ],
         "y": [
          183.04016244796878,
          183.04016244796878
         ]
        },
        {
         "line": {
          "color": "green"
         },
         "mode": "lines",
         "name": "SuperTrend Uptrend",
         "showlegend": false,
         "type": "scatter",
         "x": [
          "2023-05-18T12:57:00+05:30",
          "2023-05-18T12:58:00+05:30"
         ],
         "y": [
          183.04016244796878,
          183.04016244796878
         ]
        },
        {
         "line": {
          "color": "green"
         },
         "mode": "lines",
         "name": "SuperTrend Uptrend",
         "showlegend": false,
         "type": "scatter",
         "x": [
          "2023-05-18T12:58:00+05:30",
          "2023-05-18T12:59:00+05:30"
         ],
         "y": [
          183.04016244796878,
          183.04016244796878
         ]
        },
        {
         "line": {
          "color": "green"
         },
         "mode": "lines",
         "name": "SuperTrend Uptrend",
         "showlegend": false,
         "type": "scatter",
         "x": [
          "2023-05-18T12:59:00+05:30",
          "2023-05-18T13:00:00+05:30"
         ],
         "y": [
          183.04016244796878,
          183.04016244796878
         ]
        },
        {
         "line": {
          "color": "green"
         },
         "mode": "lines",
         "name": "SuperTrend Uptrend",
         "showlegend": false,
         "type": "scatter",
         "x": [
          "2023-05-18T13:00:00+05:30",
          "2023-05-18T13:01:00+05:30"
         ],
         "y": [
          183.04016244796878,
          183.04016244796878
         ]
        },
        {
         "line": {
          "color": "green"
         },
         "mode": "lines",
         "name": "SuperTrend Uptrend",
         "showlegend": false,
         "type": "scatter",
         "x": [
          "2023-05-18T13:01:00+05:30",
          "2023-05-18T13:02:00+05:30"
         ],
         "y": [
          183.04016244796878,
          183.04016244796878
         ]
        },
        {
         "line": {
          "color": "green"
         },
         "mode": "lines",
         "name": "SuperTrend Uptrend",
         "showlegend": false,
         "type": "scatter",
         "x": [
          "2023-05-18T13:02:00+05:30",
          "2023-05-18T13:03:00+05:30"
         ],
         "y": [
          183.04016244796878,
          183.04016244796878
         ]
        },
        {
         "line": {
          "color": "green"
         },
         "mode": "lines",
         "name": "SuperTrend Uptrend",
         "showlegend": false,
         "type": "scatter",
         "x": [
          "2023-05-18T13:03:00+05:30",
          "2023-05-18T13:04:00+05:30"
         ],
         "y": [
          183.04016244796878,
          183.04016244796878
         ]
        },
        {
         "line": {
          "color": "green"
         },
         "mode": "lines",
         "name": "SuperTrend Uptrend",
         "showlegend": false,
         "type": "scatter",
         "x": [
          "2023-05-18T13:04:00+05:30",
          "2023-05-18T13:05:00+05:30"
         ],
         "y": [
          183.04016244796878,
          183.04016244796878
         ]
        },
        {
         "line": {
          "color": "green"
         },
         "mode": "lines",
         "name": "SuperTrend Uptrend",
         "showlegend": false,
         "type": "scatter",
         "x": [
          "2023-05-18T13:05:00+05:30",
          "2023-05-18T13:06:00+05:30"
         ],
         "y": [
          183.04016244796878,
          183.04016244796878
         ]
        },
        {
         "line": {
          "color": "green"
         },
         "mode": "lines",
         "name": "SuperTrend Uptrend",
         "showlegend": false,
         "type": "scatter",
         "x": [
          "2023-05-18T13:06:00+05:30",
          "2023-05-18T13:07:00+05:30"
         ],
         "y": [
          183.04016244796878,
          183.04016244796878
         ]
        },
        {
         "line": {
          "color": "green"
         },
         "mode": "lines",
         "name": "SuperTrend Uptrend",
         "showlegend": false,
         "type": "scatter",
         "x": [
          "2023-05-18T13:07:00+05:30",
          "2023-05-18T13:08:00+05:30"
         ],
         "y": [
          183.04016244796878,
          183.04016244796878
         ]
        },
        {
         "line": {
          "color": "green"
         },
         "mode": "lines",
         "name": "SuperTrend Uptrend",
         "showlegend": false,
         "type": "scatter",
         "x": [
          "2023-05-18T13:08:00+05:30",
          "2023-05-18T13:09:00+05:30"
         ],
         "y": [
          183.04016244796878,
          183.04016244796878
         ]
        },
        {
         "line": {
          "color": "green"
         },
         "mode": "lines",
         "name": "SuperTrend Uptrend",
         "showlegend": false,
         "type": "scatter",
         "x": [
          "2023-05-18T13:09:00+05:30",
          "2023-05-18T13:10:00+05:30"
         ],
         "y": [
          183.04016244796878,
          183.04016244796878
         ]
        },
        {
         "line": {
          "color": "green"
         },
         "mode": "lines",
         "name": "SuperTrend Uptrend",
         "showlegend": false,
         "type": "scatter",
         "x": [
          "2023-05-18T13:10:00+05:30",
          "2023-05-18T13:11:00+05:30"
         ],
         "y": [
          183.04016244796878,
          183.04016244796878
         ]
        },
        {
         "line": {
          "color": "green"
         },
         "mode": "lines",
         "name": "SuperTrend Uptrend",
         "showlegend": false,
         "type": "scatter",
         "x": [
          "2023-05-18T13:11:00+05:30",
          "2023-05-18T13:12:00+05:30"
         ],
         "y": [
          183.04016244796878,
          183.04016244796878
         ]
        },
        {
         "line": {
          "color": "green"
         },
         "mode": "lines",
         "name": "SuperTrend Uptrend",
         "showlegend": false,
         "type": "scatter",
         "x": [
          "2023-05-18T13:12:00+05:30",
          "2023-05-18T13:13:00+05:30"
         ],
         "y": [
          183.04016244796878,
          183.04016244796878
         ]
        },
        {
         "line": {
          "color": "green"
         },
         "mode": "lines",
         "name": "SuperTrend Uptrend",
         "showlegend": false,
         "type": "scatter",
         "x": [
          "2023-05-18T13:13:00+05:30",
          "2023-05-18T13:14:00+05:30"
         ],
         "y": [
          183.04016244796878,
          183.04016244796878
         ]
        },
        {
         "line": {
          "color": "green"
         },
         "mode": "lines",
         "name": "SuperTrend Uptrend",
         "showlegend": false,
         "type": "scatter",
         "x": [
          "2023-05-18T13:14:00+05:30",
          "2023-05-18T13:15:00+05:30"
         ],
         "y": [
          183.04016244796878,
          183.04016244796878
         ]
        },
        {
         "line": {
          "color": "green"
         },
         "mode": "lines",
         "name": "SuperTrend Uptrend",
         "showlegend": false,
         "type": "scatter",
         "x": [
          "2023-05-18T13:15:00+05:30",
          "2023-05-18T13:16:00+05:30"
         ],
         "y": [
          183.04016244796878,
          183.04016244796878
         ]
        },
        {
         "line": {
          "color": "green"
         },
         "mode": "lines",
         "name": "SuperTrend Uptrend",
         "showlegend": false,
         "type": "scatter",
         "x": [
          "2023-05-18T13:16:00+05:30",
          "2023-05-18T13:17:00+05:30"
         ],
         "y": [
          183.04016244796878,
          183.04016244796878
         ]
        },
        {
         "line": {
          "color": "green"
         },
         "mode": "lines",
         "name": "SuperTrend Uptrend",
         "showlegend": false,
         "type": "scatter",
         "x": [
          "2023-05-18T13:17:00+05:30",
          "2023-05-18T13:18:00+05:30"
         ],
         "y": [
          183.04016244796878,
          183.04016244796878
         ]
        },
        {
         "line": {
          "color": "green"
         },
         "mode": "lines",
         "name": "SuperTrend Uptrend",
         "showlegend": false,
         "type": "scatter",
         "x": [
          "2023-05-18T13:18:00+05:30",
          "2023-05-18T13:19:00+05:30"
         ],
         "y": [
          183.04016244796878,
          183.04016244796878
         ]
        },
        {
         "line": {
          "color": "green"
         },
         "mode": "lines",
         "name": "SuperTrend Uptrend",
         "showlegend": false,
         "type": "scatter",
         "x": [
          "2023-05-18T13:19:00+05:30",
          "2023-05-18T13:20:00+05:30"
         ],
         "y": [
          183.04016244796878,
          183.04016244796878
         ]
        },
        {
         "line": {
          "color": "green"
         },
         "mode": "lines",
         "name": "SuperTrend Uptrend",
         "showlegend": false,
         "type": "scatter",
         "x": [
          "2023-05-18T13:20:00+05:30",
          "2023-05-18T13:21:00+05:30"
         ],
         "y": [
          183.04016244796878,
          183.04016244796878
         ]
        },
        {
         "line": {
          "color": "green"
         },
         "mode": "lines",
         "name": "SuperTrend Uptrend",
         "showlegend": false,
         "type": "scatter",
         "x": [
          "2023-05-18T13:21:00+05:30",
          "2023-05-18T13:22:00+05:30"
         ],
         "y": [
          183.04016244796878,
          183.04016244796878
         ]
        },
        {
         "line": {
          "color": "green"
         },
         "mode": "lines",
         "name": "SuperTrend Uptrend",
         "showlegend": false,
         "type": "scatter",
         "x": [
          "2023-05-18T13:22:00+05:30",
          "2023-05-18T13:23:00+05:30"
         ],
         "y": [
          183.04016244796878,
          183.04016244796878
         ]
        },
        {
         "line": {
          "color": "green"
         },
         "mode": "lines",
         "name": "SuperTrend Uptrend",
         "showlegend": false,
         "type": "scatter",
         "x": [
          "2023-05-18T13:23:00+05:30",
          "2023-05-18T13:24:00+05:30"
         ],
         "y": [
          183.04016244796878,
          183.04016244796878
         ]
        },
        {
         "line": {
          "color": "green"
         },
         "mode": "lines",
         "name": "SuperTrend Uptrend",
         "showlegend": false,
         "type": "scatter",
         "x": [
          "2023-05-18T13:24:00+05:30",
          "2023-05-18T13:25:00+05:30"
         ],
         "y": [
          183.04016244796878,
          183.04016244796878
         ]
        },
        {
         "line": {
          "color": "green"
         },
         "mode": "lines",
         "name": "SuperTrend Uptrend",
         "showlegend": false,
         "type": "scatter",
         "x": [
          "2023-05-18T13:25:00+05:30",
          "2023-05-18T13:26:00+05:30"
         ],
         "y": [
          183.04016244796878,
          183.04016244796878
         ]
        },
        {
         "line": {
          "color": "green"
         },
         "mode": "lines",
         "name": "SuperTrend Uptrend",
         "showlegend": false,
         "type": "scatter",
         "x": [
          "2023-05-18T13:26:00+05:30",
          "2023-05-18T13:27:00+05:30"
         ],
         "y": [
          183.04016244796878,
          183.04016244796878
         ]
        },
        {
         "line": {
          "color": "green"
         },
         "mode": "lines",
         "name": "SuperTrend Uptrend",
         "showlegend": false,
         "type": "scatter",
         "x": [
          "2023-05-18T13:27:00+05:30",
          "2023-05-18T13:28:00+05:30"
         ],
         "y": [
          183.04016244796878,
          183.04016244796878
         ]
        },
        {
         "line": {
          "color": "green"
         },
         "mode": "lines",
         "name": "SuperTrend Uptrend",
         "showlegend": false,
         "type": "scatter",
         "x": [
          "2023-05-18T13:28:00+05:30",
          "2023-05-18T13:29:00+05:30"
         ],
         "y": [
          183.04016244796878,
          183.04016244796878
         ]
        },
        {
         "line": {
          "color": "green"
         },
         "mode": "lines",
         "name": "SuperTrend Uptrend",
         "showlegend": false,
         "type": "scatter",
         "x": [
          "2023-05-18T13:29:00+05:30",
          "2023-05-18T13:30:00+05:30"
         ],
         "y": [
          183.04016244796878,
          183.04016244796878
         ]
        },
        {
         "line": {
          "color": "green"
         },
         "mode": "lines",
         "name": "SuperTrend Uptrend",
         "showlegend": false,
         "type": "scatter",
         "x": [
          "2023-05-18T13:30:00+05:30",
          "2023-05-18T13:31:00+05:30"
         ],
         "y": [
          183.04016244796878,
          183.04016244796878
         ]
        },
        {
         "line": {
          "color": "green"
         },
         "mode": "lines",
         "name": "SuperTrend Uptrend",
         "showlegend": false,
         "type": "scatter",
         "x": [
          "2023-05-18T13:31:00+05:30",
          "2023-05-18T13:32:00+05:30"
         ],
         "y": [
          183.04016244796878,
          183.04016244796878
         ]
        },
        {
         "line": {
          "color": "green"
         },
         "mode": "lines",
         "name": "SuperTrend Uptrend",
         "showlegend": false,
         "type": "scatter",
         "x": [
          "2023-05-18T13:32:00+05:30",
          "2023-05-18T13:33:00+05:30"
         ],
         "y": [
          183.04016244796878,
          183.04016244796878
         ]
        },
        {
         "line": {
          "color": "green"
         },
         "mode": "lines",
         "name": "SuperTrend Uptrend",
         "showlegend": false,
         "type": "scatter",
         "x": [
          "2023-05-18T13:33:00+05:30",
          "2023-05-18T13:34:00+05:30"
         ],
         "y": [
          183.04016244796878,
          183.04016244796878
         ]
        },
        {
         "line": {
          "color": "green"
         },
         "mode": "lines",
         "name": "SuperTrend Uptrend",
         "showlegend": false,
         "type": "scatter",
         "x": [
          "2023-05-18T13:34:00+05:30",
          "2023-05-18T13:35:00+05:30"
         ],
         "y": [
          183.04016244796878,
          183.04016244796878
         ]
        },
        {
         "line": {
          "color": "green"
         },
         "mode": "lines",
         "name": "SuperTrend Uptrend",
         "showlegend": false,
         "type": "scatter",
         "x": [
          "2023-05-18T13:35:00+05:30",
          "2023-05-18T13:36:00+05:30"
         ],
         "y": [
          183.04016244796878,
          183.04016244796878
         ]
        },
        {
         "line": {
          "color": "green"
         },
         "mode": "lines",
         "name": "SuperTrend Uptrend",
         "showlegend": false,
         "type": "scatter",
         "x": [
          "2023-05-18T13:36:00+05:30",
          "2023-05-18T13:37:00+05:30"
         ],
         "y": [
          183.04016244796878,
          183.04016244796878
         ]
        },
        {
         "line": {
          "color": "green"
         },
         "mode": "lines",
         "name": "SuperTrend Uptrend",
         "showlegend": false,
         "type": "scatter",
         "x": [
          "2023-05-18T13:37:00+05:30",
          "2023-05-18T13:38:00+05:30"
         ],
         "y": [
          183.04016244796878,
          183.04016244796878
         ]
        },
        {
         "line": {
          "color": "green"
         },
         "mode": "lines",
         "name": "SuperTrend Uptrend",
         "showlegend": false,
         "type": "scatter",
         "x": [
          "2023-05-18T13:38:00+05:30",
          "2023-05-18T13:39:00+05:30"
         ],
         "y": [
          183.04016244796878,
          183.04016244796878
         ]
        },
        {
         "line": {
          "color": "green"
         },
         "mode": "lines",
         "name": "SuperTrend Uptrend",
         "showlegend": false,
         "type": "scatter",
         "x": [
          "2023-05-18T13:39:00+05:30",
          "2023-05-18T13:40:00+05:30"
         ],
         "y": [
          183.04016244796878,
          183.04016244796878
         ]
        },
        {
         "line": {
          "color": "green"
         },
         "mode": "lines",
         "name": "SuperTrend Uptrend",
         "showlegend": false,
         "type": "scatter",
         "x": [
          "2023-05-18T13:40:00+05:30",
          "2023-05-18T13:41:00+05:30"
         ],
         "y": [
          183.04016244796878,
          183.04016244796878
         ]
        },
        {
         "line": {
          "color": "green"
         },
         "mode": "lines",
         "name": "SuperTrend Uptrend",
         "showlegend": false,
         "type": "scatter",
         "x": [
          "2023-05-18T13:41:00+05:30",
          "2023-05-18T13:42:00+05:30"
         ],
         "y": [
          183.04016244796878,
          183.04016244796878
         ]
        },
        {
         "line": {
          "color": "green"
         },
         "mode": "lines",
         "name": "SuperTrend Uptrend",
         "showlegend": false,
         "type": "scatter",
         "x": [
          "2023-05-18T13:42:00+05:30",
          "2023-05-18T13:43:00+05:30"
         ],
         "y": [
          183.04016244796878,
          183.04016244796878
         ]
        },
        {
         "line": {
          "color": "green"
         },
         "mode": "lines",
         "name": "SuperTrend Uptrend",
         "showlegend": false,
         "type": "scatter",
         "x": [
          "2023-05-18T13:43:00+05:30",
          "2023-05-18T13:44:00+05:30"
         ],
         "y": [
          183.04016244796878,
          183.04016244796878
         ]
        },
        {
         "line": {
          "color": "green"
         },
         "mode": "lines",
         "name": "SuperTrend Uptrend",
         "showlegend": false,
         "type": "scatter",
         "x": [
          "2023-05-18T13:44:00+05:30",
          "2023-05-18T13:45:00+05:30"
         ],
         "y": [
          183.04016244796878,
          183.04016244796878
         ]
        },
        {
         "line": {
          "color": "green"
         },
         "mode": "lines",
         "name": "SuperTrend Uptrend",
         "showlegend": false,
         "type": "scatter",
         "x": [
          "2023-05-18T13:45:00+05:30",
          "2023-05-18T13:46:00+05:30"
         ],
         "y": [
          183.04016244796878,
          183.04016244796878
         ]
        },
        {
         "line": {
          "color": "green"
         },
         "mode": "lines",
         "name": "SuperTrend Uptrend",
         "showlegend": false,
         "type": "scatter",
         "x": [
          "2023-05-18T13:46:00+05:30",
          "2023-05-18T13:47:00+05:30"
         ],
         "y": [
          183.04016244796878,
          183.04016244796878
         ]
        },
        {
         "line": {
          "color": "green"
         },
         "mode": "lines",
         "name": "SuperTrend Uptrend",
         "showlegend": false,
         "type": "scatter",
         "x": [
          "2023-05-18T13:47:00+05:30",
          "2023-05-18T13:48:00+05:30"
         ],
         "y": [
          183.04016244796878,
          183.04016244796878
         ]
        },
        {
         "line": {
          "color": "green"
         },
         "mode": "lines",
         "name": "SuperTrend Uptrend",
         "showlegend": false,
         "type": "scatter",
         "x": [
          "2023-05-18T13:48:00+05:30",
          "2023-05-18T13:49:00+05:30"
         ],
         "y": [
          183.04016244796878,
          183.04016244796878
         ]
        },
        {
         "line": {
          "color": "green"
         },
         "mode": "lines",
         "name": "SuperTrend Uptrend",
         "showlegend": false,
         "type": "scatter",
         "x": [
          "2023-05-18T13:49:00+05:30",
          "2023-05-18T13:50:00+05:30"
         ],
         "y": [
          183.04016244796878,
          183.04016244796878
         ]
        },
        {
         "line": {
          "color": "green"
         },
         "mode": "lines",
         "name": "SuperTrend Uptrend",
         "showlegend": false,
         "type": "scatter",
         "x": [
          "2023-05-18T13:50:00+05:30",
          "2023-05-18T13:51:00+05:30"
         ],
         "y": [
          183.04016244796878,
          183.04016244796878
         ]
        },
        {
         "line": {
          "color": "green"
         },
         "mode": "lines",
         "name": "SuperTrend Uptrend",
         "showlegend": false,
         "type": "scatter",
         "x": [
          "2023-05-18T13:51:00+05:30",
          "2023-05-18T13:52:00+05:30"
         ],
         "y": [
          183.04016244796878,
          183.04016244796878
         ]
        },
        {
         "line": {
          "color": "green"
         },
         "mode": "lines",
         "name": "SuperTrend Uptrend",
         "showlegend": false,
         "type": "scatter",
         "x": [
          "2023-05-18T13:52:00+05:30",
          "2023-05-18T13:53:00+05:30"
         ],
         "y": [
          183.04016244796878,
          183.04016244796878
         ]
        },
        {
         "line": {
          "color": "green"
         },
         "mode": "lines",
         "name": "SuperTrend Uptrend",
         "showlegend": false,
         "type": "scatter",
         "x": [
          "2023-05-18T13:53:00+05:30",
          "2023-05-18T13:54:00+05:30"
         ],
         "y": [
          183.04016244796878,
          183.04016244796878
         ]
        },
        {
         "line": {
          "color": "green"
         },
         "mode": "lines",
         "name": "SuperTrend Uptrend",
         "showlegend": false,
         "type": "scatter",
         "x": [
          "2023-05-18T13:54:00+05:30",
          "2023-05-18T13:55:00+05:30"
         ],
         "y": [
          183.04016244796878,
          183.04016244796878
         ]
        },
        {
         "line": {
          "color": "green"
         },
         "mode": "lines",
         "name": "SuperTrend Uptrend",
         "showlegend": false,
         "type": "scatter",
         "x": [
          "2023-05-18T13:55:00+05:30",
          "2023-05-18T13:56:00+05:30"
         ],
         "y": [
          183.04016244796878,
          183.04016244796878
         ]
        },
        {
         "line": {
          "color": "green"
         },
         "mode": "lines",
         "name": "SuperTrend Uptrend",
         "showlegend": false,
         "type": "scatter",
         "x": [
          "2023-05-18T13:56:00+05:30",
          "2023-05-18T13:57:00+05:30"
         ],
         "y": [
          183.04016244796878,
          183.04016244796878
         ]
        },
        {
         "line": {
          "color": "green"
         },
         "mode": "lines",
         "name": "SuperTrend Uptrend",
         "showlegend": false,
         "type": "scatter",
         "x": [
          "2023-05-18T13:57:00+05:30",
          "2023-05-18T13:58:00+05:30"
         ],
         "y": [
          183.04016244796878,
          183.04016244796878
         ]
        },
        {
         "line": {
          "color": "green"
         },
         "mode": "lines",
         "name": "SuperTrend Uptrend",
         "showlegend": false,
         "type": "scatter",
         "x": [
          "2023-05-18T13:58:00+05:30",
          "2023-05-18T13:59:00+05:30"
         ],
         "y": [
          183.04016244796878,
          183.04016244796878
         ]
        },
        {
         "line": {
          "color": "green"
         },
         "mode": "lines",
         "name": "SuperTrend Uptrend",
         "showlegend": false,
         "type": "scatter",
         "x": [
          "2023-05-18T13:59:00+05:30",
          "2023-05-18T14:00:00+05:30"
         ],
         "y": [
          183.04016244796878,
          183.04016244796878
         ]
        },
        {
         "line": {
          "color": "green"
         },
         "mode": "lines",
         "name": "SuperTrend Uptrend",
         "showlegend": false,
         "type": "scatter",
         "x": [
          "2023-05-18T14:00:00+05:30",
          "2023-05-18T14:01:00+05:30"
         ],
         "y": [
          183.04016244796878,
          183.04016244796878
         ]
        },
        {
         "line": {
          "color": "green"
         },
         "mode": "lines",
         "name": "SuperTrend Uptrend",
         "showlegend": false,
         "type": "scatter",
         "x": [
          "2023-05-18T14:01:00+05:30",
          "2023-05-18T14:02:00+05:30"
         ],
         "y": [
          183.04016244796878,
          183.04016244796878
         ]
        },
        {
         "line": {
          "color": "green"
         },
         "mode": "lines",
         "name": "SuperTrend Uptrend",
         "showlegend": false,
         "type": "scatter",
         "x": [
          "2023-05-18T14:02:00+05:30",
          "2023-05-18T14:03:00+05:30"
         ],
         "y": [
          183.04016244796878,
          183.04016244796878
         ]
        },
        {
         "line": {
          "color": "green"
         },
         "mode": "lines",
         "name": "SuperTrend Uptrend",
         "showlegend": false,
         "type": "scatter",
         "x": [
          "2023-05-18T14:03:00+05:30",
          "2023-05-18T14:04:00+05:30"
         ],
         "y": [
          183.04016244796878,
          183.04016244796878
         ]
        },
        {
         "line": {
          "color": "green"
         },
         "mode": "lines",
         "name": "SuperTrend Uptrend",
         "showlegend": false,
         "type": "scatter",
         "x": [
          "2023-05-18T14:04:00+05:30",
          "2023-05-18T14:05:00+05:30"
         ],
         "y": [
          183.04016244796878,
          183.04016244796878
         ]
        },
        {
         "line": {
          "color": "green"
         },
         "mode": "lines",
         "name": "SuperTrend Uptrend",
         "showlegend": false,
         "type": "scatter",
         "x": [
          "2023-05-18T14:05:00+05:30",
          "2023-05-18T14:06:00+05:30"
         ],
         "y": [
          183.04016244796878,
          183.04016244796878
         ]
        },
        {
         "line": {
          "color": "green"
         },
         "mode": "lines",
         "name": "SuperTrend Uptrend",
         "showlegend": false,
         "type": "scatter",
         "x": [
          "2023-05-18T14:06:00+05:30",
          "2023-05-18T14:07:00+05:30"
         ],
         "y": [
          183.04016244796878,
          183.04016244796878
         ]
        },
        {
         "line": {
          "color": "green"
         },
         "mode": "lines",
         "name": "SuperTrend Uptrend",
         "showlegend": false,
         "type": "scatter",
         "x": [
          "2023-05-18T14:07:00+05:30",
          "2023-05-18T14:08:00+05:30"
         ],
         "y": [
          183.04016244796878,
          183.04016244796878
         ]
        },
        {
         "line": {
          "color": "green"
         },
         "mode": "lines",
         "name": "SuperTrend Uptrend",
         "showlegend": false,
         "type": "scatter",
         "x": [
          "2023-05-18T14:08:00+05:30",
          "2023-05-18T14:09:00+05:30"
         ],
         "y": [
          183.04016244796878,
          183.04016244796878
         ]
        },
        {
         "line": {
          "color": "green"
         },
         "mode": "lines",
         "name": "SuperTrend Uptrend",
         "showlegend": false,
         "type": "scatter",
         "x": [
          "2023-05-18T14:09:00+05:30",
          "2023-05-18T14:10:00+05:30"
         ],
         "y": [
          183.04016244796878,
          183.04016244796878
         ]
        },
        {
         "line": {
          "color": "green"
         },
         "mode": "lines",
         "name": "SuperTrend Uptrend",
         "showlegend": false,
         "type": "scatter",
         "x": [
          "2023-05-18T14:10:00+05:30",
          "2023-05-18T14:11:00+05:30"
         ],
         "y": [
          183.04016244796878,
          183.04016244796878
         ]
        },
        {
         "line": {
          "color": "green"
         },
         "mode": "lines",
         "name": "SuperTrend Uptrend",
         "showlegend": false,
         "type": "scatter",
         "x": [
          "2023-05-18T14:11:00+05:30",
          "2023-05-18T14:12:00+05:30"
         ],
         "y": [
          183.04016244796878,
          183.04016244796878
         ]
        },
        {
         "line": {
          "color": "green"
         },
         "mode": "lines",
         "name": "SuperTrend Uptrend",
         "showlegend": false,
         "type": "scatter",
         "x": [
          "2023-05-18T14:12:00+05:30",
          "2023-05-18T14:13:00+05:30"
         ],
         "y": [
          183.04016244796878,
          183.04016244796878
         ]
        },
        {
         "line": {
          "color": "green"
         },
         "mode": "lines",
         "name": "SuperTrend Uptrend",
         "showlegend": false,
         "type": "scatter",
         "x": [
          "2023-05-18T14:13:00+05:30",
          "2023-05-18T14:14:00+05:30"
         ],
         "y": [
          183.04016244796878,
          183.04016244796878
         ]
        },
        {
         "line": {
          "color": "green"
         },
         "mode": "lines",
         "name": "SuperTrend Uptrend",
         "showlegend": false,
         "type": "scatter",
         "x": [
          "2023-05-18T14:14:00+05:30",
          "2023-05-18T14:15:00+05:30"
         ],
         "y": [
          183.04016244796878,
          183.04016244796878
         ]
        },
        {
         "line": {
          "color": "green"
         },
         "mode": "lines",
         "name": "SuperTrend Uptrend",
         "showlegend": false,
         "type": "scatter",
         "x": [
          "2023-05-18T14:15:00+05:30",
          "2023-05-18T14:16:00+05:30"
         ],
         "y": [
          183.04016244796878,
          183.04016244796878
         ]
        },
        {
         "line": {
          "color": "green"
         },
         "mode": "lines",
         "name": "SuperTrend Uptrend",
         "showlegend": false,
         "type": "scatter",
         "x": [
          "2023-05-18T14:16:00+05:30",
          "2023-05-18T14:17:00+05:30"
         ],
         "y": [
          183.04016244796878,
          183.04016244796878
         ]
        },
        {
         "line": {
          "color": "green"
         },
         "mode": "lines",
         "name": "SuperTrend Uptrend",
         "showlegend": false,
         "type": "scatter",
         "x": [
          "2023-05-18T14:17:00+05:30",
          "2023-05-18T14:18:00+05:30"
         ],
         "y": [
          183.04016244796878,
          183.04016244796878
         ]
        },
        {
         "line": {
          "color": "green"
         },
         "mode": "lines",
         "name": "SuperTrend Uptrend",
         "showlegend": false,
         "type": "scatter",
         "x": [
          "2023-05-18T14:18:00+05:30",
          "2023-05-18T14:19:00+05:30"
         ],
         "y": [
          183.04016244796878,
          183.04016244796878
         ]
        },
        {
         "line": {
          "color": "green"
         },
         "mode": "lines",
         "name": "SuperTrend Uptrend",
         "showlegend": false,
         "type": "scatter",
         "x": [
          "2023-05-18T14:19:00+05:30",
          "2023-05-18T14:20:00+05:30"
         ],
         "y": [
          183.04016244796878,
          183.04016244796878
         ]
        },
        {
         "line": {
          "color": "green"
         },
         "mode": "lines",
         "name": "SuperTrend Uptrend",
         "showlegend": false,
         "type": "scatter",
         "x": [
          "2023-05-18T14:20:00+05:30",
          "2023-05-18T14:21:00+05:30"
         ],
         "y": [
          183.04016244796878,
          183.04016244796878
         ]
        },
        {
         "line": {
          "color": "green"
         },
         "mode": "lines",
         "name": "SuperTrend Uptrend",
         "showlegend": false,
         "type": "scatter",
         "x": [
          "2023-05-18T14:21:00+05:30",
          "2023-05-18T14:22:00+05:30"
         ],
         "y": [
          183.04016244796878,
          183.04016244796878
         ]
        },
        {
         "line": {
          "color": "green"
         },
         "mode": "lines",
         "name": "SuperTrend Uptrend",
         "showlegend": false,
         "type": "scatter",
         "x": [
          "2023-05-18T14:22:00+05:30",
          "2023-05-18T14:23:00+05:30"
         ],
         "y": [
          183.04016244796878,
          183.04016244796878
         ]
        },
        {
         "line": {
          "color": "green"
         },
         "mode": "lines",
         "name": "SuperTrend Uptrend",
         "showlegend": false,
         "type": "scatter",
         "x": [
          "2023-05-18T14:23:00+05:30",
          "2023-05-18T14:24:00+05:30"
         ],
         "y": [
          183.04016244796878,
          183.04016244796878
         ]
        },
        {
         "line": {
          "color": "green"
         },
         "mode": "lines",
         "name": "SuperTrend Uptrend",
         "showlegend": false,
         "type": "scatter",
         "x": [
          "2023-05-18T14:24:00+05:30",
          "2023-05-18T14:25:00+05:30"
         ],
         "y": [
          183.04016244796878,
          183.04016244796878
         ]
        },
        {
         "line": {
          "color": "green"
         },
         "mode": "lines",
         "name": "SuperTrend Uptrend",
         "showlegend": false,
         "type": "scatter",
         "x": [
          "2023-05-18T14:25:00+05:30",
          "2023-05-18T14:26:00+05:30"
         ],
         "y": [
          183.04016244796878,
          183.04016244796878
         ]
        },
        {
         "line": {
          "color": "green"
         },
         "mode": "lines",
         "name": "SuperTrend Uptrend",
         "showlegend": false,
         "type": "scatter",
         "x": [
          "2023-05-18T14:26:00+05:30",
          "2023-05-18T14:27:00+05:30"
         ],
         "y": [
          183.04016244796878,
          183.04016244796878
         ]
        },
        {
         "line": {
          "color": "green"
         },
         "mode": "lines",
         "name": "SuperTrend Uptrend",
         "showlegend": false,
         "type": "scatter",
         "x": [
          "2023-05-18T14:27:00+05:30",
          "2023-05-18T14:28:00+05:30"
         ],
         "y": [
          183.04016244796878,
          183.04016244796878
         ]
        },
        {
         "line": {
          "color": "green"
         },
         "mode": "lines",
         "name": "SuperTrend Uptrend",
         "showlegend": false,
         "type": "scatter",
         "x": [
          "2023-05-18T14:28:00+05:30",
          "2023-05-18T14:29:00+05:30"
         ],
         "y": [
          183.04016244796878,
          183.04016244796878
         ]
        },
        {
         "line": {
          "color": "green"
         },
         "mode": "lines",
         "name": "SuperTrend Uptrend",
         "showlegend": false,
         "type": "scatter",
         "x": [
          "2023-05-18T14:29:00+05:30",
          "2023-05-18T14:30:00+05:30"
         ],
         "y": [
          183.04016244796878,
          183.04016244796878
         ]
        },
        {
         "line": {
          "color": "green"
         },
         "mode": "lines",
         "name": "SuperTrend Uptrend",
         "showlegend": false,
         "type": "scatter",
         "x": [
          "2023-05-18T14:30:00+05:30",
          "2023-05-18T14:31:00+05:30"
         ],
         "y": [
          183.04016244796878,
          183.04016244796878
         ]
        },
        {
         "line": {
          "color": "green"
         },
         "mode": "lines",
         "name": "SuperTrend Uptrend",
         "showlegend": false,
         "type": "scatter",
         "x": [
          "2023-05-18T14:31:00+05:30",
          "2023-05-18T14:32:00+05:30"
         ],
         "y": [
          183.04016244796878,
          183.04016244796878
         ]
        },
        {
         "line": {
          "color": "green"
         },
         "mode": "lines",
         "name": "SuperTrend Uptrend",
         "showlegend": false,
         "type": "scatter",
         "x": [
          "2023-05-18T14:32:00+05:30",
          "2023-05-18T14:33:00+05:30"
         ],
         "y": [
          183.04016244796878,
          183.04016244796878
         ]
        },
        {
         "line": {
          "color": "green"
         },
         "mode": "lines",
         "name": "SuperTrend Uptrend",
         "showlegend": false,
         "type": "scatter",
         "x": [
          "2023-05-18T14:33:00+05:30",
          "2023-05-18T14:34:00+05:30"
         ],
         "y": [
          183.04016244796878,
          183.04016244796878
         ]
        },
        {
         "line": {
          "color": "green"
         },
         "mode": "lines",
         "name": "SuperTrend Uptrend",
         "showlegend": false,
         "type": "scatter",
         "x": [
          "2023-05-18T14:34:00+05:30",
          "2023-05-18T14:35:00+05:30"
         ],
         "y": [
          183.04016244796878,
          183.04016244796878
         ]
        },
        {
         "line": {
          "color": "green"
         },
         "mode": "lines",
         "name": "SuperTrend Uptrend",
         "showlegend": false,
         "type": "scatter",
         "x": [
          "2023-05-18T14:35:00+05:30",
          "2023-05-18T14:36:00+05:30"
         ],
         "y": [
          183.04016244796878,
          183.04016244796878
         ]
        },
        {
         "line": {
          "color": "green"
         },
         "mode": "lines",
         "name": "SuperTrend Uptrend",
         "showlegend": false,
         "type": "scatter",
         "x": [
          "2023-05-18T14:36:00+05:30",
          "2023-05-18T14:37:00+05:30"
         ],
         "y": [
          183.04016244796878,
          183.04016244796878
         ]
        },
        {
         "line": {
          "color": "green"
         },
         "mode": "lines",
         "name": "SuperTrend Uptrend",
         "showlegend": false,
         "type": "scatter",
         "x": [
          "2023-05-18T14:37:00+05:30",
          "2023-05-18T14:38:00+05:30"
         ],
         "y": [
          183.04016244796878,
          183.04016244796878
         ]
        },
        {
         "line": {
          "color": "green"
         },
         "mode": "lines",
         "name": "SuperTrend Uptrend",
         "showlegend": false,
         "type": "scatter",
         "x": [
          "2023-05-18T14:38:00+05:30",
          "2023-05-18T14:39:00+05:30"
         ],
         "y": [
          183.04016244796878,
          183.04016244796878
         ]
        },
        {
         "line": {
          "color": "green"
         },
         "mode": "lines",
         "name": "SuperTrend Uptrend",
         "showlegend": false,
         "type": "scatter",
         "x": [
          "2023-05-18T14:39:00+05:30",
          "2023-05-18T14:40:00+05:30"
         ],
         "y": [
          183.04016244796878,
          183.04016244796878
         ]
        },
        {
         "line": {
          "color": "green"
         },
         "mode": "lines",
         "name": "SuperTrend Uptrend",
         "showlegend": false,
         "type": "scatter",
         "x": [
          "2023-05-18T14:40:00+05:30",
          "2023-05-18T14:41:00+05:30"
         ],
         "y": [
          183.04016244796878,
          183.04016244796878
         ]
        },
        {
         "line": {
          "color": "green"
         },
         "mode": "lines",
         "name": "SuperTrend Uptrend",
         "showlegend": false,
         "type": "scatter",
         "x": [
          "2023-05-18T14:41:00+05:30",
          "2023-05-18T14:42:00+05:30"
         ],
         "y": [
          183.04016244796878,
          183.04016244796878
         ]
        },
        {
         "line": {
          "color": "green"
         },
         "mode": "lines",
         "name": "SuperTrend Uptrend",
         "showlegend": false,
         "type": "scatter",
         "x": [
          "2023-05-18T14:42:00+05:30",
          "2023-05-18T14:43:00+05:30"
         ],
         "y": [
          183.04016244796878,
          183.04016244796878
         ]
        },
        {
         "line": {
          "color": "green"
         },
         "mode": "lines",
         "name": "SuperTrend Uptrend",
         "showlegend": false,
         "type": "scatter",
         "x": [
          "2023-05-18T14:43:00+05:30",
          "2023-05-18T14:44:00+05:30"
         ],
         "y": [
          183.04016244796878,
          183.04016244796878
         ]
        },
        {
         "line": {
          "color": "green"
         },
         "mode": "lines",
         "name": "SuperTrend Uptrend",
         "showlegend": false,
         "type": "scatter",
         "x": [
          "2023-05-18T14:44:00+05:30",
          "2023-05-18T14:45:00+05:30"
         ],
         "y": [
          183.04016244796878,
          183.04016244796878
         ]
        },
        {
         "line": {
          "color": "green"
         },
         "mode": "lines",
         "name": "SuperTrend Uptrend",
         "showlegend": false,
         "type": "scatter",
         "x": [
          "2023-05-18T14:45:00+05:30",
          "2023-05-18T14:46:00+05:30"
         ],
         "y": [
          183.04016244796878,
          183.04016244796878
         ]
        },
        {
         "line": {
          "color": "green"
         },
         "mode": "lines",
         "name": "SuperTrend Uptrend",
         "showlegend": false,
         "type": "scatter",
         "x": [
          "2023-05-18T14:46:00+05:30",
          "2023-05-18T14:47:00+05:30"
         ],
         "y": [
          183.04016244796878,
          183.04016244796878
         ]
        },
        {
         "line": {
          "color": "green"
         },
         "mode": "lines",
         "name": "SuperTrend Uptrend",
         "showlegend": false,
         "type": "scatter",
         "x": [
          "2023-05-18T14:47:00+05:30",
          "2023-05-18T14:48:00+05:30"
         ],
         "y": [
          183.04016244796878,
          183.04016244796878
         ]
        },
        {
         "line": {
          "color": "green"
         },
         "mode": "lines",
         "name": "SuperTrend Uptrend",
         "showlegend": false,
         "type": "scatter",
         "x": [
          "2023-05-18T14:48:00+05:30",
          "2023-05-18T14:49:00+05:30"
         ],
         "y": [
          183.04016244796878,
          183.04016244796878
         ]
        },
        {
         "line": {
          "color": "green"
         },
         "mode": "lines",
         "name": "SuperTrend Uptrend",
         "showlegend": false,
         "type": "scatter",
         "x": [
          "2023-05-18T14:49:00+05:30",
          "2023-05-18T14:50:00+05:30"
         ],
         "y": [
          183.04016244796878,
          183.04016244796878
         ]
        },
        {
         "line": {
          "color": "green"
         },
         "mode": "lines",
         "name": "SuperTrend Uptrend",
         "showlegend": false,
         "type": "scatter",
         "x": [
          "2023-05-18T14:50:00+05:30",
          "2023-05-18T14:51:00+05:30"
         ],
         "y": [
          183.04016244796878,
          183.04016244796878
         ]
        },
        {
         "line": {
          "color": "green"
         },
         "mode": "lines",
         "name": "SuperTrend Uptrend",
         "showlegend": false,
         "type": "scatter",
         "x": [
          "2023-05-18T14:51:00+05:30",
          "2023-05-18T14:52:00+05:30"
         ],
         "y": [
          183.04016244796878,
          183.04016244796878
         ]
        },
        {
         "line": {
          "color": "green"
         },
         "mode": "lines",
         "name": "SuperTrend Uptrend",
         "showlegend": false,
         "type": "scatter",
         "x": [
          "2023-05-18T14:52:00+05:30",
          "2023-05-18T14:53:00+05:30"
         ],
         "y": [
          183.04016244796878,
          183.04016244796878
         ]
        },
        {
         "line": {
          "color": "green"
         },
         "mode": "lines",
         "name": "SuperTrend Uptrend",
         "showlegend": false,
         "type": "scatter",
         "x": [
          "2023-05-18T14:53:00+05:30",
          "2023-05-18T14:54:00+05:30"
         ],
         "y": [
          183.04016244796878,
          183.04016244796878
         ]
        },
        {
         "line": {
          "color": "green"
         },
         "mode": "lines",
         "name": "SuperTrend Uptrend",
         "showlegend": false,
         "type": "scatter",
         "x": [
          "2023-05-18T14:54:00+05:30",
          "2023-05-18T14:55:00+05:30"
         ],
         "y": [
          183.04016244796878,
          183.04016244796878
         ]
        },
        {
         "line": {
          "color": "green"
         },
         "mode": "lines",
         "name": "SuperTrend Uptrend",
         "showlegend": false,
         "type": "scatter",
         "x": [
          "2023-05-18T14:55:00+05:30",
          "2023-05-18T14:56:00+05:30"
         ],
         "y": [
          183.04016244796878,
          183.04016244796878
         ]
        },
        {
         "line": {
          "color": "green"
         },
         "mode": "lines",
         "name": "SuperTrend Uptrend",
         "showlegend": false,
         "type": "scatter",
         "x": [
          "2023-05-18T14:56:00+05:30",
          "2023-05-18T14:57:00+05:30"
         ],
         "y": [
          183.04016244796878,
          183.04016244796878
         ]
        },
        {
         "line": {
          "color": "green"
         },
         "mode": "lines",
         "name": "SuperTrend Uptrend",
         "showlegend": false,
         "type": "scatter",
         "x": [
          "2023-05-18T14:57:00+05:30",
          "2023-05-18T14:58:00+05:30"
         ],
         "y": [
          183.04016244796878,
          183.04016244796878
         ]
        },
        {
         "line": {
          "color": "green"
         },
         "mode": "lines",
         "name": "SuperTrend Uptrend",
         "showlegend": false,
         "type": "scatter",
         "x": [
          "2023-05-18T14:58:00+05:30",
          "2023-05-18T14:59:00+05:30"
         ],
         "y": [
          183.04016244796878,
          183.04016244796878
         ]
        },
        {
         "line": {
          "color": "green"
         },
         "mode": "lines",
         "name": "SuperTrend Uptrend",
         "showlegend": false,
         "type": "scatter",
         "x": [
          "2023-05-18T14:59:00+05:30",
          "2023-05-18T15:00:00+05:30"
         ],
         "y": [
          183.04016244796878,
          183.04016244796878
         ]
        },
        {
         "line": {
          "color": "green"
         },
         "mode": "lines",
         "name": "SuperTrend Uptrend",
         "showlegend": false,
         "type": "scatter",
         "x": [
          "2023-05-18T15:00:00+05:30",
          "2023-05-18T15:01:00+05:30"
         ],
         "y": [
          183.04016244796878,
          183.04016244796878
         ]
        },
        {
         "line": {
          "color": "green"
         },
         "mode": "lines",
         "name": "SuperTrend Uptrend",
         "showlegend": false,
         "type": "scatter",
         "x": [
          "2023-05-18T15:01:00+05:30",
          "2023-05-18T15:02:00+05:30"
         ],
         "y": [
          183.04016244796878,
          183.04016244796878
         ]
        },
        {
         "line": {
          "color": "green"
         },
         "mode": "lines",
         "name": "SuperTrend Uptrend",
         "showlegend": false,
         "type": "scatter",
         "x": [
          "2023-05-18T15:02:00+05:30",
          "2023-05-18T15:03:00+05:30"
         ],
         "y": [
          183.04016244796878,
          183.04016244796878
         ]
        },
        {
         "line": {
          "color": "green"
         },
         "mode": "lines",
         "name": "SuperTrend Uptrend",
         "showlegend": false,
         "type": "scatter",
         "x": [
          "2023-05-18T15:03:00+05:30",
          "2023-05-18T15:04:00+05:30"
         ],
         "y": [
          183.04016244796878,
          183.04016244796878
         ]
        },
        {
         "line": {
          "color": "green"
         },
         "mode": "lines",
         "name": "SuperTrend Uptrend",
         "showlegend": false,
         "type": "scatter",
         "x": [
          "2023-05-18T15:04:00+05:30",
          "2023-05-18T15:05:00+05:30"
         ],
         "y": [
          183.04016244796878,
          183.04016244796878
         ]
        },
        {
         "line": {
          "color": "green"
         },
         "mode": "lines",
         "name": "SuperTrend Uptrend",
         "showlegend": false,
         "type": "scatter",
         "x": [
          "2023-05-18T15:05:00+05:30",
          "2023-05-18T15:06:00+05:30"
         ],
         "y": [
          183.04016244796878,
          183.04016244796878
         ]
        },
        {
         "line": {
          "color": "green"
         },
         "mode": "lines",
         "name": "SuperTrend Uptrend",
         "showlegend": false,
         "type": "scatter",
         "x": [
          "2023-05-18T15:06:00+05:30",
          "2023-05-18T15:07:00+05:30"
         ],
         "y": [
          183.04016244796878,
          183.04016244796878
         ]
        },
        {
         "line": {
          "color": "green"
         },
         "mode": "lines",
         "name": "SuperTrend Uptrend",
         "showlegend": false,
         "type": "scatter",
         "x": [
          "2023-05-18T15:07:00+05:30",
          "2023-05-18T15:08:00+05:30"
         ],
         "y": [
          183.04016244796878,
          183.04016244796878
         ]
        },
        {
         "line": {
          "color": "green"
         },
         "mode": "lines",
         "name": "SuperTrend Uptrend",
         "showlegend": false,
         "type": "scatter",
         "x": [
          "2023-05-18T15:08:00+05:30",
          "2023-05-18T15:09:00+05:30"
         ],
         "y": [
          183.04016244796878,
          183.04016244796878
         ]
        },
        {
         "line": {
          "color": "green"
         },
         "mode": "lines",
         "name": "SuperTrend Uptrend",
         "showlegend": false,
         "type": "scatter",
         "x": [
          "2023-05-18T15:09:00+05:30",
          "2023-05-18T15:10:00+05:30"
         ],
         "y": [
          183.04016244796878,
          183.04016244796878
         ]
        },
        {
         "line": {
          "color": "green"
         },
         "mode": "lines",
         "name": "SuperTrend Uptrend",
         "showlegend": false,
         "type": "scatter",
         "x": [
          "2023-05-18T15:10:00+05:30",
          "2023-05-18T15:11:00+05:30"
         ],
         "y": [
          183.04016244796878,
          183.04016244796878
         ]
        },
        {
         "line": {
          "color": "green"
         },
         "mode": "lines",
         "name": "SuperTrend Uptrend",
         "showlegend": false,
         "type": "scatter",
         "x": [
          "2023-05-18T15:11:00+05:30",
          "2023-05-18T15:12:00+05:30"
         ],
         "y": [
          183.04016244796878,
          183.04016244796878
         ]
        },
        {
         "line": {
          "color": "green"
         },
         "mode": "lines",
         "name": "SuperTrend Uptrend",
         "showlegend": false,
         "type": "scatter",
         "x": [
          "2023-05-18T15:12:00+05:30",
          "2023-05-18T15:13:00+05:30"
         ],
         "y": [
          183.04016244796878,
          183.04016244796878
         ]
        },
        {
         "line": {
          "color": "green"
         },
         "mode": "lines",
         "name": "SuperTrend Uptrend",
         "showlegend": false,
         "type": "scatter",
         "x": [
          "2023-05-18T15:13:00+05:30",
          "2023-05-18T15:14:00+05:30"
         ],
         "y": [
          183.04016244796878,
          183.04016244796878
         ]
        },
        {
         "line": {
          "color": "green"
         },
         "mode": "lines",
         "name": "SuperTrend Uptrend",
         "showlegend": false,
         "type": "scatter",
         "x": [
          "2023-05-18T15:14:00+05:30",
          "2023-05-18T15:15:00+05:30"
         ],
         "y": [
          183.04016244796878,
          183.04016244796878
         ]
        },
        {
         "line": {
          "color": "green"
         },
         "mode": "lines",
         "name": "SuperTrend Uptrend",
         "showlegend": false,
         "type": "scatter",
         "x": [
          "2023-05-18T15:15:00+05:30",
          "2023-05-18T15:16:00+05:30"
         ],
         "y": [
          183.04016244796878,
          183.04016244796878
         ]
        },
        {
         "line": {
          "color": "green"
         },
         "mode": "lines",
         "name": "SuperTrend Uptrend",
         "showlegend": false,
         "type": "scatter",
         "x": [
          "2023-05-18T15:16:00+05:30",
          "2023-05-18T15:17:00+05:30"
         ],
         "y": [
          183.04016244796878,
          183.04016244796878
         ]
        },
        {
         "line": {
          "color": "green"
         },
         "mode": "lines",
         "name": "SuperTrend Uptrend",
         "showlegend": false,
         "type": "scatter",
         "x": [
          "2023-05-18T15:17:00+05:30",
          "2023-05-18T15:18:00+05:30"
         ],
         "y": [
          183.04016244796878,
          183.04016244796878
         ]
        },
        {
         "line": {
          "color": "green"
         },
         "mode": "lines",
         "name": "SuperTrend Uptrend",
         "showlegend": false,
         "type": "scatter",
         "x": [
          "2023-05-18T15:18:00+05:30",
          "2023-05-18T15:19:00+05:30"
         ],
         "y": [
          183.04016244796878,
          183.04016244796878
         ]
        },
        {
         "line": {
          "color": "green"
         },
         "mode": "lines",
         "name": "SuperTrend Uptrend",
         "showlegend": false,
         "type": "scatter",
         "x": [
          "2023-05-18T15:19:00+05:30",
          "2023-05-18T15:20:00+05:30"
         ],
         "y": [
          183.04016244796878,
          183.04016244796878
         ]
        },
        {
         "line": {
          "color": "green"
         },
         "mode": "lines",
         "name": "SuperTrend Uptrend",
         "showlegend": false,
         "type": "scatter",
         "x": [
          "2023-05-18T15:20:00+05:30",
          "2023-05-18T15:21:00+05:30"
         ],
         "y": [
          183.04016244796878,
          183.04016244796878
         ]
        },
        {
         "line": {
          "color": "green"
         },
         "mode": "lines",
         "name": "SuperTrend Uptrend",
         "showlegend": false,
         "type": "scatter",
         "x": [
          "2023-05-18T15:21:00+05:30",
          "2023-05-18T15:22:00+05:30"
         ],
         "y": [
          183.04016244796878,
          183.04016244796878
         ]
        },
        {
         "line": {
          "color": "green"
         },
         "mode": "lines",
         "name": "SuperTrend Uptrend",
         "showlegend": false,
         "type": "scatter",
         "x": [
          "2023-05-18T15:22:00+05:30",
          "2023-05-18T15:23:00+05:30"
         ],
         "y": [
          183.04016244796878,
          183.04016244796878
         ]
        },
        {
         "line": {
          "color": "green"
         },
         "mode": "lines",
         "name": "SuperTrend Uptrend",
         "showlegend": false,
         "type": "scatter",
         "x": [
          "2023-05-18T15:23:00+05:30",
          "2023-05-18T15:24:00+05:30"
         ],
         "y": [
          183.04016244796878,
          183.04016244796878
         ]
        },
        {
         "line": {
          "color": "green"
         },
         "mode": "lines",
         "name": "SuperTrend Uptrend",
         "showlegend": false,
         "type": "scatter",
         "x": [
          "2023-05-18T15:24:00+05:30",
          "2023-05-18T15:25:00+05:30"
         ],
         "y": [
          183.04016244796878,
          183.04016244796878
         ]
        },
        {
         "line": {
          "color": "green"
         },
         "mode": "lines",
         "name": "SuperTrend Uptrend",
         "showlegend": false,
         "type": "scatter",
         "x": [
          "2023-05-18T15:25:00+05:30",
          "2023-05-18T15:26:00+05:30"
         ],
         "y": [
          183.04016244796878,
          183.04016244796878
         ]
        },
        {
         "line": {
          "color": "green"
         },
         "mode": "lines",
         "name": "SuperTrend Uptrend",
         "showlegend": false,
         "type": "scatter",
         "x": [
          "2023-05-18T15:26:00+05:30",
          "2023-05-18T15:27:00+05:30"
         ],
         "y": [
          183.04016244796878,
          183.04016244796878
         ]
        },
        {
         "line": {
          "color": "green"
         },
         "mode": "lines",
         "name": "SuperTrend Uptrend",
         "showlegend": false,
         "type": "scatter",
         "x": [
          "2023-05-18T15:27:00+05:30",
          "2023-05-18T15:28:00+05:30"
         ],
         "y": [
          183.04016244796878,
          183.04016244796878
         ]
        },
        {
         "line": {
          "color": "green"
         },
         "mode": "lines",
         "name": "SuperTrend Uptrend",
         "showlegend": false,
         "type": "scatter",
         "x": [
          "2023-05-18T15:28:00+05:30",
          "2023-05-18T15:29:00+05:30"
         ],
         "y": [
          183.04016244796878,
          183.04016244796878
         ]
        },
        {
         "line": {
          "color": "green"
         },
         "mode": "lines",
         "name": "SuperTrend Uptrend",
         "showlegend": false,
         "type": "scatter",
         "x": [
          "2023-05-18T15:29:00+05:30",
          "2023-05-18T15:30:00+05:30"
         ],
         "y": [
          183.04016244796878,
          183.04016244796878
         ]
        },
        {
         "line": {
          "color": "red"
         },
         "mode": "lines",
         "name": "SuperTrend Downtrend",
         "showlegend": true,
         "type": "scatter",
         "x": [
          "2023-05-19T09:15:00+05:30",
          "2023-05-19T09:16:00+05:30"
         ],
         "y": [
          377.24756538515913,
          377.24756538515913
         ]
        },
        {
         "line": {
          "color": "red"
         },
         "mode": "lines",
         "name": "SuperTrend Downtrend",
         "showlegend": false,
         "type": "scatter",
         "x": [
          "2023-05-19T09:16:00+05:30",
          "2023-05-19T09:17:00+05:30"
         ],
         "y": [
          377.24756538515913,
          377.24756538515913
         ]
        },
        {
         "line": {
          "color": "red"
         },
         "mode": "lines",
         "name": "SuperTrend Downtrend",
         "showlegend": false,
         "type": "scatter",
         "x": [
          "2023-05-19T09:17:00+05:30",
          "2023-05-19T09:18:00+05:30"
         ],
         "y": [
          377.24756538515913,
          377.24756538515913
         ]
        },
        {
         "line": {
          "color": "red"
         },
         "mode": "lines",
         "name": "SuperTrend Downtrend",
         "showlegend": false,
         "type": "scatter",
         "x": [
          "2023-05-19T09:18:00+05:30",
          "2023-05-19T09:19:00+05:30"
         ],
         "y": [
          377.24756538515913,
          377.24756538515913
         ]
        },
        {
         "line": {
          "color": "red"
         },
         "mode": "lines",
         "name": "SuperTrend Downtrend",
         "showlegend": false,
         "type": "scatter",
         "x": [
          "2023-05-19T09:19:00+05:30",
          "2023-05-19T09:20:00+05:30"
         ],
         "y": [
          377.24756538515913,
          377.24756538515913
         ]
        },
        {
         "line": {
          "color": "red"
         },
         "mode": "lines",
         "name": "SuperTrend Downtrend",
         "showlegend": false,
         "type": "scatter",
         "x": [
          "2023-05-19T09:20:00+05:30",
          "2023-05-19T09:21:00+05:30"
         ],
         "y": [
          377.24756538515913,
          377.24756538515913
         ]
        },
        {
         "line": {
          "color": "red"
         },
         "mode": "lines",
         "name": "SuperTrend Downtrend",
         "showlegend": false,
         "type": "scatter",
         "x": [
          "2023-05-19T09:21:00+05:30",
          "2023-05-19T09:22:00+05:30"
         ],
         "y": [
          377.24756538515913,
          377.24756538515913
         ]
        },
        {
         "line": {
          "color": "red"
         },
         "mode": "lines",
         "name": "SuperTrend Downtrend",
         "showlegend": false,
         "type": "scatter",
         "x": [
          "2023-05-19T09:22:00+05:30",
          "2023-05-19T09:23:00+05:30"
         ],
         "y": [
          377.24756538515913,
          370.40948870074504
         ]
        },
        {
         "line": {
          "color": "red"
         },
         "mode": "lines",
         "name": "SuperTrend Downtrend",
         "showlegend": false,
         "type": "scatter",
         "x": [
          "2023-05-19T09:23:00+05:30",
          "2023-05-19T09:24:00+05:30"
         ],
         "y": [
          370.40948870074504,
          370.40948870074504
         ]
        },
        {
         "line": {
          "color": "red"
         },
         "mode": "lines",
         "name": "SuperTrend Downtrend",
         "showlegend": false,
         "type": "scatter",
         "x": [
          "2023-05-19T09:24:00+05:30",
          "2023-05-19T09:25:00+05:30"
         ],
         "y": [
          370.40948870074504,
          370.40948870074504
         ]
        },
        {
         "line": {
          "color": "red"
         },
         "mode": "lines",
         "name": "SuperTrend Downtrend",
         "showlegend": false,
         "type": "scatter",
         "x": [
          "2023-05-19T09:25:00+05:30",
          "2023-05-19T09:26:00+05:30"
         ],
         "y": [
          370.40948870074504,
          370.40948870074504
         ]
        },
        {
         "line": {
          "color": "red"
         },
         "mode": "lines",
         "name": "SuperTrend Downtrend",
         "showlegend": false,
         "type": "scatter",
         "x": [
          "2023-05-19T09:26:00+05:30",
          "2023-05-19T09:27:00+05:30"
         ],
         "y": [
          370.40948870074504,
          370.40948870074504
         ]
        },
        {
         "line": {
          "color": "red"
         },
         "mode": "lines",
         "name": "SuperTrend Downtrend",
         "showlegend": false,
         "type": "scatter",
         "x": [
          "2023-05-19T09:27:00+05:30",
          "2023-05-19T09:28:00+05:30"
         ],
         "y": [
          370.40948870074504,
          370.40948870074504
         ]
        },
        {
         "line": {
          "color": "red"
         },
         "mode": "lines",
         "name": "SuperTrend Downtrend",
         "showlegend": false,
         "type": "scatter",
         "x": [
          "2023-05-19T09:28:00+05:30",
          "2023-05-19T09:29:00+05:30"
         ],
         "y": [
          370.40948870074504,
          370.40948870074504
         ]
        },
        {
         "line": {
          "color": "red"
         },
         "mode": "lines",
         "name": "SuperTrend Downtrend",
         "showlegend": false,
         "type": "scatter",
         "x": [
          "2023-05-19T09:29:00+05:30",
          "2023-05-19T09:30:00+05:30"
         ],
         "y": [
          370.40948870074504,
          370.40948870074504
         ]
        },
        {
         "line": {
          "color": "red"
         },
         "mode": "lines",
         "name": "SuperTrend Downtrend",
         "showlegend": false,
         "type": "scatter",
         "x": [
          "2023-05-19T09:30:00+05:30",
          "2023-05-19T09:31:00+05:30"
         ],
         "y": [
          370.40948870074504,
          370.40948870074504
         ]
        },
        {
         "line": {
          "color": "red"
         },
         "mode": "lines",
         "name": "SuperTrend Downtrend",
         "showlegend": false,
         "type": "scatter",
         "x": [
          "2023-05-19T09:31:00+05:30",
          "2023-05-19T09:32:00+05:30"
         ],
         "y": [
          370.40948870074504,
          370.40948870074504
         ]
        },
        {
         "line": {
          "color": "red"
         },
         "mode": "lines",
         "name": "SuperTrend Downtrend",
         "showlegend": false,
         "type": "scatter",
         "x": [
          "2023-05-19T09:32:00+05:30",
          "2023-05-19T09:33:00+05:30"
         ],
         "y": [
          370.40948870074504,
          370.40948870074504
         ]
        },
        {
         "line": {
          "color": "red"
         },
         "mode": "lines",
         "name": "SuperTrend Downtrend",
         "showlegend": false,
         "type": "scatter",
         "x": [
          "2023-05-19T09:33:00+05:30",
          "2023-05-19T09:34:00+05:30"
         ],
         "y": [
          370.40948870074504,
          370.40948870074504
         ]
        },
        {
         "line": {
          "color": "red"
         },
         "mode": "lines",
         "name": "SuperTrend Downtrend",
         "showlegend": false,
         "type": "scatter",
         "x": [
          "2023-05-19T09:34:00+05:30",
          "2023-05-19T09:35:00+05:30"
         ],
         "y": [
          370.40948870074504,
          364.57169906256263
         ]
        },
        {
         "line": {
          "color": "red"
         },
         "mode": "lines",
         "name": "SuperTrend Downtrend",
         "showlegend": false,
         "type": "scatter",
         "x": [
          "2023-05-19T09:35:00+05:30",
          "2023-05-19T09:36:00+05:30"
         ],
         "y": [
          364.57169906256263,
          364.57169906256263
         ]
        },
        {
         "line": {
          "color": "red"
         },
         "mode": "lines",
         "name": "SuperTrend Downtrend",
         "showlegend": false,
         "type": "scatter",
         "x": [
          "2023-05-19T09:36:00+05:30",
          "2023-05-19T09:37:00+05:30"
         ],
         "y": [
          364.57169906256263,
          362.62939322269153
         ]
        },
        {
         "line": {
          "color": "red"
         },
         "mode": "lines",
         "name": "SuperTrend Downtrend",
         "showlegend": false,
         "type": "scatter",
         "x": [
          "2023-05-19T09:37:00+05:30",
          "2023-05-19T09:38:00+05:30"
         ],
         "y": [
          362.62939322269153,
          344.33454491701855
         ]
        },
        {
         "line": {
          "color": "red"
         },
         "mode": "lines",
         "name": "SuperTrend Downtrend",
         "showlegend": false,
         "type": "scatter",
         "x": [
          "2023-05-19T09:38:00+05:30",
          "2023-05-19T09:39:00+05:30"
         ],
         "y": [
          344.33454491701855,
          344.33454491701855
         ]
        },
        {
         "line": {
          "color": "red"
         },
         "mode": "lines",
         "name": "SuperTrend Downtrend",
         "showlegend": false,
         "type": "scatter",
         "x": [
          "2023-05-19T09:39:00+05:30",
          "2023-05-19T09:40:00+05:30"
         ],
         "y": [
          344.33454491701855,
          344.33454491701855
         ]
        },
        {
         "line": {
          "color": "red"
         },
         "mode": "lines",
         "name": "SuperTrend Downtrend",
         "showlegend": false,
         "type": "scatter",
         "x": [
          "2023-05-19T09:40:00+05:30",
          "2023-05-19T09:41:00+05:30"
         ],
         "y": [
          344.33454491701855,
          336.2290267618671
         ]
        },
        {
         "line": {
          "color": "red"
         },
         "mode": "lines",
         "name": "SuperTrend Downtrend",
         "showlegend": false,
         "type": "scatter",
         "x": [
          "2023-05-19T09:41:00+05:30",
          "2023-05-19T09:42:00+05:30"
         ],
         "y": [
          336.2290267618671,
          334.8467700714003
         ]
        },
        {
         "line": {
          "color": "red"
         },
         "mode": "lines",
         "name": "SuperTrend Downtrend",
         "showlegend": false,
         "type": "scatter",
         "x": [
          "2023-05-19T09:42:00+05:30",
          "2023-05-19T09:43:00+05:30"
         ],
         "y": [
          334.8467700714003,
          333.9475775535502
         ]
        },
        {
         "line": {
          "color": "red"
         },
         "mode": "lines",
         "name": "SuperTrend Downtrend",
         "showlegend": false,
         "type": "scatter",
         "x": [
          "2023-05-19T09:43:00+05:30",
          "2023-05-19T09:44:00+05:30"
         ],
         "y": [
          333.9475775535502,
          315.55443316516266
         ]
        },
        {
         "line": {
          "color": "red"
         },
         "mode": "lines",
         "name": "SuperTrend Downtrend",
         "showlegend": false,
         "type": "scatter",
         "x": [
          "2023-05-19T09:44:00+05:30",
          "2023-05-19T09:45:00+05:30"
         ],
         "y": [
          315.55443316516266,
          302.6033248738718
         ]
        },
        {
         "line": {
          "color": "red"
         },
         "mode": "lines",
         "name": "SuperTrend Downtrend",
         "showlegend": false,
         "type": "scatter",
         "x": [
          "2023-05-19T09:45:00+05:30",
          "2023-05-19T09:46:00+05:30"
         ],
         "y": [
          302.6033248738718,
          302.6033248738718
         ]
        },
        {
         "line": {
          "color": "red"
         },
         "mode": "lines",
         "name": "SuperTrend Downtrend",
         "showlegend": false,
         "type": "scatter",
         "x": [
          "2023-05-19T09:46:00+05:30",
          "2023-05-19T09:47:00+05:30"
         ],
         "y": [
          302.6033248738718,
          302.6033248738718
         ]
        },
        {
         "line": {
          "color": "red"
         },
         "mode": "lines",
         "name": "SuperTrend Downtrend",
         "showlegend": false,
         "type": "scatter",
         "x": [
          "2023-05-19T09:47:00+05:30",
          "2023-05-19T09:48:00+05:30"
         ],
         "y": [
          302.6033248738718,
          302.6033248738718
         ]
        },
        {
         "line": {
          "color": "red"
         },
         "mode": "lines",
         "name": "SuperTrend Downtrend",
         "showlegend": false,
         "type": "scatter",
         "x": [
          "2023-05-19T09:48:00+05:30",
          "2023-05-19T09:49:00+05:30"
         ],
         "y": [
          302.6033248738718,
          302.6033248738718
         ]
        },
        {
         "line": {
          "color": "red"
         },
         "mode": "lines",
         "name": "SuperTrend Downtrend",
         "showlegend": false,
         "type": "scatter",
         "x": [
          "2023-05-19T09:49:00+05:30",
          "2023-05-19T09:50:00+05:30"
         ],
         "y": [
          302.6033248738718,
          302.6033248738718
         ]
        },
        {
         "line": {
          "color": "red"
         },
         "mode": "lines",
         "name": "SuperTrend Downtrend",
         "showlegend": false,
         "type": "scatter",
         "x": [
          "2023-05-19T09:50:00+05:30",
          "2023-05-19T09:51:00+05:30"
         ],
         "y": [
          302.6033248738718,
          302.6033248738718
         ]
        },
        {
         "line": {
          "color": "red"
         },
         "mode": "lines",
         "name": "SuperTrend Downtrend",
         "showlegend": false,
         "type": "scatter",
         "x": [
          "2023-05-19T09:51:00+05:30",
          "2023-05-19T09:52:00+05:30"
         ],
         "y": [
          302.6033248738718,
          302.6033248738718
         ]
        },
        {
         "line": {
          "color": "red"
         },
         "mode": "lines",
         "name": "SuperTrend Downtrend",
         "showlegend": false,
         "type": "scatter",
         "x": [
          "2023-05-19T09:52:00+05:30",
          "2023-05-19T09:53:00+05:30"
         ],
         "y": [
          302.6033248738718,
          302.6033248738718
         ]
        },
        {
         "line": {
          "color": "red"
         },
         "mode": "lines",
         "name": "SuperTrend Downtrend",
         "showlegend": false,
         "type": "scatter",
         "x": [
          "2023-05-19T09:53:00+05:30",
          "2023-05-19T09:54:00+05:30"
         ],
         "y": [
          302.6033248738718,
          302.6033248738718
         ]
        },
        {
         "line": {
          "color": "red"
         },
         "mode": "lines",
         "name": "SuperTrend Downtrend",
         "showlegend": false,
         "type": "scatter",
         "x": [
          "2023-05-19T09:54:00+05:30",
          "2023-05-19T09:55:00+05:30"
         ],
         "y": [
          302.6033248738718,
          302.6033248738718
         ]
        },
        {
         "line": {
          "color": "red"
         },
         "mode": "lines",
         "name": "SuperTrend Downtrend",
         "showlegend": false,
         "type": "scatter",
         "x": [
          "2023-05-19T09:55:00+05:30",
          "2023-05-19T09:56:00+05:30"
         ],
         "y": [
          302.6033248738718,
          302.6033248738718
         ]
        },
        {
         "line": {
          "color": "red"
         },
         "mode": "lines",
         "name": "SuperTrend Downtrend",
         "showlegend": false,
         "type": "scatter",
         "x": [
          "2023-05-19T09:56:00+05:30",
          "2023-05-19T09:57:00+05:30"
         ],
         "y": [
          302.6033248738718,
          302.6033248738718
         ]
        },
        {
         "line": {
          "color": "red"
         },
         "mode": "lines",
         "name": "SuperTrend Downtrend",
         "showlegend": false,
         "type": "scatter",
         "x": [
          "2023-05-19T09:57:00+05:30",
          "2023-05-19T09:58:00+05:30"
         ],
         "y": [
          302.6033248738718,
          302.6033248738718
         ]
        },
        {
         "line": {
          "color": "red"
         },
         "mode": "lines",
         "name": "SuperTrend Downtrend",
         "showlegend": false,
         "type": "scatter",
         "x": [
          "2023-05-19T09:58:00+05:30",
          "2023-05-19T09:59:00+05:30"
         ],
         "y": [
          302.6033248738718,
          302.6033248738718
         ]
        },
        {
         "line": {
          "color": "red"
         },
         "mode": "lines",
         "name": "SuperTrend Downtrend",
         "showlegend": false,
         "type": "scatter",
         "x": [
          "2023-05-19T09:59:00+05:30",
          "2023-05-19T10:00:00+05:30"
         ],
         "y": [
          302.6033248738718,
          302.6033248738718
         ]
        },
        {
         "line": {
          "color": "red"
         },
         "mode": "lines",
         "name": "SuperTrend Downtrend",
         "showlegend": false,
         "type": "scatter",
         "x": [
          "2023-05-19T10:00:00+05:30",
          "2023-05-19T10:01:00+05:30"
         ],
         "y": [
          302.6033248738718,
          302.6033248738718
         ]
        },
        {
         "line": {
          "color": "red"
         },
         "mode": "lines",
         "name": "SuperTrend Downtrend",
         "showlegend": false,
         "type": "scatter",
         "x": [
          "2023-05-19T10:01:00+05:30",
          "2023-05-19T10:02:00+05:30"
         ],
         "y": [
          302.6033248738718,
          302.6033248738718
         ]
        },
        {
         "line": {
          "color": "red"
         },
         "mode": "lines",
         "name": "SuperTrend Downtrend",
         "showlegend": false,
         "type": "scatter",
         "x": [
          "2023-05-19T10:02:00+05:30",
          "2023-05-19T10:03:00+05:30"
         ],
         "y": [
          302.6033248738718,
          302.6033248738718
         ]
        },
        {
         "line": {
          "color": "red"
         },
         "mode": "lines",
         "name": "SuperTrend Downtrend",
         "showlegend": false,
         "type": "scatter",
         "x": [
          "2023-05-19T10:03:00+05:30",
          "2023-05-19T10:04:00+05:30"
         ],
         "y": [
          302.6033248738718,
          302.6033248738718
         ]
        },
        {
         "line": {
          "color": "red"
         },
         "mode": "lines",
         "name": "SuperTrend Downtrend",
         "showlegend": false,
         "type": "scatter",
         "x": [
          "2023-05-19T10:04:00+05:30",
          "2023-05-19T10:05:00+05:30"
         ],
         "y": [
          302.6033248738718,
          302.6033248738718
         ]
        },
        {
         "line": {
          "color": "red"
         },
         "mode": "lines",
         "name": "SuperTrend Downtrend",
         "showlegend": false,
         "type": "scatter",
         "x": [
          "2023-05-19T10:05:00+05:30",
          "2023-05-19T10:06:00+05:30"
         ],
         "y": [
          302.6033248738718,
          302.6033248738718
         ]
        },
        {
         "line": {
          "color": "red"
         },
         "mode": "lines",
         "name": "SuperTrend Downtrend",
         "showlegend": false,
         "type": "scatter",
         "x": [
          "2023-05-19T10:06:00+05:30",
          "2023-05-19T10:07:00+05:30"
         ],
         "y": [
          302.6033248738718,
          302.6033248738718
         ]
        },
        {
         "line": {
          "color": "red"
         },
         "mode": "lines",
         "name": "SuperTrend Downtrend",
         "showlegend": false,
         "type": "scatter",
         "x": [
          "2023-05-19T10:07:00+05:30",
          "2023-05-19T10:08:00+05:30"
         ],
         "y": [
          302.6033248738718,
          302.6033248738718
         ]
        },
        {
         "line": {
          "color": "red"
         },
         "mode": "lines",
         "name": "SuperTrend Downtrend",
         "showlegend": false,
         "type": "scatter",
         "x": [
          "2023-05-19T10:08:00+05:30",
          "2023-05-19T10:09:00+05:30"
         ],
         "y": [
          302.6033248738718,
          302.6033248738718
         ]
        },
        {
         "line": {
          "color": "red"
         },
         "mode": "lines",
         "name": "SuperTrend Downtrend",
         "showlegend": false,
         "type": "scatter",
         "x": [
          "2023-05-19T10:09:00+05:30",
          "2023-05-19T10:10:00+05:30"
         ],
         "y": [
          302.6033248738718,
          302.6033248738718
         ]
        },
        {
         "line": {
          "color": "red"
         },
         "mode": "lines",
         "name": "SuperTrend Downtrend",
         "showlegend": false,
         "type": "scatter",
         "x": [
          "2023-05-19T10:10:00+05:30",
          "2023-05-19T10:11:00+05:30"
         ],
         "y": [
          302.6033248738718,
          302.6033248738718
         ]
        },
        {
         "line": {
          "color": "red"
         },
         "mode": "lines",
         "name": "SuperTrend Downtrend",
         "showlegend": false,
         "type": "scatter",
         "x": [
          "2023-05-19T10:11:00+05:30",
          "2023-05-19T10:12:00+05:30"
         ],
         "y": [
          302.6033248738718,
          302.6033248738718
         ]
        },
        {
         "line": {
          "color": "red"
         },
         "mode": "lines",
         "name": "SuperTrend Downtrend",
         "showlegend": false,
         "type": "scatter",
         "x": [
          "2023-05-19T10:12:00+05:30",
          "2023-05-19T10:13:00+05:30"
         ],
         "y": [
          302.6033248738718,
          302.6033248738718
         ]
        },
        {
         "line": {
          "color": "red"
         },
         "mode": "lines",
         "name": "SuperTrend Downtrend",
         "showlegend": false,
         "type": "scatter",
         "x": [
          "2023-05-19T10:13:00+05:30",
          "2023-05-19T10:14:00+05:30"
         ],
         "y": [
          302.6033248738718,
          302.6033248738718
         ]
        },
        {
         "line": {
          "color": "red"
         },
         "mode": "lines",
         "name": "SuperTrend Downtrend",
         "showlegend": false,
         "type": "scatter",
         "x": [
          "2023-05-19T10:14:00+05:30",
          "2023-05-19T10:15:00+05:30"
         ],
         "y": [
          302.6033248738718,
          302.6033248738718
         ]
        },
        {
         "line": {
          "color": "red"
         },
         "mode": "lines",
         "name": "SuperTrend Downtrend",
         "showlegend": false,
         "type": "scatter",
         "x": [
          "2023-05-19T10:15:00+05:30",
          "2023-05-19T10:16:00+05:30"
         ],
         "y": [
          302.6033248738718,
          302.6033248738718
         ]
        },
        {
         "line": {
          "color": "red"
         },
         "mode": "lines",
         "name": "SuperTrend Downtrend",
         "showlegend": false,
         "type": "scatter",
         "x": [
          "2023-05-19T10:16:00+05:30",
          "2023-05-19T10:17:00+05:30"
         ],
         "y": [
          302.6033248738718,
          302.6033248738718
         ]
        },
        {
         "line": {
          "color": "red"
         },
         "mode": "lines",
         "name": "SuperTrend Downtrend",
         "showlegend": false,
         "type": "scatter",
         "x": [
          "2023-05-19T10:17:00+05:30",
          "2023-05-19T10:18:00+05:30"
         ],
         "y": [
          302.6033248738718,
          302.6033248738718
         ]
        },
        {
         "line": {
          "color": "red"
         },
         "mode": "lines",
         "name": "SuperTrend Downtrend",
         "showlegend": false,
         "type": "scatter",
         "x": [
          "2023-05-19T10:18:00+05:30",
          "2023-05-19T10:19:00+05:30"
         ],
         "y": [
          302.6033248738718,
          302.6033248738718
         ]
        },
        {
         "line": {
          "color": "red"
         },
         "mode": "lines",
         "name": "SuperTrend Downtrend",
         "showlegend": false,
         "type": "scatter",
         "x": [
          "2023-05-19T10:19:00+05:30",
          "2023-05-19T10:20:00+05:30"
         ],
         "y": [
          302.6033248738718,
          302.6033248738718
         ]
        },
        {
         "line": {
          "color": "red"
         },
         "mode": "lines",
         "name": "SuperTrend Downtrend",
         "showlegend": false,
         "type": "scatter",
         "x": [
          "2023-05-19T10:20:00+05:30",
          "2023-05-19T10:21:00+05:30"
         ],
         "y": [
          302.6033248738718,
          302.6033248738718
         ]
        },
        {
         "line": {
          "color": "red"
         },
         "mode": "lines",
         "name": "SuperTrend Downtrend",
         "showlegend": false,
         "type": "scatter",
         "x": [
          "2023-05-19T10:21:00+05:30",
          "2023-05-19T10:22:00+05:30"
         ],
         "y": [
          302.6033248738718,
          302.6033248738718
         ]
        },
        {
         "line": {
          "color": "red"
         },
         "mode": "lines",
         "name": "SuperTrend Downtrend",
         "showlegend": false,
         "type": "scatter",
         "x": [
          "2023-05-19T10:22:00+05:30",
          "2023-05-19T10:23:00+05:30"
         ],
         "y": [
          302.6033248738718,
          302.6033248738718
         ]
        },
        {
         "line": {
          "color": "red"
         },
         "mode": "lines",
         "name": "SuperTrend Downtrend",
         "showlegend": false,
         "type": "scatter",
         "x": [
          "2023-05-19T10:23:00+05:30",
          "2023-05-19T10:24:00+05:30"
         ],
         "y": [
          302.6033248738718,
          302.6033248738718
         ]
        },
        {
         "line": {
          "color": "red"
         },
         "mode": "lines",
         "name": "SuperTrend Downtrend",
         "showlegend": false,
         "type": "scatter",
         "x": [
          "2023-05-19T10:24:00+05:30",
          "2023-05-19T10:25:00+05:30"
         ],
         "y": [
          302.6033248738718,
          302.6033248738718
         ]
        },
        {
         "line": {
          "color": "red"
         },
         "mode": "lines",
         "name": "SuperTrend Downtrend",
         "showlegend": false,
         "type": "scatter",
         "x": [
          "2023-05-19T10:25:00+05:30",
          "2023-05-19T10:26:00+05:30"
         ],
         "y": [
          302.6033248738718,
          302.6033248738718
         ]
        },
        {
         "line": {
          "color": "red"
         },
         "mode": "lines",
         "name": "SuperTrend Downtrend",
         "showlegend": false,
         "type": "scatter",
         "x": [
          "2023-05-19T10:26:00+05:30",
          "2023-05-19T10:27:00+05:30"
         ],
         "y": [
          302.6033248738718,
          302.6033248738718
         ]
        },
        {
         "line": {
          "color": "red"
         },
         "mode": "lines",
         "name": "SuperTrend Downtrend",
         "showlegend": false,
         "type": "scatter",
         "x": [
          "2023-05-19T10:27:00+05:30",
          "2023-05-19T10:28:00+05:30"
         ],
         "y": [
          302.6033248738718,
          302.6033248738718
         ]
        },
        {
         "line": {
          "color": "red"
         },
         "mode": "lines",
         "name": "SuperTrend Downtrend",
         "showlegend": false,
         "type": "scatter",
         "x": [
          "2023-05-19T10:28:00+05:30",
          "2023-05-19T10:29:00+05:30"
         ],
         "y": [
          302.6033248738718,
          302.6033248738718
         ]
        },
        {
         "line": {
          "color": "red"
         },
         "mode": "lines",
         "name": "SuperTrend Downtrend",
         "showlegend": false,
         "type": "scatter",
         "x": [
          "2023-05-19T10:29:00+05:30",
          "2023-05-19T10:30:00+05:30"
         ],
         "y": [
          302.6033248738718,
          302.6033248738718
         ]
        },
        {
         "line": {
          "color": "red"
         },
         "mode": "lines",
         "name": "SuperTrend Downtrend",
         "showlegend": false,
         "type": "scatter",
         "x": [
          "2023-05-19T10:30:00+05:30",
          "2023-05-19T10:31:00+05:30"
         ],
         "y": [
          302.6033248738718,
          302.6033248738718
         ]
        },
        {
         "line": {
          "color": "red"
         },
         "mode": "lines",
         "name": "SuperTrend Downtrend",
         "showlegend": false,
         "type": "scatter",
         "x": [
          "2023-05-19T10:31:00+05:30",
          "2023-05-19T10:32:00+05:30"
         ],
         "y": [
          302.6033248738718,
          302.6033248738718
         ]
        },
        {
         "line": {
          "color": "red"
         },
         "mode": "lines",
         "name": "SuperTrend Downtrend",
         "showlegend": false,
         "type": "scatter",
         "x": [
          "2023-05-19T10:32:00+05:30",
          "2023-05-19T10:33:00+05:30"
         ],
         "y": [
          302.6033248738718,
          302.6033248738718
         ]
        },
        {
         "line": {
          "color": "red"
         },
         "mode": "lines",
         "name": "SuperTrend Downtrend",
         "showlegend": false,
         "type": "scatter",
         "x": [
          "2023-05-19T10:33:00+05:30",
          "2023-05-19T10:34:00+05:30"
         ],
         "y": [
          302.6033248738718,
          302.6033248738718
         ]
        },
        {
         "line": {
          "color": "red"
         },
         "mode": "lines",
         "name": "SuperTrend Downtrend",
         "showlegend": false,
         "type": "scatter",
         "x": [
          "2023-05-19T10:34:00+05:30",
          "2023-05-19T10:35:00+05:30"
         ],
         "y": [
          302.6033248738718,
          302.6033248738718
         ]
        },
        {
         "line": {
          "color": "red"
         },
         "mode": "lines",
         "name": "SuperTrend Downtrend",
         "showlegend": false,
         "type": "scatter",
         "x": [
          "2023-05-19T10:35:00+05:30",
          "2023-05-19T10:36:00+05:30"
         ],
         "y": [
          302.6033248738718,
          302.6033248738718
         ]
        },
        {
         "line": {
          "color": "red"
         },
         "mode": "lines",
         "name": "SuperTrend Downtrend",
         "showlegend": false,
         "type": "scatter",
         "x": [
          "2023-05-19T10:36:00+05:30",
          "2023-05-19T10:37:00+05:30"
         ],
         "y": [
          302.6033248738718,
          302.6033248738718
         ]
        },
        {
         "line": {
          "color": "red"
         },
         "mode": "lines",
         "name": "SuperTrend Downtrend",
         "showlegend": false,
         "type": "scatter",
         "x": [
          "2023-05-19T10:37:00+05:30",
          "2023-05-19T10:38:00+05:30"
         ],
         "y": [
          302.6033248738718,
          302.6033248738718
         ]
        },
        {
         "line": {
          "color": "red"
         },
         "mode": "lines",
         "name": "SuperTrend Downtrend",
         "showlegend": false,
         "type": "scatter",
         "x": [
          "2023-05-19T10:38:00+05:30",
          "2023-05-19T10:39:00+05:30"
         ],
         "y": [
          302.6033248738718,
          302.6033248738718
         ]
        },
        {
         "line": {
          "color": "red"
         },
         "mode": "lines",
         "name": "SuperTrend Downtrend",
         "showlegend": false,
         "type": "scatter",
         "x": [
          "2023-05-19T10:39:00+05:30",
          "2023-05-19T10:40:00+05:30"
         ],
         "y": [
          302.6033248738718,
          302.6033248738718
         ]
        },
        {
         "line": {
          "color": "red"
         },
         "mode": "lines",
         "name": "SuperTrend Downtrend",
         "showlegend": false,
         "type": "scatter",
         "x": [
          "2023-05-19T10:40:00+05:30",
          "2023-05-19T10:41:00+05:30"
         ],
         "y": [
          302.6033248738718,
          302.6033248738718
         ]
        },
        {
         "line": {
          "color": "red"
         },
         "mode": "lines",
         "name": "SuperTrend Downtrend",
         "showlegend": false,
         "type": "scatter",
         "x": [
          "2023-05-19T10:41:00+05:30",
          "2023-05-19T10:42:00+05:30"
         ],
         "y": [
          302.6033248738718,
          302.6033248738718
         ]
        },
        {
         "line": {
          "color": "red"
         },
         "mode": "lines",
         "name": "SuperTrend Downtrend",
         "showlegend": false,
         "type": "scatter",
         "x": [
          "2023-05-19T10:42:00+05:30",
          "2023-05-19T10:43:00+05:30"
         ],
         "y": [
          302.6033248738718,
          302.6033248738718
         ]
        },
        {
         "line": {
          "color": "red"
         },
         "mode": "lines",
         "name": "SuperTrend Downtrend",
         "showlegend": false,
         "type": "scatter",
         "x": [
          "2023-05-19T10:43:00+05:30",
          "2023-05-19T10:44:00+05:30"
         ],
         "y": [
          302.6033248738718,
          302.6033248738718
         ]
        },
        {
         "line": {
          "color": "red"
         },
         "mode": "lines",
         "name": "SuperTrend Downtrend",
         "showlegend": false,
         "type": "scatter",
         "x": [
          "2023-05-19T10:44:00+05:30",
          "2023-05-19T10:45:00+05:30"
         ],
         "y": [
          302.6033248738718,
          302.6033248738718
         ]
        },
        {
         "line": {
          "color": "red"
         },
         "mode": "lines",
         "name": "SuperTrend Downtrend",
         "showlegend": false,
         "type": "scatter",
         "x": [
          "2023-05-19T10:45:00+05:30",
          "2023-05-19T10:46:00+05:30"
         ],
         "y": [
          302.6033248738718,
          302.6033248738718
         ]
        },
        {
         "line": {
          "color": "red"
         },
         "mode": "lines",
         "name": "SuperTrend Downtrend",
         "showlegend": false,
         "type": "scatter",
         "x": [
          "2023-05-19T10:46:00+05:30",
          "2023-05-19T10:47:00+05:30"
         ],
         "y": [
          302.6033248738718,
          302.6033248738718
         ]
        },
        {
         "line": {
          "color": "red"
         },
         "mode": "lines",
         "name": "SuperTrend Downtrend",
         "showlegend": false,
         "type": "scatter",
         "x": [
          "2023-05-19T10:47:00+05:30",
          "2023-05-19T10:48:00+05:30"
         ],
         "y": [
          302.6033248738718,
          302.6033248738718
         ]
        },
        {
         "line": {
          "color": "red"
         },
         "mode": "lines",
         "name": "SuperTrend Downtrend",
         "showlegend": false,
         "type": "scatter",
         "x": [
          "2023-05-19T10:48:00+05:30",
          "2023-05-19T10:49:00+05:30"
         ],
         "y": [
          302.6033248738718,
          302.6033248738718
         ]
        },
        {
         "line": {
          "color": "red"
         },
         "mode": "lines",
         "name": "SuperTrend Downtrend",
         "showlegend": false,
         "type": "scatter",
         "x": [
          "2023-05-19T10:49:00+05:30",
          "2023-05-19T10:50:00+05:30"
         ],
         "y": [
          302.6033248738718,
          302.6033248738718
         ]
        },
        {
         "line": {
          "color": "red"
         },
         "mode": "lines",
         "name": "SuperTrend Downtrend",
         "showlegend": false,
         "type": "scatter",
         "x": [
          "2023-05-19T10:50:00+05:30",
          "2023-05-19T10:51:00+05:30"
         ],
         "y": [
          302.6033248738718,
          302.6033248738718
         ]
        },
        {
         "line": {
          "color": "red"
         },
         "mode": "lines",
         "name": "SuperTrend Downtrend",
         "showlegend": false,
         "type": "scatter",
         "x": [
          "2023-05-19T10:51:00+05:30",
          "2023-05-19T10:52:00+05:30"
         ],
         "y": [
          302.6033248738718,
          302.6033248738718
         ]
        },
        {
         "line": {
          "color": "red"
         },
         "mode": "lines",
         "name": "SuperTrend Downtrend",
         "showlegend": false,
         "type": "scatter",
         "x": [
          "2023-05-19T10:52:00+05:30",
          "2023-05-19T10:53:00+05:30"
         ],
         "y": [
          302.6033248738718,
          302.6033248738718
         ]
        },
        {
         "line": {
          "color": "red"
         },
         "mode": "lines",
         "name": "SuperTrend Downtrend",
         "showlegend": false,
         "type": "scatter",
         "x": [
          "2023-05-19T10:53:00+05:30",
          "2023-05-19T10:54:00+05:30"
         ],
         "y": [
          302.6033248738718,
          302.6033248738718
         ]
        },
        {
         "line": {
          "color": "red"
         },
         "mode": "lines",
         "name": "SuperTrend Downtrend",
         "showlegend": false,
         "type": "scatter",
         "x": [
          "2023-05-19T10:54:00+05:30",
          "2023-05-19T10:55:00+05:30"
         ],
         "y": [
          302.6033248738718,
          302.6033248738718
         ]
        },
        {
         "line": {
          "color": "red"
         },
         "mode": "lines",
         "name": "SuperTrend Downtrend",
         "showlegend": false,
         "type": "scatter",
         "x": [
          "2023-05-19T10:55:00+05:30",
          "2023-05-19T10:56:00+05:30"
         ],
         "y": [
          302.6033248738718,
          302.6033248738718
         ]
        },
        {
         "line": {
          "color": "red"
         },
         "mode": "lines",
         "name": "SuperTrend Downtrend",
         "showlegend": false,
         "type": "scatter",
         "x": [
          "2023-05-19T10:56:00+05:30",
          "2023-05-19T10:57:00+05:30"
         ],
         "y": [
          302.6033248738718,
          302.6033248738718
         ]
        },
        {
         "line": {
          "color": "red"
         },
         "mode": "lines",
         "name": "SuperTrend Downtrend",
         "showlegend": false,
         "type": "scatter",
         "x": [
          "2023-05-19T10:57:00+05:30",
          "2023-05-19T10:58:00+05:30"
         ],
         "y": [
          302.6033248738718,
          302.6033248738718
         ]
        },
        {
         "line": {
          "color": "red"
         },
         "mode": "lines",
         "name": "SuperTrend Downtrend",
         "showlegend": false,
         "type": "scatter",
         "x": [
          "2023-05-19T10:58:00+05:30",
          "2023-05-19T10:59:00+05:30"
         ],
         "y": [
          302.6033248738718,
          302.6033248738718
         ]
        },
        {
         "line": {
          "color": "red"
         },
         "mode": "lines",
         "name": "SuperTrend Downtrend",
         "showlegend": false,
         "type": "scatter",
         "x": [
          "2023-05-19T10:59:00+05:30",
          "2023-05-19T11:00:00+05:30"
         ],
         "y": [
          302.6033248738718,
          302.6033248738718
         ]
        },
        {
         "line": {
          "color": "red"
         },
         "mode": "lines",
         "name": "SuperTrend Downtrend",
         "showlegend": false,
         "type": "scatter",
         "x": [
          "2023-05-19T11:00:00+05:30",
          "2023-05-19T11:01:00+05:30"
         ],
         "y": [
          302.6033248738718,
          302.6033248738718
         ]
        },
        {
         "line": {
          "color": "red"
         },
         "mode": "lines",
         "name": "SuperTrend Downtrend",
         "showlegend": false,
         "type": "scatter",
         "x": [
          "2023-05-19T11:01:00+05:30",
          "2023-05-19T11:02:00+05:30"
         ],
         "y": [
          302.6033248738718,
          302.6033248738718
         ]
        },
        {
         "line": {
          "color": "red"
         },
         "mode": "lines",
         "name": "SuperTrend Downtrend",
         "showlegend": false,
         "type": "scatter",
         "x": [
          "2023-05-19T11:02:00+05:30",
          "2023-05-19T11:03:00+05:30"
         ],
         "y": [
          302.6033248738718,
          302.6033248738718
         ]
        },
        {
         "line": {
          "color": "red"
         },
         "mode": "lines",
         "name": "SuperTrend Downtrend",
         "showlegend": false,
         "type": "scatter",
         "x": [
          "2023-05-19T11:03:00+05:30",
          "2023-05-19T11:04:00+05:30"
         ],
         "y": [
          302.6033248738718,
          302.6033248738718
         ]
        },
        {
         "line": {
          "color": "red"
         },
         "mode": "lines",
         "name": "SuperTrend Downtrend",
         "showlegend": false,
         "type": "scatter",
         "x": [
          "2023-05-19T11:04:00+05:30",
          "2023-05-19T11:05:00+05:30"
         ],
         "y": [
          302.6033248738718,
          301.9122225011595
         ]
        },
        {
         "line": {
          "color": "red"
         },
         "mode": "lines",
         "name": "SuperTrend Downtrend",
         "showlegend": false,
         "type": "scatter",
         "x": [
          "2023-05-19T11:05:00+05:30",
          "2023-05-19T11:06:00+05:30"
         ],
         "y": [
          301.9122225011595,
          291.7591668758697
         ]
        },
        {
         "line": {
          "color": "red"
         },
         "mode": "lines",
         "name": "SuperTrend Downtrend",
         "showlegend": false,
         "type": "scatter",
         "x": [
          "2023-05-19T11:06:00+05:30",
          "2023-05-19T11:07:00+05:30"
         ],
         "y": [
          291.7591668758697,
          291.7591668758697
         ]
        },
        {
         "line": {
          "color": "red"
         },
         "mode": "lines",
         "name": "SuperTrend Downtrend",
         "showlegend": false,
         "type": "scatter",
         "x": [
          "2023-05-19T11:07:00+05:30",
          "2023-05-19T11:08:00+05:30"
         ],
         "y": [
          291.7591668758697,
          287.6832813676766
         ]
        },
        {
         "line": {
          "color": "red"
         },
         "mode": "lines",
         "name": "SuperTrend Downtrend",
         "showlegend": false,
         "type": "scatter",
         "x": [
          "2023-05-19T11:08:00+05:30",
          "2023-05-19T11:09:00+05:30"
         ],
         "y": [
          287.6832813676766,
          287.6832813676766
         ]
        },
        {
         "line": {
          "color": "red"
         },
         "mode": "lines",
         "name": "SuperTrend Downtrend",
         "showlegend": false,
         "type": "scatter",
         "x": [
          "2023-05-19T11:09:00+05:30",
          "2023-05-19T11:10:00+05:30"
         ],
         "y": [
          287.6832813676766,
          287.6832813676766
         ]
        },
        {
         "line": {
          "color": "red"
         },
         "mode": "lines",
         "name": "SuperTrend Downtrend",
         "showlegend": false,
         "type": "scatter",
         "x": [
          "2023-05-19T11:10:00+05:30",
          "2023-05-19T11:11:00+05:30"
         ],
         "y": [
          287.6832813676766,
          287.6832813676766
         ]
        },
        {
         "line": {
          "color": "red"
         },
         "mode": "lines",
         "name": "SuperTrend Downtrend",
         "showlegend": false,
         "type": "scatter",
         "x": [
          "2023-05-19T11:11:00+05:30",
          "2023-05-19T11:12:00+05:30"
         ],
         "y": [
          287.6832813676766,
          287.6832813676766
         ]
        },
        {
         "line": {
          "color": "red"
         },
         "mode": "lines",
         "name": "SuperTrend Downtrend",
         "showlegend": false,
         "type": "scatter",
         "x": [
          "2023-05-19T11:12:00+05:30",
          "2023-05-19T11:13:00+05:30"
         ],
         "y": [
          287.6832813676766,
          287.6832813676766
         ]
        },
        {
         "line": {
          "color": "red"
         },
         "mode": "lines",
         "name": "SuperTrend Downtrend",
         "showlegend": false,
         "type": "scatter",
         "x": [
          "2023-05-19T11:13:00+05:30",
          "2023-05-19T11:14:00+05:30"
         ],
         "y": [
          287.6832813676766,
          287.6832813676766
         ]
        },
        {
         "line": {
          "color": "red"
         },
         "mode": "lines",
         "name": "SuperTrend Downtrend",
         "showlegend": false,
         "type": "scatter",
         "x": [
          "2023-05-19T11:14:00+05:30",
          "2023-05-19T11:15:00+05:30"
         ],
         "y": [
          287.6832813676766,
          287.6832813676766
         ]
        },
        {
         "line": {
          "color": "red"
         },
         "mode": "lines",
         "name": "SuperTrend Downtrend",
         "showlegend": false,
         "type": "scatter",
         "x": [
          "2023-05-19T11:15:00+05:30",
          "2023-05-19T11:16:00+05:30"
         ],
         "y": [
          287.6832813676766,
          287.6832813676766
         ]
        },
        {
         "line": {
          "color": "red"
         },
         "mode": "lines",
         "name": "SuperTrend Downtrend",
         "showlegend": false,
         "type": "scatter",
         "x": [
          "2023-05-19T11:16:00+05:30",
          "2023-05-19T11:17:00+05:30"
         ],
         "y": [
          287.6832813676766,
          287.6832813676766
         ]
        },
        {
         "line": {
          "color": "red"
         },
         "mode": "lines",
         "name": "SuperTrend Downtrend",
         "showlegend": false,
         "type": "scatter",
         "x": [
          "2023-05-19T11:17:00+05:30",
          "2023-05-19T11:18:00+05:30"
         ],
         "y": [
          287.6832813676766,
          287.6832813676766
         ]
        },
        {
         "line": {
          "color": "red"
         },
         "mode": "lines",
         "name": "SuperTrend Downtrend",
         "showlegend": false,
         "type": "scatter",
         "x": [
          "2023-05-19T11:18:00+05:30",
          "2023-05-19T11:19:00+05:30"
         ],
         "y": [
          287.6832813676766,
          287.6832813676766
         ]
        },
        {
         "line": {
          "color": "red"
         },
         "mode": "lines",
         "name": "SuperTrend Downtrend",
         "showlegend": false,
         "type": "scatter",
         "x": [
          "2023-05-19T11:19:00+05:30",
          "2023-05-19T11:20:00+05:30"
         ],
         "y": [
          287.6832813676766,
          287.6832813676766
         ]
        },
        {
         "line": {
          "color": "red"
         },
         "mode": "lines",
         "name": "SuperTrend Downtrend",
         "showlegend": false,
         "type": "scatter",
         "x": [
          "2023-05-19T11:20:00+05:30",
          "2023-05-19T11:21:00+05:30"
         ],
         "y": [
          287.6832813676766,
          287.6832813676766
         ]
        },
        {
         "line": {
          "color": "red"
         },
         "mode": "lines",
         "name": "SuperTrend Downtrend",
         "showlegend": false,
         "type": "scatter",
         "x": [
          "2023-05-19T11:21:00+05:30",
          "2023-05-19T11:22:00+05:30"
         ],
         "y": [
          287.6832813676766,
          287.6832813676766
         ]
        },
        {
         "line": {
          "color": "red"
         },
         "mode": "lines",
         "name": "SuperTrend Downtrend",
         "showlegend": false,
         "type": "scatter",
         "x": [
          "2023-05-19T11:22:00+05:30",
          "2023-05-19T11:23:00+05:30"
         ],
         "y": [
          287.6832813676766,
          287.6832813676766
         ]
        },
        {
         "line": {
          "color": "red"
         },
         "mode": "lines",
         "name": "SuperTrend Downtrend",
         "showlegend": false,
         "type": "scatter",
         "x": [
          "2023-05-19T11:23:00+05:30",
          "2023-05-19T11:24:00+05:30"
         ],
         "y": [
          287.6832813676766,
          287.6832813676766
         ]
        },
        {
         "line": {
          "color": "red"
         },
         "mode": "lines",
         "name": "SuperTrend Downtrend",
         "showlegend": false,
         "type": "scatter",
         "x": [
          "2023-05-19T11:24:00+05:30",
          "2023-05-19T11:25:00+05:30"
         ],
         "y": [
          287.6832813676766,
          287.6832813676766
         ]
        },
        {
         "line": {
          "color": "red"
         },
         "mode": "lines",
         "name": "SuperTrend Downtrend",
         "showlegend": false,
         "type": "scatter",
         "x": [
          "2023-05-19T11:25:00+05:30",
          "2023-05-19T11:26:00+05:30"
         ],
         "y": [
          287.6832813676766,
          287.6832813676766
         ]
        },
        {
         "line": {
          "color": "red"
         },
         "mode": "lines",
         "name": "SuperTrend Downtrend",
         "showlegend": false,
         "type": "scatter",
         "x": [
          "2023-05-19T11:26:00+05:30",
          "2023-05-19T11:27:00+05:30"
         ],
         "y": [
          287.6832813676766,
          287.6832813676766
         ]
        },
        {
         "line": {
          "color": "red"
         },
         "mode": "lines",
         "name": "SuperTrend Downtrend",
         "showlegend": false,
         "type": "scatter",
         "x": [
          "2023-05-19T11:27:00+05:30",
          "2023-05-19T11:28:00+05:30"
         ],
         "y": [
          287.6832813676766,
          287.6832813676766
         ]
        },
        {
         "line": {
          "color": "red"
         },
         "mode": "lines",
         "name": "SuperTrend Downtrend",
         "showlegend": false,
         "type": "scatter",
         "x": [
          "2023-05-19T11:28:00+05:30",
          "2023-05-19T11:29:00+05:30"
         ],
         "y": [
          287.6832813676766,
          287.6832813676766
         ]
        },
        {
         "line": {
          "color": "red"
         },
         "mode": "lines",
         "name": "SuperTrend Downtrend",
         "showlegend": false,
         "type": "scatter",
         "x": [
          "2023-05-19T11:29:00+05:30",
          "2023-05-19T11:30:00+05:30"
         ],
         "y": [
          287.6832813676766,
          287.6832813676766
         ]
        },
        {
         "line": {
          "color": "red"
         },
         "mode": "lines",
         "name": "SuperTrend Downtrend",
         "showlegend": false,
         "type": "scatter",
         "x": [
          "2023-05-19T11:30:00+05:30",
          "2023-05-19T11:31:00+05:30"
         ],
         "y": [
          287.6832813676766,
          287.6832813676766
         ]
        },
        {
         "line": {
          "color": "red"
         },
         "mode": "lines",
         "name": "SuperTrend Downtrend",
         "showlegend": false,
         "type": "scatter",
         "x": [
          "2023-05-19T11:31:00+05:30",
          "2023-05-19T11:32:00+05:30"
         ],
         "y": [
          287.6832813676766,
          287.6832813676766
         ]
        },
        {
         "line": {
          "color": "red"
         },
         "mode": "lines",
         "name": "SuperTrend Downtrend",
         "showlegend": false,
         "type": "scatter",
         "x": [
          "2023-05-19T11:32:00+05:30",
          "2023-05-19T11:33:00+05:30"
         ],
         "y": [
          287.6832813676766,
          287.6832813676766
         ]
        },
        {
         "line": {
          "color": "red"
         },
         "mode": "lines",
         "name": "SuperTrend Downtrend",
         "showlegend": false,
         "type": "scatter",
         "x": [
          "2023-05-19T11:33:00+05:30",
          "2023-05-19T11:34:00+05:30"
         ],
         "y": [
          287.6832813676766,
          287.6832813676766
         ]
        },
        {
         "line": {
          "color": "red"
         },
         "mode": "lines",
         "name": "SuperTrend Downtrend",
         "showlegend": false,
         "type": "scatter",
         "x": [
          "2023-05-19T11:34:00+05:30",
          "2023-05-19T11:35:00+05:30"
         ],
         "y": [
          287.6832813676766,
          287.6832813676766
         ]
        },
        {
         "line": {
          "color": "red"
         },
         "mode": "lines",
         "name": "SuperTrend Downtrend",
         "showlegend": false,
         "type": "scatter",
         "x": [
          "2023-05-19T11:35:00+05:30",
          "2023-05-19T11:36:00+05:30"
         ],
         "y": [
          287.6832813676766,
          287.6832813676766
         ]
        },
        {
         "line": {
          "color": "red"
         },
         "mode": "lines",
         "name": "SuperTrend Downtrend",
         "showlegend": false,
         "type": "scatter",
         "x": [
          "2023-05-19T11:36:00+05:30",
          "2023-05-19T11:37:00+05:30"
         ],
         "y": [
          287.6832813676766,
          287.6832813676766
         ]
        },
        {
         "line": {
          "color": "red"
         },
         "mode": "lines",
         "name": "SuperTrend Downtrend",
         "showlegend": false,
         "type": "scatter",
         "x": [
          "2023-05-19T11:37:00+05:30",
          "2023-05-19T11:38:00+05:30"
         ],
         "y": [
          287.6832813676766,
          287.6832813676766
         ]
        },
        {
         "line": {
          "color": "red"
         },
         "mode": "lines",
         "name": "SuperTrend Downtrend",
         "showlegend": false,
         "type": "scatter",
         "x": [
          "2023-05-19T11:38:00+05:30",
          "2023-05-19T11:39:00+05:30"
         ],
         "y": [
          287.6832813676766,
          287.6832813676766
         ]
        },
        {
         "line": {
          "color": "red"
         },
         "mode": "lines",
         "name": "SuperTrend Downtrend",
         "showlegend": false,
         "type": "scatter",
         "x": [
          "2023-05-19T11:39:00+05:30",
          "2023-05-19T11:40:00+05:30"
         ],
         "y": [
          287.6832813676766,
          287.6832813676766
         ]
        },
        {
         "line": {
          "color": "red"
         },
         "mode": "lines",
         "name": "SuperTrend Downtrend",
         "showlegend": false,
         "type": "scatter",
         "x": [
          "2023-05-19T11:40:00+05:30",
          "2023-05-19T11:41:00+05:30"
         ],
         "y": [
          287.6832813676766,
          287.6832813676766
         ]
        },
        {
         "line": {
          "color": "red"
         },
         "mode": "lines",
         "name": "SuperTrend Downtrend",
         "showlegend": false,
         "type": "scatter",
         "x": [
          "2023-05-19T11:41:00+05:30",
          "2023-05-19T11:42:00+05:30"
         ],
         "y": [
          287.6832813676766,
          287.6832813676766
         ]
        },
        {
         "line": {
          "color": "red"
         },
         "mode": "lines",
         "name": "SuperTrend Downtrend",
         "showlegend": false,
         "type": "scatter",
         "x": [
          "2023-05-19T11:42:00+05:30",
          "2023-05-19T11:43:00+05:30"
         ],
         "y": [
          287.6832813676766,
          287.6832813676766
         ]
        },
        {
         "line": {
          "color": "red"
         },
         "mode": "lines",
         "name": "SuperTrend Downtrend",
         "showlegend": false,
         "type": "scatter",
         "x": [
          "2023-05-19T11:43:00+05:30",
          "2023-05-19T11:44:00+05:30"
         ],
         "y": [
          287.6832813676766,
          287.6832813676766
         ]
        },
        {
         "line": {
          "color": "red"
         },
         "mode": "lines",
         "name": "SuperTrend Downtrend",
         "showlegend": false,
         "type": "scatter",
         "x": [
          "2023-05-19T11:44:00+05:30",
          "2023-05-19T11:45:00+05:30"
         ],
         "y": [
          287.6832813676766,
          287.6832813676766
         ]
        },
        {
         "line": {
          "color": "red"
         },
         "mode": "lines",
         "name": "SuperTrend Downtrend",
         "showlegend": false,
         "type": "scatter",
         "x": [
          "2023-05-19T11:45:00+05:30",
          "2023-05-19T11:46:00+05:30"
         ],
         "y": [
          287.6832813676766,
          287.6832813676766
         ]
        },
        {
         "line": {
          "color": "red"
         },
         "mode": "lines",
         "name": "SuperTrend Downtrend",
         "showlegend": false,
         "type": "scatter",
         "x": [
          "2023-05-19T11:46:00+05:30",
          "2023-05-19T11:47:00+05:30"
         ],
         "y": [
          287.6832813676766,
          287.6832813676766
         ]
        },
        {
         "line": {
          "color": "red"
         },
         "mode": "lines",
         "name": "SuperTrend Downtrend",
         "showlegend": false,
         "type": "scatter",
         "x": [
          "2023-05-19T11:47:00+05:30",
          "2023-05-19T11:48:00+05:30"
         ],
         "y": [
          287.6832813676766,
          287.6832813676766
         ]
        },
        {
         "line": {
          "color": "red"
         },
         "mode": "lines",
         "name": "SuperTrend Downtrend",
         "showlegend": false,
         "type": "scatter",
         "x": [
          "2023-05-19T11:48:00+05:30",
          "2023-05-19T11:49:00+05:30"
         ],
         "y": [
          287.6832813676766,
          287.6832813676766
         ]
        },
        {
         "line": {
          "color": "red"
         },
         "mode": "lines",
         "name": "SuperTrend Downtrend",
         "showlegend": false,
         "type": "scatter",
         "x": [
          "2023-05-19T11:49:00+05:30",
          "2023-05-19T11:50:00+05:30"
         ],
         "y": [
          287.6832813676766,
          287.6832813676766
         ]
        },
        {
         "line": {
          "color": "red"
         },
         "mode": "lines",
         "name": "SuperTrend Downtrend",
         "showlegend": false,
         "type": "scatter",
         "x": [
          "2023-05-19T11:50:00+05:30",
          "2023-05-19T11:51:00+05:30"
         ],
         "y": [
          287.6832813676766,
          287.6832813676766
         ]
        },
        {
         "line": {
          "color": "red"
         },
         "mode": "lines",
         "name": "SuperTrend Downtrend",
         "showlegend": false,
         "type": "scatter",
         "x": [
          "2023-05-19T11:51:00+05:30",
          "2023-05-19T11:52:00+05:30"
         ],
         "y": [
          287.6832813676766,
          287.6832813676766
         ]
        },
        {
         "line": {
          "color": "red"
         },
         "mode": "lines",
         "name": "SuperTrend Downtrend",
         "showlegend": false,
         "type": "scatter",
         "x": [
          "2023-05-19T11:52:00+05:30",
          "2023-05-19T11:53:00+05:30"
         ],
         "y": [
          287.6832813676766,
          287.6832813676766
         ]
        },
        {
         "line": {
          "color": "red"
         },
         "mode": "lines",
         "name": "SuperTrend Downtrend",
         "showlegend": false,
         "type": "scatter",
         "x": [
          "2023-05-19T11:53:00+05:30",
          "2023-05-19T11:54:00+05:30"
         ],
         "y": [
          287.6832813676766,
          287.6832813676766
         ]
        },
        {
         "line": {
          "color": "red"
         },
         "mode": "lines",
         "name": "SuperTrend Downtrend",
         "showlegend": false,
         "type": "scatter",
         "x": [
          "2023-05-19T11:54:00+05:30",
          "2023-05-19T11:55:00+05:30"
         ],
         "y": [
          287.6832813676766,
          287.6832813676766
         ]
        },
        {
         "line": {
          "color": "red"
         },
         "mode": "lines",
         "name": "SuperTrend Downtrend",
         "showlegend": false,
         "type": "scatter",
         "x": [
          "2023-05-19T11:55:00+05:30",
          "2023-05-19T11:56:00+05:30"
         ],
         "y": [
          287.6832813676766,
          287.6832813676766
         ]
        },
        {
         "line": {
          "color": "red"
         },
         "mode": "lines",
         "name": "SuperTrend Downtrend",
         "showlegend": false,
         "type": "scatter",
         "x": [
          "2023-05-19T11:56:00+05:30",
          "2023-05-19T11:57:00+05:30"
         ],
         "y": [
          287.6832813676766,
          287.6832813676766
         ]
        },
        {
         "line": {
          "color": "red"
         },
         "mode": "lines",
         "name": "SuperTrend Downtrend",
         "showlegend": false,
         "type": "scatter",
         "x": [
          "2023-05-19T11:57:00+05:30",
          "2023-05-19T11:58:00+05:30"
         ],
         "y": [
          287.6832813676766,
          286.80261200495045
         ]
        },
        {
         "line": {
          "color": "red"
         },
         "mode": "lines",
         "name": "SuperTrend Downtrend",
         "showlegend": false,
         "type": "scatter",
         "x": [
          "2023-05-19T11:58:00+05:30",
          "2023-05-19T11:59:00+05:30"
         ],
         "y": [
          286.80261200495045,
          286.80261200495045
         ]
        },
        {
         "line": {
          "color": "red"
         },
         "mode": "lines",
         "name": "SuperTrend Downtrend",
         "showlegend": false,
         "type": "scatter",
         "x": [
          "2023-05-19T11:59:00+05:30",
          "2023-05-19T12:00:00+05:30"
         ],
         "y": [
          286.80261200495045,
          286.80261200495045
         ]
        },
        {
         "line": {
          "color": "red"
         },
         "mode": "lines",
         "name": "SuperTrend Downtrend",
         "showlegend": false,
         "type": "scatter",
         "x": [
          "2023-05-19T12:00:00+05:30",
          "2023-05-19T12:01:00+05:30"
         ],
         "y": [
          286.80261200495045,
          286.80261200495045
         ]
        },
        {
         "line": {
          "color": "red"
         },
         "mode": "lines",
         "name": "SuperTrend Downtrend",
         "showlegend": false,
         "type": "scatter",
         "x": [
          "2023-05-19T12:01:00+05:30",
          "2023-05-19T12:02:00+05:30"
         ],
         "y": [
          286.80261200495045,
          286.80261200495045
         ]
        },
        {
         "line": {
          "color": "red"
         },
         "mode": "lines",
         "name": "SuperTrend Downtrend",
         "showlegend": false,
         "type": "scatter",
         "x": [
          "2023-05-19T12:02:00+05:30",
          "2023-05-19T12:03:00+05:30"
         ],
         "y": [
          286.80261200495045,
          286.80261200495045
         ]
        },
        {
         "line": {
          "color": "red"
         },
         "mode": "lines",
         "name": "SuperTrend Downtrend",
         "showlegend": false,
         "type": "scatter",
         "x": [
          "2023-05-19T12:03:00+05:30",
          "2023-05-19T12:04:00+05:30"
         ],
         "y": [
          286.80261200495045,
          286.80261200495045
         ]
        },
        {
         "line": {
          "color": "red"
         },
         "mode": "lines",
         "name": "SuperTrend Downtrend",
         "showlegend": false,
         "type": "scatter",
         "x": [
          "2023-05-19T12:04:00+05:30",
          "2023-05-19T12:05:00+05:30"
         ],
         "y": [
          286.80261200495045,
          286.80261200495045
         ]
        },
        {
         "line": {
          "color": "red"
         },
         "mode": "lines",
         "name": "SuperTrend Downtrend",
         "showlegend": false,
         "type": "scatter",
         "x": [
          "2023-05-19T12:05:00+05:30",
          "2023-05-19T12:06:00+05:30"
         ],
         "y": [
          286.80261200495045,
          286.80261200495045
         ]
        },
        {
         "line": {
          "color": "red"
         },
         "mode": "lines",
         "name": "SuperTrend Downtrend",
         "showlegend": false,
         "type": "scatter",
         "x": [
          "2023-05-19T12:06:00+05:30",
          "2023-05-19T12:07:00+05:30"
         ],
         "y": [
          286.80261200495045,
          286.80261200495045
         ]
        },
        {
         "line": {
          "color": "red"
         },
         "mode": "lines",
         "name": "SuperTrend Downtrend",
         "showlegend": false,
         "type": "scatter",
         "x": [
          "2023-05-19T12:07:00+05:30",
          "2023-05-19T12:08:00+05:30"
         ],
         "y": [
          286.80261200495045,
          286.80261200495045
         ]
        },
        {
         "line": {
          "color": "red"
         },
         "mode": "lines",
         "name": "SuperTrend Downtrend",
         "showlegend": false,
         "type": "scatter",
         "x": [
          "2023-05-19T12:08:00+05:30",
          "2023-05-19T12:09:00+05:30"
         ],
         "y": [
          286.80261200495045,
          286.80261200495045
         ]
        },
        {
         "line": {
          "color": "red"
         },
         "mode": "lines",
         "name": "SuperTrend Downtrend",
         "showlegend": false,
         "type": "scatter",
         "x": [
          "2023-05-19T12:09:00+05:30",
          "2023-05-19T12:10:00+05:30"
         ],
         "y": [
          286.80261200495045,
          279.4445430026366
         ]
        },
        {
         "line": {
          "color": "red"
         },
         "mode": "lines",
         "name": "SuperTrend Downtrend",
         "showlegend": false,
         "type": "scatter",
         "x": [
          "2023-05-19T12:10:00+05:30",
          "2023-05-19T12:11:00+05:30"
         ],
         "y": [
          279.4445430026366,
          279.4445430026366
         ]
        },
        {
         "line": {
          "color": "red"
         },
         "mode": "lines",
         "name": "SuperTrend Downtrend",
         "showlegend": false,
         "type": "scatter",
         "x": [
          "2023-05-19T12:11:00+05:30",
          "2023-05-19T12:12:00+05:30"
         ],
         "y": [
          279.4445430026366,
          279.4445430026366
         ]
        },
        {
         "line": {
          "color": "red"
         },
         "mode": "lines",
         "name": "SuperTrend Downtrend",
         "showlegend": false,
         "type": "scatter",
         "x": [
          "2023-05-19T12:12:00+05:30",
          "2023-05-19T12:13:00+05:30"
         ],
         "y": [
          279.4445430026366,
          278.24457282923726
         ]
        },
        {
         "line": {
          "color": "red"
         },
         "mode": "lines",
         "name": "SuperTrend Downtrend",
         "showlegend": false,
         "type": "scatter",
         "x": [
          "2023-05-19T12:13:00+05:30",
          "2023-05-19T12:14:00+05:30"
         ],
         "y": [
          278.24457282923726,
          277.6521796219281
         ]
        },
        {
         "line": {
          "color": "red"
         },
         "mode": "lines",
         "name": "SuperTrend Downtrend",
         "showlegend": false,
         "type": "scatter",
         "x": [
          "2023-05-19T12:14:00+05:30",
          "2023-05-19T12:15:00+05:30"
         ],
         "y": [
          277.6521796219281,
          277.6521796219281
         ]
        },
        {
         "line": {
          "color": "red"
         },
         "mode": "lines",
         "name": "SuperTrend Downtrend",
         "showlegend": false,
         "type": "scatter",
         "x": [
          "2023-05-19T12:15:00+05:30",
          "2023-05-19T12:16:00+05:30"
         ],
         "y": [
          277.6521796219281,
          277.6521796219281
         ]
        },
        {
         "line": {
          "color": "red"
         },
         "mode": "lines",
         "name": "SuperTrend Downtrend",
         "showlegend": false,
         "type": "scatter",
         "x": [
          "2023-05-19T12:16:00+05:30",
          "2023-05-19T12:17:00+05:30"
         ],
         "y": [
          277.6521796219281,
          273.3591226530009
         ]
        },
        {
         "line": {
          "color": "red"
         },
         "mode": "lines",
         "name": "SuperTrend Downtrend",
         "showlegend": false,
         "type": "scatter",
         "x": [
          "2023-05-19T12:17:00+05:30",
          "2023-05-19T12:18:00+05:30"
         ],
         "y": [
          273.3591226530009,
          273.3591226530009
         ]
        },
        {
         "line": {
          "color": "red"
         },
         "mode": "lines",
         "name": "SuperTrend Downtrend",
         "showlegend": false,
         "type": "scatter",
         "x": [
          "2023-05-19T12:18:00+05:30",
          "2023-05-19T12:19:00+05:30"
         ],
         "y": [
          273.3591226530009,
          273.3591226530009
         ]
        },
        {
         "line": {
          "color": "red"
         },
         "mode": "lines",
         "name": "SuperTrend Downtrend",
         "showlegend": false,
         "type": "scatter",
         "x": [
          "2023-05-19T12:19:00+05:30",
          "2023-05-19T12:20:00+05:30"
         ],
         "y": [
          273.3591226530009,
          273.3591226530009
         ]
        },
        {
         "line": {
          "color": "red"
         },
         "mode": "lines",
         "name": "SuperTrend Downtrend",
         "showlegend": false,
         "type": "scatter",
         "x": [
          "2023-05-19T12:20:00+05:30",
          "2023-05-19T12:21:00+05:30"
         ],
         "y": [
          273.3591226530009,
          273.3591226530009
         ]
        },
        {
         "line": {
          "color": "red"
         },
         "mode": "lines",
         "name": "SuperTrend Downtrend",
         "showlegend": false,
         "type": "scatter",
         "x": [
          "2023-05-19T12:21:00+05:30",
          "2023-05-19T12:22:00+05:30"
         ],
         "y": [
          273.3591226530009,
          273.3591226530009
         ]
        },
        {
         "line": {
          "color": "red"
         },
         "mode": "lines",
         "name": "SuperTrend Downtrend",
         "showlegend": false,
         "type": "scatter",
         "x": [
          "2023-05-19T12:22:00+05:30",
          "2023-05-19T12:23:00+05:30"
         ],
         "y": [
          273.3591226530009,
          273.3591226530009
         ]
        },
        {
         "line": {
          "color": "red"
         },
         "mode": "lines",
         "name": "SuperTrend Downtrend",
         "showlegend": false,
         "type": "scatter",
         "x": [
          "2023-05-19T12:23:00+05:30",
          "2023-05-19T12:24:00+05:30"
         ],
         "y": [
          273.3591226530009,
          273.3591226530009
         ]
        },
        {
         "line": {
          "color": "red"
         },
         "mode": "lines",
         "name": "SuperTrend Downtrend",
         "showlegend": false,
         "type": "scatter",
         "x": [
          "2023-05-19T12:24:00+05:30",
          "2023-05-19T12:25:00+05:30"
         ],
         "y": [
          273.3591226530009,
          273.3591226530009
         ]
        },
        {
         "line": {
          "color": "red"
         },
         "mode": "lines",
         "name": "SuperTrend Downtrend",
         "showlegend": false,
         "type": "scatter",
         "x": [
          "2023-05-19T12:25:00+05:30",
          "2023-05-19T12:26:00+05:30"
         ],
         "y": [
          273.3591226530009,
          273.3591226530009
         ]
        },
        {
         "line": {
          "color": "red"
         },
         "mode": "lines",
         "name": "SuperTrend Downtrend",
         "showlegend": false,
         "type": "scatter",
         "x": [
          "2023-05-19T12:26:00+05:30",
          "2023-05-19T12:27:00+05:30"
         ],
         "y": [
          273.3591226530009,
          273.3591226530009
         ]
        },
        {
         "line": {
          "color": "red"
         },
         "mode": "lines",
         "name": "SuperTrend Downtrend",
         "showlegend": false,
         "type": "scatter",
         "x": [
          "2023-05-19T12:27:00+05:30",
          "2023-05-19T12:28:00+05:30"
         ],
         "y": [
          273.3591226530009,
          273.3591226530009
         ]
        },
        {
         "line": {
          "color": "red"
         },
         "mode": "lines",
         "name": "SuperTrend Downtrend",
         "showlegend": false,
         "type": "scatter",
         "x": [
          "2023-05-19T12:28:00+05:30",
          "2023-05-19T12:29:00+05:30"
         ],
         "y": [
          273.3591226530009,
          273.3591226530009
         ]
        },
        {
         "line": {
          "color": "red"
         },
         "mode": "lines",
         "name": "SuperTrend Downtrend",
         "showlegend": false,
         "type": "scatter",
         "x": [
          "2023-05-19T12:29:00+05:30",
          "2023-05-19T12:30:00+05:30"
         ],
         "y": [
          273.3591226530009,
          273.3591226530009
         ]
        },
        {
         "line": {
          "color": "red"
         },
         "mode": "lines",
         "name": "SuperTrend Downtrend",
         "showlegend": false,
         "type": "scatter",
         "x": [
          "2023-05-19T12:30:00+05:30",
          "2023-05-19T12:31:00+05:30"
         ],
         "y": [
          273.3591226530009,
          273.3591226530009
         ]
        },
        {
         "line": {
          "color": "red"
         },
         "mode": "lines",
         "name": "SuperTrend Downtrend",
         "showlegend": false,
         "type": "scatter",
         "x": [
          "2023-05-19T12:31:00+05:30",
          "2023-05-19T12:32:00+05:30"
         ],
         "y": [
          273.3591226530009,
          273.3591226530009
         ]
        },
        {
         "line": {
          "color": "red"
         },
         "mode": "lines",
         "name": "SuperTrend Downtrend",
         "showlegend": false,
         "type": "scatter",
         "x": [
          "2023-05-19T12:32:00+05:30",
          "2023-05-19T12:33:00+05:30"
         ],
         "y": [
          273.3591226530009,
          273.3591226530009
         ]
        },
        {
         "line": {
          "color": "red"
         },
         "mode": "lines",
         "name": "SuperTrend Downtrend",
         "showlegend": false,
         "type": "scatter",
         "x": [
          "2023-05-19T12:33:00+05:30",
          "2023-05-19T12:34:00+05:30"
         ],
         "y": [
          273.3591226530009,
          273.3591226530009
         ]
        },
        {
         "line": {
          "color": "red"
         },
         "mode": "lines",
         "name": "SuperTrend Downtrend",
         "showlegend": false,
         "type": "scatter",
         "x": [
          "2023-05-19T12:34:00+05:30",
          "2023-05-19T12:35:00+05:30"
         ],
         "y": [
          273.3591226530009,
          273.3591226530009
         ]
        },
        {
         "line": {
          "color": "red"
         },
         "mode": "lines",
         "name": "SuperTrend Downtrend",
         "showlegend": false,
         "type": "scatter",
         "x": [
          "2023-05-19T12:35:00+05:30",
          "2023-05-19T12:36:00+05:30"
         ],
         "y": [
          273.3591226530009,
          273.3591226530009
         ]
        },
        {
         "line": {
          "color": "red"
         },
         "mode": "lines",
         "name": "SuperTrend Downtrend",
         "showlegend": false,
         "type": "scatter",
         "x": [
          "2023-05-19T12:36:00+05:30",
          "2023-05-19T12:37:00+05:30"
         ],
         "y": [
          273.3591226530009,
          273.3591226530009
         ]
        },
        {
         "line": {
          "color": "red"
         },
         "mode": "lines",
         "name": "SuperTrend Downtrend",
         "showlegend": false,
         "type": "scatter",
         "x": [
          "2023-05-19T12:37:00+05:30",
          "2023-05-19T12:38:00+05:30"
         ],
         "y": [
          273.3591226530009,
          273.3591226530009
         ]
        },
        {
         "line": {
          "color": "red"
         },
         "mode": "lines",
         "name": "SuperTrend Downtrend",
         "showlegend": false,
         "type": "scatter",
         "x": [
          "2023-05-19T12:38:00+05:30",
          "2023-05-19T12:39:00+05:30"
         ],
         "y": [
          273.3591226530009,
          273.3591226530009
         ]
        },
        {
         "line": {
          "color": "red"
         },
         "mode": "lines",
         "name": "SuperTrend Downtrend",
         "showlegend": false,
         "type": "scatter",
         "x": [
          "2023-05-19T12:39:00+05:30",
          "2023-05-19T12:40:00+05:30"
         ],
         "y": [
          273.3591226530009,
          273.3591226530009
         ]
        },
        {
         "line": {
          "color": "red"
         },
         "mode": "lines",
         "name": "SuperTrend Downtrend",
         "showlegend": false,
         "type": "scatter",
         "x": [
          "2023-05-19T12:40:00+05:30",
          "2023-05-19T12:41:00+05:30"
         ],
         "y": [
          273.3591226530009,
          273.3591226530009
         ]
        },
        {
         "line": {
          "color": "red"
         },
         "mode": "lines",
         "name": "SuperTrend Downtrend",
         "showlegend": false,
         "type": "scatter",
         "x": [
          "2023-05-19T12:41:00+05:30",
          "2023-05-19T12:42:00+05:30"
         ],
         "y": [
          273.3591226530009,
          273.3591226530009
         ]
        },
        {
         "line": {
          "color": "red"
         },
         "mode": "lines",
         "name": "SuperTrend Downtrend",
         "showlegend": false,
         "type": "scatter",
         "x": [
          "2023-05-19T12:42:00+05:30",
          "2023-05-19T12:43:00+05:30"
         ],
         "y": [
          273.3591226530009,
          273.3591226530009
         ]
        },
        {
         "line": {
          "color": "red"
         },
         "mode": "lines",
         "name": "SuperTrend Downtrend",
         "showlegend": false,
         "type": "scatter",
         "x": [
          "2023-05-19T12:43:00+05:30",
          "2023-05-19T12:44:00+05:30"
         ],
         "y": [
          273.3591226530009,
          273.3591226530009
         ]
        },
        {
         "line": {
          "color": "red"
         },
         "mode": "lines",
         "name": "SuperTrend Downtrend",
         "showlegend": false,
         "type": "scatter",
         "x": [
          "2023-05-19T12:44:00+05:30",
          "2023-05-19T12:45:00+05:30"
         ],
         "y": [
          273.3591226530009,
          273.3591226530009
         ]
        },
        {
         "line": {
          "color": "red"
         },
         "mode": "lines",
         "name": "SuperTrend Downtrend",
         "showlegend": false,
         "type": "scatter",
         "x": [
          "2023-05-19T12:45:00+05:30",
          "2023-05-19T12:46:00+05:30"
         ],
         "y": [
          273.3591226530009,
          273.3591226530009
         ]
        },
        {
         "line": {
          "color": "red"
         },
         "mode": "lines",
         "name": "SuperTrend Downtrend",
         "showlegend": false,
         "type": "scatter",
         "x": [
          "2023-05-19T12:46:00+05:30",
          "2023-05-19T12:47:00+05:30"
         ],
         "y": [
          273.3591226530009,
          273.3591226530009
         ]
        },
        {
         "line": {
          "color": "red"
         },
         "mode": "lines",
         "name": "SuperTrend Downtrend",
         "showlegend": false,
         "type": "scatter",
         "x": [
          "2023-05-19T12:47:00+05:30",
          "2023-05-19T12:48:00+05:30"
         ],
         "y": [
          273.3591226530009,
          273.3591226530009
         ]
        },
        {
         "line": {
          "color": "red"
         },
         "mode": "lines",
         "name": "SuperTrend Downtrend",
         "showlegend": false,
         "type": "scatter",
         "x": [
          "2023-05-19T12:48:00+05:30",
          "2023-05-19T12:49:00+05:30"
         ],
         "y": [
          273.3591226530009,
          273.3591226530009
         ]
        },
        {
         "line": {
          "color": "red"
         },
         "mode": "lines",
         "name": "SuperTrend Downtrend",
         "showlegend": false,
         "type": "scatter",
         "x": [
          "2023-05-19T12:49:00+05:30",
          "2023-05-19T12:50:00+05:30"
         ],
         "y": [
          273.3591226530009,
          273.3591226530009
         ]
        },
        {
         "line": {
          "color": "red"
         },
         "mode": "lines",
         "name": "SuperTrend Downtrend",
         "showlegend": false,
         "type": "scatter",
         "x": [
          "2023-05-19T12:50:00+05:30",
          "2023-05-19T12:51:00+05:30"
         ],
         "y": [
          273.3591226530009,
          273.3591226530009
         ]
        },
        {
         "line": {
          "color": "red"
         },
         "mode": "lines",
         "name": "SuperTrend Downtrend",
         "showlegend": false,
         "type": "scatter",
         "x": [
          "2023-05-19T12:51:00+05:30",
          "2023-05-19T12:52:00+05:30"
         ],
         "y": [
          273.3591226530009,
          273.3591226530009
         ]
        },
        {
         "line": {
          "color": "red"
         },
         "mode": "lines",
         "name": "SuperTrend Downtrend",
         "showlegend": false,
         "type": "scatter",
         "x": [
          "2023-05-19T12:52:00+05:30",
          "2023-05-19T12:53:00+05:30"
         ],
         "y": [
          273.3591226530009,
          273.3591226530009
         ]
        },
        {
         "line": {
          "color": "red"
         },
         "mode": "lines",
         "name": "SuperTrend Downtrend",
         "showlegend": false,
         "type": "scatter",
         "x": [
          "2023-05-19T12:53:00+05:30",
          "2023-05-19T12:54:00+05:30"
         ],
         "y": [
          273.3591226530009,
          273.3591226530009
         ]
        },
        {
         "line": {
          "color": "red"
         },
         "mode": "lines",
         "name": "SuperTrend Downtrend",
         "showlegend": false,
         "type": "scatter",
         "x": [
          "2023-05-19T12:54:00+05:30",
          "2023-05-19T12:55:00+05:30"
         ],
         "y": [
          273.3591226530009,
          273.3591226530009
         ]
        },
        {
         "line": {
          "color": "red"
         },
         "mode": "lines",
         "name": "SuperTrend Downtrend",
         "showlegend": false,
         "type": "scatter",
         "x": [
          "2023-05-19T12:55:00+05:30",
          "2023-05-19T12:56:00+05:30"
         ],
         "y": [
          273.3591226530009,
          273.3591226530009
         ]
        },
        {
         "line": {
          "color": "red"
         },
         "mode": "lines",
         "name": "SuperTrend Downtrend",
         "showlegend": false,
         "type": "scatter",
         "x": [
          "2023-05-19T12:56:00+05:30",
          "2023-05-19T12:57:00+05:30"
         ],
         "y": [
          273.3591226530009,
          273.3591226530009
         ]
        },
        {
         "line": {
          "color": "red"
         },
         "mode": "lines",
         "name": "SuperTrend Downtrend",
         "showlegend": false,
         "type": "scatter",
         "x": [
          "2023-05-19T12:57:00+05:30",
          "2023-05-19T12:58:00+05:30"
         ],
         "y": [
          273.3591226530009,
          273.3591226530009
         ]
        },
        {
         "line": {
          "color": "red"
         },
         "mode": "lines",
         "name": "SuperTrend Downtrend",
         "showlegend": false,
         "type": "scatter",
         "x": [
          "2023-05-19T12:58:00+05:30",
          "2023-05-19T12:59:00+05:30"
         ],
         "y": [
          273.3591226530009,
          273.3591226530009
         ]
        },
        {
         "line": {
          "color": "red"
         },
         "mode": "lines",
         "name": "SuperTrend Downtrend",
         "showlegend": false,
         "type": "scatter",
         "x": [
          "2023-05-19T12:59:00+05:30",
          "2023-05-19T13:00:00+05:30"
         ],
         "y": [
          273.3591226530009,
          273.3591226530009
         ]
        },
        {
         "line": {
          "color": "red"
         },
         "mode": "lines",
         "name": "SuperTrend Downtrend",
         "showlegend": false,
         "type": "scatter",
         "x": [
          "2023-05-19T13:00:00+05:30",
          "2023-05-19T13:01:00+05:30"
         ],
         "y": [
          273.3591226530009,
          273.3591226530009
         ]
        },
        {
         "line": {
          "color": "red"
         },
         "mode": "lines",
         "name": "SuperTrend Downtrend",
         "showlegend": false,
         "type": "scatter",
         "x": [
          "2023-05-19T13:01:00+05:30",
          "2023-05-19T13:02:00+05:30"
         ],
         "y": [
          273.3591226530009,
          273.3591226530009
         ]
        },
        {
         "line": {
          "color": "red"
         },
         "mode": "lines",
         "name": "SuperTrend Downtrend",
         "showlegend": false,
         "type": "scatter",
         "x": [
          "2023-05-19T13:02:00+05:30",
          "2023-05-19T13:03:00+05:30"
         ],
         "y": [
          273.3591226530009,
          273.3591226530009
         ]
        },
        {
         "line": {
          "color": "red"
         },
         "mode": "lines",
         "name": "SuperTrend Downtrend",
         "showlegend": false,
         "type": "scatter",
         "x": [
          "2023-05-19T13:03:00+05:30",
          "2023-05-19T13:04:00+05:30"
         ],
         "y": [
          273.3591226530009,
          273.3591226530009
         ]
        },
        {
         "line": {
          "color": "red"
         },
         "mode": "lines",
         "name": "SuperTrend Downtrend",
         "showlegend": false,
         "type": "scatter",
         "x": [
          "2023-05-19T13:04:00+05:30",
          "2023-05-19T13:05:00+05:30"
         ],
         "y": [
          273.3591226530009,
          273.3591226530009
         ]
        },
        {
         "line": {
          "color": "red"
         },
         "mode": "lines",
         "name": "SuperTrend Downtrend",
         "showlegend": false,
         "type": "scatter",
         "x": [
          "2023-05-19T13:05:00+05:30",
          "2023-05-19T13:06:00+05:30"
         ],
         "y": [
          273.3591226530009,
          273.3591226530009
         ]
        },
        {
         "line": {
          "color": "red"
         },
         "mode": "lines",
         "name": "SuperTrend Downtrend",
         "showlegend": false,
         "type": "scatter",
         "x": [
          "2023-05-19T13:06:00+05:30",
          "2023-05-19T13:07:00+05:30"
         ],
         "y": [
          273.3591226530009,
          273.3591226530009
         ]
        },
        {
         "line": {
          "color": "red"
         },
         "mode": "lines",
         "name": "SuperTrend Downtrend",
         "showlegend": false,
         "type": "scatter",
         "x": [
          "2023-05-19T13:07:00+05:30",
          "2023-05-19T13:08:00+05:30"
         ],
         "y": [
          273.3591226530009,
          273.3591226530009
         ]
        },
        {
         "line": {
          "color": "red"
         },
         "mode": "lines",
         "name": "SuperTrend Downtrend",
         "showlegend": false,
         "type": "scatter",
         "x": [
          "2023-05-19T13:08:00+05:30",
          "2023-05-19T13:09:00+05:30"
         ],
         "y": [
          273.3591226530009,
          273.3591226530009
         ]
        },
        {
         "line": {
          "color": "red"
         },
         "mode": "lines",
         "name": "SuperTrend Downtrend",
         "showlegend": false,
         "type": "scatter",
         "x": [
          "2023-05-19T13:09:00+05:30",
          "2023-05-19T13:10:00+05:30"
         ],
         "y": [
          273.3591226530009,
          273.3591226530009
         ]
        },
        {
         "line": {
          "color": "red"
         },
         "mode": "lines",
         "name": "SuperTrend Downtrend",
         "showlegend": false,
         "type": "scatter",
         "x": [
          "2023-05-19T13:10:00+05:30",
          "2023-05-19T13:11:00+05:30"
         ],
         "y": [
          273.3591226530009,
          273.3591226530009
         ]
        },
        {
         "line": {
          "color": "red"
         },
         "mode": "lines",
         "name": "SuperTrend Downtrend",
         "showlegend": false,
         "type": "scatter",
         "x": [
          "2023-05-19T13:11:00+05:30",
          "2023-05-19T13:12:00+05:30"
         ],
         "y": [
          273.3591226530009,
          273.3591226530009
         ]
        },
        {
         "line": {
          "color": "red"
         },
         "mode": "lines",
         "name": "SuperTrend Downtrend",
         "showlegend": false,
         "type": "scatter",
         "x": [
          "2023-05-19T13:12:00+05:30",
          "2023-05-19T13:13:00+05:30"
         ],
         "y": [
          273.3591226530009,
          273.3591226530009
         ]
        },
        {
         "line": {
          "color": "red"
         },
         "mode": "lines",
         "name": "SuperTrend Downtrend",
         "showlegend": false,
         "type": "scatter",
         "x": [
          "2023-05-19T13:13:00+05:30",
          "2023-05-19T13:14:00+05:30"
         ],
         "y": [
          273.3591226530009,
          273.3591226530009
         ]
        },
        {
         "line": {
          "color": "red"
         },
         "mode": "lines",
         "name": "SuperTrend Downtrend",
         "showlegend": false,
         "type": "scatter",
         "x": [
          "2023-05-19T13:14:00+05:30",
          "2023-05-19T13:15:00+05:30"
         ],
         "y": [
          273.3591226530009,
          273.3591226530009
         ]
        },
        {
         "line": {
          "color": "red"
         },
         "mode": "lines",
         "name": "SuperTrend Downtrend",
         "showlegend": false,
         "type": "scatter",
         "x": [
          "2023-05-19T13:15:00+05:30",
          "2023-05-19T13:16:00+05:30"
         ],
         "y": [
          273.3591226530009,
          273.3591226530009
         ]
        },
        {
         "line": {
          "color": "red"
         },
         "mode": "lines",
         "name": "SuperTrend Downtrend",
         "showlegend": false,
         "type": "scatter",
         "x": [
          "2023-05-19T13:16:00+05:30",
          "2023-05-19T13:17:00+05:30"
         ],
         "y": [
          273.3591226530009,
          273.3591226530009
         ]
        },
        {
         "line": {
          "color": "red"
         },
         "mode": "lines",
         "name": "SuperTrend Downtrend",
         "showlegend": false,
         "type": "scatter",
         "x": [
          "2023-05-19T13:17:00+05:30",
          "2023-05-19T13:18:00+05:30"
         ],
         "y": [
          273.3591226530009,
          273.3591226530009
         ]
        },
        {
         "line": {
          "color": "red"
         },
         "mode": "lines",
         "name": "SuperTrend Downtrend",
         "showlegend": false,
         "type": "scatter",
         "x": [
          "2023-05-19T13:18:00+05:30",
          "2023-05-19T13:19:00+05:30"
         ],
         "y": [
          273.3591226530009,
          273.3591226530009
         ]
        },
        {
         "line": {
          "color": "red"
         },
         "mode": "lines",
         "name": "SuperTrend Downtrend",
         "showlegend": false,
         "type": "scatter",
         "x": [
          "2023-05-19T13:19:00+05:30",
          "2023-05-19T13:20:00+05:30"
         ],
         "y": [
          273.3591226530009,
          273.3591226530009
         ]
        },
        {
         "line": {
          "color": "red"
         },
         "mode": "lines",
         "name": "SuperTrend Downtrend",
         "showlegend": false,
         "type": "scatter",
         "x": [
          "2023-05-19T13:20:00+05:30",
          "2023-05-19T13:21:00+05:30"
         ],
         "y": [
          273.3591226530009,
          270.8545574476418
         ]
        },
        {
         "line": {
          "color": "red"
         },
         "mode": "lines",
         "name": "SuperTrend Downtrend",
         "showlegend": false,
         "type": "scatter",
         "x": [
          "2023-05-19T13:21:00+05:30",
          "2023-05-19T13:22:00+05:30"
         ],
         "y": [
          270.8545574476418,
          262.34091808573146
         ]
        },
        {
         "line": {
          "color": "red"
         },
         "mode": "lines",
         "name": "SuperTrend Downtrend",
         "showlegend": false,
         "type": "scatter",
         "x": [
          "2023-05-19T13:22:00+05:30",
          "2023-05-19T13:23:00+05:30"
         ],
         "y": [
          262.34091808573146,
          262.34091808573146
         ]
        },
        {
         "line": {
          "color": "red"
         },
         "mode": "lines",
         "name": "SuperTrend Downtrend",
         "showlegend": false,
         "type": "scatter",
         "x": [
          "2023-05-19T13:23:00+05:30",
          "2023-05-19T13:24:00+05:30"
         ],
         "y": [
          262.34091808573146,
          262.34091808573146
         ]
        },
        {
         "line": {
          "color": "red"
         },
         "mode": "lines",
         "name": "SuperTrend Downtrend",
         "showlegend": false,
         "type": "scatter",
         "x": [
          "2023-05-19T13:24:00+05:30",
          "2023-05-19T13:25:00+05:30"
         ],
         "y": [
          262.34091808573146,
          262.34091808573146
         ]
        },
        {
         "line": {
          "color": "red"
         },
         "mode": "lines",
         "name": "SuperTrend Downtrend",
         "showlegend": false,
         "type": "scatter",
         "x": [
          "2023-05-19T13:25:00+05:30",
          "2023-05-19T13:26:00+05:30"
         ],
         "y": [
          262.34091808573146,
          262.34091808573146
         ]
        },
        {
         "line": {
          "color": "red"
         },
         "mode": "lines",
         "name": "SuperTrend Downtrend",
         "showlegend": false,
         "type": "scatter",
         "x": [
          "2023-05-19T13:26:00+05:30",
          "2023-05-19T13:27:00+05:30"
         ],
         "y": [
          262.34091808573146,
          262.34091808573146
         ]
        },
        {
         "line": {
          "color": "red"
         },
         "mode": "lines",
         "name": "SuperTrend Downtrend",
         "showlegend": false,
         "type": "scatter",
         "x": [
          "2023-05-19T13:27:00+05:30",
          "2023-05-19T13:28:00+05:30"
         ],
         "y": [
          262.34091808573146,
          262.34091808573146
         ]
        },
        {
         "line": {
          "color": "red"
         },
         "mode": "lines",
         "name": "SuperTrend Downtrend",
         "showlegend": false,
         "type": "scatter",
         "x": [
          "2023-05-19T13:28:00+05:30",
          "2023-05-19T13:29:00+05:30"
         ],
         "y": [
          262.34091808573146,
          262.34091808573146
         ]
        },
        {
         "line": {
          "color": "red"
         },
         "mode": "lines",
         "name": "SuperTrend Downtrend",
         "showlegend": false,
         "type": "scatter",
         "x": [
          "2023-05-19T13:29:00+05:30",
          "2023-05-19T13:30:00+05:30"
         ],
         "y": [
          262.34091808573146,
          262.34091808573146
         ]
        },
        {
         "line": {
          "color": "red"
         },
         "mode": "lines",
         "name": "SuperTrend Downtrend",
         "showlegend": false,
         "type": "scatter",
         "x": [
          "2023-05-19T13:30:00+05:30",
          "2023-05-19T13:31:00+05:30"
         ],
         "y": [
          262.34091808573146,
          262.34091808573146
         ]
        },
        {
         "line": {
          "color": "red"
         },
         "mode": "lines",
         "name": "SuperTrend Downtrend",
         "showlegend": false,
         "type": "scatter",
         "x": [
          "2023-05-19T13:31:00+05:30",
          "2023-05-19T13:32:00+05:30"
         ],
         "y": [
          262.34091808573146,
          262.34091808573146
         ]
        },
        {
         "line": {
          "color": "red"
         },
         "mode": "lines",
         "name": "SuperTrend Downtrend",
         "showlegend": false,
         "type": "scatter",
         "x": [
          "2023-05-19T13:32:00+05:30",
          "2023-05-19T13:33:00+05:30"
         ],
         "y": [
          262.34091808573146,
          262.34091808573146
         ]
        },
        {
         "line": {
          "color": "red"
         },
         "mode": "lines",
         "name": "SuperTrend Downtrend",
         "showlegend": false,
         "type": "scatter",
         "x": [
          "2023-05-19T13:33:00+05:30",
          "2023-05-19T13:34:00+05:30"
         ],
         "y": [
          262.34091808573146,
          262.34091808573146
         ]
        },
        {
         "line": {
          "color": "red"
         },
         "mode": "lines",
         "name": "SuperTrend Downtrend",
         "showlegend": false,
         "type": "scatter",
         "x": [
          "2023-05-19T13:34:00+05:30",
          "2023-05-19T13:35:00+05:30"
         ],
         "y": [
          262.34091808573146,
          262.34091808573146
         ]
        },
        {
         "line": {
          "color": "red"
         },
         "mode": "lines",
         "name": "SuperTrend Downtrend",
         "showlegend": false,
         "type": "scatter",
         "x": [
          "2023-05-19T13:35:00+05:30",
          "2023-05-19T13:36:00+05:30"
         ],
         "y": [
          262.34091808573146,
          262.34091808573146
         ]
        },
        {
         "line": {
          "color": "red"
         },
         "mode": "lines",
         "name": "SuperTrend Downtrend",
         "showlegend": false,
         "type": "scatter",
         "x": [
          "2023-05-19T13:36:00+05:30",
          "2023-05-19T13:37:00+05:30"
         ],
         "y": [
          262.34091808573146,
          262.34091808573146
         ]
        },
        {
         "line": {
          "color": "red"
         },
         "mode": "lines",
         "name": "SuperTrend Downtrend",
         "showlegend": false,
         "type": "scatter",
         "x": [
          "2023-05-19T13:37:00+05:30",
          "2023-05-19T13:38:00+05:30"
         ],
         "y": [
          262.34091808573146,
          262.34091808573146
         ]
        },
        {
         "line": {
          "color": "red"
         },
         "mode": "lines",
         "name": "SuperTrend Downtrend",
         "showlegend": false,
         "type": "scatter",
         "x": [
          "2023-05-19T13:38:00+05:30",
          "2023-05-19T13:39:00+05:30"
         ],
         "y": [
          262.34091808573146,
          262.34091808573146
         ]
        },
        {
         "line": {
          "color": "red"
         },
         "mode": "lines",
         "name": "SuperTrend Downtrend",
         "showlegend": false,
         "type": "scatter",
         "x": [
          "2023-05-19T13:39:00+05:30",
          "2023-05-19T13:40:00+05:30"
         ],
         "y": [
          262.34091808573146,
          262.34091808573146
         ]
        },
        {
         "line": {
          "color": "red"
         },
         "mode": "lines",
         "name": "SuperTrend Downtrend",
         "showlegend": false,
         "type": "scatter",
         "x": [
          "2023-05-19T13:40:00+05:30",
          "2023-05-19T13:41:00+05:30"
         ],
         "y": [
          262.34091808573146,
          262.34091808573146
         ]
        },
        {
         "line": {
          "color": "red"
         },
         "mode": "lines",
         "name": "SuperTrend Downtrend",
         "showlegend": false,
         "type": "scatter",
         "x": [
          "2023-05-19T13:41:00+05:30",
          "2023-05-19T13:42:00+05:30"
         ],
         "y": [
          262.34091808573146,
          262.34091808573146
         ]
        },
        {
         "line": {
          "color": "red"
         },
         "mode": "lines",
         "name": "SuperTrend Downtrend",
         "showlegend": false,
         "type": "scatter",
         "x": [
          "2023-05-19T13:42:00+05:30",
          "2023-05-19T13:43:00+05:30"
         ],
         "y": [
          262.34091808573146,
          262.34091808573146
         ]
        },
        {
         "line": {
          "color": "red"
         },
         "mode": "lines",
         "name": "SuperTrend Downtrend",
         "showlegend": false,
         "type": "scatter",
         "x": [
          "2023-05-19T13:43:00+05:30",
          "2023-05-19T13:44:00+05:30"
         ],
         "y": [
          262.34091808573146,
          262.34091808573146
         ]
        },
        {
         "line": {
          "color": "red"
         },
         "mode": "lines",
         "name": "SuperTrend Downtrend",
         "showlegend": false,
         "type": "scatter",
         "x": [
          "2023-05-19T13:44:00+05:30",
          "2023-05-19T13:45:00+05:30"
         ],
         "y": [
          262.34091808573146,
          262.34091808573146
         ]
        },
        {
         "line": {
          "color": "red"
         },
         "mode": "lines",
         "name": "SuperTrend Downtrend",
         "showlegend": false,
         "type": "scatter",
         "x": [
          "2023-05-19T13:45:00+05:30",
          "2023-05-19T13:46:00+05:30"
         ],
         "y": [
          262.34091808573146,
          262.34091808573146
         ]
        },
        {
         "line": {
          "color": "red"
         },
         "mode": "lines",
         "name": "SuperTrend Downtrend",
         "showlegend": false,
         "type": "scatter",
         "x": [
          "2023-05-19T13:46:00+05:30",
          "2023-05-19T13:47:00+05:30"
         ],
         "y": [
          262.34091808573146,
          262.34091808573146
         ]
        },
        {
         "line": {
          "color": "red"
         },
         "mode": "lines",
         "name": "SuperTrend Downtrend",
         "showlegend": false,
         "type": "scatter",
         "x": [
          "2023-05-19T13:47:00+05:30",
          "2023-05-19T13:48:00+05:30"
         ],
         "y": [
          262.34091808573146,
          262.34091808573146
         ]
        },
        {
         "line": {
          "color": "red"
         },
         "mode": "lines",
         "name": "SuperTrend Downtrend",
         "showlegend": false,
         "type": "scatter",
         "x": [
          "2023-05-19T13:48:00+05:30",
          "2023-05-19T13:49:00+05:30"
         ],
         "y": [
          262.34091808573146,
          262.34091808573146
         ]
        },
        {
         "line": {
          "color": "red"
         },
         "mode": "lines",
         "name": "SuperTrend Downtrend",
         "showlegend": false,
         "type": "scatter",
         "x": [
          "2023-05-19T13:49:00+05:30",
          "2023-05-19T13:50:00+05:30"
         ],
         "y": [
          262.34091808573146,
          262.34091808573146
         ]
        },
        {
         "line": {
          "color": "red"
         },
         "mode": "lines",
         "name": "SuperTrend Downtrend",
         "showlegend": false,
         "type": "scatter",
         "x": [
          "2023-05-19T13:50:00+05:30",
          "2023-05-19T13:51:00+05:30"
         ],
         "y": [
          262.34091808573146,
          262.34091808573146
         ]
        },
        {
         "line": {
          "color": "red"
         },
         "mode": "lines",
         "name": "SuperTrend Downtrend",
         "showlegend": false,
         "type": "scatter",
         "x": [
          "2023-05-19T13:51:00+05:30",
          "2023-05-19T13:52:00+05:30"
         ],
         "y": [
          262.34091808573146,
          262.34091808573146
         ]
        },
        {
         "line": {
          "color": "red"
         },
         "mode": "lines",
         "name": "SuperTrend Downtrend",
         "showlegend": false,
         "type": "scatter",
         "x": [
          "2023-05-19T13:52:00+05:30",
          "2023-05-19T13:53:00+05:30"
         ],
         "y": [
          262.34091808573146,
          262.34091808573146
         ]
        },
        {
         "line": {
          "color": "red"
         },
         "mode": "lines",
         "name": "SuperTrend Downtrend",
         "showlegend": false,
         "type": "scatter",
         "x": [
          "2023-05-19T13:53:00+05:30",
          "2023-05-19T13:54:00+05:30"
         ],
         "y": [
          262.34091808573146,
          262.34091808573146
         ]
        },
        {
         "line": {
          "color": "red"
         },
         "mode": "lines",
         "name": "SuperTrend Downtrend",
         "showlegend": false,
         "type": "scatter",
         "x": [
          "2023-05-19T13:54:00+05:30",
          "2023-05-19T13:55:00+05:30"
         ],
         "y": [
          262.34091808573146,
          262.34091808573146
         ]
        },
        {
         "line": {
          "color": "red"
         },
         "mode": "lines",
         "name": "SuperTrend Downtrend",
         "showlegend": false,
         "type": "scatter",
         "x": [
          "2023-05-19T13:55:00+05:30",
          "2023-05-19T13:56:00+05:30"
         ],
         "y": [
          262.34091808573146,
          262.34091808573146
         ]
        },
        {
         "line": {
          "color": "red"
         },
         "mode": "lines",
         "name": "SuperTrend Downtrend",
         "showlegend": false,
         "type": "scatter",
         "x": [
          "2023-05-19T13:56:00+05:30",
          "2023-05-19T13:57:00+05:30"
         ],
         "y": [
          262.34091808573146,
          262.34091808573146
         ]
        },
        {
         "line": {
          "color": "red"
         },
         "mode": "lines",
         "name": "SuperTrend Downtrend",
         "showlegend": false,
         "type": "scatter",
         "x": [
          "2023-05-19T13:57:00+05:30",
          "2023-05-19T13:58:00+05:30"
         ],
         "y": [
          262.34091808573146,
          262.34091808573146
         ]
        },
        {
         "line": {
          "color": "red"
         },
         "mode": "lines",
         "name": "SuperTrend Downtrend",
         "showlegend": false,
         "type": "scatter",
         "x": [
          "2023-05-19T13:58:00+05:30",
          "2023-05-19T13:59:00+05:30"
         ],
         "y": [
          262.34091808573146,
          262.34091808573146
         ]
        },
        {
         "line": {
          "color": "red"
         },
         "mode": "lines",
         "name": "SuperTrend Downtrend",
         "showlegend": false,
         "type": "scatter",
         "x": [
          "2023-05-19T13:59:00+05:30",
          "2023-05-19T14:00:00+05:30"
         ],
         "y": [
          262.34091808573146,
          262.34091808573146
         ]
        },
        {
         "line": {
          "color": "red"
         },
         "mode": "lines",
         "name": "SuperTrend Downtrend",
         "showlegend": false,
         "type": "scatter",
         "x": [
          "2023-05-19T14:00:00+05:30",
          "2023-05-19T14:01:00+05:30"
         ],
         "y": [
          262.34091808573146,
          262.34091808573146
         ]
        },
        {
         "line": {
          "color": "red"
         },
         "mode": "lines",
         "name": "SuperTrend Downtrend",
         "showlegend": false,
         "type": "scatter",
         "x": [
          "2023-05-19T14:01:00+05:30",
          "2023-05-19T14:02:00+05:30"
         ],
         "y": [
          262.34091808573146,
          262.34091808573146
         ]
        },
        {
         "line": {
          "color": "red"
         },
         "mode": "lines",
         "name": "SuperTrend Downtrend",
         "showlegend": false,
         "type": "scatter",
         "x": [
          "2023-05-19T14:02:00+05:30",
          "2023-05-19T14:03:00+05:30"
         ],
         "y": [
          262.34091808573146,
          262.34091808573146
         ]
        },
        {
         "line": {
          "color": "red"
         },
         "mode": "lines",
         "name": "SuperTrend Downtrend",
         "showlegend": false,
         "type": "scatter",
         "x": [
          "2023-05-19T14:03:00+05:30",
          "2023-05-19T14:04:00+05:30"
         ],
         "y": [
          262.34091808573146,
          262.34091808573146
         ]
        },
        {
         "line": {
          "color": "red"
         },
         "mode": "lines",
         "name": "SuperTrend Downtrend",
         "showlegend": false,
         "type": "scatter",
         "x": [
          "2023-05-19T14:04:00+05:30",
          "2023-05-19T14:05:00+05:30"
         ],
         "y": [
          262.34091808573146,
          262.34091808573146
         ]
        },
        {
         "line": {
          "color": "red"
         },
         "mode": "lines",
         "name": "SuperTrend Downtrend",
         "showlegend": false,
         "type": "scatter",
         "x": [
          "2023-05-19T14:05:00+05:30",
          "2023-05-19T14:06:00+05:30"
         ],
         "y": [
          262.34091808573146,
          262.34091808573146
         ]
        },
        {
         "line": {
          "color": "red"
         },
         "mode": "lines",
         "name": "SuperTrend Downtrend",
         "showlegend": false,
         "type": "scatter",
         "x": [
          "2023-05-19T14:06:00+05:30",
          "2023-05-19T14:07:00+05:30"
         ],
         "y": [
          262.34091808573146,
          262.34091808573146
         ]
        },
        {
         "line": {
          "color": "red"
         },
         "mode": "lines",
         "name": "SuperTrend Downtrend",
         "showlegend": false,
         "type": "scatter",
         "x": [
          "2023-05-19T14:07:00+05:30",
          "2023-05-19T14:08:00+05:30"
         ],
         "y": [
          262.34091808573146,
          262.34091808573146
         ]
        },
        {
         "line": {
          "color": "red"
         },
         "mode": "lines",
         "name": "SuperTrend Downtrend",
         "showlegend": false,
         "type": "scatter",
         "x": [
          "2023-05-19T14:08:00+05:30",
          "2023-05-19T14:09:00+05:30"
         ],
         "y": [
          262.34091808573146,
          262.34091808573146
         ]
        },
        {
         "line": {
          "color": "red"
         },
         "mode": "lines",
         "name": "SuperTrend Downtrend",
         "showlegend": false,
         "type": "scatter",
         "x": [
          "2023-05-19T14:09:00+05:30",
          "2023-05-19T14:10:00+05:30"
         ],
         "y": [
          262.34091808573146,
          262.34091808573146
         ]
        },
        {
         "line": {
          "color": "red"
         },
         "mode": "lines",
         "name": "SuperTrend Downtrend",
         "showlegend": false,
         "type": "scatter",
         "x": [
          "2023-05-19T14:10:00+05:30",
          "2023-05-19T14:11:00+05:30"
         ],
         "y": [
          262.34091808573146,
          262.34091808573146
         ]
        },
        {
         "line": {
          "color": "red"
         },
         "mode": "lines",
         "name": "SuperTrend Downtrend",
         "showlegend": false,
         "type": "scatter",
         "x": [
          "2023-05-19T14:11:00+05:30",
          "2023-05-19T14:12:00+05:30"
         ],
         "y": [
          262.34091808573146,
          262.34091808573146
         ]
        },
        {
         "line": {
          "color": "red"
         },
         "mode": "lines",
         "name": "SuperTrend Downtrend",
         "showlegend": false,
         "type": "scatter",
         "x": [
          "2023-05-19T14:12:00+05:30",
          "2023-05-19T14:13:00+05:30"
         ],
         "y": [
          262.34091808573146,
          262.34091808573146
         ]
        },
        {
         "line": {
          "color": "red"
         },
         "mode": "lines",
         "name": "SuperTrend Downtrend",
         "showlegend": false,
         "type": "scatter",
         "x": [
          "2023-05-19T14:13:00+05:30",
          "2023-05-19T14:14:00+05:30"
         ],
         "y": [
          262.34091808573146,
          262.34091808573146
         ]
        },
        {
         "line": {
          "color": "red"
         },
         "mode": "lines",
         "name": "SuperTrend Downtrend",
         "showlegend": false,
         "type": "scatter",
         "x": [
          "2023-05-19T14:14:00+05:30",
          "2023-05-19T14:15:00+05:30"
         ],
         "y": [
          262.34091808573146,
          262.34091808573146
         ]
        },
        {
         "line": {
          "color": "red"
         },
         "mode": "lines",
         "name": "SuperTrend Downtrend",
         "showlegend": false,
         "type": "scatter",
         "x": [
          "2023-05-19T14:15:00+05:30",
          "2023-05-19T14:16:00+05:30"
         ],
         "y": [
          262.34091808573146,
          262.34091808573146
         ]
        },
        {
         "line": {
          "color": "red"
         },
         "mode": "lines",
         "name": "SuperTrend Downtrend",
         "showlegend": false,
         "type": "scatter",
         "x": [
          "2023-05-19T14:16:00+05:30",
          "2023-05-19T14:17:00+05:30"
         ],
         "y": [
          262.34091808573146,
          262.34091808573146
         ]
        },
        {
         "line": {
          "color": "red"
         },
         "mode": "lines",
         "name": "SuperTrend Downtrend",
         "showlegend": false,
         "type": "scatter",
         "x": [
          "2023-05-19T14:17:00+05:30",
          "2023-05-19T14:18:00+05:30"
         ],
         "y": [
          262.34091808573146,
          262.34091808573146
         ]
        },
        {
         "line": {
          "color": "red"
         },
         "mode": "lines",
         "name": "SuperTrend Downtrend",
         "showlegend": false,
         "type": "scatter",
         "x": [
          "2023-05-19T14:18:00+05:30",
          "2023-05-19T14:19:00+05:30"
         ],
         "y": [
          262.34091808573146,
          262.34091808573146
         ]
        },
        {
         "line": {
          "color": "red"
         },
         "mode": "lines",
         "name": "SuperTrend Downtrend",
         "showlegend": false,
         "type": "scatter",
         "x": [
          "2023-05-19T14:19:00+05:30",
          "2023-05-19T14:20:00+05:30"
         ],
         "y": [
          262.34091808573146,
          262.34091808573146
         ]
        },
        {
         "line": {
          "color": "red"
         },
         "mode": "lines",
         "name": "SuperTrend Downtrend",
         "showlegend": false,
         "type": "scatter",
         "x": [
          "2023-05-19T14:20:00+05:30",
          "2023-05-19T14:21:00+05:30"
         ],
         "y": [
          262.34091808573146,
          262.34091808573146
         ]
        },
        {
         "line": {
          "color": "red"
         },
         "mode": "lines",
         "name": "SuperTrend Downtrend",
         "showlegend": false,
         "type": "scatter",
         "x": [
          "2023-05-19T14:21:00+05:30",
          "2023-05-19T14:22:00+05:30"
         ],
         "y": [
          262.34091808573146,
          262.34091808573146
         ]
        },
        {
         "line": {
          "color": "red"
         },
         "mode": "lines",
         "name": "SuperTrend Downtrend",
         "showlegend": false,
         "type": "scatter",
         "x": [
          "2023-05-19T14:22:00+05:30",
          "2023-05-19T14:23:00+05:30"
         ],
         "y": [
          262.34091808573146,
          262.34091808573146
         ]
        },
        {
         "line": {
          "color": "red"
         },
         "mode": "lines",
         "name": "SuperTrend Downtrend",
         "showlegend": false,
         "type": "scatter",
         "x": [
          "2023-05-19T14:23:00+05:30",
          "2023-05-19T14:24:00+05:30"
         ],
         "y": [
          262.34091808573146,
          262.34091808573146
         ]
        },
        {
         "line": {
          "color": "red"
         },
         "mode": "lines",
         "name": "SuperTrend Downtrend",
         "showlegend": false,
         "type": "scatter",
         "x": [
          "2023-05-19T14:24:00+05:30",
          "2023-05-19T14:25:00+05:30"
         ],
         "y": [
          262.34091808573146,
          262.34091808573146
         ]
        },
        {
         "line": {
          "color": "red"
         },
         "mode": "lines",
         "name": "SuperTrend Downtrend",
         "showlegend": false,
         "type": "scatter",
         "x": [
          "2023-05-19T14:25:00+05:30",
          "2023-05-19T14:26:00+05:30"
         ],
         "y": [
          262.34091808573146,
          262.34091808573146
         ]
        },
        {
         "line": {
          "color": "red"
         },
         "mode": "lines",
         "name": "SuperTrend Downtrend",
         "showlegend": false,
         "type": "scatter",
         "x": [
          "2023-05-19T14:26:00+05:30",
          "2023-05-19T14:27:00+05:30"
         ],
         "y": [
          262.34091808573146,
          262.34091808573146
         ]
        },
        {
         "line": {
          "color": "red"
         },
         "mode": "lines",
         "name": "SuperTrend Downtrend",
         "showlegend": false,
         "type": "scatter",
         "x": [
          "2023-05-19T14:27:00+05:30",
          "2023-05-19T14:28:00+05:30"
         ],
         "y": [
          262.34091808573146,
          262.34091808573146
         ]
        },
        {
         "line": {
          "color": "red"
         },
         "mode": "lines",
         "name": "SuperTrend Downtrend",
         "showlegend": false,
         "type": "scatter",
         "x": [
          "2023-05-19T14:28:00+05:30",
          "2023-05-19T14:29:00+05:30"
         ],
         "y": [
          262.34091808573146,
          262.34091808573146
         ]
        },
        {
         "line": {
          "color": "red"
         },
         "mode": "lines",
         "name": "SuperTrend Downtrend",
         "showlegend": false,
         "type": "scatter",
         "x": [
          "2023-05-19T14:29:00+05:30",
          "2023-05-19T14:30:00+05:30"
         ],
         "y": [
          262.34091808573146,
          262.34091808573146
         ]
        },
        {
         "line": {
          "color": "red"
         },
         "mode": "lines",
         "name": "SuperTrend Downtrend",
         "showlegend": false,
         "type": "scatter",
         "x": [
          "2023-05-19T14:30:00+05:30",
          "2023-05-19T14:31:00+05:30"
         ],
         "y": [
          262.34091808573146,
          262.34091808573146
         ]
        },
        {
         "line": {
          "color": "red"
         },
         "mode": "lines",
         "name": "SuperTrend Downtrend",
         "showlegend": false,
         "type": "scatter",
         "x": [
          "2023-05-19T14:31:00+05:30",
          "2023-05-19T14:32:00+05:30"
         ],
         "y": [
          262.34091808573146,
          262.34091808573146
         ]
        },
        {
         "line": {
          "color": "red"
         },
         "mode": "lines",
         "name": "SuperTrend Downtrend",
         "showlegend": false,
         "type": "scatter",
         "x": [
          "2023-05-19T14:32:00+05:30",
          "2023-05-19T14:33:00+05:30"
         ],
         "y": [
          262.34091808573146,
          262.34091808573146
         ]
        },
        {
         "line": {
          "color": "red"
         },
         "mode": "lines",
         "name": "SuperTrend Downtrend",
         "showlegend": false,
         "type": "scatter",
         "x": [
          "2023-05-19T14:33:00+05:30",
          "2023-05-19T14:34:00+05:30"
         ],
         "y": [
          262.34091808573146,
          262.34091808573146
         ]
        },
        {
         "line": {
          "color": "red"
         },
         "mode": "lines",
         "name": "SuperTrend Downtrend",
         "showlegend": false,
         "type": "scatter",
         "x": [
          "2023-05-19T14:34:00+05:30",
          "2023-05-19T14:35:00+05:30"
         ],
         "y": [
          262.34091808573146,
          262.34091808573146
         ]
        },
        {
         "line": {
          "color": "red"
         },
         "mode": "lines",
         "name": "SuperTrend Downtrend",
         "showlegend": false,
         "type": "scatter",
         "x": [
          "2023-05-19T14:35:00+05:30",
          "2023-05-19T14:36:00+05:30"
         ],
         "y": [
          262.34091808573146,
          262.34091808573146
         ]
        },
        {
         "line": {
          "color": "red"
         },
         "mode": "lines",
         "name": "SuperTrend Downtrend",
         "showlegend": false,
         "type": "scatter",
         "x": [
          "2023-05-19T14:36:00+05:30",
          "2023-05-19T14:37:00+05:30"
         ],
         "y": [
          262.34091808573146,
          262.34091808573146
         ]
        },
        {
         "line": {
          "color": "red"
         },
         "mode": "lines",
         "name": "SuperTrend Downtrend",
         "showlegend": false,
         "type": "scatter",
         "x": [
          "2023-05-19T14:37:00+05:30",
          "2023-05-19T14:38:00+05:30"
         ],
         "y": [
          262.34091808573146,
          262.34091808573146
         ]
        },
        {
         "line": {
          "color": "red"
         },
         "mode": "lines",
         "name": "SuperTrend Downtrend",
         "showlegend": false,
         "type": "scatter",
         "x": [
          "2023-05-19T14:38:00+05:30",
          "2023-05-19T14:39:00+05:30"
         ],
         "y": [
          262.34091808573146,
          262.34091808573146
         ]
        },
        {
         "line": {
          "color": "red"
         },
         "mode": "lines",
         "name": "SuperTrend Downtrend",
         "showlegend": false,
         "type": "scatter",
         "x": [
          "2023-05-19T14:39:00+05:30",
          "2023-05-19T14:40:00+05:30"
         ],
         "y": [
          262.34091808573146,
          262.34091808573146
         ]
        },
        {
         "line": {
          "color": "red"
         },
         "mode": "lines",
         "name": "SuperTrend Downtrend",
         "showlegend": false,
         "type": "scatter",
         "x": [
          "2023-05-19T14:40:00+05:30",
          "2023-05-19T14:41:00+05:30"
         ],
         "y": [
          262.34091808573146,
          262.34091808573146
         ]
        },
        {
         "line": {
          "color": "red"
         },
         "mode": "lines",
         "name": "SuperTrend Downtrend",
         "showlegend": false,
         "type": "scatter",
         "x": [
          "2023-05-19T14:41:00+05:30",
          "2023-05-19T14:42:00+05:30"
         ],
         "y": [
          262.34091808573146,
          262.34091808573146
         ]
        },
        {
         "line": {
          "color": "red"
         },
         "mode": "lines",
         "name": "SuperTrend Downtrend",
         "showlegend": false,
         "type": "scatter",
         "x": [
          "2023-05-19T14:42:00+05:30",
          "2023-05-19T14:43:00+05:30"
         ],
         "y": [
          262.34091808573146,
          262.34091808573146
         ]
        },
        {
         "line": {
          "color": "red"
         },
         "mode": "lines",
         "name": "SuperTrend Downtrend",
         "showlegend": false,
         "type": "scatter",
         "x": [
          "2023-05-19T14:43:00+05:30",
          "2023-05-19T14:44:00+05:30"
         ],
         "y": [
          262.34091808573146,
          262.34091808573146
         ]
        },
        {
         "line": {
          "color": "red"
         },
         "mode": "lines",
         "name": "SuperTrend Downtrend",
         "showlegend": false,
         "type": "scatter",
         "x": [
          "2023-05-19T14:44:00+05:30",
          "2023-05-19T14:45:00+05:30"
         ],
         "y": [
          262.34091808573146,
          262.34091808573146
         ]
        },
        {
         "line": {
          "color": "red"
         },
         "mode": "lines",
         "name": "SuperTrend Downtrend",
         "showlegend": false,
         "type": "scatter",
         "x": [
          "2023-05-19T14:45:00+05:30",
          "2023-05-19T14:46:00+05:30"
         ],
         "y": [
          262.34091808573146,
          262.34091808573146
         ]
        },
        {
         "line": {
          "color": "red"
         },
         "mode": "lines",
         "name": "SuperTrend Downtrend",
         "showlegend": false,
         "type": "scatter",
         "x": [
          "2023-05-19T14:46:00+05:30",
          "2023-05-19T14:47:00+05:30"
         ],
         "y": [
          262.34091808573146,
          262.34091808573146
         ]
        },
        {
         "line": {
          "color": "red"
         },
         "mode": "lines",
         "name": "SuperTrend Downtrend",
         "showlegend": false,
         "type": "scatter",
         "x": [
          "2023-05-19T14:47:00+05:30",
          "2023-05-19T14:48:00+05:30"
         ],
         "y": [
          262.34091808573146,
          262.34091808573146
         ]
        },
        {
         "line": {
          "color": "red"
         },
         "mode": "lines",
         "name": "SuperTrend Downtrend",
         "showlegend": false,
         "type": "scatter",
         "x": [
          "2023-05-19T14:48:00+05:30",
          "2023-05-19T14:49:00+05:30"
         ],
         "y": [
          262.34091808573146,
          262.34091808573146
         ]
        },
        {
         "line": {
          "color": "red"
         },
         "mode": "lines",
         "name": "SuperTrend Downtrend",
         "showlegend": false,
         "type": "scatter",
         "x": [
          "2023-05-19T14:49:00+05:30",
          "2023-05-19T14:50:00+05:30"
         ],
         "y": [
          262.34091808573146,
          262.34091808573146
         ]
        },
        {
         "line": {
          "color": "red"
         },
         "mode": "lines",
         "name": "SuperTrend Downtrend",
         "showlegend": false,
         "type": "scatter",
         "x": [
          "2023-05-19T14:50:00+05:30",
          "2023-05-19T14:51:00+05:30"
         ],
         "y": [
          262.34091808573146,
          262.34091808573146
         ]
        },
        {
         "line": {
          "color": "red"
         },
         "mode": "lines",
         "name": "SuperTrend Downtrend",
         "showlegend": false,
         "type": "scatter",
         "x": [
          "2023-05-19T14:51:00+05:30",
          "2023-05-19T14:52:00+05:30"
         ],
         "y": [
          262.34091808573146,
          262.34091808573146
         ]
        },
        {
         "line": {
          "color": "red"
         },
         "mode": "lines",
         "name": "SuperTrend Downtrend",
         "showlegend": false,
         "type": "scatter",
         "x": [
          "2023-05-19T14:52:00+05:30",
          "2023-05-19T14:53:00+05:30"
         ],
         "y": [
          262.34091808573146,
          262.34091808573146
         ]
        },
        {
         "line": {
          "color": "red"
         },
         "mode": "lines",
         "name": "SuperTrend Downtrend",
         "showlegend": false,
         "type": "scatter",
         "x": [
          "2023-05-19T14:53:00+05:30",
          "2023-05-19T14:54:00+05:30"
         ],
         "y": [
          262.34091808573146,
          262.34091808573146
         ]
        },
        {
         "line": {
          "color": "red"
         },
         "mode": "lines",
         "name": "SuperTrend Downtrend",
         "showlegend": false,
         "type": "scatter",
         "x": [
          "2023-05-19T14:54:00+05:30",
          "2023-05-19T14:55:00+05:30"
         ],
         "y": [
          262.34091808573146,
          262.34091808573146
         ]
        },
        {
         "line": {
          "color": "red"
         },
         "mode": "lines",
         "name": "SuperTrend Downtrend",
         "showlegend": false,
         "type": "scatter",
         "x": [
          "2023-05-19T14:55:00+05:30",
          "2023-05-19T14:56:00+05:30"
         ],
         "y": [
          262.34091808573146,
          262.34091808573146
         ]
        },
        {
         "line": {
          "color": "red"
         },
         "mode": "lines",
         "name": "SuperTrend Downtrend",
         "showlegend": false,
         "type": "scatter",
         "x": [
          "2023-05-19T14:56:00+05:30",
          "2023-05-19T14:57:00+05:30"
         ],
         "y": [
          262.34091808573146,
          262.34091808573146
         ]
        },
        {
         "line": {
          "color": "red"
         },
         "mode": "lines",
         "name": "SuperTrend Downtrend",
         "showlegend": false,
         "type": "scatter",
         "x": [
          "2023-05-19T14:57:00+05:30",
          "2023-05-19T14:58:00+05:30"
         ],
         "y": [
          262.34091808573146,
          262.34091808573146
         ]
        },
        {
         "line": {
          "color": "red"
         },
         "mode": "lines",
         "name": "SuperTrend Downtrend",
         "showlegend": false,
         "type": "scatter",
         "x": [
          "2023-05-19T14:58:00+05:30",
          "2023-05-19T14:59:00+05:30"
         ],
         "y": [
          262.34091808573146,
          262.34091808573146
         ]
        },
        {
         "line": {
          "color": "red"
         },
         "mode": "lines",
         "name": "SuperTrend Downtrend",
         "showlegend": false,
         "type": "scatter",
         "x": [
          "2023-05-19T14:59:00+05:30",
          "2023-05-19T15:00:00+05:30"
         ],
         "y": [
          262.34091808573146,
          262.34091808573146
         ]
        },
        {
         "line": {
          "color": "red"
         },
         "mode": "lines",
         "name": "SuperTrend Downtrend",
         "showlegend": false,
         "type": "scatter",
         "x": [
          "2023-05-19T15:00:00+05:30",
          "2023-05-19T15:01:00+05:30"
         ],
         "y": [
          262.34091808573146,
          262.34091808573146
         ]
        },
        {
         "line": {
          "color": "red"
         },
         "mode": "lines",
         "name": "SuperTrend Downtrend",
         "showlegend": false,
         "type": "scatter",
         "x": [
          "2023-05-19T15:01:00+05:30",
          "2023-05-19T15:02:00+05:30"
         ],
         "y": [
          262.34091808573146,
          262.34091808573146
         ]
        },
        {
         "line": {
          "color": "red"
         },
         "mode": "lines",
         "name": "SuperTrend Downtrend",
         "showlegend": false,
         "type": "scatter",
         "x": [
          "2023-05-19T15:02:00+05:30",
          "2023-05-19T15:03:00+05:30"
         ],
         "y": [
          262.34091808573146,
          262.34091808573146
         ]
        },
        {
         "line": {
          "color": "red"
         },
         "mode": "lines",
         "name": "SuperTrend Downtrend",
         "showlegend": false,
         "type": "scatter",
         "x": [
          "2023-05-19T15:03:00+05:30",
          "2023-05-19T15:04:00+05:30"
         ],
         "y": [
          262.34091808573146,
          262.34091808573146
         ]
        },
        {
         "line": {
          "color": "red"
         },
         "mode": "lines",
         "name": "SuperTrend Downtrend",
         "showlegend": false,
         "type": "scatter",
         "x": [
          "2023-05-19T15:04:00+05:30",
          "2023-05-19T15:05:00+05:30"
         ],
         "y": [
          262.34091808573146,
          262.34091808573146
         ]
        },
        {
         "line": {
          "color": "red"
         },
         "mode": "lines",
         "name": "SuperTrend Downtrend",
         "showlegend": false,
         "type": "scatter",
         "x": [
          "2023-05-19T15:05:00+05:30",
          "2023-05-19T15:06:00+05:30"
         ],
         "y": [
          262.34091808573146,
          262.34091808573146
         ]
        },
        {
         "line": {
          "color": "red"
         },
         "mode": "lines",
         "name": "SuperTrend Downtrend",
         "showlegend": false,
         "type": "scatter",
         "x": [
          "2023-05-19T15:06:00+05:30",
          "2023-05-19T15:07:00+05:30"
         ],
         "y": [
          262.34091808573146,
          262.34091808573146
         ]
        },
        {
         "line": {
          "color": "red"
         },
         "mode": "lines",
         "name": "SuperTrend Downtrend",
         "showlegend": false,
         "type": "scatter",
         "x": [
          "2023-05-19T15:07:00+05:30",
          "2023-05-19T15:08:00+05:30"
         ],
         "y": [
          262.34091808573146,
          262.34091808573146
         ]
        },
        {
         "line": {
          "color": "red"
         },
         "mode": "lines",
         "name": "SuperTrend Downtrend",
         "showlegend": false,
         "type": "scatter",
         "x": [
          "2023-05-19T15:08:00+05:30",
          "2023-05-19T15:09:00+05:30"
         ],
         "y": [
          262.34091808573146,
          262.34091808573146
         ]
        },
        {
         "line": {
          "color": "red"
         },
         "mode": "lines",
         "name": "SuperTrend Downtrend",
         "showlegend": false,
         "type": "scatter",
         "x": [
          "2023-05-19T15:09:00+05:30",
          "2023-05-19T15:10:00+05:30"
         ],
         "y": [
          262.34091808573146,
          262.34091808573146
         ]
        },
        {
         "line": {
          "color": "red"
         },
         "mode": "lines",
         "name": "SuperTrend Downtrend",
         "showlegend": false,
         "type": "scatter",
         "x": [
          "2023-05-19T15:10:00+05:30",
          "2023-05-19T15:11:00+05:30"
         ],
         "y": [
          262.34091808573146,
          262.34091808573146
         ]
        },
        {
         "line": {
          "color": "red"
         },
         "mode": "lines",
         "name": "SuperTrend Downtrend",
         "showlegend": false,
         "type": "scatter",
         "x": [
          "2023-05-19T15:11:00+05:30",
          "2023-05-19T15:12:00+05:30"
         ],
         "y": [
          262.34091808573146,
          262.34091808573146
         ]
        },
        {
         "line": {
          "color": "red"
         },
         "mode": "lines",
         "name": "SuperTrend Downtrend",
         "showlegend": false,
         "type": "scatter",
         "x": [
          "2023-05-19T15:12:00+05:30",
          "2023-05-19T15:13:00+05:30"
         ],
         "y": [
          262.34091808573146,
          262.34091808573146
         ]
        },
        {
         "line": {
          "color": "red"
         },
         "mode": "lines",
         "name": "SuperTrend Downtrend",
         "showlegend": false,
         "type": "scatter",
         "x": [
          "2023-05-19T15:13:00+05:30",
          "2023-05-19T15:14:00+05:30"
         ],
         "y": [
          262.34091808573146,
          262.34091808573146
         ]
        },
        {
         "line": {
          "color": "red"
         },
         "mode": "lines",
         "name": "SuperTrend Downtrend",
         "showlegend": false,
         "type": "scatter",
         "x": [
          "2023-05-19T15:14:00+05:30",
          "2023-05-19T15:15:00+05:30"
         ],
         "y": [
          262.34091808573146,
          262.34091808573146
         ]
        },
        {
         "line": {
          "color": "red"
         },
         "mode": "lines",
         "name": "SuperTrend Downtrend",
         "showlegend": false,
         "type": "scatter",
         "x": [
          "2023-05-19T15:15:00+05:30",
          "2023-05-19T15:16:00+05:30"
         ],
         "y": [
          262.34091808573146,
          262.34091808573146
         ]
        },
        {
         "line": {
          "color": "red"
         },
         "mode": "lines",
         "name": "SuperTrend Downtrend",
         "showlegend": false,
         "type": "scatter",
         "x": [
          "2023-05-19T15:16:00+05:30",
          "2023-05-19T15:17:00+05:30"
         ],
         "y": [
          262.34091808573146,
          262.34091808573146
         ]
        },
        {
         "line": {
          "color": "red"
         },
         "mode": "lines",
         "name": "SuperTrend Downtrend",
         "showlegend": false,
         "type": "scatter",
         "x": [
          "2023-05-19T15:17:00+05:30",
          "2023-05-19T15:18:00+05:30"
         ],
         "y": [
          262.34091808573146,
          262.34091808573146
         ]
        },
        {
         "line": {
          "color": "red"
         },
         "mode": "lines",
         "name": "SuperTrend Downtrend",
         "showlegend": false,
         "type": "scatter",
         "x": [
          "2023-05-19T15:18:00+05:30",
          "2023-05-19T15:19:00+05:30"
         ],
         "y": [
          262.34091808573146,
          259.55504859697083
         ]
        },
        {
         "line": {
          "color": "red"
         },
         "mode": "lines",
         "name": "SuperTrend Downtrend",
         "showlegend": false,
         "type": "scatter",
         "x": [
          "2023-05-19T15:19:00+05:30",
          "2023-05-19T15:20:00+05:30"
         ],
         "y": [
          259.55504859697083,
          259.55504859697083
         ]
        },
        {
         "line": {
          "color": "red"
         },
         "mode": "lines",
         "name": "SuperTrend Downtrend",
         "showlegend": false,
         "type": "scatter",
         "x": [
          "2023-05-19T15:20:00+05:30",
          "2023-05-19T15:21:00+05:30"
         ],
         "y": [
          259.55504859697083,
          259.55504859697083
         ]
        },
        {
         "line": {
          "color": "red"
         },
         "mode": "lines",
         "name": "SuperTrend Downtrend",
         "showlegend": false,
         "type": "scatter",
         "x": [
          "2023-05-19T15:21:00+05:30",
          "2023-05-19T15:22:00+05:30"
         ],
         "y": [
          259.55504859697083,
          259.55504859697083
         ]
        },
        {
         "line": {
          "color": "red"
         },
         "mode": "lines",
         "name": "SuperTrend Downtrend",
         "showlegend": false,
         "type": "scatter",
         "x": [
          "2023-05-19T15:22:00+05:30",
          "2023-05-19T15:23:00+05:30"
         ],
         "y": [
          259.55504859697083,
          251.60540600138523
         ]
        },
        {
         "line": {
          "color": "red"
         },
         "mode": "lines",
         "name": "SuperTrend Downtrend",
         "showlegend": false,
         "type": "scatter",
         "x": [
          "2023-05-19T15:23:00+05:30",
          "2023-05-19T15:24:00+05:30"
         ],
         "y": [
          251.60540600138523,
          251.60540600138523
         ]
        },
        {
         "line": {
          "color": "red"
         },
         "mode": "lines",
         "name": "SuperTrend Downtrend",
         "showlegend": false,
         "type": "scatter",
         "x": [
          "2023-05-19T15:24:00+05:30",
          "2023-05-19T15:25:00+05:30"
         ],
         "y": [
          251.60540600138523,
          251.60540600138523
         ]
        },
        {
         "line": {
          "color": "red"
         },
         "mode": "lines",
         "name": "SuperTrend Downtrend",
         "showlegend": false,
         "type": "scatter",
         "x": [
          "2023-05-19T15:25:00+05:30",
          "2023-05-19T15:26:00+05:30"
         ],
         "y": [
          251.60540600138523,
          245.39173378183443
         ]
        },
        {
         "line": {
          "color": "red"
         },
         "mode": "lines",
         "name": "SuperTrend Downtrend",
         "showlegend": false,
         "type": "scatter",
         "x": [
          "2023-05-19T15:26:00+05:30",
          "2023-05-19T15:27:00+05:30"
         ],
         "y": [
          245.39173378183443,
          238.98130033637585
         ]
        },
        {
         "line": {
          "color": "red"
         },
         "mode": "lines",
         "name": "SuperTrend Downtrend",
         "showlegend": false,
         "type": "scatter",
         "x": [
          "2023-05-19T15:27:00+05:30",
          "2023-05-19T15:28:00+05:30"
         ],
         "y": [
          238.98130033637585,
          232.9734752522818
         ]
        },
        {
         "line": {
          "color": "red"
         },
         "mode": "lines",
         "name": "SuperTrend Downtrend",
         "showlegend": false,
         "type": "scatter",
         "x": [
          "2023-05-19T15:28:00+05:30",
          "2023-05-19T15:29:00+05:30"
         ],
         "y": [
          232.9734752522818,
          226.3301064392113
         ]
        },
        {
         "marker": {
          "color": "green",
          "size": 15,
          "symbol": "triangle-up"
         },
         "mode": "markers",
         "name": "Long",
         "type": "scatter",
         "x": [
          "2023-05-17T09:26:00+05:30"
         ],
         "y": [
          259.1
         ]
        },
        {
         "marker": {
          "color": "green",
          "size": 15,
          "symbol": "star"
         },
         "mode": "markers",
         "name": "Long Cover",
         "type": "scatter",
         "x": [
          "2023-05-17T14:59:00+05:30"
         ],
         "y": [
          231.8
         ]
        },
        {
         "marker": {
          "color": "red",
          "size": 15,
          "symbol": "triangle-down"
         },
         "mode": "markers",
         "name": "Short Signal",
         "type": "scatter",
         "x": [
          "2023-05-19T09:22:00+05:30"
         ],
         "y": [
          190.45
         ]
        },
        {
         "marker": {
          "color": "red",
          "size": 15,
          "symbol": "star"
         },
         "mode": "markers",
         "name": "Short Cover Signal",
         "type": "scatter",
         "x": [
          "2023-05-19T14:59:00+05:30"
         ],
         "y": [
          168.45
         ]
        }
       ],
       "layout": {
        "height": 800,
        "plot_bgcolor": "black",
        "shapes": [
         {
          "fillcolor": "#5F9EA0",
          "layer": "below",
          "line": {
           "width": 0
          },
          "opacity": 0.3,
          "type": "rect",
          "x0": "2023-05-17T09:15:00+05:30",
          "x1": "2023-05-17T15:30:00+05:30",
          "xref": "x",
          "y0": 0,
          "y1": 1,
          "yref": "paper"
         },
         {
          "fillcolor": "#F5DEB3",
          "layer": "below",
          "line": {
           "width": 0
          },
          "opacity": 0.3,
          "type": "rect",
          "x0": "2023-05-18T09:15:00+05:30",
          "x1": "2023-05-18T15:30:00+05:30",
          "xref": "x",
          "y0": 0,
          "y1": 1,
          "yref": "paper"
         },
         {
          "fillcolor": "black",
          "layer": "below",
          "line": {
           "width": 0
          },
          "opacity": 0.3,
          "type": "rect",
          "x0": "2023-05-19T09:15:00+05:30",
          "x1": "2023-05-19T15:30:00+05:30",
          "xref": "x",
          "y0": 0,
          "y1": 1,
          "yref": "paper"
         }
        ],
        "template": {
         "data": {
          "bar": [
           {
            "error_x": {
             "color": "#2a3f5f"
            },
            "error_y": {
             "color": "#2a3f5f"
            },
            "marker": {
             "line": {
              "color": "#E5ECF6",
              "width": 0.5
             },
             "pattern": {
              "fillmode": "overlay",
              "size": 10,
              "solidity": 0.2
             }
            },
            "type": "bar"
           }
          ],
          "barpolar": [
           {
            "marker": {
             "line": {
              "color": "#E5ECF6",
              "width": 0.5
             },
             "pattern": {
              "fillmode": "overlay",
              "size": 10,
              "solidity": 0.2
             }
            },
            "type": "barpolar"
           }
          ],
          "carpet": [
           {
            "aaxis": {
             "endlinecolor": "#2a3f5f",
             "gridcolor": "white",
             "linecolor": "white",
             "minorgridcolor": "white",
             "startlinecolor": "#2a3f5f"
            },
            "baxis": {
             "endlinecolor": "#2a3f5f",
             "gridcolor": "white",
             "linecolor": "white",
             "minorgridcolor": "white",
             "startlinecolor": "#2a3f5f"
            },
            "type": "carpet"
           }
          ],
          "choropleth": [
           {
            "colorbar": {
             "outlinewidth": 0,
             "ticks": ""
            },
            "type": "choropleth"
           }
          ],
          "contour": [
           {
            "colorbar": {
             "outlinewidth": 0,
             "ticks": ""
            },
            "colorscale": [
             [
              0,
              "#0d0887"
             ],
             [
              0.1111111111111111,
              "#46039f"
             ],
             [
              0.2222222222222222,
              "#7201a8"
             ],
             [
              0.3333333333333333,
              "#9c179e"
             ],
             [
              0.4444444444444444,
              "#bd3786"
             ],
             [
              0.5555555555555556,
              "#d8576b"
             ],
             [
              0.6666666666666666,
              "#ed7953"
             ],
             [
              0.7777777777777778,
              "#fb9f3a"
             ],
             [
              0.8888888888888888,
              "#fdca26"
             ],
             [
              1,
              "#f0f921"
             ]
            ],
            "type": "contour"
           }
          ],
          "contourcarpet": [
           {
            "colorbar": {
             "outlinewidth": 0,
             "ticks": ""
            },
            "type": "contourcarpet"
           }
          ],
          "heatmap": [
           {
            "colorbar": {
             "outlinewidth": 0,
             "ticks": ""
            },
            "colorscale": [
             [
              0,
              "#0d0887"
             ],
             [
              0.1111111111111111,
              "#46039f"
             ],
             [
              0.2222222222222222,
              "#7201a8"
             ],
             [
              0.3333333333333333,
              "#9c179e"
             ],
             [
              0.4444444444444444,
              "#bd3786"
             ],
             [
              0.5555555555555556,
              "#d8576b"
             ],
             [
              0.6666666666666666,
              "#ed7953"
             ],
             [
              0.7777777777777778,
              "#fb9f3a"
             ],
             [
              0.8888888888888888,
              "#fdca26"
             ],
             [
              1,
              "#f0f921"
             ]
            ],
            "type": "heatmap"
           }
          ],
          "heatmapgl": [
           {
            "colorbar": {
             "outlinewidth": 0,
             "ticks": ""
            },
            "colorscale": [
             [
              0,
              "#0d0887"
             ],
             [
              0.1111111111111111,
              "#46039f"
             ],
             [
              0.2222222222222222,
              "#7201a8"
             ],
             [
              0.3333333333333333,
              "#9c179e"
             ],
             [
              0.4444444444444444,
              "#bd3786"
             ],
             [
              0.5555555555555556,
              "#d8576b"
             ],
             [
              0.6666666666666666,
              "#ed7953"
             ],
             [
              0.7777777777777778,
              "#fb9f3a"
             ],
             [
              0.8888888888888888,
              "#fdca26"
             ],
             [
              1,
              "#f0f921"
             ]
            ],
            "type": "heatmapgl"
           }
          ],
          "histogram": [
           {
            "marker": {
             "pattern": {
              "fillmode": "overlay",
              "size": 10,
              "solidity": 0.2
             }
            },
            "type": "histogram"
           }
          ],
          "histogram2d": [
           {
            "colorbar": {
             "outlinewidth": 0,
             "ticks": ""
            },
            "colorscale": [
             [
              0,
              "#0d0887"
             ],
             [
              0.1111111111111111,
              "#46039f"
             ],
             [
              0.2222222222222222,
              "#7201a8"
             ],
             [
              0.3333333333333333,
              "#9c179e"
             ],
             [
              0.4444444444444444,
              "#bd3786"
             ],
             [
              0.5555555555555556,
              "#d8576b"
             ],
             [
              0.6666666666666666,
              "#ed7953"
             ],
             [
              0.7777777777777778,
              "#fb9f3a"
             ],
             [
              0.8888888888888888,
              "#fdca26"
             ],
             [
              1,
              "#f0f921"
             ]
            ],
            "type": "histogram2d"
           }
          ],
          "histogram2dcontour": [
           {
            "colorbar": {
             "outlinewidth": 0,
             "ticks": ""
            },
            "colorscale": [
             [
              0,
              "#0d0887"
             ],
             [
              0.1111111111111111,
              "#46039f"
             ],
             [
              0.2222222222222222,
              "#7201a8"
             ],
             [
              0.3333333333333333,
              "#9c179e"
             ],
             [
              0.4444444444444444,
              "#bd3786"
             ],
             [
              0.5555555555555556,
              "#d8576b"
             ],
             [
              0.6666666666666666,
              "#ed7953"
             ],
             [
              0.7777777777777778,
              "#fb9f3a"
             ],
             [
              0.8888888888888888,
              "#fdca26"
             ],
             [
              1,
              "#f0f921"
             ]
            ],
            "type": "histogram2dcontour"
           }
          ],
          "mesh3d": [
           {
            "colorbar": {
             "outlinewidth": 0,
             "ticks": ""
            },
            "type": "mesh3d"
           }
          ],
          "parcoords": [
           {
            "line": {
             "colorbar": {
              "outlinewidth": 0,
              "ticks": ""
             }
            },
            "type": "parcoords"
           }
          ],
          "pie": [
           {
            "automargin": true,
            "type": "pie"
           }
          ],
          "scatter": [
           {
            "fillpattern": {
             "fillmode": "overlay",
             "size": 10,
             "solidity": 0.2
            },
            "type": "scatter"
           }
          ],
          "scatter3d": [
           {
            "line": {
             "colorbar": {
              "outlinewidth": 0,
              "ticks": ""
             }
            },
            "marker": {
             "colorbar": {
              "outlinewidth": 0,
              "ticks": ""
             }
            },
            "type": "scatter3d"
           }
          ],
          "scattercarpet": [
           {
            "marker": {
             "colorbar": {
              "outlinewidth": 0,
              "ticks": ""
             }
            },
            "type": "scattercarpet"
           }
          ],
          "scattergeo": [
           {
            "marker": {
             "colorbar": {
              "outlinewidth": 0,
              "ticks": ""
             }
            },
            "type": "scattergeo"
           }
          ],
          "scattergl": [
           {
            "marker": {
             "colorbar": {
              "outlinewidth": 0,
              "ticks": ""
             }
            },
            "type": "scattergl"
           }
          ],
          "scattermapbox": [
           {
            "marker": {
             "colorbar": {
              "outlinewidth": 0,
              "ticks": ""
             }
            },
            "type": "scattermapbox"
           }
          ],
          "scatterpolar": [
           {
            "marker": {
             "colorbar": {
              "outlinewidth": 0,
              "ticks": ""
             }
            },
            "type": "scatterpolar"
           }
          ],
          "scatterpolargl": [
           {
            "marker": {
             "colorbar": {
              "outlinewidth": 0,
              "ticks": ""
             }
            },
            "type": "scatterpolargl"
           }
          ],
          "scatterternary": [
           {
            "marker": {
             "colorbar": {
              "outlinewidth": 0,
              "ticks": ""
             }
            },
            "type": "scatterternary"
           }
          ],
          "surface": [
           {
            "colorbar": {
             "outlinewidth": 0,
             "ticks": ""
            },
            "colorscale": [
             [
              0,
              "#0d0887"
             ],
             [
              0.1111111111111111,
              "#46039f"
             ],
             [
              0.2222222222222222,
              "#7201a8"
             ],
             [
              0.3333333333333333,
              "#9c179e"
             ],
             [
              0.4444444444444444,
              "#bd3786"
             ],
             [
              0.5555555555555556,
              "#d8576b"
             ],
             [
              0.6666666666666666,
              "#ed7953"
             ],
             [
              0.7777777777777778,
              "#fb9f3a"
             ],
             [
              0.8888888888888888,
              "#fdca26"
             ],
             [
              1,
              "#f0f921"
             ]
            ],
            "type": "surface"
           }
          ],
          "table": [
           {
            "cells": {
             "fill": {
              "color": "#EBF0F8"
             },
             "line": {
              "color": "white"
             }
            },
            "header": {
             "fill": {
              "color": "#C8D4E3"
             },
             "line": {
              "color": "white"
             }
            },
            "type": "table"
           }
          ]
         },
         "layout": {
          "annotationdefaults": {
           "arrowcolor": "#2a3f5f",
           "arrowhead": 0,
           "arrowwidth": 1
          },
          "autotypenumbers": "strict",
          "coloraxis": {
           "colorbar": {
            "outlinewidth": 0,
            "ticks": ""
           }
          },
          "colorscale": {
           "diverging": [
            [
             0,
             "#8e0152"
            ],
            [
             0.1,
             "#c51b7d"
            ],
            [
             0.2,
             "#de77ae"
            ],
            [
             0.3,
             "#f1b6da"
            ],
            [
             0.4,
             "#fde0ef"
            ],
            [
             0.5,
             "#f7f7f7"
            ],
            [
             0.6,
             "#e6f5d0"
            ],
            [
             0.7,
             "#b8e186"
            ],
            [
             0.8,
             "#7fbc41"
            ],
            [
             0.9,
             "#4d9221"
            ],
            [
             1,
             "#276419"
            ]
           ],
           "sequential": [
            [
             0,
             "#0d0887"
            ],
            [
             0.1111111111111111,
             "#46039f"
            ],
            [
             0.2222222222222222,
             "#7201a8"
            ],
            [
             0.3333333333333333,
             "#9c179e"
            ],
            [
             0.4444444444444444,
             "#bd3786"
            ],
            [
             0.5555555555555556,
             "#d8576b"
            ],
            [
             0.6666666666666666,
             "#ed7953"
            ],
            [
             0.7777777777777778,
             "#fb9f3a"
            ],
            [
             0.8888888888888888,
             "#fdca26"
            ],
            [
             1,
             "#f0f921"
            ]
           ],
           "sequentialminus": [
            [
             0,
             "#0d0887"
            ],
            [
             0.1111111111111111,
             "#46039f"
            ],
            [
             0.2222222222222222,
             "#7201a8"
            ],
            [
             0.3333333333333333,
             "#9c179e"
            ],
            [
             0.4444444444444444,
             "#bd3786"
            ],
            [
             0.5555555555555556,
             "#d8576b"
            ],
            [
             0.6666666666666666,
             "#ed7953"
            ],
            [
             0.7777777777777778,
             "#fb9f3a"
            ],
            [
             0.8888888888888888,
             "#fdca26"
            ],
            [
             1,
             "#f0f921"
            ]
           ]
          },
          "colorway": [
           "#636efa",
           "#EF553B",
           "#00cc96",
           "#ab63fa",
           "#FFA15A",
           "#19d3f3",
           "#FF6692",
           "#B6E880",
           "#FF97FF",
           "#FECB52"
          ],
          "font": {
           "color": "#2a3f5f"
          },
          "geo": {
           "bgcolor": "white",
           "lakecolor": "white",
           "landcolor": "#E5ECF6",
           "showlakes": true,
           "showland": true,
           "subunitcolor": "white"
          },
          "hoverlabel": {
           "align": "left"
          },
          "hovermode": "closest",
          "mapbox": {
           "style": "light"
          },
          "paper_bgcolor": "white",
          "plot_bgcolor": "#E5ECF6",
          "polar": {
           "angularaxis": {
            "gridcolor": "white",
            "linecolor": "white",
            "ticks": ""
           },
           "bgcolor": "#E5ECF6",
           "radialaxis": {
            "gridcolor": "white",
            "linecolor": "white",
            "ticks": ""
           }
          },
          "scene": {
           "xaxis": {
            "backgroundcolor": "#E5ECF6",
            "gridcolor": "white",
            "gridwidth": 2,
            "linecolor": "white",
            "showbackground": true,
            "ticks": "",
            "zerolinecolor": "white"
           },
           "yaxis": {
            "backgroundcolor": "#E5ECF6",
            "gridcolor": "white",
            "gridwidth": 2,
            "linecolor": "white",
            "showbackground": true,
            "ticks": "",
            "zerolinecolor": "white"
           },
           "zaxis": {
            "backgroundcolor": "#E5ECF6",
            "gridcolor": "white",
            "gridwidth": 2,
            "linecolor": "white",
            "showbackground": true,
            "ticks": "",
            "zerolinecolor": "white"
           }
          },
          "shapedefaults": {
           "line": {
            "color": "#2a3f5f"
           }
          },
          "ternary": {
           "aaxis": {
            "gridcolor": "white",
            "linecolor": "white",
            "ticks": ""
           },
           "baxis": {
            "gridcolor": "white",
            "linecolor": "white",
            "ticks": ""
           },
           "bgcolor": "#E5ECF6",
           "caxis": {
            "gridcolor": "white",
            "linecolor": "white",
            "ticks": ""
           }
          },
          "title": {
           "x": 0.05
          },
          "xaxis": {
           "automargin": true,
           "gridcolor": "white",
           "linecolor": "white",
           "ticks": "",
           "title": {
            "standoff": 15
           },
           "zerolinecolor": "white",
           "zerolinewidth": 2
          },
          "yaxis": {
           "automargin": true,
           "gridcolor": "white",
           "linecolor": "white",
           "ticks": "",
           "title": {
            "standoff": 15
           },
           "zerolinecolor": "white",
           "zerolinewidth": 2
          }
         }
        },
        "title": {
         "text": "AmiPy_NF"
        },
        "xaxis": {
         "dtick": "60 * 60 * 1000",
         "gridcolor": "rgba(128, 128, 128, 0.1)",
         "hoverformat": "%Y-%m-%d %H:%M",
         "rangebreaks": [
          {
           "bounds": [
            "sat",
            "mon"
           ]
          },
          {
           "bounds": [
            0,
            9.25
           ],
           "pattern": "hour"
          },
          {
           "bounds": [
            15.5,
            24
           ],
           "pattern": "hour"
          }
         ],
         "showgrid": true,
         "tickformat": "%Y-%m-%d %H:%M"
        },
        "yaxis": {
         "automargin": true,
         "autorange": true,
         "gridcolor": "rgba(128, 128, 128, 0.1)",
         "showgrid": true
        }
       }
      }
     },
     "metadata": {},
     "output_type": "display_data"
    }
   ],
   "source": [
    "plotly_plot(merged_df2)"
   ]
  },
  {
   "cell_type": "code",
   "execution_count": null,
   "metadata": {},
   "outputs": [],
   "source": []
  }
 ],
 "metadata": {
  "kernelspec": {
   "display_name": "Python 3",
   "language": "python",
   "name": "python3"
  },
  "language_info": {
   "codemirror_mode": {
    "name": "ipython",
    "version": 3
   },
   "file_extension": ".py",
   "mimetype": "text/x-python",
   "name": "python",
   "nbconvert_exporter": "python",
   "pygments_lexer": "ipython3",
   "version": "3.11.2"
  },
  "orig_nbformat": 4
 },
 "nbformat": 4,
 "nbformat_minor": 2
}
