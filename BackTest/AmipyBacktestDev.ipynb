{
 "cells": [
  {
   "cell_type": "code",
   "execution_count": 1,
   "metadata": {},
   "outputs": [
    {
     "name": "stdout",
     "output_type": "stream",
     "text": [
      "Collecting protobuf==3.20.0\n",
      "  Downloading protobuf-3.20.0-py2.py3-none-any.whl (162 kB)\n",
      "     ---------------------------------------- 0.0/162.1 kB ? eta -:--:--\n",
      "     -- ------------------------------------- 10.2/162.1 kB ? eta -:--:--\n",
      "     ---------------- -------------------- 71.7/162.1 kB 975.2 kB/s eta 0:00:01\n",
      "     --------------------------------- ---- 143.4/162.1 kB 1.2 MB/s eta 0:00:01\n",
      "     -------------------------------------- 162.1/162.1 kB 1.2 MB/s eta 0:00:00\n",
      "Installing collected packages: protobuf\n",
      "  Attempting uninstall: protobuf\n",
      "    Found existing installation: protobuf 4.23.2\n",
      "    Uninstalling protobuf-4.23.2:\n",
      "      Successfully uninstalled protobuf-4.23.2\n",
      "Successfully installed protobuf-3.20.0\n",
      "Note: you may need to restart the kernel to use updated packages.\n"
     ]
    },
    {
     "name": "stderr",
     "output_type": "stream",
     "text": [
      "ERROR: pip's dependency resolver does not currently take into account all the packages that are installed. This behaviour is the source of the following dependency conflicts.\n",
      "googleapis-common-protos 1.59.0 requires protobuf!=3.20.0,!=3.20.1,!=4.21.1,!=4.21.2,!=4.21.3,!=4.21.4,!=4.21.5,<5.0.0dev,>=3.19.5, but you have protobuf 3.20.0 which is incompatible.\n",
      "google-api-core 2.11.0 requires protobuf!=3.20.0,!=3.20.1,!=4.21.0,!=4.21.1,!=4.21.2,!=4.21.3,!=4.21.4,!=4.21.5,<5.0.0dev,>=3.19.5, but you have protobuf 3.20.0 which is incompatible.\n",
      "grpcio-tools 1.54.2 requires protobuf<5.0dev,>=4.21.6, but you have protobuf 3.20.0 which is incompatible.\n",
      "tensorflow-intel 2.12.0 requires protobuf!=4.21.0,!=4.21.1,!=4.21.2,!=4.21.3,!=4.21.4,!=4.21.5,<5.0.0dev,>=3.20.3, but you have protobuf 3.20.0 which is incompatible.\n",
      "\n",
      "[notice] A new release of pip is available: 23.0.1 -> 23.1.2\n",
      "[notice] To update, run: python.exe -m pip install --upgrade pip\n"
     ]
    }
   ],
   "source": [
    "pip install protobuf==3.20.0\n"
   ]
  },
  {
   "cell_type": "code",
   "execution_count": 1,
   "metadata": {},
   "outputs": [],
   "source": [
    "import pandas as pd\n",
    "import numpy as np\n",
    "import plotly.graph_objs as go\n",
    "import plotly.offline as pyo\n",
    "from dateutil import parser\n",
    "from Strategies import AmipyNF\n",
    "from kiteconnect import KiteConnect\n",
    "from Brokers import apikey\n",
    "\n",
    "import pandas as pd\n",
    "from kiteconnect import KiteConnect\n",
    "import undetected_chromedriver as uc\n",
    "from selenium.webdriver.support.ui import WebDriverWait\n",
    "from selenium.webdriver.common.by import By\n",
    "from datetime import datetime\n",
    "import time, pyotp\n",
    "\n",
    "import logging\n",
    "from kiteconnect import KiteTicker\n",
    "from kiteconnect import KiteConnect\n",
    "from Brokers import apikey\n",
    "from datetime import datetime\n",
    "import time\n",
    "import os"
   ]
  },
  {
   "cell_type": "markdown",
   "metadata": {},
   "source": [
    "thursday_holidays = ['21MAR19','15AUG19','02APR20','11MAR21','13MAY21','19AUG21','04NOV21','14APR22','26JAN23','30MAR23']"
   ]
  },
  {
   "cell_type": "markdown",
   "metadata": {},
   "source": [
    "import datetime\n",
    "\n",
    "def all_thursdays(start_date, end_date, thursday_holidays):\n",
    "    # Convert strings to date objects\n",
    "    thursday_holidays = [datetime.datetime.strptime(date, \"%d%b%y\") for date in thursday_holidays]\n",
    "\n",
    "    # Convert start and end dates to date objects\n",
    "    start_date = datetime.datetime.strptime(start_date, \"%d%b%y\")\n",
    "    end_date = datetime.datetime.strptime(end_date, \"%d%b%y\")\n",
    "    \n",
    "    # Ensure start_date is a Thursday\n",
    "    while start_date.weekday() != 3:\n",
    "        start_date += datetime.timedelta(days=1)\n",
    "    print(start_date)\n",
    "\n",
    "    # Create list of all Thursdays, exclude holidays\n",
    "    thursdays = []\n",
    "    while start_date <= end_date:\n",
    "        if start_date not in thursday_holidays:\n",
    "            thursdays.append(start_date)\n",
    "        else:\n",
    "            thursdays.append((start_date-datetime.timedelta(days=1)))\n",
    "        start_date += datetime.timedelta(days=7)\n",
    "        \n",
    "    # # get previous day dates and convert them back to string\n",
    "    # previous_days = [(day - datetime.timedelta(days=1)).strftime(\"%d%b%y\").upper() for day in thursdays]\n",
    "    \n",
    "    return thursdays\n",
    "\n",
    "thursday_holidays = ['21MAR19','15AUG19','02APR20','11MAR21','13MAY21','19AUG21','04NOV21','14APR22','26JAN23','30MAR23']\n",
    "print(all_thursdays(\"01MAR19\", \"15MAY23\", thursday_holidays))\n",
    "expiry_dates = all_thursdays(\"01MAR19\", \"15MAY23\", thursday_holidays)\n"
   ]
  },
  {
   "cell_type": "markdown",
   "metadata": {},
   "source": [
    "import csv\n",
    "from datetime import datetime,timedelta\n",
    "import pandas as pd\n",
    "\n",
    "def round_to_nearest_hundred(n):\n",
    "    return round(n / 100.0) * 100\n",
    "\n",
    "file_path = r\"C:\\Users\\user\\Downloads\\NIFTY50_Data.csv\"\n",
    "\n",
    "data = []  # this list will hold your data\n",
    "\n",
    "with open(file_path, 'r') as file:\n",
    "    reader = csv.DictReader(file)\n",
    "    for row in reader:\n",
    "        if row['Date'] == '':\n",
    "            continue\n",
    "\n",
    "        date = datetime.strptime(row['Date'], '%d-%b-%y')\n",
    "        open_price = float(row['Open'])\n",
    "        strike_price = round_to_nearest_hundred(open_price)\n",
    "        \n",
    "        for expiry_date in expiry_dates:\n",
    "            if date <= expiry_date:\n",
    "                expiry_date_str = expiry_date.strftime(\"%d%b%y\").upper()\n",
    "                expiry_date_str = expiry_date_str.replace('-', '')\n",
    "                token_ce = f\"NIFTY{expiry_date_str}{strike_price}CE.NFO\"\n",
    "                token_pe = f\"NIFTY{expiry_date_str}{strike_price}PE.NFO\"\n",
    "                \n",
    "                # create a dictionary for this row of data\n",
    "                row_data = {\n",
    "                    'date': date,\n",
    "                    'open_price': open_price,\n",
    "                    'strike_price': strike_price,\n",
    "                    'Expiry Date': expiry_date,\n",
    "                    'token_ce': token_ce,\n",
    "                    'token_pe': token_pe,\n",
    "                    'expiry_date': expiry_date_str,\n",
    "                }\n",
    "                \n",
    "                # append this dictionary to your data list\n",
    "                data.append(row_data)\n",
    "                \n",
    "                break\n",
    "\n",
    "# convert your list of dictionaries into a DataFrame\n",
    "df = pd.DataFrame(data)\n"
   ]
  },
  {
   "cell_type": "markdown",
   "metadata": {},
   "source": [
    "import os\n",
    "import pandas as pd\n",
    "from datetime import datetime, timedelta\n",
    "\n",
    "def find_prev_file(date, root_folder):\n",
    "    # Convert date to datetime object for comparison\n",
    "    date = datetime.strptime(date, \"%d/%m/%Y\")\n",
    "    \n",
    "    # Get list of all files in root directory\n",
    "    all_files = os.listdir(root_folder)\n",
    "\n",
    "    # Extract dates from file names and convert to datetime objects\n",
    "    all_dates = [datetime.strptime(file_name.split('_')[-1][:-4], '%d%m%Y') for file_name in all_files if file_name.startswith('GFDLNFO_BACKADJUSTED_')]\n",
    "\n",
    "    # Sort dates in descending order\n",
    "    all_dates.sort(reverse=True)\n",
    "\n",
    "    # Find the largest date that is less than the current date\n",
    "    for file_date in all_dates:\n",
    "        if file_date < date:\n",
    "            # Return file name in the required format\n",
    "            return 'GFDLNFO_BACKADJUSTED_' + file_date.strftime('%d%m%Y')\n",
    "\n",
    "    # If no such date is found, return None\n",
    "    return None\n",
    "\n",
    "def add_file_names(df, root_folder):\n",
    "    # Convert date column to datetime\n",
    "    df['date'] = pd.to_datetime(df['date'], format='%d/%m/%Y')\n",
    "\n",
    "    # Create 'file_name_1' column\n",
    "    df['file_name_1'] = df['date'].dt.strftime('GFDLNFO_BACKADJUSTED_%d%m%Y')\n",
    "\n",
    "    # Create 'file_name_2' column\n",
    "    df['file_name_2'] = df['date'].dt.strftime('%d/%m/%Y').apply(lambda date: find_prev_file(date, root_folder))\n",
    "\n",
    "    return df\n",
    "\n",
    "df = add_file_names(df, r\"C:\\Users\\user\\Downloads\\Omkar Hegde_NFO\")\n",
    "\n",
    "# write your DataFrame to a CSV file\n",
    "df.to_csv('NIFTY50_Data_with_tokens.csv', header=True, index=False)\n"
   ]
  },
  {
   "cell_type": "markdown",
   "metadata": {},
   "source": [
    "new_df = pd.read_csv('NIFTY50_Data_with_tokens.csv')\n",
    "\n",
    "# Assuming df is your DataFrame\n",
    "new_df['date'] = pd.to_datetime(new_df['date'])\n",
    "\n",
    "# Define your date range\n",
    "start_date = '2023-01-01'\n",
    "end_date = '2023-05-09'\n",
    "\n",
    "mask = (new_df['date'] >= start_date) & (new_df['date'] <= end_date)\n",
    "\n",
    "df_subset = new_df.loc[mask]\n",
    "\n",
    "df_subset.to_csv('NIFTY50_Data_with_tokens_subset.csv', header=True, index=False)\n"
   ]
  },
  {
   "cell_type": "code",
   "execution_count": 2,
   "metadata": {},
   "outputs": [],
   "source": [
    "############## no need to run the above code############################"
   ]
  },
  {
   "cell_type": "code",
   "execution_count": 3,
   "metadata": {},
   "outputs": [],
   "source": [
    "df_subset = pd.read_csv('NIFTY50_Data_with_tokens.csv')"
   ]
  },
  {
   "cell_type": "code",
   "execution_count": 4,
   "metadata": {},
   "outputs": [
    {
     "name": "stdout",
     "output_type": "stream",
     "text": [
      "File C:\\Users\\user\\Downloads\\Omkar Hegde_NFO\\GFDLNFO_BACKADJUSTED_11052023.csv not found\n",
      "File C:\\Users\\user\\Downloads\\Omkar Hegde_NFO\\GFDLNFO_BACKADJUSTED_11052023.csv not found\n",
      "File C:\\Users\\user\\Downloads\\Omkar Hegde_NFO\\GFDLNFO_BACKADJUSTED_10052023.csv not found\n",
      "File C:\\Users\\user\\Downloads\\Omkar Hegde_NFO\\GFDLNFO_BACKADJUSTED_10052023.csv not found\n",
      "File C:\\Users\\user\\Downloads\\Omkar Hegde_NFO\\GFDLNFO_BACKADJUSTED_01022023.csv not found\n",
      "File C:\\Users\\user\\Downloads\\Omkar Hegde_NFO\\GFDLNFO_BACKADJUSTED_01022023.csv not found\n",
      "Token NIFTY01APR208900PE.NFO not found in C:\\Users\\user\\Downloads\\Omkar Hegde_NFO\\GFDLNFO_BACKADJUSTED_26032020.csv\n",
      "Token NIFTY19MAR209100CE.NFO not found in C:\\Users\\user\\Downloads\\Omkar Hegde_NFO\\GFDLNFO_BACKADJUSTED_12032020.csv\n"
     ]
    }
   ],
   "source": [
    "def process_files(df, root_folder):\n",
    "    data_dict = {}\n",
    "\n",
    "    for _, row in df.iterrows():\n",
    "        date = row['date']\n",
    "        data_dict[date] = {}\n",
    "\n",
    "        for token_column in ['token_ce', 'token_pe']:\n",
    "            dfs = []\n",
    "            for file_column in ['file_name_1', 'file_name_2']:\n",
    "                file_path = os.path.join(root_folder, row[file_column] + '.csv')\n",
    "                if os.path.exists(file_path):\n",
    "                    df_file = pd.read_csv(file_path)\n",
    "                    if row[token_column] in df_file['Ticker'].values:\n",
    "                        df_file = df_file[df_file['Ticker'] == row[token_column]]\n",
    "                        df_file.drop(['Ticker', 'Volume', 'Open Interest'], axis=1, inplace=True)\n",
    "                        df_file['Datetime'] = pd.to_datetime(df_file['Date'] + ' ' + df_file['Time'], dayfirst=True)\n",
    "                        df_file['strike_price']= row['strike_price']\n",
    "                        # df_file.drop(['Date', 'Time'], axis=1, inplace=True)\n",
    "                        dfs.append(df_file)\n",
    "                    else:\n",
    "                        print(f\"Token {row[token_column]} not found in {file_path}\")\n",
    "                else:\n",
    "                    print(f\"File {file_path} not found\")\n",
    "            \n",
    "            if dfs:\n",
    "                data_dict[date][token_column] = pd.concat(dfs, ignore_index=True)\n",
    "            else:\n",
    "                print(f\"No data found for {token_column} on date {date}\")\n",
    "                data_dict[date][token_column] = None\n",
    "\n",
    "    return data_dict\n",
    "\n",
    "root_folder = r\"C:\\Users\\user\\Downloads\\Omkar Hegde_NFO\"  # replace with your actual root folder path\n",
    "\n",
    "data_dict = process_files(df_subset, root_folder)\n"
   ]
  },
  {
   "cell_type": "markdown",
   "metadata": {},
   "source": [
    "# write data_dict to csv files for each date in downloads folder\n",
    "for date, data in data_dict.items():\n",
    "    for token_column, df in data.items():\n",
    "        if df is not None:\n",
    "            df.to_csv(os.path.join(r\"C:\\Users\\user\\Downloads\\Omkar Hegde_NFO\\test\", f\"{token_column}_{date}.csv\"), index=False)\n",
    "        else:\n",
    "            print(f\"No data found for {token_column} on date {date}\")\n",
    "    "
   ]
  },
  {
   "cell_type": "markdown",
   "metadata": {},
   "source": [
    "def load_tokens():\n",
    "    root_folder = r\"C:\\Users\\user\\Downloads\\Omkar Hegde_NFO\\test\"\n",
    "    files = os.listdir(root_folder)\n",
    "    data_dict = {}\n",
    "\n",
    "    for file in files:\n",
    "        token_column, date = file.split('_', 1)  # split only at the first underscore\n",
    "        date = date.rsplit('.', 1)[0]  # remove file extension\n",
    "        if date not in data_dict:\n",
    "            data_dict[date] = {}\n",
    "        file_path = os.path.join(root_folder, file)\n",
    "        data_dict[date][token_column] = pd.read_csv(file_path)\n",
    "    return data_dict\n",
    "data_dict_2 = load_tokens()"
   ]
  },
  {
   "cell_type": "code",
   "execution_count": 5,
   "metadata": {},
   "outputs": [],
   "source": [
    "def moving_average(df, HA_MA_period):\n",
    "    \n",
    "    df['Datetime'] = pd.to_datetime(df['Datetime'])\n",
    "    df['Datetime'] = df['Datetime'].dt.floor('T')\n",
    "    \n",
    "    # sort merged_df in ascending order based on 'Datetime'\n",
    "    df = df.sort_values(by='Datetime', ascending=True)\n",
    "    df.set_index('Datetime', inplace=True)\n",
    "    \n",
    "    MA_open = pd.Series(df['Open'].rolling(HA_MA_period, min_periods=HA_MA_period).mean(), name='MA_open')\n",
    "    MA_high = pd.Series(df['High'].rolling(HA_MA_period, min_periods=HA_MA_period).mean(), name='MA_high')\n",
    "    MA_low = pd.Series(df['Low'].rolling(HA_MA_period, min_periods=HA_MA_period).mean(), name='MA_low')\n",
    "    MA_close = pd.Series(df['Close'].rolling(HA_MA_period, min_periods=HA_MA_period).mean(), name='MA_close')\n",
    "    \n",
    "    df = df.join(MA_open).join(MA_close).join(MA_high).join(MA_low)\n",
    "    return df"
   ]
  },
  {
   "cell_type": "code",
   "execution_count": 6,
   "metadata": {},
   "outputs": [],
   "source": [
    "def HeikinAshi(ma_df):\n",
    "    ha_df = pd.DataFrame(index=ma_df.index)\n",
    "\n",
    "    # HaClose = (Open + High + Low + Close) / 4\n",
    "    ha_df['ha_close'] = (ma_df['MA_open'] + ma_df['MA_high'] + ma_df['MA_high'] + ma_df['MA_close']) / 4\n",
    "\n",
    "    # HaOpen = AMA(Ref(HaClose, -1), 0.5)\n",
    "    ha_df['ha_open'] = ha_df['ha_close'].shift(1).ewm(alpha=0.5, adjust=False).mean()\n",
    "\n",
    "    # HaHigh = Max(High, Max(HaClose, HaOpen))\n",
    "    ha_df['ha_high'] = ma_df['MA_high'].combine(ha_df['ha_close'], max).combine(ha_df['ha_open'], max)\n",
    "\n",
    "    # HaLow = Min(Low, Min(HaClose, HaOpen))\n",
    "    ha_df['ha_low'] = ma_df['MA_close'].combine(ha_df['ha_close'], min).combine(ha_df['ha_open'], min)\n",
    "\n",
    "    ma_df = pd.concat([ma_df, ha_df], axis=1)\n",
    "    "
   ]
  },
  {
   "cell_type": "code",
   "execution_count": 7,
   "metadata": {},
   "outputs": [],
   "source": [
    "def atr(df, period):\n",
    "    true_range = pd.Series(index=df.index)\n",
    "    for i in range(1, len(df)):\n",
    "        high_low = df['High'][i] - df['Low'][i]\n",
    "        high_prev_close = abs(df['High'][i] - df['Close'][i - 1])\n",
    "        low_prev_close = abs(df['Low'][i] - df['Close'][i - 1])\n",
    "        true_range[i] = max(high_low, high_prev_close, low_prev_close)\n",
    "    return true_range.ewm(span=period, adjust=False).mean()"
   ]
  },
  {
   "cell_type": "code",
   "execution_count": 8,
   "metadata": {},
   "outputs": [],
   "source": [
    "def supertrend(ma_df):\n",
    "    # Supertrend params\n",
    "    global Heikin_Ashi_MA_period\n",
    "    global Supertrend_period\n",
    "    global Supertrend_multiplier\n",
    "    global EMA_period\n",
    "    # Calculate Average True Range (ATR)\n",
    "    average_true_range = atr(ma_df, Supertrend_period)\n",
    "    ma_df['ATR'] = average_true_range\n",
    "\n",
    "    # Calculate Heikin-Ashi values\n",
    "    ha_close = (ma_df['Open'] + ma_df['High'] + ma_df['Low'] + ma_df['Close']) / 4\n",
    "    ha_open = (ma_df['Open'].shift(1) + ma_df['Close'].shift(1)) / 2\n",
    "    ha_high = ma_df[['High', 'Open', 'Close']].max(axis=1)\n",
    "    ha_low = ma_df[['Low', 'Open', 'Close']].min(axis=1)\n",
    "\n",
    "    # Calculate Up and Dn lines\n",
    "    up = (ha_high + ha_low) / 2 + Supertrend_multiplier * average_true_range\n",
    "    dn = (ha_high + ha_low) / 2 - Supertrend_multiplier * average_true_range\n",
    "\n",
    "    # Initialize variables\n",
    "    trend = np.zeros(len(ma_df))\n",
    "    trend[0] = 1\n",
    "    trend_up = pd.Series(np.nan, index=ma_df.index)\n",
    "    trend_down = pd.Series(np.nan, index=ma_df.index)\n",
    "\n",
    "    change_of_trend = 0\n",
    "    flag = flagh = 0\n",
    "\n",
    "    # calulating change of trend\n",
    "    for i in range(1, len(ma_df)):\n",
    "        change_of_trend = 0\n",
    "        \n",
    "        if ha_close[i] > up[i - 1]:\n",
    "            trend[i] = 1\n",
    "            if trend[i-1] == -1:\n",
    "                change_of_trend = 1\n",
    "        elif ha_close[i] < dn[i - 1]:\n",
    "            trend[i] = -1\n",
    "            if trend[i-1] == 1:\n",
    "                change_of_trend = 1\n",
    "        else:\n",
    "            trend[i] = trend[i - 1]\n",
    "\n",
    "        if trend[i] < 0 and trend[i-1] > 0:\n",
    "            flag = 1\n",
    "        else:\n",
    "            flag = 0\n",
    "\n",
    "        if trend[i] > 0 and trend[i-1] < 0:\n",
    "            flagh = 1\n",
    "        else:\n",
    "            flagh = 0\n",
    "\n",
    "        if trend[i] > 0 and dn[i] < dn[i - 1]:\n",
    "            dn[i] = dn[i - 1]\n",
    "\n",
    "        if trend[i] < 0 and up[i] > up[i - 1]:\n",
    "            up[i] = up[i - 1]\n",
    "\n",
    "        if flag == 1:\n",
    "            up[i] = (ha_high[i] + ha_low[i]) / 2 + Supertrend_multiplier * average_true_range[i]\n",
    "\n",
    "        if flagh == 1:\n",
    "            dn[i] = (ha_high[i] + ha_low[i]) / 2 - Supertrend_multiplier * average_true_range[i]\n",
    "\n",
    "        trend_up[i] = dn[i] if trend[i] > 0 else np.nan\n",
    "        trend_down[i] = up[i] if trend[i] < 0 else np.nan\n",
    "\n",
    "        if change_of_trend == 1:\n",
    "            if trend[i] == 1:\n",
    "                trend_up[i - 1] = trend_down[i - 1]\n",
    "            elif trend[i] == -1:\n",
    "                trend_down[i - 1] = trend_up[i - 1]\n",
    "\n",
    "    # Create a new DataFrame with calculated values\n",
    "    result = ma_df.copy()\n",
    "\n",
    "    # result['strike_prc'] = ma_df[]    \n",
    "    result['ATR'] = average_true_range\n",
    "    result[\"EMA\"] = result[\"Close\"].ewm(span=EMA_period, adjust=False).mean()\n",
    "    result['Up'] = up\n",
    "    result['Dn'] = dn\n",
    "    result['Trend'] = trend\n",
    "    result['TrendUp'] = trend_up\n",
    "    result['TrendDown'] = trend_down\n",
    "    result['TrendSL'] = np.where(result['Trend'] == 1, result['TrendUp'], result['TrendDown'])\n",
    "    # result.set_index('Datetime', inplace=True)\n",
    "    columns_order = ['Close', 'MA_open', 'MA_close', 'MA_high', 'MA_low','ATR','Up', 'Dn', 'Trend', 'TrendUp',\n",
    "                    'TrendDown', 'TrendSL','EMA','Open', 'High', 'Low']\n",
    "\n",
    "    result = result[columns_order]\n",
    "    return result"
   ]
  },
  {
   "cell_type": "code",
   "execution_count": 9,
   "metadata": {},
   "outputs": [],
   "source": [
    "def genSignals(resultdf):\n",
    "    # Time params\n",
    "    entry_time = pd.Timestamp(\"09:21:00\").time()\n",
    "    last_buy_time = pd.Timestamp(\"14:50:00\").time()\n",
    "    sqroff_time = pd.Timestamp(\"14:58:00\").time()     \n",
    "    counter = 0\n",
    "    signals = []\n",
    "    trade_no = 1\n",
    "    current_position = None\n",
    "    global last_signal_minute, tokens,trade_state_df\n",
    "    trade_state = {'in_trade': False, 'trade_points': 0, 'TrendSL': 0, 'close': 0, 'TradeEntryPrice': 0, 'SL_points': 0}\n",
    "\n",
    "    long_indices = []\n",
    "    longcover_indices = []\n",
    "    short_indices = []\n",
    "    shortcover_indices = []\n",
    "    \n",
    "\n",
    "    def long(df, i):\n",
    "        return (df.loc[df.index[i], \"Trend\"] == 1) & (df.loc[df.index[i], \"Close\"] > df.loc[df.index[i], \"EMA\"]) & (df.index[i].time() > entry_time) & (df.index[i].time() < sqroff_time) & (df.index[i].time() < last_buy_time)\n",
    "\n",
    "    def longcover(df, i):\n",
    "        return (df.loc[df.index[i], \"Trend\"] == -1) | (df.index[i].time() > sqroff_time)\n",
    "\n",
    "    def short(df, i):\n",
    "        return (df.loc[df.index[i], \"Trend\"] == -1) & (df.loc[df.index[i], \"Close\"] < df.loc[df.index[i], \"EMA\"]) & (df.index[i].time() > entry_time) & (df.index[i].time() < sqroff_time) & (df.index[i].time() < last_buy_time)\n",
    "\n",
    "    def shortcover(df, i):\n",
    "        return (df.loc[df.index[i], \"Trend\"] == 1) | (df.index[i].time() > sqroff_time)\n",
    "\n",
    "    \n",
    "    for i in range(1, len(resultdf)):\n",
    "        current_time = resultdf.index[i]\n",
    "        current_minute = current_time.floor('T')\n",
    "        current_close = resultdf.loc[current_time, 'Close']\n",
    "        trend_sl = resultdf.loc[current_time, 'TrendSL']\n",
    "\n",
    "        if current_position is None:\n",
    "            if long(resultdf, i):\n",
    "                counter += 1\n",
    "                current_position = 'Long'\n",
    "                long_indices.append(resultdf.index[i])\n",
    "                \n",
    "                signal = {\n",
    "                    # 'Strike_Price': resultdf.index[i]['strike_prce_ce'],\n",
    "                    'Trade_No': trade_no,\n",
    "                    'Trade_Type': current_position,\n",
    "                    'Date': current_time.date(),\n",
    "                    'TradeEntryTime': current_time.time(),\n",
    "                    'TradeEntryPrice': current_close,\n",
    "                }\n",
    "                signals.append(signal)\n",
    "                trade_state['in_trade'] = True\n",
    "                trade_state['TradeEntryPrice'] = current_close\n",
    "                trade_state['TrendSL'] = trend_sl\n",
    "                trade_state['SL_points'] = current_close - trend_sl\n",
    "                signals_df = pd.DataFrame(signals)\n",
    "                signals_df.to_csv('amiNF_trd_sig_liv.csv', index=True)\n",
    "                        \n",
    "\n",
    "            elif short(resultdf, i):\n",
    "                current_position = 'Short'\n",
    "                short_indices.append(resultdf.index[i])\n",
    "\n",
    "                signal = {\n",
    "                    # 'Strike_Price': resultdf.index[i]['strike_prce_ce'],\n",
    "                    'Trade_No': trade_no,\n",
    "                    'Trade_Type': current_position,\n",
    "                    'Date': current_time.date(),\n",
    "                    'TradeEntryTime': current_time.time(),\n",
    "                    'TradeEntryPrice': current_close,\n",
    "                }\n",
    "                signals.append(signal)\n",
    "                trade_state['in_trade'] = True\n",
    "                trade_state['TradeEntryPrice'] = current_close\n",
    "                trade_state['TrendSL'] = trend_sl\n",
    "                trade_state['SL_points'] = trend_sl - current_close\n",
    "                signals_df = pd.DataFrame(signals)\n",
    "                signals_df.to_csv('amiNF_trd_sig_liv.csv', index=True)\n",
    "        else:\n",
    "            if current_position == 'Long' and longcover(resultdf, i):\n",
    "                longcover_indices.append(resultdf.index[i])\n",
    "\n",
    "                last_signal = signals[-1]\n",
    "                last_signal.update({\n",
    "                    'TradeExitTime': current_time.time(),\n",
    "                    'TradeExitPrice': current_close,\n",
    "                })\n",
    "                last_signal['NetTradePoints'] = last_signal['TradeExitPrice'] - last_signal['TradeEntryPrice']\n",
    "                trade_no += 1\n",
    "                trade_state['in_trade'] = False\n",
    "                trade_state['trade_points'] = current_close - trade_state['TradeEntryPrice']\n",
    "                trade_state['TrendSL'] = 0\n",
    "                trade_state['SL_points'] = 0\n",
    "                signals_df = pd.DataFrame(signals)\n",
    "                signals_df.to_csv('amiNF_trd_sig_liv.csv', index=True)\n",
    "                current_position = None\n",
    "                \n",
    "\n",
    "            elif current_position == 'Short' and shortcover(resultdf, i):\n",
    "                shortcover_indices.append(resultdf.index[i])\n",
    "                \n",
    "                last_signal = signals[-1]\n",
    "                last_signal.update({\n",
    "                    'TradeExitTime': current_time.time(),\n",
    "                    'TradeExitPrice': current_close,\n",
    "                })\n",
    "                last_signal['NetTradePoints'] = last_signal['TradeEntryPrice'] - last_signal['TradeExitPrice']\n",
    "                trade_no += 1\n",
    "                trade_state['in_trade'] = False\n",
    "                trade_state['trade_points'] = trade_state['TradeEntryPrice'] - current_close\n",
    "                trade_state['TrendSL'] = 0\n",
    "                trade_state['SL_points'] = 0\n",
    "                signals_df = pd.DataFrame(signals)\n",
    "                signals_df.to_csv('amiNF_trd_sig_liv.csv', index=True)\n",
    "                current_position = None                   \n",
    "        \n",
    "        trade_state_df = pd.DataFrame([trade_state])  # convert dictionary to DataFrame\n",
    "        trade_state_df.to_csv('trade_state.csv', index=False)  # write DataFrame to CSV\n",
    "        \n",
    "        resultdf['LongSignal'] = 0\n",
    "        resultdf['ShortSignal'] = 0\n",
    "        resultdf['LongCoverSignal'] = 0\n",
    "        resultdf['ShortCoverSignal'] = 0\n",
    "\n",
    "        resultdf.loc[long_indices, 'LongSignal'] = 1\n",
    "        resultdf.loc[short_indices, 'ShortSignal'] = 1\n",
    "        resultdf.loc[longcover_indices, 'LongCoverSignal'] = 1\n",
    "        resultdf.loc[shortcover_indices, 'ShortCoverSignal'] = 1\n",
    "        resultdf.to_csv(f'amipy_genSignals.csv', index=True)\n",
    "\n",
    "    return signals_df,resultdf"
   ]
  },
  {
   "cell_type": "code",
   "execution_count": 10,
   "metadata": {},
   "outputs": [],
   "source": [
    "# Supertrend params\n",
    "Heikin_Ashi_MA_period = 13\n",
    "Supertrend_period = 3\n",
    "Supertrend_multiplier = 9\n",
    "EMA_period = 324"
   ]
  },
  {
   "cell_type": "code",
   "execution_count": 11,
   "metadata": {},
   "outputs": [],
   "source": [
    "for date in data_dict:\n",
    "    ce_df = data_dict[date]['token_ce']\n",
    "    pe_df = data_dict[date]['token_pe']\n",
    "\n",
    "    # Merge the 'ce' and 'pe' dataframes on 'Datetime'\n",
    "    merged_df = pd.merge(ce_df, pe_df, on='Datetime', suffixes=('_ce', '_pe'))\n",
    "\n",
    "    # Calculate the sum of the 'Open', 'High', 'Low', and 'Close' columns\n",
    "    for column in ['Open', 'High', 'Low', 'Close']:\n",
    "        merged_df[column] = merged_df[column + '_ce'] + merged_df[column + '_pe']\n",
    "\n",
    "    # Drop the original 'Open', 'High', 'Low', and 'Close' columns for 'ce' and 'pe'\n",
    "    merged_df.drop(['Open_ce', 'High_ce', 'Low_ce', 'Close_ce', 'Open_pe', 'High_pe', 'Low_pe', 'Close_pe','strike_price_pe'], axis=1, inplace=True)\n",
    "    \n",
    "    ma_df = moving_average(merged_df, Heikin_Ashi_MA_period)\n",
    "    \n",
    "    # print(ma_df)\n",
    "    merged_df2 = supertrend(ma_df)\n",
    "    results = genSignals(merged_df2)\n",
    "    signalsdf = results[0]\n",
    "    merged_df2 = results[1]\n",
    "\n",
    "    #Append the new dataframe to the dictionary\n",
    "    data_dict[date]['ma_df'] = ma_df\n",
    "    data_dict[date]['merged_df'] = merged_df\n",
    "    data_dict[date]['resultdf'] = merged_df2\n",
    "    data_dict[date]['signalsdf'] = signalsdf\n",
    "    data_dict[date]['result2df'] = merged_df2"
   ]
  },
  {
   "cell_type": "code",
   "execution_count": 12,
   "metadata": {},
   "outputs": [
    {
     "data": {
      "text/plain": [
       "dict_keys(['2023-05-11', '2023-05-10', '2023-05-09', '2023-05-08', '2023-05-05', '2023-05-04', '2023-05-03', '2023-05-02', '2023-04-28', '2023-04-27', '2023-04-26', '2023-04-25', '2023-04-24', '2023-04-21', '2023-04-20', '2023-04-19', '2023-04-18', '2023-04-17', '2023-04-13', '2023-04-12', '2023-04-11', '2023-04-10', '2023-04-06', '2023-04-05', '2023-04-03', '2023-03-31', '2023-03-29', '2023-03-28', '2023-03-27', '2023-03-24', '2023-03-23', '2023-03-22', '2023-03-21', '2023-03-20', '2023-03-17', '2023-03-16', '2023-03-15', '2023-03-14', '2023-03-13', '2023-03-10', '2023-03-09', '2023-03-08', '2023-03-06', '2023-03-03', '2023-03-02', '2023-03-01', '2023-02-28', '2023-02-27', '2023-02-24', '2023-02-23', '2023-02-22', '2023-02-21', '2023-02-20', '2023-02-17', '2023-02-16', '2023-02-15', '2023-02-14', '2023-02-13', '2023-02-10', '2023-02-09', '2023-02-08', '2023-02-07', '2023-02-06', '2023-02-03', '2023-02-02', '2023-02-01', '2023-01-31', '2023-01-30', '2023-01-27', '2023-01-25', '2023-01-24', '2023-01-23', '2023-01-20', '2023-01-19', '2023-01-18', '2023-01-17', '2023-01-16', '2023-01-13', '2023-01-12', '2023-01-11', '2023-01-10', '2023-01-09', '2023-01-06', '2023-01-05', '2023-01-04', '2023-01-03', '2023-01-02', '2022-12-30', '2022-12-29', '2022-12-28', '2022-12-27', '2022-12-26', '2022-12-23', '2022-12-22', '2022-12-21', '2022-12-20', '2022-12-19', '2022-12-16', '2022-12-15', '2022-12-14', '2022-12-13', '2022-12-12', '2022-12-09', '2022-12-08', '2022-12-07', '2022-12-06', '2022-12-05', '2022-12-02', '2022-12-01', '2022-11-30', '2022-11-29', '2022-11-28', '2022-11-25', '2022-11-24', '2022-11-23', '2022-11-22', '2022-11-21', '2022-11-18', '2022-11-17', '2022-11-16', '2022-11-15', '2022-11-14', '2022-11-11', '2022-11-10', '2022-11-09', '2022-11-07', '2022-11-04', '2022-11-03', '2022-11-02', '2022-11-01', '2022-10-31', '2022-10-28', '2022-10-27', '2022-10-25', '2022-10-24', '2022-10-21', '2022-10-20', '2022-10-19', '2022-10-18', '2022-10-17', '2022-10-14', '2022-10-13', '2022-10-12', '2022-10-11', '2022-10-10', '2022-10-07', '2022-10-06', '2022-10-04', '2022-10-03', '2022-09-30', '2022-09-29', '2022-09-28', '2022-09-27', '2022-09-26', '2022-09-23', '2022-09-22', '2022-09-21', '2022-09-20', '2022-09-19', '2022-09-16', '2022-09-15', '2022-09-14', '2022-09-13', '2022-09-12', '2022-09-09', '2022-09-08', '2022-09-07', '2022-09-06', '2022-09-05', '2022-09-02', '2022-09-01', '2022-08-30', '2022-08-29', '2022-08-26', '2022-08-25', '2022-08-24', '2022-08-23', '2022-08-22', '2022-08-19', '2022-08-18', '2022-08-17', '2022-08-16', '2022-08-12', '2022-08-11', '2022-08-10', '2022-08-08', '2022-08-05', '2022-08-04', '2022-08-03', '2022-08-02', '2022-08-01', '2022-07-29', '2022-07-28', '2022-07-27', '2022-07-26', '2022-07-25', '2022-07-22', '2022-07-21', '2022-07-20', '2022-07-19', '2022-07-18', '2022-07-15', '2022-07-14', '2022-07-13', '2022-07-12', '2022-07-11', '2022-07-08', '2022-07-07', '2022-07-06', '2022-07-05', '2022-07-04', '2022-07-01', '2022-06-30', '2022-06-29', '2022-06-28', '2022-06-27', '2022-06-24', '2022-06-23', '2022-06-22', '2022-06-21', '2022-06-20', '2022-06-17', '2022-06-16', '2022-06-15', '2022-06-14', '2022-06-13', '2022-06-10', '2022-06-09', '2022-06-08', '2022-06-07', '2022-06-06', '2022-06-03', '2022-06-02', '2022-06-01', '2022-05-31', '2022-05-30', '2022-05-27', '2022-05-26', '2022-05-25', '2022-05-24', '2022-05-23', '2022-05-20', '2022-05-19', '2022-05-18', '2022-05-17', '2022-05-16', '2022-05-13', '2022-05-12', '2022-05-11', '2022-05-10', '2022-05-09', '2022-05-06', '2022-05-05', '2022-05-04', '2022-05-02', '2022-04-29', '2022-04-28', '2022-04-27', '2022-04-26', '2022-04-25', '2022-04-22', '2022-04-21', '2022-04-20', '2022-04-19', '2022-04-18', '2022-04-13', '2022-04-12', '2022-04-11', '2022-04-08', '2022-04-07', '2022-04-06', '2022-04-05', '2022-04-04', '2022-04-01', '2022-03-31', '2022-03-30', '2022-03-29', '2022-03-28', '2022-03-25', '2022-03-24', '2022-03-23', '2022-03-22', '2022-03-21', '2022-03-17', '2022-03-16', '2022-03-15', '2022-03-14', '2022-03-11', '2022-03-10', '2022-03-09', '2022-03-08', '2022-03-07', '2022-03-04', '2022-03-03', '2022-03-02', '2022-02-28', '2022-02-25', '2022-02-24', '2022-02-23', '2022-02-22', '2022-02-21', '2022-02-18', '2022-02-17', '2022-02-16', '2022-02-15', '2022-02-14', '2022-02-11', '2022-02-10', '2022-02-09', '2022-02-08', '2022-02-07', '2022-02-04', '2022-02-03', '2022-02-02', '2022-02-01', '2022-01-31', '2022-01-28', '2022-01-27', '2022-01-25', '2022-01-24', '2022-01-21', '2022-01-20', '2022-01-19', '2022-01-18', '2022-01-17', '2022-01-14', '2022-01-13', '2022-01-12', '2022-01-11', '2022-01-10', '2022-01-07', '2022-01-06', '2022-01-05', '2022-01-04', '2022-01-03', '2021-12-31', '2021-12-30', '2021-12-29', '2021-12-28', '2021-12-27', '2021-12-24', '2021-12-23', '2021-12-22', '2021-12-21', '2021-12-20', '2021-12-17', '2021-12-16', '2021-12-15', '2021-12-14', '2021-12-13', '2021-12-10', '2021-12-09', '2021-12-08', '2021-12-07', '2021-12-06', '2021-12-03', '2021-12-02', '2021-12-01', '2021-11-30', '2021-11-29', '2021-11-26', '2021-11-25', '2021-11-24', '2021-11-23', '2021-11-22', '2021-11-18', '2021-11-17', '2021-11-16', '2021-11-15', '2021-11-12', '2021-11-11', '2021-11-10', '2021-11-09', '2021-11-08', '2021-11-04', '2021-11-03', '2021-11-02', '2021-11-01', '2021-10-29', '2021-10-28', '2021-10-27', '2021-10-26', '2021-10-25', '2021-10-22', '2021-10-21', '2021-10-20', '2021-10-19', '2021-10-18', '2021-10-14', '2021-10-13', '2021-10-12', '2021-10-11', '2021-10-08', '2021-10-07', '2021-10-06', '2021-10-05', '2021-10-04', '2021-10-01', '2021-09-30', '2021-09-29', '2021-09-28', '2021-09-27', '2021-09-24', '2021-09-23', '2021-09-22', '2021-09-21', '2021-09-20', '2021-09-17', '2021-09-16', '2021-09-15', '2021-09-14', '2021-09-13', '2021-09-09', '2021-09-08', '2021-09-07', '2021-09-06', '2021-09-03', '2021-09-02', '2021-09-01', '2021-08-31', '2021-08-30', '2021-08-27', '2021-08-26', '2021-08-25', '2021-08-24', '2021-08-23', '2021-08-20', '2021-08-18', '2021-08-17', '2021-08-16', '2021-08-13', '2021-08-12', '2021-08-11', '2021-08-10', '2021-08-09', '2021-08-06', '2021-08-05', '2021-08-04', '2021-08-03', '2021-08-02', '2021-07-30', '2021-07-29', '2021-07-28', '2021-07-27', '2021-07-26', '2021-07-23', '2021-07-22', '2021-07-20', '2021-07-19', '2021-07-16', '2021-07-15', '2021-07-14', '2021-07-13', '2021-07-12', '2021-07-09', '2021-07-08', '2021-07-07', '2021-07-06', '2021-07-05', '2021-07-02', '2021-07-01', '2021-06-30', '2021-06-29', '2021-06-28', '2021-06-25', '2021-06-24', '2021-06-23', '2021-06-22', '2021-06-21', '2021-06-18', '2021-06-17', '2021-06-16', '2021-06-15', '2021-06-14', '2021-06-11', '2021-06-10', '2021-06-09', '2021-06-08', '2021-06-07', '2021-06-04', '2021-06-03', '2021-06-02', '2021-06-01', '2021-05-31', '2021-05-28', '2021-05-27', '2021-05-26', '2021-05-25', '2021-05-24', '2021-05-21', '2021-05-20', '2021-05-19', '2021-05-18', '2021-05-17', '2021-05-14', '2021-05-12', '2021-05-11', '2021-05-10', '2021-05-07', '2021-05-06', '2021-05-05', '2021-05-04', '2021-05-03', '2021-04-30', '2021-04-29', '2021-04-28', '2021-04-27', '2021-04-26', '2021-04-23', '2021-04-22', '2021-04-20', '2021-04-19', '2021-04-16', '2021-04-15', '2021-04-13', '2021-04-12', '2021-04-09', '2021-04-08', '2021-04-07', '2021-04-06', '2021-04-05', '2021-04-01', '2021-03-31', '2021-03-30', '2021-03-26', '2021-03-25', '2021-03-24', '2021-03-23', '2021-03-22', '2021-03-19', '2021-03-18', '2021-03-17', '2021-03-16', '2021-03-15', '2021-03-12', '2021-03-10', '2021-03-09', '2021-03-08', '2021-03-05', '2021-03-04', '2021-03-03', '2021-03-02', '2021-03-01', '2021-02-26', '2021-02-25', '2021-02-24', '2021-02-23', '2021-02-22', '2021-02-19', '2021-02-18', '2021-02-17', '2021-02-16', '2021-02-15', '2021-02-12', '2021-02-11', '2021-02-10', '2021-02-09', '2021-02-08', '2021-02-05', '2021-02-04', '2021-02-03', '2021-02-02', '2021-02-01', '2021-01-29', '2021-01-28', '2021-01-27', '2021-01-25', '2021-01-22', '2021-01-21', '2021-01-20', '2021-01-19', '2021-01-18', '2021-01-15', '2021-01-14', '2021-01-13', '2021-01-12', '2021-01-11', '2021-01-08', '2021-01-07', '2021-01-06', '2021-01-05', '2021-01-04', '2021-01-01', '2020-12-31', '2020-12-30', '2020-12-29', '2020-12-28', '2020-12-24', '2020-12-23', '2020-12-22', '2020-12-21', '2020-12-18', '2020-12-17', '2020-12-16', '2020-12-15', '2020-12-14', '2020-12-11', '2020-12-10', '2020-12-09', '2020-12-08', '2020-12-07', '2020-12-04', '2020-12-03', '2020-12-02', '2020-12-01', '2020-11-27', '2020-11-26', '2020-11-25', '2020-11-24', '2020-11-23', '2020-11-20', '2020-11-19', '2020-11-18', '2020-11-17', '2020-11-14', '2020-11-13', '2020-11-12', '2020-11-11', '2020-11-10', '2020-11-09', '2020-11-06', '2020-11-05', '2020-11-04', '2020-11-03', '2020-11-02', '2020-10-30', '2020-10-29', '2020-10-28', '2020-10-27', '2020-10-26', '2020-10-23', '2020-10-22', '2020-10-21', '2020-10-20', '2020-10-19', '2020-10-16', '2020-10-15', '2020-10-14', '2020-10-13', '2020-10-12', '2020-10-09', '2020-10-08', '2020-10-07', '2020-10-06', '2020-10-05', '2020-10-01', '2020-09-30', '2020-09-29', '2020-09-28', '2020-09-25', '2020-09-24', '2020-09-23', '2020-09-22', '2020-09-21', '2020-09-18', '2020-09-17', '2020-09-16', '2020-09-15', '2020-09-14', '2020-09-11', '2020-09-10', '2020-09-09', '2020-09-08', '2020-09-07', '2020-09-04', '2020-09-03', '2020-09-02', '2020-09-01', '2020-08-31', '2020-08-28', '2020-08-27', '2020-08-26', '2020-08-25', '2020-08-24', '2020-08-21', '2020-08-20', '2020-08-19', '2020-08-18', '2020-08-17', '2020-08-14', '2020-08-13', '2020-08-12', '2020-08-11', '2020-08-10', '2020-08-07', '2020-08-06', '2020-08-05', '2020-08-04', '2020-08-03', '2020-07-31', '2020-07-30', '2020-07-29', '2020-07-28', '2020-07-27', '2020-07-24', '2020-07-23', '2020-07-22', '2020-07-21', '2020-07-20', '2020-07-17', '2020-07-16', '2020-07-15', '2020-07-14', '2020-07-13', '2020-07-10', '2020-07-09', '2020-07-08', '2020-07-07', '2020-07-06', '2020-07-03', '2020-07-02', '2020-07-01', '2020-06-30', '2020-06-29', '2020-06-26', '2020-06-25', '2020-06-24', '2020-06-23', '2020-06-22', '2020-06-19', '2020-06-18', '2020-06-17', '2020-06-16', '2020-06-15', '2020-06-12', '2020-06-11', '2020-06-10', '2020-06-09', '2020-06-08', '2020-06-05', '2020-06-04', '2020-06-03', '2020-06-02', '2020-06-01', '2020-05-29', '2020-05-28', '2020-05-27', '2020-05-26', '2020-05-22', '2020-05-21', '2020-05-20', '2020-05-19', '2020-05-18', '2020-05-15', '2020-05-14', '2020-05-13', '2020-05-12', '2020-05-11', '2020-05-08', '2020-05-07', '2020-05-06', '2020-05-05', '2020-05-04', '2020-04-30', '2020-04-29', '2020-04-28', '2020-04-27', '2020-04-24', '2020-04-23', '2020-04-22', '2020-04-21', '2020-04-20', '2020-04-17', '2020-04-16', '2020-04-15', '2020-04-13', '2020-04-09', '2020-04-08', '2020-04-07', '2020-04-03', '2020-04-01', '2020-03-31', '2020-03-30', '2020-03-27', '2020-03-26', '2020-03-25', '2020-03-24', '2020-03-23', '2020-03-20', '2020-03-19', '2020-03-18', '2020-03-17', '2020-03-16', '2020-03-13', '2020-03-12', '2020-03-11', '2020-03-09', '2020-03-06', '2020-03-05', '2020-03-04', '2020-03-03', '2020-03-02', '2020-02-28', '2020-02-27', '2020-02-26', '2020-02-25', '2020-02-24', '2020-02-20', '2020-02-19', '2020-02-18', '2020-02-17', '2020-02-14', '2020-02-13', '2020-02-12', '2020-02-11', '2020-02-10', '2020-02-07', '2020-02-06', '2020-02-05', '2020-02-04', '2020-02-03', '2020-02-01', '2020-01-31', '2020-01-30', '2020-01-29', '2020-01-28', '2020-01-27', '2020-01-24', '2020-01-23', '2020-01-22', '2020-01-21', '2020-01-20', '2020-01-17', '2020-01-16', '2020-01-15', '2020-01-14', '2020-01-13', '2020-01-10', '2020-01-09', '2020-01-08', '2020-01-07', '2020-01-06', '2020-01-03', '2020-01-02', '2020-01-01', '2019-12-31', '2019-12-30', '2019-12-27', '2019-12-26', '2019-12-24', '2019-12-23', '2019-12-20', '2019-12-19', '2019-12-18', '2019-12-17', '2019-12-16', '2019-12-13', '2019-12-12', '2019-12-11', '2019-12-10', '2019-12-09', '2019-12-06', '2019-12-05', '2019-12-04', '2019-12-03', '2019-12-02', '2019-11-29', '2019-11-28', '2019-11-27', '2019-11-26', '2019-11-25', '2019-11-22', '2019-11-21', '2019-11-20', '2019-11-19', '2019-11-18', '2019-11-15', '2019-11-14', '2019-11-13', '2019-11-11', '2019-11-08', '2019-11-07', '2019-11-06', '2019-11-05', '2019-11-04', '2019-11-01', '2019-10-31', '2019-10-30', '2019-10-29', '2019-10-27', '2019-10-25', '2019-10-24', '2019-10-23', '2019-10-22', '2019-10-18', '2019-10-17', '2019-10-16', '2019-10-15', '2019-10-14', '2019-10-11', '2019-10-10', '2019-10-09', '2019-10-07', '2019-10-04', '2019-10-03', '2019-10-01', '2019-09-30', '2019-09-27', '2019-09-26', '2019-09-25', '2019-09-24', '2019-09-23', '2019-09-20', '2019-09-19', '2019-09-18', '2019-09-17', '2019-09-16', '2019-09-13', '2019-09-12', '2019-09-11', '2019-09-09', '2019-09-06', '2019-09-05', '2019-09-04', '2019-09-03', '2019-08-30', '2019-08-29', '2019-08-28', '2019-08-27', '2019-08-26', '2019-08-23', '2019-08-22', '2019-08-21', '2019-08-20', '2019-08-19', '2019-08-16', '2019-08-14', '2019-08-13', '2019-08-09', '2019-08-08', '2019-08-07', '2019-08-06', '2019-08-05', '2019-08-02', '2019-08-01', '2019-07-31', '2019-07-30', '2019-07-29', '2019-07-26', '2019-07-25', '2019-07-24', '2019-07-23', '2019-07-22', '2019-07-19', '2019-07-18', '2019-07-17', '2019-07-16', '2019-07-15', '2019-07-12', '2019-07-11', '2019-07-10', '2019-07-09', '2019-07-08', '2019-07-05', '2019-07-04', '2019-07-03', '2019-07-02', '2019-07-01', '2019-06-28', '2019-06-27', '2019-06-26', '2019-06-25', '2019-06-24', '2019-06-21', '2019-06-20', '2019-06-19', '2019-06-18', '2019-06-17', '2019-06-14', '2019-06-13', '2019-06-12', '2019-06-11', '2019-06-10', '2019-06-07', '2019-06-06', '2019-06-04', '2019-06-03', '2019-05-31', '2019-05-30', '2019-05-29', '2019-05-28', '2019-05-27', '2019-05-24', '2019-05-23', '2019-05-22', '2019-05-21', '2019-05-20', '2019-05-17', '2019-05-16', '2019-05-15', '2019-05-14', '2019-05-13', '2019-05-10', '2019-05-09', '2019-05-08', '2019-05-07', '2019-05-06', '2019-05-03', '2019-05-02', '2019-04-30', '2019-04-26', '2019-04-25', '2019-04-24', '2019-04-23', '2019-04-22', '2019-04-18', '2019-04-16', '2019-04-15', '2019-04-12', '2019-04-11', '2019-04-10', '2019-04-09', '2019-04-08', '2019-04-05', '2019-04-04', '2019-04-03', '2019-04-02', '2019-04-01', '2019-03-29', '2019-03-28', '2019-03-27', '2019-03-26', '2019-03-25', '2019-03-22', '2019-03-20', '2019-03-19', '2019-03-18', '2019-03-15', '2019-03-14', '2019-03-13', '2019-03-12', '2019-03-11', '2019-03-08', '2019-03-07', '2019-03-06', '2019-03-05', '2019-03-01'])"
      ]
     },
     "execution_count": 12,
     "metadata": {},
     "output_type": "execute_result"
    }
   ],
   "source": [
    "data_dict.keys()"
   ]
  },
  {
   "cell_type": "code",
   "execution_count": 13,
   "metadata": {},
   "outputs": [],
   "source": [
    "def plotly_plot(merged_df2):\n",
    "    #global trade_state_df\n",
    "    # Define the custom shapes (background color) for each day\n",
    "    shapes = []\n",
    "    colors = [\"white\", \"#C23B22\", \"#5F9EA0\", \"#F5DEB3\", \"black\"]\n",
    "    holidayz = [datetime.strptime(date_str, '%Y-%m-%d').date() for date_str in ['2023-05-01', '2023-06-16']]\n",
    "\n",
    "    # print datatypes of resultdf columns including index\n",
    "    for i, date in enumerate(merged_df2.index):\n",
    "        if date.hour == 9 and date.minute == 15:\n",
    "            weekday = date.weekday()\n",
    "            if weekday < 5:  # Only for Monday to Friday\n",
    "                if date.date() not in holidayz:  # Check if the date is not a holiday\n",
    "                    shape = {\n",
    "                        \"type\": \"rect\",\n",
    "                        \"xref\": \"x\",\n",
    "                        \"yref\": \"paper\",\n",
    "                        \"x0\": date,\n",
    "                        \"x1\": date + pd.Timedelta(hours=6, minutes=15),\n",
    "                        \"y0\": 0,\n",
    "                        \"y1\": 1,\n",
    "                        \"fillcolor\": colors[weekday],\n",
    "                        \"opacity\": 0.3,\n",
    "                        \"line\": {\"width\": 0},\n",
    "                        \"layer\": \"below\",\n",
    "                    }\n",
    "                    shapes.append(shape)\n",
    "                    \n",
    "    holiday_rangebreaks = [{\"bounds\": [holiday.strftime('%Y-%m-%d'), (holiday + pd.Timedelta(days=1)).strftime('%Y-%m-%d')], \"pattern\": ''} for holiday in holidayz]\n",
    "\n",
    "    # Create a layout with custom styling, including background colors and shapes\n",
    "    layout = go.Layout(\n",
    "        title=\"AmiPy_NF\",\n",
    "        plot_bgcolor=\"black\",\n",
    "        height=800,\n",
    "        xaxis=dict(\n",
    "            gridcolor=\"rgba(128, 128, 128, 0.1)\",\n",
    "            showgrid=True,\n",
    "            tickformat=\"%Y-%m-%d %H:%M\",\n",
    "            dtick=\"60 * 60 * 1000\",  # 1 hour in milliseconds\n",
    "            rangebreaks=[\n",
    "                dict(bounds=[\"sat\", \"mon\"]),\n",
    "                dict(bounds=[0, 9.25], pattern=\"hour\"),\n",
    "                dict(bounds=[15.5, 24], pattern=\"hour\"),\n",
    "            ],\n",
    "        ),\n",
    "        yaxis=dict(\n",
    "            gridcolor=\"rgba(128, 128, 128, 0.1)\",\n",
    "            showgrid=True,\n",
    "            automargin=True,\n",
    "            autorange=True,\n",
    "        ),\n",
    "        # Add the custom shapes to the layout\n",
    "        shapes=shapes,\n",
    "    )\n",
    "\n",
    "    fig = go.Figure()\n",
    "\n",
    "    fig.add_trace(go.Scatter(x=merged_df2.index, y=merged_df2['Close'],\n",
    "                            mode='lines', name='Closing Price', line=dict(color='skyblue', dash='dot')))\n",
    "    \n",
    "        # Filter the data for uptrends and downtrends\n",
    "    uptrend_df = merged_df2[merged_df2['Trend'] == 1]\n",
    "    downtrend_df = merged_df2[merged_df2['Trend'] == -1]\n",
    "\n",
    "    # Plot the uptrend data with a green line\n",
    "    for i in range(len(uptrend_df) - 1):\n",
    "        if uptrend_df.index[i+1] - uptrend_df.index[i] == pd.Timedelta(minutes=1):\n",
    "            fig.add_trace(go.Scatter(x=[uptrend_df.index[i], uptrend_df.index[i+1]], y=[uptrend_df.iloc[i]['TrendSL'], uptrend_df.iloc[i+1]['TrendSL']],\n",
    "                                    mode='lines', name='SuperTrend Uptrend', line=dict(color='green'), showlegend=False if i != 0 else True))\n",
    "\n",
    "    # Plot the downtrend data with a red line\n",
    "    for i in range(len(downtrend_df) - 1):\n",
    "        if downtrend_df.index[i+1] - downtrend_df.index[i] == pd.Timedelta(minutes=1):\n",
    "            fig.add_trace(go.Scatter(x=[downtrend_df.index[i], downtrend_df.index[i+1]], y=[downtrend_df.iloc[i]['TrendSL'], downtrend_df.iloc[i+1]['TrendSL']],\n",
    "                                    mode='lines', name='SuperTrend Downtrend', line=dict(color='red'), showlegend=False if i != 0 else True))\n",
    "\n",
    "    # Add the custom shapes to the layout\n",
    "    layout.shapes = shapes\n",
    "\n",
    "    # Update x-axis tick format\n",
    "    layout.xaxis.tickformat = \"%Y-%m-%d %H:%M\"\n",
    "    layout.xaxis.hoverformat = \"%Y-%m-%d %H:%M\"\n",
    "\n",
    "    fig.add_trace(go.Scatter(x=merged_df2[merged_df2['LongSignal'] == 1].index, y=merged_df2[merged_df2['LongSignal'] == 1]['Close'], mode='markers', name='Long', marker=dict(color='green', symbol='triangle-up', size=15)))\n",
    "    fig.add_trace(go.Scatter(x=merged_df2[merged_df2['LongCoverSignal'] == 1].index, y=merged_df2[merged_df2['LongCoverSignal'] == 1]['Close'], mode='markers', name='Long Cover', marker=dict(color='green', symbol='star', size=15)))\n",
    "    fig.add_trace(go.Scatter(x=merged_df2[merged_df2['ShortSignal'] == 1].index, y=merged_df2[merged_df2['ShortSignal'] == 1]['Close'], mode='markers', name='Short Signal', marker=dict(color='red', symbol='triangle-down', size=15)))\n",
    "    fig.add_trace(go.Scatter(x=merged_df2[merged_df2['ShortCoverSignal'] == 1].index, y=merged_df2[merged_df2['ShortCoverSignal'] == 1]['Close'], mode='markers', name='Short Cover Signal', marker=dict(color='red', symbol='star', size=15)))\n",
    "\n",
    "    fig.update_layout(layout)\n",
    "    \n",
    "    pyo.plot(fig)   \n",
    "  \n",
    "    return fig"
   ]
  },
  {
   "cell_type": "code",
   "execution_count": 16,
   "metadata": {},
   "outputs": [],
   "source": [
    "merged_df2 = data_dict['2023-05-09']['result2df']\n",
    "merged_df2.to_csv('result2df.csv', header=True)"
   ]
  },
  {
   "cell_type": "code",
   "execution_count": 17,
   "metadata": {},
   "outputs": [
    {
     "data": {
      "application/vnd.plotly.v1+json": {
       "config": {
        "plotlyServerURL": "https://plot.ly"
       },
       "data": [
        {
         "line": {
          "color": "skyblue",
          "dash": "dot"
         },
         "mode": "lines",
         "name": "Closing Price",
         "type": "scatter",
         "x": [
          "2023-05-08T09:15:00",
          "2023-05-08T09:16:00",
          "2023-05-08T09:17:00",
          "2023-05-08T09:18:00",
          "2023-05-08T09:19:00",
          "2023-05-08T09:20:00",
          "2023-05-08T09:21:00",
          "2023-05-08T09:22:00",
          "2023-05-08T09:23:00",
          "2023-05-08T09:24:00",
          "2023-05-08T09:25:00",
          "2023-05-08T09:26:00",
          "2023-05-08T09:27:00",
          "2023-05-08T09:28:00",
          "2023-05-08T09:29:00",
          "2023-05-08T09:30:00",
          "2023-05-08T09:31:00",
          "2023-05-08T09:32:00",
          "2023-05-08T09:33:00",
          "2023-05-08T09:34:00",
          "2023-05-08T09:35:00",
          "2023-05-08T09:36:00",
          "2023-05-08T09:37:00",
          "2023-05-08T09:38:00",
          "2023-05-08T09:39:00",
          "2023-05-08T09:40:00",
          "2023-05-08T09:41:00",
          "2023-05-08T09:42:00",
          "2023-05-08T09:43:00",
          "2023-05-08T09:44:00",
          "2023-05-08T09:45:00",
          "2023-05-08T09:46:00",
          "2023-05-08T09:47:00",
          "2023-05-08T09:48:00",
          "2023-05-08T09:49:00",
          "2023-05-08T09:50:00",
          "2023-05-08T09:51:00",
          "2023-05-08T09:52:00",
          "2023-05-08T09:53:00",
          "2023-05-08T09:54:00",
          "2023-05-08T09:55:00",
          "2023-05-08T09:56:00",
          "2023-05-08T09:57:00",
          "2023-05-08T09:58:00",
          "2023-05-08T09:59:00",
          "2023-05-08T10:00:00",
          "2023-05-08T10:01:00",
          "2023-05-08T10:02:00",
          "2023-05-08T10:03:00",
          "2023-05-08T10:04:00",
          "2023-05-08T10:05:00",
          "2023-05-08T10:06:00",
          "2023-05-08T10:07:00",
          "2023-05-08T10:08:00",
          "2023-05-08T10:09:00",
          "2023-05-08T10:10:00",
          "2023-05-08T10:11:00",
          "2023-05-08T10:12:00",
          "2023-05-08T10:13:00",
          "2023-05-08T10:14:00",
          "2023-05-08T10:15:00",
          "2023-05-08T10:16:00",
          "2023-05-08T10:17:00",
          "2023-05-08T10:18:00",
          "2023-05-08T10:19:00",
          "2023-05-08T10:20:00",
          "2023-05-08T10:21:00",
          "2023-05-08T10:22:00",
          "2023-05-08T10:23:00",
          "2023-05-08T10:24:00",
          "2023-05-08T10:25:00",
          "2023-05-08T10:26:00",
          "2023-05-08T10:27:00",
          "2023-05-08T10:28:00",
          "2023-05-08T10:29:00",
          "2023-05-08T10:30:00",
          "2023-05-08T10:31:00",
          "2023-05-08T10:32:00",
          "2023-05-08T10:33:00",
          "2023-05-08T10:34:00",
          "2023-05-08T10:35:00",
          "2023-05-08T10:36:00",
          "2023-05-08T10:37:00",
          "2023-05-08T10:38:00",
          "2023-05-08T10:39:00",
          "2023-05-08T10:40:00",
          "2023-05-08T10:41:00",
          "2023-05-08T10:42:00",
          "2023-05-08T10:43:00",
          "2023-05-08T10:44:00",
          "2023-05-08T10:45:00",
          "2023-05-08T10:46:00",
          "2023-05-08T10:47:00",
          "2023-05-08T10:48:00",
          "2023-05-08T10:49:00",
          "2023-05-08T10:50:00",
          "2023-05-08T10:51:00",
          "2023-05-08T10:52:00",
          "2023-05-08T10:53:00",
          "2023-05-08T10:54:00",
          "2023-05-08T10:55:00",
          "2023-05-08T10:56:00",
          "2023-05-08T10:57:00",
          "2023-05-08T10:58:00",
          "2023-05-08T10:59:00",
          "2023-05-08T11:00:00",
          "2023-05-08T11:01:00",
          "2023-05-08T11:02:00",
          "2023-05-08T11:03:00",
          "2023-05-08T11:04:00",
          "2023-05-08T11:05:00",
          "2023-05-08T11:06:00",
          "2023-05-08T11:07:00",
          "2023-05-08T11:08:00",
          "2023-05-08T11:09:00",
          "2023-05-08T11:10:00",
          "2023-05-08T11:11:00",
          "2023-05-08T11:12:00",
          "2023-05-08T11:13:00",
          "2023-05-08T11:14:00",
          "2023-05-08T11:15:00",
          "2023-05-08T11:16:00",
          "2023-05-08T11:17:00",
          "2023-05-08T11:18:00",
          "2023-05-08T11:19:00",
          "2023-05-08T11:20:00",
          "2023-05-08T11:21:00",
          "2023-05-08T11:22:00",
          "2023-05-08T11:23:00",
          "2023-05-08T11:24:00",
          "2023-05-08T11:25:00",
          "2023-05-08T11:26:00",
          "2023-05-08T11:27:00",
          "2023-05-08T11:28:00",
          "2023-05-08T11:29:00",
          "2023-05-08T11:30:00",
          "2023-05-08T11:31:00",
          "2023-05-08T11:32:00",
          "2023-05-08T11:33:00",
          "2023-05-08T11:34:00",
          "2023-05-08T11:35:00",
          "2023-05-08T11:36:00",
          "2023-05-08T11:37:00",
          "2023-05-08T11:38:00",
          "2023-05-08T11:39:00",
          "2023-05-08T11:40:00",
          "2023-05-08T11:41:00",
          "2023-05-08T11:42:00",
          "2023-05-08T11:43:00",
          "2023-05-08T11:44:00",
          "2023-05-08T11:45:00",
          "2023-05-08T11:46:00",
          "2023-05-08T11:47:00",
          "2023-05-08T11:48:00",
          "2023-05-08T11:49:00",
          "2023-05-08T11:50:00",
          "2023-05-08T11:51:00",
          "2023-05-08T11:52:00",
          "2023-05-08T11:53:00",
          "2023-05-08T11:54:00",
          "2023-05-08T11:55:00",
          "2023-05-08T11:56:00",
          "2023-05-08T11:57:00",
          "2023-05-08T11:58:00",
          "2023-05-08T11:59:00",
          "2023-05-08T12:00:00",
          "2023-05-08T12:01:00",
          "2023-05-08T12:02:00",
          "2023-05-08T12:03:00",
          "2023-05-08T12:04:00",
          "2023-05-08T12:05:00",
          "2023-05-08T12:06:00",
          "2023-05-08T12:07:00",
          "2023-05-08T12:08:00",
          "2023-05-08T12:09:00",
          "2023-05-08T12:10:00",
          "2023-05-08T12:11:00",
          "2023-05-08T12:12:00",
          "2023-05-08T12:13:00",
          "2023-05-08T12:14:00",
          "2023-05-08T12:15:00",
          "2023-05-08T12:16:00",
          "2023-05-08T12:17:00",
          "2023-05-08T12:18:00",
          "2023-05-08T12:19:00",
          "2023-05-08T12:20:00",
          "2023-05-08T12:21:00",
          "2023-05-08T12:22:00",
          "2023-05-08T12:23:00",
          "2023-05-08T12:24:00",
          "2023-05-08T12:25:00",
          "2023-05-08T12:26:00",
          "2023-05-08T12:27:00",
          "2023-05-08T12:28:00",
          "2023-05-08T12:29:00",
          "2023-05-08T12:30:00",
          "2023-05-08T12:31:00",
          "2023-05-08T12:32:00",
          "2023-05-08T12:33:00",
          "2023-05-08T12:34:00",
          "2023-05-08T12:35:00",
          "2023-05-08T12:36:00",
          "2023-05-08T12:37:00",
          "2023-05-08T12:38:00",
          "2023-05-08T12:39:00",
          "2023-05-08T12:40:00",
          "2023-05-08T12:41:00",
          "2023-05-08T12:42:00",
          "2023-05-08T12:43:00",
          "2023-05-08T12:44:00",
          "2023-05-08T12:45:00",
          "2023-05-08T12:46:00",
          "2023-05-08T12:47:00",
          "2023-05-08T12:48:00",
          "2023-05-08T12:49:00",
          "2023-05-08T12:50:00",
          "2023-05-08T12:51:00",
          "2023-05-08T12:52:00",
          "2023-05-08T12:53:00",
          "2023-05-08T12:54:00",
          "2023-05-08T12:55:00",
          "2023-05-08T12:56:00",
          "2023-05-08T12:57:00",
          "2023-05-08T12:58:00",
          "2023-05-08T12:59:00",
          "2023-05-08T13:00:00",
          "2023-05-08T13:01:00",
          "2023-05-08T13:02:00",
          "2023-05-08T13:03:00",
          "2023-05-08T13:04:00",
          "2023-05-08T13:05:00",
          "2023-05-08T13:06:00",
          "2023-05-08T13:07:00",
          "2023-05-08T13:08:00",
          "2023-05-08T13:09:00",
          "2023-05-08T13:10:00",
          "2023-05-08T13:11:00",
          "2023-05-08T13:12:00",
          "2023-05-08T13:13:00",
          "2023-05-08T13:14:00",
          "2023-05-08T13:15:00",
          "2023-05-08T13:16:00",
          "2023-05-08T13:17:00",
          "2023-05-08T13:18:00",
          "2023-05-08T13:19:00",
          "2023-05-08T13:20:00",
          "2023-05-08T13:21:00",
          "2023-05-08T13:22:00",
          "2023-05-08T13:23:00",
          "2023-05-08T13:24:00",
          "2023-05-08T13:25:00",
          "2023-05-08T13:26:00",
          "2023-05-08T13:27:00",
          "2023-05-08T13:28:00",
          "2023-05-08T13:29:00",
          "2023-05-08T13:30:00",
          "2023-05-08T13:31:00",
          "2023-05-08T13:32:00",
          "2023-05-08T13:33:00",
          "2023-05-08T13:34:00",
          "2023-05-08T13:35:00",
          "2023-05-08T13:36:00",
          "2023-05-08T13:37:00",
          "2023-05-08T13:38:00",
          "2023-05-08T13:39:00",
          "2023-05-08T13:40:00",
          "2023-05-08T13:41:00",
          "2023-05-08T13:42:00",
          "2023-05-08T13:43:00",
          "2023-05-08T13:44:00",
          "2023-05-08T13:45:00",
          "2023-05-08T13:46:00",
          "2023-05-08T13:47:00",
          "2023-05-08T13:48:00",
          "2023-05-08T13:49:00",
          "2023-05-08T13:50:00",
          "2023-05-08T13:51:00",
          "2023-05-08T13:52:00",
          "2023-05-08T13:53:00",
          "2023-05-08T13:54:00",
          "2023-05-08T13:55:00",
          "2023-05-08T13:56:00",
          "2023-05-08T13:57:00",
          "2023-05-08T13:58:00",
          "2023-05-08T13:59:00",
          "2023-05-08T14:00:00",
          "2023-05-08T14:01:00",
          "2023-05-08T14:02:00",
          "2023-05-08T14:03:00",
          "2023-05-08T14:04:00",
          "2023-05-08T14:05:00",
          "2023-05-08T14:06:00",
          "2023-05-08T14:07:00",
          "2023-05-08T14:08:00",
          "2023-05-08T14:09:00",
          "2023-05-08T14:10:00",
          "2023-05-08T14:11:00",
          "2023-05-08T14:12:00",
          "2023-05-08T14:13:00",
          "2023-05-08T14:14:00",
          "2023-05-08T14:15:00",
          "2023-05-08T14:16:00",
          "2023-05-08T14:17:00",
          "2023-05-08T14:18:00",
          "2023-05-08T14:19:00",
          "2023-05-08T14:20:00",
          "2023-05-08T14:21:00",
          "2023-05-08T14:22:00",
          "2023-05-08T14:23:00",
          "2023-05-08T14:24:00",
          "2023-05-08T14:25:00",
          "2023-05-08T14:26:00",
          "2023-05-08T14:27:00",
          "2023-05-08T14:28:00",
          "2023-05-08T14:29:00",
          "2023-05-08T14:30:00",
          "2023-05-08T14:31:00",
          "2023-05-08T14:32:00",
          "2023-05-08T14:33:00",
          "2023-05-08T14:34:00",
          "2023-05-08T14:35:00",
          "2023-05-08T14:36:00",
          "2023-05-08T14:37:00",
          "2023-05-08T14:38:00",
          "2023-05-08T14:39:00",
          "2023-05-08T14:40:00",
          "2023-05-08T14:41:00",
          "2023-05-08T14:42:00",
          "2023-05-08T14:43:00",
          "2023-05-08T14:44:00",
          "2023-05-08T14:45:00",
          "2023-05-08T14:46:00",
          "2023-05-08T14:47:00",
          "2023-05-08T14:48:00",
          "2023-05-08T14:49:00",
          "2023-05-08T14:50:00",
          "2023-05-08T14:51:00",
          "2023-05-08T14:52:00",
          "2023-05-08T14:53:00",
          "2023-05-08T14:54:00",
          "2023-05-08T14:55:00",
          "2023-05-08T14:56:00",
          "2023-05-08T14:57:00",
          "2023-05-08T14:58:00",
          "2023-05-08T14:59:00",
          "2023-05-08T15:00:00",
          "2023-05-08T15:01:00",
          "2023-05-08T15:02:00",
          "2023-05-08T15:03:00",
          "2023-05-08T15:04:00",
          "2023-05-08T15:05:00",
          "2023-05-08T15:06:00",
          "2023-05-08T15:07:00",
          "2023-05-08T15:08:00",
          "2023-05-08T15:09:00",
          "2023-05-08T15:10:00",
          "2023-05-08T15:11:00",
          "2023-05-08T15:12:00",
          "2023-05-08T15:13:00",
          "2023-05-08T15:14:00",
          "2023-05-08T15:15:00",
          "2023-05-08T15:16:00",
          "2023-05-08T15:17:00",
          "2023-05-08T15:18:00",
          "2023-05-08T15:19:00",
          "2023-05-08T15:20:00",
          "2023-05-08T15:21:00",
          "2023-05-08T15:22:00",
          "2023-05-08T15:23:00",
          "2023-05-08T15:24:00",
          "2023-05-08T15:25:00",
          "2023-05-08T15:26:00",
          "2023-05-08T15:27:00",
          "2023-05-08T15:28:00",
          "2023-05-08T15:29:00",
          "2023-05-08T15:30:00",
          "2023-05-09T09:15:00",
          "2023-05-09T09:16:00",
          "2023-05-09T09:17:00",
          "2023-05-09T09:18:00",
          "2023-05-09T09:19:00",
          "2023-05-09T09:20:00",
          "2023-05-09T09:21:00",
          "2023-05-09T09:22:00",
          "2023-05-09T09:23:00",
          "2023-05-09T09:24:00",
          "2023-05-09T09:25:00",
          "2023-05-09T09:26:00",
          "2023-05-09T09:27:00",
          "2023-05-09T09:28:00",
          "2023-05-09T09:29:00",
          "2023-05-09T09:30:00",
          "2023-05-09T09:31:00",
          "2023-05-09T09:32:00",
          "2023-05-09T09:33:00",
          "2023-05-09T09:34:00",
          "2023-05-09T09:35:00",
          "2023-05-09T09:36:00",
          "2023-05-09T09:37:00",
          "2023-05-09T09:38:00",
          "2023-05-09T09:39:00",
          "2023-05-09T09:40:00",
          "2023-05-09T09:41:00",
          "2023-05-09T09:42:00",
          "2023-05-09T09:43:00",
          "2023-05-09T09:44:00",
          "2023-05-09T09:45:00",
          "2023-05-09T09:46:00",
          "2023-05-09T09:47:00",
          "2023-05-09T09:48:00",
          "2023-05-09T09:49:00",
          "2023-05-09T09:50:00",
          "2023-05-09T09:51:00",
          "2023-05-09T09:52:00",
          "2023-05-09T09:53:00",
          "2023-05-09T09:54:00",
          "2023-05-09T09:55:00",
          "2023-05-09T09:56:00",
          "2023-05-09T09:57:00",
          "2023-05-09T09:58:00",
          "2023-05-09T09:59:00",
          "2023-05-09T10:00:00",
          "2023-05-09T10:01:00",
          "2023-05-09T10:02:00",
          "2023-05-09T10:03:00",
          "2023-05-09T10:04:00",
          "2023-05-09T10:05:00",
          "2023-05-09T10:06:00",
          "2023-05-09T10:07:00",
          "2023-05-09T10:08:00",
          "2023-05-09T10:09:00",
          "2023-05-09T10:10:00",
          "2023-05-09T10:11:00",
          "2023-05-09T10:12:00",
          "2023-05-09T10:13:00",
          "2023-05-09T10:14:00",
          "2023-05-09T10:15:00",
          "2023-05-09T10:16:00",
          "2023-05-09T10:17:00",
          "2023-05-09T10:18:00",
          "2023-05-09T10:19:00",
          "2023-05-09T10:20:00",
          "2023-05-09T10:21:00",
          "2023-05-09T10:22:00",
          "2023-05-09T10:23:00",
          "2023-05-09T10:24:00",
          "2023-05-09T10:25:00",
          "2023-05-09T10:26:00",
          "2023-05-09T10:27:00",
          "2023-05-09T10:28:00",
          "2023-05-09T10:29:00",
          "2023-05-09T10:30:00",
          "2023-05-09T10:31:00",
          "2023-05-09T10:32:00",
          "2023-05-09T10:33:00",
          "2023-05-09T10:34:00",
          "2023-05-09T10:35:00",
          "2023-05-09T10:36:00",
          "2023-05-09T10:37:00",
          "2023-05-09T10:38:00",
          "2023-05-09T10:39:00",
          "2023-05-09T10:40:00",
          "2023-05-09T10:41:00",
          "2023-05-09T10:42:00",
          "2023-05-09T10:43:00",
          "2023-05-09T10:44:00",
          "2023-05-09T10:45:00",
          "2023-05-09T10:46:00",
          "2023-05-09T10:47:00",
          "2023-05-09T10:48:00",
          "2023-05-09T10:49:00",
          "2023-05-09T10:50:00",
          "2023-05-09T10:51:00",
          "2023-05-09T10:52:00",
          "2023-05-09T10:53:00",
          "2023-05-09T10:54:00",
          "2023-05-09T10:55:00",
          "2023-05-09T10:56:00",
          "2023-05-09T10:57:00",
          "2023-05-09T10:58:00",
          "2023-05-09T10:59:00",
          "2023-05-09T11:00:00",
          "2023-05-09T11:01:00",
          "2023-05-09T11:02:00",
          "2023-05-09T11:03:00",
          "2023-05-09T11:04:00",
          "2023-05-09T11:05:00",
          "2023-05-09T11:06:00",
          "2023-05-09T11:07:00",
          "2023-05-09T11:08:00",
          "2023-05-09T11:09:00",
          "2023-05-09T11:10:00",
          "2023-05-09T11:11:00",
          "2023-05-09T11:12:00",
          "2023-05-09T11:13:00",
          "2023-05-09T11:14:00",
          "2023-05-09T11:15:00",
          "2023-05-09T11:16:00",
          "2023-05-09T11:17:00",
          "2023-05-09T11:18:00",
          "2023-05-09T11:19:00",
          "2023-05-09T11:20:00",
          "2023-05-09T11:21:00",
          "2023-05-09T11:22:00",
          "2023-05-09T11:23:00",
          "2023-05-09T11:24:00",
          "2023-05-09T11:25:00",
          "2023-05-09T11:26:00",
          "2023-05-09T11:27:00",
          "2023-05-09T11:28:00",
          "2023-05-09T11:29:00",
          "2023-05-09T11:30:00",
          "2023-05-09T11:31:00",
          "2023-05-09T11:32:00",
          "2023-05-09T11:33:00",
          "2023-05-09T11:34:00",
          "2023-05-09T11:35:00",
          "2023-05-09T11:36:00",
          "2023-05-09T11:37:00",
          "2023-05-09T11:38:00",
          "2023-05-09T11:39:00",
          "2023-05-09T11:40:00",
          "2023-05-09T11:41:00",
          "2023-05-09T11:42:00",
          "2023-05-09T11:43:00",
          "2023-05-09T11:44:00",
          "2023-05-09T11:45:00",
          "2023-05-09T11:46:00",
          "2023-05-09T11:47:00",
          "2023-05-09T11:48:00",
          "2023-05-09T11:49:00",
          "2023-05-09T11:50:00",
          "2023-05-09T11:51:00",
          "2023-05-09T11:52:00",
          "2023-05-09T11:53:00",
          "2023-05-09T11:54:00",
          "2023-05-09T11:55:00",
          "2023-05-09T11:56:00",
          "2023-05-09T11:57:00",
          "2023-05-09T11:58:00",
          "2023-05-09T11:59:00",
          "2023-05-09T12:00:00",
          "2023-05-09T12:01:00",
          "2023-05-09T12:02:00",
          "2023-05-09T12:03:00",
          "2023-05-09T12:04:00",
          "2023-05-09T12:05:00",
          "2023-05-09T12:06:00",
          "2023-05-09T12:07:00",
          "2023-05-09T12:08:00",
          "2023-05-09T12:09:00",
          "2023-05-09T12:10:00",
          "2023-05-09T12:11:00",
          "2023-05-09T12:12:00",
          "2023-05-09T12:13:00",
          "2023-05-09T12:14:00",
          "2023-05-09T12:15:00",
          "2023-05-09T12:16:00",
          "2023-05-09T12:17:00",
          "2023-05-09T12:18:00",
          "2023-05-09T12:19:00",
          "2023-05-09T12:20:00",
          "2023-05-09T12:21:00",
          "2023-05-09T12:22:00",
          "2023-05-09T12:23:00",
          "2023-05-09T12:24:00",
          "2023-05-09T12:25:00",
          "2023-05-09T12:26:00",
          "2023-05-09T12:27:00",
          "2023-05-09T12:28:00",
          "2023-05-09T12:29:00",
          "2023-05-09T12:30:00",
          "2023-05-09T12:31:00",
          "2023-05-09T12:32:00",
          "2023-05-09T12:33:00",
          "2023-05-09T12:34:00",
          "2023-05-09T12:35:00",
          "2023-05-09T12:36:00",
          "2023-05-09T12:37:00",
          "2023-05-09T12:38:00",
          "2023-05-09T12:39:00",
          "2023-05-09T12:40:00",
          "2023-05-09T12:41:00",
          "2023-05-09T12:42:00",
          "2023-05-09T12:43:00",
          "2023-05-09T12:44:00",
          "2023-05-09T12:45:00",
          "2023-05-09T12:46:00",
          "2023-05-09T12:47:00",
          "2023-05-09T12:48:00",
          "2023-05-09T12:49:00",
          "2023-05-09T12:50:00",
          "2023-05-09T12:51:00",
          "2023-05-09T12:52:00",
          "2023-05-09T12:53:00",
          "2023-05-09T12:54:00",
          "2023-05-09T12:55:00",
          "2023-05-09T12:56:00",
          "2023-05-09T12:57:00",
          "2023-05-09T12:58:00",
          "2023-05-09T12:59:00",
          "2023-05-09T13:00:00",
          "2023-05-09T13:01:00",
          "2023-05-09T13:02:00",
          "2023-05-09T13:03:00",
          "2023-05-09T13:04:00",
          "2023-05-09T13:05:00",
          "2023-05-09T13:06:00",
          "2023-05-09T13:07:00",
          "2023-05-09T13:08:00",
          "2023-05-09T13:09:00",
          "2023-05-09T13:10:00",
          "2023-05-09T13:11:00",
          "2023-05-09T13:12:00",
          "2023-05-09T13:13:00",
          "2023-05-09T13:14:00",
          "2023-05-09T13:15:00",
          "2023-05-09T13:16:00",
          "2023-05-09T13:17:00",
          "2023-05-09T13:18:00",
          "2023-05-09T13:19:00",
          "2023-05-09T13:20:00",
          "2023-05-09T13:21:00",
          "2023-05-09T13:22:00",
          "2023-05-09T13:23:00",
          "2023-05-09T13:24:00",
          "2023-05-09T13:25:00",
          "2023-05-09T13:26:00",
          "2023-05-09T13:27:00",
          "2023-05-09T13:28:00",
          "2023-05-09T13:29:00",
          "2023-05-09T13:30:00",
          "2023-05-09T13:31:00",
          "2023-05-09T13:32:00",
          "2023-05-09T13:33:00",
          "2023-05-09T13:34:00",
          "2023-05-09T13:35:00",
          "2023-05-09T13:36:00",
          "2023-05-09T13:37:00",
          "2023-05-09T13:38:00",
          "2023-05-09T13:39:00",
          "2023-05-09T13:40:00",
          "2023-05-09T13:41:00",
          "2023-05-09T13:42:00",
          "2023-05-09T13:43:00",
          "2023-05-09T13:44:00",
          "2023-05-09T13:45:00",
          "2023-05-09T13:46:00",
          "2023-05-09T13:47:00",
          "2023-05-09T13:48:00",
          "2023-05-09T13:49:00",
          "2023-05-09T13:50:00",
          "2023-05-09T13:51:00",
          "2023-05-09T13:52:00",
          "2023-05-09T13:53:00",
          "2023-05-09T13:54:00",
          "2023-05-09T13:55:00",
          "2023-05-09T13:56:00",
          "2023-05-09T13:57:00",
          "2023-05-09T13:58:00",
          "2023-05-09T13:59:00",
          "2023-05-09T14:00:00",
          "2023-05-09T14:01:00",
          "2023-05-09T14:02:00",
          "2023-05-09T14:03:00",
          "2023-05-09T14:04:00",
          "2023-05-09T14:05:00",
          "2023-05-09T14:06:00",
          "2023-05-09T14:07:00",
          "2023-05-09T14:08:00",
          "2023-05-09T14:09:00",
          "2023-05-09T14:10:00",
          "2023-05-09T14:11:00",
          "2023-05-09T14:12:00",
          "2023-05-09T14:13:00",
          "2023-05-09T14:14:00",
          "2023-05-09T14:15:00",
          "2023-05-09T14:16:00",
          "2023-05-09T14:17:00",
          "2023-05-09T14:18:00",
          "2023-05-09T14:19:00",
          "2023-05-09T14:20:00",
          "2023-05-09T14:21:00",
          "2023-05-09T14:22:00",
          "2023-05-09T14:23:00",
          "2023-05-09T14:24:00",
          "2023-05-09T14:25:00",
          "2023-05-09T14:26:00",
          "2023-05-09T14:27:00",
          "2023-05-09T14:28:00",
          "2023-05-09T14:29:00",
          "2023-05-09T14:30:00",
          "2023-05-09T14:31:00",
          "2023-05-09T14:32:00",
          "2023-05-09T14:33:00",
          "2023-05-09T14:34:00",
          "2023-05-09T14:35:00",
          "2023-05-09T14:36:00",
          "2023-05-09T14:37:00",
          "2023-05-09T14:38:00",
          "2023-05-09T14:39:00",
          "2023-05-09T14:40:00",
          "2023-05-09T14:41:00",
          "2023-05-09T14:42:00",
          "2023-05-09T14:43:00",
          "2023-05-09T14:44:00",
          "2023-05-09T14:45:00",
          "2023-05-09T14:46:00",
          "2023-05-09T14:47:00",
          "2023-05-09T14:48:00",
          "2023-05-09T14:49:00",
          "2023-05-09T14:50:00",
          "2023-05-09T14:51:00",
          "2023-05-09T14:52:00",
          "2023-05-09T14:53:00",
          "2023-05-09T14:54:00",
          "2023-05-09T14:55:00",
          "2023-05-09T14:56:00",
          "2023-05-09T14:57:00",
          "2023-05-09T14:58:00",
          "2023-05-09T14:59:00",
          "2023-05-09T15:00:00",
          "2023-05-09T15:01:00",
          "2023-05-09T15:02:00",
          "2023-05-09T15:03:00",
          "2023-05-09T15:04:00",
          "2023-05-09T15:05:00",
          "2023-05-09T15:06:00",
          "2023-05-09T15:07:00",
          "2023-05-09T15:08:00",
          "2023-05-09T15:09:00",
          "2023-05-09T15:10:00",
          "2023-05-09T15:11:00",
          "2023-05-09T15:12:00",
          "2023-05-09T15:13:00",
          "2023-05-09T15:14:00",
          "2023-05-09T15:15:00",
          "2023-05-09T15:16:00",
          "2023-05-09T15:17:00",
          "2023-05-09T15:18:00",
          "2023-05-09T15:19:00",
          "2023-05-09T15:20:00",
          "2023-05-09T15:21:00",
          "2023-05-09T15:22:00",
          "2023-05-09T15:23:00",
          "2023-05-09T15:24:00",
          "2023-05-09T15:25:00",
          "2023-05-09T15:26:00",
          "2023-05-09T15:27:00",
          "2023-05-09T15:28:00",
          "2023-05-09T15:29:00",
          "2023-05-09T15:30:00"
         ],
         "y": [
          206.45,
          200.20000000000002,
          196.6,
          191.1,
          190,
          188.4,
          185.8,
          185.65,
          186.5,
          180.3,
          177.3,
          180.35,
          180.3,
          182.9,
          178.7,
          177.79999999999998,
          175.5,
          173.2,
          173.75,
          172.9,
          169.25,
          171.5,
          169.64999999999998,
          170.5,
          170.4,
          170.29999999999998,
          170.95,
          171.60000000000002,
          163.8,
          165.85,
          164.4,
          163.95,
          162.85,
          162.05,
          160.25,
          161.25,
          161.6,
          161.8,
          162.85,
          162.4,
          162.85,
          162.3,
          161.15,
          161.55,
          160.89999999999998,
          161.65,
          161.3,
          161,
          161.39999999999998,
          158.65,
          163.7,
          163.35000000000002,
          163.8,
          164.45,
          164.9,
          165.9,
          166.3,
          166.1,
          167.7,
          168.1,
          165.1,
          166.15,
          165.60000000000002,
          164.75,
          163.1,
          164.2,
          163.7,
          160.5,
          153.85,
          153.1,
          153.15,
          152.1,
          152.1,
          152.9,
          151.75,
          153.35,
          153.7,
          155.45,
          154.1,
          153.60000000000002,
          153.05,
          153.3,
          153.25,
          152.8,
          151.85,
          151.1,
          151.8,
          149.1,
          150.25,
          148.65,
          147.6,
          148.85,
          149.45,
          149.4,
          149.3,
          149.60000000000002,
          150.7,
          151.35,
          151.85,
          151.6,
          153.3,
          152.4,
          151.9,
          151.45,
          151.95,
          150.3,
          151.05,
          152.35,
          151.3,
          152.85,
          152.8,
          154.6,
          153.1,
          155.2,
          154.4,
          153.25,
          154.7,
          151.6,
          151,
          150.1,
          149.55,
          150.15,
          149.3,
          149.25,
          148.75,
          149.35,
          150.7,
          150.25,
          150.35,
          150.14999999999998,
          150.7,
          150.75,
          149.45,
          149.6,
          148.8,
          147.45,
          148.35000000000002,
          148.45,
          146.3,
          147.25,
          145.45,
          145.2,
          144.65,
          145.4,
          144.95,
          145.1,
          144.35000000000002,
          144.7,
          144.85,
          145.15,
          144.9,
          144.39999999999998,
          144.45,
          144.2,
          143.75,
          143.25,
          144.15,
          144,
          144.1,
          143.9,
          143.85,
          143.7,
          144.1,
          143.75,
          144.2,
          143.75,
          143.85000000000002,
          143.39999999999998,
          143.8,
          142.7,
          143.45,
          143.25,
          143.3,
          143.05,
          143.1,
          142.9,
          143.7,
          143.75,
          144.45,
          144,
          144.45,
          144.55,
          144.65,
          144.4,
          144.65,
          145.25,
          145.6,
          145.55,
          145.9,
          145.85000000000002,
          146.05,
          145.7,
          145.3,
          145.55,
          145.65,
          145.4,
          144.9,
          146.2,
          145.85000000000002,
          146.15,
          146.1,
          145.1,
          145.75,
          145.39999999999998,
          145.15,
          145.4,
          145.4,
          144.3,
          144.75,
          144.25,
          145,
          144.75,
          144.95,
          144.85,
          144.60000000000002,
          144.45,
          145.10000000000002,
          145.35,
          145.4,
          145.05,
          145.10000000000002,
          144.5,
          144.65,
          145.75,
          145.45,
          145.45,
          144.85,
          145.05,
          144.95,
          145.7,
          146.3,
          145.7,
          145,
          145.10000000000002,
          144.89999999999998,
          145.5,
          146.35,
          145.75,
          145.25,
          145.1,
          144.85000000000002,
          144.85000000000002,
          144.7,
          144.89999999999998,
          144.85,
          145.05,
          145.25,
          145,
          143.5,
          144.65,
          144.95,
          144.35,
          144.75,
          145.1,
          145.5,
          145.65,
          145.9,
          146.35,
          146.25,
          146.25,
          146.15,
          146.39999999999998,
          146.35,
          147.10000000000002,
          147,
          146.75,
          146.9,
          146.7,
          145.10000000000002,
          145.75,
          145.85,
          145.25,
          146.2,
          145.75,
          146.4,
          146,
          145.65,
          146.4,
          146.1,
          145.45,
          143.95,
          143.25,
          143.7,
          143.3,
          143.2,
          143.4,
          143.45,
          142.95,
          143,
          142.9,
          143.55,
          144,
          144.3,
          144.1,
          143.25,
          143.15,
          143.05,
          143.65,
          143.9,
          143.2,
          144.45,
          143.9,
          144.7,
          144.45,
          144.55,
          145.60000000000002,
          145.7,
          145.8,
          145.85000000000002,
          144.65,
          145.25,
          145.25,
          144.14999999999998,
          144.55,
          144.2,
          143.65,
          144.55,
          145.64999999999998,
          145.25,
          146.3,
          146.15,
          146.15,
          146.05,
          145.39999999999998,
          145,
          144.55,
          145.6,
          144.89999999999998,
          144.8,
          144.25,
          144.4,
          144.1,
          144,
          144.65,
          144.5,
          144.1,
          144.55,
          144.05,
          143.7,
          144.55,
          144.25,
          144.7,
          144.85000000000002,
          145.5,
          145.64999999999998,
          143.85,
          144.7,
          144.75,
          144.55,
          143.2,
          142.95,
          141.6,
          141.05,
          141.65,
          142.2,
          140.8,
          140.45,
          140,
          140.45,
          140.6,
          142.4,
          142.2,
          141.65,
          141.5,
          139.15,
          141.05,
          141.05,
          139.2,
          139.05,
          138.6,
          139.1,
          138.7,
          141.4,
          138.45,
          137.25,
          135.35,
          134.75,
          134.15,
          133.85000000000002,
          132.55,
          132.05,
          131.45,
          131.8,
          131.4,
          130.4,
          132,
          134,
          133.15,
          132.25,
          132.3,
          131.89999999999998,
          132.35000000000002,
          132.8,
          132.9,
          134.55,
          134.15,
          134.7,
          133.9,
          132.7,
          133.85000000000002,
          133.75,
          132.4,
          130.9,
          130.6,
          130.3,
          130.65,
          130.95,
          132.35,
          132.45,
          131.95,
          132.05,
          132.95,
          133.4,
          132.4,
          133.25,
          133.60000000000002,
          133.4,
          133.2,
          133.8,
          133.35,
          133.3,
          133.2,
          133.8,
          134.55,
          133.95,
          133.3,
          133.4,
          133.9,
          134.25,
          133.8,
          133.5,
          133.05,
          133.2,
          133.3,
          134.35000000000002,
          134.55,
          134.6,
          134.9,
          134.3,
          134.55,
          133.6,
          133.55,
          132.95,
          132.9,
          132.35,
          132.9,
          134.1,
          134.55,
          134.4,
          133.3,
          133.25,
          131.15,
          130.1,
          131.05,
          130.35,
          130.60000000000002,
          131.45,
          131.7,
          129.9,
          130.05,
          130.05,
          130.65,
          131.4,
          131.1,
          131.2,
          131.3,
          131.9,
          131.9,
          132,
          131.65,
          131.55,
          131.7,
          131.4,
          131.85,
          131.45,
          131.5,
          131.3,
          131.55,
          132.15,
          131,
          131.65,
          131.75,
          131.85,
          131.6,
          131.05,
          131.3,
          131.75,
          130.75,
          130.85,
          131.15,
          131,
          130.9,
          130.9,
          130.39999999999998,
          129.5,
          130.10000000000002,
          128.7,
          130.2,
          130.10000000000002,
          130.6,
          129.9,
          130.35,
          129.3,
          129.45,
          128.9,
          128.60000000000002,
          129.05,
          128.95,
          129.35,
          129.9,
          129.8,
          129.7,
          129.7,
          129,
          129.1,
          129.45,
          129.3,
          129,
          129.25,
          129.2,
          129.1,
          129.45,
          129.5,
          129.65,
          129.6,
          129.2,
          129,
          129.25,
          129.5,
          129.2,
          128.3,
          128.7,
          129.3,
          129.25,
          129.3,
          129.10000000000002,
          129.1,
          129,
          129.45,
          129.35,
          129.14999999999998,
          128.95,
          128.7,
          128.9,
          129.2,
          129.05,
          128.8,
          129.25,
          129.45,
          129.3,
          129.2,
          128.55,
          128.8,
          128.4,
          127.80000000000001,
          127.8,
          127.80000000000001,
          128.05,
          128.05,
          127.65,
          127.8,
          127.35000000000001,
          127.30000000000001,
          126.30000000000001,
          126.64999999999999,
          127.05,
          127.19999999999999,
          127.14999999999999,
          126.4,
          126.05000000000001,
          126.55,
          126.85,
          126.19999999999999,
          126.5,
          127,
          126.35,
          126.39999999999999,
          126.30000000000001,
          126.1,
          126.1,
          125.6,
          125.65,
          125.2,
          125.75,
          125.45,
          125.55000000000001,
          125.5,
          125.7,
          125.2,
          123.19999999999999,
          124.6,
          124.55000000000001,
          124.69999999999999,
          124.9,
          123.45,
          122.7,
          123,
          122.5,
          123.05,
          122.55,
          122.4,
          123.55,
          123.69999999999999,
          122.55,
          123.05000000000001,
          123.6,
          123.65,
          122.69999999999999,
          123.05,
          123.65,
          123.9,
          124.25,
          123.75,
          124.55,
          124.3,
          124.5,
          123.80000000000001,
          123.1,
          122.7,
          123.25,
          122.55000000000001,
          123.65,
          124.35,
          123.35,
          123.94999999999999,
          124.1,
          124.19999999999999,
          123.55,
          122.75,
          123.1,
          124.2,
          123.85,
          122.35,
          123.4,
          124.2,
          126.19999999999999,
          124.5,
          124.25,
          124,
          123.65,
          123.65,
          124.4,
          124.65,
          124.3,
          124.2,
          124.8,
          124.35,
          124.65,
          125.25,
          125.30000000000001,
          125.60000000000001,
          124.9,
          124.35,
          124.6,
          124.5,
          125.55,
          124.5,
          125.39999999999999,
          126.1,
          126,
          128.8,
          132.85,
          136.2,
          131.4,
          135.05,
          132.64999999999998,
          132.65,
          129,
          129,
          131.8,
          129.45,
          127.85,
          129.05,
          127.94999999999999,
          128.85000000000002,
          128.4,
          128.95,
          128.8,
          129.05,
          129.3,
          128.45,
          127.7,
          127.4,
          128.25,
          128.39999999999998,
          129.8,
          126.69999999999999,
          127.4,
          125.85000000000001,
          122.55000000000001,
          123.6,
          121.45,
          121.05,
          121.6,
          121,
          120.89999999999999,
          120.1,
          120.85,
          121,
          121.9,
          121.85,
          122.69999999999999,
          121.05000000000001,
          123.1,
          122.75,
          124.7,
          124.44999999999999,
          125.85,
          122.89999999999999,
          122.45,
          123.65,
          124.2,
          124.75,
          123.1,
          123,
          122.65,
          122.1,
          121.85,
          121.80000000000001,
          120.7,
          121.6,
          119.95,
          120.75,
          119.1,
          119.35,
          119.55000000000001,
          118.6,
          118.69999999999999,
          118.15,
          118.65,
          118.69999999999999,
          120.15,
          119.30000000000001,
          118.75,
          119.1,
          118.45,
          119.45,
          119.75,
          120.5,
          119.45,
          119.55,
          120.95,
          121.1,
          119.69999999999999,
          120.75,
          120.05000000000001,
          119.95,
          120.25,
          121,
          120.15,
          119.75,
          119.95
         ]
        },
        {
         "line": {
          "color": "green"
         },
         "mode": "lines",
         "name": "SuperTrend Uptrend",
         "showlegend": true,
         "type": "scatter",
         "x": [
          "2023-05-08T09:15:00",
          "2023-05-08T09:16:00"
         ],
         "y": [
          null,
          79.8499999999998
         ]
        },
        {
         "line": {
          "color": "green"
         },
         "mode": "lines",
         "name": "SuperTrend Uptrend",
         "showlegend": false,
         "type": "scatter",
         "x": [
          "2023-05-08T09:16:00",
          "2023-05-08T09:17:00"
         ],
         "y": [
          79.8499999999998,
          79.8499999999998
         ]
        },
        {
         "line": {
          "color": "green"
         },
         "mode": "lines",
         "name": "SuperTrend Uptrend",
         "showlegend": false,
         "type": "scatter",
         "x": [
          "2023-05-08T09:17:00",
          "2023-05-08T09:18:00"
         ],
         "y": [
          79.8499999999998,
          79.8499999999998
         ]
        },
        {
         "line": {
          "color": "green"
         },
         "mode": "lines",
         "name": "SuperTrend Uptrend",
         "showlegend": false,
         "type": "scatter",
         "x": [
          "2023-05-08T09:18:00",
          "2023-05-08T09:19:00"
         ],
         "y": [
          79.8499999999998,
          87.80625000000016
         ]
        },
        {
         "line": {
          "color": "green"
         },
         "mode": "lines",
         "name": "SuperTrend Uptrend",
         "showlegend": false,
         "type": "scatter",
         "x": [
          "2023-05-08T09:19:00",
          "2023-05-08T09:20:00"
         ],
         "y": [
          87.80625000000016,
          87.80625000000016
         ]
        },
        {
         "line": {
          "color": "green"
         },
         "mode": "lines",
         "name": "SuperTrend Uptrend",
         "showlegend": false,
         "type": "scatter",
         "x": [
          "2023-05-08T09:20:00",
          "2023-05-08T09:21:00"
         ],
         "y": [
          87.80625000000016,
          96.67031250000004
         ]
        },
        {
         "line": {
          "color": "green"
         },
         "mode": "lines",
         "name": "SuperTrend Uptrend",
         "showlegend": false,
         "type": "scatter",
         "x": [
          "2023-05-08T09:21:00",
          "2023-05-08T09:22:00"
         ],
         "y": [
          96.67031250000004,
          112.71015624999987
         ]
        },
        {
         "line": {
          "color": "green"
         },
         "mode": "lines",
         "name": "SuperTrend Uptrend",
         "showlegend": false,
         "type": "scatter",
         "x": [
          "2023-05-08T09:22:00",
          "2023-05-08T09:23:00"
         ],
         "y": [
          112.71015624999987,
          115.24257812499994
         ]
        },
        {
         "line": {
          "color": "green"
         },
         "mode": "lines",
         "name": "SuperTrend Uptrend",
         "showlegend": false,
         "type": "scatter",
         "x": [
          "2023-05-08T09:23:00",
          "2023-05-08T09:24:00"
         ],
         "y": [
          115.24257812499994,
          115.24257812499994
         ]
        },
        {
         "line": {
          "color": "green"
         },
         "mode": "lines",
         "name": "SuperTrend Uptrend",
         "showlegend": false,
         "type": "scatter",
         "x": [
          "2023-05-08T09:24:00",
          "2023-05-08T09:25:00"
         ],
         "y": [
          115.24257812499994,
          115.24257812499994
         ]
        },
        {
         "line": {
          "color": "green"
         },
         "mode": "lines",
         "name": "SuperTrend Uptrend",
         "showlegend": false,
         "type": "scatter",
         "x": [
          "2023-05-08T09:25:00",
          "2023-05-08T09:26:00"
         ],
         "y": [
          115.24257812499994,
          115.24257812499994
         ]
        },
        {
         "line": {
          "color": "green"
         },
         "mode": "lines",
         "name": "SuperTrend Uptrend",
         "showlegend": false,
         "type": "scatter",
         "x": [
          "2023-05-08T09:26:00",
          "2023-05-08T09:27:00"
         ],
         "y": [
          115.24257812499994,
          115.24257812499994
         ]
        },
        {
         "line": {
          "color": "green"
         },
         "mode": "lines",
         "name": "SuperTrend Uptrend",
         "showlegend": false,
         "type": "scatter",
         "x": [
          "2023-05-08T09:27:00",
          "2023-05-08T09:28:00"
         ],
         "y": [
          115.24257812499994,
          115.24257812499994
         ]
        },
        {
         "line": {
          "color": "green"
         },
         "mode": "lines",
         "name": "SuperTrend Uptrend",
         "showlegend": false,
         "type": "scatter",
         "x": [
          "2023-05-08T09:28:00",
          "2023-05-08T09:29:00"
         ],
         "y": [
          115.24257812499994,
          115.24257812499994
         ]
        },
        {
         "line": {
          "color": "green"
         },
         "mode": "lines",
         "name": "SuperTrend Uptrend",
         "showlegend": false,
         "type": "scatter",
         "x": [
          "2023-05-08T09:29:00",
          "2023-05-08T09:30:00"
         ],
         "y": [
          115.24257812499994,
          115.24257812499994
         ]
        },
        {
         "line": {
          "color": "green"
         },
         "mode": "lines",
         "name": "SuperTrend Uptrend",
         "showlegend": false,
         "type": "scatter",
         "x": [
          "2023-05-08T09:30:00",
          "2023-05-08T09:31:00"
         ],
         "y": [
          115.24257812499994,
          115.24257812499994
         ]
        },
        {
         "line": {
          "color": "green"
         },
         "mode": "lines",
         "name": "SuperTrend Uptrend",
         "showlegend": false,
         "type": "scatter",
         "x": [
          "2023-05-08T09:31:00",
          "2023-05-08T09:32:00"
         ],
         "y": [
          115.24257812499994,
          115.24257812499994
         ]
        },
        {
         "line": {
          "color": "green"
         },
         "mode": "lines",
         "name": "SuperTrend Uptrend",
         "showlegend": false,
         "type": "scatter",
         "x": [
          "2023-05-08T09:32:00",
          "2023-05-08T09:33:00"
         ],
         "y": [
          115.24257812499994,
          115.24257812499994
         ]
        },
        {
         "line": {
          "color": "green"
         },
         "mode": "lines",
         "name": "SuperTrend Uptrend",
         "showlegend": false,
         "type": "scatter",
         "x": [
          "2023-05-08T09:33:00",
          "2023-05-08T09:34:00"
         ],
         "y": [
          115.24257812499994,
          115.24257812499994
         ]
        },
        {
         "line": {
          "color": "green"
         },
         "mode": "lines",
         "name": "SuperTrend Uptrend",
         "showlegend": false,
         "type": "scatter",
         "x": [
          "2023-05-08T09:34:00",
          "2023-05-08T09:35:00"
         ],
         "y": [
          115.24257812499994,
          115.24257812499994
         ]
        },
        {
         "line": {
          "color": "green"
         },
         "mode": "lines",
         "name": "SuperTrend Uptrend",
         "showlegend": false,
         "type": "scatter",
         "x": [
          "2023-05-08T09:35:00",
          "2023-05-08T09:36:00"
         ],
         "y": [
          115.24257812499994,
          115.24257812499994
         ]
        },
        {
         "line": {
          "color": "green"
         },
         "mode": "lines",
         "name": "SuperTrend Uptrend",
         "showlegend": false,
         "type": "scatter",
         "x": [
          "2023-05-08T09:36:00",
          "2023-05-08T09:37:00"
         ],
         "y": [
          115.24257812499994,
          115.24257812499994
         ]
        },
        {
         "line": {
          "color": "green"
         },
         "mode": "lines",
         "name": "SuperTrend Uptrend",
         "showlegend": false,
         "type": "scatter",
         "x": [
          "2023-05-08T09:37:00",
          "2023-05-08T09:38:00"
         ],
         "y": [
          115.24257812499994,
          115.24257812499994
         ]
        },
        {
         "line": {
          "color": "green"
         },
         "mode": "lines",
         "name": "SuperTrend Uptrend",
         "showlegend": false,
         "type": "scatter",
         "x": [
          "2023-05-08T09:38:00",
          "2023-05-08T09:39:00"
         ],
         "y": [
          115.24257812499994,
          115.24257812499994
         ]
        },
        {
         "line": {
          "color": "green"
         },
         "mode": "lines",
         "name": "SuperTrend Uptrend",
         "showlegend": false,
         "type": "scatter",
         "x": [
          "2023-05-08T09:39:00",
          "2023-05-08T09:40:00"
         ],
         "y": [
          115.24257812499994,
          128.3137927442789
         ]
        },
        {
         "line": {
          "color": "green"
         },
         "mode": "lines",
         "name": "SuperTrend Uptrend",
         "showlegend": false,
         "type": "scatter",
         "x": [
          "2023-05-08T09:40:00",
          "2023-05-08T09:41:00"
         ],
         "y": [
          128.3137927442789,
          129.98189637213937
         ]
        },
        {
         "line": {
          "color": "green"
         },
         "mode": "lines",
         "name": "SuperTrend Uptrend",
         "showlegend": false,
         "type": "scatter",
         "x": [
          "2023-05-08T09:41:00",
          "2023-05-08T09:42:00"
         ],
         "y": [
          129.98189637213937,
          129.98189637213937
         ]
        },
        {
         "line": {
          "color": "green"
         },
         "mode": "lines",
         "name": "SuperTrend Uptrend",
         "showlegend": false,
         "type": "scatter",
         "x": [
          "2023-05-08T09:42:00",
          "2023-05-08T09:43:00"
         ],
         "y": [
          129.98189637213937,
          129.98189637213937
         ]
        },
        {
         "line": {
          "color": "green"
         },
         "mode": "lines",
         "name": "SuperTrend Uptrend",
         "showlegend": false,
         "type": "scatter",
         "x": [
          "2023-05-08T09:43:00",
          "2023-05-08T09:44:00"
         ],
         "y": [
          129.98189637213937,
          129.98189637213937
         ]
        },
        {
         "line": {
          "color": "green"
         },
         "mode": "lines",
         "name": "SuperTrend Uptrend",
         "showlegend": false,
         "type": "scatter",
         "x": [
          "2023-05-08T09:44:00",
          "2023-05-08T09:45:00"
         ],
         "y": [
          129.98189637213937,
          129.98189637213937
         ]
        },
        {
         "line": {
          "color": "green"
         },
         "mode": "lines",
         "name": "SuperTrend Uptrend",
         "showlegend": false,
         "type": "scatter",
         "x": [
          "2023-05-08T09:45:00",
          "2023-05-08T09:46:00"
         ],
         "y": [
          129.98189637213937,
          129.98189637213937
         ]
        },
        {
         "line": {
          "color": "green"
         },
         "mode": "lines",
         "name": "SuperTrend Uptrend",
         "showlegend": false,
         "type": "scatter",
         "x": [
          "2023-05-08T09:46:00",
          "2023-05-08T09:47:00"
         ],
         "y": [
          129.98189637213937,
          129.98189637213937
         ]
        },
        {
         "line": {
          "color": "green"
         },
         "mode": "lines",
         "name": "SuperTrend Uptrend",
         "showlegend": false,
         "type": "scatter",
         "x": [
          "2023-05-08T09:47:00",
          "2023-05-08T09:48:00"
         ],
         "y": [
          129.98189637213937,
          129.98189637213937
         ]
        },
        {
         "line": {
          "color": "green"
         },
         "mode": "lines",
         "name": "SuperTrend Uptrend",
         "showlegend": false,
         "type": "scatter",
         "x": [
          "2023-05-08T09:48:00",
          "2023-05-08T09:49:00"
         ],
         "y": [
          129.98189637213937,
          129.98189637213937
         ]
        },
        {
         "line": {
          "color": "green"
         },
         "mode": "lines",
         "name": "SuperTrend Uptrend",
         "showlegend": false,
         "type": "scatter",
         "x": [
          "2023-05-08T09:49:00",
          "2023-05-08T09:50:00"
         ],
         "y": [
          129.98189637213937,
          129.98189637213937
         ]
        },
        {
         "line": {
          "color": "green"
         },
         "mode": "lines",
         "name": "SuperTrend Uptrend",
         "showlegend": false,
         "type": "scatter",
         "x": [
          "2023-05-08T09:50:00",
          "2023-05-08T09:51:00"
         ],
         "y": [
          129.98189637213937,
          129.98189637213937
         ]
        },
        {
         "line": {
          "color": "green"
         },
         "mode": "lines",
         "name": "SuperTrend Uptrend",
         "showlegend": false,
         "type": "scatter",
         "x": [
          "2023-05-08T09:51:00",
          "2023-05-08T09:52:00"
         ],
         "y": [
          129.98189637213937,
          129.98189637213937
         ]
        },
        {
         "line": {
          "color": "green"
         },
         "mode": "lines",
         "name": "SuperTrend Uptrend",
         "showlegend": false,
         "type": "scatter",
         "x": [
          "2023-05-08T09:52:00",
          "2023-05-08T09:53:00"
         ],
         "y": [
          129.98189637213937,
          129.98189637213937
         ]
        },
        {
         "line": {
          "color": "green"
         },
         "mode": "lines",
         "name": "SuperTrend Uptrend",
         "showlegend": false,
         "type": "scatter",
         "x": [
          "2023-05-08T09:53:00",
          "2023-05-08T09:54:00"
         ],
         "y": [
          129.98189637213937,
          129.98189637213937
         ]
        },
        {
         "line": {
          "color": "green"
         },
         "mode": "lines",
         "name": "SuperTrend Uptrend",
         "showlegend": false,
         "type": "scatter",
         "x": [
          "2023-05-08T09:54:00",
          "2023-05-08T09:55:00"
         ],
         "y": [
          129.98189637213937,
          129.98189637213937
         ]
        },
        {
         "line": {
          "color": "green"
         },
         "mode": "lines",
         "name": "SuperTrend Uptrend",
         "showlegend": false,
         "type": "scatter",
         "x": [
          "2023-05-08T09:55:00",
          "2023-05-08T09:56:00"
         ],
         "y": [
          129.98189637213937,
          129.98189637213937
         ]
        },
        {
         "line": {
          "color": "green"
         },
         "mode": "lines",
         "name": "SuperTrend Uptrend",
         "showlegend": false,
         "type": "scatter",
         "x": [
          "2023-05-08T09:56:00",
          "2023-05-08T09:57:00"
         ],
         "y": [
          129.98189637213937,
          129.98189637213937
         ]
        },
        {
         "line": {
          "color": "green"
         },
         "mode": "lines",
         "name": "SuperTrend Uptrend",
         "showlegend": false,
         "type": "scatter",
         "x": [
          "2023-05-08T09:57:00",
          "2023-05-08T09:58:00"
         ],
         "y": [
          129.98189637213937,
          129.98189637213937
         ]
        },
        {
         "line": {
          "color": "green"
         },
         "mode": "lines",
         "name": "SuperTrend Uptrend",
         "showlegend": false,
         "type": "scatter",
         "x": [
          "2023-05-08T09:58:00",
          "2023-05-08T09:59:00"
         ],
         "y": [
          129.98189637213937,
          129.98189637213937
         ]
        },
        {
         "line": {
          "color": "green"
         },
         "mode": "lines",
         "name": "SuperTrend Uptrend",
         "showlegend": false,
         "type": "scatter",
         "x": [
          "2023-05-08T09:59:00",
          "2023-05-08T10:00:00"
         ],
         "y": [
          129.98189637213937,
          129.98189637213937
         ]
        },
        {
         "line": {
          "color": "green"
         },
         "mode": "lines",
         "name": "SuperTrend Uptrend",
         "showlegend": false,
         "type": "scatter",
         "x": [
          "2023-05-08T10:00:00",
          "2023-05-08T10:01:00"
         ],
         "y": [
          129.98189637213937,
          129.98189637213937
         ]
        },
        {
         "line": {
          "color": "green"
         },
         "mode": "lines",
         "name": "SuperTrend Uptrend",
         "showlegend": false,
         "type": "scatter",
         "x": [
          "2023-05-08T10:01:00",
          "2023-05-08T10:02:00"
         ],
         "y": [
          129.98189637213937,
          129.98189637213937
         ]
        },
        {
         "line": {
          "color": "green"
         },
         "mode": "lines",
         "name": "SuperTrend Uptrend",
         "showlegend": false,
         "type": "scatter",
         "x": [
          "2023-05-08T10:02:00",
          "2023-05-08T10:03:00"
         ],
         "y": [
          129.98189637213937,
          129.98189637213937
         ]
        },
        {
         "line": {
          "color": "green"
         },
         "mode": "lines",
         "name": "SuperTrend Uptrend",
         "showlegend": false,
         "type": "scatter",
         "x": [
          "2023-05-08T10:03:00",
          "2023-05-08T10:04:00"
         ],
         "y": [
          129.98189637213937,
          129.98189637213937
         ]
        },
        {
         "line": {
          "color": "green"
         },
         "mode": "lines",
         "name": "SuperTrend Uptrend",
         "showlegend": false,
         "type": "scatter",
         "x": [
          "2023-05-08T10:04:00",
          "2023-05-08T10:05:00"
         ],
         "y": [
          129.98189637213937,
          129.98189637213937
         ]
        },
        {
         "line": {
          "color": "green"
         },
         "mode": "lines",
         "name": "SuperTrend Uptrend",
         "showlegend": false,
         "type": "scatter",
         "x": [
          "2023-05-08T10:05:00",
          "2023-05-08T10:06:00"
         ],
         "y": [
          129.98189637213937,
          129.98189637213937
         ]
        },
        {
         "line": {
          "color": "green"
         },
         "mode": "lines",
         "name": "SuperTrend Uptrend",
         "showlegend": false,
         "type": "scatter",
         "x": [
          "2023-05-08T10:06:00",
          "2023-05-08T10:07:00"
         ],
         "y": [
          129.98189637213937,
          129.98189637213937
         ]
        },
        {
         "line": {
          "color": "green"
         },
         "mode": "lines",
         "name": "SuperTrend Uptrend",
         "showlegend": false,
         "type": "scatter",
         "x": [
          "2023-05-08T10:07:00",
          "2023-05-08T10:08:00"
         ],
         "y": [
          129.98189637213937,
          129.98189637213937
         ]
        },
        {
         "line": {
          "color": "green"
         },
         "mode": "lines",
         "name": "SuperTrend Uptrend",
         "showlegend": false,
         "type": "scatter",
         "x": [
          "2023-05-08T10:08:00",
          "2023-05-08T10:09:00"
         ],
         "y": [
          129.98189637213937,
          129.98189637213937
         ]
        },
        {
         "line": {
          "color": "green"
         },
         "mode": "lines",
         "name": "SuperTrend Uptrend",
         "showlegend": false,
         "type": "scatter",
         "x": [
          "2023-05-08T10:09:00",
          "2023-05-08T10:10:00"
         ],
         "y": [
          129.98189637213937,
          129.98189637213937
         ]
        },
        {
         "line": {
          "color": "green"
         },
         "mode": "lines",
         "name": "SuperTrend Uptrend",
         "showlegend": false,
         "type": "scatter",
         "x": [
          "2023-05-08T10:10:00",
          "2023-05-08T10:11:00"
         ],
         "y": [
          129.98189637213937,
          129.98189637213937
         ]
        },
        {
         "line": {
          "color": "green"
         },
         "mode": "lines",
         "name": "SuperTrend Uptrend",
         "showlegend": false,
         "type": "scatter",
         "x": [
          "2023-05-08T10:11:00",
          "2023-05-08T10:12:00"
         ],
         "y": [
          129.98189637213937,
          129.98189637213937
         ]
        },
        {
         "line": {
          "color": "green"
         },
         "mode": "lines",
         "name": "SuperTrend Uptrend",
         "showlegend": false,
         "type": "scatter",
         "x": [
          "2023-05-08T10:12:00",
          "2023-05-08T10:13:00"
         ],
         "y": [
          129.98189637213937,
          129.98189637213937
         ]
        },
        {
         "line": {
          "color": "green"
         },
         "mode": "lines",
         "name": "SuperTrend Uptrend",
         "showlegend": false,
         "type": "scatter",
         "x": [
          "2023-05-08T10:13:00",
          "2023-05-08T10:14:00"
         ],
         "y": [
          129.98189637213937,
          129.98189637213937
         ]
        },
        {
         "line": {
          "color": "green"
         },
         "mode": "lines",
         "name": "SuperTrend Uptrend",
         "showlegend": false,
         "type": "scatter",
         "x": [
          "2023-05-08T10:14:00",
          "2023-05-08T10:15:00"
         ],
         "y": [
          129.98189637213937,
          129.98189637213937
         ]
        },
        {
         "line": {
          "color": "green"
         },
         "mode": "lines",
         "name": "SuperTrend Uptrend",
         "showlegend": false,
         "type": "scatter",
         "x": [
          "2023-05-08T10:15:00",
          "2023-05-08T10:16:00"
         ],
         "y": [
          129.98189637213937,
          129.98189637213937
         ]
        },
        {
         "line": {
          "color": "green"
         },
         "mode": "lines",
         "name": "SuperTrend Uptrend",
         "showlegend": false,
         "type": "scatter",
         "x": [
          "2023-05-08T10:16:00",
          "2023-05-08T10:17:00"
         ],
         "y": [
          129.98189637213937,
          129.98189637213937
         ]
        },
        {
         "line": {
          "color": "green"
         },
         "mode": "lines",
         "name": "SuperTrend Uptrend",
         "showlegend": false,
         "type": "scatter",
         "x": [
          "2023-05-08T10:17:00",
          "2023-05-08T10:18:00"
         ],
         "y": [
          129.98189637213937,
          129.98189637213937
         ]
        },
        {
         "line": {
          "color": "green"
         },
         "mode": "lines",
         "name": "SuperTrend Uptrend",
         "showlegend": false,
         "type": "scatter",
         "x": [
          "2023-05-08T10:18:00",
          "2023-05-08T10:19:00"
         ],
         "y": [
          129.98189637213937,
          129.98189637213937
         ]
        },
        {
         "line": {
          "color": "green"
         },
         "mode": "lines",
         "name": "SuperTrend Uptrend",
         "showlegend": false,
         "type": "scatter",
         "x": [
          "2023-05-08T10:19:00",
          "2023-05-08T10:20:00"
         ],
         "y": [
          129.98189637213937,
          129.98189637213937
         ]
        },
        {
         "line": {
          "color": "green"
         },
         "mode": "lines",
         "name": "SuperTrend Uptrend",
         "showlegend": false,
         "type": "scatter",
         "x": [
          "2023-05-08T10:20:00",
          "2023-05-08T10:21:00"
         ],
         "y": [
          129.98189637213937,
          129.98189637213937
         ]
        },
        {
         "line": {
          "color": "green"
         },
         "mode": "lines",
         "name": "SuperTrend Uptrend",
         "showlegend": false,
         "type": "scatter",
         "x": [
          "2023-05-08T10:21:00",
          "2023-05-08T10:22:00"
         ],
         "y": [
          129.98189637213937,
          129.98189637213937
         ]
        },
        {
         "line": {
          "color": "green"
         },
         "mode": "lines",
         "name": "SuperTrend Uptrend",
         "showlegend": false,
         "type": "scatter",
         "x": [
          "2023-05-08T10:22:00",
          "2023-05-08T10:23:00"
         ],
         "y": [
          129.98189637213937,
          129.98189637213937
         ]
        },
        {
         "line": {
          "color": "green"
         },
         "mode": "lines",
         "name": "SuperTrend Uptrend",
         "showlegend": false,
         "type": "scatter",
         "x": [
          "2023-05-08T10:23:00",
          "2023-05-08T10:24:00"
         ],
         "y": [
          129.98189637213937,
          129.98189637213937
         ]
        },
        {
         "line": {
          "color": "green"
         },
         "mode": "lines",
         "name": "SuperTrend Uptrend",
         "showlegend": false,
         "type": "scatter",
         "x": [
          "2023-05-08T10:24:00",
          "2023-05-08T10:25:00"
         ],
         "y": [
          129.98189637213937,
          129.98189637213937
         ]
        },
        {
         "line": {
          "color": "green"
         },
         "mode": "lines",
         "name": "SuperTrend Uptrend",
         "showlegend": false,
         "type": "scatter",
         "x": [
          "2023-05-08T10:25:00",
          "2023-05-08T10:26:00"
         ],
         "y": [
          129.98189637213937,
          129.98189637213937
         ]
        },
        {
         "line": {
          "color": "green"
         },
         "mode": "lines",
         "name": "SuperTrend Uptrend",
         "showlegend": false,
         "type": "scatter",
         "x": [
          "2023-05-08T10:26:00",
          "2023-05-08T10:27:00"
         ],
         "y": [
          129.98189637213937,
          129.98189637213937
         ]
        },
        {
         "line": {
          "color": "green"
         },
         "mode": "lines",
         "name": "SuperTrend Uptrend",
         "showlegend": false,
         "type": "scatter",
         "x": [
          "2023-05-08T10:27:00",
          "2023-05-08T10:28:00"
         ],
         "y": [
          129.98189637213937,
          129.98189637213937
         ]
        },
        {
         "line": {
          "color": "green"
         },
         "mode": "lines",
         "name": "SuperTrend Uptrend",
         "showlegend": false,
         "type": "scatter",
         "x": [
          "2023-05-08T10:28:00",
          "2023-05-08T10:29:00"
         ],
         "y": [
          129.98189637213937,
          129.98189637213937
         ]
        },
        {
         "line": {
          "color": "green"
         },
         "mode": "lines",
         "name": "SuperTrend Uptrend",
         "showlegend": false,
         "type": "scatter",
         "x": [
          "2023-05-08T10:29:00",
          "2023-05-08T10:30:00"
         ],
         "y": [
          129.98189637213937,
          129.98189637213937
         ]
        },
        {
         "line": {
          "color": "green"
         },
         "mode": "lines",
         "name": "SuperTrend Uptrend",
         "showlegend": false,
         "type": "scatter",
         "x": [
          "2023-05-08T10:30:00",
          "2023-05-08T10:31:00"
         ],
         "y": [
          129.98189637213937,
          129.98189637213937
         ]
        },
        {
         "line": {
          "color": "green"
         },
         "mode": "lines",
         "name": "SuperTrend Uptrend",
         "showlegend": false,
         "type": "scatter",
         "x": [
          "2023-05-08T10:31:00",
          "2023-05-08T10:32:00"
         ],
         "y": [
          129.98189637213937,
          129.98189637213937
         ]
        },
        {
         "line": {
          "color": "green"
         },
         "mode": "lines",
         "name": "SuperTrend Uptrend",
         "showlegend": false,
         "type": "scatter",
         "x": [
          "2023-05-08T10:32:00",
          "2023-05-08T10:33:00"
         ],
         "y": [
          129.98189637213937,
          129.98189637213937
         ]
        },
        {
         "line": {
          "color": "green"
         },
         "mode": "lines",
         "name": "SuperTrend Uptrend",
         "showlegend": false,
         "type": "scatter",
         "x": [
          "2023-05-08T10:33:00",
          "2023-05-08T10:34:00"
         ],
         "y": [
          129.98189637213937,
          129.98189637213937
         ]
        },
        {
         "line": {
          "color": "green"
         },
         "mode": "lines",
         "name": "SuperTrend Uptrend",
         "showlegend": false,
         "type": "scatter",
         "x": [
          "2023-05-08T10:34:00",
          "2023-05-08T10:35:00"
         ],
         "y": [
          129.98189637213937,
          129.98189637213937
         ]
        },
        {
         "line": {
          "color": "green"
         },
         "mode": "lines",
         "name": "SuperTrend Uptrend",
         "showlegend": false,
         "type": "scatter",
         "x": [
          "2023-05-08T10:35:00",
          "2023-05-08T10:36:00"
         ],
         "y": [
          129.98189637213937,
          129.98189637213937
         ]
        },
        {
         "line": {
          "color": "green"
         },
         "mode": "lines",
         "name": "SuperTrend Uptrend",
         "showlegend": false,
         "type": "scatter",
         "x": [
          "2023-05-08T10:36:00",
          "2023-05-08T10:37:00"
         ],
         "y": [
          129.98189637213937,
          129.98189637213937
         ]
        },
        {
         "line": {
          "color": "green"
         },
         "mode": "lines",
         "name": "SuperTrend Uptrend",
         "showlegend": false,
         "type": "scatter",
         "x": [
          "2023-05-08T10:37:00",
          "2023-05-08T10:38:00"
         ],
         "y": [
          129.98189637213937,
          129.98189637213937
         ]
        },
        {
         "line": {
          "color": "green"
         },
         "mode": "lines",
         "name": "SuperTrend Uptrend",
         "showlegend": false,
         "type": "scatter",
         "x": [
          "2023-05-08T10:38:00",
          "2023-05-08T10:39:00"
         ],
         "y": [
          129.98189637213937,
          129.98189637213937
         ]
        },
        {
         "line": {
          "color": "green"
         },
         "mode": "lines",
         "name": "SuperTrend Uptrend",
         "showlegend": false,
         "type": "scatter",
         "x": [
          "2023-05-08T10:39:00",
          "2023-05-08T10:40:00"
         ],
         "y": [
          129.98189637213937,
          129.98189637213937
         ]
        },
        {
         "line": {
          "color": "green"
         },
         "mode": "lines",
         "name": "SuperTrend Uptrend",
         "showlegend": false,
         "type": "scatter",
         "x": [
          "2023-05-08T10:40:00",
          "2023-05-08T10:41:00"
         ],
         "y": [
          129.98189637213937,
          129.98189637213937
         ]
        },
        {
         "line": {
          "color": "green"
         },
         "mode": "lines",
         "name": "SuperTrend Uptrend",
         "showlegend": false,
         "type": "scatter",
         "x": [
          "2023-05-08T10:41:00",
          "2023-05-08T10:42:00"
         ],
         "y": [
          129.98189637213937,
          129.98189637213937
         ]
        },
        {
         "line": {
          "color": "green"
         },
         "mode": "lines",
         "name": "SuperTrend Uptrend",
         "showlegend": false,
         "type": "scatter",
         "x": [
          "2023-05-08T10:42:00",
          "2023-05-08T10:43:00"
         ],
         "y": [
          129.98189637213937,
          129.98189637213937
         ]
        },
        {
         "line": {
          "color": "green"
         },
         "mode": "lines",
         "name": "SuperTrend Uptrend",
         "showlegend": false,
         "type": "scatter",
         "x": [
          "2023-05-08T10:43:00",
          "2023-05-08T10:44:00"
         ],
         "y": [
          129.98189637213937,
          129.98189637213937
         ]
        },
        {
         "line": {
          "color": "green"
         },
         "mode": "lines",
         "name": "SuperTrend Uptrend",
         "showlegend": false,
         "type": "scatter",
         "x": [
          "2023-05-08T10:44:00",
          "2023-05-08T10:45:00"
         ],
         "y": [
          129.98189637213937,
          129.98189637213937
         ]
        },
        {
         "line": {
          "color": "green"
         },
         "mode": "lines",
         "name": "SuperTrend Uptrend",
         "showlegend": false,
         "type": "scatter",
         "x": [
          "2023-05-08T10:45:00",
          "2023-05-08T10:46:00"
         ],
         "y": [
          129.98189637213937,
          129.98189637213937
         ]
        },
        {
         "line": {
          "color": "green"
         },
         "mode": "lines",
         "name": "SuperTrend Uptrend",
         "showlegend": false,
         "type": "scatter",
         "x": [
          "2023-05-08T10:46:00",
          "2023-05-08T10:47:00"
         ],
         "y": [
          129.98189637213937,
          129.98189637213937
         ]
        },
        {
         "line": {
          "color": "green"
         },
         "mode": "lines",
         "name": "SuperTrend Uptrend",
         "showlegend": false,
         "type": "scatter",
         "x": [
          "2023-05-08T10:47:00",
          "2023-05-08T10:48:00"
         ],
         "y": [
          129.98189637213937,
          129.98189637213937
         ]
        },
        {
         "line": {
          "color": "green"
         },
         "mode": "lines",
         "name": "SuperTrend Uptrend",
         "showlegend": false,
         "type": "scatter",
         "x": [
          "2023-05-08T10:48:00",
          "2023-05-08T10:49:00"
         ],
         "y": [
          129.98189637213937,
          129.98189637213937
         ]
        },
        {
         "line": {
          "color": "green"
         },
         "mode": "lines",
         "name": "SuperTrend Uptrend",
         "showlegend": false,
         "type": "scatter",
         "x": [
          "2023-05-08T10:49:00",
          "2023-05-08T10:50:00"
         ],
         "y": [
          129.98189637213937,
          129.98189637213937
         ]
        },
        {
         "line": {
          "color": "green"
         },
         "mode": "lines",
         "name": "SuperTrend Uptrend",
         "showlegend": false,
         "type": "scatter",
         "x": [
          "2023-05-08T10:50:00",
          "2023-05-08T10:51:00"
         ],
         "y": [
          129.98189637213937,
          129.98189637213937
         ]
        },
        {
         "line": {
          "color": "green"
         },
         "mode": "lines",
         "name": "SuperTrend Uptrend",
         "showlegend": false,
         "type": "scatter",
         "x": [
          "2023-05-08T10:51:00",
          "2023-05-08T10:52:00"
         ],
         "y": [
          129.98189637213937,
          129.98189637213937
         ]
        },
        {
         "line": {
          "color": "green"
         },
         "mode": "lines",
         "name": "SuperTrend Uptrend",
         "showlegend": false,
         "type": "scatter",
         "x": [
          "2023-05-08T10:52:00",
          "2023-05-08T10:53:00"
         ],
         "y": [
          129.98189637213937,
          129.98189637213937
         ]
        },
        {
         "line": {
          "color": "green"
         },
         "mode": "lines",
         "name": "SuperTrend Uptrend",
         "showlegend": false,
         "type": "scatter",
         "x": [
          "2023-05-08T10:53:00",
          "2023-05-08T10:54:00"
         ],
         "y": [
          129.98189637213937,
          129.98189637213937
         ]
        },
        {
         "line": {
          "color": "green"
         },
         "mode": "lines",
         "name": "SuperTrend Uptrend",
         "showlegend": false,
         "type": "scatter",
         "x": [
          "2023-05-08T10:54:00",
          "2023-05-08T10:55:00"
         ],
         "y": [
          129.98189637213937,
          129.98189637213937
         ]
        },
        {
         "line": {
          "color": "green"
         },
         "mode": "lines",
         "name": "SuperTrend Uptrend",
         "showlegend": false,
         "type": "scatter",
         "x": [
          "2023-05-08T10:55:00",
          "2023-05-08T10:56:00"
         ],
         "y": [
          129.98189637213937,
          129.98189637213937
         ]
        },
        {
         "line": {
          "color": "green"
         },
         "mode": "lines",
         "name": "SuperTrend Uptrend",
         "showlegend": false,
         "type": "scatter",
         "x": [
          "2023-05-08T10:56:00",
          "2023-05-08T10:57:00"
         ],
         "y": [
          129.98189637213937,
          129.98189637213937
         ]
        },
        {
         "line": {
          "color": "green"
         },
         "mode": "lines",
         "name": "SuperTrend Uptrend",
         "showlegend": false,
         "type": "scatter",
         "x": [
          "2023-05-08T10:57:00",
          "2023-05-08T10:58:00"
         ],
         "y": [
          129.98189637213937,
          129.98189637213937
         ]
        },
        {
         "line": {
          "color": "green"
         },
         "mode": "lines",
         "name": "SuperTrend Uptrend",
         "showlegend": false,
         "type": "scatter",
         "x": [
          "2023-05-08T10:58:00",
          "2023-05-08T10:59:00"
         ],
         "y": [
          129.98189637213937,
          129.98189637213937
         ]
        },
        {
         "line": {
          "color": "green"
         },
         "mode": "lines",
         "name": "SuperTrend Uptrend",
         "showlegend": false,
         "type": "scatter",
         "x": [
          "2023-05-08T10:59:00",
          "2023-05-08T11:00:00"
         ],
         "y": [
          129.98189637213937,
          129.98189637213937
         ]
        },
        {
         "line": {
          "color": "green"
         },
         "mode": "lines",
         "name": "SuperTrend Uptrend",
         "showlegend": false,
         "type": "scatter",
         "x": [
          "2023-05-08T11:00:00",
          "2023-05-08T11:01:00"
         ],
         "y": [
          129.98189637213937,
          129.98189637213937
         ]
        },
        {
         "line": {
          "color": "green"
         },
         "mode": "lines",
         "name": "SuperTrend Uptrend",
         "showlegend": false,
         "type": "scatter",
         "x": [
          "2023-05-08T11:01:00",
          "2023-05-08T11:02:00"
         ],
         "y": [
          129.98189637213937,
          129.98189637213937
         ]
        },
        {
         "line": {
          "color": "green"
         },
         "mode": "lines",
         "name": "SuperTrend Uptrend",
         "showlegend": false,
         "type": "scatter",
         "x": [
          "2023-05-08T11:02:00",
          "2023-05-08T11:03:00"
         ],
         "y": [
          129.98189637213937,
          129.98189637213937
         ]
        },
        {
         "line": {
          "color": "green"
         },
         "mode": "lines",
         "name": "SuperTrend Uptrend",
         "showlegend": false,
         "type": "scatter",
         "x": [
          "2023-05-08T11:03:00",
          "2023-05-08T11:04:00"
         ],
         "y": [
          129.98189637213937,
          129.98189637213937
         ]
        },
        {
         "line": {
          "color": "green"
         },
         "mode": "lines",
         "name": "SuperTrend Uptrend",
         "showlegend": false,
         "type": "scatter",
         "x": [
          "2023-05-08T11:04:00",
          "2023-05-08T11:05:00"
         ],
         "y": [
          129.98189637213937,
          129.98189637213937
         ]
        },
        {
         "line": {
          "color": "green"
         },
         "mode": "lines",
         "name": "SuperTrend Uptrend",
         "showlegend": false,
         "type": "scatter",
         "x": [
          "2023-05-08T11:05:00",
          "2023-05-08T11:06:00"
         ],
         "y": [
          129.98189637213937,
          129.98189637213937
         ]
        },
        {
         "line": {
          "color": "green"
         },
         "mode": "lines",
         "name": "SuperTrend Uptrend",
         "showlegend": false,
         "type": "scatter",
         "x": [
          "2023-05-08T11:06:00",
          "2023-05-08T11:07:00"
         ],
         "y": [
          129.98189637213937,
          129.98189637213937
         ]
        },
        {
         "line": {
          "color": "green"
         },
         "mode": "lines",
         "name": "SuperTrend Uptrend",
         "showlegend": false,
         "type": "scatter",
         "x": [
          "2023-05-08T11:07:00",
          "2023-05-08T11:08:00"
         ],
         "y": [
          129.98189637213937,
          129.98189637213937
         ]
        },
        {
         "line": {
          "color": "green"
         },
         "mode": "lines",
         "name": "SuperTrend Uptrend",
         "showlegend": false,
         "type": "scatter",
         "x": [
          "2023-05-08T11:08:00",
          "2023-05-08T11:09:00"
         ],
         "y": [
          129.98189637213937,
          129.98189637213937
         ]
        },
        {
         "line": {
          "color": "green"
         },
         "mode": "lines",
         "name": "SuperTrend Uptrend",
         "showlegend": false,
         "type": "scatter",
         "x": [
          "2023-05-08T11:09:00",
          "2023-05-08T11:10:00"
         ],
         "y": [
          129.98189637213937,
          129.98189637213937
         ]
        },
        {
         "line": {
          "color": "green"
         },
         "mode": "lines",
         "name": "SuperTrend Uptrend",
         "showlegend": false,
         "type": "scatter",
         "x": [
          "2023-05-08T11:10:00",
          "2023-05-08T11:11:00"
         ],
         "y": [
          129.98189637213937,
          129.98189637213937
         ]
        },
        {
         "line": {
          "color": "green"
         },
         "mode": "lines",
         "name": "SuperTrend Uptrend",
         "showlegend": false,
         "type": "scatter",
         "x": [
          "2023-05-08T11:11:00",
          "2023-05-08T11:12:00"
         ],
         "y": [
          129.98189637213937,
          129.98189637213937
         ]
        },
        {
         "line": {
          "color": "green"
         },
         "mode": "lines",
         "name": "SuperTrend Uptrend",
         "showlegend": false,
         "type": "scatter",
         "x": [
          "2023-05-08T11:12:00",
          "2023-05-08T11:13:00"
         ],
         "y": [
          129.98189637213937,
          129.98189637213937
         ]
        },
        {
         "line": {
          "color": "green"
         },
         "mode": "lines",
         "name": "SuperTrend Uptrend",
         "showlegend": false,
         "type": "scatter",
         "x": [
          "2023-05-08T11:13:00",
          "2023-05-08T11:14:00"
         ],
         "y": [
          129.98189637213937,
          129.98189637213937
         ]
        },
        {
         "line": {
          "color": "green"
         },
         "mode": "lines",
         "name": "SuperTrend Uptrend",
         "showlegend": false,
         "type": "scatter",
         "x": [
          "2023-05-08T11:14:00",
          "2023-05-08T11:15:00"
         ],
         "y": [
          129.98189637213937,
          129.98189637213937
         ]
        },
        {
         "line": {
          "color": "green"
         },
         "mode": "lines",
         "name": "SuperTrend Uptrend",
         "showlegend": false,
         "type": "scatter",
         "x": [
          "2023-05-08T11:15:00",
          "2023-05-08T11:16:00"
         ],
         "y": [
          129.98189637213937,
          129.98189637213937
         ]
        },
        {
         "line": {
          "color": "green"
         },
         "mode": "lines",
         "name": "SuperTrend Uptrend",
         "showlegend": false,
         "type": "scatter",
         "x": [
          "2023-05-08T11:16:00",
          "2023-05-08T11:17:00"
         ],
         "y": [
          129.98189637213937,
          129.98189637213937
         ]
        },
        {
         "line": {
          "color": "green"
         },
         "mode": "lines",
         "name": "SuperTrend Uptrend",
         "showlegend": false,
         "type": "scatter",
         "x": [
          "2023-05-08T11:17:00",
          "2023-05-08T11:18:00"
         ],
         "y": [
          129.98189637213937,
          129.98189637213937
         ]
        },
        {
         "line": {
          "color": "green"
         },
         "mode": "lines",
         "name": "SuperTrend Uptrend",
         "showlegend": false,
         "type": "scatter",
         "x": [
          "2023-05-08T11:18:00",
          "2023-05-08T11:19:00"
         ],
         "y": [
          129.98189637213937,
          129.98189637213937
         ]
        },
        {
         "line": {
          "color": "green"
         },
         "mode": "lines",
         "name": "SuperTrend Uptrend",
         "showlegend": false,
         "type": "scatter",
         "x": [
          "2023-05-08T11:19:00",
          "2023-05-08T11:20:00"
         ],
         "y": [
          129.98189637213937,
          129.98189637213937
         ]
        },
        {
         "line": {
          "color": "green"
         },
         "mode": "lines",
         "name": "SuperTrend Uptrend",
         "showlegend": false,
         "type": "scatter",
         "x": [
          "2023-05-08T11:20:00",
          "2023-05-08T11:21:00"
         ],
         "y": [
          129.98189637213937,
          129.98189637213937
         ]
        },
        {
         "line": {
          "color": "green"
         },
         "mode": "lines",
         "name": "SuperTrend Uptrend",
         "showlegend": false,
         "type": "scatter",
         "x": [
          "2023-05-08T11:21:00",
          "2023-05-08T11:22:00"
         ],
         "y": [
          129.98189637213937,
          129.98189637213937
         ]
        },
        {
         "line": {
          "color": "green"
         },
         "mode": "lines",
         "name": "SuperTrend Uptrend",
         "showlegend": false,
         "type": "scatter",
         "x": [
          "2023-05-08T11:22:00",
          "2023-05-08T11:23:00"
         ],
         "y": [
          129.98189637213937,
          129.98189637213937
         ]
        },
        {
         "line": {
          "color": "green"
         },
         "mode": "lines",
         "name": "SuperTrend Uptrend",
         "showlegend": false,
         "type": "scatter",
         "x": [
          "2023-05-08T11:23:00",
          "2023-05-08T11:24:00"
         ],
         "y": [
          129.98189637213937,
          129.98189637213937
         ]
        },
        {
         "line": {
          "color": "green"
         },
         "mode": "lines",
         "name": "SuperTrend Uptrend",
         "showlegend": false,
         "type": "scatter",
         "x": [
          "2023-05-08T11:24:00",
          "2023-05-08T11:25:00"
         ],
         "y": [
          129.98189637213937,
          129.98189637213937
         ]
        },
        {
         "line": {
          "color": "green"
         },
         "mode": "lines",
         "name": "SuperTrend Uptrend",
         "showlegend": false,
         "type": "scatter",
         "x": [
          "2023-05-08T11:25:00",
          "2023-05-08T11:26:00"
         ],
         "y": [
          129.98189637213937,
          129.98189637213937
         ]
        },
        {
         "line": {
          "color": "green"
         },
         "mode": "lines",
         "name": "SuperTrend Uptrend",
         "showlegend": false,
         "type": "scatter",
         "x": [
          "2023-05-08T11:26:00",
          "2023-05-08T11:27:00"
         ],
         "y": [
          129.98189637213937,
          129.98189637213937
         ]
        },
        {
         "line": {
          "color": "green"
         },
         "mode": "lines",
         "name": "SuperTrend Uptrend",
         "showlegend": false,
         "type": "scatter",
         "x": [
          "2023-05-08T11:27:00",
          "2023-05-08T11:28:00"
         ],
         "y": [
          129.98189637213937,
          129.98189637213937
         ]
        },
        {
         "line": {
          "color": "green"
         },
         "mode": "lines",
         "name": "SuperTrend Uptrend",
         "showlegend": false,
         "type": "scatter",
         "x": [
          "2023-05-08T11:28:00",
          "2023-05-08T11:29:00"
         ],
         "y": [
          129.98189637213937,
          129.98189637213937
         ]
        },
        {
         "line": {
          "color": "green"
         },
         "mode": "lines",
         "name": "SuperTrend Uptrend",
         "showlegend": false,
         "type": "scatter",
         "x": [
          "2023-05-08T11:29:00",
          "2023-05-08T11:30:00"
         ],
         "y": [
          129.98189637213937,
          129.98189637213937
         ]
        },
        {
         "line": {
          "color": "green"
         },
         "mode": "lines",
         "name": "SuperTrend Uptrend",
         "showlegend": false,
         "type": "scatter",
         "x": [
          "2023-05-08T11:30:00",
          "2023-05-08T11:31:00"
         ],
         "y": [
          129.98189637213937,
          129.98189637213937
         ]
        },
        {
         "line": {
          "color": "green"
         },
         "mode": "lines",
         "name": "SuperTrend Uptrend",
         "showlegend": false,
         "type": "scatter",
         "x": [
          "2023-05-08T11:31:00",
          "2023-05-08T11:32:00"
         ],
         "y": [
          129.98189637213937,
          129.98189637213937
         ]
        },
        {
         "line": {
          "color": "green"
         },
         "mode": "lines",
         "name": "SuperTrend Uptrend",
         "showlegend": false,
         "type": "scatter",
         "x": [
          "2023-05-08T11:32:00",
          "2023-05-08T11:33:00"
         ],
         "y": [
          129.98189637213937,
          129.98189637213937
         ]
        },
        {
         "line": {
          "color": "green"
         },
         "mode": "lines",
         "name": "SuperTrend Uptrend",
         "showlegend": false,
         "type": "scatter",
         "x": [
          "2023-05-08T11:33:00",
          "2023-05-08T11:34:00"
         ],
         "y": [
          129.98189637213937,
          129.98189637213937
         ]
        },
        {
         "line": {
          "color": "green"
         },
         "mode": "lines",
         "name": "SuperTrend Uptrend",
         "showlegend": false,
         "type": "scatter",
         "x": [
          "2023-05-08T11:34:00",
          "2023-05-08T11:35:00"
         ],
         "y": [
          129.98189637213937,
          129.98189637213937
         ]
        },
        {
         "line": {
          "color": "green"
         },
         "mode": "lines",
         "name": "SuperTrend Uptrend",
         "showlegend": false,
         "type": "scatter",
         "x": [
          "2023-05-08T11:35:00",
          "2023-05-08T11:36:00"
         ],
         "y": [
          129.98189637213937,
          129.98189637213937
         ]
        },
        {
         "line": {
          "color": "green"
         },
         "mode": "lines",
         "name": "SuperTrend Uptrend",
         "showlegend": false,
         "type": "scatter",
         "x": [
          "2023-05-08T11:36:00",
          "2023-05-08T11:37:00"
         ],
         "y": [
          129.98189637213937,
          129.98189637213937
         ]
        },
        {
         "line": {
          "color": "green"
         },
         "mode": "lines",
         "name": "SuperTrend Uptrend",
         "showlegend": false,
         "type": "scatter",
         "x": [
          "2023-05-08T11:37:00",
          "2023-05-08T11:38:00"
         ],
         "y": [
          129.98189637213937,
          129.98189637213937
         ]
        },
        {
         "line": {
          "color": "green"
         },
         "mode": "lines",
         "name": "SuperTrend Uptrend",
         "showlegend": false,
         "type": "scatter",
         "x": [
          "2023-05-08T11:38:00",
          "2023-05-08T11:39:00"
         ],
         "y": [
          129.98189637213937,
          129.98189637213937
         ]
        },
        {
         "line": {
          "color": "green"
         },
         "mode": "lines",
         "name": "SuperTrend Uptrend",
         "showlegend": false,
         "type": "scatter",
         "x": [
          "2023-05-08T11:39:00",
          "2023-05-08T11:40:00"
         ],
         "y": [
          129.98189637213937,
          129.98189637213937
         ]
        },
        {
         "line": {
          "color": "green"
         },
         "mode": "lines",
         "name": "SuperTrend Uptrend",
         "showlegend": false,
         "type": "scatter",
         "x": [
          "2023-05-08T11:40:00",
          "2023-05-08T11:41:00"
         ],
         "y": [
          129.98189637213937,
          129.98189637213937
         ]
        },
        {
         "line": {
          "color": "green"
         },
         "mode": "lines",
         "name": "SuperTrend Uptrend",
         "showlegend": false,
         "type": "scatter",
         "x": [
          "2023-05-08T11:41:00",
          "2023-05-08T11:42:00"
         ],
         "y": [
          129.98189637213937,
          129.98189637213937
         ]
        },
        {
         "line": {
          "color": "green"
         },
         "mode": "lines",
         "name": "SuperTrend Uptrend",
         "showlegend": false,
         "type": "scatter",
         "x": [
          "2023-05-08T11:42:00",
          "2023-05-08T11:43:00"
         ],
         "y": [
          129.98189637213937,
          129.98189637213937
         ]
        },
        {
         "line": {
          "color": "green"
         },
         "mode": "lines",
         "name": "SuperTrend Uptrend",
         "showlegend": false,
         "type": "scatter",
         "x": [
          "2023-05-08T11:43:00",
          "2023-05-08T11:44:00"
         ],
         "y": [
          129.98189637213937,
          129.98189637213937
         ]
        },
        {
         "line": {
          "color": "green"
         },
         "mode": "lines",
         "name": "SuperTrend Uptrend",
         "showlegend": false,
         "type": "scatter",
         "x": [
          "2023-05-08T11:44:00",
          "2023-05-08T11:45:00"
         ],
         "y": [
          129.98189637213937,
          129.98189637213937
         ]
        },
        {
         "line": {
          "color": "green"
         },
         "mode": "lines",
         "name": "SuperTrend Uptrend",
         "showlegend": false,
         "type": "scatter",
         "x": [
          "2023-05-08T11:45:00",
          "2023-05-08T11:46:00"
         ],
         "y": [
          129.98189637213937,
          129.98189637213937
         ]
        },
        {
         "line": {
          "color": "green"
         },
         "mode": "lines",
         "name": "SuperTrend Uptrend",
         "showlegend": false,
         "type": "scatter",
         "x": [
          "2023-05-08T11:46:00",
          "2023-05-08T11:47:00"
         ],
         "y": [
          129.98189637213937,
          129.98189637213937
         ]
        },
        {
         "line": {
          "color": "green"
         },
         "mode": "lines",
         "name": "SuperTrend Uptrend",
         "showlegend": false,
         "type": "scatter",
         "x": [
          "2023-05-08T11:47:00",
          "2023-05-08T11:48:00"
         ],
         "y": [
          129.98189637213937,
          129.98189637213937
         ]
        },
        {
         "line": {
          "color": "green"
         },
         "mode": "lines",
         "name": "SuperTrend Uptrend",
         "showlegend": false,
         "type": "scatter",
         "x": [
          "2023-05-08T11:48:00",
          "2023-05-08T11:49:00"
         ],
         "y": [
          129.98189637213937,
          129.98189637213937
         ]
        },
        {
         "line": {
          "color": "green"
         },
         "mode": "lines",
         "name": "SuperTrend Uptrend",
         "showlegend": false,
         "type": "scatter",
         "x": [
          "2023-05-08T11:49:00",
          "2023-05-08T11:50:00"
         ],
         "y": [
          129.98189637213937,
          129.98189637213937
         ]
        },
        {
         "line": {
          "color": "green"
         },
         "mode": "lines",
         "name": "SuperTrend Uptrend",
         "showlegend": false,
         "type": "scatter",
         "x": [
          "2023-05-08T11:50:00",
          "2023-05-08T11:51:00"
         ],
         "y": [
          129.98189637213937,
          129.98189637213937
         ]
        },
        {
         "line": {
          "color": "green"
         },
         "mode": "lines",
         "name": "SuperTrend Uptrend",
         "showlegend": false,
         "type": "scatter",
         "x": [
          "2023-05-08T11:51:00",
          "2023-05-08T11:52:00"
         ],
         "y": [
          129.98189637213937,
          129.98189637213937
         ]
        },
        {
         "line": {
          "color": "green"
         },
         "mode": "lines",
         "name": "SuperTrend Uptrend",
         "showlegend": false,
         "type": "scatter",
         "x": [
          "2023-05-08T11:52:00",
          "2023-05-08T11:53:00"
         ],
         "y": [
          129.98189637213937,
          129.98189637213937
         ]
        },
        {
         "line": {
          "color": "green"
         },
         "mode": "lines",
         "name": "SuperTrend Uptrend",
         "showlegend": false,
         "type": "scatter",
         "x": [
          "2023-05-08T11:53:00",
          "2023-05-08T11:54:00"
         ],
         "y": [
          129.98189637213937,
          129.98189637213937
         ]
        },
        {
         "line": {
          "color": "green"
         },
         "mode": "lines",
         "name": "SuperTrend Uptrend",
         "showlegend": false,
         "type": "scatter",
         "x": [
          "2023-05-08T11:54:00",
          "2023-05-08T11:55:00"
         ],
         "y": [
          129.98189637213937,
          129.98189637213937
         ]
        },
        {
         "line": {
          "color": "green"
         },
         "mode": "lines",
         "name": "SuperTrend Uptrend",
         "showlegend": false,
         "type": "scatter",
         "x": [
          "2023-05-08T11:55:00",
          "2023-05-08T11:56:00"
         ],
         "y": [
          129.98189637213937,
          129.98189637213937
         ]
        },
        {
         "line": {
          "color": "green"
         },
         "mode": "lines",
         "name": "SuperTrend Uptrend",
         "showlegend": false,
         "type": "scatter",
         "x": [
          "2023-05-08T11:56:00",
          "2023-05-08T11:57:00"
         ],
         "y": [
          129.98189637213937,
          129.98189637213937
         ]
        },
        {
         "line": {
          "color": "green"
         },
         "mode": "lines",
         "name": "SuperTrend Uptrend",
         "showlegend": false,
         "type": "scatter",
         "x": [
          "2023-05-08T11:57:00",
          "2023-05-08T11:58:00"
         ],
         "y": [
          129.98189637213937,
          129.98189637213937
         ]
        },
        {
         "line": {
          "color": "green"
         },
         "mode": "lines",
         "name": "SuperTrend Uptrend",
         "showlegend": false,
         "type": "scatter",
         "x": [
          "2023-05-08T11:58:00",
          "2023-05-08T11:59:00"
         ],
         "y": [
          129.98189637213937,
          129.98189637213937
         ]
        },
        {
         "line": {
          "color": "green"
         },
         "mode": "lines",
         "name": "SuperTrend Uptrend",
         "showlegend": false,
         "type": "scatter",
         "x": [
          "2023-05-08T11:59:00",
          "2023-05-08T12:00:00"
         ],
         "y": [
          129.98189637213937,
          129.98189637213937
         ]
        },
        {
         "line": {
          "color": "green"
         },
         "mode": "lines",
         "name": "SuperTrend Uptrend",
         "showlegend": false,
         "type": "scatter",
         "x": [
          "2023-05-08T12:00:00",
          "2023-05-08T12:01:00"
         ],
         "y": [
          129.98189637213937,
          129.98189637213937
         ]
        },
        {
         "line": {
          "color": "green"
         },
         "mode": "lines",
         "name": "SuperTrend Uptrend",
         "showlegend": false,
         "type": "scatter",
         "x": [
          "2023-05-08T12:01:00",
          "2023-05-08T12:02:00"
         ],
         "y": [
          129.98189637213937,
          129.98189637213937
         ]
        },
        {
         "line": {
          "color": "green"
         },
         "mode": "lines",
         "name": "SuperTrend Uptrend",
         "showlegend": false,
         "type": "scatter",
         "x": [
          "2023-05-08T12:02:00",
          "2023-05-08T12:03:00"
         ],
         "y": [
          129.98189637213937,
          129.98189637213937
         ]
        },
        {
         "line": {
          "color": "green"
         },
         "mode": "lines",
         "name": "SuperTrend Uptrend",
         "showlegend": false,
         "type": "scatter",
         "x": [
          "2023-05-08T12:03:00",
          "2023-05-08T12:04:00"
         ],
         "y": [
          129.98189637213937,
          129.98189637213937
         ]
        },
        {
         "line": {
          "color": "green"
         },
         "mode": "lines",
         "name": "SuperTrend Uptrend",
         "showlegend": false,
         "type": "scatter",
         "x": [
          "2023-05-08T12:04:00",
          "2023-05-08T12:05:00"
         ],
         "y": [
          129.98189637213937,
          129.98189637213937
         ]
        },
        {
         "line": {
          "color": "green"
         },
         "mode": "lines",
         "name": "SuperTrend Uptrend",
         "showlegend": false,
         "type": "scatter",
         "x": [
          "2023-05-08T12:05:00",
          "2023-05-08T12:06:00"
         ],
         "y": [
          129.98189637213937,
          129.98189637213937
         ]
        },
        {
         "line": {
          "color": "green"
         },
         "mode": "lines",
         "name": "SuperTrend Uptrend",
         "showlegend": false,
         "type": "scatter",
         "x": [
          "2023-05-08T12:06:00",
          "2023-05-08T12:07:00"
         ],
         "y": [
          129.98189637213937,
          129.98189637213937
         ]
        },
        {
         "line": {
          "color": "green"
         },
         "mode": "lines",
         "name": "SuperTrend Uptrend",
         "showlegend": false,
         "type": "scatter",
         "x": [
          "2023-05-08T12:07:00",
          "2023-05-08T12:08:00"
         ],
         "y": [
          129.98189637213937,
          129.98189637213937
         ]
        },
        {
         "line": {
          "color": "green"
         },
         "mode": "lines",
         "name": "SuperTrend Uptrend",
         "showlegend": false,
         "type": "scatter",
         "x": [
          "2023-05-08T12:08:00",
          "2023-05-08T12:09:00"
         ],
         "y": [
          129.98189637213937,
          129.98189637213937
         ]
        },
        {
         "line": {
          "color": "green"
         },
         "mode": "lines",
         "name": "SuperTrend Uptrend",
         "showlegend": false,
         "type": "scatter",
         "x": [
          "2023-05-08T12:09:00",
          "2023-05-08T12:10:00"
         ],
         "y": [
          129.98189637213937,
          129.98189637213937
         ]
        },
        {
         "line": {
          "color": "green"
         },
         "mode": "lines",
         "name": "SuperTrend Uptrend",
         "showlegend": false,
         "type": "scatter",
         "x": [
          "2023-05-08T12:10:00",
          "2023-05-08T12:11:00"
         ],
         "y": [
          129.98189637213937,
          129.98189637213937
         ]
        },
        {
         "line": {
          "color": "green"
         },
         "mode": "lines",
         "name": "SuperTrend Uptrend",
         "showlegend": false,
         "type": "scatter",
         "x": [
          "2023-05-08T12:11:00",
          "2023-05-08T12:12:00"
         ],
         "y": [
          129.98189637213937,
          129.98189637213937
         ]
        },
        {
         "line": {
          "color": "green"
         },
         "mode": "lines",
         "name": "SuperTrend Uptrend",
         "showlegend": false,
         "type": "scatter",
         "x": [
          "2023-05-08T12:12:00",
          "2023-05-08T12:13:00"
         ],
         "y": [
          129.98189637213937,
          129.98189637213937
         ]
        },
        {
         "line": {
          "color": "green"
         },
         "mode": "lines",
         "name": "SuperTrend Uptrend",
         "showlegend": false,
         "type": "scatter",
         "x": [
          "2023-05-08T12:13:00",
          "2023-05-08T12:14:00"
         ],
         "y": [
          129.98189637213937,
          129.98189637213937
         ]
        },
        {
         "line": {
          "color": "green"
         },
         "mode": "lines",
         "name": "SuperTrend Uptrend",
         "showlegend": false,
         "type": "scatter",
         "x": [
          "2023-05-08T12:14:00",
          "2023-05-08T12:15:00"
         ],
         "y": [
          129.98189637213937,
          129.98189637213937
         ]
        },
        {
         "line": {
          "color": "green"
         },
         "mode": "lines",
         "name": "SuperTrend Uptrend",
         "showlegend": false,
         "type": "scatter",
         "x": [
          "2023-05-08T12:15:00",
          "2023-05-08T12:16:00"
         ],
         "y": [
          129.98189637213937,
          129.98189637213937
         ]
        },
        {
         "line": {
          "color": "green"
         },
         "mode": "lines",
         "name": "SuperTrend Uptrend",
         "showlegend": false,
         "type": "scatter",
         "x": [
          "2023-05-08T12:16:00",
          "2023-05-08T12:17:00"
         ],
         "y": [
          129.98189637213937,
          129.98189637213937
         ]
        },
        {
         "line": {
          "color": "green"
         },
         "mode": "lines",
         "name": "SuperTrend Uptrend",
         "showlegend": false,
         "type": "scatter",
         "x": [
          "2023-05-08T12:17:00",
          "2023-05-08T12:18:00"
         ],
         "y": [
          129.98189637213937,
          129.98189637213937
         ]
        },
        {
         "line": {
          "color": "green"
         },
         "mode": "lines",
         "name": "SuperTrend Uptrend",
         "showlegend": false,
         "type": "scatter",
         "x": [
          "2023-05-08T12:18:00",
          "2023-05-08T12:19:00"
         ],
         "y": [
          129.98189637213937,
          129.98189637213937
         ]
        },
        {
         "line": {
          "color": "green"
         },
         "mode": "lines",
         "name": "SuperTrend Uptrend",
         "showlegend": false,
         "type": "scatter",
         "x": [
          "2023-05-08T12:19:00",
          "2023-05-08T12:20:00"
         ],
         "y": [
          129.98189637213937,
          129.98189637213937
         ]
        },
        {
         "line": {
          "color": "green"
         },
         "mode": "lines",
         "name": "SuperTrend Uptrend",
         "showlegend": false,
         "type": "scatter",
         "x": [
          "2023-05-08T12:20:00",
          "2023-05-08T12:21:00"
         ],
         "y": [
          129.98189637213937,
          129.98189637213937
         ]
        },
        {
         "line": {
          "color": "green"
         },
         "mode": "lines",
         "name": "SuperTrend Uptrend",
         "showlegend": false,
         "type": "scatter",
         "x": [
          "2023-05-08T12:21:00",
          "2023-05-08T12:22:00"
         ],
         "y": [
          129.98189637213937,
          129.98189637213937
         ]
        },
        {
         "line": {
          "color": "green"
         },
         "mode": "lines",
         "name": "SuperTrend Uptrend",
         "showlegend": false,
         "type": "scatter",
         "x": [
          "2023-05-08T12:22:00",
          "2023-05-08T12:23:00"
         ],
         "y": [
          129.98189637213937,
          129.98189637213937
         ]
        },
        {
         "line": {
          "color": "green"
         },
         "mode": "lines",
         "name": "SuperTrend Uptrend",
         "showlegend": false,
         "type": "scatter",
         "x": [
          "2023-05-08T12:23:00",
          "2023-05-08T12:24:00"
         ],
         "y": [
          129.98189637213937,
          129.98189637213937
         ]
        },
        {
         "line": {
          "color": "green"
         },
         "mode": "lines",
         "name": "SuperTrend Uptrend",
         "showlegend": false,
         "type": "scatter",
         "x": [
          "2023-05-08T12:24:00",
          "2023-05-08T12:25:00"
         ],
         "y": [
          129.98189637213937,
          129.98189637213937
         ]
        },
        {
         "line": {
          "color": "green"
         },
         "mode": "lines",
         "name": "SuperTrend Uptrend",
         "showlegend": false,
         "type": "scatter",
         "x": [
          "2023-05-08T12:25:00",
          "2023-05-08T12:26:00"
         ],
         "y": [
          129.98189637213937,
          129.98189637213937
         ]
        },
        {
         "line": {
          "color": "green"
         },
         "mode": "lines",
         "name": "SuperTrend Uptrend",
         "showlegend": false,
         "type": "scatter",
         "x": [
          "2023-05-08T12:26:00",
          "2023-05-08T12:27:00"
         ],
         "y": [
          129.98189637213937,
          129.98189637213937
         ]
        },
        {
         "line": {
          "color": "green"
         },
         "mode": "lines",
         "name": "SuperTrend Uptrend",
         "showlegend": false,
         "type": "scatter",
         "x": [
          "2023-05-08T12:27:00",
          "2023-05-08T12:28:00"
         ],
         "y": [
          129.98189637213937,
          129.98189637213937
         ]
        },
        {
         "line": {
          "color": "green"
         },
         "mode": "lines",
         "name": "SuperTrend Uptrend",
         "showlegend": false,
         "type": "scatter",
         "x": [
          "2023-05-08T12:28:00",
          "2023-05-08T12:29:00"
         ],
         "y": [
          129.98189637213937,
          129.98189637213937
         ]
        },
        {
         "line": {
          "color": "green"
         },
         "mode": "lines",
         "name": "SuperTrend Uptrend",
         "showlegend": false,
         "type": "scatter",
         "x": [
          "2023-05-08T12:29:00",
          "2023-05-08T12:30:00"
         ],
         "y": [
          129.98189637213937,
          129.98189637213937
         ]
        },
        {
         "line": {
          "color": "green"
         },
         "mode": "lines",
         "name": "SuperTrend Uptrend",
         "showlegend": false,
         "type": "scatter",
         "x": [
          "2023-05-08T12:30:00",
          "2023-05-08T12:31:00"
         ],
         "y": [
          129.98189637213937,
          129.98189637213937
         ]
        },
        {
         "line": {
          "color": "green"
         },
         "mode": "lines",
         "name": "SuperTrend Uptrend",
         "showlegend": false,
         "type": "scatter",
         "x": [
          "2023-05-08T12:31:00",
          "2023-05-08T12:32:00"
         ],
         "y": [
          129.98189637213937,
          129.98189637213937
         ]
        },
        {
         "line": {
          "color": "green"
         },
         "mode": "lines",
         "name": "SuperTrend Uptrend",
         "showlegend": false,
         "type": "scatter",
         "x": [
          "2023-05-08T12:32:00",
          "2023-05-08T12:33:00"
         ],
         "y": [
          129.98189637213937,
          129.98189637213937
         ]
        },
        {
         "line": {
          "color": "green"
         },
         "mode": "lines",
         "name": "SuperTrend Uptrend",
         "showlegend": false,
         "type": "scatter",
         "x": [
          "2023-05-08T12:33:00",
          "2023-05-08T12:34:00"
         ],
         "y": [
          129.98189637213937,
          129.98189637213937
         ]
        },
        {
         "line": {
          "color": "green"
         },
         "mode": "lines",
         "name": "SuperTrend Uptrend",
         "showlegend": false,
         "type": "scatter",
         "x": [
          "2023-05-08T12:34:00",
          "2023-05-08T12:35:00"
         ],
         "y": [
          129.98189637213937,
          129.98189637213937
         ]
        },
        {
         "line": {
          "color": "green"
         },
         "mode": "lines",
         "name": "SuperTrend Uptrend",
         "showlegend": false,
         "type": "scatter",
         "x": [
          "2023-05-08T12:35:00",
          "2023-05-08T12:36:00"
         ],
         "y": [
          129.98189637213937,
          129.98189637213937
         ]
        },
        {
         "line": {
          "color": "green"
         },
         "mode": "lines",
         "name": "SuperTrend Uptrend",
         "showlegend": false,
         "type": "scatter",
         "x": [
          "2023-05-08T12:36:00",
          "2023-05-08T12:37:00"
         ],
         "y": [
          129.98189637213937,
          129.98189637213937
         ]
        },
        {
         "line": {
          "color": "green"
         },
         "mode": "lines",
         "name": "SuperTrend Uptrend",
         "showlegend": false,
         "type": "scatter",
         "x": [
          "2023-05-08T12:37:00",
          "2023-05-08T12:38:00"
         ],
         "y": [
          129.98189637213937,
          129.98189637213937
         ]
        },
        {
         "line": {
          "color": "green"
         },
         "mode": "lines",
         "name": "SuperTrend Uptrend",
         "showlegend": false,
         "type": "scatter",
         "x": [
          "2023-05-08T12:38:00",
          "2023-05-08T12:39:00"
         ],
         "y": [
          129.98189637213937,
          129.98189637213937
         ]
        },
        {
         "line": {
          "color": "green"
         },
         "mode": "lines",
         "name": "SuperTrend Uptrend",
         "showlegend": false,
         "type": "scatter",
         "x": [
          "2023-05-08T12:39:00",
          "2023-05-08T12:40:00"
         ],
         "y": [
          129.98189637213937,
          129.98189637213937
         ]
        },
        {
         "line": {
          "color": "green"
         },
         "mode": "lines",
         "name": "SuperTrend Uptrend",
         "showlegend": false,
         "type": "scatter",
         "x": [
          "2023-05-08T12:40:00",
          "2023-05-08T12:41:00"
         ],
         "y": [
          129.98189637213937,
          129.98189637213937
         ]
        },
        {
         "line": {
          "color": "green"
         },
         "mode": "lines",
         "name": "SuperTrend Uptrend",
         "showlegend": false,
         "type": "scatter",
         "x": [
          "2023-05-08T12:41:00",
          "2023-05-08T12:42:00"
         ],
         "y": [
          129.98189637213937,
          129.98189637213937
         ]
        },
        {
         "line": {
          "color": "green"
         },
         "mode": "lines",
         "name": "SuperTrend Uptrend",
         "showlegend": false,
         "type": "scatter",
         "x": [
          "2023-05-08T12:42:00",
          "2023-05-08T12:43:00"
         ],
         "y": [
          129.98189637213937,
          129.98189637213937
         ]
        },
        {
         "line": {
          "color": "green"
         },
         "mode": "lines",
         "name": "SuperTrend Uptrend",
         "showlegend": false,
         "type": "scatter",
         "x": [
          "2023-05-08T12:43:00",
          "2023-05-08T12:44:00"
         ],
         "y": [
          129.98189637213937,
          129.98189637213937
         ]
        },
        {
         "line": {
          "color": "green"
         },
         "mode": "lines",
         "name": "SuperTrend Uptrend",
         "showlegend": false,
         "type": "scatter",
         "x": [
          "2023-05-08T12:44:00",
          "2023-05-08T12:45:00"
         ],
         "y": [
          129.98189637213937,
          129.98189637213937
         ]
        },
        {
         "line": {
          "color": "green"
         },
         "mode": "lines",
         "name": "SuperTrend Uptrend",
         "showlegend": false,
         "type": "scatter",
         "x": [
          "2023-05-08T12:45:00",
          "2023-05-08T12:46:00"
         ],
         "y": [
          129.98189637213937,
          129.98189637213937
         ]
        },
        {
         "line": {
          "color": "green"
         },
         "mode": "lines",
         "name": "SuperTrend Uptrend",
         "showlegend": false,
         "type": "scatter",
         "x": [
          "2023-05-08T12:46:00",
          "2023-05-08T12:47:00"
         ],
         "y": [
          129.98189637213937,
          129.98189637213937
         ]
        },
        {
         "line": {
          "color": "green"
         },
         "mode": "lines",
         "name": "SuperTrend Uptrend",
         "showlegend": false,
         "type": "scatter",
         "x": [
          "2023-05-08T12:47:00",
          "2023-05-08T12:48:00"
         ],
         "y": [
          129.98189637213937,
          129.98189637213937
         ]
        },
        {
         "line": {
          "color": "green"
         },
         "mode": "lines",
         "name": "SuperTrend Uptrend",
         "showlegend": false,
         "type": "scatter",
         "x": [
          "2023-05-08T12:48:00",
          "2023-05-08T12:49:00"
         ],
         "y": [
          129.98189637213937,
          129.98189637213937
         ]
        },
        {
         "line": {
          "color": "green"
         },
         "mode": "lines",
         "name": "SuperTrend Uptrend",
         "showlegend": false,
         "type": "scatter",
         "x": [
          "2023-05-08T12:49:00",
          "2023-05-08T12:50:00"
         ],
         "y": [
          129.98189637213937,
          129.98189637213937
         ]
        },
        {
         "line": {
          "color": "green"
         },
         "mode": "lines",
         "name": "SuperTrend Uptrend",
         "showlegend": false,
         "type": "scatter",
         "x": [
          "2023-05-08T12:50:00",
          "2023-05-08T12:51:00"
         ],
         "y": [
          129.98189637213937,
          129.98189637213937
         ]
        },
        {
         "line": {
          "color": "green"
         },
         "mode": "lines",
         "name": "SuperTrend Uptrend",
         "showlegend": false,
         "type": "scatter",
         "x": [
          "2023-05-08T12:51:00",
          "2023-05-08T12:52:00"
         ],
         "y": [
          129.98189637213937,
          129.98189637213937
         ]
        },
        {
         "line": {
          "color": "green"
         },
         "mode": "lines",
         "name": "SuperTrend Uptrend",
         "showlegend": false,
         "type": "scatter",
         "x": [
          "2023-05-08T12:52:00",
          "2023-05-08T12:53:00"
         ],
         "y": [
          129.98189637213937,
          129.98189637213937
         ]
        },
        {
         "line": {
          "color": "green"
         },
         "mode": "lines",
         "name": "SuperTrend Uptrend",
         "showlegend": false,
         "type": "scatter",
         "x": [
          "2023-05-08T12:53:00",
          "2023-05-08T12:54:00"
         ],
         "y": [
          129.98189637213937,
          129.98189637213937
         ]
        },
        {
         "line": {
          "color": "green"
         },
         "mode": "lines",
         "name": "SuperTrend Uptrend",
         "showlegend": false,
         "type": "scatter",
         "x": [
          "2023-05-08T12:54:00",
          "2023-05-08T12:55:00"
         ],
         "y": [
          129.98189637213937,
          129.98189637213937
         ]
        },
        {
         "line": {
          "color": "green"
         },
         "mode": "lines",
         "name": "SuperTrend Uptrend",
         "showlegend": false,
         "type": "scatter",
         "x": [
          "2023-05-08T12:55:00",
          "2023-05-08T12:56:00"
         ],
         "y": [
          129.98189637213937,
          129.98189637213937
         ]
        },
        {
         "line": {
          "color": "green"
         },
         "mode": "lines",
         "name": "SuperTrend Uptrend",
         "showlegend": false,
         "type": "scatter",
         "x": [
          "2023-05-08T12:56:00",
          "2023-05-08T12:57:00"
         ],
         "y": [
          129.98189637213937,
          129.98189637213937
         ]
        },
        {
         "line": {
          "color": "green"
         },
         "mode": "lines",
         "name": "SuperTrend Uptrend",
         "showlegend": false,
         "type": "scatter",
         "x": [
          "2023-05-08T12:57:00",
          "2023-05-08T12:58:00"
         ],
         "y": [
          129.98189637213937,
          129.98189637213937
         ]
        },
        {
         "line": {
          "color": "green"
         },
         "mode": "lines",
         "name": "SuperTrend Uptrend",
         "showlegend": false,
         "type": "scatter",
         "x": [
          "2023-05-08T12:58:00",
          "2023-05-08T12:59:00"
         ],
         "y": [
          129.98189637213937,
          129.98189637213937
         ]
        },
        {
         "line": {
          "color": "green"
         },
         "mode": "lines",
         "name": "SuperTrend Uptrend",
         "showlegend": false,
         "type": "scatter",
         "x": [
          "2023-05-08T12:59:00",
          "2023-05-08T13:00:00"
         ],
         "y": [
          129.98189637213937,
          129.98189637213937
         ]
        },
        {
         "line": {
          "color": "green"
         },
         "mode": "lines",
         "name": "SuperTrend Uptrend",
         "showlegend": false,
         "type": "scatter",
         "x": [
          "2023-05-08T13:00:00",
          "2023-05-08T13:01:00"
         ],
         "y": [
          129.98189637213937,
          129.98189637213937
         ]
        },
        {
         "line": {
          "color": "green"
         },
         "mode": "lines",
         "name": "SuperTrend Uptrend",
         "showlegend": false,
         "type": "scatter",
         "x": [
          "2023-05-08T13:01:00",
          "2023-05-08T13:02:00"
         ],
         "y": [
          129.98189637213937,
          129.98189637213937
         ]
        },
        {
         "line": {
          "color": "green"
         },
         "mode": "lines",
         "name": "SuperTrend Uptrend",
         "showlegend": false,
         "type": "scatter",
         "x": [
          "2023-05-08T13:02:00",
          "2023-05-08T13:03:00"
         ],
         "y": [
          129.98189637213937,
          129.98189637213937
         ]
        },
        {
         "line": {
          "color": "green"
         },
         "mode": "lines",
         "name": "SuperTrend Uptrend",
         "showlegend": false,
         "type": "scatter",
         "x": [
          "2023-05-08T13:03:00",
          "2023-05-08T13:04:00"
         ],
         "y": [
          129.98189637213937,
          129.98189637213937
         ]
        },
        {
         "line": {
          "color": "green"
         },
         "mode": "lines",
         "name": "SuperTrend Uptrend",
         "showlegend": false,
         "type": "scatter",
         "x": [
          "2023-05-08T13:04:00",
          "2023-05-08T13:05:00"
         ],
         "y": [
          129.98189637213937,
          129.98189637213937
         ]
        },
        {
         "line": {
          "color": "green"
         },
         "mode": "lines",
         "name": "SuperTrend Uptrend",
         "showlegend": false,
         "type": "scatter",
         "x": [
          "2023-05-08T13:05:00",
          "2023-05-08T13:06:00"
         ],
         "y": [
          129.98189637213937,
          129.98189637213937
         ]
        },
        {
         "line": {
          "color": "green"
         },
         "mode": "lines",
         "name": "SuperTrend Uptrend",
         "showlegend": false,
         "type": "scatter",
         "x": [
          "2023-05-08T13:06:00",
          "2023-05-08T13:07:00"
         ],
         "y": [
          129.98189637213937,
          129.98189637213937
         ]
        },
        {
         "line": {
          "color": "green"
         },
         "mode": "lines",
         "name": "SuperTrend Uptrend",
         "showlegend": false,
         "type": "scatter",
         "x": [
          "2023-05-08T13:07:00",
          "2023-05-08T13:08:00"
         ],
         "y": [
          129.98189637213937,
          129.98189637213937
         ]
        },
        {
         "line": {
          "color": "green"
         },
         "mode": "lines",
         "name": "SuperTrend Uptrend",
         "showlegend": false,
         "type": "scatter",
         "x": [
          "2023-05-08T13:08:00",
          "2023-05-08T13:09:00"
         ],
         "y": [
          129.98189637213937,
          129.98189637213937
         ]
        },
        {
         "line": {
          "color": "green"
         },
         "mode": "lines",
         "name": "SuperTrend Uptrend",
         "showlegend": false,
         "type": "scatter",
         "x": [
          "2023-05-08T13:09:00",
          "2023-05-08T13:10:00"
         ],
         "y": [
          129.98189637213937,
          129.98189637213937
         ]
        },
        {
         "line": {
          "color": "green"
         },
         "mode": "lines",
         "name": "SuperTrend Uptrend",
         "showlegend": false,
         "type": "scatter",
         "x": [
          "2023-05-08T13:10:00",
          "2023-05-08T13:11:00"
         ],
         "y": [
          129.98189637213937,
          129.98189637213937
         ]
        },
        {
         "line": {
          "color": "green"
         },
         "mode": "lines",
         "name": "SuperTrend Uptrend",
         "showlegend": false,
         "type": "scatter",
         "x": [
          "2023-05-08T13:11:00",
          "2023-05-08T13:12:00"
         ],
         "y": [
          129.98189637213937,
          129.98189637213937
         ]
        },
        {
         "line": {
          "color": "green"
         },
         "mode": "lines",
         "name": "SuperTrend Uptrend",
         "showlegend": false,
         "type": "scatter",
         "x": [
          "2023-05-08T13:12:00",
          "2023-05-08T13:13:00"
         ],
         "y": [
          129.98189637213937,
          129.98189637213937
         ]
        },
        {
         "line": {
          "color": "green"
         },
         "mode": "lines",
         "name": "SuperTrend Uptrend",
         "showlegend": false,
         "type": "scatter",
         "x": [
          "2023-05-08T13:13:00",
          "2023-05-08T13:14:00"
         ],
         "y": [
          129.98189637213937,
          129.98189637213937
         ]
        },
        {
         "line": {
          "color": "green"
         },
         "mode": "lines",
         "name": "SuperTrend Uptrend",
         "showlegend": false,
         "type": "scatter",
         "x": [
          "2023-05-08T13:14:00",
          "2023-05-08T13:15:00"
         ],
         "y": [
          129.98189637213937,
          129.98189637213937
         ]
        },
        {
         "line": {
          "color": "green"
         },
         "mode": "lines",
         "name": "SuperTrend Uptrend",
         "showlegend": false,
         "type": "scatter",
         "x": [
          "2023-05-08T13:15:00",
          "2023-05-08T13:16:00"
         ],
         "y": [
          129.98189637213937,
          129.98189637213937
         ]
        },
        {
         "line": {
          "color": "green"
         },
         "mode": "lines",
         "name": "SuperTrend Uptrend",
         "showlegend": false,
         "type": "scatter",
         "x": [
          "2023-05-08T13:16:00",
          "2023-05-08T13:17:00"
         ],
         "y": [
          129.98189637213937,
          129.98189637213937
         ]
        },
        {
         "line": {
          "color": "green"
         },
         "mode": "lines",
         "name": "SuperTrend Uptrend",
         "showlegend": false,
         "type": "scatter",
         "x": [
          "2023-05-08T13:17:00",
          "2023-05-08T13:18:00"
         ],
         "y": [
          129.98189637213937,
          129.98189637213937
         ]
        },
        {
         "line": {
          "color": "green"
         },
         "mode": "lines",
         "name": "SuperTrend Uptrend",
         "showlegend": false,
         "type": "scatter",
         "x": [
          "2023-05-08T13:18:00",
          "2023-05-08T13:19:00"
         ],
         "y": [
          129.98189637213937,
          129.98189637213937
         ]
        },
        {
         "line": {
          "color": "green"
         },
         "mode": "lines",
         "name": "SuperTrend Uptrend",
         "showlegend": false,
         "type": "scatter",
         "x": [
          "2023-05-08T13:19:00",
          "2023-05-08T13:20:00"
         ],
         "y": [
          129.98189637213937,
          129.98189637213937
         ]
        },
        {
         "line": {
          "color": "green"
         },
         "mode": "lines",
         "name": "SuperTrend Uptrend",
         "showlegend": false,
         "type": "scatter",
         "x": [
          "2023-05-08T13:20:00",
          "2023-05-08T13:21:00"
         ],
         "y": [
          129.98189637213937,
          129.98189637213937
         ]
        },
        {
         "line": {
          "color": "green"
         },
         "mode": "lines",
         "name": "SuperTrend Uptrend",
         "showlegend": false,
         "type": "scatter",
         "x": [
          "2023-05-08T13:21:00",
          "2023-05-08T13:22:00"
         ],
         "y": [
          129.98189637213937,
          129.98189637213937
         ]
        },
        {
         "line": {
          "color": "green"
         },
         "mode": "lines",
         "name": "SuperTrend Uptrend",
         "showlegend": false,
         "type": "scatter",
         "x": [
          "2023-05-08T13:22:00",
          "2023-05-08T13:23:00"
         ],
         "y": [
          129.98189637213937,
          129.98189637213937
         ]
        },
        {
         "line": {
          "color": "green"
         },
         "mode": "lines",
         "name": "SuperTrend Uptrend",
         "showlegend": false,
         "type": "scatter",
         "x": [
          "2023-05-08T13:23:00",
          "2023-05-08T13:24:00"
         ],
         "y": [
          129.98189637213937,
          129.98189637213937
         ]
        },
        {
         "line": {
          "color": "green"
         },
         "mode": "lines",
         "name": "SuperTrend Uptrend",
         "showlegend": false,
         "type": "scatter",
         "x": [
          "2023-05-08T13:24:00",
          "2023-05-08T13:25:00"
         ],
         "y": [
          129.98189637213937,
          129.98189637213937
         ]
        },
        {
         "line": {
          "color": "green"
         },
         "mode": "lines",
         "name": "SuperTrend Uptrend",
         "showlegend": false,
         "type": "scatter",
         "x": [
          "2023-05-08T13:25:00",
          "2023-05-08T13:26:00"
         ],
         "y": [
          129.98189637213937,
          129.98189637213937
         ]
        },
        {
         "line": {
          "color": "green"
         },
         "mode": "lines",
         "name": "SuperTrend Uptrend",
         "showlegend": false,
         "type": "scatter",
         "x": [
          "2023-05-08T13:26:00",
          "2023-05-08T13:27:00"
         ],
         "y": [
          129.98189637213937,
          129.98189637213937
         ]
        },
        {
         "line": {
          "color": "green"
         },
         "mode": "lines",
         "name": "SuperTrend Uptrend",
         "showlegend": false,
         "type": "scatter",
         "x": [
          "2023-05-08T13:27:00",
          "2023-05-08T13:28:00"
         ],
         "y": [
          129.98189637213937,
          129.98189637213937
         ]
        },
        {
         "line": {
          "color": "green"
         },
         "mode": "lines",
         "name": "SuperTrend Uptrend",
         "showlegend": false,
         "type": "scatter",
         "x": [
          "2023-05-08T13:28:00",
          "2023-05-08T13:29:00"
         ],
         "y": [
          129.98189637213937,
          129.98189637213937
         ]
        },
        {
         "line": {
          "color": "green"
         },
         "mode": "lines",
         "name": "SuperTrend Uptrend",
         "showlegend": false,
         "type": "scatter",
         "x": [
          "2023-05-08T13:29:00",
          "2023-05-08T13:30:00"
         ],
         "y": [
          129.98189637213937,
          129.98189637213937
         ]
        },
        {
         "line": {
          "color": "green"
         },
         "mode": "lines",
         "name": "SuperTrend Uptrend",
         "showlegend": false,
         "type": "scatter",
         "x": [
          "2023-05-08T13:30:00",
          "2023-05-08T13:31:00"
         ],
         "y": [
          129.98189637213937,
          129.98189637213937
         ]
        },
        {
         "line": {
          "color": "green"
         },
         "mode": "lines",
         "name": "SuperTrend Uptrend",
         "showlegend": false,
         "type": "scatter",
         "x": [
          "2023-05-08T13:31:00",
          "2023-05-08T13:32:00"
         ],
         "y": [
          129.98189637213937,
          129.98189637213937
         ]
        },
        {
         "line": {
          "color": "green"
         },
         "mode": "lines",
         "name": "SuperTrend Uptrend",
         "showlegend": false,
         "type": "scatter",
         "x": [
          "2023-05-08T13:32:00",
          "2023-05-08T13:33:00"
         ],
         "y": [
          129.98189637213937,
          129.98189637213937
         ]
        },
        {
         "line": {
          "color": "green"
         },
         "mode": "lines",
         "name": "SuperTrend Uptrend",
         "showlegend": false,
         "type": "scatter",
         "x": [
          "2023-05-08T13:33:00",
          "2023-05-08T13:34:00"
         ],
         "y": [
          129.98189637213937,
          129.98189637213937
         ]
        },
        {
         "line": {
          "color": "green"
         },
         "mode": "lines",
         "name": "SuperTrend Uptrend",
         "showlegend": false,
         "type": "scatter",
         "x": [
          "2023-05-08T13:34:00",
          "2023-05-08T13:35:00"
         ],
         "y": [
          129.98189637213937,
          129.98189637213937
         ]
        },
        {
         "line": {
          "color": "green"
         },
         "mode": "lines",
         "name": "SuperTrend Uptrend",
         "showlegend": false,
         "type": "scatter",
         "x": [
          "2023-05-08T13:35:00",
          "2023-05-08T13:36:00"
         ],
         "y": [
          129.98189637213937,
          129.98189637213937
         ]
        },
        {
         "line": {
          "color": "green"
         },
         "mode": "lines",
         "name": "SuperTrend Uptrend",
         "showlegend": false,
         "type": "scatter",
         "x": [
          "2023-05-08T13:36:00",
          "2023-05-08T13:37:00"
         ],
         "y": [
          129.98189637213937,
          129.98189637213937
         ]
        },
        {
         "line": {
          "color": "green"
         },
         "mode": "lines",
         "name": "SuperTrend Uptrend",
         "showlegend": false,
         "type": "scatter",
         "x": [
          "2023-05-08T13:37:00",
          "2023-05-08T13:38:00"
         ],
         "y": [
          129.98189637213937,
          129.98189637213937
         ]
        },
        {
         "line": {
          "color": "green"
         },
         "mode": "lines",
         "name": "SuperTrend Uptrend",
         "showlegend": false,
         "type": "scatter",
         "x": [
          "2023-05-08T13:38:00",
          "2023-05-08T13:39:00"
         ],
         "y": [
          129.98189637213937,
          129.98189637213937
         ]
        },
        {
         "line": {
          "color": "green"
         },
         "mode": "lines",
         "name": "SuperTrend Uptrend",
         "showlegend": false,
         "type": "scatter",
         "x": [
          "2023-05-08T13:39:00",
          "2023-05-08T13:40:00"
         ],
         "y": [
          129.98189637213937,
          129.98189637213937
         ]
        },
        {
         "line": {
          "color": "green"
         },
         "mode": "lines",
         "name": "SuperTrend Uptrend",
         "showlegend": false,
         "type": "scatter",
         "x": [
          "2023-05-08T13:40:00",
          "2023-05-08T13:41:00"
         ],
         "y": [
          129.98189637213937,
          129.98189637213937
         ]
        },
        {
         "line": {
          "color": "green"
         },
         "mode": "lines",
         "name": "SuperTrend Uptrend",
         "showlegend": false,
         "type": "scatter",
         "x": [
          "2023-05-08T13:41:00",
          "2023-05-08T13:42:00"
         ],
         "y": [
          129.98189637213937,
          129.98189637213937
         ]
        },
        {
         "line": {
          "color": "green"
         },
         "mode": "lines",
         "name": "SuperTrend Uptrend",
         "showlegend": false,
         "type": "scatter",
         "x": [
          "2023-05-08T13:42:00",
          "2023-05-08T13:43:00"
         ],
         "y": [
          129.98189637213937,
          129.98189637213937
         ]
        },
        {
         "line": {
          "color": "green"
         },
         "mode": "lines",
         "name": "SuperTrend Uptrend",
         "showlegend": false,
         "type": "scatter",
         "x": [
          "2023-05-08T13:43:00",
          "2023-05-08T13:44:00"
         ],
         "y": [
          129.98189637213937,
          129.98189637213937
         ]
        },
        {
         "line": {
          "color": "green"
         },
         "mode": "lines",
         "name": "SuperTrend Uptrend",
         "showlegend": false,
         "type": "scatter",
         "x": [
          "2023-05-08T13:44:00",
          "2023-05-08T13:45:00"
         ],
         "y": [
          129.98189637213937,
          129.98189637213937
         ]
        },
        {
         "line": {
          "color": "green"
         },
         "mode": "lines",
         "name": "SuperTrend Uptrend",
         "showlegend": false,
         "type": "scatter",
         "x": [
          "2023-05-08T13:45:00",
          "2023-05-08T13:46:00"
         ],
         "y": [
          129.98189637213937,
          129.98189637213937
         ]
        },
        {
         "line": {
          "color": "green"
         },
         "mode": "lines",
         "name": "SuperTrend Uptrend",
         "showlegend": false,
         "type": "scatter",
         "x": [
          "2023-05-08T13:46:00",
          "2023-05-08T13:47:00"
         ],
         "y": [
          129.98189637213937,
          129.98189637213937
         ]
        },
        {
         "line": {
          "color": "green"
         },
         "mode": "lines",
         "name": "SuperTrend Uptrend",
         "showlegend": false,
         "type": "scatter",
         "x": [
          "2023-05-08T13:47:00",
          "2023-05-08T13:48:00"
         ],
         "y": [
          129.98189637213937,
          129.98189637213937
         ]
        },
        {
         "line": {
          "color": "green"
         },
         "mode": "lines",
         "name": "SuperTrend Uptrend",
         "showlegend": false,
         "type": "scatter",
         "x": [
          "2023-05-08T13:48:00",
          "2023-05-08T13:49:00"
         ],
         "y": [
          129.98189637213937,
          129.98189637213937
         ]
        },
        {
         "line": {
          "color": "green"
         },
         "mode": "lines",
         "name": "SuperTrend Uptrend",
         "showlegend": false,
         "type": "scatter",
         "x": [
          "2023-05-08T13:49:00",
          "2023-05-08T13:50:00"
         ],
         "y": [
          129.98189637213937,
          129.98189637213937
         ]
        },
        {
         "line": {
          "color": "green"
         },
         "mode": "lines",
         "name": "SuperTrend Uptrend",
         "showlegend": false,
         "type": "scatter",
         "x": [
          "2023-05-08T13:50:00",
          "2023-05-08T13:51:00"
         ],
         "y": [
          129.98189637213937,
          129.98189637213937
         ]
        },
        {
         "line": {
          "color": "green"
         },
         "mode": "lines",
         "name": "SuperTrend Uptrend",
         "showlegend": false,
         "type": "scatter",
         "x": [
          "2023-05-08T13:51:00",
          "2023-05-08T13:52:00"
         ],
         "y": [
          129.98189637213937,
          129.98189637213937
         ]
        },
        {
         "line": {
          "color": "green"
         },
         "mode": "lines",
         "name": "SuperTrend Uptrend",
         "showlegend": false,
         "type": "scatter",
         "x": [
          "2023-05-08T13:52:00",
          "2023-05-08T13:53:00"
         ],
         "y": [
          129.98189637213937,
          129.98189637213937
         ]
        },
        {
         "line": {
          "color": "green"
         },
         "mode": "lines",
         "name": "SuperTrend Uptrend",
         "showlegend": false,
         "type": "scatter",
         "x": [
          "2023-05-08T13:53:00",
          "2023-05-08T13:54:00"
         ],
         "y": [
          129.98189637213937,
          129.98189637213937
         ]
        },
        {
         "line": {
          "color": "green"
         },
         "mode": "lines",
         "name": "SuperTrend Uptrend",
         "showlegend": false,
         "type": "scatter",
         "x": [
          "2023-05-08T13:54:00",
          "2023-05-08T13:55:00"
         ],
         "y": [
          129.98189637213937,
          129.98189637213937
         ]
        },
        {
         "line": {
          "color": "green"
         },
         "mode": "lines",
         "name": "SuperTrend Uptrend",
         "showlegend": false,
         "type": "scatter",
         "x": [
          "2023-05-08T13:55:00",
          "2023-05-08T13:56:00"
         ],
         "y": [
          129.98189637213937,
          129.98189637213937
         ]
        },
        {
         "line": {
          "color": "green"
         },
         "mode": "lines",
         "name": "SuperTrend Uptrend",
         "showlegend": false,
         "type": "scatter",
         "x": [
          "2023-05-08T13:56:00",
          "2023-05-08T13:57:00"
         ],
         "y": [
          129.98189637213937,
          129.98189637213937
         ]
        },
        {
         "line": {
          "color": "green"
         },
         "mode": "lines",
         "name": "SuperTrend Uptrend",
         "showlegend": false,
         "type": "scatter",
         "x": [
          "2023-05-08T13:57:00",
          "2023-05-08T13:58:00"
         ],
         "y": [
          129.98189637213937,
          129.98189637213937
         ]
        },
        {
         "line": {
          "color": "green"
         },
         "mode": "lines",
         "name": "SuperTrend Uptrend",
         "showlegend": false,
         "type": "scatter",
         "x": [
          "2023-05-08T13:58:00",
          "2023-05-08T13:59:00"
         ],
         "y": [
          129.98189637213937,
          129.98189637213937
         ]
        },
        {
         "line": {
          "color": "green"
         },
         "mode": "lines",
         "name": "SuperTrend Uptrend",
         "showlegend": false,
         "type": "scatter",
         "x": [
          "2023-05-08T13:59:00",
          "2023-05-08T14:00:00"
         ],
         "y": [
          129.98189637213937,
          129.98189637213937
         ]
        },
        {
         "line": {
          "color": "green"
         },
         "mode": "lines",
         "name": "SuperTrend Uptrend",
         "showlegend": false,
         "type": "scatter",
         "x": [
          "2023-05-08T14:00:00",
          "2023-05-08T14:01:00"
         ],
         "y": [
          129.98189637213937,
          129.98189637213937
         ]
        },
        {
         "line": {
          "color": "green"
         },
         "mode": "lines",
         "name": "SuperTrend Uptrend",
         "showlegend": false,
         "type": "scatter",
         "x": [
          "2023-05-08T14:01:00",
          "2023-05-08T14:02:00"
         ],
         "y": [
          129.98189637213937,
          129.98189637213937
         ]
        },
        {
         "line": {
          "color": "green"
         },
         "mode": "lines",
         "name": "SuperTrend Uptrend",
         "showlegend": false,
         "type": "scatter",
         "x": [
          "2023-05-08T14:02:00",
          "2023-05-08T14:03:00"
         ],
         "y": [
          129.98189637213937,
          129.98189637213937
         ]
        },
        {
         "line": {
          "color": "green"
         },
         "mode": "lines",
         "name": "SuperTrend Uptrend",
         "showlegend": false,
         "type": "scatter",
         "x": [
          "2023-05-08T14:03:00",
          "2023-05-08T14:04:00"
         ],
         "y": [
          129.98189637213937,
          129.98189637213937
         ]
        },
        {
         "line": {
          "color": "green"
         },
         "mode": "lines",
         "name": "SuperTrend Uptrend",
         "showlegend": false,
         "type": "scatter",
         "x": [
          "2023-05-08T14:04:00",
          "2023-05-08T14:05:00"
         ],
         "y": [
          129.98189637213937,
          129.98189637213937
         ]
        },
        {
         "line": {
          "color": "green"
         },
         "mode": "lines",
         "name": "SuperTrend Uptrend",
         "showlegend": false,
         "type": "scatter",
         "x": [
          "2023-05-08T14:05:00",
          "2023-05-08T14:06:00"
         ],
         "y": [
          129.98189637213937,
          129.98189637213937
         ]
        },
        {
         "line": {
          "color": "green"
         },
         "mode": "lines",
         "name": "SuperTrend Uptrend",
         "showlegend": false,
         "type": "scatter",
         "x": [
          "2023-05-08T14:06:00",
          "2023-05-08T14:07:00"
         ],
         "y": [
          129.98189637213937,
          129.98189637213937
         ]
        },
        {
         "line": {
          "color": "green"
         },
         "mode": "lines",
         "name": "SuperTrend Uptrend",
         "showlegend": false,
         "type": "scatter",
         "x": [
          "2023-05-08T14:07:00",
          "2023-05-08T14:08:00"
         ],
         "y": [
          129.98189637213937,
          129.98189637213937
         ]
        },
        {
         "line": {
          "color": "green"
         },
         "mode": "lines",
         "name": "SuperTrend Uptrend",
         "showlegend": false,
         "type": "scatter",
         "x": [
          "2023-05-08T14:08:00",
          "2023-05-08T14:09:00"
         ],
         "y": [
          129.98189637213937,
          129.98189637213937
         ]
        },
        {
         "line": {
          "color": "green"
         },
         "mode": "lines",
         "name": "SuperTrend Uptrend",
         "showlegend": false,
         "type": "scatter",
         "x": [
          "2023-05-08T14:09:00",
          "2023-05-08T14:10:00"
         ],
         "y": [
          129.98189637213937,
          129.98189637213937
         ]
        },
        {
         "line": {
          "color": "green"
         },
         "mode": "lines",
         "name": "SuperTrend Uptrend",
         "showlegend": false,
         "type": "scatter",
         "x": [
          "2023-05-08T14:10:00",
          "2023-05-08T14:11:00"
         ],
         "y": [
          129.98189637213937,
          129.98189637213937
         ]
        },
        {
         "line": {
          "color": "green"
         },
         "mode": "lines",
         "name": "SuperTrend Uptrend",
         "showlegend": false,
         "type": "scatter",
         "x": [
          "2023-05-08T14:11:00",
          "2023-05-08T14:12:00"
         ],
         "y": [
          129.98189637213937,
          129.98189637213937
         ]
        },
        {
         "line": {
          "color": "green"
         },
         "mode": "lines",
         "name": "SuperTrend Uptrend",
         "showlegend": false,
         "type": "scatter",
         "x": [
          "2023-05-08T14:12:00",
          "2023-05-08T14:13:00"
         ],
         "y": [
          129.98189637213937,
          129.98189637213937
         ]
        },
        {
         "line": {
          "color": "green"
         },
         "mode": "lines",
         "name": "SuperTrend Uptrend",
         "showlegend": false,
         "type": "scatter",
         "x": [
          "2023-05-08T14:13:00",
          "2023-05-08T14:14:00"
         ],
         "y": [
          129.98189637213937,
          129.98189637213937
         ]
        },
        {
         "line": {
          "color": "green"
         },
         "mode": "lines",
         "name": "SuperTrend Uptrend",
         "showlegend": false,
         "type": "scatter",
         "x": [
          "2023-05-08T14:14:00",
          "2023-05-08T14:15:00"
         ],
         "y": [
          129.98189637213937,
          129.98189637213937
         ]
        },
        {
         "line": {
          "color": "green"
         },
         "mode": "lines",
         "name": "SuperTrend Uptrend",
         "showlegend": false,
         "type": "scatter",
         "x": [
          "2023-05-08T14:15:00",
          "2023-05-08T14:16:00"
         ],
         "y": [
          129.98189637213937,
          129.98189637213937
         ]
        },
        {
         "line": {
          "color": "green"
         },
         "mode": "lines",
         "name": "SuperTrend Uptrend",
         "showlegend": false,
         "type": "scatter",
         "x": [
          "2023-05-08T14:16:00",
          "2023-05-08T14:17:00"
         ],
         "y": [
          129.98189637213937,
          129.98189637213937
         ]
        },
        {
         "line": {
          "color": "green"
         },
         "mode": "lines",
         "name": "SuperTrend Uptrend",
         "showlegend": false,
         "type": "scatter",
         "x": [
          "2023-05-08T14:17:00",
          "2023-05-08T14:18:00"
         ],
         "y": [
          129.98189637213937,
          129.98189637213937
         ]
        },
        {
         "line": {
          "color": "green"
         },
         "mode": "lines",
         "name": "SuperTrend Uptrend",
         "showlegend": false,
         "type": "scatter",
         "x": [
          "2023-05-08T14:18:00",
          "2023-05-08T14:19:00"
         ],
         "y": [
          129.98189637213937,
          129.98189637213937
         ]
        },
        {
         "line": {
          "color": "green"
         },
         "mode": "lines",
         "name": "SuperTrend Uptrend",
         "showlegend": false,
         "type": "scatter",
         "x": [
          "2023-05-08T14:19:00",
          "2023-05-08T14:20:00"
         ],
         "y": [
          129.98189637213937,
          129.98189637213937
         ]
        },
        {
         "line": {
          "color": "green"
         },
         "mode": "lines",
         "name": "SuperTrend Uptrend",
         "showlegend": false,
         "type": "scatter",
         "x": [
          "2023-05-08T14:20:00",
          "2023-05-08T14:21:00"
         ],
         "y": [
          129.98189637213937,
          129.98189637213937
         ]
        },
        {
         "line": {
          "color": "green"
         },
         "mode": "lines",
         "name": "SuperTrend Uptrend",
         "showlegend": false,
         "type": "scatter",
         "x": [
          "2023-05-08T14:21:00",
          "2023-05-08T14:22:00"
         ],
         "y": [
          129.98189637213937,
          129.98189637213937
         ]
        },
        {
         "line": {
          "color": "green"
         },
         "mode": "lines",
         "name": "SuperTrend Uptrend",
         "showlegend": false,
         "type": "scatter",
         "x": [
          "2023-05-08T14:22:00",
          "2023-05-08T14:23:00"
         ],
         "y": [
          129.98189637213937,
          129.98189637213937
         ]
        },
        {
         "line": {
          "color": "green"
         },
         "mode": "lines",
         "name": "SuperTrend Uptrend",
         "showlegend": false,
         "type": "scatter",
         "x": [
          "2023-05-08T14:23:00",
          "2023-05-08T14:24:00"
         ],
         "y": [
          129.98189637213937,
          129.98189637213937
         ]
        },
        {
         "line": {
          "color": "green"
         },
         "mode": "lines",
         "name": "SuperTrend Uptrend",
         "showlegend": false,
         "type": "scatter",
         "x": [
          "2023-05-08T14:24:00",
          "2023-05-08T14:25:00"
         ],
         "y": [
          129.98189637213937,
          129.98189637213937
         ]
        },
        {
         "line": {
          "color": "green"
         },
         "mode": "lines",
         "name": "SuperTrend Uptrend",
         "showlegend": false,
         "type": "scatter",
         "x": [
          "2023-05-08T14:25:00",
          "2023-05-08T14:26:00"
         ],
         "y": [
          129.98189637213937,
          129.98189637213937
         ]
        },
        {
         "line": {
          "color": "green"
         },
         "mode": "lines",
         "name": "SuperTrend Uptrend",
         "showlegend": false,
         "type": "scatter",
         "x": [
          "2023-05-08T14:26:00",
          "2023-05-08T14:27:00"
         ],
         "y": [
          129.98189637213937,
          129.98189637213937
         ]
        },
        {
         "line": {
          "color": "green"
         },
         "mode": "lines",
         "name": "SuperTrend Uptrend",
         "showlegend": false,
         "type": "scatter",
         "x": [
          "2023-05-08T14:27:00",
          "2023-05-08T14:28:00"
         ],
         "y": [
          129.98189637213937,
          129.98189637213937
         ]
        },
        {
         "line": {
          "color": "green"
         },
         "mode": "lines",
         "name": "SuperTrend Uptrend",
         "showlegend": false,
         "type": "scatter",
         "x": [
          "2023-05-08T14:28:00",
          "2023-05-08T14:29:00"
         ],
         "y": [
          129.98189637213937,
          129.98189637213937
         ]
        },
        {
         "line": {
          "color": "green"
         },
         "mode": "lines",
         "name": "SuperTrend Uptrend",
         "showlegend": false,
         "type": "scatter",
         "x": [
          "2023-05-08T14:29:00",
          "2023-05-08T14:30:00"
         ],
         "y": [
          129.98189637213937,
          129.98189637213937
         ]
        },
        {
         "line": {
          "color": "green"
         },
         "mode": "lines",
         "name": "SuperTrend Uptrend",
         "showlegend": false,
         "type": "scatter",
         "x": [
          "2023-05-08T14:30:00",
          "2023-05-08T14:31:00"
         ],
         "y": [
          129.98189637213937,
          129.98189637213937
         ]
        },
        {
         "line": {
          "color": "green"
         },
         "mode": "lines",
         "name": "SuperTrend Uptrend",
         "showlegend": false,
         "type": "scatter",
         "x": [
          "2023-05-08T14:31:00",
          "2023-05-08T14:32:00"
         ],
         "y": [
          129.98189637213937,
          129.98189637213937
         ]
        },
        {
         "line": {
          "color": "green"
         },
         "mode": "lines",
         "name": "SuperTrend Uptrend",
         "showlegend": false,
         "type": "scatter",
         "x": [
          "2023-05-08T14:32:00",
          "2023-05-08T14:33:00"
         ],
         "y": [
          129.98189637213937,
          129.98189637213937
         ]
        },
        {
         "line": {
          "color": "green"
         },
         "mode": "lines",
         "name": "SuperTrend Uptrend",
         "showlegend": false,
         "type": "scatter",
         "x": [
          "2023-05-08T14:33:00",
          "2023-05-08T14:34:00"
         ],
         "y": [
          129.98189637213937,
          129.98189637213937
         ]
        },
        {
         "line": {
          "color": "green"
         },
         "mode": "lines",
         "name": "SuperTrend Uptrend",
         "showlegend": false,
         "type": "scatter",
         "x": [
          "2023-05-08T14:34:00",
          "2023-05-08T14:35:00"
         ],
         "y": [
          129.98189637213937,
          129.98189637213937
         ]
        },
        {
         "line": {
          "color": "green"
         },
         "mode": "lines",
         "name": "SuperTrend Uptrend",
         "showlegend": false,
         "type": "scatter",
         "x": [
          "2023-05-08T14:35:00",
          "2023-05-08T14:36:00"
         ],
         "y": [
          129.98189637213937,
          129.98189637213937
         ]
        },
        {
         "line": {
          "color": "green"
         },
         "mode": "lines",
         "name": "SuperTrend Uptrend",
         "showlegend": false,
         "type": "scatter",
         "x": [
          "2023-05-08T14:36:00",
          "2023-05-08T14:37:00"
         ],
         "y": [
          129.98189637213937,
          129.98189637213937
         ]
        },
        {
         "line": {
          "color": "green"
         },
         "mode": "lines",
         "name": "SuperTrend Uptrend",
         "showlegend": false,
         "type": "scatter",
         "x": [
          "2023-05-08T14:37:00",
          "2023-05-08T14:38:00"
         ],
         "y": [
          129.98189637213937,
          129.98189637213937
         ]
        },
        {
         "line": {
          "color": "green"
         },
         "mode": "lines",
         "name": "SuperTrend Uptrend",
         "showlegend": false,
         "type": "scatter",
         "x": [
          "2023-05-08T14:38:00",
          "2023-05-08T14:39:00"
         ],
         "y": [
          129.98189637213937,
          129.98189637213937
         ]
        },
        {
         "line": {
          "color": "green"
         },
         "mode": "lines",
         "name": "SuperTrend Uptrend",
         "showlegend": false,
         "type": "scatter",
         "x": [
          "2023-05-08T14:39:00",
          "2023-05-08T14:40:00"
         ],
         "y": [
          129.98189637213937,
          129.98189637213937
         ]
        },
        {
         "line": {
          "color": "green"
         },
         "mode": "lines",
         "name": "SuperTrend Uptrend",
         "showlegend": false,
         "type": "scatter",
         "x": [
          "2023-05-08T14:40:00",
          "2023-05-08T14:41:00"
         ],
         "y": [
          129.98189637213937,
          129.98189637213937
         ]
        },
        {
         "line": {
          "color": "green"
         },
         "mode": "lines",
         "name": "SuperTrend Uptrend",
         "showlegend": false,
         "type": "scatter",
         "x": [
          "2023-05-08T14:41:00",
          "2023-05-08T14:42:00"
         ],
         "y": [
          129.98189637213937,
          129.98189637213937
         ]
        },
        {
         "line": {
          "color": "green"
         },
         "mode": "lines",
         "name": "SuperTrend Uptrend",
         "showlegend": false,
         "type": "scatter",
         "x": [
          "2023-05-08T14:42:00",
          "2023-05-08T14:43:00"
         ],
         "y": [
          129.98189637213937,
          129.98189637213937
         ]
        },
        {
         "line": {
          "color": "green"
         },
         "mode": "lines",
         "name": "SuperTrend Uptrend",
         "showlegend": false,
         "type": "scatter",
         "x": [
          "2023-05-08T14:43:00",
          "2023-05-08T14:44:00"
         ],
         "y": [
          129.98189637213937,
          129.98189637213937
         ]
        },
        {
         "line": {
          "color": "green"
         },
         "mode": "lines",
         "name": "SuperTrend Uptrend",
         "showlegend": false,
         "type": "scatter",
         "x": [
          "2023-05-08T14:44:00",
          "2023-05-08T14:45:00"
         ],
         "y": [
          129.98189637213937,
          129.98189637213937
         ]
        },
        {
         "line": {
          "color": "green"
         },
         "mode": "lines",
         "name": "SuperTrend Uptrend",
         "showlegend": false,
         "type": "scatter",
         "x": [
          "2023-05-08T14:45:00",
          "2023-05-08T14:46:00"
         ],
         "y": [
          129.98189637213937,
          129.98189637213937
         ]
        },
        {
         "line": {
          "color": "green"
         },
         "mode": "lines",
         "name": "SuperTrend Uptrend",
         "showlegend": false,
         "type": "scatter",
         "x": [
          "2023-05-08T14:46:00",
          "2023-05-08T14:47:00"
         ],
         "y": [
          129.98189637213937,
          129.98189637213937
         ]
        },
        {
         "line": {
          "color": "green"
         },
         "mode": "lines",
         "name": "SuperTrend Uptrend",
         "showlegend": false,
         "type": "scatter",
         "x": [
          "2023-05-08T14:47:00",
          "2023-05-08T14:48:00"
         ],
         "y": [
          129.98189637213937,
          129.98189637213937
         ]
        },
        {
         "line": {
          "color": "green"
         },
         "mode": "lines",
         "name": "SuperTrend Uptrend",
         "showlegend": false,
         "type": "scatter",
         "x": [
          "2023-05-08T14:48:00",
          "2023-05-08T14:49:00"
         ],
         "y": [
          129.98189637213937,
          129.98189637213937
         ]
        },
        {
         "line": {
          "color": "green"
         },
         "mode": "lines",
         "name": "SuperTrend Uptrend",
         "showlegend": false,
         "type": "scatter",
         "x": [
          "2023-05-08T14:49:00",
          "2023-05-08T14:50:00"
         ],
         "y": [
          129.98189637213937,
          129.98189637213937
         ]
        },
        {
         "line": {
          "color": "green"
         },
         "mode": "lines",
         "name": "SuperTrend Uptrend",
         "showlegend": false,
         "type": "scatter",
         "x": [
          "2023-05-08T14:50:00",
          "2023-05-08T14:51:00"
         ],
         "y": [
          129.98189637213937,
          129.98189637213937
         ]
        },
        {
         "line": {
          "color": "green"
         },
         "mode": "lines",
         "name": "SuperTrend Uptrend",
         "showlegend": false,
         "type": "scatter",
         "x": [
          "2023-05-08T14:51:00",
          "2023-05-08T14:52:00"
         ],
         "y": [
          129.98189637213937,
          129.98189637213937
         ]
        },
        {
         "line": {
          "color": "green"
         },
         "mode": "lines",
         "name": "SuperTrend Uptrend",
         "showlegend": false,
         "type": "scatter",
         "x": [
          "2023-05-08T14:52:00",
          "2023-05-08T14:53:00"
         ],
         "y": [
          129.98189637213937,
          129.98189637213937
         ]
        },
        {
         "line": {
          "color": "green"
         },
         "mode": "lines",
         "name": "SuperTrend Uptrend",
         "showlegend": false,
         "type": "scatter",
         "x": [
          "2023-05-08T14:53:00",
          "2023-05-08T14:54:00"
         ],
         "y": [
          129.98189637213937,
          129.98189637213937
         ]
        },
        {
         "line": {
          "color": "green"
         },
         "mode": "lines",
         "name": "SuperTrend Uptrend",
         "showlegend": false,
         "type": "scatter",
         "x": [
          "2023-05-08T14:54:00",
          "2023-05-08T14:55:00"
         ],
         "y": [
          129.98189637213937,
          129.98189637213937
         ]
        },
        {
         "line": {
          "color": "green"
         },
         "mode": "lines",
         "name": "SuperTrend Uptrend",
         "showlegend": false,
         "type": "scatter",
         "x": [
          "2023-05-08T14:55:00",
          "2023-05-08T14:56:00"
         ],
         "y": [
          129.98189637213937,
          129.98189637213937
         ]
        },
        {
         "line": {
          "color": "green"
         },
         "mode": "lines",
         "name": "SuperTrend Uptrend",
         "showlegend": false,
         "type": "scatter",
         "x": [
          "2023-05-08T14:56:00",
          "2023-05-08T14:57:00"
         ],
         "y": [
          129.98189637213937,
          129.98189637213937
         ]
        },
        {
         "line": {
          "color": "green"
         },
         "mode": "lines",
         "name": "SuperTrend Uptrend",
         "showlegend": false,
         "type": "scatter",
         "x": [
          "2023-05-08T14:57:00",
          "2023-05-08T14:58:00"
         ],
         "y": [
          129.98189637213937,
          129.98189637213937
         ]
        },
        {
         "line": {
          "color": "green"
         },
         "mode": "lines",
         "name": "SuperTrend Uptrend",
         "showlegend": false,
         "type": "scatter",
         "x": [
          "2023-05-08T14:58:00",
          "2023-05-08T14:59:00"
         ],
         "y": [
          129.98189637213937,
          129.98189637213937
         ]
        },
        {
         "line": {
          "color": "green"
         },
         "mode": "lines",
         "name": "SuperTrend Uptrend",
         "showlegend": false,
         "type": "scatter",
         "x": [
          "2023-05-08T14:59:00",
          "2023-05-08T15:00:00"
         ],
         "y": [
          129.98189637213937,
          129.98189637213937
         ]
        },
        {
         "line": {
          "color": "green"
         },
         "mode": "lines",
         "name": "SuperTrend Uptrend",
         "showlegend": false,
         "type": "scatter",
         "x": [
          "2023-05-08T15:00:00",
          "2023-05-08T15:01:00"
         ],
         "y": [
          129.98189637213937,
          129.98189637213937
         ]
        },
        {
         "line": {
          "color": "green"
         },
         "mode": "lines",
         "name": "SuperTrend Uptrend",
         "showlegend": false,
         "type": "scatter",
         "x": [
          "2023-05-08T15:01:00",
          "2023-05-08T15:02:00"
         ],
         "y": [
          129.98189637213937,
          129.98189637213937
         ]
        },
        {
         "line": {
          "color": "green"
         },
         "mode": "lines",
         "name": "SuperTrend Uptrend",
         "showlegend": false,
         "type": "scatter",
         "x": [
          "2023-05-08T15:02:00",
          "2023-05-08T15:03:00"
         ],
         "y": [
          129.98189637213937,
          129.98189637213937
         ]
        },
        {
         "line": {
          "color": "green"
         },
         "mode": "lines",
         "name": "SuperTrend Uptrend",
         "showlegend": false,
         "type": "scatter",
         "x": [
          "2023-05-08T15:03:00",
          "2023-05-08T15:04:00"
         ],
         "y": [
          129.98189637213937,
          129.98189637213937
         ]
        },
        {
         "line": {
          "color": "green"
         },
         "mode": "lines",
         "name": "SuperTrend Uptrend",
         "showlegend": false,
         "type": "scatter",
         "x": [
          "2023-05-08T15:04:00",
          "2023-05-08T15:05:00"
         ],
         "y": [
          129.98189637213937,
          129.98189637213937
         ]
        },
        {
         "line": {
          "color": "green"
         },
         "mode": "lines",
         "name": "SuperTrend Uptrend",
         "showlegend": false,
         "type": "scatter",
         "x": [
          "2023-05-08T15:05:00",
          "2023-05-08T15:06:00"
         ],
         "y": [
          129.98189637213937,
          129.98189637213937
         ]
        },
        {
         "line": {
          "color": "green"
         },
         "mode": "lines",
         "name": "SuperTrend Uptrend",
         "showlegend": false,
         "type": "scatter",
         "x": [
          "2023-05-08T15:06:00",
          "2023-05-08T15:07:00"
         ],
         "y": [
          129.98189637213937,
          129.98189637213937
         ]
        },
        {
         "line": {
          "color": "green"
         },
         "mode": "lines",
         "name": "SuperTrend Uptrend",
         "showlegend": false,
         "type": "scatter",
         "x": [
          "2023-05-08T15:07:00",
          "2023-05-08T15:08:00"
         ],
         "y": [
          129.98189637213937,
          129.98189637213937
         ]
        },
        {
         "line": {
          "color": "green"
         },
         "mode": "lines",
         "name": "SuperTrend Uptrend",
         "showlegend": false,
         "type": "scatter",
         "x": [
          "2023-05-08T15:08:00",
          "2023-05-08T15:09:00"
         ],
         "y": [
          129.98189637213937,
          129.98189637213937
         ]
        },
        {
         "line": {
          "color": "green"
         },
         "mode": "lines",
         "name": "SuperTrend Uptrend",
         "showlegend": false,
         "type": "scatter",
         "x": [
          "2023-05-08T15:09:00",
          "2023-05-08T15:10:00"
         ],
         "y": [
          129.98189637213937,
          129.98189637213937
         ]
        },
        {
         "line": {
          "color": "green"
         },
         "mode": "lines",
         "name": "SuperTrend Uptrend",
         "showlegend": false,
         "type": "scatter",
         "x": [
          "2023-05-08T15:10:00",
          "2023-05-08T15:11:00"
         ],
         "y": [
          129.98189637213937,
          129.98189637213937
         ]
        },
        {
         "line": {
          "color": "green"
         },
         "mode": "lines",
         "name": "SuperTrend Uptrend",
         "showlegend": false,
         "type": "scatter",
         "x": [
          "2023-05-08T15:11:00",
          "2023-05-08T15:12:00"
         ],
         "y": [
          129.98189637213937,
          129.98189637213937
         ]
        },
        {
         "line": {
          "color": "green"
         },
         "mode": "lines",
         "name": "SuperTrend Uptrend",
         "showlegend": false,
         "type": "scatter",
         "x": [
          "2023-05-08T15:12:00",
          "2023-05-08T15:13:00"
         ],
         "y": [
          129.98189637213937,
          129.98189637213937
         ]
        },
        {
         "line": {
          "color": "green"
         },
         "mode": "lines",
         "name": "SuperTrend Uptrend",
         "showlegend": false,
         "type": "scatter",
         "x": [
          "2023-05-08T15:13:00",
          "2023-05-08T15:14:00"
         ],
         "y": [
          129.98189637213937,
          129.98189637213937
         ]
        },
        {
         "line": {
          "color": "green"
         },
         "mode": "lines",
         "name": "SuperTrend Uptrend",
         "showlegend": false,
         "type": "scatter",
         "x": [
          "2023-05-08T15:14:00",
          "2023-05-08T15:15:00"
         ],
         "y": [
          129.98189637213937,
          129.98189637213937
         ]
        },
        {
         "line": {
          "color": "green"
         },
         "mode": "lines",
         "name": "SuperTrend Uptrend",
         "showlegend": false,
         "type": "scatter",
         "x": [
          "2023-05-08T15:15:00",
          "2023-05-08T15:16:00"
         ],
         "y": [
          129.98189637213937,
          129.98189637213937
         ]
        },
        {
         "line": {
          "color": "green"
         },
         "mode": "lines",
         "name": "SuperTrend Uptrend",
         "showlegend": false,
         "type": "scatter",
         "x": [
          "2023-05-08T15:16:00",
          "2023-05-08T15:17:00"
         ],
         "y": [
          129.98189637213937,
          129.98189637213937
         ]
        },
        {
         "line": {
          "color": "green"
         },
         "mode": "lines",
         "name": "SuperTrend Uptrend",
         "showlegend": false,
         "type": "scatter",
         "x": [
          "2023-05-08T15:17:00",
          "2023-05-08T15:18:00"
         ],
         "y": [
          129.98189637213937,
          129.98189637213937
         ]
        },
        {
         "line": {
          "color": "green"
         },
         "mode": "lines",
         "name": "SuperTrend Uptrend",
         "showlegend": false,
         "type": "scatter",
         "x": [
          "2023-05-08T15:18:00",
          "2023-05-08T15:19:00"
         ],
         "y": [
          129.98189637213937,
          129.98189637213937
         ]
        },
        {
         "line": {
          "color": "green"
         },
         "mode": "lines",
         "name": "SuperTrend Uptrend",
         "showlegend": false,
         "type": "scatter",
         "x": [
          "2023-05-08T15:19:00",
          "2023-05-08T15:20:00"
         ],
         "y": [
          129.98189637213937,
          129.98189637213937
         ]
        },
        {
         "line": {
          "color": "green"
         },
         "mode": "lines",
         "name": "SuperTrend Uptrend",
         "showlegend": false,
         "type": "scatter",
         "x": [
          "2023-05-08T15:20:00",
          "2023-05-08T15:21:00"
         ],
         "y": [
          129.98189637213937,
          129.98189637213937
         ]
        },
        {
         "line": {
          "color": "green"
         },
         "mode": "lines",
         "name": "SuperTrend Uptrend",
         "showlegend": false,
         "type": "scatter",
         "x": [
          "2023-05-08T15:21:00",
          "2023-05-08T15:22:00"
         ],
         "y": [
          129.98189637213937,
          129.98189637213937
         ]
        },
        {
         "line": {
          "color": "green"
         },
         "mode": "lines",
         "name": "SuperTrend Uptrend",
         "showlegend": false,
         "type": "scatter",
         "x": [
          "2023-05-08T15:22:00",
          "2023-05-08T15:23:00"
         ],
         "y": [
          129.98189637213937,
          129.98189637213937
         ]
        },
        {
         "line": {
          "color": "green"
         },
         "mode": "lines",
         "name": "SuperTrend Uptrend",
         "showlegend": false,
         "type": "scatter",
         "x": [
          "2023-05-08T15:23:00",
          "2023-05-08T15:24:00"
         ],
         "y": [
          129.98189637213937,
          129.98189637213937
         ]
        },
        {
         "line": {
          "color": "green"
         },
         "mode": "lines",
         "name": "SuperTrend Uptrend",
         "showlegend": false,
         "type": "scatter",
         "x": [
          "2023-05-08T15:24:00",
          "2023-05-08T15:25:00"
         ],
         "y": [
          129.98189637213937,
          129.98189637213937
         ]
        },
        {
         "line": {
          "color": "green"
         },
         "mode": "lines",
         "name": "SuperTrend Uptrend",
         "showlegend": false,
         "type": "scatter",
         "x": [
          "2023-05-08T15:25:00",
          "2023-05-08T15:26:00"
         ],
         "y": [
          129.98189637213937,
          129.98189637213937
         ]
        },
        {
         "line": {
          "color": "green"
         },
         "mode": "lines",
         "name": "SuperTrend Uptrend",
         "showlegend": false,
         "type": "scatter",
         "x": [
          "2023-05-08T15:26:00",
          "2023-05-08T15:27:00"
         ],
         "y": [
          129.98189637213937,
          129.98189637213937
         ]
        },
        {
         "line": {
          "color": "green"
         },
         "mode": "lines",
         "name": "SuperTrend Uptrend",
         "showlegend": false,
         "type": "scatter",
         "x": [
          "2023-05-08T15:27:00",
          "2023-05-08T15:28:00"
         ],
         "y": [
          129.98189637213937,
          129.98189637213937
         ]
        },
        {
         "line": {
          "color": "green"
         },
         "mode": "lines",
         "name": "SuperTrend Uptrend",
         "showlegend": false,
         "type": "scatter",
         "x": [
          "2023-05-08T15:28:00",
          "2023-05-08T15:29:00"
         ],
         "y": [
          129.98189637213937,
          129.98189637213937
         ]
        },
        {
         "line": {
          "color": "green"
         },
         "mode": "lines",
         "name": "SuperTrend Uptrend",
         "showlegend": false,
         "type": "scatter",
         "x": [
          "2023-05-08T15:29:00",
          "2023-05-08T15:30:00"
         ],
         "y": [
          129.98189637213937,
          129.98189637213937
         ]
        },
        {
         "line": {
          "color": "green"
         },
         "mode": "lines",
         "name": "SuperTrend Uptrend",
         "showlegend": false,
         "type": "scatter",
         "x": [
          "2023-05-09T09:15:00",
          "2023-05-09T09:16:00"
         ],
         "y": [
          129.98189637213937,
          129.98189637213937
         ]
        },
        {
         "line": {
          "color": "green"
         },
         "mode": "lines",
         "name": "SuperTrend Uptrend",
         "showlegend": false,
         "type": "scatter",
         "x": [
          "2023-05-09T09:16:00",
          "2023-05-09T09:17:00"
         ],
         "y": [
          129.98189637213937,
          129.98189637213937
         ]
        },
        {
         "line": {
          "color": "green"
         },
         "mode": "lines",
         "name": "SuperTrend Uptrend",
         "showlegend": false,
         "type": "scatter",
         "x": [
          "2023-05-09T09:17:00",
          "2023-05-09T09:18:00"
         ],
         "y": [
          129.98189637213937,
          129.98189637213937
         ]
        },
        {
         "line": {
          "color": "green"
         },
         "mode": "lines",
         "name": "SuperTrend Uptrend",
         "showlegend": false,
         "type": "scatter",
         "x": [
          "2023-05-09T09:18:00",
          "2023-05-09T09:19:00"
         ],
         "y": [
          129.98189637213937,
          129.98189637213937
         ]
        },
        {
         "line": {
          "color": "green"
         },
         "mode": "lines",
         "name": "SuperTrend Uptrend",
         "showlegend": false,
         "type": "scatter",
         "x": [
          "2023-05-09T09:19:00",
          "2023-05-09T09:20:00"
         ],
         "y": [
          129.98189637213937,
          129.98189637213937
         ]
        },
        {
         "line": {
          "color": "green"
         },
         "mode": "lines",
         "name": "SuperTrend Uptrend",
         "showlegend": false,
         "type": "scatter",
         "x": [
          "2023-05-09T09:20:00",
          "2023-05-09T09:21:00"
         ],
         "y": [
          129.98189637213937,
          129.98189637213937
         ]
        },
        {
         "line": {
          "color": "green"
         },
         "mode": "lines",
         "name": "SuperTrend Uptrend",
         "showlegend": false,
         "type": "scatter",
         "x": [
          "2023-05-09T09:21:00",
          "2023-05-09T09:22:00"
         ],
         "y": [
          129.98189637213937,
          129.98189637213937
         ]
        },
        {
         "line": {
          "color": "green"
         },
         "mode": "lines",
         "name": "SuperTrend Uptrend",
         "showlegend": false,
         "type": "scatter",
         "x": [
          "2023-05-09T09:22:00",
          "2023-05-09T09:23:00"
         ],
         "y": [
          129.98189637213937,
          129.98189637213937
         ]
        },
        {
         "line": {
          "color": "green"
         },
         "mode": "lines",
         "name": "SuperTrend Uptrend",
         "showlegend": false,
         "type": "scatter",
         "x": [
          "2023-05-09T09:23:00",
          "2023-05-09T09:24:00"
         ],
         "y": [
          129.98189637213937,
          129.98189637213937
         ]
        },
        {
         "line": {
          "color": "green"
         },
         "mode": "lines",
         "name": "SuperTrend Uptrend",
         "showlegend": false,
         "type": "scatter",
         "x": [
          "2023-05-09T09:24:00",
          "2023-05-09T09:25:00"
         ],
         "y": [
          129.98189637213937,
          129.98189637213937
         ]
        },
        {
         "line": {
          "color": "green"
         },
         "mode": "lines",
         "name": "SuperTrend Uptrend",
         "showlegend": false,
         "type": "scatter",
         "x": [
          "2023-05-09T09:25:00",
          "2023-05-09T09:26:00"
         ],
         "y": [
          129.98189637213937,
          129.98189637213937
         ]
        },
        {
         "line": {
          "color": "green"
         },
         "mode": "lines",
         "name": "SuperTrend Uptrend",
         "showlegend": false,
         "type": "scatter",
         "x": [
          "2023-05-09T09:26:00",
          "2023-05-09T09:27:00"
         ],
         "y": [
          129.98189637213937,
          129.98189637213937
         ]
        },
        {
         "line": {
          "color": "green"
         },
         "mode": "lines",
         "name": "SuperTrend Uptrend",
         "showlegend": false,
         "type": "scatter",
         "x": [
          "2023-05-09T09:27:00",
          "2023-05-09T09:28:00"
         ],
         "y": [
          129.98189637213937,
          129.98189637213937
         ]
        },
        {
         "line": {
          "color": "green"
         },
         "mode": "lines",
         "name": "SuperTrend Uptrend",
         "showlegend": false,
         "type": "scatter",
         "x": [
          "2023-05-09T09:28:00",
          "2023-05-09T09:29:00"
         ],
         "y": [
          129.98189637213937,
          129.98189637213937
         ]
        },
        {
         "line": {
          "color": "green"
         },
         "mode": "lines",
         "name": "SuperTrend Uptrend",
         "showlegend": false,
         "type": "scatter",
         "x": [
          "2023-05-09T09:29:00",
          "2023-05-09T09:30:00"
         ],
         "y": [
          129.98189637213937,
          129.98189637213937
         ]
        },
        {
         "line": {
          "color": "green"
         },
         "mode": "lines",
         "name": "SuperTrend Uptrend",
         "showlegend": false,
         "type": "scatter",
         "x": [
          "2023-05-09T09:30:00",
          "2023-05-09T09:31:00"
         ],
         "y": [
          129.98189637213937,
          129.98189637213937
         ]
        },
        {
         "line": {
          "color": "green"
         },
         "mode": "lines",
         "name": "SuperTrend Uptrend",
         "showlegend": false,
         "type": "scatter",
         "x": [
          "2023-05-09T09:31:00",
          "2023-05-09T09:32:00"
         ],
         "y": [
          129.98189637213937,
          129.98189637213937
         ]
        },
        {
         "line": {
          "color": "green"
         },
         "mode": "lines",
         "name": "SuperTrend Uptrend",
         "showlegend": false,
         "type": "scatter",
         "x": [
          "2023-05-09T09:32:00",
          "2023-05-09T09:33:00"
         ],
         "y": [
          129.98189637213937,
          129.98189637213937
         ]
        },
        {
         "line": {
          "color": "green"
         },
         "mode": "lines",
         "name": "SuperTrend Uptrend",
         "showlegend": false,
         "type": "scatter",
         "x": [
          "2023-05-09T09:33:00",
          "2023-05-09T09:34:00"
         ],
         "y": [
          129.98189637213937,
          129.98189637213937
         ]
        },
        {
         "line": {
          "color": "green"
         },
         "mode": "lines",
         "name": "SuperTrend Uptrend",
         "showlegend": false,
         "type": "scatter",
         "x": [
          "2023-05-09T09:34:00",
          "2023-05-09T09:35:00"
         ],
         "y": [
          129.98189637213937,
          129.98189637213937
         ]
        },
        {
         "line": {
          "color": "green"
         },
         "mode": "lines",
         "name": "SuperTrend Uptrend",
         "showlegend": false,
         "type": "scatter",
         "x": [
          "2023-05-09T09:35:00",
          "2023-05-09T09:36:00"
         ],
         "y": [
          129.98189637213937,
          129.98189637213937
         ]
        },
        {
         "line": {
          "color": "green"
         },
         "mode": "lines",
         "name": "SuperTrend Uptrend",
         "showlegend": false,
         "type": "scatter",
         "x": [
          "2023-05-09T09:36:00",
          "2023-05-09T09:37:00"
         ],
         "y": [
          129.98189637213937,
          129.98189637213937
         ]
        },
        {
         "line": {
          "color": "green"
         },
         "mode": "lines",
         "name": "SuperTrend Uptrend",
         "showlegend": false,
         "type": "scatter",
         "x": [
          "2023-05-09T09:37:00",
          "2023-05-09T09:38:00"
         ],
         "y": [
          129.98189637213937,
          129.98189637213937
         ]
        },
        {
         "line": {
          "color": "green"
         },
         "mode": "lines",
         "name": "SuperTrend Uptrend",
         "showlegend": false,
         "type": "scatter",
         "x": [
          "2023-05-09T09:38:00",
          "2023-05-09T09:39:00"
         ],
         "y": [
          129.98189637213937,
          129.98189637213937
         ]
        },
        {
         "line": {
          "color": "green"
         },
         "mode": "lines",
         "name": "SuperTrend Uptrend",
         "showlegend": false,
         "type": "scatter",
         "x": [
          "2023-05-09T09:39:00",
          "2023-05-09T09:40:00"
         ],
         "y": [
          129.98189637213937,
          129.98189637213937
         ]
        },
        {
         "line": {
          "color": "green"
         },
         "mode": "lines",
         "name": "SuperTrend Uptrend",
         "showlegend": false,
         "type": "scatter",
         "x": [
          "2023-05-09T09:40:00",
          "2023-05-09T09:41:00"
         ],
         "y": [
          129.98189637213937,
          129.98189637213937
         ]
        },
        {
         "line": {
          "color": "green"
         },
         "mode": "lines",
         "name": "SuperTrend Uptrend",
         "showlegend": false,
         "type": "scatter",
         "x": [
          "2023-05-09T09:41:00",
          "2023-05-09T09:42:00"
         ],
         "y": [
          129.98189637213937,
          129.98189637213937
         ]
        },
        {
         "line": {
          "color": "green"
         },
         "mode": "lines",
         "name": "SuperTrend Uptrend",
         "showlegend": false,
         "type": "scatter",
         "x": [
          "2023-05-09T09:42:00",
          "2023-05-09T09:43:00"
         ],
         "y": [
          129.98189637213937,
          129.98189637213937
         ]
        },
        {
         "line": {
          "color": "green"
         },
         "mode": "lines",
         "name": "SuperTrend Uptrend",
         "showlegend": false,
         "type": "scatter",
         "x": [
          "2023-05-09T09:43:00",
          "2023-05-09T09:44:00"
         ],
         "y": [
          129.98189637213937,
          129.98189637213937
         ]
        },
        {
         "line": {
          "color": "green"
         },
         "mode": "lines",
         "name": "SuperTrend Uptrend",
         "showlegend": false,
         "type": "scatter",
         "x": [
          "2023-05-09T09:44:00",
          "2023-05-09T09:45:00"
         ],
         "y": [
          129.98189637213937,
          129.98189637213937
         ]
        },
        {
         "line": {
          "color": "green"
         },
         "mode": "lines",
         "name": "SuperTrend Uptrend",
         "showlegend": false,
         "type": "scatter",
         "x": [
          "2023-05-09T09:45:00",
          "2023-05-09T09:46:00"
         ],
         "y": [
          129.98189637213937,
          129.98189637213937
         ]
        },
        {
         "line": {
          "color": "green"
         },
         "mode": "lines",
         "name": "SuperTrend Uptrend",
         "showlegend": false,
         "type": "scatter",
         "x": [
          "2023-05-09T09:46:00",
          "2023-05-09T09:47:00"
         ],
         "y": [
          129.98189637213937,
          129.98189637213937
         ]
        },
        {
         "line": {
          "color": "green"
         },
         "mode": "lines",
         "name": "SuperTrend Uptrend",
         "showlegend": false,
         "type": "scatter",
         "x": [
          "2023-05-09T09:47:00",
          "2023-05-09T09:48:00"
         ],
         "y": [
          129.98189637213937,
          129.98189637213937
         ]
        },
        {
         "line": {
          "color": "green"
         },
         "mode": "lines",
         "name": "SuperTrend Uptrend",
         "showlegend": false,
         "type": "scatter",
         "x": [
          "2023-05-09T09:48:00",
          "2023-05-09T09:49:00"
         ],
         "y": [
          129.98189637213937,
          129.98189637213937
         ]
        },
        {
         "line": {
          "color": "green"
         },
         "mode": "lines",
         "name": "SuperTrend Uptrend",
         "showlegend": false,
         "type": "scatter",
         "x": [
          "2023-05-09T09:49:00",
          "2023-05-09T09:50:00"
         ],
         "y": [
          129.98189637213937,
          129.98189637213937
         ]
        },
        {
         "line": {
          "color": "green"
         },
         "mode": "lines",
         "name": "SuperTrend Uptrend",
         "showlegend": false,
         "type": "scatter",
         "x": [
          "2023-05-09T09:50:00",
          "2023-05-09T09:51:00"
         ],
         "y": [
          129.98189637213937,
          129.98189637213937
         ]
        },
        {
         "line": {
          "color": "green"
         },
         "mode": "lines",
         "name": "SuperTrend Uptrend",
         "showlegend": false,
         "type": "scatter",
         "x": [
          "2023-05-09T09:51:00",
          "2023-05-09T09:52:00"
         ],
         "y": [
          129.98189637213937,
          129.98189637213937
         ]
        },
        {
         "line": {
          "color": "green"
         },
         "mode": "lines",
         "name": "SuperTrend Uptrend",
         "showlegend": false,
         "type": "scatter",
         "x": [
          "2023-05-09T09:52:00",
          "2023-05-09T09:53:00"
         ],
         "y": [
          129.98189637213937,
          129.98189637213937
         ]
        },
        {
         "line": {
          "color": "green"
         },
         "mode": "lines",
         "name": "SuperTrend Uptrend",
         "showlegend": false,
         "type": "scatter",
         "x": [
          "2023-05-09T09:53:00",
          "2023-05-09T09:54:00"
         ],
         "y": [
          129.98189637213937,
          129.98189637213937
         ]
        },
        {
         "line": {
          "color": "green"
         },
         "mode": "lines",
         "name": "SuperTrend Uptrend",
         "showlegend": false,
         "type": "scatter",
         "x": [
          "2023-05-09T09:54:00",
          "2023-05-09T09:55:00"
         ],
         "y": [
          129.98189637213937,
          129.98189637213937
         ]
        },
        {
         "line": {
          "color": "green"
         },
         "mode": "lines",
         "name": "SuperTrend Uptrend",
         "showlegend": false,
         "type": "scatter",
         "x": [
          "2023-05-09T09:55:00",
          "2023-05-09T09:56:00"
         ],
         "y": [
          129.98189637213937,
          129.98189637213937
         ]
        },
        {
         "line": {
          "color": "green"
         },
         "mode": "lines",
         "name": "SuperTrend Uptrend",
         "showlegend": false,
         "type": "scatter",
         "x": [
          "2023-05-09T09:56:00",
          "2023-05-09T09:57:00"
         ],
         "y": [
          129.98189637213937,
          129.98189637213937
         ]
        },
        {
         "line": {
          "color": "green"
         },
         "mode": "lines",
         "name": "SuperTrend Uptrend",
         "showlegend": false,
         "type": "scatter",
         "x": [
          "2023-05-09T09:57:00",
          "2023-05-09T09:58:00"
         ],
         "y": [
          129.98189637213937,
          129.98189637213937
         ]
        },
        {
         "line": {
          "color": "green"
         },
         "mode": "lines",
         "name": "SuperTrend Uptrend",
         "showlegend": false,
         "type": "scatter",
         "x": [
          "2023-05-09T09:58:00",
          "2023-05-09T09:59:00"
         ],
         "y": [
          129.98189637213937,
          129.98189637213937
         ]
        },
        {
         "line": {
          "color": "green"
         },
         "mode": "lines",
         "name": "SuperTrend Uptrend",
         "showlegend": false,
         "type": "scatter",
         "x": [
          "2023-05-09T09:59:00",
          "2023-05-09T10:00:00"
         ],
         "y": [
          129.98189637213937,
          129.98189637213937
         ]
        },
        {
         "line": {
          "color": "green"
         },
         "mode": "lines",
         "name": "SuperTrend Uptrend",
         "showlegend": false,
         "type": "scatter",
         "x": [
          "2023-05-09T10:00:00",
          "2023-05-09T10:01:00"
         ],
         "y": [
          129.98189637213937,
          129.98189637213937
         ]
        },
        {
         "line": {
          "color": "green"
         },
         "mode": "lines",
         "name": "SuperTrend Uptrend",
         "showlegend": false,
         "type": "scatter",
         "x": [
          "2023-05-09T10:01:00",
          "2023-05-09T10:02:00"
         ],
         "y": [
          129.98189637213937,
          129.98189637213937
         ]
        },
        {
         "line": {
          "color": "green"
         },
         "mode": "lines",
         "name": "SuperTrend Uptrend",
         "showlegend": false,
         "type": "scatter",
         "x": [
          "2023-05-09T10:02:00",
          "2023-05-09T10:03:00"
         ],
         "y": [
          129.98189637213937,
          129.98189637213937
         ]
        },
        {
         "line": {
          "color": "green"
         },
         "mode": "lines",
         "name": "SuperTrend Uptrend",
         "showlegend": false,
         "type": "scatter",
         "x": [
          "2023-05-09T10:03:00",
          "2023-05-09T10:04:00"
         ],
         "y": [
          129.98189637213937,
          129.98189637213937
         ]
        },
        {
         "line": {
          "color": "green"
         },
         "mode": "lines",
         "name": "SuperTrend Uptrend",
         "showlegend": false,
         "type": "scatter",
         "x": [
          "2023-05-09T10:04:00",
          "2023-05-09T10:05:00"
         ],
         "y": [
          129.98189637213937,
          129.98189637213937
         ]
        },
        {
         "line": {
          "color": "green"
         },
         "mode": "lines",
         "name": "SuperTrend Uptrend",
         "showlegend": false,
         "type": "scatter",
         "x": [
          "2023-05-09T10:05:00",
          "2023-05-09T10:06:00"
         ],
         "y": [
          129.98189637213937,
          129.98189637213937
         ]
        },
        {
         "line": {
          "color": "green"
         },
         "mode": "lines",
         "name": "SuperTrend Uptrend",
         "showlegend": false,
         "type": "scatter",
         "x": [
          "2023-05-09T10:06:00",
          "2023-05-09T10:07:00"
         ],
         "y": [
          129.98189637213937,
          129.98189637213937
         ]
        },
        {
         "line": {
          "color": "green"
         },
         "mode": "lines",
         "name": "SuperTrend Uptrend",
         "showlegend": false,
         "type": "scatter",
         "x": [
          "2023-05-09T10:07:00",
          "2023-05-09T10:08:00"
         ],
         "y": [
          129.98189637213937,
          129.98189637213937
         ]
        },
        {
         "line": {
          "color": "green"
         },
         "mode": "lines",
         "name": "SuperTrend Uptrend",
         "showlegend": false,
         "type": "scatter",
         "x": [
          "2023-05-09T10:08:00",
          "2023-05-09T10:09:00"
         ],
         "y": [
          129.98189637213937,
          129.98189637213937
         ]
        },
        {
         "line": {
          "color": "green"
         },
         "mode": "lines",
         "name": "SuperTrend Uptrend",
         "showlegend": false,
         "type": "scatter",
         "x": [
          "2023-05-09T10:09:00",
          "2023-05-09T10:10:00"
         ],
         "y": [
          129.98189637213937,
          129.98189637213937
         ]
        },
        {
         "line": {
          "color": "green"
         },
         "mode": "lines",
         "name": "SuperTrend Uptrend",
         "showlegend": false,
         "type": "scatter",
         "x": [
          "2023-05-09T10:10:00",
          "2023-05-09T10:11:00"
         ],
         "y": [
          129.98189637213937,
          129.98189637213937
         ]
        },
        {
         "line": {
          "color": "green"
         },
         "mode": "lines",
         "name": "SuperTrend Uptrend",
         "showlegend": false,
         "type": "scatter",
         "x": [
          "2023-05-09T10:11:00",
          "2023-05-09T10:12:00"
         ],
         "y": [
          129.98189637213937,
          129.98189637213937
         ]
        },
        {
         "line": {
          "color": "green"
         },
         "mode": "lines",
         "name": "SuperTrend Uptrend",
         "showlegend": false,
         "type": "scatter",
         "x": [
          "2023-05-09T10:12:00",
          "2023-05-09T10:13:00"
         ],
         "y": [
          129.98189637213937,
          129.98189637213937
         ]
        },
        {
         "line": {
          "color": "green"
         },
         "mode": "lines",
         "name": "SuperTrend Uptrend",
         "showlegend": false,
         "type": "scatter",
         "x": [
          "2023-05-09T10:13:00",
          "2023-05-09T10:14:00"
         ],
         "y": [
          129.98189637213937,
          129.98189637213937
         ]
        },
        {
         "line": {
          "color": "green"
         },
         "mode": "lines",
         "name": "SuperTrend Uptrend",
         "showlegend": false,
         "type": "scatter",
         "x": [
          "2023-05-09T10:14:00",
          "2023-05-09T10:15:00"
         ],
         "y": [
          129.98189637213937,
          129.98189637213937
         ]
        },
        {
         "line": {
          "color": "green"
         },
         "mode": "lines",
         "name": "SuperTrend Uptrend",
         "showlegend": false,
         "type": "scatter",
         "x": [
          "2023-05-09T10:15:00",
          "2023-05-09T10:16:00"
         ],
         "y": [
          129.98189637213937,
          129.98189637213937
         ]
        },
        {
         "line": {
          "color": "green"
         },
         "mode": "lines",
         "name": "SuperTrend Uptrend",
         "showlegend": false,
         "type": "scatter",
         "x": [
          "2023-05-09T10:16:00",
          "2023-05-09T10:17:00"
         ],
         "y": [
          129.98189637213937,
          129.98189637213937
         ]
        },
        {
         "line": {
          "color": "green"
         },
         "mode": "lines",
         "name": "SuperTrend Uptrend",
         "showlegend": false,
         "type": "scatter",
         "x": [
          "2023-05-09T10:17:00",
          "2023-05-09T10:18:00"
         ],
         "y": [
          129.98189637213937,
          129.98189637213937
         ]
        },
        {
         "line": {
          "color": "green"
         },
         "mode": "lines",
         "name": "SuperTrend Uptrend",
         "showlegend": false,
         "type": "scatter",
         "x": [
          "2023-05-09T10:18:00",
          "2023-05-09T10:19:00"
         ],
         "y": [
          129.98189637213937,
          129.98189637213937
         ]
        },
        {
         "line": {
          "color": "green"
         },
         "mode": "lines",
         "name": "SuperTrend Uptrend",
         "showlegend": false,
         "type": "scatter",
         "x": [
          "2023-05-09T10:19:00",
          "2023-05-09T10:20:00"
         ],
         "y": [
          129.98189637213937,
          129.98189637213937
         ]
        },
        {
         "line": {
          "color": "green"
         },
         "mode": "lines",
         "name": "SuperTrend Uptrend",
         "showlegend": false,
         "type": "scatter",
         "x": [
          "2023-05-09T10:20:00",
          "2023-05-09T10:21:00"
         ],
         "y": [
          129.98189637213937,
          129.98189637213937
         ]
        },
        {
         "line": {
          "color": "green"
         },
         "mode": "lines",
         "name": "SuperTrend Uptrend",
         "showlegend": false,
         "type": "scatter",
         "x": [
          "2023-05-09T10:21:00",
          "2023-05-09T10:22:00"
         ],
         "y": [
          129.98189637213937,
          129.98189637213937
         ]
        },
        {
         "line": {
          "color": "green"
         },
         "mode": "lines",
         "name": "SuperTrend Uptrend",
         "showlegend": false,
         "type": "scatter",
         "x": [
          "2023-05-09T10:22:00",
          "2023-05-09T10:23:00"
         ],
         "y": [
          129.98189637213937,
          129.98189637213937
         ]
        },
        {
         "line": {
          "color": "green"
         },
         "mode": "lines",
         "name": "SuperTrend Uptrend",
         "showlegend": false,
         "type": "scatter",
         "x": [
          "2023-05-09T10:23:00",
          "2023-05-09T10:24:00"
         ],
         "y": [
          129.98189637213937,
          129.98189637213937
         ]
        },
        {
         "line": {
          "color": "green"
         },
         "mode": "lines",
         "name": "SuperTrend Uptrend",
         "showlegend": false,
         "type": "scatter",
         "x": [
          "2023-05-09T10:24:00",
          "2023-05-09T10:25:00"
         ],
         "y": [
          129.98189637213937,
          129.98189637213937
         ]
        },
        {
         "line": {
          "color": "green"
         },
         "mode": "lines",
         "name": "SuperTrend Uptrend",
         "showlegend": false,
         "type": "scatter",
         "x": [
          "2023-05-09T10:25:00",
          "2023-05-09T10:26:00"
         ],
         "y": [
          129.98189637213937,
          129.98189637213937
         ]
        },
        {
         "line": {
          "color": "green"
         },
         "mode": "lines",
         "name": "SuperTrend Uptrend",
         "showlegend": false,
         "type": "scatter",
         "x": [
          "2023-05-09T10:26:00",
          "2023-05-09T10:27:00"
         ],
         "y": [
          129.98189637213937,
          129.98189637213937
         ]
        },
        {
         "line": {
          "color": "green"
         },
         "mode": "lines",
         "name": "SuperTrend Uptrend",
         "showlegend": false,
         "type": "scatter",
         "x": [
          "2023-05-09T10:27:00",
          "2023-05-09T10:28:00"
         ],
         "y": [
          129.98189637213937,
          129.98189637213937
         ]
        },
        {
         "line": {
          "color": "green"
         },
         "mode": "lines",
         "name": "SuperTrend Uptrend",
         "showlegend": false,
         "type": "scatter",
         "x": [
          "2023-05-09T10:28:00",
          "2023-05-09T10:29:00"
         ],
         "y": [
          129.98189637213937,
          129.98189637213937
         ]
        },
        {
         "line": {
          "color": "green"
         },
         "mode": "lines",
         "name": "SuperTrend Uptrend",
         "showlegend": false,
         "type": "scatter",
         "x": [
          "2023-05-09T10:29:00",
          "2023-05-09T10:30:00"
         ],
         "y": [
          129.98189637213937,
          129.98189637213937
         ]
        },
        {
         "line": {
          "color": "red"
         },
         "mode": "lines",
         "name": "SuperTrend Downtrend",
         "showlegend": true,
         "type": "scatter",
         "x": [
          "2023-05-09T10:31:00",
          "2023-05-09T10:32:00"
         ],
         "y": [
          193.48205287692247,
          186.47852643846122
         ]
        },
        {
         "line": {
          "color": "red"
         },
         "mode": "lines",
         "name": "SuperTrend Downtrend",
         "showlegend": false,
         "type": "scatter",
         "x": [
          "2023-05-09T10:32:00",
          "2023-05-09T10:33:00"
         ],
         "y": [
          186.47852643846122,
          186.47852643846122
         ]
        },
        {
         "line": {
          "color": "red"
         },
         "mode": "lines",
         "name": "SuperTrend Downtrend",
         "showlegend": false,
         "type": "scatter",
         "x": [
          "2023-05-09T10:33:00",
          "2023-05-09T10:34:00"
         ],
         "y": [
          186.47852643846122,
          173.3883816096153
         ]
        },
        {
         "line": {
          "color": "red"
         },
         "mode": "lines",
         "name": "SuperTrend Downtrend",
         "showlegend": false,
         "type": "scatter",
         "x": [
          "2023-05-09T10:34:00",
          "2023-05-09T10:35:00"
         ],
         "y": [
          173.3883816096153,
          171.18169080480766
         ]
        },
        {
         "line": {
          "color": "red"
         },
         "mode": "lines",
         "name": "SuperTrend Downtrend",
         "showlegend": false,
         "type": "scatter",
         "x": [
          "2023-05-09T10:35:00",
          "2023-05-09T10:36:00"
         ],
         "y": [
          171.18169080480766,
          162.52834540240383
         ]
        },
        {
         "line": {
          "color": "red"
         },
         "mode": "lines",
         "name": "SuperTrend Downtrend",
         "showlegend": false,
         "type": "scatter",
         "x": [
          "2023-05-09T10:36:00",
          "2023-05-09T10:37:00"
         ],
         "y": [
          162.52834540240383,
          162.52834540240383
         ]
        },
        {
         "line": {
          "color": "red"
         },
         "mode": "lines",
         "name": "SuperTrend Downtrend",
         "showlegend": false,
         "type": "scatter",
         "x": [
          "2023-05-09T10:37:00",
          "2023-05-09T10:38:00"
         ],
         "y": [
          162.52834540240383,
          162.52834540240383
         ]
        },
        {
         "line": {
          "color": "red"
         },
         "mode": "lines",
         "name": "SuperTrend Downtrend",
         "showlegend": false,
         "type": "scatter",
         "x": [
          "2023-05-09T10:38:00",
          "2023-05-09T10:39:00"
         ],
         "y": [
          162.52834540240383,
          162.52834540240383
         ]
        },
        {
         "line": {
          "color": "red"
         },
         "mode": "lines",
         "name": "SuperTrend Downtrend",
         "showlegend": false,
         "type": "scatter",
         "x": [
          "2023-05-09T10:39:00",
          "2023-05-09T10:40:00"
         ],
         "y": [
          162.52834540240383,
          162.52834540240383
         ]
        },
        {
         "line": {
          "color": "red"
         },
         "mode": "lines",
         "name": "SuperTrend Downtrend",
         "showlegend": false,
         "type": "scatter",
         "x": [
          "2023-05-09T10:40:00",
          "2023-05-09T10:41:00"
         ],
         "y": [
          162.52834540240383,
          162.52834540240383
         ]
        },
        {
         "line": {
          "color": "red"
         },
         "mode": "lines",
         "name": "SuperTrend Downtrend",
         "showlegend": false,
         "type": "scatter",
         "x": [
          "2023-05-09T10:41:00",
          "2023-05-09T10:42:00"
         ],
         "y": [
          162.52834540240383,
          162.52834540240383
         ]
        },
        {
         "line": {
          "color": "red"
         },
         "mode": "lines",
         "name": "SuperTrend Downtrend",
         "showlegend": false,
         "type": "scatter",
         "x": [
          "2023-05-09T10:42:00",
          "2023-05-09T10:43:00"
         ],
         "y": [
          162.52834540240383,
          160.75569019845622
         ]
        },
        {
         "line": {
          "color": "red"
         },
         "mode": "lines",
         "name": "SuperTrend Downtrend",
         "showlegend": false,
         "type": "scatter",
         "x": [
          "2023-05-09T10:43:00",
          "2023-05-09T10:44:00"
         ],
         "y": [
          160.75569019845622,
          160.75569019845622
         ]
        },
        {
         "line": {
          "color": "red"
         },
         "mode": "lines",
         "name": "SuperTrend Downtrend",
         "showlegend": false,
         "type": "scatter",
         "x": [
          "2023-05-09T10:44:00",
          "2023-05-09T10:45:00"
         ],
         "y": [
          160.75569019845622,
          160.75569019845622
         ]
        },
        {
         "line": {
          "color": "red"
         },
         "mode": "lines",
         "name": "SuperTrend Downtrend",
         "showlegend": false,
         "type": "scatter",
         "x": [
          "2023-05-09T10:45:00",
          "2023-05-09T10:46:00"
         ],
         "y": [
          160.75569019845622,
          158.53196127480686
         ]
        },
        {
         "line": {
          "color": "red"
         },
         "mode": "lines",
         "name": "SuperTrend Downtrend",
         "showlegend": false,
         "type": "scatter",
         "x": [
          "2023-05-09T10:46:00",
          "2023-05-09T10:47:00"
         ],
         "y": [
          158.53196127480686,
          155.46598063740336
         ]
        },
        {
         "line": {
          "color": "red"
         },
         "mode": "lines",
         "name": "SuperTrend Downtrend",
         "showlegend": false,
         "type": "scatter",
         "x": [
          "2023-05-09T10:47:00",
          "2023-05-09T10:48:00"
         ],
         "y": [
          155.46598063740336,
          155.46598063740336
         ]
        },
        {
         "line": {
          "color": "red"
         },
         "mode": "lines",
         "name": "SuperTrend Downtrend",
         "showlegend": false,
         "type": "scatter",
         "x": [
          "2023-05-09T10:48:00",
          "2023-05-09T10:49:00"
         ],
         "y": [
          155.46598063740336,
          155.46598063740336
         ]
        },
        {
         "line": {
          "color": "red"
         },
         "mode": "lines",
         "name": "SuperTrend Downtrend",
         "showlegend": false,
         "type": "scatter",
         "x": [
          "2023-05-09T10:49:00",
          "2023-05-09T10:50:00"
         ],
         "y": [
          155.46598063740336,
          153.7644975796754
         ]
        },
        {
         "line": {
          "color": "red"
         },
         "mode": "lines",
         "name": "SuperTrend Downtrend",
         "showlegend": false,
         "type": "scatter",
         "x": [
          "2023-05-09T10:50:00",
          "2023-05-09T10:51:00"
         ],
         "y": [
          153.7644975796754,
          150.73224878983774
         ]
        },
        {
         "line": {
          "color": "red"
         },
         "mode": "lines",
         "name": "SuperTrend Downtrend",
         "showlegend": false,
         "type": "scatter",
         "x": [
          "2023-05-09T10:51:00",
          "2023-05-09T10:52:00"
         ],
         "y": [
          150.73224878983774,
          150.73224878983774
         ]
        },
        {
         "line": {
          "color": "red"
         },
         "mode": "lines",
         "name": "SuperTrend Downtrend",
         "showlegend": false,
         "type": "scatter",
         "x": [
          "2023-05-09T10:52:00",
          "2023-05-09T10:53:00"
         ],
         "y": [
          150.73224878983774,
          150.73224878983774
         ]
        },
        {
         "line": {
          "color": "red"
         },
         "mode": "lines",
         "name": "SuperTrend Downtrend",
         "showlegend": false,
         "type": "scatter",
         "x": [
          "2023-05-09T10:53:00",
          "2023-05-09T10:54:00"
         ],
         "y": [
          150.73224878983774,
          150.73224878983774
         ]
        },
        {
         "line": {
          "color": "red"
         },
         "mode": "lines",
         "name": "SuperTrend Downtrend",
         "showlegend": false,
         "type": "scatter",
         "x": [
          "2023-05-09T10:54:00",
          "2023-05-09T10:55:00"
         ],
         "y": [
          150.73224878983774,
          150.73224878983774
         ]
        },
        {
         "line": {
          "color": "red"
         },
         "mode": "lines",
         "name": "SuperTrend Downtrend",
         "showlegend": false,
         "type": "scatter",
         "x": [
          "2023-05-09T10:55:00",
          "2023-05-09T10:56:00"
         ],
         "y": [
          150.73224878983774,
          150.73224878983774
         ]
        },
        {
         "line": {
          "color": "red"
         },
         "mode": "lines",
         "name": "SuperTrend Downtrend",
         "showlegend": false,
         "type": "scatter",
         "x": [
          "2023-05-09T10:56:00",
          "2023-05-09T10:57:00"
         ],
         "y": [
          150.73224878983774,
          150.73224878983774
         ]
        },
        {
         "line": {
          "color": "red"
         },
         "mode": "lines",
         "name": "SuperTrend Downtrend",
         "showlegend": false,
         "type": "scatter",
         "x": [
          "2023-05-09T10:57:00",
          "2023-05-09T10:58:00"
         ],
         "y": [
          150.73224878983774,
          150.73224878983774
         ]
        },
        {
         "line": {
          "color": "red"
         },
         "mode": "lines",
         "name": "SuperTrend Downtrend",
         "showlegend": false,
         "type": "scatter",
         "x": [
          "2023-05-09T10:58:00",
          "2023-05-09T10:59:00"
         ],
         "y": [
          150.73224878983774,
          150.73224878983774
         ]
        },
        {
         "line": {
          "color": "red"
         },
         "mode": "lines",
         "name": "SuperTrend Downtrend",
         "showlegend": false,
         "type": "scatter",
         "x": [
          "2023-05-09T10:59:00",
          "2023-05-09T11:00:00"
         ],
         "y": [
          150.73224878983774,
          150.73224878983774
         ]
        },
        {
         "line": {
          "color": "red"
         },
         "mode": "lines",
         "name": "SuperTrend Downtrend",
         "showlegend": false,
         "type": "scatter",
         "x": [
          "2023-05-09T11:00:00",
          "2023-05-09T11:01:00"
         ],
         "y": [
          150.73224878983774,
          149.05764868045893
         ]
        },
        {
         "line": {
          "color": "red"
         },
         "mode": "lines",
         "name": "SuperTrend Downtrend",
         "showlegend": false,
         "type": "scatter",
         "x": [
          "2023-05-09T11:01:00",
          "2023-05-09T11:02:00"
         ],
         "y": [
          149.05764868045893,
          149.05764868045893
         ]
        },
        {
         "line": {
          "color": "red"
         },
         "mode": "lines",
         "name": "SuperTrend Downtrend",
         "showlegend": false,
         "type": "scatter",
         "x": [
          "2023-05-09T11:02:00",
          "2023-05-09T11:03:00"
         ],
         "y": [
          149.05764868045893,
          149.05764868045893
         ]
        },
        {
         "line": {
          "color": "red"
         },
         "mode": "lines",
         "name": "SuperTrend Downtrend",
         "showlegend": false,
         "type": "scatter",
         "x": [
          "2023-05-09T11:03:00",
          "2023-05-09T11:04:00"
         ],
         "y": [
          149.05764868045893,
          149.05095608505735
         ]
        },
        {
         "line": {
          "color": "red"
         },
         "mode": "lines",
         "name": "SuperTrend Downtrend",
         "showlegend": false,
         "type": "scatter",
         "x": [
          "2023-05-09T11:04:00",
          "2023-05-09T11:05:00"
         ],
         "y": [
          149.05095608505735,
          149.05095608505735
         ]
        },
        {
         "line": {
          "color": "red"
         },
         "mode": "lines",
         "name": "SuperTrend Downtrend",
         "showlegend": false,
         "type": "scatter",
         "x": [
          "2023-05-09T11:05:00",
          "2023-05-09T11:06:00"
         ],
         "y": [
          149.05095608505735,
          149.05095608505735
         ]
        },
        {
         "line": {
          "color": "red"
         },
         "mode": "lines",
         "name": "SuperTrend Downtrend",
         "showlegend": false,
         "type": "scatter",
         "x": [
          "2023-05-09T11:06:00",
          "2023-05-09T11:07:00"
         ],
         "y": [
          149.05095608505735,
          149.05095608505735
         ]
        },
        {
         "line": {
          "color": "red"
         },
         "mode": "lines",
         "name": "SuperTrend Downtrend",
         "showlegend": false,
         "type": "scatter",
         "x": [
          "2023-05-09T11:07:00",
          "2023-05-09T11:08:00"
         ],
         "y": [
          149.05095608505735,
          149.05095608505735
         ]
        },
        {
         "line": {
          "color": "red"
         },
         "mode": "lines",
         "name": "SuperTrend Downtrend",
         "showlegend": false,
         "type": "scatter",
         "x": [
          "2023-05-09T11:08:00",
          "2023-05-09T11:09:00"
         ],
         "y": [
          149.05095608505735,
          149.05095608505735
         ]
        },
        {
         "line": {
          "color": "red"
         },
         "mode": "lines",
         "name": "SuperTrend Downtrend",
         "showlegend": false,
         "type": "scatter",
         "x": [
          "2023-05-09T11:09:00",
          "2023-05-09T11:10:00"
         ],
         "y": [
          149.05095608505735,
          149.05095608505735
         ]
        },
        {
         "line": {
          "color": "red"
         },
         "mode": "lines",
         "name": "SuperTrend Downtrend",
         "showlegend": false,
         "type": "scatter",
         "x": [
          "2023-05-09T11:10:00",
          "2023-05-09T11:11:00"
         ],
         "y": [
          149.05095608505735,
          149.05095608505735
         ]
        },
        {
         "line": {
          "color": "red"
         },
         "mode": "lines",
         "name": "SuperTrend Downtrend",
         "showlegend": false,
         "type": "scatter",
         "x": [
          "2023-05-09T11:11:00",
          "2023-05-09T11:12:00"
         ],
         "y": [
          149.05095608505735,
          149.05095608505735
         ]
        },
        {
         "line": {
          "color": "red"
         },
         "mode": "lines",
         "name": "SuperTrend Downtrend",
         "showlegend": false,
         "type": "scatter",
         "x": [
          "2023-05-09T11:12:00",
          "2023-05-09T11:13:00"
         ],
         "y": [
          149.05095608505735,
          149.05095608505735
         ]
        },
        {
         "line": {
          "color": "red"
         },
         "mode": "lines",
         "name": "SuperTrend Downtrend",
         "showlegend": false,
         "type": "scatter",
         "x": [
          "2023-05-09T11:13:00",
          "2023-05-09T11:14:00"
         ],
         "y": [
          149.05095608505735,
          149.05095608505735
         ]
        },
        {
         "line": {
          "color": "red"
         },
         "mode": "lines",
         "name": "SuperTrend Downtrend",
         "showlegend": false,
         "type": "scatter",
         "x": [
          "2023-05-09T11:14:00",
          "2023-05-09T11:15:00"
         ],
         "y": [
          149.05095608505735,
          149.05095608505735
         ]
        },
        {
         "line": {
          "color": "red"
         },
         "mode": "lines",
         "name": "SuperTrend Downtrend",
         "showlegend": false,
         "type": "scatter",
         "x": [
          "2023-05-09T11:15:00",
          "2023-05-09T11:16:00"
         ],
         "y": [
          149.05095608505735,
          149.05095608505735
         ]
        },
        {
         "line": {
          "color": "red"
         },
         "mode": "lines",
         "name": "SuperTrend Downtrend",
         "showlegend": false,
         "type": "scatter",
         "x": [
          "2023-05-09T11:16:00",
          "2023-05-09T11:17:00"
         ],
         "y": [
          149.05095608505735,
          149.05095608505735
         ]
        },
        {
         "line": {
          "color": "red"
         },
         "mode": "lines",
         "name": "SuperTrend Downtrend",
         "showlegend": false,
         "type": "scatter",
         "x": [
          "2023-05-09T11:17:00",
          "2023-05-09T11:18:00"
         ],
         "y": [
          149.05095608505735,
          149.05095608505735
         ]
        },
        {
         "line": {
          "color": "red"
         },
         "mode": "lines",
         "name": "SuperTrend Downtrend",
         "showlegend": false,
         "type": "scatter",
         "x": [
          "2023-05-09T11:18:00",
          "2023-05-09T11:19:00"
         ],
         "y": [
          149.05095608505735,
          149.05095608505735
         ]
        },
        {
         "line": {
          "color": "red"
         },
         "mode": "lines",
         "name": "SuperTrend Downtrend",
         "showlegend": false,
         "type": "scatter",
         "x": [
          "2023-05-09T11:19:00",
          "2023-05-09T11:20:00"
         ],
         "y": [
          149.05095608505735,
          149.05095608505735
         ]
        },
        {
         "line": {
          "color": "red"
         },
         "mode": "lines",
         "name": "SuperTrend Downtrend",
         "showlegend": false,
         "type": "scatter",
         "x": [
          "2023-05-09T11:20:00",
          "2023-05-09T11:21:00"
         ],
         "y": [
          149.05095608505735,
          149.05095608505735
         ]
        },
        {
         "line": {
          "color": "red"
         },
         "mode": "lines",
         "name": "SuperTrend Downtrend",
         "showlegend": false,
         "type": "scatter",
         "x": [
          "2023-05-09T11:21:00",
          "2023-05-09T11:22:00"
         ],
         "y": [
          149.05095608505735,
          149.05095608505735
         ]
        },
        {
         "line": {
          "color": "red"
         },
         "mode": "lines",
         "name": "SuperTrend Downtrend",
         "showlegend": false,
         "type": "scatter",
         "x": [
          "2023-05-09T11:22:00",
          "2023-05-09T11:23:00"
         ],
         "y": [
          149.05095608505735,
          149.05095608505735
         ]
        },
        {
         "line": {
          "color": "red"
         },
         "mode": "lines",
         "name": "SuperTrend Downtrend",
         "showlegend": false,
         "type": "scatter",
         "x": [
          "2023-05-09T11:23:00",
          "2023-05-09T11:24:00"
         ],
         "y": [
          149.05095608505735,
          149.05095608505735
         ]
        },
        {
         "line": {
          "color": "red"
         },
         "mode": "lines",
         "name": "SuperTrend Downtrend",
         "showlegend": false,
         "type": "scatter",
         "x": [
          "2023-05-09T11:24:00",
          "2023-05-09T11:25:00"
         ],
         "y": [
          149.05095608505735,
          149.05095608505735
         ]
        },
        {
         "line": {
          "color": "red"
         },
         "mode": "lines",
         "name": "SuperTrend Downtrend",
         "showlegend": false,
         "type": "scatter",
         "x": [
          "2023-05-09T11:25:00",
          "2023-05-09T11:26:00"
         ],
         "y": [
          149.05095608505735,
          149.05095608505735
         ]
        },
        {
         "line": {
          "color": "red"
         },
         "mode": "lines",
         "name": "SuperTrend Downtrend",
         "showlegend": false,
         "type": "scatter",
         "x": [
          "2023-05-09T11:26:00",
          "2023-05-09T11:27:00"
         ],
         "y": [
          149.05095608505735,
          149.05095608505735
         ]
        },
        {
         "line": {
          "color": "red"
         },
         "mode": "lines",
         "name": "SuperTrend Downtrend",
         "showlegend": false,
         "type": "scatter",
         "x": [
          "2023-05-09T11:27:00",
          "2023-05-09T11:28:00"
         ],
         "y": [
          149.05095608505735,
          149.05095608505735
         ]
        },
        {
         "line": {
          "color": "red"
         },
         "mode": "lines",
         "name": "SuperTrend Downtrend",
         "showlegend": false,
         "type": "scatter",
         "x": [
          "2023-05-09T11:28:00",
          "2023-05-09T11:29:00"
         ],
         "y": [
          149.05095608505735,
          149.05095608505735
         ]
        },
        {
         "line": {
          "color": "red"
         },
         "mode": "lines",
         "name": "SuperTrend Downtrend",
         "showlegend": false,
         "type": "scatter",
         "x": [
          "2023-05-09T11:29:00",
          "2023-05-09T11:30:00"
         ],
         "y": [
          149.05095608505735,
          149.05095608505735
         ]
        },
        {
         "line": {
          "color": "red"
         },
         "mode": "lines",
         "name": "SuperTrend Downtrend",
         "showlegend": false,
         "type": "scatter",
         "x": [
          "2023-05-09T11:30:00",
          "2023-05-09T11:31:00"
         ],
         "y": [
          149.05095608505735,
          149.05095608505735
         ]
        },
        {
         "line": {
          "color": "red"
         },
         "mode": "lines",
         "name": "SuperTrend Downtrend",
         "showlegend": false,
         "type": "scatter",
         "x": [
          "2023-05-09T11:31:00",
          "2023-05-09T11:32:00"
         ],
         "y": [
          149.05095608505735,
          149.05095608505735
         ]
        },
        {
         "line": {
          "color": "red"
         },
         "mode": "lines",
         "name": "SuperTrend Downtrend",
         "showlegend": false,
         "type": "scatter",
         "x": [
          "2023-05-09T11:32:00",
          "2023-05-09T11:33:00"
         ],
         "y": [
          149.05095608505735,
          149.05095608505735
         ]
        },
        {
         "line": {
          "color": "red"
         },
         "mode": "lines",
         "name": "SuperTrend Downtrend",
         "showlegend": false,
         "type": "scatter",
         "x": [
          "2023-05-09T11:33:00",
          "2023-05-09T11:34:00"
         ],
         "y": [
          149.05095608505735,
          149.05095608505735
         ]
        },
        {
         "line": {
          "color": "red"
         },
         "mode": "lines",
         "name": "SuperTrend Downtrend",
         "showlegend": false,
         "type": "scatter",
         "x": [
          "2023-05-09T11:34:00",
          "2023-05-09T11:35:00"
         ],
         "y": [
          149.05095608505735,
          149.05095608505735
         ]
        },
        {
         "line": {
          "color": "red"
         },
         "mode": "lines",
         "name": "SuperTrend Downtrend",
         "showlegend": false,
         "type": "scatter",
         "x": [
          "2023-05-09T11:35:00",
          "2023-05-09T11:36:00"
         ],
         "y": [
          149.05095608505735,
          149.05095608505735
         ]
        },
        {
         "line": {
          "color": "red"
         },
         "mode": "lines",
         "name": "SuperTrend Downtrend",
         "showlegend": false,
         "type": "scatter",
         "x": [
          "2023-05-09T11:36:00",
          "2023-05-09T11:37:00"
         ],
         "y": [
          149.05095608505735,
          149.05095608505735
         ]
        },
        {
         "line": {
          "color": "red"
         },
         "mode": "lines",
         "name": "SuperTrend Downtrend",
         "showlegend": false,
         "type": "scatter",
         "x": [
          "2023-05-09T11:37:00",
          "2023-05-09T11:38:00"
         ],
         "y": [
          149.05095608505735,
          149.05095608505735
         ]
        },
        {
         "line": {
          "color": "red"
         },
         "mode": "lines",
         "name": "SuperTrend Downtrend",
         "showlegend": false,
         "type": "scatter",
         "x": [
          "2023-05-09T11:38:00",
          "2023-05-09T11:39:00"
         ],
         "y": [
          149.05095608505735,
          149.05095608505735
         ]
        },
        {
         "line": {
          "color": "red"
         },
         "mode": "lines",
         "name": "SuperTrend Downtrend",
         "showlegend": false,
         "type": "scatter",
         "x": [
          "2023-05-09T11:39:00",
          "2023-05-09T11:40:00"
         ],
         "y": [
          149.05095608505735,
          149.05095608505735
         ]
        },
        {
         "line": {
          "color": "red"
         },
         "mode": "lines",
         "name": "SuperTrend Downtrend",
         "showlegend": false,
         "type": "scatter",
         "x": [
          "2023-05-09T11:40:00",
          "2023-05-09T11:41:00"
         ],
         "y": [
          149.05095608505735,
          149.05095608505735
         ]
        },
        {
         "line": {
          "color": "red"
         },
         "mode": "lines",
         "name": "SuperTrend Downtrend",
         "showlegend": false,
         "type": "scatter",
         "x": [
          "2023-05-09T11:41:00",
          "2023-05-09T11:42:00"
         ],
         "y": [
          149.05095608505735,
          149.05095608505735
         ]
        },
        {
         "line": {
          "color": "red"
         },
         "mode": "lines",
         "name": "SuperTrend Downtrend",
         "showlegend": false,
         "type": "scatter",
         "x": [
          "2023-05-09T11:42:00",
          "2023-05-09T11:43:00"
         ],
         "y": [
          149.05095608505735,
          149.05095608505735
         ]
        },
        {
         "line": {
          "color": "red"
         },
         "mode": "lines",
         "name": "SuperTrend Downtrend",
         "showlegend": false,
         "type": "scatter",
         "x": [
          "2023-05-09T11:43:00",
          "2023-05-09T11:44:00"
         ],
         "y": [
          149.05095608505735,
          149.05095608505735
         ]
        },
        {
         "line": {
          "color": "red"
         },
         "mode": "lines",
         "name": "SuperTrend Downtrend",
         "showlegend": false,
         "type": "scatter",
         "x": [
          "2023-05-09T11:44:00",
          "2023-05-09T11:45:00"
         ],
         "y": [
          149.05095608505735,
          149.05095608505735
         ]
        },
        {
         "line": {
          "color": "red"
         },
         "mode": "lines",
         "name": "SuperTrend Downtrend",
         "showlegend": false,
         "type": "scatter",
         "x": [
          "2023-05-09T11:45:00",
          "2023-05-09T11:46:00"
         ],
         "y": [
          149.05095608505735,
          149.05095608505735
         ]
        },
        {
         "line": {
          "color": "red"
         },
         "mode": "lines",
         "name": "SuperTrend Downtrend",
         "showlegend": false,
         "type": "scatter",
         "x": [
          "2023-05-09T11:46:00",
          "2023-05-09T11:47:00"
         ],
         "y": [
          149.05095608505735,
          149.05095608505735
         ]
        },
        {
         "line": {
          "color": "red"
         },
         "mode": "lines",
         "name": "SuperTrend Downtrend",
         "showlegend": false,
         "type": "scatter",
         "x": [
          "2023-05-09T11:47:00",
          "2023-05-09T11:48:00"
         ],
         "y": [
          149.05095608505735,
          149.05095608505735
         ]
        },
        {
         "line": {
          "color": "red"
         },
         "mode": "lines",
         "name": "SuperTrend Downtrend",
         "showlegend": false,
         "type": "scatter",
         "x": [
          "2023-05-09T11:48:00",
          "2023-05-09T11:49:00"
         ],
         "y": [
          149.05095608505735,
          149.05095608505735
         ]
        },
        {
         "line": {
          "color": "red"
         },
         "mode": "lines",
         "name": "SuperTrend Downtrend",
         "showlegend": false,
         "type": "scatter",
         "x": [
          "2023-05-09T11:49:00",
          "2023-05-09T11:50:00"
         ],
         "y": [
          149.05095608505735,
          149.05095608505735
         ]
        },
        {
         "line": {
          "color": "red"
         },
         "mode": "lines",
         "name": "SuperTrend Downtrend",
         "showlegend": false,
         "type": "scatter",
         "x": [
          "2023-05-09T11:50:00",
          "2023-05-09T11:51:00"
         ],
         "y": [
          149.05095608505735,
          149.05095608505735
         ]
        },
        {
         "line": {
          "color": "red"
         },
         "mode": "lines",
         "name": "SuperTrend Downtrend",
         "showlegend": false,
         "type": "scatter",
         "x": [
          "2023-05-09T11:51:00",
          "2023-05-09T11:52:00"
         ],
         "y": [
          149.05095608505735,
          149.05095608505735
         ]
        },
        {
         "line": {
          "color": "red"
         },
         "mode": "lines",
         "name": "SuperTrend Downtrend",
         "showlegend": false,
         "type": "scatter",
         "x": [
          "2023-05-09T11:52:00",
          "2023-05-09T11:53:00"
         ],
         "y": [
          149.05095608505735,
          149.05095608505735
         ]
        },
        {
         "line": {
          "color": "red"
         },
         "mode": "lines",
         "name": "SuperTrend Downtrend",
         "showlegend": false,
         "type": "scatter",
         "x": [
          "2023-05-09T11:53:00",
          "2023-05-09T11:54:00"
         ],
         "y": [
          149.05095608505735,
          149.05095608505735
         ]
        },
        {
         "line": {
          "color": "red"
         },
         "mode": "lines",
         "name": "SuperTrend Downtrend",
         "showlegend": false,
         "type": "scatter",
         "x": [
          "2023-05-09T11:54:00",
          "2023-05-09T11:55:00"
         ],
         "y": [
          149.05095608505735,
          149.05095608505735
         ]
        },
        {
         "line": {
          "color": "red"
         },
         "mode": "lines",
         "name": "SuperTrend Downtrend",
         "showlegend": false,
         "type": "scatter",
         "x": [
          "2023-05-09T11:55:00",
          "2023-05-09T11:56:00"
         ],
         "y": [
          149.05095608505735,
          149.05095608505735
         ]
        },
        {
         "line": {
          "color": "red"
         },
         "mode": "lines",
         "name": "SuperTrend Downtrend",
         "showlegend": false,
         "type": "scatter",
         "x": [
          "2023-05-09T11:56:00",
          "2023-05-09T11:57:00"
         ],
         "y": [
          149.05095608505735,
          149.05095608505735
         ]
        },
        {
         "line": {
          "color": "red"
         },
         "mode": "lines",
         "name": "SuperTrend Downtrend",
         "showlegend": false,
         "type": "scatter",
         "x": [
          "2023-05-09T11:57:00",
          "2023-05-09T11:58:00"
         ],
         "y": [
          149.05095608505735,
          149.05095608505735
         ]
        },
        {
         "line": {
          "color": "red"
         },
         "mode": "lines",
         "name": "SuperTrend Downtrend",
         "showlegend": false,
         "type": "scatter",
         "x": [
          "2023-05-09T11:58:00",
          "2023-05-09T11:59:00"
         ],
         "y": [
          149.05095608505735,
          149.05095608505735
         ]
        },
        {
         "line": {
          "color": "red"
         },
         "mode": "lines",
         "name": "SuperTrend Downtrend",
         "showlegend": false,
         "type": "scatter",
         "x": [
          "2023-05-09T11:59:00",
          "2023-05-09T12:00:00"
         ],
         "y": [
          149.05095608505735,
          149.05095608505735
         ]
        },
        {
         "line": {
          "color": "red"
         },
         "mode": "lines",
         "name": "SuperTrend Downtrend",
         "showlegend": false,
         "type": "scatter",
         "x": [
          "2023-05-09T12:00:00",
          "2023-05-09T12:01:00"
         ],
         "y": [
          149.05095608505735,
          149.05095608505735
         ]
        },
        {
         "line": {
          "color": "red"
         },
         "mode": "lines",
         "name": "SuperTrend Downtrend",
         "showlegend": false,
         "type": "scatter",
         "x": [
          "2023-05-09T12:01:00",
          "2023-05-09T12:02:00"
         ],
         "y": [
          149.05095608505735,
          149.05095608505735
         ]
        },
        {
         "line": {
          "color": "red"
         },
         "mode": "lines",
         "name": "SuperTrend Downtrend",
         "showlegend": false,
         "type": "scatter",
         "x": [
          "2023-05-09T12:02:00",
          "2023-05-09T12:03:00"
         ],
         "y": [
          149.05095608505735,
          149.05095608505735
         ]
        },
        {
         "line": {
          "color": "red"
         },
         "mode": "lines",
         "name": "SuperTrend Downtrend",
         "showlegend": false,
         "type": "scatter",
         "x": [
          "2023-05-09T12:03:00",
          "2023-05-09T12:04:00"
         ],
         "y": [
          149.05095608505735,
          149.05095608505735
         ]
        },
        {
         "line": {
          "color": "red"
         },
         "mode": "lines",
         "name": "SuperTrend Downtrend",
         "showlegend": false,
         "type": "scatter",
         "x": [
          "2023-05-09T12:04:00",
          "2023-05-09T12:05:00"
         ],
         "y": [
          149.05095608505735,
          149.05095608505735
         ]
        },
        {
         "line": {
          "color": "red"
         },
         "mode": "lines",
         "name": "SuperTrend Downtrend",
         "showlegend": false,
         "type": "scatter",
         "x": [
          "2023-05-09T12:05:00",
          "2023-05-09T12:06:00"
         ],
         "y": [
          149.05095608505735,
          149.05095608505735
         ]
        },
        {
         "line": {
          "color": "red"
         },
         "mode": "lines",
         "name": "SuperTrend Downtrend",
         "showlegend": false,
         "type": "scatter",
         "x": [
          "2023-05-09T12:06:00",
          "2023-05-09T12:07:00"
         ],
         "y": [
          149.05095608505735,
          148.1718600224831
         ]
        },
        {
         "line": {
          "color": "red"
         },
         "mode": "lines",
         "name": "SuperTrend Downtrend",
         "showlegend": false,
         "type": "scatter",
         "x": [
          "2023-05-09T12:07:00",
          "2023-05-09T12:08:00"
         ],
         "y": [
          148.1718600224831,
          147.84843001124153
         ]
        },
        {
         "line": {
          "color": "red"
         },
         "mode": "lines",
         "name": "SuperTrend Downtrend",
         "showlegend": false,
         "type": "scatter",
         "x": [
          "2023-05-09T12:08:00",
          "2023-05-09T12:09:00"
         ],
         "y": [
          147.84843001124153,
          147.74921500562087
         ]
        },
        {
         "line": {
          "color": "red"
         },
         "mode": "lines",
         "name": "SuperTrend Downtrend",
         "showlegend": false,
         "type": "scatter",
         "x": [
          "2023-05-09T12:09:00",
          "2023-05-09T12:10:00"
         ],
         "y": [
          147.74921500562087,
          147.74921500562087
         ]
        },
        {
         "line": {
          "color": "red"
         },
         "mode": "lines",
         "name": "SuperTrend Downtrend",
         "showlegend": false,
         "type": "scatter",
         "x": [
          "2023-05-09T12:10:00",
          "2023-05-09T12:11:00"
         ],
         "y": [
          147.74921500562087,
          147.74921500562087
         ]
        },
        {
         "line": {
          "color": "red"
         },
         "mode": "lines",
         "name": "SuperTrend Downtrend",
         "showlegend": false,
         "type": "scatter",
         "x": [
          "2023-05-09T12:11:00",
          "2023-05-09T12:12:00"
         ],
         "y": [
          147.74921500562087,
          147.74921500562087
         ]
        },
        {
         "line": {
          "color": "red"
         },
         "mode": "lines",
         "name": "SuperTrend Downtrend",
         "showlegend": false,
         "type": "scatter",
         "x": [
          "2023-05-09T12:12:00",
          "2023-05-09T12:13:00"
         ],
         "y": [
          147.74921500562087,
          147.74921500562087
         ]
        },
        {
         "line": {
          "color": "red"
         },
         "mode": "lines",
         "name": "SuperTrend Downtrend",
         "showlegend": false,
         "type": "scatter",
         "x": [
          "2023-05-09T12:13:00",
          "2023-05-09T12:14:00"
         ],
         "y": [
          147.74921500562087,
          147.55622546892562
         ]
        },
        {
         "line": {
          "color": "red"
         },
         "mode": "lines",
         "name": "SuperTrend Downtrend",
         "showlegend": false,
         "type": "scatter",
         "x": [
          "2023-05-09T12:14:00",
          "2023-05-09T12:15:00"
         ],
         "y": [
          147.55622546892562,
          147.55622546892562
         ]
        },
        {
         "line": {
          "color": "red"
         },
         "mode": "lines",
         "name": "SuperTrend Downtrend",
         "showlegend": false,
         "type": "scatter",
         "x": [
          "2023-05-09T12:15:00",
          "2023-05-09T12:16:00"
         ],
         "y": [
          147.55622546892562,
          147.55622546892562
         ]
        },
        {
         "line": {
          "color": "red"
         },
         "mode": "lines",
         "name": "SuperTrend Downtrend",
         "showlegend": false,
         "type": "scatter",
         "x": [
          "2023-05-09T12:16:00",
          "2023-05-09T12:17:00"
         ],
         "y": [
          147.55622546892562,
          147.55622546892562
         ]
        },
        {
         "line": {
          "color": "red"
         },
         "mode": "lines",
         "name": "SuperTrend Downtrend",
         "showlegend": false,
         "type": "scatter",
         "x": [
          "2023-05-09T12:17:00",
          "2023-05-09T12:18:00"
         ],
         "y": [
          147.55622546892562,
          147.55622546892562
         ]
        },
        {
         "line": {
          "color": "red"
         },
         "mode": "lines",
         "name": "SuperTrend Downtrend",
         "showlegend": false,
         "type": "scatter",
         "x": [
          "2023-05-09T12:18:00",
          "2023-05-09T12:19:00"
         ],
         "y": [
          147.55622546892562,
          145.75722579590396
         ]
        },
        {
         "line": {
          "color": "red"
         },
         "mode": "lines",
         "name": "SuperTrend Downtrend",
         "showlegend": false,
         "type": "scatter",
         "x": [
          "2023-05-09T12:19:00",
          "2023-05-09T12:20:00"
         ],
         "y": [
          145.75722579590396,
          145.75722579590396
         ]
        },
        {
         "line": {
          "color": "red"
         },
         "mode": "lines",
         "name": "SuperTrend Downtrend",
         "showlegend": false,
         "type": "scatter",
         "x": [
          "2023-05-09T12:20:00",
          "2023-05-09T12:21:00"
         ],
         "y": [
          145.75722579590396,
          143.808056448976
         ]
        },
        {
         "line": {
          "color": "red"
         },
         "mode": "lines",
         "name": "SuperTrend Downtrend",
         "showlegend": false,
         "type": "scatter",
         "x": [
          "2023-05-09T12:21:00",
          "2023-05-09T12:22:00"
         ],
         "y": [
          143.808056448976,
          143.808056448976
         ]
        },
        {
         "line": {
          "color": "red"
         },
         "mode": "lines",
         "name": "SuperTrend Downtrend",
         "showlegend": false,
         "type": "scatter",
         "x": [
          "2023-05-09T12:22:00",
          "2023-05-09T12:23:00"
         ],
         "y": [
          143.808056448976,
          143.808056448976
         ]
        },
        {
         "line": {
          "color": "red"
         },
         "mode": "lines",
         "name": "SuperTrend Downtrend",
         "showlegend": false,
         "type": "scatter",
         "x": [
          "2023-05-09T12:23:00",
          "2023-05-09T12:24:00"
         ],
         "y": [
          143.808056448976,
          143.808056448976
         ]
        },
        {
         "line": {
          "color": "red"
         },
         "mode": "lines",
         "name": "SuperTrend Downtrend",
         "showlegend": false,
         "type": "scatter",
         "x": [
          "2023-05-09T12:24:00",
          "2023-05-09T12:25:00"
         ],
         "y": [
          143.808056448976,
          143.808056448976
         ]
        },
        {
         "line": {
          "color": "red"
         },
         "mode": "lines",
         "name": "SuperTrend Downtrend",
         "showlegend": false,
         "type": "scatter",
         "x": [
          "2023-05-09T12:25:00",
          "2023-05-09T12:26:00"
         ],
         "y": [
          143.808056448976,
          143.808056448976
         ]
        },
        {
         "line": {
          "color": "red"
         },
         "mode": "lines",
         "name": "SuperTrend Downtrend",
         "showlegend": false,
         "type": "scatter",
         "x": [
          "2023-05-09T12:26:00",
          "2023-05-09T12:27:00"
         ],
         "y": [
          143.808056448976,
          143.808056448976
         ]
        },
        {
         "line": {
          "color": "red"
         },
         "mode": "lines",
         "name": "SuperTrend Downtrend",
         "showlegend": false,
         "type": "scatter",
         "x": [
          "2023-05-09T12:27:00",
          "2023-05-09T12:28:00"
         ],
         "y": [
          143.808056448976,
          143.808056448976
         ]
        },
        {
         "line": {
          "color": "red"
         },
         "mode": "lines",
         "name": "SuperTrend Downtrend",
         "showlegend": false,
         "type": "scatter",
         "x": [
          "2023-05-09T12:28:00",
          "2023-05-09T12:29:00"
         ],
         "y": [
          143.808056448976,
          143.808056448976
         ]
        },
        {
         "line": {
          "color": "red"
         },
         "mode": "lines",
         "name": "SuperTrend Downtrend",
         "showlegend": false,
         "type": "scatter",
         "x": [
          "2023-05-09T12:29:00",
          "2023-05-09T12:30:00"
         ],
         "y": [
          143.808056448976,
          143.808056448976
         ]
        },
        {
         "line": {
          "color": "red"
         },
         "mode": "lines",
         "name": "SuperTrend Downtrend",
         "showlegend": false,
         "type": "scatter",
         "x": [
          "2023-05-09T12:30:00",
          "2023-05-09T12:31:00"
         ],
         "y": [
          143.808056448976,
          143.808056448976
         ]
        },
        {
         "line": {
          "color": "red"
         },
         "mode": "lines",
         "name": "SuperTrend Downtrend",
         "showlegend": false,
         "type": "scatter",
         "x": [
          "2023-05-09T12:31:00",
          "2023-05-09T12:32:00"
         ],
         "y": [
          143.808056448976,
          143.808056448976
         ]
        },
        {
         "line": {
          "color": "red"
         },
         "mode": "lines",
         "name": "SuperTrend Downtrend",
         "showlegend": false,
         "type": "scatter",
         "x": [
          "2023-05-09T12:32:00",
          "2023-05-09T12:33:00"
         ],
         "y": [
          143.808056448976,
          143.808056448976
         ]
        },
        {
         "line": {
          "color": "red"
         },
         "mode": "lines",
         "name": "SuperTrend Downtrend",
         "showlegend": false,
         "type": "scatter",
         "x": [
          "2023-05-09T12:33:00",
          "2023-05-09T12:34:00"
         ],
         "y": [
          143.808056448976,
          143.808056448976
         ]
        },
        {
         "line": {
          "color": "red"
         },
         "mode": "lines",
         "name": "SuperTrend Downtrend",
         "showlegend": false,
         "type": "scatter",
         "x": [
          "2023-05-09T12:34:00",
          "2023-05-09T12:35:00"
         ],
         "y": [
          143.808056448976,
          143.808056448976
         ]
        },
        {
         "line": {
          "color": "red"
         },
         "mode": "lines",
         "name": "SuperTrend Downtrend",
         "showlegend": false,
         "type": "scatter",
         "x": [
          "2023-05-09T12:35:00",
          "2023-05-09T12:36:00"
         ],
         "y": [
          143.808056448976,
          143.808056448976
         ]
        },
        {
         "line": {
          "color": "red"
         },
         "mode": "lines",
         "name": "SuperTrend Downtrend",
         "showlegend": false,
         "type": "scatter",
         "x": [
          "2023-05-09T12:36:00",
          "2023-05-09T12:37:00"
         ],
         "y": [
          143.808056448976,
          143.808056448976
         ]
        },
        {
         "line": {
          "color": "red"
         },
         "mode": "lines",
         "name": "SuperTrend Downtrend",
         "showlegend": false,
         "type": "scatter",
         "x": [
          "2023-05-09T12:37:00",
          "2023-05-09T12:38:00"
         ],
         "y": [
          143.808056448976,
          143.808056448976
         ]
        },
        {
         "line": {
          "color": "red"
         },
         "mode": "lines",
         "name": "SuperTrend Downtrend",
         "showlegend": false,
         "type": "scatter",
         "x": [
          "2023-05-09T12:38:00",
          "2023-05-09T12:39:00"
         ],
         "y": [
          143.808056448976,
          143.808056448976
         ]
        },
        {
         "line": {
          "color": "red"
         },
         "mode": "lines",
         "name": "SuperTrend Downtrend",
         "showlegend": false,
         "type": "scatter",
         "x": [
          "2023-05-09T12:39:00",
          "2023-05-09T12:40:00"
         ],
         "y": [
          143.808056448976,
          143.808056448976
         ]
        },
        {
         "line": {
          "color": "red"
         },
         "mode": "lines",
         "name": "SuperTrend Downtrend",
         "showlegend": false,
         "type": "scatter",
         "x": [
          "2023-05-09T12:40:00",
          "2023-05-09T12:41:00"
         ],
         "y": [
          143.808056448976,
          143.808056448976
         ]
        },
        {
         "line": {
          "color": "red"
         },
         "mode": "lines",
         "name": "SuperTrend Downtrend",
         "showlegend": false,
         "type": "scatter",
         "x": [
          "2023-05-09T12:41:00",
          "2023-05-09T12:42:00"
         ],
         "y": [
          143.808056448976,
          143.808056448976
         ]
        },
        {
         "line": {
          "color": "red"
         },
         "mode": "lines",
         "name": "SuperTrend Downtrend",
         "showlegend": false,
         "type": "scatter",
         "x": [
          "2023-05-09T12:42:00",
          "2023-05-09T12:43:00"
         ],
         "y": [
          143.808056448976,
          143.808056448976
         ]
        },
        {
         "line": {
          "color": "red"
         },
         "mode": "lines",
         "name": "SuperTrend Downtrend",
         "showlegend": false,
         "type": "scatter",
         "x": [
          "2023-05-09T12:43:00",
          "2023-05-09T12:44:00"
         ],
         "y": [
          143.808056448976,
          143.808056448976
         ]
        },
        {
         "line": {
          "color": "red"
         },
         "mode": "lines",
         "name": "SuperTrend Downtrend",
         "showlegend": false,
         "type": "scatter",
         "x": [
          "2023-05-09T12:44:00",
          "2023-05-09T12:45:00"
         ],
         "y": [
          143.808056448976,
          143.808056448976
         ]
        },
        {
         "line": {
          "color": "red"
         },
         "mode": "lines",
         "name": "SuperTrend Downtrend",
         "showlegend": false,
         "type": "scatter",
         "x": [
          "2023-05-09T12:45:00",
          "2023-05-09T12:46:00"
         ],
         "y": [
          143.808056448976,
          143.808056448976
         ]
        },
        {
         "line": {
          "color": "red"
         },
         "mode": "lines",
         "name": "SuperTrend Downtrend",
         "showlegend": false,
         "type": "scatter",
         "x": [
          "2023-05-09T12:46:00",
          "2023-05-09T12:47:00"
         ],
         "y": [
          143.808056448976,
          142.9274742205896
         ]
        },
        {
         "line": {
          "color": "red"
         },
         "mode": "lines",
         "name": "SuperTrend Downtrend",
         "showlegend": false,
         "type": "scatter",
         "x": [
          "2023-05-09T12:47:00",
          "2023-05-09T12:48:00"
         ],
         "y": [
          142.9274742205896,
          142.9274742205896
         ]
        },
        {
         "line": {
          "color": "red"
         },
         "mode": "lines",
         "name": "SuperTrend Downtrend",
         "showlegend": false,
         "type": "scatter",
         "x": [
          "2023-05-09T12:48:00",
          "2023-05-09T12:49:00"
         ],
         "y": [
          142.9274742205896,
          142.9274742205896
         ]
        },
        {
         "line": {
          "color": "red"
         },
         "mode": "lines",
         "name": "SuperTrend Downtrend",
         "showlegend": false,
         "type": "scatter",
         "x": [
          "2023-05-09T12:49:00",
          "2023-05-09T12:50:00"
         ],
         "y": [
          142.9274742205896,
          142.9274742205896
         ]
        },
        {
         "line": {
          "color": "red"
         },
         "mode": "lines",
         "name": "SuperTrend Downtrend",
         "showlegend": false,
         "type": "scatter",
         "x": [
          "2023-05-09T12:50:00",
          "2023-05-09T12:51:00"
         ],
         "y": [
          142.9274742205896,
          142.9274742205896
         ]
        },
        {
         "line": {
          "color": "red"
         },
         "mode": "lines",
         "name": "SuperTrend Downtrend",
         "showlegend": false,
         "type": "scatter",
         "x": [
          "2023-05-09T12:51:00",
          "2023-05-09T12:52:00"
         ],
         "y": [
          142.9274742205896,
          142.9274742205896
         ]
        },
        {
         "line": {
          "color": "red"
         },
         "mode": "lines",
         "name": "SuperTrend Downtrend",
         "showlegend": false,
         "type": "scatter",
         "x": [
          "2023-05-09T12:52:00",
          "2023-05-09T12:53:00"
         ],
         "y": [
          142.9274742205896,
          142.9274742205896
         ]
        },
        {
         "line": {
          "color": "red"
         },
         "mode": "lines",
         "name": "SuperTrend Downtrend",
         "showlegend": false,
         "type": "scatter",
         "x": [
          "2023-05-09T12:53:00",
          "2023-05-09T12:54:00"
         ],
         "y": [
          142.9274742205896,
          142.9274742205896
         ]
        },
        {
         "line": {
          "color": "red"
         },
         "mode": "lines",
         "name": "SuperTrend Downtrend",
         "showlegend": false,
         "type": "scatter",
         "x": [
          "2023-05-09T12:54:00",
          "2023-05-09T12:55:00"
         ],
         "y": [
          142.9274742205896,
          142.9274742205896
         ]
        },
        {
         "line": {
          "color": "red"
         },
         "mode": "lines",
         "name": "SuperTrend Downtrend",
         "showlegend": false,
         "type": "scatter",
         "x": [
          "2023-05-09T12:55:00",
          "2023-05-09T12:56:00"
         ],
         "y": [
          142.9274742205896,
          142.9274742205896
         ]
        },
        {
         "line": {
          "color": "red"
         },
         "mode": "lines",
         "name": "SuperTrend Downtrend",
         "showlegend": false,
         "type": "scatter",
         "x": [
          "2023-05-09T12:56:00",
          "2023-05-09T12:57:00"
         ],
         "y": [
          142.9274742205896,
          142.9274742205896
         ]
        },
        {
         "line": {
          "color": "red"
         },
         "mode": "lines",
         "name": "SuperTrend Downtrend",
         "showlegend": false,
         "type": "scatter",
         "x": [
          "2023-05-09T12:57:00",
          "2023-05-09T12:58:00"
         ],
         "y": [
          142.9274742205896,
          142.9274742205896
         ]
        },
        {
         "line": {
          "color": "red"
         },
         "mode": "lines",
         "name": "SuperTrend Downtrend",
         "showlegend": false,
         "type": "scatter",
         "x": [
          "2023-05-09T12:58:00",
          "2023-05-09T12:59:00"
         ],
         "y": [
          142.9274742205896,
          142.9274742205896
         ]
        },
        {
         "line": {
          "color": "red"
         },
         "mode": "lines",
         "name": "SuperTrend Downtrend",
         "showlegend": false,
         "type": "scatter",
         "x": [
          "2023-05-09T12:59:00",
          "2023-05-09T13:00:00"
         ],
         "y": [
          142.9274742205896,
          142.9274742205896
         ]
        },
        {
         "line": {
          "color": "red"
         },
         "mode": "lines",
         "name": "SuperTrend Downtrend",
         "showlegend": false,
         "type": "scatter",
         "x": [
          "2023-05-09T13:00:00",
          "2023-05-09T13:01:00"
         ],
         "y": [
          142.9274742205896,
          142.9274742205896
         ]
        },
        {
         "line": {
          "color": "red"
         },
         "mode": "lines",
         "name": "SuperTrend Downtrend",
         "showlegend": false,
         "type": "scatter",
         "x": [
          "2023-05-09T13:01:00",
          "2023-05-09T13:02:00"
         ],
         "y": [
          142.9274742205896,
          142.9274742205896
         ]
        },
        {
         "line": {
          "color": "red"
         },
         "mode": "lines",
         "name": "SuperTrend Downtrend",
         "showlegend": false,
         "type": "scatter",
         "x": [
          "2023-05-09T13:02:00",
          "2023-05-09T13:03:00"
         ],
         "y": [
          142.9274742205896,
          142.9274742205896
         ]
        },
        {
         "line": {
          "color": "red"
         },
         "mode": "lines",
         "name": "SuperTrend Downtrend",
         "showlegend": false,
         "type": "scatter",
         "x": [
          "2023-05-09T13:03:00",
          "2023-05-09T13:04:00"
         ],
         "y": [
          142.9274742205896,
          142.9274742205896
         ]
        },
        {
         "line": {
          "color": "red"
         },
         "mode": "lines",
         "name": "SuperTrend Downtrend",
         "showlegend": false,
         "type": "scatter",
         "x": [
          "2023-05-09T13:04:00",
          "2023-05-09T13:05:00"
         ],
         "y": [
          142.9274742205896,
          142.9274742205896
         ]
        },
        {
         "line": {
          "color": "red"
         },
         "mode": "lines",
         "name": "SuperTrend Downtrend",
         "showlegend": false,
         "type": "scatter",
         "x": [
          "2023-05-09T13:05:00",
          "2023-05-09T13:06:00"
         ],
         "y": [
          142.9274742205896,
          142.9274742205896
         ]
        },
        {
         "line": {
          "color": "red"
         },
         "mode": "lines",
         "name": "SuperTrend Downtrend",
         "showlegend": false,
         "type": "scatter",
         "x": [
          "2023-05-09T13:06:00",
          "2023-05-09T13:07:00"
         ],
         "y": [
          142.9274742205896,
          142.9274742205896
         ]
        },
        {
         "line": {
          "color": "red"
         },
         "mode": "lines",
         "name": "SuperTrend Downtrend",
         "showlegend": false,
         "type": "scatter",
         "x": [
          "2023-05-09T13:07:00",
          "2023-05-09T13:08:00"
         ],
         "y": [
          142.9274742205896,
          142.9274742205896
         ]
        },
        {
         "line": {
          "color": "red"
         },
         "mode": "lines",
         "name": "SuperTrend Downtrend",
         "showlegend": false,
         "type": "scatter",
         "x": [
          "2023-05-09T13:08:00",
          "2023-05-09T13:09:00"
         ],
         "y": [
          142.9274742205896,
          142.9274742205896
         ]
        },
        {
         "line": {
          "color": "red"
         },
         "mode": "lines",
         "name": "SuperTrend Downtrend",
         "showlegend": false,
         "type": "scatter",
         "x": [
          "2023-05-09T13:09:00",
          "2023-05-09T13:10:00"
         ],
         "y": [
          142.9274742205896,
          142.9274742205896
         ]
        },
        {
         "line": {
          "color": "red"
         },
         "mode": "lines",
         "name": "SuperTrend Downtrend",
         "showlegend": false,
         "type": "scatter",
         "x": [
          "2023-05-09T13:10:00",
          "2023-05-09T13:11:00"
         ],
         "y": [
          142.9274742205896,
          142.9274742205896
         ]
        },
        {
         "line": {
          "color": "red"
         },
         "mode": "lines",
         "name": "SuperTrend Downtrend",
         "showlegend": false,
         "type": "scatter",
         "x": [
          "2023-05-09T13:11:00",
          "2023-05-09T13:12:00"
         ],
         "y": [
          142.9274742205896,
          142.9274742205896
         ]
        },
        {
         "line": {
          "color": "red"
         },
         "mode": "lines",
         "name": "SuperTrend Downtrend",
         "showlegend": false,
         "type": "scatter",
         "x": [
          "2023-05-09T13:12:00",
          "2023-05-09T13:13:00"
         ],
         "y": [
          142.9274742205896,
          142.9274742205896
         ]
        },
        {
         "line": {
          "color": "red"
         },
         "mode": "lines",
         "name": "SuperTrend Downtrend",
         "showlegend": false,
         "type": "scatter",
         "x": [
          "2023-05-09T13:13:00",
          "2023-05-09T13:14:00"
         ],
         "y": [
          142.9274742205896,
          142.9274742205896
         ]
        },
        {
         "line": {
          "color": "red"
         },
         "mode": "lines",
         "name": "SuperTrend Downtrend",
         "showlegend": false,
         "type": "scatter",
         "x": [
          "2023-05-09T13:14:00",
          "2023-05-09T13:15:00"
         ],
         "y": [
          142.9274742205896,
          142.9274742205896
         ]
        },
        {
         "line": {
          "color": "red"
         },
         "mode": "lines",
         "name": "SuperTrend Downtrend",
         "showlegend": false,
         "type": "scatter",
         "x": [
          "2023-05-09T13:15:00",
          "2023-05-09T13:16:00"
         ],
         "y": [
          142.9274742205896,
          142.9274742205896
         ]
        },
        {
         "line": {
          "color": "red"
         },
         "mode": "lines",
         "name": "SuperTrend Downtrend",
         "showlegend": false,
         "type": "scatter",
         "x": [
          "2023-05-09T13:16:00",
          "2023-05-09T13:17:00"
         ],
         "y": [
          142.9274742205896,
          142.9274742205896
         ]
        },
        {
         "line": {
          "color": "red"
         },
         "mode": "lines",
         "name": "SuperTrend Downtrend",
         "showlegend": false,
         "type": "scatter",
         "x": [
          "2023-05-09T13:17:00",
          "2023-05-09T13:18:00"
         ],
         "y": [
          142.9274742205896,
          142.9274742205896
         ]
        },
        {
         "line": {
          "color": "red"
         },
         "mode": "lines",
         "name": "SuperTrend Downtrend",
         "showlegend": false,
         "type": "scatter",
         "x": [
          "2023-05-09T13:18:00",
          "2023-05-09T13:19:00"
         ],
         "y": [
          142.9274742205896,
          142.9274742205896
         ]
        },
        {
         "line": {
          "color": "red"
         },
         "mode": "lines",
         "name": "SuperTrend Downtrend",
         "showlegend": false,
         "type": "scatter",
         "x": [
          "2023-05-09T13:19:00",
          "2023-05-09T13:20:00"
         ],
         "y": [
          142.9274742205896,
          142.9274742205896
         ]
        },
        {
         "line": {
          "color": "red"
         },
         "mode": "lines",
         "name": "SuperTrend Downtrend",
         "showlegend": false,
         "type": "scatter",
         "x": [
          "2023-05-09T13:20:00",
          "2023-05-09T13:21:00"
         ],
         "y": [
          142.9274742205896,
          142.9274742205896
         ]
        },
        {
         "line": {
          "color": "red"
         },
         "mode": "lines",
         "name": "SuperTrend Downtrend",
         "showlegend": false,
         "type": "scatter",
         "x": [
          "2023-05-09T13:21:00",
          "2023-05-09T13:22:00"
         ],
         "y": [
          142.9274742205896,
          142.9274742205896
         ]
        },
        {
         "line": {
          "color": "red"
         },
         "mode": "lines",
         "name": "SuperTrend Downtrend",
         "showlegend": false,
         "type": "scatter",
         "x": [
          "2023-05-09T13:22:00",
          "2023-05-09T13:23:00"
         ],
         "y": [
          142.9274742205896,
          142.9274742205896
         ]
        },
        {
         "line": {
          "color": "red"
         },
         "mode": "lines",
         "name": "SuperTrend Downtrend",
         "showlegend": false,
         "type": "scatter",
         "x": [
          "2023-05-09T13:23:00",
          "2023-05-09T13:24:00"
         ],
         "y": [
          142.9274742205896,
          142.9274742205896
         ]
        },
        {
         "line": {
          "color": "red"
         },
         "mode": "lines",
         "name": "SuperTrend Downtrend",
         "showlegend": false,
         "type": "scatter",
         "x": [
          "2023-05-09T13:24:00",
          "2023-05-09T13:25:00"
         ],
         "y": [
          142.9274742205896,
          142.9274742205896
         ]
        },
        {
         "line": {
          "color": "red"
         },
         "mode": "lines",
         "name": "SuperTrend Downtrend",
         "showlegend": false,
         "type": "scatter",
         "x": [
          "2023-05-09T13:25:00",
          "2023-05-09T13:26:00"
         ],
         "y": [
          142.9274742205896,
          142.9274742205896
         ]
        },
        {
         "line": {
          "color": "red"
         },
         "mode": "lines",
         "name": "SuperTrend Downtrend",
         "showlegend": false,
         "type": "scatter",
         "x": [
          "2023-05-09T13:26:00",
          "2023-05-09T13:27:00"
         ],
         "y": [
          142.9274742205896,
          142.9274742205896
         ]
        },
        {
         "line": {
          "color": "red"
         },
         "mode": "lines",
         "name": "SuperTrend Downtrend",
         "showlegend": false,
         "type": "scatter",
         "x": [
          "2023-05-09T13:27:00",
          "2023-05-09T13:28:00"
         ],
         "y": [
          142.9274742205896,
          142.9274742205896
         ]
        },
        {
         "line": {
          "color": "red"
         },
         "mode": "lines",
         "name": "SuperTrend Downtrend",
         "showlegend": false,
         "type": "scatter",
         "x": [
          "2023-05-09T13:28:00",
          "2023-05-09T13:29:00"
         ],
         "y": [
          142.9274742205896,
          142.9274742205896
         ]
        },
        {
         "line": {
          "color": "red"
         },
         "mode": "lines",
         "name": "SuperTrend Downtrend",
         "showlegend": false,
         "type": "scatter",
         "x": [
          "2023-05-09T13:29:00",
          "2023-05-09T13:30:00"
         ],
         "y": [
          142.9274742205896,
          142.9274742205896
         ]
        },
        {
         "line": {
          "color": "red"
         },
         "mode": "lines",
         "name": "SuperTrend Downtrend",
         "showlegend": false,
         "type": "scatter",
         "x": [
          "2023-05-09T13:30:00",
          "2023-05-09T13:31:00"
         ],
         "y": [
          142.9274742205896,
          142.9274742205896
         ]
        },
        {
         "line": {
          "color": "red"
         },
         "mode": "lines",
         "name": "SuperTrend Downtrend",
         "showlegend": false,
         "type": "scatter",
         "x": [
          "2023-05-09T13:31:00",
          "2023-05-09T13:32:00"
         ],
         "y": [
          142.9274742205896,
          142.9274742205896
         ]
        },
        {
         "line": {
          "color": "red"
         },
         "mode": "lines",
         "name": "SuperTrend Downtrend",
         "showlegend": false,
         "type": "scatter",
         "x": [
          "2023-05-09T13:32:00",
          "2023-05-09T13:33:00"
         ],
         "y": [
          142.9274742205896,
          142.9274742205896
         ]
        },
        {
         "line": {
          "color": "red"
         },
         "mode": "lines",
         "name": "SuperTrend Downtrend",
         "showlegend": false,
         "type": "scatter",
         "x": [
          "2023-05-09T13:33:00",
          "2023-05-09T13:34:00"
         ],
         "y": [
          142.9274742205896,
          142.9274742205896
         ]
        },
        {
         "line": {
          "color": "red"
         },
         "mode": "lines",
         "name": "SuperTrend Downtrend",
         "showlegend": false,
         "type": "scatter",
         "x": [
          "2023-05-09T13:34:00",
          "2023-05-09T13:35:00"
         ],
         "y": [
          142.9274742205896,
          142.9274742205896
         ]
        },
        {
         "line": {
          "color": "red"
         },
         "mode": "lines",
         "name": "SuperTrend Downtrend",
         "showlegend": false,
         "type": "scatter",
         "x": [
          "2023-05-09T13:35:00",
          "2023-05-09T13:36:00"
         ],
         "y": [
          142.9274742205896,
          142.9274742205896
         ]
        },
        {
         "line": {
          "color": "red"
         },
         "mode": "lines",
         "name": "SuperTrend Downtrend",
         "showlegend": false,
         "type": "scatter",
         "x": [
          "2023-05-09T13:36:00",
          "2023-05-09T13:37:00"
         ],
         "y": [
          142.9274742205896,
          142.9274742205896
         ]
        },
        {
         "line": {
          "color": "red"
         },
         "mode": "lines",
         "name": "SuperTrend Downtrend",
         "showlegend": false,
         "type": "scatter",
         "x": [
          "2023-05-09T13:37:00",
          "2023-05-09T13:38:00"
         ],
         "y": [
          142.9274742205896,
          142.9274742205896
         ]
        },
        {
         "line": {
          "color": "red"
         },
         "mode": "lines",
         "name": "SuperTrend Downtrend",
         "showlegend": false,
         "type": "scatter",
         "x": [
          "2023-05-09T13:38:00",
          "2023-05-09T13:39:00"
         ],
         "y": [
          142.9274742205896,
          142.9274742205896
         ]
        },
        {
         "line": {
          "color": "red"
         },
         "mode": "lines",
         "name": "SuperTrend Downtrend",
         "showlegend": false,
         "type": "scatter",
         "x": [
          "2023-05-09T13:39:00",
          "2023-05-09T13:40:00"
         ],
         "y": [
          142.9274742205896,
          142.9274742205896
         ]
        },
        {
         "line": {
          "color": "red"
         },
         "mode": "lines",
         "name": "SuperTrend Downtrend",
         "showlegend": false,
         "type": "scatter",
         "x": [
          "2023-05-09T13:40:00",
          "2023-05-09T13:41:00"
         ],
         "y": [
          142.9274742205896,
          142.9274742205896
         ]
        },
        {
         "line": {
          "color": "red"
         },
         "mode": "lines",
         "name": "SuperTrend Downtrend",
         "showlegend": false,
         "type": "scatter",
         "x": [
          "2023-05-09T13:41:00",
          "2023-05-09T13:42:00"
         ],
         "y": [
          142.9274742205896,
          142.9274742205896
         ]
        },
        {
         "line": {
          "color": "red"
         },
         "mode": "lines",
         "name": "SuperTrend Downtrend",
         "showlegend": false,
         "type": "scatter",
         "x": [
          "2023-05-09T13:42:00",
          "2023-05-09T13:43:00"
         ],
         "y": [
          142.9274742205896,
          142.9274742205896
         ]
        },
        {
         "line": {
          "color": "red"
         },
         "mode": "lines",
         "name": "SuperTrend Downtrend",
         "showlegend": false,
         "type": "scatter",
         "x": [
          "2023-05-09T13:43:00",
          "2023-05-09T13:44:00"
         ],
         "y": [
          142.9274742205896,
          142.9274742205896
         ]
        },
        {
         "line": {
          "color": "red"
         },
         "mode": "lines",
         "name": "SuperTrend Downtrend",
         "showlegend": false,
         "type": "scatter",
         "x": [
          "2023-05-09T13:44:00",
          "2023-05-09T13:45:00"
         ],
         "y": [
          142.9274742205896,
          142.9274742205896
         ]
        },
        {
         "line": {
          "color": "red"
         },
         "mode": "lines",
         "name": "SuperTrend Downtrend",
         "showlegend": false,
         "type": "scatter",
         "x": [
          "2023-05-09T13:45:00",
          "2023-05-09T13:46:00"
         ],
         "y": [
          142.9274742205896,
          142.9274742205896
         ]
        },
        {
         "line": {
          "color": "red"
         },
         "mode": "lines",
         "name": "SuperTrend Downtrend",
         "showlegend": false,
         "type": "scatter",
         "x": [
          "2023-05-09T13:46:00",
          "2023-05-09T13:47:00"
         ],
         "y": [
          142.9274742205896,
          142.9274742205896
         ]
        },
        {
         "line": {
          "color": "red"
         },
         "mode": "lines",
         "name": "SuperTrend Downtrend",
         "showlegend": false,
         "type": "scatter",
         "x": [
          "2023-05-09T13:47:00",
          "2023-05-09T13:48:00"
         ],
         "y": [
          142.9274742205896,
          142.9274742205896
         ]
        },
        {
         "line": {
          "color": "red"
         },
         "mode": "lines",
         "name": "SuperTrend Downtrend",
         "showlegend": false,
         "type": "scatter",
         "x": [
          "2023-05-09T13:48:00",
          "2023-05-09T13:49:00"
         ],
         "y": [
          142.9274742205896,
          142.9274742205896
         ]
        },
        {
         "line": {
          "color": "red"
         },
         "mode": "lines",
         "name": "SuperTrend Downtrend",
         "showlegend": false,
         "type": "scatter",
         "x": [
          "2023-05-09T13:49:00",
          "2023-05-09T13:50:00"
         ],
         "y": [
          142.9274742205896,
          142.9274742205896
         ]
        },
        {
         "line": {
          "color": "red"
         },
         "mode": "lines",
         "name": "SuperTrend Downtrend",
         "showlegend": false,
         "type": "scatter",
         "x": [
          "2023-05-09T13:50:00",
          "2023-05-09T13:51:00"
         ],
         "y": [
          142.9274742205896,
          142.9274742205896
         ]
        },
        {
         "line": {
          "color": "red"
         },
         "mode": "lines",
         "name": "SuperTrend Downtrend",
         "showlegend": false,
         "type": "scatter",
         "x": [
          "2023-05-09T13:51:00",
          "2023-05-09T13:52:00"
         ],
         "y": [
          142.9274742205896,
          142.9274742205896
         ]
        },
        {
         "line": {
          "color": "red"
         },
         "mode": "lines",
         "name": "SuperTrend Downtrend",
         "showlegend": false,
         "type": "scatter",
         "x": [
          "2023-05-09T13:52:00",
          "2023-05-09T13:53:00"
         ],
         "y": [
          142.9274742205896,
          142.9274742205896
         ]
        },
        {
         "line": {
          "color": "red"
         },
         "mode": "lines",
         "name": "SuperTrend Downtrend",
         "showlegend": false,
         "type": "scatter",
         "x": [
          "2023-05-09T13:53:00",
          "2023-05-09T13:54:00"
         ],
         "y": [
          142.9274742205896,
          142.9274742205896
         ]
        },
        {
         "line": {
          "color": "red"
         },
         "mode": "lines",
         "name": "SuperTrend Downtrend",
         "showlegend": false,
         "type": "scatter",
         "x": [
          "2023-05-09T13:54:00",
          "2023-05-09T13:55:00"
         ],
         "y": [
          142.9274742205896,
          142.9274742205896
         ]
        },
        {
         "line": {
          "color": "red"
         },
         "mode": "lines",
         "name": "SuperTrend Downtrend",
         "showlegend": false,
         "type": "scatter",
         "x": [
          "2023-05-09T13:55:00",
          "2023-05-09T13:56:00"
         ],
         "y": [
          142.9274742205896,
          142.9274742205896
         ]
        },
        {
         "line": {
          "color": "red"
         },
         "mode": "lines",
         "name": "SuperTrend Downtrend",
         "showlegend": false,
         "type": "scatter",
         "x": [
          "2023-05-09T13:56:00",
          "2023-05-09T13:57:00"
         ],
         "y": [
          142.9274742205896,
          142.9274742205896
         ]
        },
        {
         "line": {
          "color": "red"
         },
         "mode": "lines",
         "name": "SuperTrend Downtrend",
         "showlegend": false,
         "type": "scatter",
         "x": [
          "2023-05-09T13:57:00",
          "2023-05-09T13:58:00"
         ],
         "y": [
          142.9274742205896,
          142.9274742205896
         ]
        },
        {
         "line": {
          "color": "red"
         },
         "mode": "lines",
         "name": "SuperTrend Downtrend",
         "showlegend": false,
         "type": "scatter",
         "x": [
          "2023-05-09T13:58:00",
          "2023-05-09T13:59:00"
         ],
         "y": [
          142.9274742205896,
          142.9274742205896
         ]
        },
        {
         "line": {
          "color": "red"
         },
         "mode": "lines",
         "name": "SuperTrend Downtrend",
         "showlegend": false,
         "type": "scatter",
         "x": [
          "2023-05-09T13:59:00",
          "2023-05-09T14:00:00"
         ],
         "y": [
          142.9274742205896,
          142.9274742205896
         ]
        },
        {
         "line": {
          "color": "red"
         },
         "mode": "lines",
         "name": "SuperTrend Downtrend",
         "showlegend": false,
         "type": "scatter",
         "x": [
          "2023-05-09T14:00:00",
          "2023-05-09T14:01:00"
         ],
         "y": [
          142.9274742205896,
          142.9274742205896
         ]
        },
        {
         "line": {
          "color": "red"
         },
         "mode": "lines",
         "name": "SuperTrend Downtrend",
         "showlegend": false,
         "type": "scatter",
         "x": [
          "2023-05-09T14:01:00",
          "2023-05-09T14:02:00"
         ],
         "y": [
          142.9274742205896,
          142.9274742205896
         ]
        },
        {
         "line": {
          "color": "red"
         },
         "mode": "lines",
         "name": "SuperTrend Downtrend",
         "showlegend": false,
         "type": "scatter",
         "x": [
          "2023-05-09T14:02:00",
          "2023-05-09T14:03:00"
         ],
         "y": [
          142.9274742205896,
          142.9274742205896
         ]
        },
        {
         "line": {
          "color": "red"
         },
         "mode": "lines",
         "name": "SuperTrend Downtrend",
         "showlegend": false,
         "type": "scatter",
         "x": [
          "2023-05-09T14:03:00",
          "2023-05-09T14:04:00"
         ],
         "y": [
          142.9274742205896,
          142.9274742205896
         ]
        },
        {
         "line": {
          "color": "red"
         },
         "mode": "lines",
         "name": "SuperTrend Downtrend",
         "showlegend": false,
         "type": "scatter",
         "x": [
          "2023-05-09T14:04:00",
          "2023-05-09T14:05:00"
         ],
         "y": [
          142.9274742205896,
          142.9274742205896
         ]
        },
        {
         "line": {
          "color": "red"
         },
         "mode": "lines",
         "name": "SuperTrend Downtrend",
         "showlegend": false,
         "type": "scatter",
         "x": [
          "2023-05-09T14:05:00",
          "2023-05-09T14:06:00"
         ],
         "y": [
          142.9274742205896,
          142.9274742205896
         ]
        },
        {
         "line": {
          "color": "red"
         },
         "mode": "lines",
         "name": "SuperTrend Downtrend",
         "showlegend": false,
         "type": "scatter",
         "x": [
          "2023-05-09T14:06:00",
          "2023-05-09T14:07:00"
         ],
         "y": [
          142.9274742205896,
          142.9274742205896
         ]
        },
        {
         "line": {
          "color": "red"
         },
         "mode": "lines",
         "name": "SuperTrend Downtrend",
         "showlegend": false,
         "type": "scatter",
         "x": [
          "2023-05-09T14:07:00",
          "2023-05-09T14:08:00"
         ],
         "y": [
          142.9274742205896,
          142.9274742205896
         ]
        },
        {
         "line": {
          "color": "red"
         },
         "mode": "lines",
         "name": "SuperTrend Downtrend",
         "showlegend": false,
         "type": "scatter",
         "x": [
          "2023-05-09T14:08:00",
          "2023-05-09T14:09:00"
         ],
         "y": [
          142.9274742205896,
          142.9274742205896
         ]
        },
        {
         "line": {
          "color": "red"
         },
         "mode": "lines",
         "name": "SuperTrend Downtrend",
         "showlegend": false,
         "type": "scatter",
         "x": [
          "2023-05-09T14:09:00",
          "2023-05-09T14:10:00"
         ],
         "y": [
          142.9274742205896,
          142.9274742205896
         ]
        },
        {
         "line": {
          "color": "red"
         },
         "mode": "lines",
         "name": "SuperTrend Downtrend",
         "showlegend": false,
         "type": "scatter",
         "x": [
          "2023-05-09T14:10:00",
          "2023-05-09T14:11:00"
         ],
         "y": [
          142.9274742205896,
          142.9274742205896
         ]
        },
        {
         "line": {
          "color": "red"
         },
         "mode": "lines",
         "name": "SuperTrend Downtrend",
         "showlegend": false,
         "type": "scatter",
         "x": [
          "2023-05-09T14:11:00",
          "2023-05-09T14:12:00"
         ],
         "y": [
          142.9274742205896,
          142.9274742205896
         ]
        },
        {
         "line": {
          "color": "red"
         },
         "mode": "lines",
         "name": "SuperTrend Downtrend",
         "showlegend": false,
         "type": "scatter",
         "x": [
          "2023-05-09T14:12:00",
          "2023-05-09T14:13:00"
         ],
         "y": [
          142.9274742205896,
          142.9274742205896
         ]
        },
        {
         "line": {
          "color": "red"
         },
         "mode": "lines",
         "name": "SuperTrend Downtrend",
         "showlegend": false,
         "type": "scatter",
         "x": [
          "2023-05-09T14:13:00",
          "2023-05-09T14:14:00"
         ],
         "y": [
          142.9274742205896,
          142.9274742205896
         ]
        },
        {
         "line": {
          "color": "red"
         },
         "mode": "lines",
         "name": "SuperTrend Downtrend",
         "showlegend": false,
         "type": "scatter",
         "x": [
          "2023-05-09T14:14:00",
          "2023-05-09T14:15:00"
         ],
         "y": [
          142.9274742205896,
          142.9274742205896
         ]
        },
        {
         "line": {
          "color": "red"
         },
         "mode": "lines",
         "name": "SuperTrend Downtrend",
         "showlegend": false,
         "type": "scatter",
         "x": [
          "2023-05-09T14:15:00",
          "2023-05-09T14:16:00"
         ],
         "y": [
          142.9274742205896,
          142.9274742205896
         ]
        },
        {
         "line": {
          "color": "red"
         },
         "mode": "lines",
         "name": "SuperTrend Downtrend",
         "showlegend": false,
         "type": "scatter",
         "x": [
          "2023-05-09T14:16:00",
          "2023-05-09T14:17:00"
         ],
         "y": [
          142.9274742205896,
          142.9274742205896
         ]
        },
        {
         "line": {
          "color": "red"
         },
         "mode": "lines",
         "name": "SuperTrend Downtrend",
         "showlegend": false,
         "type": "scatter",
         "x": [
          "2023-05-09T14:17:00",
          "2023-05-09T14:18:00"
         ],
         "y": [
          142.9274742205896,
          142.9274742205896
         ]
        },
        {
         "line": {
          "color": "red"
         },
         "mode": "lines",
         "name": "SuperTrend Downtrend",
         "showlegend": false,
         "type": "scatter",
         "x": [
          "2023-05-09T14:18:00",
          "2023-05-09T14:19:00"
         ],
         "y": [
          142.9274742205896,
          142.9274742205896
         ]
        },
        {
         "line": {
          "color": "red"
         },
         "mode": "lines",
         "name": "SuperTrend Downtrend",
         "showlegend": false,
         "type": "scatter",
         "x": [
          "2023-05-09T14:19:00",
          "2023-05-09T14:20:00"
         ],
         "y": [
          142.9274742205896,
          142.9274742205896
         ]
        },
        {
         "line": {
          "color": "red"
         },
         "mode": "lines",
         "name": "SuperTrend Downtrend",
         "showlegend": false,
         "type": "scatter",
         "x": [
          "2023-05-09T14:20:00",
          "2023-05-09T14:21:00"
         ],
         "y": [
          142.9274742205896,
          142.9274742205896
         ]
        },
        {
         "line": {
          "color": "red"
         },
         "mode": "lines",
         "name": "SuperTrend Downtrend",
         "showlegend": false,
         "type": "scatter",
         "x": [
          "2023-05-09T14:21:00",
          "2023-05-09T14:22:00"
         ],
         "y": [
          142.9274742205896,
          142.9274742205896
         ]
        },
        {
         "line": {
          "color": "red"
         },
         "mode": "lines",
         "name": "SuperTrend Downtrend",
         "showlegend": false,
         "type": "scatter",
         "x": [
          "2023-05-09T14:22:00",
          "2023-05-09T14:23:00"
         ],
         "y": [
          142.9274742205896,
          142.9274742205896
         ]
        },
        {
         "line": {
          "color": "red"
         },
         "mode": "lines",
         "name": "SuperTrend Downtrend",
         "showlegend": false,
         "type": "scatter",
         "x": [
          "2023-05-09T14:23:00",
          "2023-05-09T14:24:00"
         ],
         "y": [
          142.9274742205896,
          142.9274742205896
         ]
        },
        {
         "line": {
          "color": "red"
         },
         "mode": "lines",
         "name": "SuperTrend Downtrend",
         "showlegend": false,
         "type": "scatter",
         "x": [
          "2023-05-09T14:24:00",
          "2023-05-09T14:25:00"
         ],
         "y": [
          142.9274742205896,
          142.9274742205896
         ]
        },
        {
         "line": {
          "color": "red"
         },
         "mode": "lines",
         "name": "SuperTrend Downtrend",
         "showlegend": false,
         "type": "scatter",
         "x": [
          "2023-05-09T14:25:00",
          "2023-05-09T14:26:00"
         ],
         "y": [
          142.9274742205896,
          142.9274742205896
         ]
        },
        {
         "line": {
          "color": "red"
         },
         "mode": "lines",
         "name": "SuperTrend Downtrend",
         "showlegend": false,
         "type": "scatter",
         "x": [
          "2023-05-09T14:26:00",
          "2023-05-09T14:27:00"
         ],
         "y": [
          142.9274742205896,
          142.9274742205896
         ]
        },
        {
         "line": {
          "color": "red"
         },
         "mode": "lines",
         "name": "SuperTrend Downtrend",
         "showlegend": false,
         "type": "scatter",
         "x": [
          "2023-05-09T14:27:00",
          "2023-05-09T14:28:00"
         ],
         "y": [
          142.9274742205896,
          142.9274742205896
         ]
        },
        {
         "line": {
          "color": "red"
         },
         "mode": "lines",
         "name": "SuperTrend Downtrend",
         "showlegend": false,
         "type": "scatter",
         "x": [
          "2023-05-09T14:28:00",
          "2023-05-09T14:29:00"
         ],
         "y": [
          142.9274742205896,
          142.9274742205896
         ]
        },
        {
         "line": {
          "color": "red"
         },
         "mode": "lines",
         "name": "SuperTrend Downtrend",
         "showlegend": false,
         "type": "scatter",
         "x": [
          "2023-05-09T14:29:00",
          "2023-05-09T14:30:00"
         ],
         "y": [
          142.9274742205896,
          142.9274742205896
         ]
        },
        {
         "line": {
          "color": "red"
         },
         "mode": "lines",
         "name": "SuperTrend Downtrend",
         "showlegend": false,
         "type": "scatter",
         "x": [
          "2023-05-09T14:30:00",
          "2023-05-09T14:31:00"
         ],
         "y": [
          142.9274742205896,
          142.9274742205896
         ]
        },
        {
         "line": {
          "color": "red"
         },
         "mode": "lines",
         "name": "SuperTrend Downtrend",
         "showlegend": false,
         "type": "scatter",
         "x": [
          "2023-05-09T14:31:00",
          "2023-05-09T14:32:00"
         ],
         "y": [
          142.9274742205896,
          142.9274742205896
         ]
        },
        {
         "line": {
          "color": "red"
         },
         "mode": "lines",
         "name": "SuperTrend Downtrend",
         "showlegend": false,
         "type": "scatter",
         "x": [
          "2023-05-09T14:32:00",
          "2023-05-09T14:33:00"
         ],
         "y": [
          142.9274742205896,
          142.9274742205896
         ]
        },
        {
         "line": {
          "color": "red"
         },
         "mode": "lines",
         "name": "SuperTrend Downtrend",
         "showlegend": false,
         "type": "scatter",
         "x": [
          "2023-05-09T14:33:00",
          "2023-05-09T14:34:00"
         ],
         "y": [
          142.9274742205896,
          142.9274742205896
         ]
        },
        {
         "line": {
          "color": "red"
         },
         "mode": "lines",
         "name": "SuperTrend Downtrend",
         "showlegend": false,
         "type": "scatter",
         "x": [
          "2023-05-09T14:34:00",
          "2023-05-09T14:35:00"
         ],
         "y": [
          142.9274742205896,
          142.9274742205896
         ]
        },
        {
         "line": {
          "color": "red"
         },
         "mode": "lines",
         "name": "SuperTrend Downtrend",
         "showlegend": false,
         "type": "scatter",
         "x": [
          "2023-05-09T14:35:00",
          "2023-05-09T14:36:00"
         ],
         "y": [
          142.9274742205896,
          142.9274742205896
         ]
        },
        {
         "line": {
          "color": "red"
         },
         "mode": "lines",
         "name": "SuperTrend Downtrend",
         "showlegend": false,
         "type": "scatter",
         "x": [
          "2023-05-09T14:36:00",
          "2023-05-09T14:37:00"
         ],
         "y": [
          142.9274742205896,
          142.9274742205896
         ]
        },
        {
         "line": {
          "color": "red"
         },
         "mode": "lines",
         "name": "SuperTrend Downtrend",
         "showlegend": false,
         "type": "scatter",
         "x": [
          "2023-05-09T14:37:00",
          "2023-05-09T14:38:00"
         ],
         "y": [
          142.9274742205896,
          142.9274742205896
         ]
        },
        {
         "line": {
          "color": "red"
         },
         "mode": "lines",
         "name": "SuperTrend Downtrend",
         "showlegend": false,
         "type": "scatter",
         "x": [
          "2023-05-09T14:38:00",
          "2023-05-09T14:39:00"
         ],
         "y": [
          142.9274742205896,
          142.9274742205896
         ]
        },
        {
         "line": {
          "color": "red"
         },
         "mode": "lines",
         "name": "SuperTrend Downtrend",
         "showlegend": false,
         "type": "scatter",
         "x": [
          "2023-05-09T14:39:00",
          "2023-05-09T14:40:00"
         ],
         "y": [
          142.9274742205896,
          142.9274742205896
         ]
        },
        {
         "line": {
          "color": "red"
         },
         "mode": "lines",
         "name": "SuperTrend Downtrend",
         "showlegend": false,
         "type": "scatter",
         "x": [
          "2023-05-09T14:40:00",
          "2023-05-09T14:41:00"
         ],
         "y": [
          142.9274742205896,
          142.9274742205896
         ]
        },
        {
         "line": {
          "color": "red"
         },
         "mode": "lines",
         "name": "SuperTrend Downtrend",
         "showlegend": false,
         "type": "scatter",
         "x": [
          "2023-05-09T14:41:00",
          "2023-05-09T14:42:00"
         ],
         "y": [
          142.9274742205896,
          142.9274742205896
         ]
        },
        {
         "line": {
          "color": "red"
         },
         "mode": "lines",
         "name": "SuperTrend Downtrend",
         "showlegend": false,
         "type": "scatter",
         "x": [
          "2023-05-09T14:42:00",
          "2023-05-09T14:43:00"
         ],
         "y": [
          142.9274742205896,
          142.9274742205896
         ]
        },
        {
         "line": {
          "color": "red"
         },
         "mode": "lines",
         "name": "SuperTrend Downtrend",
         "showlegend": false,
         "type": "scatter",
         "x": [
          "2023-05-09T14:43:00",
          "2023-05-09T14:44:00"
         ],
         "y": [
          142.9274742205896,
          142.9274742205896
         ]
        },
        {
         "line": {
          "color": "red"
         },
         "mode": "lines",
         "name": "SuperTrend Downtrend",
         "showlegend": false,
         "type": "scatter",
         "x": [
          "2023-05-09T14:44:00",
          "2023-05-09T14:45:00"
         ],
         "y": [
          142.9274742205896,
          142.9274742205896
         ]
        },
        {
         "line": {
          "color": "red"
         },
         "mode": "lines",
         "name": "SuperTrend Downtrend",
         "showlegend": false,
         "type": "scatter",
         "x": [
          "2023-05-09T14:45:00",
          "2023-05-09T14:46:00"
         ],
         "y": [
          142.9274742205896,
          142.9274742205896
         ]
        },
        {
         "line": {
          "color": "red"
         },
         "mode": "lines",
         "name": "SuperTrend Downtrend",
         "showlegend": false,
         "type": "scatter",
         "x": [
          "2023-05-09T14:46:00",
          "2023-05-09T14:47:00"
         ],
         "y": [
          142.9274742205896,
          142.9274742205896
         ]
        },
        {
         "line": {
          "color": "red"
         },
         "mode": "lines",
         "name": "SuperTrend Downtrend",
         "showlegend": false,
         "type": "scatter",
         "x": [
          "2023-05-09T14:47:00",
          "2023-05-09T14:48:00"
         ],
         "y": [
          142.9274742205896,
          142.9274742205896
         ]
        },
        {
         "line": {
          "color": "red"
         },
         "mode": "lines",
         "name": "SuperTrend Downtrend",
         "showlegend": false,
         "type": "scatter",
         "x": [
          "2023-05-09T14:48:00",
          "2023-05-09T14:49:00"
         ],
         "y": [
          142.9274742205896,
          142.9274742205896
         ]
        },
        {
         "line": {
          "color": "red"
         },
         "mode": "lines",
         "name": "SuperTrend Downtrend",
         "showlegend": false,
         "type": "scatter",
         "x": [
          "2023-05-09T14:49:00",
          "2023-05-09T14:50:00"
         ],
         "y": [
          142.9274742205896,
          142.9274742205896
         ]
        },
        {
         "line": {
          "color": "red"
         },
         "mode": "lines",
         "name": "SuperTrend Downtrend",
         "showlegend": false,
         "type": "scatter",
         "x": [
          "2023-05-09T14:50:00",
          "2023-05-09T14:51:00"
         ],
         "y": [
          142.9274742205896,
          142.9274742205896
         ]
        },
        {
         "line": {
          "color": "red"
         },
         "mode": "lines",
         "name": "SuperTrend Downtrend",
         "showlegend": false,
         "type": "scatter",
         "x": [
          "2023-05-09T14:51:00",
          "2023-05-09T14:52:00"
         ],
         "y": [
          142.9274742205896,
          142.9274742205896
         ]
        },
        {
         "line": {
          "color": "red"
         },
         "mode": "lines",
         "name": "SuperTrend Downtrend",
         "showlegend": false,
         "type": "scatter",
         "x": [
          "2023-05-09T14:52:00",
          "2023-05-09T14:53:00"
         ],
         "y": [
          142.9274742205896,
          142.9274742205896
         ]
        },
        {
         "line": {
          "color": "red"
         },
         "mode": "lines",
         "name": "SuperTrend Downtrend",
         "showlegend": false,
         "type": "scatter",
         "x": [
          "2023-05-09T14:53:00",
          "2023-05-09T14:54:00"
         ],
         "y": [
          142.9274742205896,
          142.9274742205896
         ]
        },
        {
         "line": {
          "color": "red"
         },
         "mode": "lines",
         "name": "SuperTrend Downtrend",
         "showlegend": false,
         "type": "scatter",
         "x": [
          "2023-05-09T14:54:00",
          "2023-05-09T14:55:00"
         ],
         "y": [
          142.9274742205896,
          142.9274742205896
         ]
        },
        {
         "line": {
          "color": "red"
         },
         "mode": "lines",
         "name": "SuperTrend Downtrend",
         "showlegend": false,
         "type": "scatter",
         "x": [
          "2023-05-09T14:55:00",
          "2023-05-09T14:56:00"
         ],
         "y": [
          142.9274742205896,
          142.9274742205896
         ]
        },
        {
         "line": {
          "color": "red"
         },
         "mode": "lines",
         "name": "SuperTrend Downtrend",
         "showlegend": false,
         "type": "scatter",
         "x": [
          "2023-05-09T14:56:00",
          "2023-05-09T14:57:00"
         ],
         "y": [
          142.9274742205896,
          142.9274742205896
         ]
        },
        {
         "line": {
          "color": "red"
         },
         "mode": "lines",
         "name": "SuperTrend Downtrend",
         "showlegend": false,
         "type": "scatter",
         "x": [
          "2023-05-09T14:57:00",
          "2023-05-09T14:58:00"
         ],
         "y": [
          142.9274742205896,
          142.9274742205896
         ]
        },
        {
         "line": {
          "color": "red"
         },
         "mode": "lines",
         "name": "SuperTrend Downtrend",
         "showlegend": false,
         "type": "scatter",
         "x": [
          "2023-05-09T14:58:00",
          "2023-05-09T14:59:00"
         ],
         "y": [
          142.9274742205896,
          142.9274742205896
         ]
        },
        {
         "line": {
          "color": "red"
         },
         "mode": "lines",
         "name": "SuperTrend Downtrend",
         "showlegend": false,
         "type": "scatter",
         "x": [
          "2023-05-09T14:59:00",
          "2023-05-09T15:00:00"
         ],
         "y": [
          142.9274742205896,
          142.9274742205896
         ]
        },
        {
         "line": {
          "color": "red"
         },
         "mode": "lines",
         "name": "SuperTrend Downtrend",
         "showlegend": false,
         "type": "scatter",
         "x": [
          "2023-05-09T15:00:00",
          "2023-05-09T15:01:00"
         ],
         "y": [
          142.9274742205896,
          142.9274742205896
         ]
        },
        {
         "line": {
          "color": "red"
         },
         "mode": "lines",
         "name": "SuperTrend Downtrend",
         "showlegend": false,
         "type": "scatter",
         "x": [
          "2023-05-09T15:01:00",
          "2023-05-09T15:02:00"
         ],
         "y": [
          142.9274742205896,
          142.9274742205896
         ]
        },
        {
         "line": {
          "color": "red"
         },
         "mode": "lines",
         "name": "SuperTrend Downtrend",
         "showlegend": false,
         "type": "scatter",
         "x": [
          "2023-05-09T15:02:00",
          "2023-05-09T15:03:00"
         ],
         "y": [
          142.9274742205896,
          142.9274742205896
         ]
        },
        {
         "line": {
          "color": "red"
         },
         "mode": "lines",
         "name": "SuperTrend Downtrend",
         "showlegend": false,
         "type": "scatter",
         "x": [
          "2023-05-09T15:03:00",
          "2023-05-09T15:04:00"
         ],
         "y": [
          142.9274742205896,
          142.9274742205896
         ]
        },
        {
         "line": {
          "color": "red"
         },
         "mode": "lines",
         "name": "SuperTrend Downtrend",
         "showlegend": false,
         "type": "scatter",
         "x": [
          "2023-05-09T15:04:00",
          "2023-05-09T15:05:00"
         ],
         "y": [
          142.9274742205896,
          142.9274742205896
         ]
        },
        {
         "line": {
          "color": "red"
         },
         "mode": "lines",
         "name": "SuperTrend Downtrend",
         "showlegend": false,
         "type": "scatter",
         "x": [
          "2023-05-09T15:05:00",
          "2023-05-09T15:06:00"
         ],
         "y": [
          142.9274742205896,
          142.9274742205896
         ]
        },
        {
         "line": {
          "color": "red"
         },
         "mode": "lines",
         "name": "SuperTrend Downtrend",
         "showlegend": false,
         "type": "scatter",
         "x": [
          "2023-05-09T15:06:00",
          "2023-05-09T15:07:00"
         ],
         "y": [
          142.9274742205896,
          142.9274742205896
         ]
        },
        {
         "line": {
          "color": "red"
         },
         "mode": "lines",
         "name": "SuperTrend Downtrend",
         "showlegend": false,
         "type": "scatter",
         "x": [
          "2023-05-09T15:07:00",
          "2023-05-09T15:08:00"
         ],
         "y": [
          142.9274742205896,
          142.9274742205896
         ]
        },
        {
         "line": {
          "color": "red"
         },
         "mode": "lines",
         "name": "SuperTrend Downtrend",
         "showlegend": false,
         "type": "scatter",
         "x": [
          "2023-05-09T15:08:00",
          "2023-05-09T15:09:00"
         ],
         "y": [
          142.9274742205896,
          142.9274742205896
         ]
        },
        {
         "line": {
          "color": "red"
         },
         "mode": "lines",
         "name": "SuperTrend Downtrend",
         "showlegend": false,
         "type": "scatter",
         "x": [
          "2023-05-09T15:09:00",
          "2023-05-09T15:10:00"
         ],
         "y": [
          142.9274742205896,
          142.9274742205896
         ]
        },
        {
         "line": {
          "color": "red"
         },
         "mode": "lines",
         "name": "SuperTrend Downtrend",
         "showlegend": false,
         "type": "scatter",
         "x": [
          "2023-05-09T15:10:00",
          "2023-05-09T15:11:00"
         ],
         "y": [
          142.9274742205896,
          142.9274742205896
         ]
        },
        {
         "line": {
          "color": "red"
         },
         "mode": "lines",
         "name": "SuperTrend Downtrend",
         "showlegend": false,
         "type": "scatter",
         "x": [
          "2023-05-09T15:11:00",
          "2023-05-09T15:12:00"
         ],
         "y": [
          142.9274742205896,
          142.9274742205896
         ]
        },
        {
         "line": {
          "color": "red"
         },
         "mode": "lines",
         "name": "SuperTrend Downtrend",
         "showlegend": false,
         "type": "scatter",
         "x": [
          "2023-05-09T15:12:00",
          "2023-05-09T15:13:00"
         ],
         "y": [
          142.9274742205896,
          142.9274742205896
         ]
        },
        {
         "line": {
          "color": "red"
         },
         "mode": "lines",
         "name": "SuperTrend Downtrend",
         "showlegend": false,
         "type": "scatter",
         "x": [
          "2023-05-09T15:13:00",
          "2023-05-09T15:14:00"
         ],
         "y": [
          142.9274742205896,
          142.9274742205896
         ]
        },
        {
         "line": {
          "color": "red"
         },
         "mode": "lines",
         "name": "SuperTrend Downtrend",
         "showlegend": false,
         "type": "scatter",
         "x": [
          "2023-05-09T15:14:00",
          "2023-05-09T15:15:00"
         ],
         "y": [
          142.9274742205896,
          142.9274742205896
         ]
        },
        {
         "line": {
          "color": "red"
         },
         "mode": "lines",
         "name": "SuperTrend Downtrend",
         "showlegend": false,
         "type": "scatter",
         "x": [
          "2023-05-09T15:15:00",
          "2023-05-09T15:16:00"
         ],
         "y": [
          142.9274742205896,
          142.9274742205896
         ]
        },
        {
         "line": {
          "color": "red"
         },
         "mode": "lines",
         "name": "SuperTrend Downtrend",
         "showlegend": false,
         "type": "scatter",
         "x": [
          "2023-05-09T15:16:00",
          "2023-05-09T15:17:00"
         ],
         "y": [
          142.9274742205896,
          142.9274742205896
         ]
        },
        {
         "line": {
          "color": "red"
         },
         "mode": "lines",
         "name": "SuperTrend Downtrend",
         "showlegend": false,
         "type": "scatter",
         "x": [
          "2023-05-09T15:17:00",
          "2023-05-09T15:18:00"
         ],
         "y": [
          142.9274742205896,
          142.9274742205896
         ]
        },
        {
         "line": {
          "color": "red"
         },
         "mode": "lines",
         "name": "SuperTrend Downtrend",
         "showlegend": false,
         "type": "scatter",
         "x": [
          "2023-05-09T15:18:00",
          "2023-05-09T15:19:00"
         ],
         "y": [
          142.9274742205896,
          142.9274742205896
         ]
        },
        {
         "line": {
          "color": "red"
         },
         "mode": "lines",
         "name": "SuperTrend Downtrend",
         "showlegend": false,
         "type": "scatter",
         "x": [
          "2023-05-09T15:19:00",
          "2023-05-09T15:20:00"
         ],
         "y": [
          142.9274742205896,
          142.9274742205896
         ]
        },
        {
         "line": {
          "color": "red"
         },
         "mode": "lines",
         "name": "SuperTrend Downtrend",
         "showlegend": false,
         "type": "scatter",
         "x": [
          "2023-05-09T15:20:00",
          "2023-05-09T15:21:00"
         ],
         "y": [
          142.9274742205896,
          142.9274742205896
         ]
        },
        {
         "line": {
          "color": "red"
         },
         "mode": "lines",
         "name": "SuperTrend Downtrend",
         "showlegend": false,
         "type": "scatter",
         "x": [
          "2023-05-09T15:21:00",
          "2023-05-09T15:22:00"
         ],
         "y": [
          142.9274742205896,
          142.9274742205896
         ]
        },
        {
         "line": {
          "color": "red"
         },
         "mode": "lines",
         "name": "SuperTrend Downtrend",
         "showlegend": false,
         "type": "scatter",
         "x": [
          "2023-05-09T15:22:00",
          "2023-05-09T15:23:00"
         ],
         "y": [
          142.9274742205896,
          142.9274742205896
         ]
        },
        {
         "line": {
          "color": "red"
         },
         "mode": "lines",
         "name": "SuperTrend Downtrend",
         "showlegend": false,
         "type": "scatter",
         "x": [
          "2023-05-09T15:23:00",
          "2023-05-09T15:24:00"
         ],
         "y": [
          142.9274742205896,
          142.9274742205896
         ]
        },
        {
         "line": {
          "color": "red"
         },
         "mode": "lines",
         "name": "SuperTrend Downtrend",
         "showlegend": false,
         "type": "scatter",
         "x": [
          "2023-05-09T15:24:00",
          "2023-05-09T15:25:00"
         ],
         "y": [
          142.9274742205896,
          142.9274742205896
         ]
        },
        {
         "line": {
          "color": "red"
         },
         "mode": "lines",
         "name": "SuperTrend Downtrend",
         "showlegend": false,
         "type": "scatter",
         "x": [
          "2023-05-09T15:25:00",
          "2023-05-09T15:26:00"
         ],
         "y": [
          142.9274742205896,
          141.85876952592176
         ]
        },
        {
         "line": {
          "color": "red"
         },
         "mode": "lines",
         "name": "SuperTrend Downtrend",
         "showlegend": false,
         "type": "scatter",
         "x": [
          "2023-05-09T15:26:00",
          "2023-05-09T15:27:00"
         ],
         "y": [
          141.85876952592176,
          141.85876952592176
         ]
        },
        {
         "line": {
          "color": "red"
         },
         "mode": "lines",
         "name": "SuperTrend Downtrend",
         "showlegend": false,
         "type": "scatter",
         "x": [
          "2023-05-09T15:27:00",
          "2023-05-09T15:28:00"
         ],
         "y": [
          141.85876952592176,
          140.30844238148038
         ]
        },
        {
         "line": {
          "color": "red"
         },
         "mode": "lines",
         "name": "SuperTrend Downtrend",
         "showlegend": false,
         "type": "scatter",
         "x": [
          "2023-05-09T15:28:00",
          "2023-05-09T15:29:00"
         ],
         "y": [
          140.30844238148038,
          139.95422119074018
         ]
        },
        {
         "line": {
          "color": "red"
         },
         "mode": "lines",
         "name": "SuperTrend Downtrend",
         "showlegend": false,
         "type": "scatter",
         "x": [
          "2023-05-09T15:29:00",
          "2023-05-09T15:30:00"
         ],
         "y": [
          139.95422119074018,
          130.8146105953701
         ]
        },
        {
         "marker": {
          "color": "green",
          "size": 15,
          "symbol": "triangle-up"
         },
         "mode": "markers",
         "name": "Long",
         "type": "scatter",
         "x": [],
         "y": []
        },
        {
         "marker": {
          "color": "green",
          "size": 15,
          "symbol": "star"
         },
         "mode": "markers",
         "name": "Long Cover",
         "type": "scatter",
         "x": [],
         "y": []
        },
        {
         "marker": {
          "color": "red",
          "size": 15,
          "symbol": "triangle-down"
         },
         "mode": "markers",
         "name": "Short Signal",
         "type": "scatter",
         "x": [
          "2023-05-09T10:31:00"
         ],
         "y": [
          130.1
         ]
        },
        {
         "marker": {
          "color": "red",
          "size": 15,
          "symbol": "star"
         },
         "mode": "markers",
         "name": "Short Cover Signal",
         "type": "scatter",
         "x": [
          "2023-05-09T14:59:00"
         ],
         "y": [
          121.6
         ]
        }
       ],
       "layout": {
        "height": 800,
        "plot_bgcolor": "black",
        "shapes": [
         {
          "fillcolor": "white",
          "layer": "below",
          "line": {
           "width": 0
          },
          "opacity": 0.3,
          "type": "rect",
          "x0": "2023-05-08T09:15:00",
          "x1": "2023-05-08T15:30:00",
          "xref": "x",
          "y0": 0,
          "y1": 1,
          "yref": "paper"
         },
         {
          "fillcolor": "#C23B22",
          "layer": "below",
          "line": {
           "width": 0
          },
          "opacity": 0.3,
          "type": "rect",
          "x0": "2023-05-09T09:15:00",
          "x1": "2023-05-09T15:30:00",
          "xref": "x",
          "y0": 0,
          "y1": 1,
          "yref": "paper"
         }
        ],
        "template": {
         "data": {
          "bar": [
           {
            "error_x": {
             "color": "#2a3f5f"
            },
            "error_y": {
             "color": "#2a3f5f"
            },
            "marker": {
             "line": {
              "color": "#E5ECF6",
              "width": 0.5
             },
             "pattern": {
              "fillmode": "overlay",
              "size": 10,
              "solidity": 0.2
             }
            },
            "type": "bar"
           }
          ],
          "barpolar": [
           {
            "marker": {
             "line": {
              "color": "#E5ECF6",
              "width": 0.5
             },
             "pattern": {
              "fillmode": "overlay",
              "size": 10,
              "solidity": 0.2
             }
            },
            "type": "barpolar"
           }
          ],
          "carpet": [
           {
            "aaxis": {
             "endlinecolor": "#2a3f5f",
             "gridcolor": "white",
             "linecolor": "white",
             "minorgridcolor": "white",
             "startlinecolor": "#2a3f5f"
            },
            "baxis": {
             "endlinecolor": "#2a3f5f",
             "gridcolor": "white",
             "linecolor": "white",
             "minorgridcolor": "white",
             "startlinecolor": "#2a3f5f"
            },
            "type": "carpet"
           }
          ],
          "choropleth": [
           {
            "colorbar": {
             "outlinewidth": 0,
             "ticks": ""
            },
            "type": "choropleth"
           }
          ],
          "contour": [
           {
            "colorbar": {
             "outlinewidth": 0,
             "ticks": ""
            },
            "colorscale": [
             [
              0,
              "#0d0887"
             ],
             [
              0.1111111111111111,
              "#46039f"
             ],
             [
              0.2222222222222222,
              "#7201a8"
             ],
             [
              0.3333333333333333,
              "#9c179e"
             ],
             [
              0.4444444444444444,
              "#bd3786"
             ],
             [
              0.5555555555555556,
              "#d8576b"
             ],
             [
              0.6666666666666666,
              "#ed7953"
             ],
             [
              0.7777777777777778,
              "#fb9f3a"
             ],
             [
              0.8888888888888888,
              "#fdca26"
             ],
             [
              1,
              "#f0f921"
             ]
            ],
            "type": "contour"
           }
          ],
          "contourcarpet": [
           {
            "colorbar": {
             "outlinewidth": 0,
             "ticks": ""
            },
            "type": "contourcarpet"
           }
          ],
          "heatmap": [
           {
            "colorbar": {
             "outlinewidth": 0,
             "ticks": ""
            },
            "colorscale": [
             [
              0,
              "#0d0887"
             ],
             [
              0.1111111111111111,
              "#46039f"
             ],
             [
              0.2222222222222222,
              "#7201a8"
             ],
             [
              0.3333333333333333,
              "#9c179e"
             ],
             [
              0.4444444444444444,
              "#bd3786"
             ],
             [
              0.5555555555555556,
              "#d8576b"
             ],
             [
              0.6666666666666666,
              "#ed7953"
             ],
             [
              0.7777777777777778,
              "#fb9f3a"
             ],
             [
              0.8888888888888888,
              "#fdca26"
             ],
             [
              1,
              "#f0f921"
             ]
            ],
            "type": "heatmap"
           }
          ],
          "heatmapgl": [
           {
            "colorbar": {
             "outlinewidth": 0,
             "ticks": ""
            },
            "colorscale": [
             [
              0,
              "#0d0887"
             ],
             [
              0.1111111111111111,
              "#46039f"
             ],
             [
              0.2222222222222222,
              "#7201a8"
             ],
             [
              0.3333333333333333,
              "#9c179e"
             ],
             [
              0.4444444444444444,
              "#bd3786"
             ],
             [
              0.5555555555555556,
              "#d8576b"
             ],
             [
              0.6666666666666666,
              "#ed7953"
             ],
             [
              0.7777777777777778,
              "#fb9f3a"
             ],
             [
              0.8888888888888888,
              "#fdca26"
             ],
             [
              1,
              "#f0f921"
             ]
            ],
            "type": "heatmapgl"
           }
          ],
          "histogram": [
           {
            "marker": {
             "pattern": {
              "fillmode": "overlay",
              "size": 10,
              "solidity": 0.2
             }
            },
            "type": "histogram"
           }
          ],
          "histogram2d": [
           {
            "colorbar": {
             "outlinewidth": 0,
             "ticks": ""
            },
            "colorscale": [
             [
              0,
              "#0d0887"
             ],
             [
              0.1111111111111111,
              "#46039f"
             ],
             [
              0.2222222222222222,
              "#7201a8"
             ],
             [
              0.3333333333333333,
              "#9c179e"
             ],
             [
              0.4444444444444444,
              "#bd3786"
             ],
             [
              0.5555555555555556,
              "#d8576b"
             ],
             [
              0.6666666666666666,
              "#ed7953"
             ],
             [
              0.7777777777777778,
              "#fb9f3a"
             ],
             [
              0.8888888888888888,
              "#fdca26"
             ],
             [
              1,
              "#f0f921"
             ]
            ],
            "type": "histogram2d"
           }
          ],
          "histogram2dcontour": [
           {
            "colorbar": {
             "outlinewidth": 0,
             "ticks": ""
            },
            "colorscale": [
             [
              0,
              "#0d0887"
             ],
             [
              0.1111111111111111,
              "#46039f"
             ],
             [
              0.2222222222222222,
              "#7201a8"
             ],
             [
              0.3333333333333333,
              "#9c179e"
             ],
             [
              0.4444444444444444,
              "#bd3786"
             ],
             [
              0.5555555555555556,
              "#d8576b"
             ],
             [
              0.6666666666666666,
              "#ed7953"
             ],
             [
              0.7777777777777778,
              "#fb9f3a"
             ],
             [
              0.8888888888888888,
              "#fdca26"
             ],
             [
              1,
              "#f0f921"
             ]
            ],
            "type": "histogram2dcontour"
           }
          ],
          "mesh3d": [
           {
            "colorbar": {
             "outlinewidth": 0,
             "ticks": ""
            },
            "type": "mesh3d"
           }
          ],
          "parcoords": [
           {
            "line": {
             "colorbar": {
              "outlinewidth": 0,
              "ticks": ""
             }
            },
            "type": "parcoords"
           }
          ],
          "pie": [
           {
            "automargin": true,
            "type": "pie"
           }
          ],
          "scatter": [
           {
            "fillpattern": {
             "fillmode": "overlay",
             "size": 10,
             "solidity": 0.2
            },
            "type": "scatter"
           }
          ],
          "scatter3d": [
           {
            "line": {
             "colorbar": {
              "outlinewidth": 0,
              "ticks": ""
             }
            },
            "marker": {
             "colorbar": {
              "outlinewidth": 0,
              "ticks": ""
             }
            },
            "type": "scatter3d"
           }
          ],
          "scattercarpet": [
           {
            "marker": {
             "colorbar": {
              "outlinewidth": 0,
              "ticks": ""
             }
            },
            "type": "scattercarpet"
           }
          ],
          "scattergeo": [
           {
            "marker": {
             "colorbar": {
              "outlinewidth": 0,
              "ticks": ""
             }
            },
            "type": "scattergeo"
           }
          ],
          "scattergl": [
           {
            "marker": {
             "colorbar": {
              "outlinewidth": 0,
              "ticks": ""
             }
            },
            "type": "scattergl"
           }
          ],
          "scattermapbox": [
           {
            "marker": {
             "colorbar": {
              "outlinewidth": 0,
              "ticks": ""
             }
            },
            "type": "scattermapbox"
           }
          ],
          "scatterpolar": [
           {
            "marker": {
             "colorbar": {
              "outlinewidth": 0,
              "ticks": ""
             }
            },
            "type": "scatterpolar"
           }
          ],
          "scatterpolargl": [
           {
            "marker": {
             "colorbar": {
              "outlinewidth": 0,
              "ticks": ""
             }
            },
            "type": "scatterpolargl"
           }
          ],
          "scatterternary": [
           {
            "marker": {
             "colorbar": {
              "outlinewidth": 0,
              "ticks": ""
             }
            },
            "type": "scatterternary"
           }
          ],
          "surface": [
           {
            "colorbar": {
             "outlinewidth": 0,
             "ticks": ""
            },
            "colorscale": [
             [
              0,
              "#0d0887"
             ],
             [
              0.1111111111111111,
              "#46039f"
             ],
             [
              0.2222222222222222,
              "#7201a8"
             ],
             [
              0.3333333333333333,
              "#9c179e"
             ],
             [
              0.4444444444444444,
              "#bd3786"
             ],
             [
              0.5555555555555556,
              "#d8576b"
             ],
             [
              0.6666666666666666,
              "#ed7953"
             ],
             [
              0.7777777777777778,
              "#fb9f3a"
             ],
             [
              0.8888888888888888,
              "#fdca26"
             ],
             [
              1,
              "#f0f921"
             ]
            ],
            "type": "surface"
           }
          ],
          "table": [
           {
            "cells": {
             "fill": {
              "color": "#EBF0F8"
             },
             "line": {
              "color": "white"
             }
            },
            "header": {
             "fill": {
              "color": "#C8D4E3"
             },
             "line": {
              "color": "white"
             }
            },
            "type": "table"
           }
          ]
         },
         "layout": {
          "annotationdefaults": {
           "arrowcolor": "#2a3f5f",
           "arrowhead": 0,
           "arrowwidth": 1
          },
          "autotypenumbers": "strict",
          "coloraxis": {
           "colorbar": {
            "outlinewidth": 0,
            "ticks": ""
           }
          },
          "colorscale": {
           "diverging": [
            [
             0,
             "#8e0152"
            ],
            [
             0.1,
             "#c51b7d"
            ],
            [
             0.2,
             "#de77ae"
            ],
            [
             0.3,
             "#f1b6da"
            ],
            [
             0.4,
             "#fde0ef"
            ],
            [
             0.5,
             "#f7f7f7"
            ],
            [
             0.6,
             "#e6f5d0"
            ],
            [
             0.7,
             "#b8e186"
            ],
            [
             0.8,
             "#7fbc41"
            ],
            [
             0.9,
             "#4d9221"
            ],
            [
             1,
             "#276419"
            ]
           ],
           "sequential": [
            [
             0,
             "#0d0887"
            ],
            [
             0.1111111111111111,
             "#46039f"
            ],
            [
             0.2222222222222222,
             "#7201a8"
            ],
            [
             0.3333333333333333,
             "#9c179e"
            ],
            [
             0.4444444444444444,
             "#bd3786"
            ],
            [
             0.5555555555555556,
             "#d8576b"
            ],
            [
             0.6666666666666666,
             "#ed7953"
            ],
            [
             0.7777777777777778,
             "#fb9f3a"
            ],
            [
             0.8888888888888888,
             "#fdca26"
            ],
            [
             1,
             "#f0f921"
            ]
           ],
           "sequentialminus": [
            [
             0,
             "#0d0887"
            ],
            [
             0.1111111111111111,
             "#46039f"
            ],
            [
             0.2222222222222222,
             "#7201a8"
            ],
            [
             0.3333333333333333,
             "#9c179e"
            ],
            [
             0.4444444444444444,
             "#bd3786"
            ],
            [
             0.5555555555555556,
             "#d8576b"
            ],
            [
             0.6666666666666666,
             "#ed7953"
            ],
            [
             0.7777777777777778,
             "#fb9f3a"
            ],
            [
             0.8888888888888888,
             "#fdca26"
            ],
            [
             1,
             "#f0f921"
            ]
           ]
          },
          "colorway": [
           "#636efa",
           "#EF553B",
           "#00cc96",
           "#ab63fa",
           "#FFA15A",
           "#19d3f3",
           "#FF6692",
           "#B6E880",
           "#FF97FF",
           "#FECB52"
          ],
          "font": {
           "color": "#2a3f5f"
          },
          "geo": {
           "bgcolor": "white",
           "lakecolor": "white",
           "landcolor": "#E5ECF6",
           "showlakes": true,
           "showland": true,
           "subunitcolor": "white"
          },
          "hoverlabel": {
           "align": "left"
          },
          "hovermode": "closest",
          "mapbox": {
           "style": "light"
          },
          "paper_bgcolor": "white",
          "plot_bgcolor": "#E5ECF6",
          "polar": {
           "angularaxis": {
            "gridcolor": "white",
            "linecolor": "white",
            "ticks": ""
           },
           "bgcolor": "#E5ECF6",
           "radialaxis": {
            "gridcolor": "white",
            "linecolor": "white",
            "ticks": ""
           }
          },
          "scene": {
           "xaxis": {
            "backgroundcolor": "#E5ECF6",
            "gridcolor": "white",
            "gridwidth": 2,
            "linecolor": "white",
            "showbackground": true,
            "ticks": "",
            "zerolinecolor": "white"
           },
           "yaxis": {
            "backgroundcolor": "#E5ECF6",
            "gridcolor": "white",
            "gridwidth": 2,
            "linecolor": "white",
            "showbackground": true,
            "ticks": "",
            "zerolinecolor": "white"
           },
           "zaxis": {
            "backgroundcolor": "#E5ECF6",
            "gridcolor": "white",
            "gridwidth": 2,
            "linecolor": "white",
            "showbackground": true,
            "ticks": "",
            "zerolinecolor": "white"
           }
          },
          "shapedefaults": {
           "line": {
            "color": "#2a3f5f"
           }
          },
          "ternary": {
           "aaxis": {
            "gridcolor": "white",
            "linecolor": "white",
            "ticks": ""
           },
           "baxis": {
            "gridcolor": "white",
            "linecolor": "white",
            "ticks": ""
           },
           "bgcolor": "#E5ECF6",
           "caxis": {
            "gridcolor": "white",
            "linecolor": "white",
            "ticks": ""
           }
          },
          "title": {
           "x": 0.05
          },
          "xaxis": {
           "automargin": true,
           "gridcolor": "white",
           "linecolor": "white",
           "ticks": "",
           "title": {
            "standoff": 15
           },
           "zerolinecolor": "white",
           "zerolinewidth": 2
          },
          "yaxis": {
           "automargin": true,
           "gridcolor": "white",
           "linecolor": "white",
           "ticks": "",
           "title": {
            "standoff": 15
           },
           "zerolinecolor": "white",
           "zerolinewidth": 2
          }
         }
        },
        "title": {
         "text": "AmiPy_NF"
        },
        "xaxis": {
         "dtick": "60 * 60 * 1000",
         "gridcolor": "rgba(128, 128, 128, 0.1)",
         "hoverformat": "%Y-%m-%d %H:%M",
         "rangebreaks": [
          {
           "bounds": [
            "sat",
            "mon"
           ]
          },
          {
           "bounds": [
            0,
            9.25
           ],
           "pattern": "hour"
          },
          {
           "bounds": [
            15.5,
            24
           ],
           "pattern": "hour"
          }
         ],
         "showgrid": true,
         "tickformat": "%Y-%m-%d %H:%M"
        },
        "yaxis": {
         "automargin": true,
         "autorange": true,
         "gridcolor": "rgba(128, 128, 128, 0.1)",
         "showgrid": true
        }
       }
      }
     },
     "metadata": {},
     "output_type": "display_data"
    }
   ],
   "source": [
    "plotly_plot(merged_df2)"
   ]
  },
  {
   "cell_type": "code",
   "execution_count": null,
   "metadata": {},
   "outputs": [],
   "source": []
  },
  {
   "cell_type": "code",
   "execution_count": 18,
   "metadata": {},
   "outputs": [
    {
     "name": "stdout",
     "output_type": "stream",
     "text": [
      "      Trade_No Trade_Type       Date TradeEntryTime  TradeEntryPrice   \n",
      "0            1      Short 2023-05-09       10:31:00           130.10  \\\n",
      "1            3      Short 2023-05-08       09:22:00           174.45   \n",
      "2            4       Long 2023-05-08       10:25:00           199.85   \n",
      "3            2      Short 2023-05-05       09:22:00           188.80   \n",
      "4            2      Short 2023-05-04       09:22:00            70.50   \n",
      "...        ...        ...        ...            ...              ...   \n",
      "1527         4       Long 2019-03-07       12:44:00            68.15   \n",
      "1528         5      Short 2019-03-07       13:37:00            45.25   \n",
      "1529         2      Short 2019-03-06       09:22:00            78.55   \n",
      "1530         1      Short 2019-03-05       09:22:00           123.55   \n",
      "1531         3      Short 2019-03-01       09:22:00           179.30   \n",
      "\n",
      "     TradeExitTime  TradeExitPrice  NetTradePoints  \n",
      "0         14:59:00          121.60            8.50  \n",
      "1         10:24:00          200.45          -26.00  \n",
      "2         14:59:00          223.10           23.25  \n",
      "3         14:59:00          177.60           11.20  \n",
      "4         11:39:00           76.00           -5.50  \n",
      "...            ...             ...             ...  \n",
      "1527      13:36:00           49.05          -19.10  \n",
      "1528      14:59:00           31.25           14.00  \n",
      "1529      14:59:00           69.40            9.15  \n",
      "1530      14:57:00          119.85            3.70  \n",
      "1531      14:59:00          158.35           20.95  \n",
      "\n",
      "[1532 rows x 8 columns]\n"
     ]
    }
   ],
   "source": [
    "# Initialize an empty dataframe for the collated signals\n",
    "collated_signals = pd.DataFrame()\n",
    "\n",
    "# Iterate over the data_dict keys\n",
    "for date in data_dict:\n",
    "    signalsdf = data_dict[date]['signalsdf']\n",
    "    \n",
    "    # # Convert 'Date' column to datetime format if it's not already\n",
    "    if not isinstance(signalsdf['Date'].iloc[0], pd.Timestamp):\n",
    "        signalsdf['Date'] = pd.to_datetime(signalsdf['Date'])\n",
    "    \n",
    "    # Filter rows where 'Date' is the same as the 'data_dict' key date\n",
    "    filtered_signals = signalsdf[signalsdf['Date'] == date]\n",
    "\n",
    "    # Append the filtered signals to the collated_signals dataframe\n",
    "    collated_signals = pd.concat([collated_signals, filtered_signals], ignore_index=True)\n",
    "\n",
    "print(collated_signals)\n",
    "collated_signals.to_csv('amiNF_trd_sig_backtest.csv', index=True)\n"
   ]
  }
 ],
 "metadata": {
  "kernelspec": {
   "display_name": "Python 3",
   "language": "python",
   "name": "python3"
  },
  "language_info": {
   "codemirror_mode": {
    "name": "ipython",
    "version": 3
   },
   "file_extension": ".py",
   "mimetype": "text/x-python",
   "name": "python",
   "nbconvert_exporter": "python",
   "pygments_lexer": "ipython3",
   "version": "3.11.2"
  },
  "orig_nbformat": 4
 },
 "nbformat": 4,
 "nbformat_minor": 2
}
